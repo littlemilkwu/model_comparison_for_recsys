{
 "cells": [
  {
   "cell_type": "code",
   "execution_count": 3,
   "metadata": {},
   "outputs": [],
   "source": [
    "import numpy as np\n",
    "import pandas as pd\n",
    "from config import *"
   ]
  },
  {
   "cell_type": "code",
   "execution_count": 4,
   "metadata": {},
   "outputs": [],
   "source": [
    "def filter_interaction(df_inter):\n",
    "    print('origin shape: ', df_inter.shape)\n",
    "    vc_user = df_inter['user_id'].value_counts()\n",
    "    ls_user = vc_user[vc_user >= 3].index\n",
    "    mask = df_inter['user_id'].isin(ls_user)\n",
    "    df_inter = df_inter.loc[mask].reset_index(drop=True)\n",
    "    print('> 3 interactions: ', df_inter.shape)\n",
    "    return df_inter, ls_user"
   ]
  },
  {
   "attachments": {},
   "cell_type": "markdown",
   "metadata": {},
   "source": [
    "## douban book"
   ]
  },
  {
   "cell_type": "code",
   "execution_count": 5,
   "metadata": {},
   "outputs": [
    {
     "name": "stdout",
     "output_type": "stream",
     "text": [
      "origin shape:  (792062, 3)\n",
      "> 3 interactions:  (790197, 3)\n"
     ]
    }
   ],
   "source": [
    "df_douban_inter = pd.read_csv(data_path_douban + 'user_book.dat', sep='\\t', header=None).rename({\n",
    "    0: 'user_id',\n",
    "    1: 'item_id',\n",
    "    2: 'rating',\n",
    "}, axis=1)\n",
    "df_douban_inter = df_douban_inter[['user_id', 'item_id', 'rating']]\n",
    "df_douban_inter['user_id'] = df_douban_inter['user_id'].astype('str')\n",
    "df_douban_inter['item_id'] = df_douban_inter['item_id'].astype('str')\n",
    "df_douban_inter, ls_user_douban = filter_interaction(df_douban_inter)\n",
    "\n",
    "df_douban_inter.to_csv(data_preprocessing + \"douban_inter.csv\", index=False)"
   ]
  },
  {
   "cell_type": "code",
   "execution_count": 6,
   "metadata": {},
   "outputs": [],
   "source": [
    "# multihot\n",
    "df_douban_location = pd.read_csv(data_path_douban + 'user_location.dat', sep='\\t', header=None)\n",
    "df_douban_group = pd.read_csv(data_path_douban + 'user_group.dat', sep='\\t', header=None)"
   ]
  },
  {
   "cell_type": "code",
   "execution_count": null,
   "metadata": {},
   "outputs": [
    {
     "data": {
      "text/html": [
       "<div>\n",
       "<style scoped>\n",
       "    .dataframe tbody tr th:only-of-type {\n",
       "        vertical-align: middle;\n",
       "    }\n",
       "\n",
       "    .dataframe tbody tr th {\n",
       "        vertical-align: top;\n",
       "    }\n",
       "\n",
       "    .dataframe thead th {\n",
       "        text-align: right;\n",
       "    }\n",
       "</style>\n",
       "<table border=\"1\" class=\"dataframe\">\n",
       "  <thead>\n",
       "    <tr style=\"text-align: right;\">\n",
       "      <th></th>\n",
       "      <th>0</th>\n",
       "      <th>1</th>\n",
       "    </tr>\n",
       "  </thead>\n",
       "  <tbody>\n",
       "    <tr>\n",
       "      <th>0</th>\n",
       "      <td>5479</td>\n",
       "      <td>6650</td>\n",
       "    </tr>\n",
       "    <tr>\n",
       "      <th>1</th>\n",
       "      <td>5800</td>\n",
       "      <td>7722</td>\n",
       "    </tr>\n",
       "    <tr>\n",
       "      <th>2</th>\n",
       "      <td>6951</td>\n",
       "      <td>1009</td>\n",
       "    </tr>\n",
       "    <tr>\n",
       "      <th>3</th>\n",
       "      <td>5479</td>\n",
       "      <td>6656</td>\n",
       "    </tr>\n",
       "    <tr>\n",
       "      <th>4</th>\n",
       "      <td>5355</td>\n",
       "      <td>1759</td>\n",
       "    </tr>\n",
       "    <tr>\n",
       "      <th>...</th>\n",
       "      <td>...</td>\n",
       "      <td>...</td>\n",
       "    </tr>\n",
       "    <tr>\n",
       "      <th>169145</th>\n",
       "      <td>9080</td>\n",
       "      <td>8694</td>\n",
       "    </tr>\n",
       "    <tr>\n",
       "      <th>169146</th>\n",
       "      <td>10595</td>\n",
       "      <td>2736</td>\n",
       "    </tr>\n",
       "    <tr>\n",
       "      <th>169147</th>\n",
       "      <td>10315</td>\n",
       "      <td>3837</td>\n",
       "    </tr>\n",
       "    <tr>\n",
       "      <th>169148</th>\n",
       "      <td>5321</td>\n",
       "      <td>11715</td>\n",
       "    </tr>\n",
       "    <tr>\n",
       "      <th>169149</th>\n",
       "      <td>5952</td>\n",
       "      <td>3962</td>\n",
       "    </tr>\n",
       "  </tbody>\n",
       "</table>\n",
       "<p>169150 rows × 2 columns</p>\n",
       "</div>"
      ],
      "text/plain": [
       "            0      1\n",
       "0        5479   6650\n",
       "1        5800   7722\n",
       "2        6951   1009\n",
       "3        5479   6656\n",
       "4        5355   1759\n",
       "...       ...    ...\n",
       "169145   9080   8694\n",
       "169146  10595   2736\n",
       "169147  10315   3837\n",
       "169148   5321  11715\n",
       "169149   5952   3962\n",
       "\n",
       "[169150 rows x 2 columns]"
      ]
     },
     "metadata": {},
     "output_type": "display_data"
    }
   ],
   "source": [
    "df_user_user = pd.read_csv(data_path_douban + 'user_user.dat', sep='\\t', header=None)"
   ]
  },
  {
   "attachments": {},
   "cell_type": "markdown",
   "metadata": {},
   "source": [
    "## movie lens"
   ]
  },
  {
   "cell_type": "code",
   "execution_count": 7,
   "metadata": {},
   "outputs": [
    {
     "name": "stdout",
     "output_type": "stream",
     "text": [
      "origin shape:  (100000, 3)\n",
      "> 3 interactions:  (100000, 3)\n"
     ]
    }
   ],
   "source": [
    "df_movie_inter = pd.read_csv(data_path_movie + 'user_movie.dat', sep='\\t', header=None).rename({\n",
    "    0: 'user_id',\n",
    "    1: 'item_id',\n",
    "    2: 'rating',\n",
    "}, axis=1)\n",
    "df_movie_inter = df_movie_inter[['user_id', 'item_id', 'rating']]\n",
    "df_movie_inter['user_id'] = df_movie_inter['user_id'].astype('str')\n",
    "df_movie_inter['item_id'] = df_movie_inter['item_id'].astype('str')\n",
    "df_movie_inter, ls_user_movie  = filter_interaction(df_movie_inter)\n",
    "\n",
    "df_movie_inter.to_csv(data_preprocessing + \"movie_inter.csv\", index=False)"
   ]
  },
  {
   "attachments": {},
   "cell_type": "markdown",
   "metadata": {},
   "source": [
    "## yelp"
   ]
  },
  {
   "cell_type": "code",
   "execution_count": 8,
   "metadata": {},
   "outputs": [
    {
     "name": "stdout",
     "output_type": "stream",
     "text": [
      "origin shape:  (198397, 3)\n",
      "> 3 interactions:  (188456, 3)\n"
     ]
    }
   ],
   "source": [
    "df_yelp_inter = pd.read_csv(data_path_yelp + 'user_business.dat', sep='\\t', header=None).rename({\n",
    "    0: 'user_id',\n",
    "    1: 'item_id',\n",
    "    2: 'rating',\n",
    "}, axis=1)\n",
    "df_yelp_inter = df_yelp_inter[['user_id', 'item_id', 'rating']]\n",
    "df_yelp_inter['user_id'] = df_yelp_inter['user_id'].astype('str')\n",
    "df_yelp_inter['item_id'] = df_yelp_inter['item_id'].astype('str')\n",
    "df_yelp_inter, ls_user_yelp = filter_interaction(df_yelp_inter)\n",
    "\n",
    "df_yelp_inter.to_csv(data_preprocessing + \"yelp_inter.csv\", index=False)"
   ]
  },
  {
   "cell_type": "code",
   "execution_count": null,
   "metadata": {},
   "outputs": [],
   "source": []
  }
 ],
 "metadata": {
  "kernelspec": {
   "display_name": "jupyterhub",
   "language": "python",
   "name": "python3"
  },
  "language_info": {
   "codemirror_mode": {
    "name": "ipython",
    "version": 3
   },
   "file_extension": ".py",
   "mimetype": "text/x-python",
   "name": "python",
   "nbconvert_exporter": "python",
   "pygments_lexer": "ipython3",
   "version": "3.9.13"
  },
  "orig_nbformat": 4
 },
 "nbformat": 4,
 "nbformat_minor": 2
}
