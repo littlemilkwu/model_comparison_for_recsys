{
 "cells": [
  {
   "cell_type": "code",
   "execution_count": 1,
   "metadata": {},
   "outputs": [],
   "source": [
    "import math\n",
    "import numpy as np\n",
    "import pandas as pd\n",
    "from pprint import pprint\n",
    "from tqdm import tqdm\n",
    "from config import *\n",
    "from collections import defaultdict\n",
    "from sklearn.preprocessing import LabelEncoder\n",
    "from sklearn.model_selection import KFold\n",
    "from sklearn.metrics import mean_squared_error\n",
    "import warnings\n",
    "warnings.filterwarnings('ignore')"
   ]
  },
  {
   "attachments": {},
   "cell_type": "markdown",
   "metadata": {},
   "source": [
    "## Import"
   ]
  },
  {
   "cell_type": "code",
   "execution_count": 2,
   "metadata": {},
   "outputs": [],
   "source": [
    "df_douban_inter = pd.read_csv(data_preprocessing + 'douban_inter.csv', dtype={'user_id': str, 'item_id': str, 'rating': int})\n",
    "df_douban_user_feats = pd.read_csv(data_preprocessing + 'douban_user_features.csv', dtype=str)\n",
    "df_douban_item_feats = pd.read_csv(data_preprocessing + 'douban_item_features.csv', dtype={'item_id': str, 'author': str, 'publisher': str, 'year': str})\n",
    "# df_douban_inter"
   ]
  },
  {
   "cell_type": "code",
   "execution_count": 3,
   "metadata": {},
   "outputs": [],
   "source": [
    "df_movie_inter = pd.read_csv(data_preprocessing + 'movie_inter.csv', dtype={'user_id': str, 'item_id': str, 'rating': int, 'timestamp': int})\n",
    "df_movie_user_feats = pd.read_csv(data_preprocessing + 'movie_user_features.csv', dtype=str)\n",
    "df_movie_item_feats = pd.read_csv(data_preprocessing + 'movie_item_features.csv', dtype=str)\n",
    "# df_movie_inter"
   ]
  },
  {
   "cell_type": "code",
   "execution_count": 4,
   "metadata": {},
   "outputs": [],
   "source": [
    "df_yelp_inter = pd.read_csv(data_preprocessing + 'yelp_inter.csv', dtype={'user_id': str, 'item_id': str, 'rating': int})\n",
    "df_yelp_user_feats = pd.read_csv(data_preprocessing + 'yelp_user_features.csv', dtype=str)\n",
    "df_yelp_item_feats = pd.read_csv(data_preprocessing + 'yelp_item_features.csv', dtype=str)\n",
    "# df_yelp_inter"
   ]
  },
  {
   "attachments": {},
   "cell_type": "markdown",
   "metadata": {},
   "source": [
    "## NN-Based"
   ]
  },
  {
   "cell_type": "code",
   "execution_count": 5,
   "metadata": {},
   "outputs": [],
   "source": [
    "import os\n",
    "os.environ['TF_CPP_MIN_LOG_LEVEL'] = '3'\n",
    "import tensorflow as tf\n",
    "tf.get_logger().setLevel('ERROR')\n",
    "from deepctr.models import FNN, PNN, CCPM, NFM, WDL, DCN, DeepFM\n",
    "from deepctr.models import AFM, xDeepFM, DIN\n",
    "from deepctr.feature_column import SparseFeat, DenseFeat, get_feature_names\n",
    "from tensorflow.keras.callbacks import EarlyStopping, ModelCheckpoint\n"
   ]
  },
  {
   "cell_type": "code",
   "execution_count": 6,
   "metadata": {},
   "outputs": [],
   "source": [
    "Kf = KFold(n_splits=5, random_state=RANDOM_STATE, shuffle=True)\n",
    "# device = torch.device('cuda' if torch.cuda.is_available() else 'cpu')\n",
    "all_result = []"
   ]
  },
  {
   "attachments": {},
   "cell_type": "markdown",
   "metadata": {},
   "source": [
    "## NN-based"
   ]
  },
  {
   "cell_type": "code",
   "execution_count": 7,
   "metadata": {},
   "outputs": [],
   "source": [
    "def get_feature_columns(df_all):\n",
    "    # treat year as categorical\n",
    "    sparse_features = list(df_all.columns[:-1])\n",
    "\n",
    "    df_all[sparse_features] = df_all[sparse_features].fillna('-1')\n",
    "\n",
    "    # 1. label encode\n",
    "    for feat in sparse_features:\n",
    "        lbe = LabelEncoder()\n",
    "        df_all[feat] = lbe.fit_transform(df_all[feat])\n",
    "\n",
    "    # 2. count #unique features for each sparse field\n",
    "    fixlen_feature_columns = [SparseFeat(feat, df_all[feat].nunique()) for feat in sparse_features]\n",
    "    linear_feature_columns = fixlen_feature_columns\n",
    "    dnn_feature_columns = fixlen_feature_columns\n",
    "    feature_names = get_feature_names(linear_feature_columns + dnn_feature_columns)\n",
    "    return linear_feature_columns, dnn_feature_columns, feature_names"
   ]
  },
  {
   "cell_type": "code",
   "execution_count": 8,
   "metadata": {},
   "outputs": [],
   "source": [
    "def calc_nn_evaluate(df_test, pred, k=10, threshold=3.5):\n",
    "    rmse = round(np.sqrt(mean_squared_error(df_test['rating'].values, pred)), 4)\n",
    "    dict_user_ratings = defaultdict(list)\n",
    "    for i, x in df_test.iterrows():\n",
    "        dict_user_ratings[x['user_id']].append((pred[i], x['rating']))\n",
    "    \n",
    "    ls_recall, ls_ndcg = [], []\n",
    "    for user_id, ls_user_rating in dict_user_ratings.items():\n",
    "        ls_user_rating.sort(key=lambda x: x[0], reverse=True)\n",
    "        ls_true_sort = sorted(ls_user_rating, key=lambda x: x[1], reverse=True)\n",
    "        # recall\n",
    "        num_rel = sum(1 for (pred, true_rate) in ls_user_rating if true_rate > threshold)\n",
    "        num_rel_topk = sum(1 for (pred, true_rate) in ls_user_rating[:k] if true_rate > threshold and pred > threshold)\n",
    "        recall = num_rel_topk / num_rel if num_rel !=0 else 0\n",
    "        ls_recall.append(recall)\n",
    "\n",
    "        # ndcg\n",
    "        dcg = sum(true_rate / math.log(i + 2, 2) for i, (pred, true_rate) in enumerate(ls_user_rating[:k]))\n",
    "        idcg = sum(true_rate / math.log(i + 2, 2) for i, (pred, true_rate) in enumerate(ls_true_sort[:k]))\n",
    "        ndcg = dcg / idcg\n",
    "        ls_ndcg.append(ndcg)\n",
    "    \n",
    "    final_recall = round(sum(ls_recall) / len(ls_recall), 4)\n",
    "    final_ndcg = round(sum(ls_ndcg) / len(ls_ndcg), 4)\n",
    "    return [rmse, final_recall, final_ndcg]"
   ]
  },
  {
   "cell_type": "code",
   "execution_count": 9,
   "metadata": {},
   "outputs": [],
   "source": [
    "def calc_nn_based_model(df_all, \n",
    "                        Model, model_params,\n",
    "                        feature_names,\n",
    "                        data_name, model_name):\n",
    "    ls_result = []\n",
    "    for i, (train_idx, test_idx) in enumerate(Kf.split(df_all)):\n",
    "        df_train, df_test = df_all.iloc[train_idx].reset_index(drop=True), df_all.iloc[test_idx].reset_index(drop=True)\n",
    "        train_model_input = {name: df_train[name] for name in feature_names}\n",
    "        test_model_input = {name: df_test[name] for name in feature_names}\n",
    "        model = Model(**model_params)\n",
    "        model.compile('adam', 'mse', metrics=['mse'])\n",
    "        es = EarlyStopping(monitor='val_mse', mode='min', patience=5, restore_best_weights=True)\n",
    "        mdckpt = ModelCheckpoint(filepath=f'./saved_model/tf_{model_name}_{data_name}/', monitor='val_mse', save_best_only=True, mode='min')\n",
    "        history = model.fit(\n",
    "            train_model_input, df_train['rating'].values, \n",
    "            batch_size=BATCH_SIZE, epochs=EPOCHS, verbose=1, validation_split=0.2,\n",
    "            callbacks=[es, mdckpt])\n",
    "        pred = model.predict(test_model_input, batch_size=BATCH_SIZE)\n",
    "        print('test MSE', round(mean_squared_error(df_test['rating'].values, pred), 4))\n",
    "        ls_result.append([model_name, i, data_name] + calc_nn_evaluate(df_test, pred))\n",
    "    return ls_result"
   ]
  },
  {
   "attachments": {},
   "cell_type": "markdown",
   "metadata": {},
   "source": [
    "### douban"
   ]
  },
  {
   "cell_type": "code",
   "execution_count": 10,
   "metadata": {},
   "outputs": [
    {
     "name": "stdout",
     "output_type": "stream",
     "text": [
      "(790197, 7)\n"
     ]
    },
    {
     "data": {
      "text/html": [
       "<div>\n",
       "<style scoped>\n",
       "    .dataframe tbody tr th:only-of-type {\n",
       "        vertical-align: middle;\n",
       "    }\n",
       "\n",
       "    .dataframe tbody tr th {\n",
       "        vertical-align: top;\n",
       "    }\n",
       "\n",
       "    .dataframe thead th {\n",
       "        text-align: right;\n",
       "    }\n",
       "</style>\n",
       "<table border=\"1\" class=\"dataframe\">\n",
       "  <thead>\n",
       "    <tr style=\"text-align: right;\">\n",
       "      <th></th>\n",
       "      <th>user_id</th>\n",
       "      <th>item_id</th>\n",
       "      <th>location</th>\n",
       "      <th>author</th>\n",
       "      <th>publisher</th>\n",
       "      <th>year</th>\n",
       "      <th>rating</th>\n",
       "    </tr>\n",
       "  </thead>\n",
       "  <tbody>\n",
       "    <tr>\n",
       "      <th>0</th>\n",
       "      <td>10855</td>\n",
       "      <td>938</td>\n",
       "      <td>33</td>\n",
       "      <td>4387</td>\n",
       "      <td>944</td>\n",
       "      <td>20</td>\n",
       "      <td>4</td>\n",
       "    </tr>\n",
       "    <tr>\n",
       "      <th>1</th>\n",
       "      <td>10027</td>\n",
       "      <td>3</td>\n",
       "      <td>394</td>\n",
       "      <td>9486</td>\n",
       "      <td>1743</td>\n",
       "      <td>14</td>\n",
       "      <td>3</td>\n",
       "    </tr>\n",
       "    <tr>\n",
       "      <th>2</th>\n",
       "      <td>741</td>\n",
       "      <td>2426</td>\n",
       "      <td>13</td>\n",
       "      <td>10548</td>\n",
       "      <td>1475</td>\n",
       "      <td>21</td>\n",
       "      <td>5</td>\n",
       "    </tr>\n",
       "  </tbody>\n",
       "</table>\n",
       "</div>"
      ],
      "text/plain": [
       "  user_id item_id location author publisher year  rating\n",
       "0   10855     938       33   4387       944   20       4\n",
       "1   10027       3      394   9486      1743   14       3\n",
       "2     741    2426       13  10548      1475   21       5"
      ]
     },
     "execution_count": 10,
     "metadata": {},
     "output_type": "execute_result"
    }
   ],
   "source": [
    "df_douban_all = pd.merge(df_douban_inter, df_douban_user_feats, on='user_id', how='left')\n",
    "df_douban_all = pd.merge(df_douban_all, df_douban_item_feats, on='item_id', how='left')\n",
    "df_douban_all['rating'] = df_douban_all.pop('rating')\n",
    "print(df_douban_all.shape)\n",
    "df_douban_all.head(3)"
   ]
  },
  {
   "cell_type": "code",
   "execution_count": 11,
   "metadata": {},
   "outputs": [
    {
     "data": {
      "text/html": [
       "<div>\n",
       "<style scoped>\n",
       "    .dataframe tbody tr th:only-of-type {\n",
       "        vertical-align: middle;\n",
       "    }\n",
       "\n",
       "    .dataframe tbody tr th {\n",
       "        vertical-align: top;\n",
       "    }\n",
       "\n",
       "    .dataframe thead th {\n",
       "        text-align: right;\n",
       "    }\n",
       "</style>\n",
       "<table border=\"1\" class=\"dataframe\">\n",
       "  <thead>\n",
       "    <tr style=\"text-align: right;\">\n",
       "      <th></th>\n",
       "      <th>user_id</th>\n",
       "      <th>item_id</th>\n",
       "      <th>location</th>\n",
       "      <th>author</th>\n",
       "      <th>publisher</th>\n",
       "      <th>year</th>\n",
       "      <th>rating</th>\n",
       "    </tr>\n",
       "  </thead>\n",
       "  <tbody>\n",
       "    <tr>\n",
       "      <th>0</th>\n",
       "      <td>848</td>\n",
       "      <td>21659</td>\n",
       "      <td>244</td>\n",
       "      <td>4571</td>\n",
       "      <td>1755</td>\n",
       "      <td>13</td>\n",
       "      <td>4</td>\n",
       "    </tr>\n",
       "    <tr>\n",
       "      <th>1</th>\n",
       "      <td>30</td>\n",
       "      <td>14570</td>\n",
       "      <td>313</td>\n",
       "      <td>10236</td>\n",
       "      <td>828</td>\n",
       "      <td>6</td>\n",
       "      <td>3</td>\n",
       "    </tr>\n",
       "    <tr>\n",
       "      <th>2</th>\n",
       "      <td>9117</td>\n",
       "      <td>13934</td>\n",
       "      <td>32</td>\n",
       "      <td>612</td>\n",
       "      <td>530</td>\n",
       "      <td>14</td>\n",
       "      <td>5</td>\n",
       "    </tr>\n",
       "  </tbody>\n",
       "</table>\n",
       "</div>"
      ],
      "text/plain": [
       "   user_id  item_id  location  author  publisher  year  rating\n",
       "0      848    21659       244    4571       1755    13       4\n",
       "1       30    14570       313   10236        828     6       3\n",
       "2     9117    13934        32     612        530    14       5"
      ]
     },
     "execution_count": 11,
     "metadata": {},
     "output_type": "execute_result"
    }
   ],
   "source": [
    "linear_feature_columns, dnn_feature_columns, feature_names = get_feature_columns(df_douban_all)\n",
    "df_douban_all.head(3)"
   ]
  },
  {
   "cell_type": "code",
   "execution_count": 12,
   "metadata": {},
   "outputs": [
    {
     "name": "stdout",
     "output_type": "stream",
     "text": [
      "Epoch 1/30\n",
      "1976/1976 [==============================] - 16s 7ms/step - loss: 0.7376 - mse: 0.7363 - val_loss: 0.4997 - val_mse: 0.4972\n"
     ]
    },
    {
     "name": "stderr",
     "output_type": "stream",
     "text": [
      "WARNING:absl:Found untraced functions such as dropout_layer_call_fn, dropout_layer_call_and_return_conditional_losses, dropout_1_layer_call_fn, dropout_1_layer_call_and_return_conditional_losses, dropout_2_layer_call_fn while saving (showing 5 of 12). These functions will not be directly callable after loading.\n"
     ]
    },
    {
     "name": "stdout",
     "output_type": "stream",
     "text": [
      "Epoch 2/30\n",
      "1976/1976 [==============================] - 13s 7ms/step - loss: 0.4811 - mse: 0.4774 - val_loss: 0.4973 - val_mse: 0.4925\n"
     ]
    },
    {
     "name": "stderr",
     "output_type": "stream",
     "text": [
      "WARNING:absl:Found untraced functions such as dropout_layer_call_fn, dropout_layer_call_and_return_conditional_losses, dropout_1_layer_call_fn, dropout_1_layer_call_and_return_conditional_losses, dropout_2_layer_call_fn while saving (showing 5 of 12). These functions will not be directly callable after loading.\n"
     ]
    },
    {
     "name": "stdout",
     "output_type": "stream",
     "text": [
      "Epoch 3/30\n",
      "1976/1976 [==============================] - 14s 7ms/step - loss: 0.4677 - mse: 0.4616 - val_loss: 0.4948 - val_mse: 0.4877\n"
     ]
    },
    {
     "name": "stderr",
     "output_type": "stream",
     "text": [
      "WARNING:absl:Found untraced functions such as dropout_layer_call_fn, dropout_layer_call_and_return_conditional_losses, dropout_1_layer_call_fn, dropout_1_layer_call_and_return_conditional_losses, dropout_2_layer_call_fn while saving (showing 5 of 12). These functions will not be directly callable after loading.\n"
     ]
    },
    {
     "name": "stdout",
     "output_type": "stream",
     "text": [
      "Epoch 4/30\n",
      "1976/1976 [==============================] - 14s 7ms/step - loss: 0.4537 - mse: 0.4454 - val_loss: 0.4976 - val_mse: 0.4884\n",
      "Epoch 5/30\n",
      "1976/1976 [==============================] - 14s 7ms/step - loss: 0.4404 - mse: 0.4301 - val_loss: 0.4973 - val_mse: 0.4861\n"
     ]
    },
    {
     "name": "stderr",
     "output_type": "stream",
     "text": [
      "WARNING:absl:Found untraced functions such as dropout_layer_call_fn, dropout_layer_call_and_return_conditional_losses, dropout_1_layer_call_fn, dropout_1_layer_call_and_return_conditional_losses, dropout_2_layer_call_fn while saving (showing 5 of 12). These functions will not be directly callable after loading.\n"
     ]
    },
    {
     "name": "stdout",
     "output_type": "stream",
     "text": [
      "Epoch 6/30\n",
      "1976/1976 [==============================] - 15s 7ms/step - loss: 0.4256 - mse: 0.4133 - val_loss: 0.5227 - val_mse: 0.5096\n",
      "Epoch 7/30\n",
      "1976/1976 [==============================] - 14s 7ms/step - loss: 0.4115 - mse: 0.3974 - val_loss: 0.5209 - val_mse: 0.5061\n",
      "Epoch 8/30\n",
      "1976/1976 [==============================] - 14s 7ms/step - loss: 0.3999 - mse: 0.3843 - val_loss: 0.5183 - val_mse: 0.5020\n",
      "Epoch 9/30\n",
      "1976/1976 [==============================] - 14s 7ms/step - loss: 0.3903 - mse: 0.3732 - val_loss: 0.5287 - val_mse: 0.5111\n",
      "Epoch 10/30\n",
      "1976/1976 [==============================] - 14s 7ms/step - loss: 0.3826 - mse: 0.3644 - val_loss: 0.5340 - val_mse: 0.5151\n",
      "test MSE 0.4903\n",
      "Epoch 1/30\n",
      "1976/1976 [==============================] - 16s 7ms/step - loss: 0.7236 - mse: 0.7224 - val_loss: 0.5006 - val_mse: 0.4982\n"
     ]
    },
    {
     "name": "stderr",
     "output_type": "stream",
     "text": [
      "WARNING:absl:Found untraced functions such as dropout_layer_call_fn, dropout_layer_call_and_return_conditional_losses, dropout_1_layer_call_fn, dropout_1_layer_call_and_return_conditional_losses, dropout_2_layer_call_fn while saving (showing 5 of 12). These functions will not be directly callable after loading.\n"
     ]
    },
    {
     "name": "stdout",
     "output_type": "stream",
     "text": [
      "Epoch 2/30\n",
      "1976/1976 [==============================] - 14s 7ms/step - loss: 0.4775 - mse: 0.4738 - val_loss: 0.4916 - val_mse: 0.4868\n"
     ]
    },
    {
     "name": "stderr",
     "output_type": "stream",
     "text": [
      "WARNING:absl:Found untraced functions such as dropout_layer_call_fn, dropout_layer_call_and_return_conditional_losses, dropout_1_layer_call_fn, dropout_1_layer_call_and_return_conditional_losses, dropout_2_layer_call_fn while saving (showing 5 of 12). These functions will not be directly callable after loading.\n"
     ]
    },
    {
     "name": "stdout",
     "output_type": "stream",
     "text": [
      "Epoch 3/30\n",
      "1976/1976 [==============================] - 14s 7ms/step - loss: 0.4596 - mse: 0.4534 - val_loss: 0.4898 - val_mse: 0.4826\n"
     ]
    },
    {
     "name": "stderr",
     "output_type": "stream",
     "text": [
      "WARNING:absl:Found untraced functions such as dropout_layer_call_fn, dropout_layer_call_and_return_conditional_losses, dropout_1_layer_call_fn, dropout_1_layer_call_and_return_conditional_losses, dropout_2_layer_call_fn while saving (showing 5 of 12). These functions will not be directly callable after loading.\n"
     ]
    },
    {
     "name": "stdout",
     "output_type": "stream",
     "text": [
      "Epoch 4/30\n",
      "1976/1976 [==============================] - 15s 7ms/step - loss: 0.4467 - mse: 0.4383 - val_loss: 0.5048 - val_mse: 0.4954\n",
      "Epoch 5/30\n",
      "1976/1976 [==============================] - 15s 8ms/step - loss: 0.4332 - mse: 0.4227 - val_loss: 0.5053 - val_mse: 0.4939\n",
      "Epoch 6/30\n",
      "1976/1976 [==============================] - 15s 7ms/step - loss: 0.4185 - mse: 0.4061 - val_loss: 0.5096 - val_mse: 0.4964\n",
      "Epoch 7/30\n",
      "1976/1976 [==============================] - 15s 7ms/step - loss: 0.4047 - mse: 0.3905 - val_loss: 0.5202 - val_mse: 0.5052\n",
      "Epoch 8/30\n",
      "1976/1976 [==============================] - 15s 7ms/step - loss: 0.3941 - mse: 0.3783 - val_loss: 0.5349 - val_mse: 0.5184\n",
      "test MSE 0.4836\n",
      "Epoch 1/30\n",
      "1976/1976 [==============================] - 17s 8ms/step - loss: 0.7146 - mse: 0.7133 - val_loss: 0.5001 - val_mse: 0.4977\n"
     ]
    },
    {
     "name": "stderr",
     "output_type": "stream",
     "text": [
      "WARNING:absl:Found untraced functions such as dropout_layer_call_fn, dropout_layer_call_and_return_conditional_losses, dropout_1_layer_call_fn, dropout_1_layer_call_and_return_conditional_losses, dropout_2_layer_call_fn while saving (showing 5 of 12). These functions will not be directly callable after loading.\n"
     ]
    },
    {
     "name": "stdout",
     "output_type": "stream",
     "text": [
      "Epoch 2/30\n",
      "1976/1976 [==============================] - 15s 8ms/step - loss: 0.4779 - mse: 0.4742 - val_loss: 0.4967 - val_mse: 0.4919\n"
     ]
    },
    {
     "name": "stderr",
     "output_type": "stream",
     "text": [
      "WARNING:absl:Found untraced functions such as dropout_layer_call_fn, dropout_layer_call_and_return_conditional_losses, dropout_1_layer_call_fn, dropout_1_layer_call_and_return_conditional_losses, dropout_2_layer_call_fn while saving (showing 5 of 12). These functions will not be directly callable after loading.\n"
     ]
    },
    {
     "name": "stdout",
     "output_type": "stream",
     "text": [
      "Epoch 3/30\n",
      "1976/1976 [==============================] - 15s 8ms/step - loss: 0.4613 - mse: 0.4552 - val_loss: 0.4911 - val_mse: 0.4839\n"
     ]
    },
    {
     "name": "stderr",
     "output_type": "stream",
     "text": [
      "WARNING:absl:Found untraced functions such as dropout_layer_call_fn, dropout_layer_call_and_return_conditional_losses, dropout_1_layer_call_fn, dropout_1_layer_call_and_return_conditional_losses, dropout_2_layer_call_fn while saving (showing 5 of 12). These functions will not be directly callable after loading.\n"
     ]
    },
    {
     "name": "stdout",
     "output_type": "stream",
     "text": [
      "Epoch 4/30\n",
      "1976/1976 [==============================] - 15s 8ms/step - loss: 0.4485 - mse: 0.4400 - val_loss: 0.5066 - val_mse: 0.4971\n",
      "Epoch 5/30\n",
      "1976/1976 [==============================] - 15s 8ms/step - loss: 0.4339 - mse: 0.4232 - val_loss: 0.5055 - val_mse: 0.4939\n",
      "Epoch 6/30\n",
      "1976/1976 [==============================] - 15s 8ms/step - loss: 0.4191 - mse: 0.4064 - val_loss: 0.5070 - val_mse: 0.4935\n",
      "Epoch 7/30\n",
      "1976/1976 [==============================] - 15s 8ms/step - loss: 0.4065 - mse: 0.3921 - val_loss: 0.5232 - val_mse: 0.5080\n",
      "Epoch 8/30\n",
      "1976/1976 [==============================] - 15s 8ms/step - loss: 0.3956 - mse: 0.3797 - val_loss: 0.5304 - val_mse: 0.5138\n",
      "test MSE 0.4802\n",
      "Epoch 1/30\n",
      "1976/1976 [==============================] - 14s 6ms/step - loss: 0.7078 - mse: 0.7065 - val_loss: 0.4990 - val_mse: 0.4966\n"
     ]
    },
    {
     "name": "stderr",
     "output_type": "stream",
     "text": [
      "WARNING:absl:Found untraced functions such as dropout_layer_call_fn, dropout_layer_call_and_return_conditional_losses, dropout_1_layer_call_fn, dropout_1_layer_call_and_return_conditional_losses, dropout_2_layer_call_fn while saving (showing 5 of 12). These functions will not be directly callable after loading.\n"
     ]
    },
    {
     "name": "stdout",
     "output_type": "stream",
     "text": [
      "Epoch 2/30\n",
      "1976/1976 [==============================] - 15s 7ms/step - loss: 0.4805 - mse: 0.4768 - val_loss: 0.4904 - val_mse: 0.4856\n"
     ]
    },
    {
     "name": "stderr",
     "output_type": "stream",
     "text": [
      "WARNING:absl:Found untraced functions such as dropout_layer_call_fn, dropout_layer_call_and_return_conditional_losses, dropout_1_layer_call_fn, dropout_1_layer_call_and_return_conditional_losses, dropout_2_layer_call_fn while saving (showing 5 of 12). These functions will not be directly callable after loading.\n"
     ]
    },
    {
     "name": "stdout",
     "output_type": "stream",
     "text": [
      "Epoch 3/30\n",
      "1976/1976 [==============================] - 15s 8ms/step - loss: 0.4625 - mse: 0.4563 - val_loss: 0.4996 - val_mse: 0.4924\n",
      "Epoch 4/30\n",
      "1976/1976 [==============================] - 15s 7ms/step - loss: 0.4488 - mse: 0.4403 - val_loss: 0.4981 - val_mse: 0.4887\n",
      "Epoch 5/30\n",
      "1976/1976 [==============================] - 15s 7ms/step - loss: 0.4356 - mse: 0.4251 - val_loss: 0.5009 - val_mse: 0.4895\n",
      "Epoch 6/30\n",
      "1976/1976 [==============================] - 15s 8ms/step - loss: 0.4227 - mse: 0.4103 - val_loss: 0.5073 - val_mse: 0.4941\n",
      "Epoch 7/30\n",
      "1976/1976 [==============================] - 15s 7ms/step - loss: 0.4109 - mse: 0.3968 - val_loss: 0.5138 - val_mse: 0.4989\n",
      "test MSE 0.4842\n",
      "Epoch 1/30\n",
      "1976/1976 [==============================] - 14s 7ms/step - loss: 0.7006 - mse: 0.6994 - val_loss: 0.4985 - val_mse: 0.4961\n"
     ]
    },
    {
     "name": "stderr",
     "output_type": "stream",
     "text": [
      "WARNING:absl:Found untraced functions such as dropout_layer_call_fn, dropout_layer_call_and_return_conditional_losses, dropout_1_layer_call_fn, dropout_1_layer_call_and_return_conditional_losses, dropout_2_layer_call_fn while saving (showing 5 of 12). These functions will not be directly callable after loading.\n"
     ]
    },
    {
     "name": "stdout",
     "output_type": "stream",
     "text": [
      "Epoch 2/30\n",
      "1976/1976 [==============================] - 14s 7ms/step - loss: 0.4810 - mse: 0.4773 - val_loss: 0.4936 - val_mse: 0.4889\n"
     ]
    },
    {
     "name": "stderr",
     "output_type": "stream",
     "text": [
      "WARNING:absl:Found untraced functions such as dropout_layer_call_fn, dropout_layer_call_and_return_conditional_losses, dropout_1_layer_call_fn, dropout_1_layer_call_and_return_conditional_losses, dropout_2_layer_call_fn while saving (showing 5 of 12). These functions will not be directly callable after loading.\n"
     ]
    },
    {
     "name": "stdout",
     "output_type": "stream",
     "text": [
      "Epoch 3/30\n",
      "1976/1976 [==============================] - 14s 7ms/step - loss: 0.4632 - mse: 0.4571 - val_loss: 0.4931 - val_mse: 0.4860\n"
     ]
    },
    {
     "name": "stderr",
     "output_type": "stream",
     "text": [
      "WARNING:absl:Found untraced functions such as dropout_layer_call_fn, dropout_layer_call_and_return_conditional_losses, dropout_1_layer_call_fn, dropout_1_layer_call_and_return_conditional_losses, dropout_2_layer_call_fn while saving (showing 5 of 12). These functions will not be directly callable after loading.\n"
     ]
    },
    {
     "name": "stdout",
     "output_type": "stream",
     "text": [
      "Epoch 4/30\n",
      "1976/1976 [==============================] - 14s 7ms/step - loss: 0.4493 - mse: 0.4409 - val_loss: 0.4916 - val_mse: 0.4822\n"
     ]
    },
    {
     "name": "stderr",
     "output_type": "stream",
     "text": [
      "WARNING:absl:Found untraced functions such as dropout_layer_call_fn, dropout_layer_call_and_return_conditional_losses, dropout_1_layer_call_fn, dropout_1_layer_call_and_return_conditional_losses, dropout_2_layer_call_fn while saving (showing 5 of 12). These functions will not be directly callable after loading.\n"
     ]
    },
    {
     "name": "stdout",
     "output_type": "stream",
     "text": [
      "Epoch 5/30\n",
      "1976/1976 [==============================] - 14s 7ms/step - loss: 0.4335 - mse: 0.4229 - val_loss: 0.4993 - val_mse: 0.4878\n",
      "Epoch 6/30\n",
      "1976/1976 [==============================] - 14s 7ms/step - loss: 0.4187 - mse: 0.4062 - val_loss: 0.5102 - val_mse: 0.4968\n",
      "Epoch 7/30\n",
      "1976/1976 [==============================] - 15s 7ms/step - loss: 0.4060 - mse: 0.3917 - val_loss: 0.5181 - val_mse: 0.5030\n",
      "Epoch 8/30\n",
      "1976/1976 [==============================] - 14s 7ms/step - loss: 0.3955 - mse: 0.3796 - val_loss: 0.5272 - val_mse: 0.5106\n",
      "Epoch 9/30\n",
      "1976/1976 [==============================] - 14s 7ms/step - loss: 0.3869 - mse: 0.3696 - val_loss: 0.5339 - val_mse: 0.5160\n",
      "test MSE 0.4782\n"
     ]
    }
   ],
   "source": [
    "# FNN\n",
    "dict_FNN = {'linear_feature_columns': linear_feature_columns,\n",
    "            'dnn_feature_columns': dnn_feature_columns,\n",
    "            'task': 'regression'}\n",
    "ls_result = calc_nn_based_model(df_douban_all, \n",
    "                                FNN, dict_FNN,\n",
    "                                feature_names, \n",
    "                                'douban', 'FNN')\n",
    "all_result.extend(ls_result)"
   ]
  },
  {
   "cell_type": "code",
   "execution_count": 13,
   "metadata": {},
   "outputs": [
    {
     "name": "stdout",
     "output_type": "stream",
     "text": [
      "Epoch 1/30\n",
      "1976/1976 [==============================] - 14s 7ms/step - loss: 0.7071 - mse: 0.7060 - val_loss: 0.4965 - val_mse: 0.4944\n"
     ]
    },
    {
     "name": "stderr",
     "output_type": "stream",
     "text": [
      "WARNING:absl:Found untraced functions such as dropout_layer_call_fn, dropout_layer_call_and_return_conditional_losses, dropout_1_layer_call_fn, dropout_1_layer_call_and_return_conditional_losses, dropout_2_layer_call_fn while saving (showing 5 of 12). These functions will not be directly callable after loading.\n"
     ]
    },
    {
     "name": "stdout",
     "output_type": "stream",
     "text": [
      "Epoch 2/30\n",
      "1976/1976 [==============================] - 14s 7ms/step - loss: 0.4682 - mse: 0.4650 - val_loss: 0.4852 - val_mse: 0.4810\n"
     ]
    },
    {
     "name": "stderr",
     "output_type": "stream",
     "text": [
      "WARNING:absl:Found untraced functions such as dropout_layer_call_fn, dropout_layer_call_and_return_conditional_losses, dropout_1_layer_call_fn, dropout_1_layer_call_and_return_conditional_losses, dropout_2_layer_call_fn while saving (showing 5 of 12). These functions will not be directly callable after loading.\n"
     ]
    },
    {
     "name": "stdout",
     "output_type": "stream",
     "text": [
      "Epoch 3/30\n",
      "1976/1976 [==============================] - 14s 7ms/step - loss: 0.4475 - mse: 0.4421 - val_loss: 0.4852 - val_mse: 0.4787\n"
     ]
    },
    {
     "name": "stderr",
     "output_type": "stream",
     "text": [
      "WARNING:absl:Found untraced functions such as dropout_layer_call_fn, dropout_layer_call_and_return_conditional_losses, dropout_1_layer_call_fn, dropout_1_layer_call_and_return_conditional_losses, dropout_2_layer_call_fn while saving (showing 5 of 12). These functions will not be directly callable after loading.\n"
     ]
    },
    {
     "name": "stdout",
     "output_type": "stream",
     "text": [
      "Epoch 4/30\n",
      "1976/1976 [==============================] - 14s 7ms/step - loss: 0.4262 - mse: 0.4186 - val_loss: 0.4996 - val_mse: 0.4910\n",
      "Epoch 5/30\n",
      "1976/1976 [==============================] - 14s 7ms/step - loss: 0.4076 - mse: 0.3980 - val_loss: 0.5037 - val_mse: 0.4931\n",
      "Epoch 6/30\n",
      "1976/1976 [==============================] - 14s 7ms/step - loss: 0.3941 - mse: 0.3826 - val_loss: 0.5158 - val_mse: 0.5035\n",
      "Epoch 7/30\n",
      "1976/1976 [==============================] - 14s 7ms/step - loss: 0.3841 - mse: 0.3710 - val_loss: 0.5221 - val_mse: 0.5083\n",
      "Epoch 8/30\n",
      "1976/1976 [==============================] - 14s 7ms/step - loss: 0.3769 - mse: 0.3624 - val_loss: 0.5326 - val_mse: 0.5174\n",
      "test MSE 0.4833\n",
      "Epoch 1/30\n",
      "1976/1976 [==============================] - 15s 7ms/step - loss: 0.7258 - mse: 0.7248 - val_loss: 0.4948 - val_mse: 0.4927\n"
     ]
    },
    {
     "name": "stderr",
     "output_type": "stream",
     "text": [
      "WARNING:absl:Found untraced functions such as dropout_layer_call_fn, dropout_layer_call_and_return_conditional_losses, dropout_1_layer_call_fn, dropout_1_layer_call_and_return_conditional_losses, dropout_2_layer_call_fn while saving (showing 5 of 12). These functions will not be directly callable after loading.\n"
     ]
    },
    {
     "name": "stdout",
     "output_type": "stream",
     "text": [
      "Epoch 2/30\n",
      "1976/1976 [==============================] - 14s 7ms/step - loss: 0.4724 - mse: 0.4693 - val_loss: 0.4874 - val_mse: 0.4833\n"
     ]
    },
    {
     "name": "stderr",
     "output_type": "stream",
     "text": [
      "WARNING:absl:Found untraced functions such as dropout_layer_call_fn, dropout_layer_call_and_return_conditional_losses, dropout_1_layer_call_fn, dropout_1_layer_call_and_return_conditional_losses, dropout_2_layer_call_fn while saving (showing 5 of 12). These functions will not be directly callable after loading.\n"
     ]
    },
    {
     "name": "stdout",
     "output_type": "stream",
     "text": [
      "Epoch 3/30\n",
      "1976/1976 [==============================] - 14s 7ms/step - loss: 0.4511 - mse: 0.4458 - val_loss: 0.4882 - val_mse: 0.4819\n"
     ]
    },
    {
     "name": "stderr",
     "output_type": "stream",
     "text": [
      "WARNING:absl:Found untraced functions such as dropout_layer_call_fn, dropout_layer_call_and_return_conditional_losses, dropout_1_layer_call_fn, dropout_1_layer_call_and_return_conditional_losses, dropout_2_layer_call_fn while saving (showing 5 of 12). These functions will not be directly callable after loading.\n"
     ]
    },
    {
     "name": "stdout",
     "output_type": "stream",
     "text": [
      "Epoch 4/30\n",
      "1976/1976 [==============================] - 14s 7ms/step - loss: 0.4330 - mse: 0.4256 - val_loss: 0.4926 - val_mse: 0.4843\n",
      "Epoch 5/30\n",
      "1976/1976 [==============================] - 14s 7ms/step - loss: 0.4158 - mse: 0.4063 - val_loss: 0.5044 - val_mse: 0.4940\n",
      "Epoch 6/30\n",
      "1976/1976 [==============================] - 14s 7ms/step - loss: 0.4017 - mse: 0.3904 - val_loss: 0.5168 - val_mse: 0.5046\n",
      "Epoch 7/30\n",
      "1976/1976 [==============================] - 14s 7ms/step - loss: 0.3901 - mse: 0.3772 - val_loss: 0.5195 - val_mse: 0.5058\n",
      "Epoch 8/30\n",
      "1976/1976 [==============================] - 14s 7ms/step - loss: 0.3817 - mse: 0.3673 - val_loss: 0.5286 - val_mse: 0.5135\n",
      "test MSE 0.4823\n",
      "Epoch 1/30\n",
      "1976/1976 [==============================] - 14s 7ms/step - loss: 0.7138 - mse: 0.7128 - val_loss: 0.4947 - val_mse: 0.4926\n"
     ]
    },
    {
     "name": "stderr",
     "output_type": "stream",
     "text": [
      "WARNING:absl:Found untraced functions such as dropout_layer_call_fn, dropout_layer_call_and_return_conditional_losses, dropout_1_layer_call_fn, dropout_1_layer_call_and_return_conditional_losses, dropout_2_layer_call_fn while saving (showing 5 of 12). These functions will not be directly callable after loading.\n"
     ]
    },
    {
     "name": "stdout",
     "output_type": "stream",
     "text": [
      "Epoch 2/30\n",
      "1976/1976 [==============================] - 14s 7ms/step - loss: 0.4657 - mse: 0.4624 - val_loss: 0.4876 - val_mse: 0.4832\n"
     ]
    },
    {
     "name": "stderr",
     "output_type": "stream",
     "text": [
      "WARNING:absl:Found untraced functions such as dropout_layer_call_fn, dropout_layer_call_and_return_conditional_losses, dropout_1_layer_call_fn, dropout_1_layer_call_and_return_conditional_losses, dropout_2_layer_call_fn while saving (showing 5 of 12). These functions will not be directly callable after loading.\n"
     ]
    },
    {
     "name": "stdout",
     "output_type": "stream",
     "text": [
      "Epoch 3/30\n",
      "1976/1976 [==============================] - 14s 7ms/step - loss: 0.4389 - mse: 0.4333 - val_loss: 0.4937 - val_mse: 0.4870\n",
      "Epoch 4/30\n",
      "1976/1976 [==============================] - 14s 7ms/step - loss: 0.4179 - mse: 0.4100 - val_loss: 0.5035 - val_mse: 0.4946\n",
      "Epoch 5/30\n",
      "1976/1976 [==============================] - 14s 7ms/step - loss: 0.4022 - mse: 0.3922 - val_loss: 0.5132 - val_mse: 0.5023\n",
      "Epoch 6/30\n",
      "1976/1976 [==============================] - 14s 7ms/step - loss: 0.3917 - mse: 0.3799 - val_loss: 0.5238 - val_mse: 0.5112\n",
      "Epoch 7/30\n",
      "1976/1976 [==============================] - 14s 7ms/step - loss: 0.3836 - mse: 0.3702 - val_loss: 0.5304 - val_mse: 0.5163\n",
      "test MSE 0.4798\n"
     ]
    }
   ],
   "source": [
    "# IPNN\n",
    "dict_IPNN = {'dnn_feature_columns': dnn_feature_columns,\n",
    "            'task': 'regression',\n",
    "            'use_inner': True}\n",
    "ls_result = calc_nn_based_model(df_douban_all, \n",
    "                                PNN, dict_IPNN,\n",
    "                                feature_names, \n",
    "                                'douban', 'IPNN')\n",
    "all_result.extend(ls_result)"
   ]
  },
  {
   "cell_type": "code",
   "execution_count": null,
   "metadata": {},
   "outputs": [
    {
     "name": "stdout",
     "output_type": "stream",
     "text": [
      "1976/1976 [==============================] - 16s 7ms/step - loss: 0.7031 - mse: 0.7021 - val_loss: 0.4952 - val_mse: 0.4931\n"
     ]
    },
    {
     "name": "stderr",
     "output_type": "stream",
     "text": [
      "WARNING:absl:Found untraced functions such as dropout_layer_call_and_return_conditional_losses, dropout_layer_call_fn, dropout_1_layer_call_and_return_conditional_losses, dropout_1_layer_call_fn, dropout_2_layer_call_and_return_conditional_losses while saving (showing 5 of 12). These functions will not be directly callable after loading.\n"
     ]
    },
    {
     "name": "stdout",
     "output_type": "stream",
     "text": [
      "test MSE 0.4961\n",
      "remember to take off break\n"
     ]
    }
   ],
   "source": [
    "# OPNN\n",
    "dict_OPNN = {'dnn_feature_columns': dnn_feature_columns,\n",
    "            'task': 'regression',\n",
    "            'use_outter': True}\n",
    "ls_result = calc_nn_based_model(df_douban_all, \n",
    "                                PNN, dict_OPNN,\n",
    "                                feature_names, \n",
    "                                'douban', 'OPNN')\n",
    "all_result.extend(ls_result)"
   ]
  },
  {
   "cell_type": "code",
   "execution_count": null,
   "metadata": {},
   "outputs": [],
   "source": [
    "# PIN"
   ]
  },
  {
   "cell_type": "code",
   "execution_count": null,
   "metadata": {},
   "outputs": [
    {
     "name": "stdout",
     "output_type": "stream",
     "text": [
      "1976/1976 [==============================] - 26s 12ms/step - loss: 0.7382 - mse: 0.7363 - val_loss: 0.5037 - val_mse: 0.5000\n"
     ]
    },
    {
     "name": "stderr",
     "output_type": "stream",
     "text": [
      "WARNING:absl:Found untraced functions such as dropout_layer_call_and_return_conditional_losses, dropout_layer_call_fn, dropout_1_layer_call_and_return_conditional_losses, dropout_1_layer_call_fn, activation_layer_call_and_return_conditional_losses while saving (showing 5 of 8). These functions will not be directly callable after loading.\n"
     ]
    },
    {
     "name": "stdout",
     "output_type": "stream",
     "text": [
      "test MSE 0.5031\n",
      "remember to take off break\n"
     ]
    }
   ],
   "source": [
    "# CCPM\n",
    "dict_CCPM = {'linear_feature_columns': linear_feature_columns,\n",
    "            'dnn_feature_columns': dnn_feature_columns,\n",
    "            'task': 'regression'}\n",
    "ls_result = calc_nn_based_model(df_douban_all, \n",
    "                                CCPM, dict_CCPM,\n",
    "                                feature_names, \n",
    "                                'douban', 'CCPM')\n",
    "all_result.extend(ls_result)"
   ]
  },
  {
   "cell_type": "code",
   "execution_count": null,
   "metadata": {},
   "outputs": [
    {
     "name": "stdout",
     "output_type": "stream",
     "text": [
      "1976/1976 [==============================] - 15s 7ms/step - loss: 0.7390 - mse: 0.7377 - val_loss: 0.4978 - val_mse: 0.4954\n"
     ]
    },
    {
     "name": "stderr",
     "output_type": "stream",
     "text": [
      "WARNING:absl:Found untraced functions such as dropout_layer_call_and_return_conditional_losses, dropout_layer_call_fn, dropout_1_layer_call_and_return_conditional_losses, dropout_1_layer_call_fn, dropout_2_layer_call_and_return_conditional_losses while saving (showing 5 of 12). These functions will not be directly callable after loading.\n"
     ]
    },
    {
     "name": "stdout",
     "output_type": "stream",
     "text": [
      "test MSE 0.4991\n",
      "remember to take off break\n"
     ]
    }
   ],
   "source": [
    "# WD\n",
    "dict_WD = {'linear_feature_columns': linear_feature_columns,\n",
    "           'dnn_feature_columns': dnn_feature_columns,\n",
    "           'task': 'regression'}\n",
    "ls_result = calc_nn_based_model(df_douban_all, \n",
    "                                WDL, dict_WD,\n",
    "                                feature_names, \n",
    "                                'douban', 'WD')\n",
    "all_result.extend(ls_result)"
   ]
  },
  {
   "cell_type": "code",
   "execution_count": null,
   "metadata": {},
   "outputs": [
    {
     "name": "stdout",
     "output_type": "stream",
     "text": [
      "CrossNet parameterization: vector\n",
      "1976/1976 [==============================] - 17s 8ms/step - loss: 0.7164 - mse: 0.7151 - val_loss: 0.5063 - val_mse: 0.5038\n"
     ]
    },
    {
     "name": "stderr",
     "output_type": "stream",
     "text": [
      "WARNING:absl:Found untraced functions such as dropout_layer_call_and_return_conditional_losses, dropout_layer_call_fn, dropout_1_layer_call_and_return_conditional_losses, dropout_1_layer_call_fn, dropout_2_layer_call_and_return_conditional_losses while saving (showing 5 of 12). These functions will not be directly callable after loading.\n"
     ]
    },
    {
     "name": "stdout",
     "output_type": "stream",
     "text": [
      "test MSE 0.507\n",
      "remember to take off break\n"
     ]
    }
   ],
   "source": [
    "# DC\n",
    "dict_DC = {'linear_feature_columns': linear_feature_columns,\n",
    "           'dnn_feature_columns': dnn_feature_columns,\n",
    "           'task': 'regression'}\n",
    "ls_result = calc_nn_based_model(df_douban_all, \n",
    "                                DCN, dict_DC,\n",
    "                                feature_names, \n",
    "                                'douban', 'DC')\n",
    "all_result.extend(ls_result)"
   ]
  },
  {
   "cell_type": "code",
   "execution_count": null,
   "metadata": {},
   "outputs": [
    {
     "name": "stdout",
     "output_type": "stream",
     "text": [
      "1976/1976 [==============================] - 15s 7ms/step - loss: 0.7413 - mse: 0.7395 - val_loss: 0.4947 - val_mse: 0.4913\n"
     ]
    },
    {
     "name": "stderr",
     "output_type": "stream",
     "text": [
      "WARNING:absl:Found untraced functions such as dropout_layer_call_and_return_conditional_losses, dropout_layer_call_fn, dropout_1_layer_call_and_return_conditional_losses, dropout_1_layer_call_fn, dropout_2_layer_call_and_return_conditional_losses while saving (showing 5 of 12). These functions will not be directly callable after loading.\n"
     ]
    },
    {
     "name": "stdout",
     "output_type": "stream",
     "text": [
      "test MSE 0.4942\n",
      "remember to take off break\n"
     ]
    }
   ],
   "source": [
    "# NFM\n",
    "dict_NFM = {'linear_feature_columns': linear_feature_columns,\n",
    "            'dnn_feature_columns': dnn_feature_columns,\n",
    "            'task': 'regression'}\n",
    "ls_result = calc_nn_based_model(df_douban_all, \n",
    "                                NFM, dict_NFM,\n",
    "                                feature_names, \n",
    "                                'douban', 'NFM')\n",
    "all_result.extend(ls_result)"
   ]
  },
  {
   "cell_type": "code",
   "execution_count": null,
   "metadata": {},
   "outputs": [
    {
     "name": "stdout",
     "output_type": "stream",
     "text": [
      "1976/1976 [==============================] - 15s 7ms/step - loss: 0.6969 - mse: 0.6957 - val_loss: 0.4999 - val_mse: 0.4975\n"
     ]
    },
    {
     "name": "stderr",
     "output_type": "stream",
     "text": [
      "WARNING:absl:Found untraced functions such as dropout_layer_call_and_return_conditional_losses, dropout_layer_call_fn, dropout_1_layer_call_and_return_conditional_losses, dropout_1_layer_call_fn, dropout_2_layer_call_and_return_conditional_losses while saving (showing 5 of 12). These functions will not be directly callable after loading.\n"
     ]
    },
    {
     "name": "stdout",
     "output_type": "stream",
     "text": [
      "test MSE 0.5005\n",
      "remember to take off break\n"
     ]
    }
   ],
   "source": [
    "# deepFM\n",
    "dict_deepFM = {'linear_feature_columns': linear_feature_columns, \n",
    "               'dnn_feature_columns': dnn_feature_columns,\n",
    "               'task': 'regression'}\n",
    "ls_result = calc_nn_based_model(df_douban_all, \n",
    "                                DeepFM, dict_deepFM,\n",
    "                                feature_names, \n",
    "                                'douban', 'deepFM')\n",
    "all_result.extend(ls_result)"
   ]
  },
  {
   "cell_type": "code",
   "execution_count": null,
   "metadata": {},
   "outputs": [
    {
     "name": "stdout",
     "output_type": "stream",
     "text": [
      "1976/1976 [==============================] - 16s 7ms/step - loss: 2.5078 - mse: 2.5021 - val_loss: 0.6157 - val_mse: 0.6076\n"
     ]
    },
    {
     "name": "stderr",
     "output_type": "stream",
     "text": [
      "WARNING:absl:Found untraced functions such as dropout_layer_call_and_return_conditional_losses, dropout_layer_call_fn, lambda_layer_call_and_return_conditional_losses, lambda_layer_call_fn while saving (showing 4 of 4). These functions will not be directly callable after loading.\n"
     ]
    },
    {
     "name": "stdout",
     "output_type": "stream",
     "text": [
      "test MSE 0.6122\n",
      "remember to take off break\n"
     ]
    }
   ],
   "source": [
    "# AFM\n",
    "dict_AFM = {'linear_feature_columns': linear_feature_columns,\n",
    "            'dnn_feature_columns': dnn_feature_columns,\n",
    "            'task': 'regression'}\n",
    "ls_result = calc_nn_based_model(df_douban_all, \n",
    "                                AFM, dict_AFM,\n",
    "                                feature_names, \n",
    "                                'douban', 'AFM')\n",
    "all_result.extend(ls_result)"
   ]
  },
  {
   "cell_type": "code",
   "execution_count": null,
   "metadata": {},
   "outputs": [
    {
     "name": "stdout",
     "output_type": "stream",
     "text": [
      "1976/1976 [==============================] - 20s 9ms/step - loss: 0.6668 - mse: 0.6654 - val_loss: 0.4968 - val_mse: 0.4942\n"
     ]
    },
    {
     "name": "stderr",
     "output_type": "stream",
     "text": [
      "WARNING:absl:Found untraced functions such as dropout_layer_call_and_return_conditional_losses, dropout_layer_call_fn, dropout_1_layer_call_and_return_conditional_losses, dropout_1_layer_call_fn, dropout_2_layer_call_and_return_conditional_losses while saving (showing 5 of 16). These functions will not be directly callable after loading.\n"
     ]
    },
    {
     "name": "stdout",
     "output_type": "stream",
     "text": [
      "test MSE 0.4988\n",
      "remember to take off break\n"
     ]
    }
   ],
   "source": [
    "# xDeepFM\n",
    "dict_xDeepFM = {'linear_feature_columns': linear_feature_columns,\n",
    "                'dnn_feature_columns': dnn_feature_columns,\n",
    "                'task': 'regression'}\n",
    "ls_result = calc_nn_based_model(df_douban_all, \n",
    "                                xDeepFM, dict_xDeepFM,\n",
    "                                feature_names, \n",
    "                                'douban', 'xDeepFM')\n",
    "all_result.extend(ls_result)"
   ]
  },
  {
   "cell_type": "code",
   "execution_count": null,
   "metadata": {},
   "outputs": [],
   "source": [
    "# DIN\n",
    "# https://github.com/shenweichen/DeepCTR/blob/master/examples/run_din.py\n",
    "# dict_DIN = {'dnn_feature_columns': dnn_feature_columns,\n",
    "#             'history_feature_list': None,\n",
    "#             'task': 'regression'}\n",
    "# ls_result = calc_nn_based_model(df_douban_all, \n",
    "#                                 DIN, dict_DIN,\n",
    "#                                 feature_names, \n",
    "#                                 'douban', 'DIN')\n",
    "# all_result.extend(ls_result)"
   ]
  },
  {
   "attachments": {},
   "cell_type": "markdown",
   "metadata": {},
   "source": [
    "### movie lens"
   ]
  },
  {
   "cell_type": "code",
   "execution_count": null,
   "metadata": {},
   "outputs": [
    {
     "name": "stdout",
     "output_type": "stream",
     "text": [
      "(100000, 23)\n"
     ]
    },
    {
     "data": {
      "text/html": [
       "<div>\n",
       "<style scoped>\n",
       "    .dataframe tbody tr th:only-of-type {\n",
       "        vertical-align: middle;\n",
       "    }\n",
       "\n",
       "    .dataframe tbody tr th {\n",
       "        vertical-align: top;\n",
       "    }\n",
       "\n",
       "    .dataframe thead th {\n",
       "        text-align: right;\n",
       "    }\n",
       "</style>\n",
       "<table border=\"1\" class=\"dataframe\">\n",
       "  <thead>\n",
       "    <tr style=\"text-align: right;\">\n",
       "      <th></th>\n",
       "      <th>user_id</th>\n",
       "      <th>item_id</th>\n",
       "      <th>age</th>\n",
       "      <th>occupation</th>\n",
       "      <th>genre1</th>\n",
       "      <th>genre10</th>\n",
       "      <th>genre11</th>\n",
       "      <th>genre12</th>\n",
       "      <th>genre13</th>\n",
       "      <th>genre14</th>\n",
       "      <th>...</th>\n",
       "      <th>genre18</th>\n",
       "      <th>genre2</th>\n",
       "      <th>genre3</th>\n",
       "      <th>genre4</th>\n",
       "      <th>genre5</th>\n",
       "      <th>genre6</th>\n",
       "      <th>genre7</th>\n",
       "      <th>genre8</th>\n",
       "      <th>genre9</th>\n",
       "      <th>rating</th>\n",
       "    </tr>\n",
       "  </thead>\n",
       "  <tbody>\n",
       "    <tr>\n",
       "      <th>0</th>\n",
       "      <td>196</td>\n",
       "      <td>242</td>\n",
       "      <td>5</td>\n",
       "      <td>3</td>\n",
       "      <td>0</td>\n",
       "      <td>0</td>\n",
       "      <td>0</td>\n",
       "      <td>0</td>\n",
       "      <td>0</td>\n",
       "      <td>0</td>\n",
       "      <td>...</td>\n",
       "      <td>0</td>\n",
       "      <td>0</td>\n",
       "      <td>0</td>\n",
       "      <td>0</td>\n",
       "      <td>1</td>\n",
       "      <td>0</td>\n",
       "      <td>0</td>\n",
       "      <td>0</td>\n",
       "      <td>0</td>\n",
       "      <td>3</td>\n",
       "    </tr>\n",
       "    <tr>\n",
       "      <th>1</th>\n",
       "      <td>186</td>\n",
       "      <td>302</td>\n",
       "      <td>4</td>\n",
       "      <td>4</td>\n",
       "      <td>0</td>\n",
       "      <td>1</td>\n",
       "      <td>0</td>\n",
       "      <td>0</td>\n",
       "      <td>1</td>\n",
       "      <td>0</td>\n",
       "      <td>...</td>\n",
       "      <td>0</td>\n",
       "      <td>0</td>\n",
       "      <td>0</td>\n",
       "      <td>0</td>\n",
       "      <td>0</td>\n",
       "      <td>1</td>\n",
       "      <td>0</td>\n",
       "      <td>0</td>\n",
       "      <td>0</td>\n",
       "      <td>3</td>\n",
       "    </tr>\n",
       "    <tr>\n",
       "      <th>2</th>\n",
       "      <td>22</td>\n",
       "      <td>377</td>\n",
       "      <td>3</td>\n",
       "      <td>3</td>\n",
       "      <td>0</td>\n",
       "      <td>0</td>\n",
       "      <td>0</td>\n",
       "      <td>0</td>\n",
       "      <td>0</td>\n",
       "      <td>0</td>\n",
       "      <td>...</td>\n",
       "      <td>0</td>\n",
       "      <td>0</td>\n",
       "      <td>0</td>\n",
       "      <td>1</td>\n",
       "      <td>1</td>\n",
       "      <td>0</td>\n",
       "      <td>0</td>\n",
       "      <td>0</td>\n",
       "      <td>0</td>\n",
       "      <td>1</td>\n",
       "    </tr>\n",
       "  </tbody>\n",
       "</table>\n",
       "<p>3 rows × 23 columns</p>\n",
       "</div>"
      ],
      "text/plain": [
       "  user_id item_id age occupation genre1 genre10 genre11 genre12 genre13  \\\n",
       "0     196     242   5          3      0       0       0       0       0   \n",
       "1     186     302   4          4      0       1       0       0       1   \n",
       "2      22     377   3          3      0       0       0       0       0   \n",
       "\n",
       "  genre14  ... genre18 genre2 genre3 genre4 genre5 genre6 genre7 genre8  \\\n",
       "0       0  ...       0      0      0      0      1      0      0      0   \n",
       "1       0  ...       0      0      0      0      0      1      0      0   \n",
       "2       0  ...       0      0      0      1      1      0      0      0   \n",
       "\n",
       "  genre9 rating  \n",
       "0      0      3  \n",
       "1      0      3  \n",
       "2      0      1  \n",
       "\n",
       "[3 rows x 23 columns]"
      ]
     },
     "execution_count": 89,
     "metadata": {},
     "output_type": "execute_result"
    }
   ],
   "source": [
    "df_movie_all = pd.merge(df_movie_inter, df_movie_user_feats, on='user_id', how='left')\n",
    "df_movie_all = pd.merge(df_movie_all, df_movie_item_feats, on='item_id', how='left')\n",
    "df_movie_all['rating'] = df_movie_all.pop('rating')\n",
    "df_movie_all.iloc[:, :-1] = df_movie_all.iloc[:, :-1].fillna('0')\n",
    "sr_movie_ts = df_movie_all.pop('timestamp')\n",
    "print(df_movie_all.shape)\n",
    "df_movie_all.head(3)"
   ]
  },
  {
   "cell_type": "code",
   "execution_count": null,
   "metadata": {},
   "outputs": [
    {
     "data": {
      "text/html": [
       "<div>\n",
       "<style scoped>\n",
       "    .dataframe tbody tr th:only-of-type {\n",
       "        vertical-align: middle;\n",
       "    }\n",
       "\n",
       "    .dataframe tbody tr th {\n",
       "        vertical-align: top;\n",
       "    }\n",
       "\n",
       "    .dataframe thead th {\n",
       "        text-align: right;\n",
       "    }\n",
       "</style>\n",
       "<table border=\"1\" class=\"dataframe\">\n",
       "  <thead>\n",
       "    <tr style=\"text-align: right;\">\n",
       "      <th></th>\n",
       "      <th>user_id</th>\n",
       "      <th>item_id</th>\n",
       "      <th>age</th>\n",
       "      <th>occupation</th>\n",
       "      <th>genre1</th>\n",
       "      <th>genre10</th>\n",
       "      <th>genre11</th>\n",
       "      <th>genre12</th>\n",
       "      <th>genre13</th>\n",
       "      <th>genre14</th>\n",
       "      <th>...</th>\n",
       "      <th>genre18</th>\n",
       "      <th>genre2</th>\n",
       "      <th>genre3</th>\n",
       "      <th>genre4</th>\n",
       "      <th>genre5</th>\n",
       "      <th>genre6</th>\n",
       "      <th>genre7</th>\n",
       "      <th>genre8</th>\n",
       "      <th>genre9</th>\n",
       "      <th>rating</th>\n",
       "    </tr>\n",
       "  </thead>\n",
       "  <tbody>\n",
       "    <tr>\n",
       "      <th>0</th>\n",
       "      <td>107</td>\n",
       "      <td>842</td>\n",
       "      <td>4</td>\n",
       "      <td>14</td>\n",
       "      <td>0</td>\n",
       "      <td>0</td>\n",
       "      <td>0</td>\n",
       "      <td>0</td>\n",
       "      <td>0</td>\n",
       "      <td>0</td>\n",
       "      <td>...</td>\n",
       "      <td>0</td>\n",
       "      <td>0</td>\n",
       "      <td>0</td>\n",
       "      <td>0</td>\n",
       "      <td>1</td>\n",
       "      <td>0</td>\n",
       "      <td>0</td>\n",
       "      <td>0</td>\n",
       "      <td>0</td>\n",
       "      <td>3</td>\n",
       "    </tr>\n",
       "    <tr>\n",
       "      <th>1</th>\n",
       "      <td>96</td>\n",
       "      <td>909</td>\n",
       "      <td>3</td>\n",
       "      <td>15</td>\n",
       "      <td>0</td>\n",
       "      <td>1</td>\n",
       "      <td>0</td>\n",
       "      <td>0</td>\n",
       "      <td>1</td>\n",
       "      <td>0</td>\n",
       "      <td>...</td>\n",
       "      <td>0</td>\n",
       "      <td>0</td>\n",
       "      <td>0</td>\n",
       "      <td>0</td>\n",
       "      <td>0</td>\n",
       "      <td>1</td>\n",
       "      <td>0</td>\n",
       "      <td>0</td>\n",
       "      <td>0</td>\n",
       "      <td>3</td>\n",
       "    </tr>\n",
       "    <tr>\n",
       "      <th>2</th>\n",
       "      <td>134</td>\n",
       "      <td>991</td>\n",
       "      <td>2</td>\n",
       "      <td>14</td>\n",
       "      <td>0</td>\n",
       "      <td>0</td>\n",
       "      <td>0</td>\n",
       "      <td>0</td>\n",
       "      <td>0</td>\n",
       "      <td>0</td>\n",
       "      <td>...</td>\n",
       "      <td>0</td>\n",
       "      <td>0</td>\n",
       "      <td>0</td>\n",
       "      <td>1</td>\n",
       "      <td>1</td>\n",
       "      <td>0</td>\n",
       "      <td>0</td>\n",
       "      <td>0</td>\n",
       "      <td>0</td>\n",
       "      <td>1</td>\n",
       "    </tr>\n",
       "  </tbody>\n",
       "</table>\n",
       "<p>3 rows × 23 columns</p>\n",
       "</div>"
      ],
      "text/plain": [
       "   user_id  item_id  age  occupation  genre1  genre10  genre11  genre12  \\\n",
       "0      107      842    4          14       0        0        0        0   \n",
       "1       96      909    3          15       0        1        0        0   \n",
       "2      134      991    2          14       0        0        0        0   \n",
       "\n",
       "   genre13  genre14  ...  genre18  genre2  genre3  genre4  genre5  genre6  \\\n",
       "0        0        0  ...        0       0       0       0       1       0   \n",
       "1        1        0  ...        0       0       0       0       0       1   \n",
       "2        0        0  ...        0       0       0       1       1       0   \n",
       "\n",
       "   genre7  genre8  genre9  rating  \n",
       "0       0       0       0       3  \n",
       "1       0       0       0       3  \n",
       "2       0       0       0       1  \n",
       "\n",
       "[3 rows x 23 columns]"
      ]
     },
     "execution_count": 90,
     "metadata": {},
     "output_type": "execute_result"
    }
   ],
   "source": [
    "linear_feature_columns, dnn_feature_columns, feature_names = get_feature_columns(df_movie_all)\n",
    "df_movie_all.head(3)"
   ]
  },
  {
   "cell_type": "code",
   "execution_count": null,
   "metadata": {},
   "outputs": [
    {
     "name": "stdout",
     "output_type": "stream",
     "text": [
      "250/250 [==============================] - 8s 14ms/step - loss: 1.8399 - mse: 1.8398 - val_loss: 0.9044 - val_mse: 0.9044\n"
     ]
    },
    {
     "name": "stderr",
     "output_type": "stream",
     "text": [
      "WARNING:absl:Found untraced functions such as dropout_layer_call_and_return_conditional_losses, dropout_layer_call_fn, dropout_1_layer_call_and_return_conditional_losses, dropout_1_layer_call_fn, dropout_2_layer_call_and_return_conditional_losses while saving (showing 5 of 12). These functions will not be directly callable after loading.\n"
     ]
    },
    {
     "name": "stdout",
     "output_type": "stream",
     "text": [
      "test MSE 0.9163\n",
      "remember to take off break\n"
     ]
    }
   ],
   "source": [
    "# FNN\n",
    "dict_FNN = {'linear_feature_columns': linear_feature_columns,\n",
    "            'dnn_feature_columns': dnn_feature_columns,\n",
    "            'task': 'regression'}\n",
    "ls_result = calc_nn_based_model(df_movie_all, \n",
    "                                FNN, dict_FNN,\n",
    "                                feature_names, \n",
    "                                'movie_lens', 'FNN')\n",
    "all_result.extend(ls_result)"
   ]
  },
  {
   "cell_type": "code",
   "execution_count": null,
   "metadata": {},
   "outputs": [
    {
     "name": "stdout",
     "output_type": "stream",
     "text": [
      "1976/1976 [==============================] - 14s 7ms/step - loss: 0.7286 - mse: 0.7275 - val_loss: 0.4997 - val_mse: 0.4977\n"
     ]
    },
    {
     "name": "stderr",
     "output_type": "stream",
     "text": [
      "WARNING:absl:Found untraced functions such as dropout_layer_call_and_return_conditional_losses, dropout_layer_call_fn, dropout_1_layer_call_and_return_conditional_losses, dropout_1_layer_call_fn, dropout_2_layer_call_and_return_conditional_losses while saving (showing 5 of 12). These functions will not be directly callable after loading.\n"
     ]
    },
    {
     "name": "stdout",
     "output_type": "stream",
     "text": [
      "test MSE 0.5015\n",
      "remember to take off break\n"
     ]
    }
   ],
   "source": [
    "# IPNN\n",
    "dict_IPNN = {'dnn_feature_columns': dnn_feature_columns,\n",
    "            'task': 'regression',\n",
    "            'use_inner': True}\n",
    "ls_result = calc_nn_based_model(df_movie_all, \n",
    "                                PNN, dict_IPNN,\n",
    "                                feature_names, \n",
    "                                'movie_lens', 'IPNN')\n",
    "all_result.extend(ls_result)"
   ]
  },
  {
   "cell_type": "code",
   "execution_count": null,
   "metadata": {},
   "outputs": [
    {
     "name": "stdout",
     "output_type": "stream",
     "text": [
      "1976/1976 [==============================] - 16s 7ms/step - loss: 0.7031 - mse: 0.7021 - val_loss: 0.4952 - val_mse: 0.4931\n"
     ]
    },
    {
     "name": "stderr",
     "output_type": "stream",
     "text": [
      "WARNING:absl:Found untraced functions such as dropout_layer_call_and_return_conditional_losses, dropout_layer_call_fn, dropout_1_layer_call_and_return_conditional_losses, dropout_1_layer_call_fn, dropout_2_layer_call_and_return_conditional_losses while saving (showing 5 of 12). These functions will not be directly callable after loading.\n"
     ]
    },
    {
     "name": "stdout",
     "output_type": "stream",
     "text": [
      "test MSE 0.4961\n",
      "remember to take off break\n"
     ]
    }
   ],
   "source": [
    "# OPNN\n",
    "dict_OPNN = {'dnn_feature_columns': dnn_feature_columns,\n",
    "            'task': 'regression',\n",
    "            'use_outter': True}\n",
    "ls_result = calc_nn_based_model(df_movie_all, \n",
    "                                PNN, dict_OPNN,\n",
    "                                feature_names, \n",
    "                                'movie_lens', 'OPNN')\n",
    "all_result.extend(ls_result)"
   ]
  },
  {
   "cell_type": "code",
   "execution_count": null,
   "metadata": {},
   "outputs": [],
   "source": [
    "# PIN"
   ]
  },
  {
   "cell_type": "code",
   "execution_count": null,
   "metadata": {},
   "outputs": [
    {
     "name": "stdout",
     "output_type": "stream",
     "text": [
      "1976/1976 [==============================] - 26s 12ms/step - loss: 0.7382 - mse: 0.7363 - val_loss: 0.5037 - val_mse: 0.5000\n"
     ]
    },
    {
     "name": "stderr",
     "output_type": "stream",
     "text": [
      "WARNING:absl:Found untraced functions such as dropout_layer_call_and_return_conditional_losses, dropout_layer_call_fn, dropout_1_layer_call_and_return_conditional_losses, dropout_1_layer_call_fn, activation_layer_call_and_return_conditional_losses while saving (showing 5 of 8). These functions will not be directly callable after loading.\n"
     ]
    },
    {
     "name": "stdout",
     "output_type": "stream",
     "text": [
      "test MSE 0.5031\n",
      "remember to take off break\n"
     ]
    }
   ],
   "source": [
    "# CCPM\n",
    "dict_CCPM = {'linear_feature_columns': linear_feature_columns,\n",
    "            'dnn_feature_columns': dnn_feature_columns,\n",
    "            'task': 'regression'}\n",
    "ls_result = calc_nn_based_model(df_movie_all, \n",
    "                                CCPM, dict_CCPM,\n",
    "                                feature_names, \n",
    "                                'movie_lens', 'CCPM')\n",
    "all_result.extend(ls_result)"
   ]
  },
  {
   "cell_type": "code",
   "execution_count": null,
   "metadata": {},
   "outputs": [
    {
     "name": "stdout",
     "output_type": "stream",
     "text": [
      "1976/1976 [==============================] - 15s 7ms/step - loss: 0.7390 - mse: 0.7377 - val_loss: 0.4978 - val_mse: 0.4954\n"
     ]
    },
    {
     "name": "stderr",
     "output_type": "stream",
     "text": [
      "WARNING:absl:Found untraced functions such as dropout_layer_call_and_return_conditional_losses, dropout_layer_call_fn, dropout_1_layer_call_and_return_conditional_losses, dropout_1_layer_call_fn, dropout_2_layer_call_and_return_conditional_losses while saving (showing 5 of 12). These functions will not be directly callable after loading.\n"
     ]
    },
    {
     "name": "stdout",
     "output_type": "stream",
     "text": [
      "test MSE 0.4991\n",
      "remember to take off break\n"
     ]
    }
   ],
   "source": [
    "# WD\n",
    "dict_WD = {'linear_feature_columns': linear_feature_columns,\n",
    "           'dnn_feature_columns': dnn_feature_columns,\n",
    "           'task': 'regression'}\n",
    "ls_result = calc_nn_based_model(df_movie_all, \n",
    "                                WDL, dict_WD,\n",
    "                                feature_names, \n",
    "                                'movie_lens', 'WD')\n",
    "all_result.extend(ls_result)"
   ]
  },
  {
   "cell_type": "code",
   "execution_count": null,
   "metadata": {},
   "outputs": [
    {
     "name": "stdout",
     "output_type": "stream",
     "text": [
      "CrossNet parameterization: vector\n",
      "1976/1976 [==============================] - 17s 8ms/step - loss: 0.7164 - mse: 0.7151 - val_loss: 0.5063 - val_mse: 0.5038\n"
     ]
    },
    {
     "name": "stderr",
     "output_type": "stream",
     "text": [
      "WARNING:absl:Found untraced functions such as dropout_layer_call_and_return_conditional_losses, dropout_layer_call_fn, dropout_1_layer_call_and_return_conditional_losses, dropout_1_layer_call_fn, dropout_2_layer_call_and_return_conditional_losses while saving (showing 5 of 12). These functions will not be directly callable after loading.\n"
     ]
    },
    {
     "name": "stdout",
     "output_type": "stream",
     "text": [
      "test MSE 0.507\n",
      "remember to take off break\n"
     ]
    }
   ],
   "source": [
    "# DC\n",
    "dict_DC = {'linear_feature_columns': linear_feature_columns,\n",
    "           'dnn_feature_columns': dnn_feature_columns,\n",
    "           'task': 'regression'}\n",
    "ls_result = calc_nn_based_model(df_movie_all, \n",
    "                                DCN, dict_DC,\n",
    "                                feature_names, \n",
    "                                'movie_lens', 'DC')\n",
    "all_result.extend(ls_result)"
   ]
  },
  {
   "cell_type": "code",
   "execution_count": null,
   "metadata": {},
   "outputs": [
    {
     "name": "stdout",
     "output_type": "stream",
     "text": [
      "1976/1976 [==============================] - 15s 7ms/step - loss: 0.7413 - mse: 0.7395 - val_loss: 0.4947 - val_mse: 0.4913\n"
     ]
    },
    {
     "name": "stderr",
     "output_type": "stream",
     "text": [
      "WARNING:absl:Found untraced functions such as dropout_layer_call_and_return_conditional_losses, dropout_layer_call_fn, dropout_1_layer_call_and_return_conditional_losses, dropout_1_layer_call_fn, dropout_2_layer_call_and_return_conditional_losses while saving (showing 5 of 12). These functions will not be directly callable after loading.\n"
     ]
    },
    {
     "name": "stdout",
     "output_type": "stream",
     "text": [
      "test MSE 0.4942\n",
      "remember to take off break\n"
     ]
    }
   ],
   "source": [
    "# NFM\n",
    "dict_NFM = {'linear_feature_columns': linear_feature_columns,\n",
    "            'dnn_feature_columns': dnn_feature_columns,\n",
    "            'task': 'regression'}\n",
    "ls_result = calc_nn_based_model(df_movie_all, \n",
    "                                NFM, dict_NFM,\n",
    "                                feature_names, \n",
    "                                'movie_lens', 'NFM')\n",
    "all_result.extend(ls_result)"
   ]
  },
  {
   "cell_type": "code",
   "execution_count": null,
   "metadata": {},
   "outputs": [
    {
     "name": "stdout",
     "output_type": "stream",
     "text": [
      "1976/1976 [==============================] - 15s 7ms/step - loss: 0.6969 - mse: 0.6957 - val_loss: 0.4999 - val_mse: 0.4975\n"
     ]
    },
    {
     "name": "stderr",
     "output_type": "stream",
     "text": [
      "WARNING:absl:Found untraced functions such as dropout_layer_call_and_return_conditional_losses, dropout_layer_call_fn, dropout_1_layer_call_and_return_conditional_losses, dropout_1_layer_call_fn, dropout_2_layer_call_and_return_conditional_losses while saving (showing 5 of 12). These functions will not be directly callable after loading.\n"
     ]
    },
    {
     "name": "stdout",
     "output_type": "stream",
     "text": [
      "test MSE 0.5005\n",
      "remember to take off break\n"
     ]
    }
   ],
   "source": [
    "# deepFM\n",
    "dict_deepFM = {'linear_feature_columns': linear_feature_columns, \n",
    "               'dnn_feature_columns': dnn_feature_columns,\n",
    "               'task': 'regression'}\n",
    "ls_result = calc_nn_based_model(df_movie_all, \n",
    "                                DeepFM, dict_deepFM,\n",
    "                                feature_names, \n",
    "                                'movie_lens', 'deepFM')\n",
    "all_result.extend(ls_result)"
   ]
  },
  {
   "cell_type": "code",
   "execution_count": null,
   "metadata": {},
   "outputs": [
    {
     "name": "stdout",
     "output_type": "stream",
     "text": [
      "1976/1976 [==============================] - 16s 7ms/step - loss: 2.5078 - mse: 2.5021 - val_loss: 0.6157 - val_mse: 0.6076\n"
     ]
    },
    {
     "name": "stderr",
     "output_type": "stream",
     "text": [
      "WARNING:absl:Found untraced functions such as dropout_layer_call_and_return_conditional_losses, dropout_layer_call_fn, lambda_layer_call_and_return_conditional_losses, lambda_layer_call_fn while saving (showing 4 of 4). These functions will not be directly callable after loading.\n"
     ]
    },
    {
     "name": "stdout",
     "output_type": "stream",
     "text": [
      "test MSE 0.6122\n",
      "remember to take off break\n"
     ]
    }
   ],
   "source": [
    "# AFM\n",
    "dict_AFM = {'linear_feature_columns': linear_feature_columns,\n",
    "            'dnn_feature_columns': dnn_feature_columns,\n",
    "            'task': 'regression'}\n",
    "ls_result = calc_nn_based_model(df_movie_all, \n",
    "                                AFM, dict_AFM,\n",
    "                                feature_names, \n",
    "                                'movie_lens', 'AFM')\n",
    "all_result.extend(ls_result)"
   ]
  },
  {
   "cell_type": "code",
   "execution_count": null,
   "metadata": {},
   "outputs": [
    {
     "name": "stdout",
     "output_type": "stream",
     "text": [
      "1976/1976 [==============================] - 20s 9ms/step - loss: 0.6668 - mse: 0.6654 - val_loss: 0.4968 - val_mse: 0.4942\n"
     ]
    },
    {
     "name": "stderr",
     "output_type": "stream",
     "text": [
      "WARNING:absl:Found untraced functions such as dropout_layer_call_and_return_conditional_losses, dropout_layer_call_fn, dropout_1_layer_call_and_return_conditional_losses, dropout_1_layer_call_fn, dropout_2_layer_call_and_return_conditional_losses while saving (showing 5 of 16). These functions will not be directly callable after loading.\n"
     ]
    },
    {
     "name": "stdout",
     "output_type": "stream",
     "text": [
      "test MSE 0.4988\n",
      "remember to take off break\n"
     ]
    }
   ],
   "source": [
    "# xDeepFM\n",
    "dict_xDeepFM = {'linear_feature_columns': linear_feature_columns,\n",
    "                'dnn_feature_columns': dnn_feature_columns,\n",
    "                'task': 'regression'}\n",
    "ls_result = calc_nn_based_model(df_movie_all, \n",
    "                                xDeepFM, dict_xDeepFM,\n",
    "                                feature_names, \n",
    "                                'movie_lens', 'xDeepFM')\n",
    "all_result.extend(ls_result)"
   ]
  },
  {
   "attachments": {},
   "cell_type": "markdown",
   "metadata": {},
   "source": [
    "### yelp"
   ]
  },
  {
   "cell_type": "code",
   "execution_count": null,
   "metadata": {},
   "outputs": [
    {
     "name": "stdout",
     "output_type": "stream",
     "text": [
      "(188456, 32)\n"
     ]
    },
    {
     "data": {
      "text/html": [
       "<div>\n",
       "<style scoped>\n",
       "    .dataframe tbody tr th:only-of-type {\n",
       "        vertical-align: middle;\n",
       "    }\n",
       "\n",
       "    .dataframe tbody tr th {\n",
       "        vertical-align: top;\n",
       "    }\n",
       "\n",
       "    .dataframe thead th {\n",
       "        text-align: right;\n",
       "    }\n",
       "</style>\n",
       "<table border=\"1\" class=\"dataframe\">\n",
       "  <thead>\n",
       "    <tr style=\"text-align: right;\">\n",
       "      <th></th>\n",
       "      <th>user_id</th>\n",
       "      <th>item_id</th>\n",
       "      <th>compliment1</th>\n",
       "      <th>compliment10</th>\n",
       "      <th>compliment11</th>\n",
       "      <th>compliment2</th>\n",
       "      <th>compliment3</th>\n",
       "      <th>compliment4</th>\n",
       "      <th>compliment5</th>\n",
       "      <th>compliment6</th>\n",
       "      <th>...</th>\n",
       "      <th>genre18</th>\n",
       "      <th>genre2</th>\n",
       "      <th>genre3</th>\n",
       "      <th>genre4</th>\n",
       "      <th>genre5</th>\n",
       "      <th>genre6</th>\n",
       "      <th>genre7</th>\n",
       "      <th>genre8</th>\n",
       "      <th>genre9</th>\n",
       "      <th>rating</th>\n",
       "    </tr>\n",
       "  </thead>\n",
       "  <tbody>\n",
       "    <tr>\n",
       "      <th>0</th>\n",
       "      <td>2</td>\n",
       "      <td>186</td>\n",
       "      <td>1</td>\n",
       "      <td>0</td>\n",
       "      <td>1</td>\n",
       "      <td>1</td>\n",
       "      <td>1</td>\n",
       "      <td>1</td>\n",
       "      <td>1</td>\n",
       "      <td>1</td>\n",
       "      <td>...</td>\n",
       "      <td>0</td>\n",
       "      <td>0</td>\n",
       "      <td>0</td>\n",
       "      <td>0</td>\n",
       "      <td>1</td>\n",
       "      <td>0</td>\n",
       "      <td>0</td>\n",
       "      <td>0</td>\n",
       "      <td>0</td>\n",
       "      <td>5</td>\n",
       "    </tr>\n",
       "    <tr>\n",
       "      <th>1</th>\n",
       "      <td>2</td>\n",
       "      <td>205</td>\n",
       "      <td>1</td>\n",
       "      <td>0</td>\n",
       "      <td>1</td>\n",
       "      <td>1</td>\n",
       "      <td>1</td>\n",
       "      <td>1</td>\n",
       "      <td>1</td>\n",
       "      <td>1</td>\n",
       "      <td>...</td>\n",
       "      <td>0</td>\n",
       "      <td>0</td>\n",
       "      <td>0</td>\n",
       "      <td>0</td>\n",
       "      <td>0</td>\n",
       "      <td>0</td>\n",
       "      <td>0</td>\n",
       "      <td>1</td>\n",
       "      <td>0</td>\n",
       "      <td>5</td>\n",
       "    </tr>\n",
       "    <tr>\n",
       "      <th>2</th>\n",
       "      <td>2</td>\n",
       "      <td>209</td>\n",
       "      <td>1</td>\n",
       "      <td>0</td>\n",
       "      <td>1</td>\n",
       "      <td>1</td>\n",
       "      <td>1</td>\n",
       "      <td>1</td>\n",
       "      <td>1</td>\n",
       "      <td>1</td>\n",
       "      <td>...</td>\n",
       "      <td>0</td>\n",
       "      <td>0</td>\n",
       "      <td>0</td>\n",
       "      <td>0</td>\n",
       "      <td>1</td>\n",
       "      <td>0</td>\n",
       "      <td>0</td>\n",
       "      <td>1</td>\n",
       "      <td>0</td>\n",
       "      <td>4</td>\n",
       "    </tr>\n",
       "  </tbody>\n",
       "</table>\n",
       "<p>3 rows × 32 columns</p>\n",
       "</div>"
      ],
      "text/plain": [
       "  user_id item_id compliment1 compliment10 compliment11 compliment2  \\\n",
       "0       2     186           1            0            1           1   \n",
       "1       2     205           1            0            1           1   \n",
       "2       2     209           1            0            1           1   \n",
       "\n",
       "  compliment3 compliment4 compliment5 compliment6  ... genre18 genre2 genre3  \\\n",
       "0           1           1           1           1  ...       0      0      0   \n",
       "1           1           1           1           1  ...       0      0      0   \n",
       "2           1           1           1           1  ...       0      0      0   \n",
       "\n",
       "  genre4 genre5 genre6 genre7 genre8 genre9 rating  \n",
       "0      0      1      0      0      0      0      5  \n",
       "1      0      0      0      0      1      0      5  \n",
       "2      0      1      0      0      1      0      4  \n",
       "\n",
       "[3 rows x 32 columns]"
      ]
     },
     "execution_count": 95,
     "metadata": {},
     "output_type": "execute_result"
    }
   ],
   "source": [
    "df_yelp_all = pd.merge(df_yelp_inter, df_yelp_user_feats, on='user_id', how='left')\n",
    "df_yelp_all = pd.merge(df_yelp_all, df_movie_item_feats, on='item_id', how='left')\n",
    "df_yelp_all['rating'] = df_yelp_all.pop('rating')\n",
    "df_yelp_all.iloc[:, :-1] = df_yelp_all.iloc[:, :-1].fillna('0')\n",
    "print(df_yelp_all.shape)\n",
    "df_yelp_all.head(3)"
   ]
  },
  {
   "cell_type": "code",
   "execution_count": null,
   "metadata": {},
   "outputs": [
    {
     "data": {
      "text/html": [
       "<div>\n",
       "<style scoped>\n",
       "    .dataframe tbody tr th:only-of-type {\n",
       "        vertical-align: middle;\n",
       "    }\n",
       "\n",
       "    .dataframe tbody tr th {\n",
       "        vertical-align: top;\n",
       "    }\n",
       "\n",
       "    .dataframe thead th {\n",
       "        text-align: right;\n",
       "    }\n",
       "</style>\n",
       "<table border=\"1\" class=\"dataframe\">\n",
       "  <thead>\n",
       "    <tr style=\"text-align: right;\">\n",
       "      <th></th>\n",
       "      <th>user_id</th>\n",
       "      <th>item_id</th>\n",
       "      <th>compliment1</th>\n",
       "      <th>compliment10</th>\n",
       "      <th>compliment11</th>\n",
       "      <th>compliment2</th>\n",
       "      <th>compliment3</th>\n",
       "      <th>compliment4</th>\n",
       "      <th>compliment5</th>\n",
       "      <th>compliment6</th>\n",
       "      <th>...</th>\n",
       "      <th>genre18</th>\n",
       "      <th>genre2</th>\n",
       "      <th>genre3</th>\n",
       "      <th>genre4</th>\n",
       "      <th>genre5</th>\n",
       "      <th>genre6</th>\n",
       "      <th>genre7</th>\n",
       "      <th>genre8</th>\n",
       "      <th>genre9</th>\n",
       "      <th>rating</th>\n",
       "    </tr>\n",
       "  </thead>\n",
       "  <tbody>\n",
       "    <tr>\n",
       "      <th>0</th>\n",
       "      <td>3867</td>\n",
       "      <td>5209</td>\n",
       "      <td>1</td>\n",
       "      <td>0</td>\n",
       "      <td>1</td>\n",
       "      <td>1</td>\n",
       "      <td>1</td>\n",
       "      <td>1</td>\n",
       "      <td>1</td>\n",
       "      <td>1</td>\n",
       "      <td>...</td>\n",
       "      <td>0</td>\n",
       "      <td>0</td>\n",
       "      <td>0</td>\n",
       "      <td>0</td>\n",
       "      <td>1</td>\n",
       "      <td>0</td>\n",
       "      <td>0</td>\n",
       "      <td>0</td>\n",
       "      <td>0</td>\n",
       "      <td>5</td>\n",
       "    </tr>\n",
       "    <tr>\n",
       "      <th>1</th>\n",
       "      <td>3867</td>\n",
       "      <td>5418</td>\n",
       "      <td>1</td>\n",
       "      <td>0</td>\n",
       "      <td>1</td>\n",
       "      <td>1</td>\n",
       "      <td>1</td>\n",
       "      <td>1</td>\n",
       "      <td>1</td>\n",
       "      <td>1</td>\n",
       "      <td>...</td>\n",
       "      <td>0</td>\n",
       "      <td>0</td>\n",
       "      <td>0</td>\n",
       "      <td>0</td>\n",
       "      <td>0</td>\n",
       "      <td>0</td>\n",
       "      <td>0</td>\n",
       "      <td>1</td>\n",
       "      <td>0</td>\n",
       "      <td>5</td>\n",
       "    </tr>\n",
       "    <tr>\n",
       "      <th>2</th>\n",
       "      <td>3867</td>\n",
       "      <td>5461</td>\n",
       "      <td>1</td>\n",
       "      <td>0</td>\n",
       "      <td>1</td>\n",
       "      <td>1</td>\n",
       "      <td>1</td>\n",
       "      <td>1</td>\n",
       "      <td>1</td>\n",
       "      <td>1</td>\n",
       "      <td>...</td>\n",
       "      <td>0</td>\n",
       "      <td>0</td>\n",
       "      <td>0</td>\n",
       "      <td>0</td>\n",
       "      <td>1</td>\n",
       "      <td>0</td>\n",
       "      <td>0</td>\n",
       "      <td>1</td>\n",
       "      <td>0</td>\n",
       "      <td>4</td>\n",
       "    </tr>\n",
       "  </tbody>\n",
       "</table>\n",
       "<p>3 rows × 32 columns</p>\n",
       "</div>"
      ],
      "text/plain": [
       "   user_id  item_id  compliment1  compliment10  compliment11  compliment2  \\\n",
       "0     3867     5209            1             0             1            1   \n",
       "1     3867     5418            1             0             1            1   \n",
       "2     3867     5461            1             0             1            1   \n",
       "\n",
       "   compliment3  compliment4  compliment5  compliment6  ...  genre18  genre2  \\\n",
       "0            1            1            1            1  ...        0       0   \n",
       "1            1            1            1            1  ...        0       0   \n",
       "2            1            1            1            1  ...        0       0   \n",
       "\n",
       "   genre3  genre4  genre5  genre6  genre7  genre8  genre9  rating  \n",
       "0       0       0       1       0       0       0       0       5  \n",
       "1       0       0       0       0       0       1       0       5  \n",
       "2       0       0       1       0       0       1       0       4  \n",
       "\n",
       "[3 rows x 32 columns]"
      ]
     },
     "execution_count": 96,
     "metadata": {},
     "output_type": "execute_result"
    }
   ],
   "source": [
    "linear_feature_columns, dnn_feature_columns, feature_names = get_feature_columns(df_yelp_all)\n",
    "df_yelp_all.head(3)"
   ]
  },
  {
   "cell_type": "code",
   "execution_count": null,
   "metadata": {},
   "outputs": [
    {
     "name": "stdout",
     "output_type": "stream",
     "text": [
      "250/250 [==============================] - 8s 14ms/step - loss: 1.8399 - mse: 1.8398 - val_loss: 0.9044 - val_mse: 0.9044\n"
     ]
    },
    {
     "name": "stderr",
     "output_type": "stream",
     "text": [
      "WARNING:absl:Found untraced functions such as dropout_layer_call_and_return_conditional_losses, dropout_layer_call_fn, dropout_1_layer_call_and_return_conditional_losses, dropout_1_layer_call_fn, dropout_2_layer_call_and_return_conditional_losses while saving (showing 5 of 12). These functions will not be directly callable after loading.\n"
     ]
    },
    {
     "name": "stdout",
     "output_type": "stream",
     "text": [
      "test MSE 0.9163\n",
      "remember to take off break\n"
     ]
    }
   ],
   "source": [
    "# FNN\n",
    "dict_FNN = {'linear_feature_columns': linear_feature_columns,\n",
    "            'dnn_feature_columns': dnn_feature_columns,\n",
    "            'task': 'regression'}\n",
    "ls_result = calc_nn_based_model(df_yelp_all, \n",
    "                                FNN, dict_FNN,\n",
    "                                feature_names, \n",
    "                                'yelp', 'FNN')\n",
    "all_result.extend(ls_result)"
   ]
  },
  {
   "cell_type": "code",
   "execution_count": null,
   "metadata": {},
   "outputs": [
    {
     "name": "stdout",
     "output_type": "stream",
     "text": [
      "1976/1976 [==============================] - 14s 7ms/step - loss: 0.7286 - mse: 0.7275 - val_loss: 0.4997 - val_mse: 0.4977\n"
     ]
    },
    {
     "name": "stderr",
     "output_type": "stream",
     "text": [
      "WARNING:absl:Found untraced functions such as dropout_layer_call_and_return_conditional_losses, dropout_layer_call_fn, dropout_1_layer_call_and_return_conditional_losses, dropout_1_layer_call_fn, dropout_2_layer_call_and_return_conditional_losses while saving (showing 5 of 12). These functions will not be directly callable after loading.\n"
     ]
    },
    {
     "name": "stdout",
     "output_type": "stream",
     "text": [
      "test MSE 0.5015\n",
      "remember to take off break\n"
     ]
    }
   ],
   "source": [
    "# IPNN\n",
    "dict_IPNN = {'dnn_feature_columns': dnn_feature_columns,\n",
    "            'task': 'regression',\n",
    "            'use_inner': True}\n",
    "ls_result = calc_nn_based_model(df_yelp_all, \n",
    "                                PNN, dict_IPNN,\n",
    "                                feature_names, \n",
    "                                'yelp', 'IPNN')\n",
    "all_result.extend(ls_result)"
   ]
  },
  {
   "cell_type": "code",
   "execution_count": null,
   "metadata": {},
   "outputs": [
    {
     "name": "stdout",
     "output_type": "stream",
     "text": [
      "1976/1976 [==============================] - 16s 7ms/step - loss: 0.7031 - mse: 0.7021 - val_loss: 0.4952 - val_mse: 0.4931\n"
     ]
    },
    {
     "name": "stderr",
     "output_type": "stream",
     "text": [
      "WARNING:absl:Found untraced functions such as dropout_layer_call_and_return_conditional_losses, dropout_layer_call_fn, dropout_1_layer_call_and_return_conditional_losses, dropout_1_layer_call_fn, dropout_2_layer_call_and_return_conditional_losses while saving (showing 5 of 12). These functions will not be directly callable after loading.\n"
     ]
    },
    {
     "name": "stdout",
     "output_type": "stream",
     "text": [
      "test MSE 0.4961\n",
      "remember to take off break\n"
     ]
    }
   ],
   "source": [
    "# OPNN\n",
    "dict_OPNN = {'dnn_feature_columns': dnn_feature_columns,\n",
    "            'task': 'regression',\n",
    "            'use_outter': True}\n",
    "ls_result = calc_nn_based_model(df_yelp_all, \n",
    "                                PNN, dict_OPNN,\n",
    "                                feature_names, \n",
    "                                'yelp', 'OPNN')\n",
    "all_result.extend(ls_result)"
   ]
  },
  {
   "cell_type": "code",
   "execution_count": null,
   "metadata": {},
   "outputs": [],
   "source": [
    "# PIN"
   ]
  },
  {
   "cell_type": "code",
   "execution_count": null,
   "metadata": {},
   "outputs": [
    {
     "name": "stdout",
     "output_type": "stream",
     "text": [
      "1976/1976 [==============================] - 26s 12ms/step - loss: 0.7382 - mse: 0.7363 - val_loss: 0.5037 - val_mse: 0.5000\n"
     ]
    },
    {
     "name": "stderr",
     "output_type": "stream",
     "text": [
      "WARNING:absl:Found untraced functions such as dropout_layer_call_and_return_conditional_losses, dropout_layer_call_fn, dropout_1_layer_call_and_return_conditional_losses, dropout_1_layer_call_fn, activation_layer_call_and_return_conditional_losses while saving (showing 5 of 8). These functions will not be directly callable after loading.\n"
     ]
    },
    {
     "name": "stdout",
     "output_type": "stream",
     "text": [
      "test MSE 0.5031\n",
      "remember to take off break\n"
     ]
    }
   ],
   "source": [
    "# CCPM\n",
    "dict_CCPM = {'linear_feature_columns': linear_feature_columns,\n",
    "            'dnn_feature_columns': dnn_feature_columns,\n",
    "            'task': 'regression'}\n",
    "ls_result = calc_nn_based_model(df_yelp_all, \n",
    "                                CCPM, dict_CCPM,\n",
    "                                feature_names, \n",
    "                                'yelp', 'CCPM')\n",
    "all_result.extend(ls_result)"
   ]
  },
  {
   "cell_type": "code",
   "execution_count": null,
   "metadata": {},
   "outputs": [
    {
     "name": "stdout",
     "output_type": "stream",
     "text": [
      "1976/1976 [==============================] - 15s 7ms/step - loss: 0.7390 - mse: 0.7377 - val_loss: 0.4978 - val_mse: 0.4954\n"
     ]
    },
    {
     "name": "stderr",
     "output_type": "stream",
     "text": [
      "WARNING:absl:Found untraced functions such as dropout_layer_call_and_return_conditional_losses, dropout_layer_call_fn, dropout_1_layer_call_and_return_conditional_losses, dropout_1_layer_call_fn, dropout_2_layer_call_and_return_conditional_losses while saving (showing 5 of 12). These functions will not be directly callable after loading.\n"
     ]
    },
    {
     "name": "stdout",
     "output_type": "stream",
     "text": [
      "test MSE 0.4991\n",
      "remember to take off break\n"
     ]
    }
   ],
   "source": [
    "# WD\n",
    "dict_WD = {'linear_feature_columns': linear_feature_columns,\n",
    "           'dnn_feature_columns': dnn_feature_columns,\n",
    "           'task': 'regression'}\n",
    "ls_result = calc_nn_based_model(df_yelp_all, \n",
    "                                WDL, dict_WD,\n",
    "                                feature_names, \n",
    "                                'yelp', 'WD')\n",
    "all_result.extend(ls_result)"
   ]
  },
  {
   "cell_type": "code",
   "execution_count": null,
   "metadata": {},
   "outputs": [
    {
     "name": "stdout",
     "output_type": "stream",
     "text": [
      "CrossNet parameterization: vector\n",
      "1976/1976 [==============================] - 17s 8ms/step - loss: 0.7164 - mse: 0.7151 - val_loss: 0.5063 - val_mse: 0.5038\n"
     ]
    },
    {
     "name": "stderr",
     "output_type": "stream",
     "text": [
      "WARNING:absl:Found untraced functions such as dropout_layer_call_and_return_conditional_losses, dropout_layer_call_fn, dropout_1_layer_call_and_return_conditional_losses, dropout_1_layer_call_fn, dropout_2_layer_call_and_return_conditional_losses while saving (showing 5 of 12). These functions will not be directly callable after loading.\n"
     ]
    },
    {
     "name": "stdout",
     "output_type": "stream",
     "text": [
      "test MSE 0.507\n",
      "remember to take off break\n"
     ]
    }
   ],
   "source": [
    "# DC\n",
    "dict_DC = {'linear_feature_columns': linear_feature_columns,\n",
    "           'dnn_feature_columns': dnn_feature_columns,\n",
    "           'task': 'regression'}\n",
    "ls_result = calc_nn_based_model(df_yelp_all, \n",
    "                                DCN, dict_DC,\n",
    "                                feature_names, \n",
    "                                'yelp', 'DC')\n",
    "all_result.extend(ls_result)"
   ]
  },
  {
   "cell_type": "code",
   "execution_count": null,
   "metadata": {},
   "outputs": [
    {
     "name": "stdout",
     "output_type": "stream",
     "text": [
      "1976/1976 [==============================] - 15s 7ms/step - loss: 0.7413 - mse: 0.7395 - val_loss: 0.4947 - val_mse: 0.4913\n"
     ]
    },
    {
     "name": "stderr",
     "output_type": "stream",
     "text": [
      "WARNING:absl:Found untraced functions such as dropout_layer_call_and_return_conditional_losses, dropout_layer_call_fn, dropout_1_layer_call_and_return_conditional_losses, dropout_1_layer_call_fn, dropout_2_layer_call_and_return_conditional_losses while saving (showing 5 of 12). These functions will not be directly callable after loading.\n"
     ]
    },
    {
     "name": "stdout",
     "output_type": "stream",
     "text": [
      "test MSE 0.4942\n",
      "remember to take off break\n"
     ]
    }
   ],
   "source": [
    "# NFM\n",
    "dict_NFM = {'linear_feature_columns': linear_feature_columns,\n",
    "            'dnn_feature_columns': dnn_feature_columns,\n",
    "            'task': 'regression'}\n",
    "ls_result = calc_nn_based_model(df_yelp_all, \n",
    "                                NFM, dict_NFM,\n",
    "                                feature_names, \n",
    "                                'yelp', 'NFM')\n",
    "all_result.extend(ls_result)"
   ]
  },
  {
   "cell_type": "code",
   "execution_count": null,
   "metadata": {},
   "outputs": [
    {
     "name": "stdout",
     "output_type": "stream",
     "text": [
      "1976/1976 [==============================] - 15s 7ms/step - loss: 0.6969 - mse: 0.6957 - val_loss: 0.4999 - val_mse: 0.4975\n"
     ]
    },
    {
     "name": "stderr",
     "output_type": "stream",
     "text": [
      "WARNING:absl:Found untraced functions such as dropout_layer_call_and_return_conditional_losses, dropout_layer_call_fn, dropout_1_layer_call_and_return_conditional_losses, dropout_1_layer_call_fn, dropout_2_layer_call_and_return_conditional_losses while saving (showing 5 of 12). These functions will not be directly callable after loading.\n"
     ]
    },
    {
     "name": "stdout",
     "output_type": "stream",
     "text": [
      "test MSE 0.5005\n",
      "remember to take off break\n"
     ]
    }
   ],
   "source": [
    "# deepFM\n",
    "dict_deepFM = {'linear_feature_columns': linear_feature_columns, \n",
    "               'dnn_feature_columns': dnn_feature_columns,\n",
    "               'task': 'regression'}\n",
    "ls_result = calc_nn_based_model(df_yelp_all, \n",
    "                                DeepFM, dict_deepFM,\n",
    "                                feature_names, \n",
    "                                'yelp', 'deepFM')\n",
    "all_result.extend(ls_result)"
   ]
  },
  {
   "cell_type": "code",
   "execution_count": null,
   "metadata": {},
   "outputs": [
    {
     "name": "stdout",
     "output_type": "stream",
     "text": [
      "1976/1976 [==============================] - 16s 7ms/step - loss: 2.5078 - mse: 2.5021 - val_loss: 0.6157 - val_mse: 0.6076\n"
     ]
    },
    {
     "name": "stderr",
     "output_type": "stream",
     "text": [
      "WARNING:absl:Found untraced functions such as dropout_layer_call_and_return_conditional_losses, dropout_layer_call_fn, lambda_layer_call_and_return_conditional_losses, lambda_layer_call_fn while saving (showing 4 of 4). These functions will not be directly callable after loading.\n"
     ]
    },
    {
     "name": "stdout",
     "output_type": "stream",
     "text": [
      "test MSE 0.6122\n",
      "remember to take off break\n"
     ]
    }
   ],
   "source": [
    "# AFM\n",
    "dict_AFM = {'linear_feature_columns': linear_feature_columns,\n",
    "            'dnn_feature_columns': dnn_feature_columns,\n",
    "            'task': 'regression'}\n",
    "ls_result = calc_nn_based_model(df_yelp_all, \n",
    "                                AFM, dict_AFM,\n",
    "                                feature_names, \n",
    "                                'yelp', 'AFM')\n",
    "all_result.extend(ls_result)"
   ]
  },
  {
   "cell_type": "code",
   "execution_count": null,
   "metadata": {},
   "outputs": [
    {
     "name": "stdout",
     "output_type": "stream",
     "text": [
      "1976/1976 [==============================] - 20s 9ms/step - loss: 0.6668 - mse: 0.6654 - val_loss: 0.4968 - val_mse: 0.4942\n"
     ]
    },
    {
     "name": "stderr",
     "output_type": "stream",
     "text": [
      "WARNING:absl:Found untraced functions such as dropout_layer_call_and_return_conditional_losses, dropout_layer_call_fn, dropout_1_layer_call_and_return_conditional_losses, dropout_1_layer_call_fn, dropout_2_layer_call_and_return_conditional_losses while saving (showing 5 of 16). These functions will not be directly callable after loading.\n"
     ]
    },
    {
     "name": "stdout",
     "output_type": "stream",
     "text": [
      "test MSE 0.4988\n",
      "remember to take off break\n"
     ]
    }
   ],
   "source": [
    "# xDeepFM\n",
    "dict_xDeepFM = {'linear_feature_columns': linear_feature_columns,\n",
    "                'dnn_feature_columns': dnn_feature_columns,\n",
    "                'task': 'regression'}\n",
    "ls_result = calc_nn_based_model(df_yelp_all, \n",
    "                                xDeepFM, dict_xDeepFM,\n",
    "                                feature_names, \n",
    "                                'yelp', 'xDeepFM')\n",
    "all_result.extend(ls_result)"
   ]
  },
  {
   "cell_type": "code",
   "execution_count": null,
   "metadata": {},
   "outputs": [],
   "source": []
  }
 ],
 "metadata": {
  "kernelspec": {
   "display_name": "jupyterhub",
   "language": "python",
   "name": "python3"
  },
  "language_info": {
   "codemirror_mode": {
    "name": "ipython",
    "version": 3
   },
   "file_extension": ".py",
   "mimetype": "text/x-python",
   "name": "python",
   "nbconvert_exporter": "python",
   "pygments_lexer": "ipython3",
   "version": "3.9.13"
  },
  "orig_nbformat": 4
 },
 "nbformat": 4,
 "nbformat_minor": 2
}
