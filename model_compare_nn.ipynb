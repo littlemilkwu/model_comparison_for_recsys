{
 "cells": [
  {
   "cell_type": "code",
   "execution_count": 1,
   "metadata": {},
   "outputs": [],
   "source": [
    "import math\n",
    "import numpy as np\n",
    "import pandas as pd\n",
    "from pprint import pprint\n",
    "from tqdm import tqdm\n",
    "from config import *\n",
    "from collections import defaultdict\n",
    "from sklearn.preprocessing import LabelEncoder\n",
    "from sklearn.model_selection import KFold\n",
    "from sklearn.metrics import mean_squared_error\n",
    "import warnings\n",
    "warnings.filterwarnings('ignore')"
   ]
  },
  {
   "attachments": {},
   "cell_type": "markdown",
   "metadata": {},
   "source": [
    "## Import"
   ]
  },
  {
   "cell_type": "code",
   "execution_count": 2,
   "metadata": {},
   "outputs": [],
   "source": [
    "df_douban_inter = pd.read_csv(data_preprocessing + 'douban_inter.csv', dtype={'user_id': str, 'item_id': str, 'rating': int})\n",
    "df_douban_user_feats = pd.read_csv(data_preprocessing + 'douban_user_features.csv', dtype=str)\n",
    "df_douban_item_feats = pd.read_csv(data_preprocessing + 'douban_item_features.csv', dtype={'item_id': str, 'author': str, 'publisher': str, 'year': str})\n",
    "# df_douban_inter"
   ]
  },
  {
   "cell_type": "code",
   "execution_count": 3,
   "metadata": {},
   "outputs": [],
   "source": [
    "df_movie_inter = pd.read_csv(data_preprocessing + 'movie_inter.csv', dtype={'user_id': str, 'item_id': str, 'rating': int, 'timestamp': int})\n",
    "df_movie_user_feats = pd.read_csv(data_preprocessing + 'movie_user_features.csv', dtype=str)\n",
    "df_movie_item_feats = pd.read_csv(data_preprocessing + 'movie_item_features.csv', dtype=str)\n",
    "# df_movie_inter"
   ]
  },
  {
   "cell_type": "code",
   "execution_count": 4,
   "metadata": {},
   "outputs": [],
   "source": [
    "df_yelp_inter = pd.read_csv(data_preprocessing + 'yelp_inter.csv', dtype={'user_id': str, 'item_id': str, 'rating': int})\n",
    "df_yelp_user_feats = pd.read_csv(data_preprocessing + 'yelp_user_features.csv', dtype=str)\n",
    "df_yelp_item_feats = pd.read_csv(data_preprocessing + 'yelp_item_features.csv', dtype=str)\n",
    "# df_yelp_inter"
   ]
  },
  {
   "attachments": {},
   "cell_type": "markdown",
   "metadata": {},
   "source": [
    "## NN-Based"
   ]
  },
  {
   "cell_type": "code",
   "execution_count": 5,
   "metadata": {},
   "outputs": [],
   "source": [
    "import os\n",
    "os.environ['TF_CPP_MIN_LOG_LEVEL'] = '3'\n",
    "import tensorflow as tf\n",
    "tf.get_logger().setLevel('ERROR')\n",
    "from deepctr.models import FNN, PNN, CCPM, NFM, WDL, DCN, DeepFM\n",
    "from deepctr.models import AFM, xDeepFM, DIN\n",
    "from deepctr.feature_column import SparseFeat, DenseFeat, get_feature_names\n",
    "from tensorflow.keras.callbacks import EarlyStopping, ModelCheckpoint\n"
   ]
  },
  {
   "cell_type": "code",
   "execution_count": 6,
   "metadata": {},
   "outputs": [],
   "source": [
    "Kf = KFold(n_splits=5, random_state=RANDOM_STATE, shuffle=True)\n",
    "# device = torch.device('cuda' if torch.cuda.is_available() else 'cpu')\n",
    "all_result = []"
   ]
  },
  {
   "attachments": {},
   "cell_type": "markdown",
   "metadata": {},
   "source": [
    "## NN-based"
   ]
  },
  {
   "cell_type": "code",
   "execution_count": 7,
   "metadata": {},
   "outputs": [],
   "source": [
    "def get_feature_columns(df_all):\n",
    "    # treat year as categorical\n",
    "    sparse_features = list(df_all.columns[:-1])\n",
    "\n",
    "    df_all[sparse_features] = df_all[sparse_features].fillna('-1')\n",
    "\n",
    "    # 1. label encode\n",
    "    for feat in sparse_features:\n",
    "        lbe = LabelEncoder()\n",
    "        df_all[feat] = lbe.fit_transform(df_all[feat])\n",
    "\n",
    "    # 2. count #unique features for each sparse field\n",
    "    fixlen_feature_columns = [SparseFeat(feat, df_all[feat].nunique()) for feat in sparse_features]\n",
    "    linear_feature_columns = fixlen_feature_columns\n",
    "    dnn_feature_columns = fixlen_feature_columns\n",
    "    feature_names = get_feature_names(linear_feature_columns + dnn_feature_columns)\n",
    "    return linear_feature_columns, dnn_feature_columns, feature_names"
   ]
  },
  {
   "cell_type": "code",
   "execution_count": 8,
   "metadata": {},
   "outputs": [],
   "source": [
    "def calc_nn_evaluate(df_test, pred, k=10, threshold=3.5):\n",
    "    rmse = round(np.sqrt(mean_squared_error(df_test['rating'].values, pred)), 4)\n",
    "    dict_user_ratings = defaultdict(list)\n",
    "    for i, x in df_test.iterrows():\n",
    "        dict_user_ratings[x['user_id']].append((pred[i], x['rating']))\n",
    "    \n",
    "    ls_recall, ls_ndcg = [], []\n",
    "    for user_id, ls_user_rating in dict_user_ratings.items():\n",
    "        ls_user_rating.sort(key=lambda x: x[0], reverse=True)\n",
    "        ls_true_sort = sorted(ls_user_rating, key=lambda x: x[1], reverse=True)\n",
    "        # recall\n",
    "        num_rel = sum(1 for (pred, true_rate) in ls_user_rating if true_rate > threshold)\n",
    "        num_rel_topk = sum(1 for (pred, true_rate) in ls_user_rating[:k] if true_rate > threshold and pred > threshold)\n",
    "        recall = num_rel_topk / num_rel if num_rel !=0 else 0\n",
    "        ls_recall.append(recall)\n",
    "\n",
    "        # ndcg\n",
    "        dcg = sum(true_rate / math.log(i + 2, 2) for i, (pred, true_rate) in enumerate(ls_user_rating[:k]))\n",
    "        idcg = sum(true_rate / math.log(i + 2, 2) for i, (pred, true_rate) in enumerate(ls_true_sort[:k]))\n",
    "        ndcg = dcg / idcg\n",
    "        ls_ndcg.append(ndcg)\n",
    "    \n",
    "    final_recall = round(sum(ls_recall) / len(ls_recall), 4)\n",
    "    final_ndcg = round(sum(ls_ndcg) / len(ls_ndcg), 4)\n",
    "    return [rmse, final_recall, final_ndcg]"
   ]
  },
  {
   "cell_type": "code",
   "execution_count": 9,
   "metadata": {},
   "outputs": [],
   "source": [
    "def calc_nn_based_model(df_all, \n",
    "                        Model, model_params,\n",
    "                        feature_names,\n",
    "                        data_name, model_name):\n",
    "    ls_result = []\n",
    "    for i, (train_idx, test_idx) in enumerate(Kf.split(df_all)):\n",
    "        df_train, df_test = df_all.iloc[train_idx].reset_index(drop=True), df_all.iloc[test_idx].reset_index(drop=True)\n",
    "        train_model_input = {name: df_train[name] for name in feature_names}\n",
    "        test_model_input = {name: df_test[name] for name in feature_names}\n",
    "        model = Model(**model_params)\n",
    "        model.compile('adam', 'mse', metrics=['mse'])\n",
    "        es = EarlyStopping(monitor='val_mse', mode='min', patience=5, restore_best_weights=True)\n",
    "        mdckpt = ModelCheckpoint(filepath=f'./saved_model/tf_{model_name}_{data_name}/', monitor='val_mse', save_best_only=True, mode='min')\n",
    "        history = model.fit(\n",
    "            train_model_input, df_train['rating'].values, \n",
    "            batch_size=BATCH_SIZE, epochs=EPOCHS, verbose=1, validation_split=0.2,\n",
    "            callbacks=[es, mdckpt])\n",
    "        pred = model.predict(test_model_input, batch_size=BATCH_SIZE)\n",
    "        print('test MSE', round(mean_squared_error(df_test['rating'].values, pred), 4))\n",
    "        ls_result.append([model_name, i, data_name] + calc_nn_evaluate(df_test, pred))\n",
    "    return ls_result"
   ]
  },
  {
   "attachments": {},
   "cell_type": "markdown",
   "metadata": {},
   "source": [
    "### douban"
   ]
  },
  {
   "cell_type": "code",
   "execution_count": 10,
   "metadata": {},
   "outputs": [
    {
     "name": "stdout",
     "output_type": "stream",
     "text": [
      "(790197, 7)\n"
     ]
    },
    {
     "data": {
      "text/html": [
       "<div>\n",
       "<style scoped>\n",
       "    .dataframe tbody tr th:only-of-type {\n",
       "        vertical-align: middle;\n",
       "    }\n",
       "\n",
       "    .dataframe tbody tr th {\n",
       "        vertical-align: top;\n",
       "    }\n",
       "\n",
       "    .dataframe thead th {\n",
       "        text-align: right;\n",
       "    }\n",
       "</style>\n",
       "<table border=\"1\" class=\"dataframe\">\n",
       "  <thead>\n",
       "    <tr style=\"text-align: right;\">\n",
       "      <th></th>\n",
       "      <th>user_id</th>\n",
       "      <th>item_id</th>\n",
       "      <th>location</th>\n",
       "      <th>author</th>\n",
       "      <th>publisher</th>\n",
       "      <th>year</th>\n",
       "      <th>rating</th>\n",
       "    </tr>\n",
       "  </thead>\n",
       "  <tbody>\n",
       "    <tr>\n",
       "      <th>0</th>\n",
       "      <td>10855</td>\n",
       "      <td>938</td>\n",
       "      <td>33</td>\n",
       "      <td>4387</td>\n",
       "      <td>944</td>\n",
       "      <td>20</td>\n",
       "      <td>4</td>\n",
       "    </tr>\n",
       "    <tr>\n",
       "      <th>1</th>\n",
       "      <td>10027</td>\n",
       "      <td>3</td>\n",
       "      <td>394</td>\n",
       "      <td>9486</td>\n",
       "      <td>1743</td>\n",
       "      <td>14</td>\n",
       "      <td>3</td>\n",
       "    </tr>\n",
       "    <tr>\n",
       "      <th>2</th>\n",
       "      <td>741</td>\n",
       "      <td>2426</td>\n",
       "      <td>13</td>\n",
       "      <td>10548</td>\n",
       "      <td>1475</td>\n",
       "      <td>21</td>\n",
       "      <td>5</td>\n",
       "    </tr>\n",
       "  </tbody>\n",
       "</table>\n",
       "</div>"
      ],
      "text/plain": [
       "  user_id item_id location author publisher year  rating\n",
       "0   10855     938       33   4387       944   20       4\n",
       "1   10027       3      394   9486      1743   14       3\n",
       "2     741    2426       13  10548      1475   21       5"
      ]
     },
     "execution_count": 10,
     "metadata": {},
     "output_type": "execute_result"
    }
   ],
   "source": [
    "df_douban_all = pd.merge(df_douban_inter, df_douban_user_feats, on='user_id', how='left')\n",
    "df_douban_all = pd.merge(df_douban_all, df_douban_item_feats, on='item_id', how='left')\n",
    "df_douban_all['rating'] = df_douban_all.pop('rating')\n",
    "print(df_douban_all.shape)\n",
    "df_douban_all.head(3)"
   ]
  },
  {
   "cell_type": "code",
   "execution_count": 11,
   "metadata": {},
   "outputs": [
    {
     "data": {
      "text/html": [
       "<div>\n",
       "<style scoped>\n",
       "    .dataframe tbody tr th:only-of-type {\n",
       "        vertical-align: middle;\n",
       "    }\n",
       "\n",
       "    .dataframe tbody tr th {\n",
       "        vertical-align: top;\n",
       "    }\n",
       "\n",
       "    .dataframe thead th {\n",
       "        text-align: right;\n",
       "    }\n",
       "</style>\n",
       "<table border=\"1\" class=\"dataframe\">\n",
       "  <thead>\n",
       "    <tr style=\"text-align: right;\">\n",
       "      <th></th>\n",
       "      <th>user_id</th>\n",
       "      <th>item_id</th>\n",
       "      <th>location</th>\n",
       "      <th>author</th>\n",
       "      <th>publisher</th>\n",
       "      <th>year</th>\n",
       "      <th>rating</th>\n",
       "    </tr>\n",
       "  </thead>\n",
       "  <tbody>\n",
       "    <tr>\n",
       "      <th>0</th>\n",
       "      <td>848</td>\n",
       "      <td>21659</td>\n",
       "      <td>244</td>\n",
       "      <td>4571</td>\n",
       "      <td>1755</td>\n",
       "      <td>13</td>\n",
       "      <td>4</td>\n",
       "    </tr>\n",
       "    <tr>\n",
       "      <th>1</th>\n",
       "      <td>30</td>\n",
       "      <td>14570</td>\n",
       "      <td>313</td>\n",
       "      <td>10236</td>\n",
       "      <td>828</td>\n",
       "      <td>6</td>\n",
       "      <td>3</td>\n",
       "    </tr>\n",
       "    <tr>\n",
       "      <th>2</th>\n",
       "      <td>9117</td>\n",
       "      <td>13934</td>\n",
       "      <td>32</td>\n",
       "      <td>612</td>\n",
       "      <td>530</td>\n",
       "      <td>14</td>\n",
       "      <td>5</td>\n",
       "    </tr>\n",
       "  </tbody>\n",
       "</table>\n",
       "</div>"
      ],
      "text/plain": [
       "   user_id  item_id  location  author  publisher  year  rating\n",
       "0      848    21659       244    4571       1755    13       4\n",
       "1       30    14570       313   10236        828     6       3\n",
       "2     9117    13934        32     612        530    14       5"
      ]
     },
     "execution_count": 11,
     "metadata": {},
     "output_type": "execute_result"
    }
   ],
   "source": [
    "linear_feature_columns, dnn_feature_columns, feature_names = get_feature_columns(df_douban_all)\n",
    "df_douban_all.head(3)"
   ]
  },
  {
   "cell_type": "code",
   "execution_count": 12,
   "metadata": {},
   "outputs": [
    {
     "name": "stdout",
     "output_type": "stream",
     "text": [
      "Epoch 1/30\n",
      "1976/1976 [==============================] - 16s 7ms/step - loss: 0.7376 - mse: 0.7363 - val_loss: 0.4997 - val_mse: 0.4972\n"
     ]
    },
    {
     "name": "stderr",
     "output_type": "stream",
     "text": [
      "WARNING:absl:Found untraced functions such as dropout_layer_call_fn, dropout_layer_call_and_return_conditional_losses, dropout_1_layer_call_fn, dropout_1_layer_call_and_return_conditional_losses, dropout_2_layer_call_fn while saving (showing 5 of 12). These functions will not be directly callable after loading.\n"
     ]
    },
    {
     "name": "stdout",
     "output_type": "stream",
     "text": [
      "Epoch 2/30\n",
      "1976/1976 [==============================] - 13s 7ms/step - loss: 0.4811 - mse: 0.4774 - val_loss: 0.4973 - val_mse: 0.4925\n"
     ]
    },
    {
     "name": "stderr",
     "output_type": "stream",
     "text": [
      "WARNING:absl:Found untraced functions such as dropout_layer_call_fn, dropout_layer_call_and_return_conditional_losses, dropout_1_layer_call_fn, dropout_1_layer_call_and_return_conditional_losses, dropout_2_layer_call_fn while saving (showing 5 of 12). These functions will not be directly callable after loading.\n"
     ]
    },
    {
     "name": "stdout",
     "output_type": "stream",
     "text": [
      "Epoch 3/30\n",
      "1976/1976 [==============================] - 14s 7ms/step - loss: 0.4677 - mse: 0.4616 - val_loss: 0.4948 - val_mse: 0.4877\n"
     ]
    },
    {
     "name": "stderr",
     "output_type": "stream",
     "text": [
      "WARNING:absl:Found untraced functions such as dropout_layer_call_fn, dropout_layer_call_and_return_conditional_losses, dropout_1_layer_call_fn, dropout_1_layer_call_and_return_conditional_losses, dropout_2_layer_call_fn while saving (showing 5 of 12). These functions will not be directly callable after loading.\n"
     ]
    },
    {
     "name": "stdout",
     "output_type": "stream",
     "text": [
      "Epoch 4/30\n",
      "1976/1976 [==============================] - 14s 7ms/step - loss: 0.4537 - mse: 0.4454 - val_loss: 0.4976 - val_mse: 0.4884\n",
      "Epoch 5/30\n",
      "1976/1976 [==============================] - 14s 7ms/step - loss: 0.4404 - mse: 0.4301 - val_loss: 0.4973 - val_mse: 0.4861\n"
     ]
    },
    {
     "name": "stderr",
     "output_type": "stream",
     "text": [
      "WARNING:absl:Found untraced functions such as dropout_layer_call_fn, dropout_layer_call_and_return_conditional_losses, dropout_1_layer_call_fn, dropout_1_layer_call_and_return_conditional_losses, dropout_2_layer_call_fn while saving (showing 5 of 12). These functions will not be directly callable after loading.\n"
     ]
    },
    {
     "name": "stdout",
     "output_type": "stream",
     "text": [
      "Epoch 6/30\n",
      "1976/1976 [==============================] - 15s 7ms/step - loss: 0.4256 - mse: 0.4133 - val_loss: 0.5227 - val_mse: 0.5096\n",
      "Epoch 7/30\n",
      "1976/1976 [==============================] - 14s 7ms/step - loss: 0.4115 - mse: 0.3974 - val_loss: 0.5209 - val_mse: 0.5061\n",
      "Epoch 8/30\n",
      "1976/1976 [==============================] - 14s 7ms/step - loss: 0.3999 - mse: 0.3843 - val_loss: 0.5183 - val_mse: 0.5020\n",
      "Epoch 9/30\n",
      "1976/1976 [==============================] - 14s 7ms/step - loss: 0.3903 - mse: 0.3732 - val_loss: 0.5287 - val_mse: 0.5111\n",
      "Epoch 10/30\n",
      "1976/1976 [==============================] - 14s 7ms/step - loss: 0.3826 - mse: 0.3644 - val_loss: 0.5340 - val_mse: 0.5151\n",
      "test MSE 0.4903\n",
      "Epoch 1/30\n",
      "1976/1976 [==============================] - 16s 7ms/step - loss: 0.7236 - mse: 0.7224 - val_loss: 0.5006 - val_mse: 0.4982\n"
     ]
    },
    {
     "name": "stderr",
     "output_type": "stream",
     "text": [
      "WARNING:absl:Found untraced functions such as dropout_layer_call_fn, dropout_layer_call_and_return_conditional_losses, dropout_1_layer_call_fn, dropout_1_layer_call_and_return_conditional_losses, dropout_2_layer_call_fn while saving (showing 5 of 12). These functions will not be directly callable after loading.\n"
     ]
    },
    {
     "name": "stdout",
     "output_type": "stream",
     "text": [
      "Epoch 2/30\n",
      "1976/1976 [==============================] - 14s 7ms/step - loss: 0.4775 - mse: 0.4738 - val_loss: 0.4916 - val_mse: 0.4868\n"
     ]
    },
    {
     "name": "stderr",
     "output_type": "stream",
     "text": [
      "WARNING:absl:Found untraced functions such as dropout_layer_call_fn, dropout_layer_call_and_return_conditional_losses, dropout_1_layer_call_fn, dropout_1_layer_call_and_return_conditional_losses, dropout_2_layer_call_fn while saving (showing 5 of 12). These functions will not be directly callable after loading.\n"
     ]
    },
    {
     "name": "stdout",
     "output_type": "stream",
     "text": [
      "Epoch 3/30\n",
      "1976/1976 [==============================] - 14s 7ms/step - loss: 0.4596 - mse: 0.4534 - val_loss: 0.4898 - val_mse: 0.4826\n"
     ]
    },
    {
     "name": "stderr",
     "output_type": "stream",
     "text": [
      "WARNING:absl:Found untraced functions such as dropout_layer_call_fn, dropout_layer_call_and_return_conditional_losses, dropout_1_layer_call_fn, dropout_1_layer_call_and_return_conditional_losses, dropout_2_layer_call_fn while saving (showing 5 of 12). These functions will not be directly callable after loading.\n"
     ]
    },
    {
     "name": "stdout",
     "output_type": "stream",
     "text": [
      "Epoch 4/30\n",
      "1976/1976 [==============================] - 15s 7ms/step - loss: 0.4467 - mse: 0.4383 - val_loss: 0.5048 - val_mse: 0.4954\n",
      "Epoch 5/30\n",
      "1976/1976 [==============================] - 15s 8ms/step - loss: 0.4332 - mse: 0.4227 - val_loss: 0.5053 - val_mse: 0.4939\n",
      "Epoch 6/30\n",
      "1976/1976 [==============================] - 15s 7ms/step - loss: 0.4185 - mse: 0.4061 - val_loss: 0.5096 - val_mse: 0.4964\n",
      "Epoch 7/30\n",
      "1976/1976 [==============================] - 15s 7ms/step - loss: 0.4047 - mse: 0.3905 - val_loss: 0.5202 - val_mse: 0.5052\n",
      "Epoch 8/30\n",
      "1976/1976 [==============================] - 15s 7ms/step - loss: 0.3941 - mse: 0.3783 - val_loss: 0.5349 - val_mse: 0.5184\n",
      "test MSE 0.4836\n",
      "Epoch 1/30\n",
      "1976/1976 [==============================] - 17s 8ms/step - loss: 0.7146 - mse: 0.7133 - val_loss: 0.5001 - val_mse: 0.4977\n"
     ]
    },
    {
     "name": "stderr",
     "output_type": "stream",
     "text": [
      "WARNING:absl:Found untraced functions such as dropout_layer_call_fn, dropout_layer_call_and_return_conditional_losses, dropout_1_layer_call_fn, dropout_1_layer_call_and_return_conditional_losses, dropout_2_layer_call_fn while saving (showing 5 of 12). These functions will not be directly callable after loading.\n"
     ]
    },
    {
     "name": "stdout",
     "output_type": "stream",
     "text": [
      "Epoch 2/30\n",
      "1976/1976 [==============================] - 15s 8ms/step - loss: 0.4779 - mse: 0.4742 - val_loss: 0.4967 - val_mse: 0.4919\n"
     ]
    },
    {
     "name": "stderr",
     "output_type": "stream",
     "text": [
      "WARNING:absl:Found untraced functions such as dropout_layer_call_fn, dropout_layer_call_and_return_conditional_losses, dropout_1_layer_call_fn, dropout_1_layer_call_and_return_conditional_losses, dropout_2_layer_call_fn while saving (showing 5 of 12). These functions will not be directly callable after loading.\n"
     ]
    },
    {
     "name": "stdout",
     "output_type": "stream",
     "text": [
      "Epoch 3/30\n",
      "1976/1976 [==============================] - 15s 8ms/step - loss: 0.4613 - mse: 0.4552 - val_loss: 0.4911 - val_mse: 0.4839\n"
     ]
    },
    {
     "name": "stderr",
     "output_type": "stream",
     "text": [
      "WARNING:absl:Found untraced functions such as dropout_layer_call_fn, dropout_layer_call_and_return_conditional_losses, dropout_1_layer_call_fn, dropout_1_layer_call_and_return_conditional_losses, dropout_2_layer_call_fn while saving (showing 5 of 12). These functions will not be directly callable after loading.\n"
     ]
    },
    {
     "name": "stdout",
     "output_type": "stream",
     "text": [
      "Epoch 4/30\n",
      "1976/1976 [==============================] - 15s 8ms/step - loss: 0.4485 - mse: 0.4400 - val_loss: 0.5066 - val_mse: 0.4971\n",
      "Epoch 5/30\n",
      "1976/1976 [==============================] - 15s 8ms/step - loss: 0.4339 - mse: 0.4232 - val_loss: 0.5055 - val_mse: 0.4939\n",
      "Epoch 6/30\n",
      "1976/1976 [==============================] - 15s 8ms/step - loss: 0.4191 - mse: 0.4064 - val_loss: 0.5070 - val_mse: 0.4935\n",
      "Epoch 7/30\n",
      "1976/1976 [==============================] - 15s 8ms/step - loss: 0.4065 - mse: 0.3921 - val_loss: 0.5232 - val_mse: 0.5080\n",
      "Epoch 8/30\n",
      "1976/1976 [==============================] - 15s 8ms/step - loss: 0.3956 - mse: 0.3797 - val_loss: 0.5304 - val_mse: 0.5138\n",
      "test MSE 0.4802\n",
      "Epoch 1/30\n",
      "1976/1976 [==============================] - 14s 6ms/step - loss: 0.7078 - mse: 0.7065 - val_loss: 0.4990 - val_mse: 0.4966\n"
     ]
    },
    {
     "name": "stderr",
     "output_type": "stream",
     "text": [
      "WARNING:absl:Found untraced functions such as dropout_layer_call_fn, dropout_layer_call_and_return_conditional_losses, dropout_1_layer_call_fn, dropout_1_layer_call_and_return_conditional_losses, dropout_2_layer_call_fn while saving (showing 5 of 12). These functions will not be directly callable after loading.\n"
     ]
    },
    {
     "name": "stdout",
     "output_type": "stream",
     "text": [
      "Epoch 2/30\n",
      "1976/1976 [==============================] - 15s 7ms/step - loss: 0.4805 - mse: 0.4768 - val_loss: 0.4904 - val_mse: 0.4856\n"
     ]
    },
    {
     "name": "stderr",
     "output_type": "stream",
     "text": [
      "WARNING:absl:Found untraced functions such as dropout_layer_call_fn, dropout_layer_call_and_return_conditional_losses, dropout_1_layer_call_fn, dropout_1_layer_call_and_return_conditional_losses, dropout_2_layer_call_fn while saving (showing 5 of 12). These functions will not be directly callable after loading.\n"
     ]
    },
    {
     "name": "stdout",
     "output_type": "stream",
     "text": [
      "Epoch 3/30\n",
      "1976/1976 [==============================] - 15s 8ms/step - loss: 0.4625 - mse: 0.4563 - val_loss: 0.4996 - val_mse: 0.4924\n",
      "Epoch 4/30\n",
      "1976/1976 [==============================] - 15s 7ms/step - loss: 0.4488 - mse: 0.4403 - val_loss: 0.4981 - val_mse: 0.4887\n",
      "Epoch 5/30\n",
      "1976/1976 [==============================] - 15s 7ms/step - loss: 0.4356 - mse: 0.4251 - val_loss: 0.5009 - val_mse: 0.4895\n",
      "Epoch 6/30\n",
      "1976/1976 [==============================] - 15s 8ms/step - loss: 0.4227 - mse: 0.4103 - val_loss: 0.5073 - val_mse: 0.4941\n",
      "Epoch 7/30\n",
      "1976/1976 [==============================] - 15s 7ms/step - loss: 0.4109 - mse: 0.3968 - val_loss: 0.5138 - val_mse: 0.4989\n",
      "test MSE 0.4842\n",
      "Epoch 1/30\n",
      "1976/1976 [==============================] - 14s 7ms/step - loss: 0.7006 - mse: 0.6994 - val_loss: 0.4985 - val_mse: 0.4961\n"
     ]
    },
    {
     "name": "stderr",
     "output_type": "stream",
     "text": [
      "WARNING:absl:Found untraced functions such as dropout_layer_call_fn, dropout_layer_call_and_return_conditional_losses, dropout_1_layer_call_fn, dropout_1_layer_call_and_return_conditional_losses, dropout_2_layer_call_fn while saving (showing 5 of 12). These functions will not be directly callable after loading.\n"
     ]
    },
    {
     "name": "stdout",
     "output_type": "stream",
     "text": [
      "Epoch 2/30\n",
      "1976/1976 [==============================] - 14s 7ms/step - loss: 0.4810 - mse: 0.4773 - val_loss: 0.4936 - val_mse: 0.4889\n"
     ]
    },
    {
     "name": "stderr",
     "output_type": "stream",
     "text": [
      "WARNING:absl:Found untraced functions such as dropout_layer_call_fn, dropout_layer_call_and_return_conditional_losses, dropout_1_layer_call_fn, dropout_1_layer_call_and_return_conditional_losses, dropout_2_layer_call_fn while saving (showing 5 of 12). These functions will not be directly callable after loading.\n"
     ]
    },
    {
     "name": "stdout",
     "output_type": "stream",
     "text": [
      "Epoch 3/30\n",
      "1976/1976 [==============================] - 14s 7ms/step - loss: 0.4632 - mse: 0.4571 - val_loss: 0.4931 - val_mse: 0.4860\n"
     ]
    },
    {
     "name": "stderr",
     "output_type": "stream",
     "text": [
      "WARNING:absl:Found untraced functions such as dropout_layer_call_fn, dropout_layer_call_and_return_conditional_losses, dropout_1_layer_call_fn, dropout_1_layer_call_and_return_conditional_losses, dropout_2_layer_call_fn while saving (showing 5 of 12). These functions will not be directly callable after loading.\n"
     ]
    },
    {
     "name": "stdout",
     "output_type": "stream",
     "text": [
      "Epoch 4/30\n",
      "1976/1976 [==============================] - 14s 7ms/step - loss: 0.4493 - mse: 0.4409 - val_loss: 0.4916 - val_mse: 0.4822\n"
     ]
    },
    {
     "name": "stderr",
     "output_type": "stream",
     "text": [
      "WARNING:absl:Found untraced functions such as dropout_layer_call_fn, dropout_layer_call_and_return_conditional_losses, dropout_1_layer_call_fn, dropout_1_layer_call_and_return_conditional_losses, dropout_2_layer_call_fn while saving (showing 5 of 12). These functions will not be directly callable after loading.\n"
     ]
    },
    {
     "name": "stdout",
     "output_type": "stream",
     "text": [
      "Epoch 5/30\n",
      "1976/1976 [==============================] - 14s 7ms/step - loss: 0.4335 - mse: 0.4229 - val_loss: 0.4993 - val_mse: 0.4878\n",
      "Epoch 6/30\n",
      "1976/1976 [==============================] - 14s 7ms/step - loss: 0.4187 - mse: 0.4062 - val_loss: 0.5102 - val_mse: 0.4968\n",
      "Epoch 7/30\n",
      "1976/1976 [==============================] - 15s 7ms/step - loss: 0.4060 - mse: 0.3917 - val_loss: 0.5181 - val_mse: 0.5030\n",
      "Epoch 8/30\n",
      "1976/1976 [==============================] - 14s 7ms/step - loss: 0.3955 - mse: 0.3796 - val_loss: 0.5272 - val_mse: 0.5106\n",
      "Epoch 9/30\n",
      "1976/1976 [==============================] - 14s 7ms/step - loss: 0.3869 - mse: 0.3696 - val_loss: 0.5339 - val_mse: 0.5160\n",
      "test MSE 0.4782\n"
     ]
    }
   ],
   "source": [
    "# FNN\n",
    "dict_FNN = {'linear_feature_columns': linear_feature_columns,\n",
    "            'dnn_feature_columns': dnn_feature_columns,\n",
    "            'task': 'regression'}\n",
    "ls_result = calc_nn_based_model(df_douban_all, \n",
    "                                FNN, dict_FNN,\n",
    "                                feature_names, \n",
    "                                'douban', 'FNN')\n",
    "all_result.extend(ls_result)"
   ]
  },
  {
   "cell_type": "code",
   "execution_count": 13,
   "metadata": {},
   "outputs": [
    {
     "name": "stdout",
     "output_type": "stream",
     "text": [
      "Epoch 1/30\n",
      "1976/1976 [==============================] - 14s 7ms/step - loss: 0.7071 - mse: 0.7060 - val_loss: 0.4965 - val_mse: 0.4944\n"
     ]
    },
    {
     "name": "stderr",
     "output_type": "stream",
     "text": [
      "WARNING:absl:Found untraced functions such as dropout_layer_call_fn, dropout_layer_call_and_return_conditional_losses, dropout_1_layer_call_fn, dropout_1_layer_call_and_return_conditional_losses, dropout_2_layer_call_fn while saving (showing 5 of 12). These functions will not be directly callable after loading.\n"
     ]
    },
    {
     "name": "stdout",
     "output_type": "stream",
     "text": [
      "Epoch 2/30\n",
      "1976/1976 [==============================] - 14s 7ms/step - loss: 0.4682 - mse: 0.4650 - val_loss: 0.4852 - val_mse: 0.4810\n"
     ]
    },
    {
     "name": "stderr",
     "output_type": "stream",
     "text": [
      "WARNING:absl:Found untraced functions such as dropout_layer_call_fn, dropout_layer_call_and_return_conditional_losses, dropout_1_layer_call_fn, dropout_1_layer_call_and_return_conditional_losses, dropout_2_layer_call_fn while saving (showing 5 of 12). These functions will not be directly callable after loading.\n"
     ]
    },
    {
     "name": "stdout",
     "output_type": "stream",
     "text": [
      "Epoch 3/30\n",
      "1976/1976 [==============================] - 14s 7ms/step - loss: 0.4475 - mse: 0.4421 - val_loss: 0.4852 - val_mse: 0.4787\n"
     ]
    },
    {
     "name": "stderr",
     "output_type": "stream",
     "text": [
      "WARNING:absl:Found untraced functions such as dropout_layer_call_fn, dropout_layer_call_and_return_conditional_losses, dropout_1_layer_call_fn, dropout_1_layer_call_and_return_conditional_losses, dropout_2_layer_call_fn while saving (showing 5 of 12). These functions will not be directly callable after loading.\n"
     ]
    },
    {
     "name": "stdout",
     "output_type": "stream",
     "text": [
      "Epoch 4/30\n",
      "1976/1976 [==============================] - 14s 7ms/step - loss: 0.4262 - mse: 0.4186 - val_loss: 0.4996 - val_mse: 0.4910\n",
      "Epoch 5/30\n",
      "1976/1976 [==============================] - 14s 7ms/step - loss: 0.4076 - mse: 0.3980 - val_loss: 0.5037 - val_mse: 0.4931\n",
      "Epoch 6/30\n",
      "1976/1976 [==============================] - 14s 7ms/step - loss: 0.3941 - mse: 0.3826 - val_loss: 0.5158 - val_mse: 0.5035\n",
      "Epoch 7/30\n",
      "1976/1976 [==============================] - 14s 7ms/step - loss: 0.3841 - mse: 0.3710 - val_loss: 0.5221 - val_mse: 0.5083\n",
      "Epoch 8/30\n",
      "1976/1976 [==============================] - 14s 7ms/step - loss: 0.3769 - mse: 0.3624 - val_loss: 0.5326 - val_mse: 0.5174\n",
      "test MSE 0.4833\n",
      "Epoch 1/30\n",
      "1976/1976 [==============================] - 15s 7ms/step - loss: 0.7258 - mse: 0.7248 - val_loss: 0.4948 - val_mse: 0.4927\n"
     ]
    },
    {
     "name": "stderr",
     "output_type": "stream",
     "text": [
      "WARNING:absl:Found untraced functions such as dropout_layer_call_fn, dropout_layer_call_and_return_conditional_losses, dropout_1_layer_call_fn, dropout_1_layer_call_and_return_conditional_losses, dropout_2_layer_call_fn while saving (showing 5 of 12). These functions will not be directly callable after loading.\n"
     ]
    },
    {
     "name": "stdout",
     "output_type": "stream",
     "text": [
      "Epoch 2/30\n",
      "1976/1976 [==============================] - 14s 7ms/step - loss: 0.4724 - mse: 0.4693 - val_loss: 0.4874 - val_mse: 0.4833\n"
     ]
    },
    {
     "name": "stderr",
     "output_type": "stream",
     "text": [
      "WARNING:absl:Found untraced functions such as dropout_layer_call_fn, dropout_layer_call_and_return_conditional_losses, dropout_1_layer_call_fn, dropout_1_layer_call_and_return_conditional_losses, dropout_2_layer_call_fn while saving (showing 5 of 12). These functions will not be directly callable after loading.\n"
     ]
    },
    {
     "name": "stdout",
     "output_type": "stream",
     "text": [
      "Epoch 3/30\n",
      "1976/1976 [==============================] - 14s 7ms/step - loss: 0.4511 - mse: 0.4458 - val_loss: 0.4882 - val_mse: 0.4819\n"
     ]
    },
    {
     "name": "stderr",
     "output_type": "stream",
     "text": [
      "WARNING:absl:Found untraced functions such as dropout_layer_call_fn, dropout_layer_call_and_return_conditional_losses, dropout_1_layer_call_fn, dropout_1_layer_call_and_return_conditional_losses, dropout_2_layer_call_fn while saving (showing 5 of 12). These functions will not be directly callable after loading.\n"
     ]
    },
    {
     "name": "stdout",
     "output_type": "stream",
     "text": [
      "Epoch 4/30\n",
      "1976/1976 [==============================] - 14s 7ms/step - loss: 0.4330 - mse: 0.4256 - val_loss: 0.4926 - val_mse: 0.4843\n",
      "Epoch 5/30\n",
      "1976/1976 [==============================] - 14s 7ms/step - loss: 0.4158 - mse: 0.4063 - val_loss: 0.5044 - val_mse: 0.4940\n",
      "Epoch 6/30\n",
      "1976/1976 [==============================] - 14s 7ms/step - loss: 0.4017 - mse: 0.3904 - val_loss: 0.5168 - val_mse: 0.5046\n",
      "Epoch 7/30\n",
      "1976/1976 [==============================] - 14s 7ms/step - loss: 0.3901 - mse: 0.3772 - val_loss: 0.5195 - val_mse: 0.5058\n",
      "Epoch 8/30\n",
      "1976/1976 [==============================] - 14s 7ms/step - loss: 0.3817 - mse: 0.3673 - val_loss: 0.5286 - val_mse: 0.5135\n",
      "test MSE 0.4823\n",
      "Epoch 1/30\n",
      "1976/1976 [==============================] - 14s 7ms/step - loss: 0.7138 - mse: 0.7128 - val_loss: 0.4947 - val_mse: 0.4926\n"
     ]
    },
    {
     "name": "stderr",
     "output_type": "stream",
     "text": [
      "WARNING:absl:Found untraced functions such as dropout_layer_call_fn, dropout_layer_call_and_return_conditional_losses, dropout_1_layer_call_fn, dropout_1_layer_call_and_return_conditional_losses, dropout_2_layer_call_fn while saving (showing 5 of 12). These functions will not be directly callable after loading.\n"
     ]
    },
    {
     "name": "stdout",
     "output_type": "stream",
     "text": [
      "Epoch 2/30\n",
      "1976/1976 [==============================] - 14s 7ms/step - loss: 0.4657 - mse: 0.4624 - val_loss: 0.4876 - val_mse: 0.4832\n"
     ]
    },
    {
     "name": "stderr",
     "output_type": "stream",
     "text": [
      "WARNING:absl:Found untraced functions such as dropout_layer_call_fn, dropout_layer_call_and_return_conditional_losses, dropout_1_layer_call_fn, dropout_1_layer_call_and_return_conditional_losses, dropout_2_layer_call_fn while saving (showing 5 of 12). These functions will not be directly callable after loading.\n"
     ]
    },
    {
     "name": "stdout",
     "output_type": "stream",
     "text": [
      "Epoch 3/30\n",
      "1976/1976 [==============================] - 14s 7ms/step - loss: 0.4389 - mse: 0.4333 - val_loss: 0.4937 - val_mse: 0.4870\n",
      "Epoch 4/30\n",
      "1976/1976 [==============================] - 14s 7ms/step - loss: 0.4179 - mse: 0.4100 - val_loss: 0.5035 - val_mse: 0.4946\n",
      "Epoch 5/30\n",
      "1976/1976 [==============================] - 14s 7ms/step - loss: 0.4022 - mse: 0.3922 - val_loss: 0.5132 - val_mse: 0.5023\n",
      "Epoch 6/30\n",
      "1976/1976 [==============================] - 14s 7ms/step - loss: 0.3917 - mse: 0.3799 - val_loss: 0.5238 - val_mse: 0.5112\n",
      "Epoch 7/30\n",
      "1976/1976 [==============================] - 14s 7ms/step - loss: 0.3836 - mse: 0.3702 - val_loss: 0.5304 - val_mse: 0.5163\n",
      "test MSE 0.4798\n",
      "Epoch 1/30\n",
      "1976/1976 [==============================] - 15s 7ms/step - loss: 0.6939 - mse: 0.6929 - val_loss: 0.4919 - val_mse: 0.4899\n"
     ]
    },
    {
     "name": "stderr",
     "output_type": "stream",
     "text": [
      "WARNING:absl:Found untraced functions such as dropout_layer_call_fn, dropout_layer_call_and_return_conditional_losses, dropout_1_layer_call_fn, dropout_1_layer_call_and_return_conditional_losses, dropout_2_layer_call_fn while saving (showing 5 of 12). These functions will not be directly callable after loading.\n"
     ]
    },
    {
     "name": "stdout",
     "output_type": "stream",
     "text": [
      "Epoch 2/30\n",
      "1976/1976 [==============================] - 14s 7ms/step - loss: 0.4703 - mse: 0.4671 - val_loss: 0.4900 - val_mse: 0.4858\n"
     ]
    },
    {
     "name": "stderr",
     "output_type": "stream",
     "text": [
      "WARNING:absl:Found untraced functions such as dropout_layer_call_fn, dropout_layer_call_and_return_conditional_losses, dropout_1_layer_call_fn, dropout_1_layer_call_and_return_conditional_losses, dropout_2_layer_call_fn while saving (showing 5 of 12). These functions will not be directly callable after loading.\n"
     ]
    },
    {
     "name": "stdout",
     "output_type": "stream",
     "text": [
      "Epoch 3/30\n",
      "1976/1976 [==============================] - 14s 7ms/step - loss: 0.4516 - mse: 0.4462 - val_loss: 0.4947 - val_mse: 0.4883\n",
      "Epoch 4/30\n",
      "1976/1976 [==============================] - 14s 7ms/step - loss: 0.4327 - mse: 0.4252 - val_loss: 0.4994 - val_mse: 0.4910\n",
      "Epoch 5/30\n",
      "1976/1976 [==============================] - 14s 7ms/step - loss: 0.4163 - mse: 0.4068 - val_loss: 0.5070 - val_mse: 0.4966\n",
      "Epoch 6/30\n",
      "1976/1976 [==============================] - 15s 7ms/step - loss: 0.4013 - mse: 0.3899 - val_loss: 0.5126 - val_mse: 0.5004\n",
      "Epoch 7/30\n",
      "1976/1976 [==============================] - 14s 7ms/step - loss: 0.3894 - mse: 0.3764 - val_loss: 0.5251 - val_mse: 0.5113\n",
      "test MSE 0.484\n",
      "Epoch 1/30\n",
      "1976/1976 [==============================] - 14s 7ms/step - loss: 0.7036 - mse: 0.7026 - val_loss: 0.4953 - val_mse: 0.4933\n"
     ]
    },
    {
     "name": "stderr",
     "output_type": "stream",
     "text": [
      "WARNING:absl:Found untraced functions such as dropout_layer_call_fn, dropout_layer_call_and_return_conditional_losses, dropout_1_layer_call_fn, dropout_1_layer_call_and_return_conditional_losses, dropout_2_layer_call_fn while saving (showing 5 of 12). These functions will not be directly callable after loading.\n"
     ]
    },
    {
     "name": "stdout",
     "output_type": "stream",
     "text": [
      "Epoch 2/30\n",
      "1976/1976 [==============================] - 14s 7ms/step - loss: 0.4722 - mse: 0.4691 - val_loss: 0.4879 - val_mse: 0.4838\n"
     ]
    },
    {
     "name": "stderr",
     "output_type": "stream",
     "text": [
      "WARNING:absl:Found untraced functions such as dropout_layer_call_fn, dropout_layer_call_and_return_conditional_losses, dropout_1_layer_call_fn, dropout_1_layer_call_and_return_conditional_losses, dropout_2_layer_call_fn while saving (showing 5 of 12). These functions will not be directly callable after loading.\n"
     ]
    },
    {
     "name": "stdout",
     "output_type": "stream",
     "text": [
      "Epoch 3/30\n",
      "1976/1976 [==============================] - 15s 8ms/step - loss: 0.4491 - mse: 0.4438 - val_loss: 0.4879 - val_mse: 0.4815\n"
     ]
    },
    {
     "name": "stderr",
     "output_type": "stream",
     "text": [
      "WARNING:absl:Found untraced functions such as dropout_layer_call_fn, dropout_layer_call_and_return_conditional_losses, dropout_1_layer_call_fn, dropout_1_layer_call_and_return_conditional_losses, dropout_2_layer_call_fn while saving (showing 5 of 12). These functions will not be directly callable after loading.\n"
     ]
    },
    {
     "name": "stdout",
     "output_type": "stream",
     "text": [
      "Epoch 4/30\n",
      "1976/1976 [==============================] - 14s 7ms/step - loss: 0.4287 - mse: 0.4210 - val_loss: 0.4982 - val_mse: 0.4895\n",
      "Epoch 5/30\n",
      "1976/1976 [==============================] - 15s 7ms/step - loss: 0.4110 - mse: 0.4012 - val_loss: 0.5106 - val_mse: 0.4999\n",
      "Epoch 6/30\n",
      "1976/1976 [==============================] - 15s 7ms/step - loss: 0.3973 - mse: 0.3857 - val_loss: 0.5165 - val_mse: 0.5040\n",
      "Epoch 7/30\n",
      "1976/1976 [==============================] - 15s 7ms/step - loss: 0.3880 - mse: 0.3747 - val_loss: 0.5286 - val_mse: 0.5145\n",
      "Epoch 8/30\n",
      "1976/1976 [==============================] - 14s 7ms/step - loss: 0.3807 - mse: 0.3660 - val_loss: 0.5423 - val_mse: 0.5269\n",
      "test MSE 0.4768\n"
     ]
    }
   ],
   "source": [
    "# IPNN\n",
    "dict_IPNN = {'dnn_feature_columns': dnn_feature_columns,\n",
    "            'task': 'regression',\n",
    "            'use_inner': True}\n",
    "ls_result = calc_nn_based_model(df_douban_all, \n",
    "                                PNN, dict_IPNN,\n",
    "                                feature_names, \n",
    "                                'douban', 'IPNN')\n",
    "all_result.extend(ls_result)"
   ]
  },
  {
   "cell_type": "code",
   "execution_count": 14,
   "metadata": {},
   "outputs": [
    {
     "name": "stdout",
     "output_type": "stream",
     "text": [
      "Epoch 1/30\n",
      "1976/1976 [==============================] - 15s 7ms/step - loss: 0.6947 - mse: 0.6937 - val_loss: 0.4929 - val_mse: 0.4909\n"
     ]
    },
    {
     "name": "stderr",
     "output_type": "stream",
     "text": [
      "WARNING:absl:Found untraced functions such as dropout_layer_call_fn, dropout_layer_call_and_return_conditional_losses, dropout_1_layer_call_fn, dropout_1_layer_call_and_return_conditional_losses, dropout_2_layer_call_fn while saving (showing 5 of 12). These functions will not be directly callable after loading.\n"
     ]
    },
    {
     "name": "stdout",
     "output_type": "stream",
     "text": [
      "Epoch 2/30\n",
      "1976/1976 [==============================] - 15s 7ms/step - loss: 0.4696 - mse: 0.4664 - val_loss: 0.4846 - val_mse: 0.4804\n"
     ]
    },
    {
     "name": "stderr",
     "output_type": "stream",
     "text": [
      "WARNING:absl:Found untraced functions such as dropout_layer_call_fn, dropout_layer_call_and_return_conditional_losses, dropout_1_layer_call_fn, dropout_1_layer_call_and_return_conditional_losses, dropout_2_layer_call_fn while saving (showing 5 of 12). These functions will not be directly callable after loading.\n"
     ]
    },
    {
     "name": "stdout",
     "output_type": "stream",
     "text": [
      "Epoch 3/30\n",
      "1976/1976 [==============================] - 15s 8ms/step - loss: 0.4448 - mse: 0.4394 - val_loss: 0.5070 - val_mse: 0.5005\n",
      "Epoch 4/30\n",
      "1976/1976 [==============================] - 15s 8ms/step - loss: 0.4228 - mse: 0.4150 - val_loss: 0.5026 - val_mse: 0.4939\n",
      "Epoch 5/30\n",
      "1976/1976 [==============================] - 15s 8ms/step - loss: 0.4055 - mse: 0.3957 - val_loss: 0.5121 - val_mse: 0.5013\n",
      "Epoch 6/30\n",
      "1976/1976 [==============================] - 15s 8ms/step - loss: 0.3935 - mse: 0.3819 - val_loss: 0.5178 - val_mse: 0.5053\n",
      "Epoch 7/30\n",
      "1976/1976 [==============================] - 15s 8ms/step - loss: 0.3852 - mse: 0.3720 - val_loss: 0.5291 - val_mse: 0.5151\n",
      "test MSE 0.4842\n",
      "Epoch 1/30\n",
      "1976/1976 [==============================] - 16s 7ms/step - loss: 0.7036 - mse: 0.7026 - val_loss: 0.4941 - val_mse: 0.4921\n"
     ]
    },
    {
     "name": "stderr",
     "output_type": "stream",
     "text": [
      "WARNING:absl:Found untraced functions such as dropout_layer_call_fn, dropout_layer_call_and_return_conditional_losses, dropout_1_layer_call_fn, dropout_1_layer_call_and_return_conditional_losses, dropout_2_layer_call_fn while saving (showing 5 of 12). These functions will not be directly callable after loading.\n"
     ]
    },
    {
     "name": "stdout",
     "output_type": "stream",
     "text": [
      "Epoch 2/30\n",
      "1976/1976 [==============================] - 15s 8ms/step - loss: 0.4680 - mse: 0.4649 - val_loss: 0.4955 - val_mse: 0.4914\n"
     ]
    },
    {
     "name": "stderr",
     "output_type": "stream",
     "text": [
      "WARNING:absl:Found untraced functions such as dropout_layer_call_fn, dropout_layer_call_and_return_conditional_losses, dropout_1_layer_call_fn, dropout_1_layer_call_and_return_conditional_losses, dropout_2_layer_call_fn while saving (showing 5 of 12). These functions will not be directly callable after loading.\n"
     ]
    },
    {
     "name": "stdout",
     "output_type": "stream",
     "text": [
      "Epoch 3/30\n",
      "1976/1976 [==============================] - 15s 7ms/step - loss: 0.4477 - mse: 0.4423 - val_loss: 0.4876 - val_mse: 0.4813\n"
     ]
    },
    {
     "name": "stderr",
     "output_type": "stream",
     "text": [
      "WARNING:absl:Found untraced functions such as dropout_layer_call_fn, dropout_layer_call_and_return_conditional_losses, dropout_1_layer_call_fn, dropout_1_layer_call_and_return_conditional_losses, dropout_2_layer_call_fn while saving (showing 5 of 12). These functions will not be directly callable after loading.\n"
     ]
    },
    {
     "name": "stdout",
     "output_type": "stream",
     "text": [
      "Epoch 4/30\n",
      "1976/1976 [==============================] - 15s 8ms/step - loss: 0.4285 - mse: 0.4209 - val_loss: 0.5113 - val_mse: 0.5028\n",
      "Epoch 5/30\n",
      "1976/1976 [==============================] - 15s 8ms/step - loss: 0.4110 - mse: 0.4014 - val_loss: 0.5074 - val_mse: 0.4969\n",
      "Epoch 6/30\n",
      "1976/1976 [==============================] - 15s 8ms/step - loss: 0.3984 - mse: 0.3870 - val_loss: 0.5194 - val_mse: 0.5071\n",
      "Epoch 7/30\n",
      "1976/1976 [==============================] - 15s 8ms/step - loss: 0.3891 - mse: 0.3761 - val_loss: 0.5252 - val_mse: 0.5114\n",
      "Epoch 8/30\n",
      "1976/1976 [==============================] - 15s 8ms/step - loss: 0.3818 - mse: 0.3674 - val_loss: 0.5368 - val_mse: 0.5218\n",
      "test MSE 0.4815\n",
      "Epoch 1/30\n",
      "1976/1976 [==============================] - 15s 7ms/step - loss: 0.7045 - mse: 0.7035 - val_loss: 0.4962 - val_mse: 0.4942\n"
     ]
    },
    {
     "name": "stderr",
     "output_type": "stream",
     "text": [
      "WARNING:absl:Found untraced functions such as dropout_layer_call_fn, dropout_layer_call_and_return_conditional_losses, dropout_1_layer_call_fn, dropout_1_layer_call_and_return_conditional_losses, dropout_2_layer_call_fn while saving (showing 5 of 12). These functions will not be directly callable after loading.\n"
     ]
    },
    {
     "name": "stdout",
     "output_type": "stream",
     "text": [
      "Epoch 2/30\n",
      "1976/1976 [==============================] - 16s 8ms/step - loss: 0.4718 - mse: 0.4685 - val_loss: 0.5164 - val_mse: 0.5122\n",
      "Epoch 3/30\n",
      "1976/1976 [==============================] - 16s 8ms/step - loss: 0.4490 - mse: 0.4436 - val_loss: 0.4947 - val_mse: 0.4883\n"
     ]
    },
    {
     "name": "stderr",
     "output_type": "stream",
     "text": [
      "WARNING:absl:Found untraced functions such as dropout_layer_call_fn, dropout_layer_call_and_return_conditional_losses, dropout_1_layer_call_fn, dropout_1_layer_call_and_return_conditional_losses, dropout_2_layer_call_fn while saving (showing 5 of 12). These functions will not be directly callable after loading.\n"
     ]
    },
    {
     "name": "stdout",
     "output_type": "stream",
     "text": [
      "Epoch 4/30\n",
      "1976/1976 [==============================] - 16s 8ms/step - loss: 0.4297 - mse: 0.4221 - val_loss: 0.5015 - val_mse: 0.4929\n",
      "Epoch 5/30\n",
      "1976/1976 [==============================] - 16s 8ms/step - loss: 0.4127 - mse: 0.4030 - val_loss: 0.5177 - val_mse: 0.5071\n",
      "Epoch 6/30\n",
      "1976/1976 [==============================] - 16s 8ms/step - loss: 0.3992 - mse: 0.3877 - val_loss: 0.5185 - val_mse: 0.5061\n",
      "Epoch 7/30\n",
      "1976/1976 [==============================] - 15s 8ms/step - loss: 0.3900 - mse: 0.3769 - val_loss: 0.5313 - val_mse: 0.5175\n",
      "Epoch 8/30\n",
      "1976/1976 [==============================] - 16s 8ms/step - loss: 0.3822 - mse: 0.3678 - val_loss: 0.5441 - val_mse: 0.5290\n",
      "test MSE 0.4846\n",
      "Epoch 1/30\n",
      "1976/1976 [==============================] - 16s 8ms/step - loss: 0.7375 - mse: 0.7364 - val_loss: 0.5186 - val_mse: 0.5165\n"
     ]
    },
    {
     "name": "stderr",
     "output_type": "stream",
     "text": [
      "WARNING:absl:Found untraced functions such as dropout_layer_call_fn, dropout_layer_call_and_return_conditional_losses, dropout_1_layer_call_fn, dropout_1_layer_call_and_return_conditional_losses, dropout_2_layer_call_fn while saving (showing 5 of 12). These functions will not be directly callable after loading.\n"
     ]
    },
    {
     "name": "stdout",
     "output_type": "stream",
     "text": [
      "Epoch 2/30\n",
      "1976/1976 [==============================] - 15s 8ms/step - loss: 0.4695 - mse: 0.4663 - val_loss: 0.4855 - val_mse: 0.4813\n"
     ]
    },
    {
     "name": "stderr",
     "output_type": "stream",
     "text": [
      "WARNING:absl:Found untraced functions such as dropout_layer_call_fn, dropout_layer_call_and_return_conditional_losses, dropout_1_layer_call_fn, dropout_1_layer_call_and_return_conditional_losses, dropout_2_layer_call_fn while saving (showing 5 of 12). These functions will not be directly callable after loading.\n"
     ]
    },
    {
     "name": "stdout",
     "output_type": "stream",
     "text": [
      "Epoch 3/30\n",
      "1976/1976 [==============================] - 16s 8ms/step - loss: 0.4501 - mse: 0.4448 - val_loss: 0.4887 - val_mse: 0.4824\n",
      "Epoch 4/30\n",
      "1976/1976 [==============================] - 16s 8ms/step - loss: 0.4310 - mse: 0.4236 - val_loss: 0.4935 - val_mse: 0.4852\n",
      "Epoch 5/30\n",
      "1976/1976 [==============================] - 16s 8ms/step - loss: 0.4148 - mse: 0.4054 - val_loss: 0.5045 - val_mse: 0.4943\n",
      "Epoch 6/30\n",
      "1976/1976 [==============================] - 16s 8ms/step - loss: 0.4021 - mse: 0.3908 - val_loss: 0.5093 - val_mse: 0.4972\n",
      "Epoch 7/30\n",
      "1976/1976 [==============================] - 16s 8ms/step - loss: 0.3914 - mse: 0.3785 - val_loss: 0.5186 - val_mse: 0.5050\n",
      "test MSE 0.4793\n",
      "Epoch 1/30\n",
      "1976/1976 [==============================] - 14s 6ms/step - loss: 0.6927 - mse: 0.6917 - val_loss: 0.4980 - val_mse: 0.4960\n"
     ]
    },
    {
     "name": "stderr",
     "output_type": "stream",
     "text": [
      "WARNING:absl:Found untraced functions such as dropout_layer_call_fn, dropout_layer_call_and_return_conditional_losses, dropout_1_layer_call_fn, dropout_1_layer_call_and_return_conditional_losses, dropout_2_layer_call_fn while saving (showing 5 of 12). These functions will not be directly callable after loading.\n"
     ]
    },
    {
     "name": "stdout",
     "output_type": "stream",
     "text": [
      "Epoch 2/30\n",
      "1976/1976 [==============================] - 16s 8ms/step - loss: 0.4738 - mse: 0.4707 - val_loss: 0.4877 - val_mse: 0.4835\n"
     ]
    },
    {
     "name": "stderr",
     "output_type": "stream",
     "text": [
      "WARNING:absl:Found untraced functions such as dropout_layer_call_fn, dropout_layer_call_and_return_conditional_losses, dropout_1_layer_call_fn, dropout_1_layer_call_and_return_conditional_losses, dropout_2_layer_call_fn while saving (showing 5 of 12). These functions will not be directly callable after loading.\n"
     ]
    },
    {
     "name": "stdout",
     "output_type": "stream",
     "text": [
      "Epoch 3/30\n",
      "1976/1976 [==============================] - 16s 8ms/step - loss: 0.4517 - mse: 0.4463 - val_loss: 0.4882 - val_mse: 0.4818\n"
     ]
    },
    {
     "name": "stderr",
     "output_type": "stream",
     "text": [
      "WARNING:absl:Found untraced functions such as dropout_layer_call_fn, dropout_layer_call_and_return_conditional_losses, dropout_1_layer_call_fn, dropout_1_layer_call_and_return_conditional_losses, dropout_2_layer_call_fn while saving (showing 5 of 12). These functions will not be directly callable after loading.\n"
     ]
    },
    {
     "name": "stdout",
     "output_type": "stream",
     "text": [
      "Epoch 4/30\n",
      "1976/1976 [==============================] - 16s 8ms/step - loss: 0.4323 - mse: 0.4247 - val_loss: 0.4929 - val_mse: 0.4844\n",
      "Epoch 5/30\n",
      "1976/1976 [==============================] - 16s 8ms/step - loss: 0.4136 - mse: 0.4040 - val_loss: 0.5026 - val_mse: 0.4921\n",
      "Epoch 6/30\n",
      "1976/1976 [==============================] - 16s 8ms/step - loss: 0.3998 - mse: 0.3883 - val_loss: 0.5154 - val_mse: 0.5031\n",
      "Epoch 7/30\n",
      "1976/1976 [==============================] - 16s 8ms/step - loss: 0.3894 - mse: 0.3763 - val_loss: 0.5443 - val_mse: 0.5305\n",
      "Epoch 8/30\n",
      "1976/1976 [==============================] - 16s 8ms/step - loss: 0.3813 - mse: 0.3668 - val_loss: 0.5349 - val_mse: 0.5197\n",
      "test MSE 0.4795\n"
     ]
    }
   ],
   "source": [
    "# OPNN\n",
    "dict_OPNN = {'dnn_feature_columns': dnn_feature_columns,\n",
    "            'task': 'regression',\n",
    "            'use_outter': True}\n",
    "ls_result = calc_nn_based_model(df_douban_all, \n",
    "                                PNN, dict_OPNN,\n",
    "                                feature_names, \n",
    "                                'douban', 'OPNN')\n",
    "all_result.extend(ls_result)"
   ]
  },
  {
   "cell_type": "code",
   "execution_count": 15,
   "metadata": {},
   "outputs": [],
   "source": [
    "# PIN"
   ]
  },
  {
   "cell_type": "code",
   "execution_count": 16,
   "metadata": {},
   "outputs": [
    {
     "name": "stdout",
     "output_type": "stream",
     "text": [
      "Epoch 1/30\n",
      "1976/1976 [==============================] - 27s 12ms/step - loss: 0.7650 - mse: 0.7633 - val_loss: 0.5090 - val_mse: 0.5056\n"
     ]
    },
    {
     "name": "stderr",
     "output_type": "stream",
     "text": [
      "WARNING:absl:Found untraced functions such as dropout_layer_call_fn, dropout_layer_call_and_return_conditional_losses, dropout_1_layer_call_fn, dropout_1_layer_call_and_return_conditional_losses, activation_layer_call_fn while saving (showing 5 of 8). These functions will not be directly callable after loading.\n"
     ]
    },
    {
     "name": "stdout",
     "output_type": "stream",
     "text": [
      "Epoch 2/30\n",
      "1976/1976 [==============================] - 24s 12ms/step - loss: 0.4831 - mse: 0.4782 - val_loss: 0.5054 - val_mse: 0.4992\n"
     ]
    },
    {
     "name": "stderr",
     "output_type": "stream",
     "text": [
      "WARNING:absl:Found untraced functions such as dropout_layer_call_fn, dropout_layer_call_and_return_conditional_losses, dropout_1_layer_call_fn, dropout_1_layer_call_and_return_conditional_losses, activation_layer_call_fn while saving (showing 5 of 8). These functions will not be directly callable after loading.\n"
     ]
    },
    {
     "name": "stdout",
     "output_type": "stream",
     "text": [
      "Epoch 3/30\n",
      "1976/1976 [==============================] - 24s 12ms/step - loss: 0.4651 - mse: 0.4574 - val_loss: 0.5001 - val_mse: 0.4911\n"
     ]
    },
    {
     "name": "stderr",
     "output_type": "stream",
     "text": [
      "WARNING:absl:Found untraced functions such as dropout_layer_call_fn, dropout_layer_call_and_return_conditional_losses, dropout_1_layer_call_fn, dropout_1_layer_call_and_return_conditional_losses, activation_layer_call_fn while saving (showing 5 of 8). These functions will not be directly callable after loading.\n"
     ]
    },
    {
     "name": "stdout",
     "output_type": "stream",
     "text": [
      "Epoch 4/30\n",
      "1976/1976 [==============================] - 24s 12ms/step - loss: 0.4513 - mse: 0.4409 - val_loss: 0.5085 - val_mse: 0.4970\n",
      "Epoch 5/30\n",
      "1976/1976 [==============================] - 25s 12ms/step - loss: 0.4376 - mse: 0.4247 - val_loss: 0.5118 - val_mse: 0.4979\n",
      "Epoch 6/30\n",
      "1976/1976 [==============================] - 24s 12ms/step - loss: 0.4252 - mse: 0.4102 - val_loss: 0.5216 - val_mse: 0.5057\n",
      "Epoch 7/30\n",
      "1976/1976 [==============================] - 24s 12ms/step - loss: 0.4147 - mse: 0.3979 - val_loss: 0.5277 - val_mse: 0.5101\n",
      "Epoch 8/30\n",
      "1976/1976 [==============================] - 24s 12ms/step - loss: 0.4060 - mse: 0.3876 - val_loss: 0.5412 - val_mse: 0.5220\n",
      "test MSE 0.4945\n",
      "Epoch 1/30\n",
      "1976/1976 [==============================] - 25s 12ms/step - loss: 0.7230 - mse: 0.7213 - val_loss: 0.5023 - val_mse: 0.4990\n"
     ]
    },
    {
     "name": "stderr",
     "output_type": "stream",
     "text": [
      "WARNING:absl:Found untraced functions such as dropout_layer_call_fn, dropout_layer_call_and_return_conditional_losses, dropout_1_layer_call_fn, dropout_1_layer_call_and_return_conditional_losses, activation_layer_call_fn while saving (showing 5 of 8). These functions will not be directly callable after loading.\n"
     ]
    },
    {
     "name": "stdout",
     "output_type": "stream",
     "text": [
      "Epoch 2/30\n",
      "1976/1976 [==============================] - 25s 12ms/step - loss: 0.4808 - mse: 0.4760 - val_loss: 0.5088 - val_mse: 0.5028\n",
      "Epoch 3/30\n",
      "1976/1976 [==============================] - 24s 12ms/step - loss: 0.4695 - mse: 0.4622 - val_loss: 0.5093 - val_mse: 0.5009\n",
      "Epoch 4/30\n",
      "1976/1976 [==============================] - 24s 12ms/step - loss: 0.4613 - mse: 0.4517 - val_loss: 0.5023 - val_mse: 0.4918\n"
     ]
    },
    {
     "name": "stderr",
     "output_type": "stream",
     "text": [
      "WARNING:absl:Found untraced functions such as dropout_layer_call_fn, dropout_layer_call_and_return_conditional_losses, dropout_1_layer_call_fn, dropout_1_layer_call_and_return_conditional_losses, activation_layer_call_fn while saving (showing 5 of 8). These functions will not be directly callable after loading.\n"
     ]
    },
    {
     "name": "stdout",
     "output_type": "stream",
     "text": [
      "Epoch 5/30\n",
      "1976/1976 [==============================] - 24s 12ms/step - loss: 0.4516 - mse: 0.4400 - val_loss: 0.5047 - val_mse: 0.4921\n",
      "Epoch 6/30\n",
      "1976/1976 [==============================] - 24s 12ms/step - loss: 0.4415 - mse: 0.4278 - val_loss: 0.5126 - val_mse: 0.4981\n",
      "Epoch 7/30\n",
      "1976/1976 [==============================] - 24s 12ms/step - loss: 0.4312 - mse: 0.4157 - val_loss: 0.5186 - val_mse: 0.5023\n",
      "Epoch 8/30\n",
      "1976/1976 [==============================] - 24s 12ms/step - loss: 0.4225 - mse: 0.4054 - val_loss: 0.5231 - val_mse: 0.5052\n",
      "Epoch 9/30\n",
      "1976/1976 [==============================] - 25s 13ms/step - loss: 0.4144 - mse: 0.3957 - val_loss: 0.5310 - val_mse: 0.5116\n",
      "test MSE 0.491\n",
      "Epoch 1/30\n",
      "1976/1976 [==============================] - 26s 12ms/step - loss: 0.7666 - mse: 0.7649 - val_loss: 0.5013 - val_mse: 0.4981\n"
     ]
    },
    {
     "name": "stderr",
     "output_type": "stream",
     "text": [
      "WARNING:absl:Found untraced functions such as dropout_layer_call_fn, dropout_layer_call_and_return_conditional_losses, dropout_1_layer_call_fn, dropout_1_layer_call_and_return_conditional_losses, activation_layer_call_fn while saving (showing 5 of 8). These functions will not be directly callable after loading.\n"
     ]
    },
    {
     "name": "stdout",
     "output_type": "stream",
     "text": [
      "Epoch 2/30\n",
      "1976/1976 [==============================] - 24s 12ms/step - loss: 0.4766 - mse: 0.4719 - val_loss: 0.4989 - val_mse: 0.4930\n"
     ]
    },
    {
     "name": "stderr",
     "output_type": "stream",
     "text": [
      "WARNING:absl:Found untraced functions such as dropout_layer_call_fn, dropout_layer_call_and_return_conditional_losses, dropout_1_layer_call_fn, dropout_1_layer_call_and_return_conditional_losses, activation_layer_call_fn while saving (showing 5 of 8). These functions will not be directly callable after loading.\n"
     ]
    },
    {
     "name": "stdout",
     "output_type": "stream",
     "text": [
      "Epoch 3/30\n",
      "1976/1976 [==============================] - 25s 12ms/step - loss: 0.4590 - mse: 0.4518 - val_loss: 0.4997 - val_mse: 0.4915\n"
     ]
    },
    {
     "name": "stderr",
     "output_type": "stream",
     "text": [
      "WARNING:absl:Found untraced functions such as dropout_layer_call_fn, dropout_layer_call_and_return_conditional_losses, dropout_1_layer_call_fn, dropout_1_layer_call_and_return_conditional_losses, activation_layer_call_fn while saving (showing 5 of 8). These functions will not be directly callable after loading.\n"
     ]
    },
    {
     "name": "stdout",
     "output_type": "stream",
     "text": [
      "Epoch 4/30\n",
      "1976/1976 [==============================] - 24s 12ms/step - loss: 0.4439 - mse: 0.4344 - val_loss: 0.4993 - val_mse: 0.4888\n"
     ]
    },
    {
     "name": "stderr",
     "output_type": "stream",
     "text": [
      "WARNING:absl:Found untraced functions such as dropout_layer_call_fn, dropout_layer_call_and_return_conditional_losses, dropout_1_layer_call_fn, dropout_1_layer_call_and_return_conditional_losses, activation_layer_call_fn while saving (showing 5 of 8). These functions will not be directly callable after loading.\n"
     ]
    },
    {
     "name": "stdout",
     "output_type": "stream",
     "text": [
      "Epoch 5/30\n",
      "1976/1976 [==============================] - 24s 12ms/step - loss: 0.4295 - mse: 0.4179 - val_loss: 0.5122 - val_mse: 0.4997\n",
      "Epoch 6/30\n",
      "1976/1976 [==============================] - 24s 12ms/step - loss: 0.4185 - mse: 0.4050 - val_loss: 0.5171 - val_mse: 0.5027\n",
      "Epoch 7/30\n",
      "1976/1976 [==============================] - 24s 12ms/step - loss: 0.4084 - mse: 0.3931 - val_loss: 0.5203 - val_mse: 0.5043\n",
      "Epoch 8/30\n",
      "1976/1976 [==============================] - 24s 12ms/step - loss: 0.3996 - mse: 0.3828 - val_loss: 0.5278 - val_mse: 0.5102\n",
      "Epoch 9/30\n",
      "1976/1976 [==============================] - 24s 12ms/step - loss: 0.3930 - mse: 0.3747 - val_loss: 0.5417 - val_mse: 0.5227\n",
      "test MSE 0.4863\n",
      "Epoch 1/30\n",
      "1976/1976 [==============================] - 24s 11ms/step - loss: 0.7193 - mse: 0.7177 - val_loss: 0.4980 - val_mse: 0.4950\n"
     ]
    },
    {
     "name": "stderr",
     "output_type": "stream",
     "text": [
      "WARNING:absl:Found untraced functions such as dropout_layer_call_fn, dropout_layer_call_and_return_conditional_losses, dropout_1_layer_call_fn, dropout_1_layer_call_and_return_conditional_losses, activation_layer_call_fn while saving (showing 5 of 8). These functions will not be directly callable after loading.\n"
     ]
    },
    {
     "name": "stdout",
     "output_type": "stream",
     "text": [
      "Epoch 2/30\n",
      "1976/1976 [==============================] - 23s 12ms/step - loss: 0.4821 - mse: 0.4776 - val_loss: 0.4941 - val_mse: 0.4884\n"
     ]
    },
    {
     "name": "stderr",
     "output_type": "stream",
     "text": [
      "WARNING:absl:Found untraced functions such as dropout_layer_call_fn, dropout_layer_call_and_return_conditional_losses, dropout_1_layer_call_fn, dropout_1_layer_call_and_return_conditional_losses, activation_layer_call_fn while saving (showing 5 of 8). These functions will not be directly callable after loading.\n"
     ]
    },
    {
     "name": "stdout",
     "output_type": "stream",
     "text": [
      "Epoch 3/30\n",
      "1976/1976 [==============================] - 23s 12ms/step - loss: 0.4720 - mse: 0.4651 - val_loss: 0.4966 - val_mse: 0.4888\n",
      "Epoch 4/30\n",
      "1976/1976 [==============================] - 23s 12ms/step - loss: 0.4645 - mse: 0.4556 - val_loss: 0.4979 - val_mse: 0.4881\n"
     ]
    },
    {
     "name": "stderr",
     "output_type": "stream",
     "text": [
      "WARNING:absl:Found untraced functions such as dropout_layer_call_fn, dropout_layer_call_and_return_conditional_losses, dropout_1_layer_call_fn, dropout_1_layer_call_and_return_conditional_losses, activation_layer_call_fn while saving (showing 5 of 8). These functions will not be directly callable after loading.\n"
     ]
    },
    {
     "name": "stdout",
     "output_type": "stream",
     "text": [
      "Epoch 5/30\n",
      "1976/1976 [==============================] - 24s 12ms/step - loss: 0.4543 - mse: 0.4434 - val_loss: 0.4971 - val_mse: 0.4853\n"
     ]
    },
    {
     "name": "stderr",
     "output_type": "stream",
     "text": [
      "WARNING:absl:Found untraced functions such as dropout_layer_call_fn, dropout_layer_call_and_return_conditional_losses, dropout_1_layer_call_fn, dropout_1_layer_call_and_return_conditional_losses, activation_layer_call_fn while saving (showing 5 of 8). These functions will not be directly callable after loading.\n"
     ]
    },
    {
     "name": "stdout",
     "output_type": "stream",
     "text": [
      "Epoch 6/30\n",
      "1976/1976 [==============================] - 23s 12ms/step - loss: 0.4440 - mse: 0.4311 - val_loss: 0.5125 - val_mse: 0.4989\n",
      "Epoch 7/30\n",
      "1976/1976 [==============================] - 24s 12ms/step - loss: 0.4330 - mse: 0.4184 - val_loss: 0.5147 - val_mse: 0.4994\n",
      "Epoch 8/30\n",
      "1976/1976 [==============================] - 24s 12ms/step - loss: 0.4225 - mse: 0.4063 - val_loss: 0.5158 - val_mse: 0.4989\n",
      "Epoch 9/30\n",
      "1976/1976 [==============================] - 24s 12ms/step - loss: 0.4142 - mse: 0.3965 - val_loss: 0.5284 - val_mse: 0.5100\n",
      "Epoch 10/30\n",
      "1976/1976 [==============================] - 24s 12ms/step - loss: 0.4066 - mse: 0.3875 - val_loss: 0.5328 - val_mse: 0.5130\n",
      "test MSE 0.4861\n",
      "Epoch 1/30\n",
      "1976/1976 [==============================] - 25s 12ms/step - loss: 0.7286 - mse: 0.7270 - val_loss: 0.4982 - val_mse: 0.4952\n"
     ]
    },
    {
     "name": "stderr",
     "output_type": "stream",
     "text": [
      "WARNING:absl:Found untraced functions such as dropout_layer_call_fn, dropout_layer_call_and_return_conditional_losses, dropout_1_layer_call_fn, dropout_1_layer_call_and_return_conditional_losses, activation_layer_call_fn while saving (showing 5 of 8). These functions will not be directly callable after loading.\n"
     ]
    },
    {
     "name": "stdout",
     "output_type": "stream",
     "text": [
      "Epoch 2/30\n",
      "1976/1976 [==============================] - 24s 12ms/step - loss: 0.4781 - mse: 0.4737 - val_loss: 0.4986 - val_mse: 0.4930\n"
     ]
    },
    {
     "name": "stderr",
     "output_type": "stream",
     "text": [
      "WARNING:absl:Found untraced functions such as dropout_layer_call_fn, dropout_layer_call_and_return_conditional_losses, dropout_1_layer_call_fn, dropout_1_layer_call_and_return_conditional_losses, activation_layer_call_fn while saving (showing 5 of 8). These functions will not be directly callable after loading.\n"
     ]
    },
    {
     "name": "stdout",
     "output_type": "stream",
     "text": [
      "Epoch 3/30\n",
      "1976/1976 [==============================] - 24s 12ms/step - loss: 0.4627 - mse: 0.4557 - val_loss: 0.4993 - val_mse: 0.4911\n"
     ]
    },
    {
     "name": "stderr",
     "output_type": "stream",
     "text": [
      "WARNING:absl:Found untraced functions such as dropout_layer_call_fn, dropout_layer_call_and_return_conditional_losses, dropout_1_layer_call_fn, dropout_1_layer_call_and_return_conditional_losses, activation_layer_call_fn while saving (showing 5 of 8). These functions will not be directly callable after loading.\n"
     ]
    },
    {
     "name": "stdout",
     "output_type": "stream",
     "text": [
      "Epoch 4/30\n",
      "1976/1976 [==============================] - 24s 12ms/step - loss: 0.4465 - mse: 0.4370 - val_loss: 0.5100 - val_mse: 0.4994\n",
      "Epoch 5/30\n",
      "1976/1976 [==============================] - 24s 12ms/step - loss: 0.4331 - mse: 0.4214 - val_loss: 0.5109 - val_mse: 0.4982\n",
      "Epoch 6/30\n",
      "1976/1976 [==============================] - 24s 12ms/step - loss: 0.4215 - mse: 0.4078 - val_loss: 0.5171 - val_mse: 0.5027\n",
      "Epoch 7/30\n",
      "1976/1976 [==============================] - 24s 12ms/step - loss: 0.4123 - mse: 0.3970 - val_loss: 0.5217 - val_mse: 0.5056\n",
      "Epoch 8/30\n",
      "1976/1976 [==============================] - 24s 12ms/step - loss: 0.4042 - mse: 0.3873 - val_loss: 0.5274 - val_mse: 0.5099\n",
      "test MSE 0.4867\n"
     ]
    }
   ],
   "source": [
    "# CCPM\n",
    "dict_CCPM = {'linear_feature_columns': linear_feature_columns,\n",
    "            'dnn_feature_columns': dnn_feature_columns,\n",
    "            'task': 'regression'}\n",
    "ls_result = calc_nn_based_model(df_douban_all, \n",
    "                                CCPM, dict_CCPM,\n",
    "                                feature_names, \n",
    "                                'douban', 'CCPM')\n",
    "all_result.extend(ls_result)"
   ]
  },
  {
   "cell_type": "code",
   "execution_count": 17,
   "metadata": {},
   "outputs": [
    {
     "name": "stdout",
     "output_type": "stream",
     "text": [
      "Epoch 1/30\n",
      "1976/1976 [==============================] - 15s 7ms/step - loss: 0.6769 - mse: 0.6756 - val_loss: 0.5266 - val_mse: 0.5242\n"
     ]
    },
    {
     "name": "stderr",
     "output_type": "stream",
     "text": [
      "WARNING:absl:Found untraced functions such as dropout_layer_call_fn, dropout_layer_call_and_return_conditional_losses, dropout_1_layer_call_fn, dropout_1_layer_call_and_return_conditional_losses, dropout_2_layer_call_fn while saving (showing 5 of 12). These functions will not be directly callable after loading.\n"
     ]
    },
    {
     "name": "stdout",
     "output_type": "stream",
     "text": [
      "Epoch 2/30\n",
      "1976/1976 [==============================] - 14s 7ms/step - loss: 0.4777 - mse: 0.4740 - val_loss: 0.5042 - val_mse: 0.4994\n"
     ]
    },
    {
     "name": "stderr",
     "output_type": "stream",
     "text": [
      "WARNING:absl:Found untraced functions such as dropout_layer_call_fn, dropout_layer_call_and_return_conditional_losses, dropout_1_layer_call_fn, dropout_1_layer_call_and_return_conditional_losses, dropout_2_layer_call_fn while saving (showing 5 of 12). These functions will not be directly callable after loading.\n"
     ]
    },
    {
     "name": "stdout",
     "output_type": "stream",
     "text": [
      "Epoch 3/30\n",
      "1976/1976 [==============================] - 15s 8ms/step - loss: 0.4602 - mse: 0.4540 - val_loss: 0.4931 - val_mse: 0.4859\n"
     ]
    },
    {
     "name": "stderr",
     "output_type": "stream",
     "text": [
      "WARNING:absl:Found untraced functions such as dropout_layer_call_fn, dropout_layer_call_and_return_conditional_losses, dropout_1_layer_call_fn, dropout_1_layer_call_and_return_conditional_losses, dropout_2_layer_call_fn while saving (showing 5 of 12). These functions will not be directly callable after loading.\n"
     ]
    },
    {
     "name": "stdout",
     "output_type": "stream",
     "text": [
      "Epoch 4/30\n",
      "1976/1976 [==============================] - 15s 7ms/step - loss: 0.4470 - mse: 0.4385 - val_loss: 0.4929 - val_mse: 0.4835\n"
     ]
    },
    {
     "name": "stderr",
     "output_type": "stream",
     "text": [
      "WARNING:absl:Found untraced functions such as dropout_layer_call_fn, dropout_layer_call_and_return_conditional_losses, dropout_1_layer_call_fn, dropout_1_layer_call_and_return_conditional_losses, dropout_2_layer_call_fn while saving (showing 5 of 12). These functions will not be directly callable after loading.\n"
     ]
    },
    {
     "name": "stdout",
     "output_type": "stream",
     "text": [
      "Epoch 5/30\n",
      "1976/1976 [==============================] - 15s 7ms/step - loss: 0.4337 - mse: 0.4232 - val_loss: 0.4986 - val_mse: 0.4872\n",
      "Epoch 6/30\n",
      "1976/1976 [==============================] - 15s 7ms/step - loss: 0.4186 - mse: 0.4062 - val_loss: 0.5061 - val_mse: 0.4929\n",
      "Epoch 7/30\n",
      "1976/1976 [==============================] - 14s 7ms/step - loss: 0.4062 - mse: 0.3920 - val_loss: 0.5135 - val_mse: 0.4986\n",
      "Epoch 8/30\n",
      "1976/1976 [==============================] - 15s 7ms/step - loss: 0.3954 - mse: 0.3797 - val_loss: 0.5217 - val_mse: 0.5053\n",
      "Epoch 9/30\n",
      "1976/1976 [==============================] - 15s 7ms/step - loss: 0.3859 - mse: 0.3688 - val_loss: 0.5352 - val_mse: 0.5175\n",
      "test MSE 0.4878\n",
      "Epoch 1/30\n",
      "1976/1976 [==============================] - 13s 6ms/step - loss: 0.7196 - mse: 0.7183 - val_loss: 0.4982 - val_mse: 0.4958\n"
     ]
    },
    {
     "name": "stderr",
     "output_type": "stream",
     "text": [
      "WARNING:absl:Found untraced functions such as dropout_layer_call_fn, dropout_layer_call_and_return_conditional_losses, dropout_1_layer_call_fn, dropout_1_layer_call_and_return_conditional_losses, dropout_2_layer_call_fn while saving (showing 5 of 12). These functions will not be directly callable after loading.\n"
     ]
    },
    {
     "name": "stdout",
     "output_type": "stream",
     "text": [
      "Epoch 2/30\n",
      "1976/1976 [==============================] - 14s 7ms/step - loss: 0.4771 - mse: 0.4734 - val_loss: 0.4909 - val_mse: 0.4861\n"
     ]
    },
    {
     "name": "stderr",
     "output_type": "stream",
     "text": [
      "WARNING:absl:Found untraced functions such as dropout_layer_call_fn, dropout_layer_call_and_return_conditional_losses, dropout_1_layer_call_fn, dropout_1_layer_call_and_return_conditional_losses, dropout_2_layer_call_fn while saving (showing 5 of 12). These functions will not be directly callable after loading.\n"
     ]
    },
    {
     "name": "stdout",
     "output_type": "stream",
     "text": [
      "Epoch 3/30\n",
      "1976/1976 [==============================] - 14s 7ms/step - loss: 0.4578 - mse: 0.4516 - val_loss: 0.4898 - val_mse: 0.4826\n"
     ]
    },
    {
     "name": "stderr",
     "output_type": "stream",
     "text": [
      "WARNING:absl:Found untraced functions such as dropout_layer_call_fn, dropout_layer_call_and_return_conditional_losses, dropout_1_layer_call_fn, dropout_1_layer_call_and_return_conditional_losses, dropout_2_layer_call_fn while saving (showing 5 of 12). These functions will not be directly callable after loading.\n"
     ]
    },
    {
     "name": "stdout",
     "output_type": "stream",
     "text": [
      "Epoch 4/30\n",
      "1976/1976 [==============================] - 14s 7ms/step - loss: 0.4411 - mse: 0.4325 - val_loss: 0.4950 - val_mse: 0.4854\n",
      "Epoch 5/30\n",
      "1976/1976 [==============================] - 15s 7ms/step - loss: 0.4252 - mse: 0.4145 - val_loss: 0.5032 - val_mse: 0.4915\n",
      "Epoch 6/30\n",
      "1976/1976 [==============================] - 15s 7ms/step - loss: 0.4110 - mse: 0.3982 - val_loss: 0.5142 - val_mse: 0.5005\n",
      "Epoch 7/30\n",
      "1976/1976 [==============================] - 15s 7ms/step - loss: 0.3987 - mse: 0.3841 - val_loss: 0.5222 - val_mse: 0.5068\n",
      "Epoch 8/30\n",
      "1976/1976 [==============================] - 15s 7ms/step - loss: 0.3891 - mse: 0.3729 - val_loss: 0.5275 - val_mse: 0.5105\n",
      "test MSE 0.4827\n",
      "Epoch 1/30\n",
      "1976/1976 [==============================] - 15s 7ms/step - loss: 0.7068 - mse: 0.7055 - val_loss: 0.5036 - val_mse: 0.5012\n"
     ]
    },
    {
     "name": "stderr",
     "output_type": "stream",
     "text": [
      "WARNING:absl:Found untraced functions such as dropout_layer_call_fn, dropout_layer_call_and_return_conditional_losses, dropout_1_layer_call_fn, dropout_1_layer_call_and_return_conditional_losses, dropout_2_layer_call_fn while saving (showing 5 of 12). These functions will not be directly callable after loading.\n"
     ]
    },
    {
     "name": "stdout",
     "output_type": "stream",
     "text": [
      "Epoch 2/30\n",
      "1976/1976 [==============================] - 14s 7ms/step - loss: 0.4784 - mse: 0.4747 - val_loss: 0.4929 - val_mse: 0.4881\n"
     ]
    },
    {
     "name": "stderr",
     "output_type": "stream",
     "text": [
      "WARNING:absl:Found untraced functions such as dropout_layer_call_fn, dropout_layer_call_and_return_conditional_losses, dropout_1_layer_call_fn, dropout_1_layer_call_and_return_conditional_losses, dropout_2_layer_call_fn while saving (showing 5 of 12). These functions will not be directly callable after loading.\n"
     ]
    },
    {
     "name": "stdout",
     "output_type": "stream",
     "text": [
      "Epoch 3/30\n",
      "1976/1976 [==============================] - 15s 7ms/step - loss: 0.4614 - mse: 0.4553 - val_loss: 0.4912 - val_mse: 0.4841\n"
     ]
    },
    {
     "name": "stderr",
     "output_type": "stream",
     "text": [
      "WARNING:absl:Found untraced functions such as dropout_layer_call_fn, dropout_layer_call_and_return_conditional_losses, dropout_1_layer_call_fn, dropout_1_layer_call_and_return_conditional_losses, dropout_2_layer_call_fn while saving (showing 5 of 12). These functions will not be directly callable after loading.\n"
     ]
    },
    {
     "name": "stdout",
     "output_type": "stream",
     "text": [
      "Epoch 4/30\n",
      "1976/1976 [==============================] - 15s 7ms/step - loss: 0.4485 - mse: 0.4401 - val_loss: 0.4975 - val_mse: 0.4881\n",
      "Epoch 5/30\n",
      "1976/1976 [==============================] - 14s 7ms/step - loss: 0.4347 - mse: 0.4242 - val_loss: 0.5131 - val_mse: 0.5017\n",
      "Epoch 6/30\n",
      "1976/1976 [==============================] - 14s 7ms/step - loss: 0.4210 - mse: 0.4085 - val_loss: 0.5175 - val_mse: 0.5041\n",
      "Epoch 7/30\n",
      "1976/1976 [==============================] - 14s 7ms/step - loss: 0.4080 - mse: 0.3937 - val_loss: 0.5226 - val_mse: 0.5076\n",
      "Epoch 8/30\n",
      "1976/1976 [==============================] - 14s 7ms/step - loss: 0.3966 - mse: 0.3807 - val_loss: 0.5316 - val_mse: 0.5151\n",
      "test MSE 0.4809\n",
      "Epoch 1/30\n",
      "1976/1976 [==============================] - 15s 7ms/step - loss: 0.7272 - mse: 0.7259 - val_loss: 0.5004 - val_mse: 0.4980\n"
     ]
    },
    {
     "name": "stderr",
     "output_type": "stream",
     "text": [
      "WARNING:absl:Found untraced functions such as dropout_layer_call_fn, dropout_layer_call_and_return_conditional_losses, dropout_1_layer_call_fn, dropout_1_layer_call_and_return_conditional_losses, dropout_2_layer_call_fn while saving (showing 5 of 12). These functions will not be directly callable after loading.\n"
     ]
    },
    {
     "name": "stdout",
     "output_type": "stream",
     "text": [
      "Epoch 2/30\n",
      "1976/1976 [==============================] - 15s 8ms/step - loss: 0.4818 - mse: 0.4781 - val_loss: 0.4923 - val_mse: 0.4875\n"
     ]
    },
    {
     "name": "stderr",
     "output_type": "stream",
     "text": [
      "WARNING:absl:Found untraced functions such as dropout_layer_call_fn, dropout_layer_call_and_return_conditional_losses, dropout_1_layer_call_fn, dropout_1_layer_call_and_return_conditional_losses, dropout_2_layer_call_fn while saving (showing 5 of 12). These functions will not be directly callable after loading.\n"
     ]
    },
    {
     "name": "stdout",
     "output_type": "stream",
     "text": [
      "Epoch 3/30\n",
      "1976/1976 [==============================] - 15s 8ms/step - loss: 0.4651 - mse: 0.4590 - val_loss: 0.4874 - val_mse: 0.4803\n"
     ]
    },
    {
     "name": "stderr",
     "output_type": "stream",
     "text": [
      "WARNING:absl:Found untraced functions such as dropout_layer_call_fn, dropout_layer_call_and_return_conditional_losses, dropout_1_layer_call_fn, dropout_1_layer_call_and_return_conditional_losses, dropout_2_layer_call_fn while saving (showing 5 of 12). These functions will not be directly callable after loading.\n"
     ]
    },
    {
     "name": "stdout",
     "output_type": "stream",
     "text": [
      "Epoch 4/30\n",
      "1976/1976 [==============================] - 15s 8ms/step - loss: 0.4502 - mse: 0.4419 - val_loss: 0.4946 - val_mse: 0.4854\n",
      "Epoch 5/30\n",
      "1976/1976 [==============================] - 15s 8ms/step - loss: 0.4355 - mse: 0.4250 - val_loss: 0.4959 - val_mse: 0.4845\n",
      "Epoch 6/30\n",
      "1976/1976 [==============================] - 15s 8ms/step - loss: 0.4204 - mse: 0.4080 - val_loss: 0.5066 - val_mse: 0.4933\n",
      "Epoch 7/30\n",
      "1976/1976 [==============================] - 15s 8ms/step - loss: 0.4074 - mse: 0.3933 - val_loss: 0.5229 - val_mse: 0.5080\n",
      "Epoch 8/30\n",
      "1976/1976 [==============================] - 15s 8ms/step - loss: 0.3965 - mse: 0.3807 - val_loss: 0.5246 - val_mse: 0.5082\n",
      "test MSE 0.4785\n",
      "Epoch 1/30\n",
      "1976/1976 [==============================] - 15s 7ms/step - loss: 0.7142 - mse: 0.7130 - val_loss: 0.5110 - val_mse: 0.5086\n"
     ]
    },
    {
     "name": "stderr",
     "output_type": "stream",
     "text": [
      "WARNING:absl:Found untraced functions such as dropout_layer_call_fn, dropout_layer_call_and_return_conditional_losses, dropout_1_layer_call_fn, dropout_1_layer_call_and_return_conditional_losses, dropout_2_layer_call_fn while saving (showing 5 of 12). These functions will not be directly callable after loading.\n"
     ]
    },
    {
     "name": "stdout",
     "output_type": "stream",
     "text": [
      "Epoch 2/30\n",
      "1976/1976 [==============================] - 14s 7ms/step - loss: 0.4805 - mse: 0.4768 - val_loss: 0.4908 - val_mse: 0.4860\n"
     ]
    },
    {
     "name": "stderr",
     "output_type": "stream",
     "text": [
      "WARNING:absl:Found untraced functions such as dropout_layer_call_fn, dropout_layer_call_and_return_conditional_losses, dropout_1_layer_call_fn, dropout_1_layer_call_and_return_conditional_losses, dropout_2_layer_call_fn while saving (showing 5 of 12). These functions will not be directly callable after loading.\n"
     ]
    },
    {
     "name": "stdout",
     "output_type": "stream",
     "text": [
      "Epoch 3/30\n",
      "1976/1976 [==============================] - 14s 7ms/step - loss: 0.4634 - mse: 0.4573 - val_loss: 0.4885 - val_mse: 0.4814\n"
     ]
    },
    {
     "name": "stderr",
     "output_type": "stream",
     "text": [
      "WARNING:absl:Found untraced functions such as dropout_layer_call_fn, dropout_layer_call_and_return_conditional_losses, dropout_1_layer_call_fn, dropout_1_layer_call_and_return_conditional_losses, dropout_2_layer_call_fn while saving (showing 5 of 12). These functions will not be directly callable after loading.\n"
     ]
    },
    {
     "name": "stdout",
     "output_type": "stream",
     "text": [
      "Epoch 4/30\n",
      "1976/1976 [==============================] - 14s 7ms/step - loss: 0.4491 - mse: 0.4407 - val_loss: 0.4941 - val_mse: 0.4848\n",
      "Epoch 5/30\n",
      "1976/1976 [==============================] - 14s 7ms/step - loss: 0.4338 - mse: 0.4233 - val_loss: 0.5006 - val_mse: 0.4892\n",
      "Epoch 6/30\n",
      "1976/1976 [==============================] - 14s 7ms/step - loss: 0.4191 - mse: 0.4066 - val_loss: 0.5076 - val_mse: 0.4943\n",
      "Epoch 7/30\n",
      "1976/1976 [==============================] - 14s 7ms/step - loss: 0.4059 - mse: 0.3917 - val_loss: 0.5152 - val_mse: 0.5002\n",
      "Epoch 8/30\n",
      "1976/1976 [==============================] - 15s 7ms/step - loss: 0.3965 - mse: 0.3807 - val_loss: 0.5272 - val_mse: 0.5107\n",
      "test MSE 0.4782\n"
     ]
    }
   ],
   "source": [
    "# WD\n",
    "dict_WD = {'linear_feature_columns': linear_feature_columns,\n",
    "           'dnn_feature_columns': dnn_feature_columns,\n",
    "           'task': 'regression'}\n",
    "ls_result = calc_nn_based_model(df_douban_all, \n",
    "                                WDL, dict_WD,\n",
    "                                feature_names, \n",
    "                                'douban', 'WD')\n",
    "all_result.extend(ls_result)"
   ]
  },
  {
   "cell_type": "code",
   "execution_count": 18,
   "metadata": {},
   "outputs": [
    {
     "name": "stdout",
     "output_type": "stream",
     "text": [
      "CrossNet parameterization: vector\n",
      "Epoch 1/30\n",
      "1976/1976 [==============================] - 19s 9ms/step - loss: 0.6970 - mse: 0.6957 - val_loss: 0.4982 - val_mse: 0.4957\n"
     ]
    },
    {
     "name": "stderr",
     "output_type": "stream",
     "text": [
      "WARNING:absl:Found untraced functions such as dropout_layer_call_fn, dropout_layer_call_and_return_conditional_losses, dropout_1_layer_call_fn, dropout_1_layer_call_and_return_conditional_losses, dropout_2_layer_call_fn while saving (showing 5 of 12). These functions will not be directly callable after loading.\n"
     ]
    },
    {
     "name": "stdout",
     "output_type": "stream",
     "text": [
      "Epoch 2/30\n",
      "1976/1976 [==============================] - 17s 9ms/step - loss: 0.4774 - mse: 0.4736 - val_loss: 0.4960 - val_mse: 0.4911\n"
     ]
    },
    {
     "name": "stderr",
     "output_type": "stream",
     "text": [
      "WARNING:absl:Found untraced functions such as dropout_layer_call_fn, dropout_layer_call_and_return_conditional_losses, dropout_1_layer_call_fn, dropout_1_layer_call_and_return_conditional_losses, dropout_2_layer_call_fn while saving (showing 5 of 12). These functions will not be directly callable after loading.\n"
     ]
    },
    {
     "name": "stdout",
     "output_type": "stream",
     "text": [
      "Epoch 3/30\n",
      "1976/1976 [==============================] - 18s 9ms/step - loss: 0.4609 - mse: 0.4547 - val_loss: 0.4891 - val_mse: 0.4818\n"
     ]
    },
    {
     "name": "stderr",
     "output_type": "stream",
     "text": [
      "WARNING:absl:Found untraced functions such as dropout_layer_call_fn, dropout_layer_call_and_return_conditional_losses, dropout_1_layer_call_fn, dropout_1_layer_call_and_return_conditional_losses, dropout_2_layer_call_fn while saving (showing 5 of 12). These functions will not be directly callable after loading.\n"
     ]
    },
    {
     "name": "stdout",
     "output_type": "stream",
     "text": [
      "Epoch 4/30\n",
      "1976/1976 [==============================] - 18s 9ms/step - loss: 0.4479 - mse: 0.4394 - val_loss: 0.4905 - val_mse: 0.4810\n"
     ]
    },
    {
     "name": "stderr",
     "output_type": "stream",
     "text": [
      "WARNING:absl:Found untraced functions such as dropout_layer_call_fn, dropout_layer_call_and_return_conditional_losses, dropout_1_layer_call_fn, dropout_1_layer_call_and_return_conditional_losses, dropout_2_layer_call_fn while saving (showing 5 of 12). These functions will not be directly callable after loading.\n"
     ]
    },
    {
     "name": "stdout",
     "output_type": "stream",
     "text": [
      "Epoch 5/30\n",
      "1976/1976 [==============================] - 17s 9ms/step - loss: 0.4331 - mse: 0.4225 - val_loss: 0.4990 - val_mse: 0.4874\n",
      "Epoch 6/30\n",
      "1976/1976 [==============================] - 18s 9ms/step - loss: 0.4172 - mse: 0.4046 - val_loss: 0.5031 - val_mse: 0.4897\n",
      "Epoch 7/30\n",
      "1976/1976 [==============================] - 17s 9ms/step - loss: 0.4042 - mse: 0.3898 - val_loss: 0.5127 - val_mse: 0.4975\n",
      "Epoch 8/30\n",
      "1976/1976 [==============================] - 18s 9ms/step - loss: 0.3933 - mse: 0.3773 - val_loss: 0.5225 - val_mse: 0.5059\n",
      "Epoch 9/30\n",
      "1976/1976 [==============================] - 18s 9ms/step - loss: 0.3841 - mse: 0.3668 - val_loss: 0.5260 - val_mse: 0.5081\n",
      "test MSE 0.4852\n",
      "CrossNet parameterization: vector\n",
      "Epoch 1/30\n",
      "1976/1976 [==============================] - 18s 8ms/step - loss: 0.7098 - mse: 0.7085 - val_loss: 0.5046 - val_mse: 0.5022\n"
     ]
    },
    {
     "name": "stderr",
     "output_type": "stream",
     "text": [
      "WARNING:absl:Found untraced functions such as dropout_layer_call_fn, dropout_layer_call_and_return_conditional_losses, dropout_1_layer_call_fn, dropout_1_layer_call_and_return_conditional_losses, dropout_2_layer_call_fn while saving (showing 5 of 12). These functions will not be directly callable after loading.\n"
     ]
    },
    {
     "name": "stdout",
     "output_type": "stream",
     "text": [
      "Epoch 2/30\n",
      "1976/1976 [==============================] - 16s 8ms/step - loss: 0.4799 - mse: 0.4761 - val_loss: 0.4913 - val_mse: 0.4864\n"
     ]
    },
    {
     "name": "stderr",
     "output_type": "stream",
     "text": [
      "WARNING:absl:Found untraced functions such as dropout_layer_call_fn, dropout_layer_call_and_return_conditional_losses, dropout_1_layer_call_fn, dropout_1_layer_call_and_return_conditional_losses, dropout_2_layer_call_fn while saving (showing 5 of 12). These functions will not be directly callable after loading.\n"
     ]
    },
    {
     "name": "stdout",
     "output_type": "stream",
     "text": [
      "Epoch 3/30\n",
      "1976/1976 [==============================] - 18s 9ms/step - loss: 0.4631 - mse: 0.4570 - val_loss: 0.4909 - val_mse: 0.4837\n"
     ]
    },
    {
     "name": "stderr",
     "output_type": "stream",
     "text": [
      "WARNING:absl:Found untraced functions such as dropout_layer_call_fn, dropout_layer_call_and_return_conditional_losses, dropout_1_layer_call_fn, dropout_1_layer_call_and_return_conditional_losses, dropout_2_layer_call_fn while saving (showing 5 of 12). These functions will not be directly callable after loading.\n"
     ]
    },
    {
     "name": "stdout",
     "output_type": "stream",
     "text": [
      "Epoch 4/30\n",
      "1976/1976 [==============================] - 18s 9ms/step - loss: 0.4481 - mse: 0.4396 - val_loss: 0.4928 - val_mse: 0.4835\n"
     ]
    },
    {
     "name": "stderr",
     "output_type": "stream",
     "text": [
      "WARNING:absl:Found untraced functions such as dropout_layer_call_fn, dropout_layer_call_and_return_conditional_losses, dropout_1_layer_call_fn, dropout_1_layer_call_and_return_conditional_losses, dropout_2_layer_call_fn while saving (showing 5 of 12). These functions will not be directly callable after loading.\n"
     ]
    },
    {
     "name": "stdout",
     "output_type": "stream",
     "text": [
      "Epoch 5/30\n",
      "1976/1976 [==============================] - 18s 9ms/step - loss: 0.4334 - mse: 0.4229 - val_loss: 0.5055 - val_mse: 0.4941\n",
      "Epoch 6/30\n",
      "1976/1976 [==============================] - 17s 9ms/step - loss: 0.4198 - mse: 0.4074 - val_loss: 0.5091 - val_mse: 0.4959\n",
      "Epoch 7/30\n",
      "1976/1976 [==============================] - 17s 9ms/step - loss: 0.4074 - mse: 0.3932 - val_loss: 0.5147 - val_mse: 0.4997\n",
      "Epoch 8/30\n",
      "1976/1976 [==============================] - 18s 9ms/step - loss: 0.3963 - mse: 0.3805 - val_loss: 0.5313 - val_mse: 0.5148\n",
      "Epoch 9/30\n",
      "1976/1976 [==============================] - 18s 9ms/step - loss: 0.3877 - mse: 0.3704 - val_loss: 0.5351 - val_mse: 0.5173\n",
      "test MSE 0.4841\n",
      "CrossNet parameterization: vector\n",
      "Epoch 1/30\n",
      "1976/1976 [==============================] - 18s 8ms/step - loss: 0.6866 - mse: 0.6853 - val_loss: 0.5014 - val_mse: 0.4990\n"
     ]
    },
    {
     "name": "stderr",
     "output_type": "stream",
     "text": [
      "WARNING:absl:Found untraced functions such as dropout_layer_call_fn, dropout_layer_call_and_return_conditional_losses, dropout_1_layer_call_fn, dropout_1_layer_call_and_return_conditional_losses, dropout_2_layer_call_fn while saving (showing 5 of 12). These functions will not be directly callable after loading.\n"
     ]
    },
    {
     "name": "stdout",
     "output_type": "stream",
     "text": [
      "Epoch 2/30\n",
      "1976/1976 [==============================] - 17s 9ms/step - loss: 0.4788 - mse: 0.4751 - val_loss: 0.4909 - val_mse: 0.4860\n"
     ]
    },
    {
     "name": "stderr",
     "output_type": "stream",
     "text": [
      "WARNING:absl:Found untraced functions such as dropout_layer_call_fn, dropout_layer_call_and_return_conditional_losses, dropout_1_layer_call_fn, dropout_1_layer_call_and_return_conditional_losses, dropout_2_layer_call_fn while saving (showing 5 of 12). These functions will not be directly callable after loading.\n"
     ]
    },
    {
     "name": "stdout",
     "output_type": "stream",
     "text": [
      "Epoch 3/30\n",
      "1976/1976 [==============================] - 18s 9ms/step - loss: 0.4613 - mse: 0.4552 - val_loss: 0.4958 - val_mse: 0.4887\n",
      "Epoch 4/30\n",
      "1976/1976 [==============================] - 18s 9ms/step - loss: 0.4487 - mse: 0.4404 - val_loss: 0.4967 - val_mse: 0.4874\n",
      "Epoch 5/30\n",
      "1976/1976 [==============================] - 18s 9ms/step - loss: 0.4361 - mse: 0.4257 - val_loss: 0.5023 - val_mse: 0.4911\n",
      "Epoch 6/30\n",
      "1976/1976 [==============================] - 18s 9ms/step - loss: 0.4220 - mse: 0.4097 - val_loss: 0.5073 - val_mse: 0.4942\n",
      "Epoch 7/30\n",
      "1976/1976 [==============================] - 18s 9ms/step - loss: 0.4088 - mse: 0.3948 - val_loss: 0.5163 - val_mse: 0.5015\n",
      "test MSE 0.483\n",
      "CrossNet parameterization: vector\n",
      "Epoch 1/30\n",
      "1976/1976 [==============================] - 16s 7ms/step - loss: 0.7012 - mse: 0.6999 - val_loss: 0.4973 - val_mse: 0.4948\n"
     ]
    },
    {
     "name": "stderr",
     "output_type": "stream",
     "text": [
      "WARNING:absl:Found untraced functions such as dropout_layer_call_fn, dropout_layer_call_and_return_conditional_losses, dropout_1_layer_call_fn, dropout_1_layer_call_and_return_conditional_losses, dropout_2_layer_call_fn while saving (showing 5 of 12). These functions will not be directly callable after loading.\n"
     ]
    },
    {
     "name": "stdout",
     "output_type": "stream",
     "text": [
      "Epoch 2/30\n",
      "1976/1976 [==============================] - 15s 8ms/step - loss: 0.4790 - mse: 0.4752 - val_loss: 0.5060 - val_mse: 0.5011\n",
      "Epoch 3/30\n",
      "1976/1976 [==============================] - 15s 8ms/step - loss: 0.4620 - mse: 0.4557 - val_loss: 0.4983 - val_mse: 0.4909\n"
     ]
    },
    {
     "name": "stderr",
     "output_type": "stream",
     "text": [
      "WARNING:absl:Found untraced functions such as dropout_layer_call_fn, dropout_layer_call_and_return_conditional_losses, dropout_1_layer_call_fn, dropout_1_layer_call_and_return_conditional_losses, dropout_2_layer_call_fn while saving (showing 5 of 12). These functions will not be directly callable after loading.\n"
     ]
    },
    {
     "name": "stdout",
     "output_type": "stream",
     "text": [
      "Epoch 4/30\n",
      "1976/1976 [==============================] - 16s 8ms/step - loss: 0.4492 - mse: 0.4407 - val_loss: 0.4992 - val_mse: 0.4898\n"
     ]
    },
    {
     "name": "stderr",
     "output_type": "stream",
     "text": [
      "WARNING:absl:Found untraced functions such as dropout_layer_call_fn, dropout_layer_call_and_return_conditional_losses, dropout_1_layer_call_fn, dropout_1_layer_call_and_return_conditional_losses, dropout_2_layer_call_fn while saving (showing 5 of 12). These functions will not be directly callable after loading.\n"
     ]
    },
    {
     "name": "stdout",
     "output_type": "stream",
     "text": [
      "Epoch 5/30\n",
      "1976/1976 [==============================] - 16s 8ms/step - loss: 0.4376 - mse: 0.4271 - val_loss: 0.4985 - val_mse: 0.4871\n"
     ]
    },
    {
     "name": "stderr",
     "output_type": "stream",
     "text": [
      "WARNING:absl:Found untraced functions such as dropout_layer_call_fn, dropout_layer_call_and_return_conditional_losses, dropout_1_layer_call_fn, dropout_1_layer_call_and_return_conditional_losses, dropout_2_layer_call_fn while saving (showing 5 of 12). These functions will not be directly callable after loading.\n"
     ]
    },
    {
     "name": "stdout",
     "output_type": "stream",
     "text": [
      "Epoch 6/30\n",
      "1976/1976 [==============================] - 16s 8ms/step - loss: 0.4247 - mse: 0.4123 - val_loss: 0.5157 - val_mse: 0.5025\n",
      "Epoch 7/30\n",
      "1976/1976 [==============================] - 16s 8ms/step - loss: 0.4124 - mse: 0.3983 - val_loss: 0.5126 - val_mse: 0.4977\n",
      "Epoch 8/30\n",
      "1976/1976 [==============================] - 16s 8ms/step - loss: 0.4007 - mse: 0.3850 - val_loss: 0.5222 - val_mse: 0.5058\n",
      "Epoch 9/30\n",
      "1976/1976 [==============================] - 16s 8ms/step - loss: 0.3912 - mse: 0.3741 - val_loss: 0.5340 - val_mse: 0.5163\n",
      "Epoch 10/30\n",
      "1976/1976 [==============================] - 16s 8ms/step - loss: 0.3825 - mse: 0.3642 - val_loss: 0.5421 - val_mse: 0.5232\n",
      "test MSE 0.4865\n",
      "CrossNet parameterization: vector\n",
      "Epoch 1/30\n",
      "1976/1976 [==============================] - 17s 8ms/step - loss: 0.6868 - mse: 0.6855 - val_loss: 0.5017 - val_mse: 0.4993\n"
     ]
    },
    {
     "name": "stderr",
     "output_type": "stream",
     "text": [
      "WARNING:absl:Found untraced functions such as dropout_layer_call_fn, dropout_layer_call_and_return_conditional_losses, dropout_1_layer_call_fn, dropout_1_layer_call_and_return_conditional_losses, dropout_2_layer_call_fn while saving (showing 5 of 12). These functions will not be directly callable after loading.\n"
     ]
    },
    {
     "name": "stdout",
     "output_type": "stream",
     "text": [
      "Epoch 2/30\n",
      "1976/1976 [==============================] - 16s 8ms/step - loss: 0.4800 - mse: 0.4762 - val_loss: 0.4900 - val_mse: 0.4851\n"
     ]
    },
    {
     "name": "stderr",
     "output_type": "stream",
     "text": [
      "WARNING:absl:Found untraced functions such as dropout_layer_call_fn, dropout_layer_call_and_return_conditional_losses, dropout_1_layer_call_fn, dropout_1_layer_call_and_return_conditional_losses, dropout_2_layer_call_fn while saving (showing 5 of 12). These functions will not be directly callable after loading.\n"
     ]
    },
    {
     "name": "stdout",
     "output_type": "stream",
     "text": [
      "Epoch 3/30\n",
      "1976/1976 [==============================] - 16s 8ms/step - loss: 0.4624 - mse: 0.4562 - val_loss: 0.4939 - val_mse: 0.4867\n",
      "Epoch 4/30\n",
      "1976/1976 [==============================] - 16s 8ms/step - loss: 0.4505 - mse: 0.4420 - val_loss: 0.4942 - val_mse: 0.4848\n"
     ]
    },
    {
     "name": "stderr",
     "output_type": "stream",
     "text": [
      "WARNING:absl:Found untraced functions such as dropout_layer_call_fn, dropout_layer_call_and_return_conditional_losses, dropout_1_layer_call_fn, dropout_1_layer_call_and_return_conditional_losses, dropout_2_layer_call_fn while saving (showing 5 of 12). These functions will not be directly callable after loading.\n"
     ]
    },
    {
     "name": "stdout",
     "output_type": "stream",
     "text": [
      "Epoch 5/30\n",
      "1976/1976 [==============================] - 16s 8ms/step - loss: 0.4366 - mse: 0.4260 - val_loss: 0.4979 - val_mse: 0.4865\n",
      "Epoch 6/30\n",
      "1976/1976 [==============================] - 16s 8ms/step - loss: 0.4231 - mse: 0.4107 - val_loss: 0.5045 - val_mse: 0.4913\n",
      "Epoch 7/30\n",
      "1976/1976 [==============================] - 16s 8ms/step - loss: 0.4096 - mse: 0.3954 - val_loss: 0.5126 - val_mse: 0.4977\n",
      "Epoch 8/30\n",
      "1976/1976 [==============================] - 16s 8ms/step - loss: 0.3989 - mse: 0.3832 - val_loss: 0.5200 - val_mse: 0.5036\n",
      "Epoch 9/30\n",
      "1976/1976 [==============================] - 16s 8ms/step - loss: 0.3893 - mse: 0.3722 - val_loss: 0.5329 - val_mse: 0.5151\n",
      "test MSE 0.4822\n"
     ]
    }
   ],
   "source": [
    "# DC\n",
    "dict_DC = {'linear_feature_columns': linear_feature_columns,\n",
    "           'dnn_feature_columns': dnn_feature_columns,\n",
    "           'task': 'regression'}\n",
    "ls_result = calc_nn_based_model(df_douban_all, \n",
    "                                DCN, dict_DC,\n",
    "                                feature_names, \n",
    "                                'douban', 'DC')\n",
    "all_result.extend(ls_result)"
   ]
  },
  {
   "cell_type": "code",
   "execution_count": 19,
   "metadata": {},
   "outputs": [
    {
     "name": "stdout",
     "output_type": "stream",
     "text": [
      "Epoch 1/30\n",
      "1976/1976 [==============================] - 15s 7ms/step - loss: 0.6961 - mse: 0.6943 - val_loss: 0.5045 - val_mse: 0.5012\n"
     ]
    },
    {
     "name": "stderr",
     "output_type": "stream",
     "text": [
      "WARNING:absl:Found untraced functions such as dropout_layer_call_fn, dropout_layer_call_and_return_conditional_losses, dropout_1_layer_call_fn, dropout_1_layer_call_and_return_conditional_losses, dropout_2_layer_call_fn while saving (showing 5 of 12). These functions will not be directly callable after loading.\n"
     ]
    },
    {
     "name": "stdout",
     "output_type": "stream",
     "text": [
      "Epoch 2/30\n",
      "1976/1976 [==============================] - 15s 7ms/step - loss: 0.4669 - mse: 0.4620 - val_loss: 0.5144 - val_mse: 0.5082\n",
      "Epoch 3/30\n",
      "1976/1976 [==============================] - 15s 8ms/step - loss: 0.4459 - mse: 0.4381 - val_loss: 0.4975 - val_mse: 0.4886\n"
     ]
    },
    {
     "name": "stderr",
     "output_type": "stream",
     "text": [
      "WARNING:absl:Found untraced functions such as dropout_layer_call_fn, dropout_layer_call_and_return_conditional_losses, dropout_1_layer_call_fn, dropout_1_layer_call_and_return_conditional_losses, dropout_2_layer_call_fn while saving (showing 5 of 12). These functions will not be directly callable after loading.\n"
     ]
    },
    {
     "name": "stdout",
     "output_type": "stream",
     "text": [
      "Epoch 4/30\n",
      "1976/1976 [==============================] - 15s 8ms/step - loss: 0.4315 - mse: 0.4211 - val_loss: 0.5137 - val_mse: 0.5023\n",
      "Epoch 5/30\n",
      "1976/1976 [==============================] - 15s 8ms/step - loss: 0.4185 - mse: 0.4060 - val_loss: 0.5129 - val_mse: 0.4994\n",
      "Epoch 6/30\n",
      "1976/1976 [==============================] - 15s 8ms/step - loss: 0.4080 - mse: 0.3935 - val_loss: 0.5123 - val_mse: 0.4970\n",
      "Epoch 7/30\n",
      "1976/1976 [==============================] - 15s 8ms/step - loss: 0.4000 - mse: 0.3838 - val_loss: 0.5254 - val_mse: 0.5085\n",
      "Epoch 8/30\n",
      "1976/1976 [==============================] - 15s 8ms/step - loss: 0.3939 - mse: 0.3762 - val_loss: 0.5348 - val_mse: 0.5164\n",
      "test MSE 0.4929\n",
      "Epoch 1/30\n",
      "1976/1976 [==============================] - 16s 7ms/step - loss: 0.7098 - mse: 0.7080 - val_loss: 0.4952 - val_mse: 0.4918\n"
     ]
    },
    {
     "name": "stderr",
     "output_type": "stream",
     "text": [
      "WARNING:absl:Found untraced functions such as dropout_layer_call_fn, dropout_layer_call_and_return_conditional_losses, dropout_1_layer_call_fn, dropout_1_layer_call_and_return_conditional_losses, dropout_2_layer_call_fn while saving (showing 5 of 12). These functions will not be directly callable after loading.\n"
     ]
    },
    {
     "name": "stdout",
     "output_type": "stream",
     "text": [
      "Epoch 2/30\n",
      "1976/1976 [==============================] - 15s 7ms/step - loss: 0.4688 - mse: 0.4638 - val_loss: 0.4966 - val_mse: 0.4904\n"
     ]
    },
    {
     "name": "stderr",
     "output_type": "stream",
     "text": [
      "WARNING:absl:Found untraced functions such as dropout_layer_call_fn, dropout_layer_call_and_return_conditional_losses, dropout_1_layer_call_fn, dropout_1_layer_call_and_return_conditional_losses, dropout_2_layer_call_fn while saving (showing 5 of 12). These functions will not be directly callable after loading.\n"
     ]
    },
    {
     "name": "stdout",
     "output_type": "stream",
     "text": [
      "Epoch 3/30\n",
      "1976/1976 [==============================] - 15s 8ms/step - loss: 0.4501 - mse: 0.4423 - val_loss: 0.4988 - val_mse: 0.4899\n"
     ]
    },
    {
     "name": "stderr",
     "output_type": "stream",
     "text": [
      "WARNING:absl:Found untraced functions such as dropout_layer_call_fn, dropout_layer_call_and_return_conditional_losses, dropout_1_layer_call_fn, dropout_1_layer_call_and_return_conditional_losses, dropout_2_layer_call_fn while saving (showing 5 of 12). These functions will not be directly callable after loading.\n"
     ]
    },
    {
     "name": "stdout",
     "output_type": "stream",
     "text": [
      "Epoch 4/30\n",
      "1976/1976 [==============================] - 15s 8ms/step - loss: 0.4359 - mse: 0.4258 - val_loss: 0.4993 - val_mse: 0.4881\n"
     ]
    },
    {
     "name": "stderr",
     "output_type": "stream",
     "text": [
      "WARNING:absl:Found untraced functions such as dropout_layer_call_fn, dropout_layer_call_and_return_conditional_losses, dropout_1_layer_call_fn, dropout_1_layer_call_and_return_conditional_losses, dropout_2_layer_call_fn while saving (showing 5 of 12). These functions will not be directly callable after loading.\n"
     ]
    },
    {
     "name": "stdout",
     "output_type": "stream",
     "text": [
      "Epoch 5/30\n",
      "1976/1976 [==============================] - 15s 7ms/step - loss: 0.4238 - mse: 0.4115 - val_loss: 0.5068 - val_mse: 0.4936\n",
      "Epoch 6/30\n",
      "1976/1976 [==============================] - 15s 8ms/step - loss: 0.4136 - mse: 0.3994 - val_loss: 0.5165 - val_mse: 0.5014\n",
      "Epoch 7/30\n",
      "1976/1976 [==============================] - 15s 7ms/step - loss: 0.4050 - mse: 0.3890 - val_loss: 0.5205 - val_mse: 0.5038\n",
      "Epoch 8/30\n",
      "1976/1976 [==============================] - 15s 8ms/step - loss: 0.3978 - mse: 0.3803 - val_loss: 0.5259 - val_mse: 0.5077\n",
      "Epoch 9/30\n",
      "1976/1976 [==============================] - 14s 7ms/step - loss: 0.3925 - mse: 0.3736 - val_loss: 0.5398 - val_mse: 0.5203\n",
      "test MSE 0.4866\n",
      "Epoch 1/30\n",
      "1976/1976 [==============================] - 15s 7ms/step - loss: 0.7416 - mse: 0.7398 - val_loss: 0.5024 - val_mse: 0.4989\n"
     ]
    },
    {
     "name": "stderr",
     "output_type": "stream",
     "text": [
      "WARNING:absl:Found untraced functions such as dropout_layer_call_fn, dropout_layer_call_and_return_conditional_losses, dropout_1_layer_call_fn, dropout_1_layer_call_and_return_conditional_losses, dropout_2_layer_call_fn while saving (showing 5 of 12). These functions will not be directly callable after loading.\n"
     ]
    },
    {
     "name": "stdout",
     "output_type": "stream",
     "text": [
      "Epoch 2/30\n",
      "1976/1976 [==============================] - 14s 7ms/step - loss: 0.4722 - mse: 0.4672 - val_loss: 0.5197 - val_mse: 0.5134\n",
      "Epoch 3/30\n",
      "1976/1976 [==============================] - 14s 7ms/step - loss: 0.4551 - mse: 0.4475 - val_loss: 0.4964 - val_mse: 0.4877\n"
     ]
    },
    {
     "name": "stderr",
     "output_type": "stream",
     "text": [
      "WARNING:absl:Found untraced functions such as dropout_layer_call_fn, dropout_layer_call_and_return_conditional_losses, dropout_1_layer_call_fn, dropout_1_layer_call_and_return_conditional_losses, dropout_2_layer_call_fn while saving (showing 5 of 12). These functions will not be directly callable after loading.\n"
     ]
    },
    {
     "name": "stdout",
     "output_type": "stream",
     "text": [
      "Epoch 4/30\n",
      "1976/1976 [==============================] - 14s 7ms/step - loss: 0.4417 - mse: 0.4318 - val_loss: 0.4978 - val_mse: 0.4869\n"
     ]
    },
    {
     "name": "stderr",
     "output_type": "stream",
     "text": [
      "WARNING:absl:Found untraced functions such as dropout_layer_call_fn, dropout_layer_call_and_return_conditional_losses, dropout_1_layer_call_fn, dropout_1_layer_call_and_return_conditional_losses, dropout_2_layer_call_fn while saving (showing 5 of 12). These functions will not be directly callable after loading.\n"
     ]
    },
    {
     "name": "stdout",
     "output_type": "stream",
     "text": [
      "Epoch 5/30\n",
      "1976/1976 [==============================] - 14s 7ms/step - loss: 0.4295 - mse: 0.4175 - val_loss: 0.5072 - val_mse: 0.4943\n",
      "Epoch 6/30\n",
      "1976/1976 [==============================] - 15s 7ms/step - loss: 0.4184 - mse: 0.4045 - val_loss: 0.5112 - val_mse: 0.4965\n",
      "Epoch 7/30\n",
      "1976/1976 [==============================] - 14s 7ms/step - loss: 0.4094 - mse: 0.3938 - val_loss: 0.5198 - val_mse: 0.5035\n",
      "Epoch 8/30\n",
      "1976/1976 [==============================] - 15s 7ms/step - loss: 0.4020 - mse: 0.3848 - val_loss: 0.5281 - val_mse: 0.5103\n",
      "Epoch 9/30\n",
      "1976/1976 [==============================] - 14s 7ms/step - loss: 0.3958 - mse: 0.3773 - val_loss: 0.5527 - val_mse: 0.5336\n",
      "test MSE 0.4846\n",
      "Epoch 1/30\n",
      "1976/1976 [==============================] - 13s 6ms/step - loss: 0.7194 - mse: 0.7176 - val_loss: 0.5029 - val_mse: 0.4994\n"
     ]
    },
    {
     "name": "stderr",
     "output_type": "stream",
     "text": [
      "WARNING:absl:Found untraced functions such as dropout_layer_call_fn, dropout_layer_call_and_return_conditional_losses, dropout_1_layer_call_fn, dropout_1_layer_call_and_return_conditional_losses, dropout_2_layer_call_fn while saving (showing 5 of 12). These functions will not be directly callable after loading.\n"
     ]
    },
    {
     "name": "stdout",
     "output_type": "stream",
     "text": [
      "Epoch 2/30\n",
      "1976/1976 [==============================] - 14s 7ms/step - loss: 0.4679 - mse: 0.4629 - val_loss: 0.4912 - val_mse: 0.4848\n"
     ]
    },
    {
     "name": "stderr",
     "output_type": "stream",
     "text": [
      "WARNING:absl:Found untraced functions such as dropout_layer_call_fn, dropout_layer_call_and_return_conditional_losses, dropout_1_layer_call_fn, dropout_1_layer_call_and_return_conditional_losses, dropout_2_layer_call_fn while saving (showing 5 of 12). These functions will not be directly callable after loading.\n"
     ]
    },
    {
     "name": "stdout",
     "output_type": "stream",
     "text": [
      "Epoch 3/30\n",
      "1976/1976 [==============================] - 14s 7ms/step - loss: 0.4476 - mse: 0.4397 - val_loss: 0.4953 - val_mse: 0.4863\n",
      "Epoch 4/30\n",
      "1976/1976 [==============================] - 15s 7ms/step - loss: 0.4334 - mse: 0.4230 - val_loss: 0.5038 - val_mse: 0.4924\n",
      "Epoch 5/30\n",
      "1976/1976 [==============================] - 14s 7ms/step - loss: 0.4217 - mse: 0.4091 - val_loss: 0.5110 - val_mse: 0.4974\n",
      "Epoch 6/30\n",
      "1976/1976 [==============================] - 15s 7ms/step - loss: 0.4114 - mse: 0.3969 - val_loss: 0.5135 - val_mse: 0.4981\n",
      "Epoch 7/30\n",
      "1976/1976 [==============================] - 15s 7ms/step - loss: 0.4037 - mse: 0.3874 - val_loss: 0.5359 - val_mse: 0.5189\n",
      "test MSE 0.4835\n",
      "Epoch 1/30\n",
      "1976/1976 [==============================] - 17s 8ms/step - loss: 0.7058 - mse: 0.7039 - val_loss: 0.4985 - val_mse: 0.4951\n"
     ]
    },
    {
     "name": "stderr",
     "output_type": "stream",
     "text": [
      "WARNING:absl:Found untraced functions such as dropout_layer_call_fn, dropout_layer_call_and_return_conditional_losses, dropout_1_layer_call_fn, dropout_1_layer_call_and_return_conditional_losses, dropout_2_layer_call_fn while saving (showing 5 of 12). These functions will not be directly callable after loading.\n"
     ]
    },
    {
     "name": "stdout",
     "output_type": "stream",
     "text": [
      "Epoch 2/30\n",
      "1976/1976 [==============================] - 15s 8ms/step - loss: 0.4716 - mse: 0.4667 - val_loss: 0.5024 - val_mse: 0.4962\n",
      "Epoch 3/30\n",
      "1976/1976 [==============================] - 15s 8ms/step - loss: 0.4553 - mse: 0.4478 - val_loss: 0.4937 - val_mse: 0.4851\n"
     ]
    },
    {
     "name": "stderr",
     "output_type": "stream",
     "text": [
      "WARNING:absl:Found untraced functions such as dropout_layer_call_fn, dropout_layer_call_and_return_conditional_losses, dropout_1_layer_call_fn, dropout_1_layer_call_and_return_conditional_losses, dropout_2_layer_call_fn while saving (showing 5 of 12). These functions will not be directly callable after loading.\n"
     ]
    },
    {
     "name": "stdout",
     "output_type": "stream",
     "text": [
      "Epoch 4/30\n",
      "1976/1976 [==============================] - 15s 8ms/step - loss: 0.4407 - mse: 0.4308 - val_loss: 0.4963 - val_mse: 0.4855\n",
      "Epoch 5/30\n",
      "1976/1976 [==============================] - 15s 8ms/step - loss: 0.4260 - mse: 0.4140 - val_loss: 0.5020 - val_mse: 0.4891\n",
      "Epoch 6/30\n",
      "1976/1976 [==============================] - 15s 8ms/step - loss: 0.4130 - mse: 0.3990 - val_loss: 0.5102 - val_mse: 0.4954\n",
      "Epoch 7/30\n",
      "1976/1976 [==============================] - 15s 8ms/step - loss: 0.4034 - mse: 0.3877 - val_loss: 0.5251 - val_mse: 0.5086\n",
      "Epoch 8/30\n",
      "1976/1976 [==============================] - 15s 8ms/step - loss: 0.3967 - mse: 0.3794 - val_loss: 0.5270 - val_mse: 0.5090\n",
      "test MSE 0.4804\n"
     ]
    }
   ],
   "source": [
    "# NFM\n",
    "dict_NFM = {'linear_feature_columns': linear_feature_columns,\n",
    "            'dnn_feature_columns': dnn_feature_columns,\n",
    "            'task': 'regression'}\n",
    "ls_result = calc_nn_based_model(df_douban_all, \n",
    "                                NFM, dict_NFM,\n",
    "                                feature_names, \n",
    "                                'douban', 'NFM')\n",
    "all_result.extend(ls_result)"
   ]
  },
  {
   "cell_type": "code",
   "execution_count": 20,
   "metadata": {},
   "outputs": [
    {
     "name": "stdout",
     "output_type": "stream",
     "text": [
      "Epoch 1/30\n",
      "1976/1976 [==============================] - 16s 7ms/step - loss: 0.6982 - mse: 0.6969 - val_loss: 0.4978 - val_mse: 0.4954\n"
     ]
    },
    {
     "name": "stderr",
     "output_type": "stream",
     "text": [
      "WARNING:absl:Found untraced functions such as dropout_layer_call_fn, dropout_layer_call_and_return_conditional_losses, dropout_1_layer_call_fn, dropout_1_layer_call_and_return_conditional_losses, dropout_2_layer_call_fn while saving (showing 5 of 12). These functions will not be directly callable after loading.\n"
     ]
    },
    {
     "name": "stdout",
     "output_type": "stream",
     "text": [
      "Epoch 2/30\n",
      "1976/1976 [==============================] - 16s 8ms/step - loss: 0.4768 - mse: 0.4731 - val_loss: 0.4896 - val_mse: 0.4847\n"
     ]
    },
    {
     "name": "stderr",
     "output_type": "stream",
     "text": [
      "WARNING:absl:Found untraced functions such as dropout_layer_call_fn, dropout_layer_call_and_return_conditional_losses, dropout_1_layer_call_fn, dropout_1_layer_call_and_return_conditional_losses, dropout_2_layer_call_fn while saving (showing 5 of 12). These functions will not be directly callable after loading.\n"
     ]
    },
    {
     "name": "stdout",
     "output_type": "stream",
     "text": [
      "Epoch 3/30\n",
      "1976/1976 [==============================] - 16s 8ms/step - loss: 0.4590 - mse: 0.4528 - val_loss: 0.5038 - val_mse: 0.4966\n",
      "Epoch 4/30\n",
      "1976/1976 [==============================] - 17s 8ms/step - loss: 0.4435 - mse: 0.4350 - val_loss: 0.5037 - val_mse: 0.4942\n",
      "Epoch 5/30\n",
      "1976/1976 [==============================] - 16s 8ms/step - loss: 0.4279 - mse: 0.4173 - val_loss: 0.5040 - val_mse: 0.4925\n",
      "Epoch 6/30\n",
      "1976/1976 [==============================] - 16s 8ms/step - loss: 0.4143 - mse: 0.4017 - val_loss: 0.5125 - val_mse: 0.4990\n",
      "Epoch 7/30\n",
      "1976/1976 [==============================] - 16s 8ms/step - loss: 0.4017 - mse: 0.3873 - val_loss: 0.5208 - val_mse: 0.5056\n",
      "test MSE 0.4888\n",
      "Epoch 1/30\n",
      "1976/1976 [==============================] - 15s 7ms/step - loss: 0.7019 - mse: 0.7007 - val_loss: 0.5009 - val_mse: 0.4986\n"
     ]
    },
    {
     "name": "stderr",
     "output_type": "stream",
     "text": [
      "WARNING:absl:Found untraced functions such as dropout_layer_call_fn, dropout_layer_call_and_return_conditional_losses, dropout_1_layer_call_fn, dropout_1_layer_call_and_return_conditional_losses, dropout_2_layer_call_fn while saving (showing 5 of 12). These functions will not be directly callable after loading.\n"
     ]
    },
    {
     "name": "stdout",
     "output_type": "stream",
     "text": [
      "Epoch 2/30\n",
      "1976/1976 [==============================] - 16s 8ms/step - loss: 0.4804 - mse: 0.4768 - val_loss: 0.5065 - val_mse: 0.5017\n",
      "Epoch 3/30\n",
      "1976/1976 [==============================] - 16s 8ms/step - loss: 0.4633 - mse: 0.4572 - val_loss: 0.4915 - val_mse: 0.4843\n"
     ]
    },
    {
     "name": "stderr",
     "output_type": "stream",
     "text": [
      "WARNING:absl:Found untraced functions such as dropout_layer_call_fn, dropout_layer_call_and_return_conditional_losses, dropout_1_layer_call_fn, dropout_1_layer_call_and_return_conditional_losses, dropout_2_layer_call_fn while saving (showing 5 of 12). These functions will not be directly callable after loading.\n"
     ]
    },
    {
     "name": "stdout",
     "output_type": "stream",
     "text": [
      "Epoch 4/30\n",
      "1976/1976 [==============================] - 16s 8ms/step - loss: 0.4472 - mse: 0.4388 - val_loss: 0.4927 - val_mse: 0.4834\n"
     ]
    },
    {
     "name": "stderr",
     "output_type": "stream",
     "text": [
      "WARNING:absl:Found untraced functions such as dropout_layer_call_fn, dropout_layer_call_and_return_conditional_losses, dropout_1_layer_call_fn, dropout_1_layer_call_and_return_conditional_losses, dropout_2_layer_call_fn while saving (showing 5 of 12). These functions will not be directly callable after loading.\n"
     ]
    },
    {
     "name": "stdout",
     "output_type": "stream",
     "text": [
      "Epoch 5/30\n",
      "1976/1976 [==============================] - 16s 8ms/step - loss: 0.4324 - mse: 0.4219 - val_loss: 0.4991 - val_mse: 0.4876\n",
      "Epoch 6/30\n",
      "1976/1976 [==============================] - 16s 8ms/step - loss: 0.4171 - mse: 0.4045 - val_loss: 0.5161 - val_mse: 0.5027\n",
      "Epoch 7/30\n",
      "1976/1976 [==============================] - 16s 8ms/step - loss: 0.4039 - mse: 0.3895 - val_loss: 0.5303 - val_mse: 0.5151\n",
      "Epoch 8/30\n",
      "1976/1976 [==============================] - 16s 8ms/step - loss: 0.3930 - mse: 0.3770 - val_loss: 0.5412 - val_mse: 0.5245\n",
      "Epoch 9/30\n",
      "1976/1976 [==============================] - 16s 8ms/step - loss: 0.3847 - mse: 0.3673 - val_loss: 0.5417 - val_mse: 0.5237\n",
      "test MSE 0.4843\n",
      "Epoch 1/30\n",
      "1976/1976 [==============================] - 17s 8ms/step - loss: 0.6951 - mse: 0.6938 - val_loss: 0.5017 - val_mse: 0.4994\n"
     ]
    },
    {
     "name": "stderr",
     "output_type": "stream",
     "text": [
      "WARNING:absl:Found untraced functions such as dropout_layer_call_fn, dropout_layer_call_and_return_conditional_losses, dropout_1_layer_call_fn, dropout_1_layer_call_and_return_conditional_losses, dropout_2_layer_call_fn while saving (showing 5 of 12). These functions will not be directly callable after loading.\n"
     ]
    },
    {
     "name": "stdout",
     "output_type": "stream",
     "text": [
      "Epoch 2/30\n",
      "1976/1976 [==============================] - 16s 8ms/step - loss: 0.4776 - mse: 0.4739 - val_loss: 0.4998 - val_mse: 0.4950\n"
     ]
    },
    {
     "name": "stderr",
     "output_type": "stream",
     "text": [
      "WARNING:absl:Found untraced functions such as dropout_layer_call_fn, dropout_layer_call_and_return_conditional_losses, dropout_1_layer_call_fn, dropout_1_layer_call_and_return_conditional_losses, dropout_2_layer_call_fn while saving (showing 5 of 12). These functions will not be directly callable after loading.\n"
     ]
    },
    {
     "name": "stdout",
     "output_type": "stream",
     "text": [
      "Epoch 3/30\n",
      "1976/1976 [==============================] - 16s 8ms/step - loss: 0.4586 - mse: 0.4523 - val_loss: 0.5034 - val_mse: 0.4962\n",
      "Epoch 4/30\n",
      "1976/1976 [==============================] - 16s 8ms/step - loss: 0.4458 - mse: 0.4373 - val_loss: 0.4951 - val_mse: 0.4855\n"
     ]
    },
    {
     "name": "stderr",
     "output_type": "stream",
     "text": [
      "WARNING:absl:Found untraced functions such as dropout_layer_call_fn, dropout_layer_call_and_return_conditional_losses, dropout_1_layer_call_fn, dropout_1_layer_call_and_return_conditional_losses, dropout_2_layer_call_fn while saving (showing 5 of 12). These functions will not be directly callable after loading.\n"
     ]
    },
    {
     "name": "stdout",
     "output_type": "stream",
     "text": [
      "Epoch 5/30\n",
      "1976/1976 [==============================] - 16s 8ms/step - loss: 0.4316 - mse: 0.4209 - val_loss: 0.4985 - val_mse: 0.4869\n",
      "Epoch 6/30\n",
      "1976/1976 [==============================] - 16s 8ms/step - loss: 0.4172 - mse: 0.4045 - val_loss: 0.5188 - val_mse: 0.5052\n",
      "Epoch 7/30\n",
      "1976/1976 [==============================] - 17s 8ms/step - loss: 0.4039 - mse: 0.3894 - val_loss: 0.5205 - val_mse: 0.5053\n",
      "Epoch 8/30\n",
      "1976/1976 [==============================] - 16s 8ms/step - loss: 0.3933 - mse: 0.3772 - val_loss: 0.5338 - val_mse: 0.5170\n",
      "Epoch 9/30\n",
      "1976/1976 [==============================] - 16s 8ms/step - loss: 0.3845 - mse: 0.3670 - val_loss: 0.5322 - val_mse: 0.5140\n",
      "test MSE 0.4823\n",
      "Epoch 1/30\n",
      "1976/1976 [==============================] - 16s 7ms/step - loss: 0.7319 - mse: 0.7307 - val_loss: 0.4977 - val_mse: 0.4953\n"
     ]
    },
    {
     "name": "stderr",
     "output_type": "stream",
     "text": [
      "WARNING:absl:Found untraced functions such as dropout_layer_call_fn, dropout_layer_call_and_return_conditional_losses, dropout_1_layer_call_fn, dropout_1_layer_call_and_return_conditional_losses, dropout_2_layer_call_fn while saving (showing 5 of 12). These functions will not be directly callable after loading.\n"
     ]
    },
    {
     "name": "stdout",
     "output_type": "stream",
     "text": [
      "Epoch 2/30\n",
      "1976/1976 [==============================] - 16s 8ms/step - loss: 0.4810 - mse: 0.4773 - val_loss: 0.4889 - val_mse: 0.4841\n"
     ]
    },
    {
     "name": "stderr",
     "output_type": "stream",
     "text": [
      "WARNING:absl:Found untraced functions such as dropout_layer_call_fn, dropout_layer_call_and_return_conditional_losses, dropout_1_layer_call_fn, dropout_1_layer_call_and_return_conditional_losses, dropout_2_layer_call_fn while saving (showing 5 of 12). These functions will not be directly callable after loading.\n"
     ]
    },
    {
     "name": "stdout",
     "output_type": "stream",
     "text": [
      "Epoch 3/30\n",
      "1976/1976 [==============================] - 16s 8ms/step - loss: 0.4634 - mse: 0.4572 - val_loss: 0.4916 - val_mse: 0.4843\n",
      "Epoch 4/30\n",
      "1976/1976 [==============================] - 16s 8ms/step - loss: 0.4483 - mse: 0.4397 - val_loss: 0.4923 - val_mse: 0.4828\n"
     ]
    },
    {
     "name": "stderr",
     "output_type": "stream",
     "text": [
      "WARNING:absl:Found untraced functions such as dropout_layer_call_fn, dropout_layer_call_and_return_conditional_losses, dropout_1_layer_call_fn, dropout_1_layer_call_and_return_conditional_losses, dropout_2_layer_call_fn while saving (showing 5 of 12). These functions will not be directly callable after loading.\n"
     ]
    },
    {
     "name": "stdout",
     "output_type": "stream",
     "text": [
      "Epoch 5/30\n",
      "1976/1976 [==============================] - 17s 8ms/step - loss: 0.4332 - mse: 0.4225 - val_loss: 0.4964 - val_mse: 0.4848\n",
      "Epoch 6/30\n",
      "1976/1976 [==============================] - 16s 8ms/step - loss: 0.4197 - mse: 0.4070 - val_loss: 0.5107 - val_mse: 0.4972\n",
      "Epoch 7/30\n",
      "1976/1976 [==============================] - 16s 8ms/step - loss: 0.4068 - mse: 0.3923 - val_loss: 0.5166 - val_mse: 0.5013\n",
      "Epoch 8/30\n",
      "1976/1976 [==============================] - 16s 8ms/step - loss: 0.3964 - mse: 0.3804 - val_loss: 0.5345 - val_mse: 0.5178\n",
      "Epoch 9/30\n",
      "1976/1976 [==============================] - 16s 8ms/step - loss: 0.3874 - mse: 0.3700 - val_loss: 0.5348 - val_mse: 0.5167\n",
      "test MSE 0.4821\n",
      "Epoch 1/30\n",
      "1976/1976 [==============================] - 19s 8ms/step - loss: 0.7182 - mse: 0.7170 - val_loss: 0.5001 - val_mse: 0.4977\n"
     ]
    },
    {
     "name": "stderr",
     "output_type": "stream",
     "text": [
      "WARNING:absl:Found untraced functions such as dropout_layer_call_fn, dropout_layer_call_and_return_conditional_losses, dropout_1_layer_call_fn, dropout_1_layer_call_and_return_conditional_losses, dropout_2_layer_call_fn while saving (showing 5 of 12). These functions will not be directly callable after loading.\n"
     ]
    },
    {
     "name": "stdout",
     "output_type": "stream",
     "text": [
      "Epoch 2/30\n",
      "1976/1976 [==============================] - 17s 8ms/step - loss: 0.4795 - mse: 0.4758 - val_loss: 0.4927 - val_mse: 0.4879\n"
     ]
    },
    {
     "name": "stderr",
     "output_type": "stream",
     "text": [
      "WARNING:absl:Found untraced functions such as dropout_layer_call_fn, dropout_layer_call_and_return_conditional_losses, dropout_1_layer_call_fn, dropout_1_layer_call_and_return_conditional_losses, dropout_2_layer_call_fn while saving (showing 5 of 12). These functions will not be directly callable after loading.\n"
     ]
    },
    {
     "name": "stdout",
     "output_type": "stream",
     "text": [
      "Epoch 3/30\n",
      "1976/1976 [==============================] - 16s 8ms/step - loss: 0.4617 - mse: 0.4555 - val_loss: 0.4902 - val_mse: 0.4828\n"
     ]
    },
    {
     "name": "stderr",
     "output_type": "stream",
     "text": [
      "WARNING:absl:Found untraced functions such as dropout_layer_call_fn, dropout_layer_call_and_return_conditional_losses, dropout_1_layer_call_fn, dropout_1_layer_call_and_return_conditional_losses, dropout_2_layer_call_fn while saving (showing 5 of 12). These functions will not be directly callable after loading.\n"
     ]
    },
    {
     "name": "stdout",
     "output_type": "stream",
     "text": [
      "Epoch 4/30\n",
      "1976/1976 [==============================] - 16s 8ms/step - loss: 0.4456 - mse: 0.4370 - val_loss: 0.5023 - val_mse: 0.4926\n",
      "Epoch 5/30\n",
      "1976/1976 [==============================] - 17s 9ms/step - loss: 0.4298 - mse: 0.4189 - val_loss: 0.5006 - val_mse: 0.4888\n",
      "Epoch 6/30\n",
      "1976/1976 [==============================] - 17s 8ms/step - loss: 0.4154 - mse: 0.4026 - val_loss: 0.5133 - val_mse: 0.4997\n",
      "Epoch 7/30\n",
      "1976/1976 [==============================] - 16s 8ms/step - loss: 0.4041 - mse: 0.3896 - val_loss: 0.5224 - val_mse: 0.5071\n",
      "Epoch 8/30\n",
      "1976/1976 [==============================] - 16s 8ms/step - loss: 0.3946 - mse: 0.3785 - val_loss: 0.5322 - val_mse: 0.5153\n",
      "test MSE 0.4789\n"
     ]
    }
   ],
   "source": [
    "# deepFM\n",
    "dict_deepFM = {'linear_feature_columns': linear_feature_columns, \n",
    "               'dnn_feature_columns': dnn_feature_columns,\n",
    "               'task': 'regression'}\n",
    "ls_result = calc_nn_based_model(df_douban_all, \n",
    "                                DeepFM, dict_deepFM,\n",
    "                                feature_names, \n",
    "                                'douban', 'deepFM')\n",
    "all_result.extend(ls_result)"
   ]
  },
  {
   "cell_type": "code",
   "execution_count": 21,
   "metadata": {},
   "outputs": [
    {
     "name": "stdout",
     "output_type": "stream",
     "text": [
      "Epoch 1/30\n",
      "1976/1976 [==============================] - 16s 7ms/step - loss: 2.6346 - mse: 2.6284 - val_loss: 0.6233 - val_mse: 0.6143\n"
     ]
    },
    {
     "name": "stderr",
     "output_type": "stream",
     "text": [
      "WARNING:absl:Found untraced functions such as dropout_layer_call_fn, dropout_layer_call_and_return_conditional_losses, lambda_layer_call_fn, lambda_layer_call_and_return_conditional_losses while saving (showing 4 of 4). These functions will not be directly callable after loading.\n"
     ]
    },
    {
     "name": "stdout",
     "output_type": "stream",
     "text": [
      "Epoch 2/30\n",
      "1976/1976 [==============================] - 16s 8ms/step - loss: 0.5636 - mse: 0.5527 - val_loss: 0.5419 - val_mse: 0.5291\n"
     ]
    },
    {
     "name": "stderr",
     "output_type": "stream",
     "text": [
      "WARNING:absl:Found untraced functions such as dropout_layer_call_fn, dropout_layer_call_and_return_conditional_losses, lambda_layer_call_fn, lambda_layer_call_and_return_conditional_losses while saving (showing 4 of 4). These functions will not be directly callable after loading.\n"
     ]
    },
    {
     "name": "stdout",
     "output_type": "stream",
     "text": [
      "Epoch 3/30\n",
      "1976/1976 [==============================] - 16s 8ms/step - loss: 0.5109 - mse: 0.4962 - val_loss: 0.5199 - val_mse: 0.5035\n"
     ]
    },
    {
     "name": "stderr",
     "output_type": "stream",
     "text": [
      "WARNING:absl:Found untraced functions such as dropout_layer_call_fn, dropout_layer_call_and_return_conditional_losses, lambda_layer_call_fn, lambda_layer_call_and_return_conditional_losses while saving (showing 4 of 4). These functions will not be directly callable after loading.\n"
     ]
    },
    {
     "name": "stdout",
     "output_type": "stream",
     "text": [
      "Epoch 4/30\n",
      "1976/1976 [==============================] - 16s 8ms/step - loss: 0.4919 - mse: 0.4741 - val_loss: 0.5140 - val_mse: 0.4950\n"
     ]
    },
    {
     "name": "stderr",
     "output_type": "stream",
     "text": [
      "WARNING:absl:Found untraced functions such as dropout_layer_call_fn, dropout_layer_call_and_return_conditional_losses, lambda_layer_call_fn, lambda_layer_call_and_return_conditional_losses while saving (showing 4 of 4). These functions will not be directly callable after loading.\n"
     ]
    },
    {
     "name": "stdout",
     "output_type": "stream",
     "text": [
      "Epoch 5/30\n",
      "1976/1976 [==============================] - 16s 8ms/step - loss: 0.4839 - mse: 0.4639 - val_loss: 0.5116 - val_mse: 0.4908\n"
     ]
    },
    {
     "name": "stderr",
     "output_type": "stream",
     "text": [
      "WARNING:absl:Found untraced functions such as dropout_layer_call_fn, dropout_layer_call_and_return_conditional_losses, lambda_layer_call_fn, lambda_layer_call_and_return_conditional_losses while saving (showing 4 of 4). These functions will not be directly callable after loading.\n"
     ]
    },
    {
     "name": "stdout",
     "output_type": "stream",
     "text": [
      "Epoch 6/30\n",
      "1976/1976 [==============================] - 16s 8ms/step - loss: 0.4799 - mse: 0.4583 - val_loss: 0.5114 - val_mse: 0.4894\n"
     ]
    },
    {
     "name": "stderr",
     "output_type": "stream",
     "text": [
      "WARNING:absl:Found untraced functions such as dropout_layer_call_fn, dropout_layer_call_and_return_conditional_losses, lambda_layer_call_fn, lambda_layer_call_and_return_conditional_losses while saving (showing 4 of 4). These functions will not be directly callable after loading.\n"
     ]
    },
    {
     "name": "stdout",
     "output_type": "stream",
     "text": [
      "Epoch 7/30\n",
      "1976/1976 [==============================] - 16s 8ms/step - loss: 0.4777 - mse: 0.4552 - val_loss: 0.5112 - val_mse: 0.4884\n"
     ]
    },
    {
     "name": "stderr",
     "output_type": "stream",
     "text": [
      "WARNING:absl:Found untraced functions such as dropout_layer_call_fn, dropout_layer_call_and_return_conditional_losses, lambda_layer_call_fn, lambda_layer_call_and_return_conditional_losses while saving (showing 4 of 4). These functions will not be directly callable after loading.\n"
     ]
    },
    {
     "name": "stdout",
     "output_type": "stream",
     "text": [
      "Epoch 8/30\n",
      "1976/1976 [==============================] - 16s 8ms/step - loss: 0.4762 - mse: 0.4532 - val_loss: 0.5109 - val_mse: 0.4877\n"
     ]
    },
    {
     "name": "stderr",
     "output_type": "stream",
     "text": [
      "WARNING:absl:Found untraced functions such as dropout_layer_call_fn, dropout_layer_call_and_return_conditional_losses, lambda_layer_call_fn, lambda_layer_call_and_return_conditional_losses while saving (showing 4 of 4). These functions will not be directly callable after loading.\n"
     ]
    },
    {
     "name": "stdout",
     "output_type": "stream",
     "text": [
      "Epoch 9/30\n",
      "1976/1976 [==============================] - 16s 8ms/step - loss: 0.4752 - mse: 0.4519 - val_loss: 0.5110 - val_mse: 0.4876\n"
     ]
    },
    {
     "name": "stderr",
     "output_type": "stream",
     "text": [
      "WARNING:absl:Found untraced functions such as dropout_layer_call_fn, dropout_layer_call_and_return_conditional_losses, lambda_layer_call_fn, lambda_layer_call_and_return_conditional_losses while saving (showing 4 of 4). These functions will not be directly callable after loading.\n"
     ]
    },
    {
     "name": "stdout",
     "output_type": "stream",
     "text": [
      "Epoch 10/30\n",
      "1976/1976 [==============================] - 16s 8ms/step - loss: 0.4745 - mse: 0.4510 - val_loss: 0.5104 - val_mse: 0.4870\n"
     ]
    },
    {
     "name": "stderr",
     "output_type": "stream",
     "text": [
      "WARNING:absl:Found untraced functions such as dropout_layer_call_fn, dropout_layer_call_and_return_conditional_losses, lambda_layer_call_fn, lambda_layer_call_and_return_conditional_losses while saving (showing 4 of 4). These functions will not be directly callable after loading.\n"
     ]
    },
    {
     "name": "stdout",
     "output_type": "stream",
     "text": [
      "Epoch 11/30\n",
      "1976/1976 [==============================] - 16s 8ms/step - loss: 0.4738 - mse: 0.4502 - val_loss: 0.5100 - val_mse: 0.4866\n"
     ]
    },
    {
     "name": "stderr",
     "output_type": "stream",
     "text": [
      "WARNING:absl:Found untraced functions such as dropout_layer_call_fn, dropout_layer_call_and_return_conditional_losses, lambda_layer_call_fn, lambda_layer_call_and_return_conditional_losses while saving (showing 4 of 4). These functions will not be directly callable after loading.\n"
     ]
    },
    {
     "name": "stdout",
     "output_type": "stream",
     "text": [
      "Epoch 12/30\n",
      "1976/1976 [==============================] - 16s 8ms/step - loss: 0.4733 - mse: 0.4498 - val_loss: 0.5104 - val_mse: 0.4870\n",
      "Epoch 13/30\n",
      "1976/1976 [==============================] - 16s 8ms/step - loss: 0.4727 - mse: 0.4493 - val_loss: 0.5094 - val_mse: 0.4861\n"
     ]
    },
    {
     "name": "stderr",
     "output_type": "stream",
     "text": [
      "WARNING:absl:Found untraced functions such as dropout_layer_call_fn, dropout_layer_call_and_return_conditional_losses, lambda_layer_call_fn, lambda_layer_call_and_return_conditional_losses while saving (showing 4 of 4). These functions will not be directly callable after loading.\n"
     ]
    },
    {
     "name": "stdout",
     "output_type": "stream",
     "text": [
      "Epoch 14/30\n",
      "1976/1976 [==============================] - 16s 8ms/step - loss: 0.4724 - mse: 0.4491 - val_loss: 0.5091 - val_mse: 0.4859\n"
     ]
    },
    {
     "name": "stderr",
     "output_type": "stream",
     "text": [
      "WARNING:absl:Found untraced functions such as dropout_layer_call_fn, dropout_layer_call_and_return_conditional_losses, lambda_layer_call_fn, lambda_layer_call_and_return_conditional_losses while saving (showing 4 of 4). These functions will not be directly callable after loading.\n"
     ]
    },
    {
     "name": "stdout",
     "output_type": "stream",
     "text": [
      "Epoch 15/30\n",
      "1976/1976 [==============================] - 16s 8ms/step - loss: 0.4720 - mse: 0.4489 - val_loss: 0.5097 - val_mse: 0.4866\n",
      "Epoch 16/30\n",
      "1976/1976 [==============================] - 16s 8ms/step - loss: 0.4717 - mse: 0.4486 - val_loss: 0.5099 - val_mse: 0.4869\n",
      "Epoch 17/30\n",
      "1976/1976 [==============================] - 16s 8ms/step - loss: 0.4714 - mse: 0.4485 - val_loss: 0.5090 - val_mse: 0.4862\n",
      "Epoch 18/30\n",
      "1976/1976 [==============================] - 16s 8ms/step - loss: 0.4711 - mse: 0.4483 - val_loss: 0.5089 - val_mse: 0.4862\n",
      "Epoch 19/30\n",
      "1976/1976 [==============================] - 16s 8ms/step - loss: 0.4707 - mse: 0.4480 - val_loss: 0.5087 - val_mse: 0.4861\n",
      "test MSE 0.4899\n",
      "Epoch 1/30\n",
      "1976/1976 [==============================] - 18s 8ms/step - loss: 2.5088 - mse: 2.5026 - val_loss: 0.6140 - val_mse: 0.6053\n"
     ]
    },
    {
     "name": "stderr",
     "output_type": "stream",
     "text": [
      "WARNING:absl:Found untraced functions such as dropout_layer_call_fn, dropout_layer_call_and_return_conditional_losses, lambda_layer_call_fn, lambda_layer_call_and_return_conditional_losses while saving (showing 4 of 4). These functions will not be directly callable after loading.\n"
     ]
    },
    {
     "name": "stdout",
     "output_type": "stream",
     "text": [
      "Epoch 2/30\n",
      "1976/1976 [==============================] - 16s 8ms/step - loss: 0.5589 - mse: 0.5484 - val_loss: 0.5416 - val_mse: 0.5294\n"
     ]
    },
    {
     "name": "stderr",
     "output_type": "stream",
     "text": [
      "WARNING:absl:Found untraced functions such as dropout_layer_call_fn, dropout_layer_call_and_return_conditional_losses, lambda_layer_call_fn, lambda_layer_call_and_return_conditional_losses while saving (showing 4 of 4). These functions will not be directly callable after loading.\n"
     ]
    },
    {
     "name": "stdout",
     "output_type": "stream",
     "text": [
      "Epoch 3/30\n",
      "1976/1976 [==============================] - 17s 8ms/step - loss: 0.5099 - mse: 0.4960 - val_loss: 0.5219 - val_mse: 0.5064\n"
     ]
    },
    {
     "name": "stderr",
     "output_type": "stream",
     "text": [
      "WARNING:absl:Found untraced functions such as dropout_layer_call_fn, dropout_layer_call_and_return_conditional_losses, lambda_layer_call_fn, lambda_layer_call_and_return_conditional_losses while saving (showing 4 of 4). These functions will not be directly callable after loading.\n"
     ]
    },
    {
     "name": "stdout",
     "output_type": "stream",
     "text": [
      "Epoch 4/30\n",
      "1976/1976 [==============================] - 17s 9ms/step - loss: 0.4917 - mse: 0.4748 - val_loss: 0.5151 - val_mse: 0.4969\n"
     ]
    },
    {
     "name": "stderr",
     "output_type": "stream",
     "text": [
      "WARNING:absl:Found untraced functions such as dropout_layer_call_fn, dropout_layer_call_and_return_conditional_losses, lambda_layer_call_fn, lambda_layer_call_and_return_conditional_losses while saving (showing 4 of 4). These functions will not be directly callable after loading.\n"
     ]
    },
    {
     "name": "stdout",
     "output_type": "stream",
     "text": [
      "Epoch 5/30\n",
      "1976/1976 [==============================] - 17s 9ms/step - loss: 0.4838 - mse: 0.4646 - val_loss: 0.5129 - val_mse: 0.4929\n"
     ]
    },
    {
     "name": "stderr",
     "output_type": "stream",
     "text": [
      "WARNING:absl:Found untraced functions such as dropout_layer_call_fn, dropout_layer_call_and_return_conditional_losses, lambda_layer_call_fn, lambda_layer_call_and_return_conditional_losses while saving (showing 4 of 4). These functions will not be directly callable after loading.\n"
     ]
    },
    {
     "name": "stdout",
     "output_type": "stream",
     "text": [
      "Epoch 6/30\n",
      "1976/1976 [==============================] - 17s 8ms/step - loss: 0.4798 - mse: 0.4592 - val_loss: 0.5127 - val_mse: 0.4915\n"
     ]
    },
    {
     "name": "stderr",
     "output_type": "stream",
     "text": [
      "WARNING:absl:Found untraced functions such as dropout_layer_call_fn, dropout_layer_call_and_return_conditional_losses, lambda_layer_call_fn, lambda_layer_call_and_return_conditional_losses while saving (showing 4 of 4). These functions will not be directly callable after loading.\n"
     ]
    },
    {
     "name": "stdout",
     "output_type": "stream",
     "text": [
      "Epoch 7/30\n",
      "1976/1976 [==============================] - 17s 8ms/step - loss: 0.4776 - mse: 0.4560 - val_loss: 0.5124 - val_mse: 0.4905\n"
     ]
    },
    {
     "name": "stderr",
     "output_type": "stream",
     "text": [
      "WARNING:absl:Found untraced functions such as dropout_layer_call_fn, dropout_layer_call_and_return_conditional_losses, lambda_layer_call_fn, lambda_layer_call_and_return_conditional_losses while saving (showing 4 of 4). These functions will not be directly callable after loading.\n"
     ]
    },
    {
     "name": "stdout",
     "output_type": "stream",
     "text": [
      "Epoch 8/30\n",
      "1976/1976 [==============================] - 17s 8ms/step - loss: 0.4762 - mse: 0.4540 - val_loss: 0.5123 - val_mse: 0.4899\n"
     ]
    },
    {
     "name": "stderr",
     "output_type": "stream",
     "text": [
      "WARNING:absl:Found untraced functions such as dropout_layer_call_fn, dropout_layer_call_and_return_conditional_losses, lambda_layer_call_fn, lambda_layer_call_and_return_conditional_losses while saving (showing 4 of 4). These functions will not be directly callable after loading.\n"
     ]
    },
    {
     "name": "stdout",
     "output_type": "stream",
     "text": [
      "Epoch 9/30\n",
      "1976/1976 [==============================] - 17s 9ms/step - loss: 0.4752 - mse: 0.4527 - val_loss: 0.5120 - val_mse: 0.4893\n"
     ]
    },
    {
     "name": "stderr",
     "output_type": "stream",
     "text": [
      "WARNING:absl:Found untraced functions such as dropout_layer_call_fn, dropout_layer_call_and_return_conditional_losses, lambda_layer_call_fn, lambda_layer_call_and_return_conditional_losses while saving (showing 4 of 4). These functions will not be directly callable after loading.\n"
     ]
    },
    {
     "name": "stdout",
     "output_type": "stream",
     "text": [
      "Epoch 10/30\n",
      "1976/1976 [==============================] - 17s 8ms/step - loss: 0.4746 - mse: 0.4518 - val_loss: 0.5121 - val_mse: 0.4894\n",
      "Epoch 11/30\n",
      "1976/1976 [==============================] - 16s 8ms/step - loss: 0.4740 - mse: 0.4511 - val_loss: 0.5118 - val_mse: 0.4890\n"
     ]
    },
    {
     "name": "stderr",
     "output_type": "stream",
     "text": [
      "WARNING:absl:Found untraced functions such as dropout_layer_call_fn, dropout_layer_call_and_return_conditional_losses, lambda_layer_call_fn, lambda_layer_call_and_return_conditional_losses while saving (showing 4 of 4). These functions will not be directly callable after loading.\n"
     ]
    },
    {
     "name": "stdout",
     "output_type": "stream",
     "text": [
      "Epoch 12/30\n",
      "1976/1976 [==============================] - 16s 8ms/step - loss: 0.4734 - mse: 0.4505 - val_loss: 0.5117 - val_mse: 0.4889\n"
     ]
    },
    {
     "name": "stderr",
     "output_type": "stream",
     "text": [
      "WARNING:absl:Found untraced functions such as dropout_layer_call_fn, dropout_layer_call_and_return_conditional_losses, lambda_layer_call_fn, lambda_layer_call_and_return_conditional_losses while saving (showing 4 of 4). These functions will not be directly callable after loading.\n"
     ]
    },
    {
     "name": "stdout",
     "output_type": "stream",
     "text": [
      "Epoch 13/30\n",
      "1976/1976 [==============================] - 17s 9ms/step - loss: 0.4731 - mse: 0.4503 - val_loss: 0.5114 - val_mse: 0.4887\n"
     ]
    },
    {
     "name": "stderr",
     "output_type": "stream",
     "text": [
      "WARNING:absl:Found untraced functions such as dropout_layer_call_fn, dropout_layer_call_and_return_conditional_losses, lambda_layer_call_fn, lambda_layer_call_and_return_conditional_losses while saving (showing 4 of 4). These functions will not be directly callable after loading.\n"
     ]
    },
    {
     "name": "stdout",
     "output_type": "stream",
     "text": [
      "Epoch 14/30\n",
      "1976/1976 [==============================] - 17s 8ms/step - loss: 0.4726 - mse: 0.4499 - val_loss: 0.5116 - val_mse: 0.4890\n",
      "Epoch 15/30\n",
      "1976/1976 [==============================] - 17s 8ms/step - loss: 0.4723 - mse: 0.4496 - val_loss: 0.5107 - val_mse: 0.4882\n"
     ]
    },
    {
     "name": "stderr",
     "output_type": "stream",
     "text": [
      "WARNING:absl:Found untraced functions such as dropout_layer_call_fn, dropout_layer_call_and_return_conditional_losses, lambda_layer_call_fn, lambda_layer_call_and_return_conditional_losses while saving (showing 4 of 4). These functions will not be directly callable after loading.\n"
     ]
    },
    {
     "name": "stdout",
     "output_type": "stream",
     "text": [
      "Epoch 16/30\n",
      "1976/1976 [==============================] - 17s 8ms/step - loss: 0.4719 - mse: 0.4494 - val_loss: 0.5107 - val_mse: 0.4883\n",
      "Epoch 17/30\n",
      "1976/1976 [==============================] - 17s 8ms/step - loss: 0.4716 - mse: 0.4492 - val_loss: 0.5108 - val_mse: 0.4885\n",
      "Epoch 18/30\n",
      "1976/1976 [==============================] - 17s 9ms/step - loss: 0.4713 - mse: 0.4491 - val_loss: 0.5107 - val_mse: 0.4885\n",
      "Epoch 19/30\n",
      "1976/1976 [==============================] - 17s 8ms/step - loss: 0.4711 - mse: 0.4489 - val_loss: 0.5103 - val_mse: 0.4883\n",
      "Epoch 20/30\n",
      "1976/1976 [==============================] - 16s 8ms/step - loss: 0.4708 - mse: 0.4488 - val_loss: 0.5106 - val_mse: 0.4887\n",
      "test MSE 0.488\n",
      "Epoch 1/30\n",
      "1976/1976 [==============================] - 16s 7ms/step - loss: 2.5586 - mse: 2.5530 - val_loss: 0.6252 - val_mse: 0.6171\n"
     ]
    },
    {
     "name": "stderr",
     "output_type": "stream",
     "text": [
      "WARNING:absl:Found untraced functions such as dropout_layer_call_fn, dropout_layer_call_and_return_conditional_losses, lambda_layer_call_fn, lambda_layer_call_and_return_conditional_losses while saving (showing 4 of 4). These functions will not be directly callable after loading.\n"
     ]
    },
    {
     "name": "stdout",
     "output_type": "stream",
     "text": [
      "Epoch 2/30\n",
      "1976/1976 [==============================] - 17s 8ms/step - loss: 0.5644 - mse: 0.5544 - val_loss: 0.5458 - val_mse: 0.5341\n"
     ]
    },
    {
     "name": "stderr",
     "output_type": "stream",
     "text": [
      "WARNING:absl:Found untraced functions such as dropout_layer_call_fn, dropout_layer_call_and_return_conditional_losses, lambda_layer_call_fn, lambda_layer_call_and_return_conditional_losses while saving (showing 4 of 4). These functions will not be directly callable after loading.\n"
     ]
    },
    {
     "name": "stdout",
     "output_type": "stream",
     "text": [
      "Epoch 3/30\n",
      "1976/1976 [==============================] - 17s 8ms/step - loss: 0.5122 - mse: 0.4985 - val_loss: 0.5241 - val_mse: 0.5086\n"
     ]
    },
    {
     "name": "stderr",
     "output_type": "stream",
     "text": [
      "WARNING:absl:Found untraced functions such as dropout_layer_call_fn, dropout_layer_call_and_return_conditional_losses, lambda_layer_call_fn, lambda_layer_call_and_return_conditional_losses while saving (showing 4 of 4). These functions will not be directly callable after loading.\n"
     ]
    },
    {
     "name": "stdout",
     "output_type": "stream",
     "text": [
      "Epoch 4/30\n",
      "1976/1976 [==============================] - 17s 9ms/step - loss: 0.4931 - mse: 0.4761 - val_loss: 0.5171 - val_mse: 0.4989\n"
     ]
    },
    {
     "name": "stderr",
     "output_type": "stream",
     "text": [
      "WARNING:absl:Found untraced functions such as dropout_layer_call_fn, dropout_layer_call_and_return_conditional_losses, lambda_layer_call_fn, lambda_layer_call_and_return_conditional_losses while saving (showing 4 of 4). These functions will not be directly callable after loading.\n"
     ]
    },
    {
     "name": "stdout",
     "output_type": "stream",
     "text": [
      "Epoch 5/30\n",
      "1976/1976 [==============================] - 17s 8ms/step - loss: 0.4848 - mse: 0.4655 - val_loss: 0.5150 - val_mse: 0.4948\n"
     ]
    },
    {
     "name": "stderr",
     "output_type": "stream",
     "text": [
      "WARNING:absl:Found untraced functions such as dropout_layer_call_fn, dropout_layer_call_and_return_conditional_losses, lambda_layer_call_fn, lambda_layer_call_and_return_conditional_losses while saving (showing 4 of 4). These functions will not be directly callable after loading.\n"
     ]
    },
    {
     "name": "stdout",
     "output_type": "stream",
     "text": [
      "Epoch 6/30\n",
      "1976/1976 [==============================] - 17s 9ms/step - loss: 0.4807 - mse: 0.4598 - val_loss: 0.5141 - val_mse: 0.4927\n"
     ]
    },
    {
     "name": "stderr",
     "output_type": "stream",
     "text": [
      "WARNING:absl:Found untraced functions such as dropout_layer_call_fn, dropout_layer_call_and_return_conditional_losses, lambda_layer_call_fn, lambda_layer_call_and_return_conditional_losses while saving (showing 4 of 4). These functions will not be directly callable after loading.\n"
     ]
    },
    {
     "name": "stdout",
     "output_type": "stream",
     "text": [
      "Epoch 7/30\n",
      "1976/1976 [==============================] - 17s 9ms/step - loss: 0.4784 - mse: 0.4564 - val_loss: 0.5144 - val_mse: 0.4922\n"
     ]
    },
    {
     "name": "stderr",
     "output_type": "stream",
     "text": [
      "WARNING:absl:Found untraced functions such as dropout_layer_call_fn, dropout_layer_call_and_return_conditional_losses, lambda_layer_call_fn, lambda_layer_call_and_return_conditional_losses while saving (showing 4 of 4). These functions will not be directly callable after loading.\n"
     ]
    },
    {
     "name": "stdout",
     "output_type": "stream",
     "text": [
      "Epoch 8/30\n",
      "1976/1976 [==============================] - 17s 9ms/step - loss: 0.4770 - mse: 0.4545 - val_loss: 0.5142 - val_mse: 0.4916\n"
     ]
    },
    {
     "name": "stderr",
     "output_type": "stream",
     "text": [
      "WARNING:absl:Found untraced functions such as dropout_layer_call_fn, dropout_layer_call_and_return_conditional_losses, lambda_layer_call_fn, lambda_layer_call_and_return_conditional_losses while saving (showing 4 of 4). These functions will not be directly callable after loading.\n"
     ]
    },
    {
     "name": "stdout",
     "output_type": "stream",
     "text": [
      "Epoch 9/30\n",
      "1976/1976 [==============================] - 17s 9ms/step - loss: 0.4760 - mse: 0.4531 - val_loss: 0.5142 - val_mse: 0.4912\n"
     ]
    },
    {
     "name": "stderr",
     "output_type": "stream",
     "text": [
      "WARNING:absl:Found untraced functions such as dropout_layer_call_fn, dropout_layer_call_and_return_conditional_losses, lambda_layer_call_fn, lambda_layer_call_and_return_conditional_losses while saving (showing 4 of 4). These functions will not be directly callable after loading.\n"
     ]
    },
    {
     "name": "stdout",
     "output_type": "stream",
     "text": [
      "Epoch 10/30\n",
      "1976/1976 [==============================] - 17s 9ms/step - loss: 0.4753 - mse: 0.4522 - val_loss: 0.5136 - val_mse: 0.4906\n"
     ]
    },
    {
     "name": "stderr",
     "output_type": "stream",
     "text": [
      "WARNING:absl:Found untraced functions such as dropout_layer_call_fn, dropout_layer_call_and_return_conditional_losses, lambda_layer_call_fn, lambda_layer_call_and_return_conditional_losses while saving (showing 4 of 4). These functions will not be directly callable after loading.\n"
     ]
    },
    {
     "name": "stdout",
     "output_type": "stream",
     "text": [
      "Epoch 11/30\n",
      "1976/1976 [==============================] - 17s 9ms/step - loss: 0.4747 - mse: 0.4515 - val_loss: 0.5131 - val_mse: 0.4900\n"
     ]
    },
    {
     "name": "stderr",
     "output_type": "stream",
     "text": [
      "WARNING:absl:Found untraced functions such as dropout_layer_call_fn, dropout_layer_call_and_return_conditional_losses, lambda_layer_call_fn, lambda_layer_call_and_return_conditional_losses while saving (showing 4 of 4). These functions will not be directly callable after loading.\n"
     ]
    },
    {
     "name": "stdout",
     "output_type": "stream",
     "text": [
      "Epoch 12/30\n",
      "1976/1976 [==============================] - 17s 9ms/step - loss: 0.4741 - mse: 0.4510 - val_loss: 0.5134 - val_mse: 0.4903\n",
      "Epoch 13/30\n",
      "1976/1976 [==============================] - 17s 9ms/step - loss: 0.4737 - mse: 0.4505 - val_loss: 0.5125 - val_mse: 0.4895\n"
     ]
    },
    {
     "name": "stderr",
     "output_type": "stream",
     "text": [
      "WARNING:absl:Found untraced functions such as dropout_layer_call_fn, dropout_layer_call_and_return_conditional_losses, lambda_layer_call_fn, lambda_layer_call_and_return_conditional_losses while saving (showing 4 of 4). These functions will not be directly callable after loading.\n"
     ]
    },
    {
     "name": "stdout",
     "output_type": "stream",
     "text": [
      "Epoch 14/30\n",
      "1976/1976 [==============================] - 17s 9ms/step - loss: 0.4733 - mse: 0.4502 - val_loss: 0.5128 - val_mse: 0.4899\n",
      "Epoch 15/30\n",
      "1976/1976 [==============================] - 17s 9ms/step - loss: 0.4730 - mse: 0.4500 - val_loss: 0.5123 - val_mse: 0.4895\n"
     ]
    },
    {
     "name": "stderr",
     "output_type": "stream",
     "text": [
      "WARNING:absl:Found untraced functions such as dropout_layer_call_fn, dropout_layer_call_and_return_conditional_losses, lambda_layer_call_fn, lambda_layer_call_and_return_conditional_losses while saving (showing 4 of 4). These functions will not be directly callable after loading.\n"
     ]
    },
    {
     "name": "stdout",
     "output_type": "stream",
     "text": [
      "Epoch 16/30\n",
      "1976/1976 [==============================] - 16s 8ms/step - loss: 0.4727 - mse: 0.4498 - val_loss: 0.5119 - val_mse: 0.4892\n"
     ]
    },
    {
     "name": "stderr",
     "output_type": "stream",
     "text": [
      "WARNING:absl:Found untraced functions such as dropout_layer_call_fn, dropout_layer_call_and_return_conditional_losses, lambda_layer_call_fn, lambda_layer_call_and_return_conditional_losses while saving (showing 4 of 4). These functions will not be directly callable after loading.\n"
     ]
    },
    {
     "name": "stdout",
     "output_type": "stream",
     "text": [
      "Epoch 17/30\n",
      "1976/1976 [==============================] - 17s 9ms/step - loss: 0.4724 - mse: 0.4497 - val_loss: 0.5117 - val_mse: 0.4892\n"
     ]
    },
    {
     "name": "stderr",
     "output_type": "stream",
     "text": [
      "WARNING:absl:Found untraced functions such as dropout_layer_call_fn, dropout_layer_call_and_return_conditional_losses, lambda_layer_call_fn, lambda_layer_call_and_return_conditional_losses while saving (showing 4 of 4). These functions will not be directly callable after loading.\n"
     ]
    },
    {
     "name": "stdout",
     "output_type": "stream",
     "text": [
      "Epoch 18/30\n",
      "1976/1976 [==============================] - 17s 8ms/step - loss: 0.4720 - mse: 0.4494 - val_loss: 0.5120 - val_mse: 0.4895\n",
      "Epoch 19/30\n",
      "1976/1976 [==============================] - 17s 9ms/step - loss: 0.4718 - mse: 0.4494 - val_loss: 0.5116 - val_mse: 0.4893\n",
      "Epoch 20/30\n",
      "1976/1976 [==============================] - 17s 9ms/step - loss: 0.4716 - mse: 0.4493 - val_loss: 0.5109 - val_mse: 0.4888\n"
     ]
    },
    {
     "name": "stderr",
     "output_type": "stream",
     "text": [
      "WARNING:absl:Found untraced functions such as dropout_layer_call_fn, dropout_layer_call_and_return_conditional_losses, lambda_layer_call_fn, lambda_layer_call_and_return_conditional_losses while saving (showing 4 of 4). These functions will not be directly callable after loading.\n"
     ]
    },
    {
     "name": "stdout",
     "output_type": "stream",
     "text": [
      "Epoch 21/30\n",
      "1976/1976 [==============================] - 17s 9ms/step - loss: 0.4714 - mse: 0.4493 - val_loss: 0.5111 - val_mse: 0.4891\n",
      "Epoch 22/30\n",
      "1976/1976 [==============================] - 17s 8ms/step - loss: 0.4711 - mse: 0.4491 - val_loss: 0.5109 - val_mse: 0.4890\n",
      "Epoch 23/30\n",
      "1976/1976 [==============================] - 17s 9ms/step - loss: 0.4708 - mse: 0.4489 - val_loss: 0.5108 - val_mse: 0.4890\n",
      "Epoch 24/30\n",
      "1976/1976 [==============================] - 16s 8ms/step - loss: 0.4706 - mse: 0.4488 - val_loss: 0.5100 - val_mse: 0.4884\n"
     ]
    },
    {
     "name": "stderr",
     "output_type": "stream",
     "text": [
      "WARNING:absl:Found untraced functions such as dropout_layer_call_fn, dropout_layer_call_and_return_conditional_losses, lambda_layer_call_fn, lambda_layer_call_and_return_conditional_losses while saving (showing 4 of 4). These functions will not be directly callable after loading.\n"
     ]
    },
    {
     "name": "stdout",
     "output_type": "stream",
     "text": [
      "Epoch 25/30\n",
      "1976/1976 [==============================] - 17s 8ms/step - loss: 0.4704 - mse: 0.4488 - val_loss: 0.5104 - val_mse: 0.4889\n",
      "Epoch 26/30\n",
      "1976/1976 [==============================] - 16s 8ms/step - loss: 0.4703 - mse: 0.4488 - val_loss: 0.5100 - val_mse: 0.4886\n",
      "Epoch 27/30\n",
      "1976/1976 [==============================] - 17s 8ms/step - loss: 0.4700 - mse: 0.4486 - val_loss: 0.5096 - val_mse: 0.4883\n"
     ]
    },
    {
     "name": "stderr",
     "output_type": "stream",
     "text": [
      "WARNING:absl:Found untraced functions such as dropout_layer_call_fn, dropout_layer_call_and_return_conditional_losses, lambda_layer_call_fn, lambda_layer_call_and_return_conditional_losses while saving (showing 4 of 4). These functions will not be directly callable after loading.\n"
     ]
    },
    {
     "name": "stdout",
     "output_type": "stream",
     "text": [
      "Epoch 28/30\n",
      "1976/1976 [==============================] - 17s 9ms/step - loss: 0.4698 - mse: 0.4486 - val_loss: 0.5094 - val_mse: 0.4883\n"
     ]
    },
    {
     "name": "stderr",
     "output_type": "stream",
     "text": [
      "WARNING:absl:Found untraced functions such as dropout_layer_call_fn, dropout_layer_call_and_return_conditional_losses, lambda_layer_call_fn, lambda_layer_call_and_return_conditional_losses while saving (showing 4 of 4). These functions will not be directly callable after loading.\n"
     ]
    },
    {
     "name": "stdout",
     "output_type": "stream",
     "text": [
      "Epoch 29/30\n",
      "1976/1976 [==============================] - 17s 9ms/step - loss: 0.4696 - mse: 0.4484 - val_loss: 0.5095 - val_mse: 0.4884\n",
      "Epoch 30/30\n",
      "1976/1976 [==============================] - 17s 8ms/step - loss: 0.4694 - mse: 0.4484 - val_loss: 0.5091 - val_mse: 0.4881\n"
     ]
    },
    {
     "name": "stderr",
     "output_type": "stream",
     "text": [
      "WARNING:absl:Found untraced functions such as dropout_layer_call_fn, dropout_layer_call_and_return_conditional_losses, lambda_layer_call_fn, lambda_layer_call_and_return_conditional_losses while saving (showing 4 of 4). These functions will not be directly callable after loading.\n"
     ]
    },
    {
     "name": "stdout",
     "output_type": "stream",
     "text": [
      "test MSE 0.4846\n",
      "Epoch 1/30\n",
      "1976/1976 [==============================] - 16s 7ms/step - loss: 2.6800 - mse: 2.6696 - val_loss: 0.5825 - val_mse: 0.5669\n"
     ]
    },
    {
     "name": "stderr",
     "output_type": "stream",
     "text": [
      "WARNING:absl:Found untraced functions such as dropout_layer_call_fn, dropout_layer_call_and_return_conditional_losses, lambda_layer_call_fn, lambda_layer_call_and_return_conditional_losses while saving (showing 4 of 4). These functions will not be directly callable after loading.\n"
     ]
    },
    {
     "name": "stdout",
     "output_type": "stream",
     "text": [
      "Epoch 2/30\n",
      "1976/1976 [==============================] - 16s 8ms/step - loss: 0.5395 - mse: 0.5210 - val_loss: 0.5329 - val_mse: 0.5125\n"
     ]
    },
    {
     "name": "stderr",
     "output_type": "stream",
     "text": [
      "WARNING:absl:Found untraced functions such as dropout_layer_call_fn, dropout_layer_call_and_return_conditional_losses, lambda_layer_call_fn, lambda_layer_call_and_return_conditional_losses while saving (showing 4 of 4). These functions will not be directly callable after loading.\n"
     ]
    },
    {
     "name": "stdout",
     "output_type": "stream",
     "text": [
      "Epoch 3/30\n",
      "1976/1976 [==============================] - 16s 8ms/step - loss: 0.5052 - mse: 0.4832 - val_loss: 0.5226 - val_mse: 0.4999\n"
     ]
    },
    {
     "name": "stderr",
     "output_type": "stream",
     "text": [
      "WARNING:absl:Found untraced functions such as dropout_layer_call_fn, dropout_layer_call_and_return_conditional_losses, lambda_layer_call_fn, lambda_layer_call_and_return_conditional_losses while saving (showing 4 of 4). These functions will not be directly callable after loading.\n"
     ]
    },
    {
     "name": "stdout",
     "output_type": "stream",
     "text": [
      "Epoch 4/30\n",
      "1976/1976 [==============================] - 16s 8ms/step - loss: 0.4931 - mse: 0.4696 - val_loss: 0.5189 - val_mse: 0.4951\n"
     ]
    },
    {
     "name": "stderr",
     "output_type": "stream",
     "text": [
      "WARNING:absl:Found untraced functions such as dropout_layer_call_fn, dropout_layer_call_and_return_conditional_losses, lambda_layer_call_fn, lambda_layer_call_and_return_conditional_losses while saving (showing 4 of 4). These functions will not be directly callable after loading.\n"
     ]
    },
    {
     "name": "stdout",
     "output_type": "stream",
     "text": [
      "Epoch 5/30\n",
      "1976/1976 [==============================] - 16s 8ms/step - loss: 0.4872 - mse: 0.4630 - val_loss: 0.5174 - val_mse: 0.4931\n"
     ]
    },
    {
     "name": "stderr",
     "output_type": "stream",
     "text": [
      "WARNING:absl:Found untraced functions such as dropout_layer_call_fn, dropout_layer_call_and_return_conditional_losses, lambda_layer_call_fn, lambda_layer_call_and_return_conditional_losses while saving (showing 4 of 4). These functions will not be directly callable after loading.\n"
     ]
    },
    {
     "name": "stdout",
     "output_type": "stream",
     "text": [
      "Epoch 6/30\n",
      "1976/1976 [==============================] - 16s 8ms/step - loss: 0.4840 - mse: 0.4595 - val_loss: 0.5157 - val_mse: 0.4912\n"
     ]
    },
    {
     "name": "stderr",
     "output_type": "stream",
     "text": [
      "WARNING:absl:Found untraced functions such as dropout_layer_call_fn, dropout_layer_call_and_return_conditional_losses, lambda_layer_call_fn, lambda_layer_call_and_return_conditional_losses while saving (showing 4 of 4). These functions will not be directly callable after loading.\n"
     ]
    },
    {
     "name": "stdout",
     "output_type": "stream",
     "text": [
      "Epoch 7/30\n",
      "1976/1976 [==============================] - 16s 8ms/step - loss: 0.4815 - mse: 0.4570 - val_loss: 0.5151 - val_mse: 0.4907\n"
     ]
    },
    {
     "name": "stderr",
     "output_type": "stream",
     "text": [
      "WARNING:absl:Found untraced functions such as dropout_layer_call_fn, dropout_layer_call_and_return_conditional_losses, lambda_layer_call_fn, lambda_layer_call_and_return_conditional_losses while saving (showing 4 of 4). These functions will not be directly callable after loading.\n"
     ]
    },
    {
     "name": "stdout",
     "output_type": "stream",
     "text": [
      "Epoch 8/30\n",
      "1976/1976 [==============================] - 16s 8ms/step - loss: 0.4798 - mse: 0.4553 - val_loss: 0.5141 - val_mse: 0.4899\n"
     ]
    },
    {
     "name": "stderr",
     "output_type": "stream",
     "text": [
      "WARNING:absl:Found untraced functions such as dropout_layer_call_fn, dropout_layer_call_and_return_conditional_losses, lambda_layer_call_fn, lambda_layer_call_and_return_conditional_losses while saving (showing 4 of 4). These functions will not be directly callable after loading.\n"
     ]
    },
    {
     "name": "stdout",
     "output_type": "stream",
     "text": [
      "Epoch 9/30\n",
      "1976/1976 [==============================] - 16s 8ms/step - loss: 0.4781 - mse: 0.4537 - val_loss: 0.5137 - val_mse: 0.4896\n"
     ]
    },
    {
     "name": "stderr",
     "output_type": "stream",
     "text": [
      "WARNING:absl:Found untraced functions such as dropout_layer_call_fn, dropout_layer_call_and_return_conditional_losses, lambda_layer_call_fn, lambda_layer_call_and_return_conditional_losses while saving (showing 4 of 4). These functions will not be directly callable after loading.\n"
     ]
    },
    {
     "name": "stdout",
     "output_type": "stream",
     "text": [
      "Epoch 10/30\n",
      "1976/1976 [==============================] - 16s 8ms/step - loss: 0.4767 - mse: 0.4526 - val_loss: 0.5135 - val_mse: 0.4897\n",
      "Epoch 11/30\n",
      "1976/1976 [==============================] - 16s 8ms/step - loss: 0.4753 - mse: 0.4514 - val_loss: 0.5129 - val_mse: 0.4893\n"
     ]
    },
    {
     "name": "stderr",
     "output_type": "stream",
     "text": [
      "WARNING:absl:Found untraced functions such as dropout_layer_call_fn, dropout_layer_call_and_return_conditional_losses, lambda_layer_call_fn, lambda_layer_call_and_return_conditional_losses while saving (showing 4 of 4). These functions will not be directly callable after loading.\n"
     ]
    },
    {
     "name": "stdout",
     "output_type": "stream",
     "text": [
      "Epoch 12/30\n",
      "1976/1976 [==============================] - 16s 8ms/step - loss: 0.4738 - mse: 0.4501 - val_loss: 0.5117 - val_mse: 0.4883\n"
     ]
    },
    {
     "name": "stderr",
     "output_type": "stream",
     "text": [
      "WARNING:absl:Found untraced functions such as dropout_layer_call_fn, dropout_layer_call_and_return_conditional_losses, lambda_layer_call_fn, lambda_layer_call_and_return_conditional_losses while saving (showing 4 of 4). These functions will not be directly callable after loading.\n"
     ]
    },
    {
     "name": "stdout",
     "output_type": "stream",
     "text": [
      "Epoch 13/30\n",
      "1976/1976 [==============================] - 16s 8ms/step - loss: 0.4723 - mse: 0.4488 - val_loss: 0.5113 - val_mse: 0.4881\n"
     ]
    },
    {
     "name": "stderr",
     "output_type": "stream",
     "text": [
      "WARNING:absl:Found untraced functions such as dropout_layer_call_fn, dropout_layer_call_and_return_conditional_losses, lambda_layer_call_fn, lambda_layer_call_and_return_conditional_losses while saving (showing 4 of 4). These functions will not be directly callable after loading.\n"
     ]
    },
    {
     "name": "stdout",
     "output_type": "stream",
     "text": [
      "Epoch 14/30\n",
      "1976/1976 [==============================] - 15s 8ms/step - loss: 0.4706 - mse: 0.4474 - val_loss: 0.5109 - val_mse: 0.4879\n"
     ]
    },
    {
     "name": "stderr",
     "output_type": "stream",
     "text": [
      "WARNING:absl:Found untraced functions such as dropout_layer_call_fn, dropout_layer_call_and_return_conditional_losses, lambda_layer_call_fn, lambda_layer_call_and_return_conditional_losses while saving (showing 4 of 4). These functions will not be directly callable after loading.\n"
     ]
    },
    {
     "name": "stdout",
     "output_type": "stream",
     "text": [
      "Epoch 15/30\n",
      "1976/1976 [==============================] - 16s 8ms/step - loss: 0.4689 - mse: 0.4458 - val_loss: 0.5112 - val_mse: 0.4883\n",
      "Epoch 16/30\n",
      "1976/1976 [==============================] - 15s 8ms/step - loss: 0.4672 - mse: 0.4441 - val_loss: 0.5105 - val_mse: 0.4877\n"
     ]
    },
    {
     "name": "stderr",
     "output_type": "stream",
     "text": [
      "WARNING:absl:Found untraced functions such as dropout_layer_call_fn, dropout_layer_call_and_return_conditional_losses, lambda_layer_call_fn, lambda_layer_call_and_return_conditional_losses while saving (showing 4 of 4). These functions will not be directly callable after loading.\n"
     ]
    },
    {
     "name": "stdout",
     "output_type": "stream",
     "text": [
      "Epoch 17/30\n",
      "1976/1976 [==============================] - 16s 8ms/step - loss: 0.4655 - mse: 0.4426 - val_loss: 0.5106 - val_mse: 0.4879\n",
      "Epoch 18/30\n",
      "1976/1976 [==============================] - 16s 8ms/step - loss: 0.4636 - mse: 0.4407 - val_loss: 0.5111 - val_mse: 0.4883\n",
      "Epoch 19/30\n",
      "1976/1976 [==============================] - 16s 8ms/step - loss: 0.4618 - mse: 0.4390 - val_loss: 0.5105 - val_mse: 0.4879\n",
      "Epoch 20/30\n",
      "1976/1976 [==============================] - 17s 8ms/step - loss: 0.4599 - mse: 0.4371 - val_loss: 0.5103 - val_mse: 0.4876\n"
     ]
    },
    {
     "name": "stderr",
     "output_type": "stream",
     "text": [
      "WARNING:absl:Found untraced functions such as dropout_layer_call_fn, dropout_layer_call_and_return_conditional_losses, lambda_layer_call_fn, lambda_layer_call_and_return_conditional_losses while saving (showing 4 of 4). These functions will not be directly callable after loading.\n"
     ]
    },
    {
     "name": "stdout",
     "output_type": "stream",
     "text": [
      "Epoch 21/30\n",
      "1976/1976 [==============================] - 17s 8ms/step - loss: 0.4580 - mse: 0.4352 - val_loss: 0.5107 - val_mse: 0.4879\n",
      "Epoch 22/30\n",
      "1976/1976 [==============================] - 16s 8ms/step - loss: 0.4564 - mse: 0.4335 - val_loss: 0.5110 - val_mse: 0.4882\n",
      "Epoch 23/30\n",
      "1976/1976 [==============================] - 16s 8ms/step - loss: 0.4547 - mse: 0.4318 - val_loss: 0.5112 - val_mse: 0.4883\n",
      "Epoch 24/30\n",
      "1976/1976 [==============================] - 16s 8ms/step - loss: 0.4531 - mse: 0.4300 - val_loss: 0.5117 - val_mse: 0.4887\n",
      "Epoch 25/30\n",
      "1976/1976 [==============================] - 16s 8ms/step - loss: 0.4515 - mse: 0.4283 - val_loss: 0.5121 - val_mse: 0.4889\n",
      "test MSE 0.4865\n",
      "Epoch 1/30\n",
      "1976/1976 [==============================] - 18s 8ms/step - loss: 2.5678 - mse: 2.5608 - val_loss: 0.6186 - val_mse: 0.6090\n"
     ]
    },
    {
     "name": "stderr",
     "output_type": "stream",
     "text": [
      "WARNING:absl:Found untraced functions such as dropout_layer_call_fn, dropout_layer_call_and_return_conditional_losses, lambda_layer_call_fn, lambda_layer_call_and_return_conditional_losses while saving (showing 4 of 4). These functions will not be directly callable after loading.\n"
     ]
    },
    {
     "name": "stdout",
     "output_type": "stream",
     "text": [
      "Epoch 2/30\n",
      "1976/1976 [==============================] - 17s 9ms/step - loss: 0.5634 - mse: 0.5522 - val_loss: 0.5450 - val_mse: 0.5322\n"
     ]
    },
    {
     "name": "stderr",
     "output_type": "stream",
     "text": [
      "WARNING:absl:Found untraced functions such as dropout_layer_call_fn, dropout_layer_call_and_return_conditional_losses, lambda_layer_call_fn, lambda_layer_call_and_return_conditional_losses while saving (showing 4 of 4). These functions will not be directly callable after loading.\n"
     ]
    },
    {
     "name": "stdout",
     "output_type": "stream",
     "text": [
      "Epoch 3/30\n",
      "1976/1976 [==============================] - 17s 9ms/step - loss: 0.5135 - mse: 0.4990 - val_loss: 0.5233 - val_mse: 0.5072\n"
     ]
    },
    {
     "name": "stderr",
     "output_type": "stream",
     "text": [
      "WARNING:absl:Found untraced functions such as dropout_layer_call_fn, dropout_layer_call_and_return_conditional_losses, lambda_layer_call_fn, lambda_layer_call_and_return_conditional_losses while saving (showing 4 of 4). These functions will not be directly callable after loading.\n"
     ]
    },
    {
     "name": "stdout",
     "output_type": "stream",
     "text": [
      "Epoch 4/30\n",
      "1976/1976 [==============================] - 17s 9ms/step - loss: 0.4947 - mse: 0.4772 - val_loss: 0.5156 - val_mse: 0.4970\n"
     ]
    },
    {
     "name": "stderr",
     "output_type": "stream",
     "text": [
      "WARNING:absl:Found untraced functions such as dropout_layer_call_fn, dropout_layer_call_and_return_conditional_losses, lambda_layer_call_fn, lambda_layer_call_and_return_conditional_losses while saving (showing 4 of 4). These functions will not be directly callable after loading.\n"
     ]
    },
    {
     "name": "stdout",
     "output_type": "stream",
     "text": [
      "Epoch 5/30\n",
      "1976/1976 [==============================] - 17s 8ms/step - loss: 0.4863 - mse: 0.4666 - val_loss: 0.5135 - val_mse: 0.4930\n"
     ]
    },
    {
     "name": "stderr",
     "output_type": "stream",
     "text": [
      "WARNING:absl:Found untraced functions such as dropout_layer_call_fn, dropout_layer_call_and_return_conditional_losses, lambda_layer_call_fn, lambda_layer_call_and_return_conditional_losses while saving (showing 4 of 4). These functions will not be directly callable after loading.\n"
     ]
    },
    {
     "name": "stdout",
     "output_type": "stream",
     "text": [
      "Epoch 6/30\n",
      "1976/1976 [==============================] - 18s 9ms/step - loss: 0.4822 - mse: 0.4610 - val_loss: 0.5133 - val_mse: 0.4916\n"
     ]
    },
    {
     "name": "stderr",
     "output_type": "stream",
     "text": [
      "WARNING:absl:Found untraced functions such as dropout_layer_call_fn, dropout_layer_call_and_return_conditional_losses, lambda_layer_call_fn, lambda_layer_call_and_return_conditional_losses while saving (showing 4 of 4). These functions will not be directly callable after loading.\n"
     ]
    },
    {
     "name": "stdout",
     "output_type": "stream",
     "text": [
      "Epoch 7/30\n",
      "1976/1976 [==============================] - 18s 9ms/step - loss: 0.4799 - mse: 0.4577 - val_loss: 0.5125 - val_mse: 0.4901\n"
     ]
    },
    {
     "name": "stderr",
     "output_type": "stream",
     "text": [
      "WARNING:absl:Found untraced functions such as dropout_layer_call_fn, dropout_layer_call_and_return_conditional_losses, lambda_layer_call_fn, lambda_layer_call_and_return_conditional_losses while saving (showing 4 of 4). These functions will not be directly callable after loading.\n"
     ]
    },
    {
     "name": "stdout",
     "output_type": "stream",
     "text": [
      "Epoch 8/30\n",
      "1976/1976 [==============================] - 18s 9ms/step - loss: 0.4784 - mse: 0.4557 - val_loss: 0.5123 - val_mse: 0.4894\n"
     ]
    },
    {
     "name": "stderr",
     "output_type": "stream",
     "text": [
      "WARNING:absl:Found untraced functions such as dropout_layer_call_fn, dropout_layer_call_and_return_conditional_losses, lambda_layer_call_fn, lambda_layer_call_and_return_conditional_losses while saving (showing 4 of 4). These functions will not be directly callable after loading.\n"
     ]
    },
    {
     "name": "stdout",
     "output_type": "stream",
     "text": [
      "Epoch 9/30\n",
      "1976/1976 [==============================] - 18s 9ms/step - loss: 0.4774 - mse: 0.4543 - val_loss: 0.5122 - val_mse: 0.4891\n"
     ]
    },
    {
     "name": "stderr",
     "output_type": "stream",
     "text": [
      "WARNING:absl:Found untraced functions such as dropout_layer_call_fn, dropout_layer_call_and_return_conditional_losses, lambda_layer_call_fn, lambda_layer_call_and_return_conditional_losses while saving (showing 4 of 4). These functions will not be directly callable after loading.\n"
     ]
    },
    {
     "name": "stdout",
     "output_type": "stream",
     "text": [
      "Epoch 10/30\n",
      "1976/1976 [==============================] - 18s 9ms/step - loss: 0.4765 - mse: 0.4534 - val_loss: 0.5123 - val_mse: 0.4892\n",
      "Epoch 11/30\n",
      "1976/1976 [==============================] - 18s 9ms/step - loss: 0.4759 - mse: 0.4527 - val_loss: 0.5115 - val_mse: 0.4884\n"
     ]
    },
    {
     "name": "stderr",
     "output_type": "stream",
     "text": [
      "WARNING:absl:Found untraced functions such as dropout_layer_call_fn, dropout_layer_call_and_return_conditional_losses, lambda_layer_call_fn, lambda_layer_call_and_return_conditional_losses while saving (showing 4 of 4). These functions will not be directly callable after loading.\n"
     ]
    },
    {
     "name": "stdout",
     "output_type": "stream",
     "text": [
      "Epoch 12/30\n",
      "1976/1976 [==============================] - 17s 9ms/step - loss: 0.4754 - mse: 0.4523 - val_loss: 0.5114 - val_mse: 0.4883\n"
     ]
    },
    {
     "name": "stderr",
     "output_type": "stream",
     "text": [
      "WARNING:absl:Found untraced functions such as dropout_layer_call_fn, dropout_layer_call_and_return_conditional_losses, lambda_layer_call_fn, lambda_layer_call_and_return_conditional_losses while saving (showing 4 of 4). These functions will not be directly callable after loading.\n"
     ]
    },
    {
     "name": "stdout",
     "output_type": "stream",
     "text": [
      "Epoch 13/30\n",
      "1976/1976 [==============================] - 18s 9ms/step - loss: 0.4749 - mse: 0.4518 - val_loss: 0.5113 - val_mse: 0.4884\n",
      "Epoch 14/30\n",
      "1976/1976 [==============================] - 18s 9ms/step - loss: 0.4745 - mse: 0.4515 - val_loss: 0.5109 - val_mse: 0.4881\n"
     ]
    },
    {
     "name": "stderr",
     "output_type": "stream",
     "text": [
      "WARNING:absl:Found untraced functions such as dropout_layer_call_fn, dropout_layer_call_and_return_conditional_losses, lambda_layer_call_fn, lambda_layer_call_and_return_conditional_losses while saving (showing 4 of 4). These functions will not be directly callable after loading.\n"
     ]
    },
    {
     "name": "stdout",
     "output_type": "stream",
     "text": [
      "Epoch 15/30\n",
      "1976/1976 [==============================] - 17s 8ms/step - loss: 0.4741 - mse: 0.4513 - val_loss: 0.5104 - val_mse: 0.4877\n"
     ]
    },
    {
     "name": "stderr",
     "output_type": "stream",
     "text": [
      "WARNING:absl:Found untraced functions such as dropout_layer_call_fn, dropout_layer_call_and_return_conditional_losses, lambda_layer_call_fn, lambda_layer_call_and_return_conditional_losses while saving (showing 4 of 4). These functions will not be directly callable after loading.\n"
     ]
    },
    {
     "name": "stdout",
     "output_type": "stream",
     "text": [
      "Epoch 16/30\n",
      "1976/1976 [==============================] - 17s 9ms/step - loss: 0.4737 - mse: 0.4510 - val_loss: 0.5102 - val_mse: 0.4876\n"
     ]
    },
    {
     "name": "stderr",
     "output_type": "stream",
     "text": [
      "WARNING:absl:Found untraced functions such as dropout_layer_call_fn, dropout_layer_call_and_return_conditional_losses, lambda_layer_call_fn, lambda_layer_call_and_return_conditional_losses while saving (showing 4 of 4). These functions will not be directly callable after loading.\n"
     ]
    },
    {
     "name": "stdout",
     "output_type": "stream",
     "text": [
      "Epoch 17/30\n",
      "1976/1976 [==============================] - 17s 9ms/step - loss: 0.4734 - mse: 0.4508 - val_loss: 0.5094 - val_mse: 0.4869\n"
     ]
    },
    {
     "name": "stderr",
     "output_type": "stream",
     "text": [
      "WARNING:absl:Found untraced functions such as dropout_layer_call_fn, dropout_layer_call_and_return_conditional_losses, lambda_layer_call_fn, lambda_layer_call_and_return_conditional_losses while saving (showing 4 of 4). These functions will not be directly callable after loading.\n"
     ]
    },
    {
     "name": "stdout",
     "output_type": "stream",
     "text": [
      "Epoch 18/30\n",
      "1976/1976 [==============================] - 18s 9ms/step - loss: 0.4731 - mse: 0.4507 - val_loss: 0.5094 - val_mse: 0.4872\n",
      "Epoch 19/30\n",
      "1976/1976 [==============================] - 18s 9ms/step - loss: 0.4727 - mse: 0.4505 - val_loss: 0.5096 - val_mse: 0.4874\n",
      "Epoch 20/30\n",
      "1976/1976 [==============================] - 17s 9ms/step - loss: 0.4726 - mse: 0.4504 - val_loss: 0.5089 - val_mse: 0.4869\n"
     ]
    },
    {
     "name": "stderr",
     "output_type": "stream",
     "text": [
      "WARNING:absl:Found untraced functions such as dropout_layer_call_fn, dropout_layer_call_and_return_conditional_losses, lambda_layer_call_fn, lambda_layer_call_and_return_conditional_losses while saving (showing 4 of 4). These functions will not be directly callable after loading.\n"
     ]
    },
    {
     "name": "stdout",
     "output_type": "stream",
     "text": [
      "Epoch 21/30\n",
      "1976/1976 [==============================] - 17s 9ms/step - loss: 0.4723 - mse: 0.4503 - val_loss: 0.5094 - val_mse: 0.4875\n",
      "Epoch 22/30\n",
      "1976/1976 [==============================] - 17s 9ms/step - loss: 0.4720 - mse: 0.4501 - val_loss: 0.5089 - val_mse: 0.4871\n",
      "Epoch 23/30\n",
      "1976/1976 [==============================] - 17s 9ms/step - loss: 0.4718 - mse: 0.4501 - val_loss: 0.5085 - val_mse: 0.4869\n",
      "Epoch 24/30\n",
      "1976/1976 [==============================] - 17s 9ms/step - loss: 0.4715 - mse: 0.4499 - val_loss: 0.5084 - val_mse: 0.4868\n"
     ]
    },
    {
     "name": "stderr",
     "output_type": "stream",
     "text": [
      "WARNING:absl:Found untraced functions such as dropout_layer_call_fn, dropout_layer_call_and_return_conditional_losses, lambda_layer_call_fn, lambda_layer_call_and_return_conditional_losses while saving (showing 4 of 4). These functions will not be directly callable after loading.\n"
     ]
    },
    {
     "name": "stdout",
     "output_type": "stream",
     "text": [
      "Epoch 25/30\n",
      "1976/1976 [==============================] - 17s 9ms/step - loss: 0.4713 - mse: 0.4497 - val_loss: 0.5089 - val_mse: 0.4875\n",
      "Epoch 26/30\n",
      "1976/1976 [==============================] - 17s 9ms/step - loss: 0.4712 - mse: 0.4498 - val_loss: 0.5078 - val_mse: 0.4865\n"
     ]
    },
    {
     "name": "stderr",
     "output_type": "stream",
     "text": [
      "WARNING:absl:Found untraced functions such as dropout_layer_call_fn, dropout_layer_call_and_return_conditional_losses, lambda_layer_call_fn, lambda_layer_call_and_return_conditional_losses while saving (showing 4 of 4). These functions will not be directly callable after loading.\n"
     ]
    },
    {
     "name": "stdout",
     "output_type": "stream",
     "text": [
      "Epoch 27/30\n",
      "1976/1976 [==============================] - 17s 8ms/step - loss: 0.4709 - mse: 0.4496 - val_loss: 0.5080 - val_mse: 0.4868\n",
      "Epoch 28/30\n",
      "1976/1976 [==============================] - 17s 9ms/step - loss: 0.4707 - mse: 0.4495 - val_loss: 0.5078 - val_mse: 0.4868\n",
      "Epoch 29/30\n",
      "1976/1976 [==============================] - 17s 9ms/step - loss: 0.4705 - mse: 0.4494 - val_loss: 0.5071 - val_mse: 0.4861\n"
     ]
    },
    {
     "name": "stderr",
     "output_type": "stream",
     "text": [
      "WARNING:absl:Found untraced functions such as dropout_layer_call_fn, dropout_layer_call_and_return_conditional_losses, lambda_layer_call_fn, lambda_layer_call_and_return_conditional_losses while saving (showing 4 of 4). These functions will not be directly callable after loading.\n"
     ]
    },
    {
     "name": "stdout",
     "output_type": "stream",
     "text": [
      "Epoch 30/30\n",
      "1976/1976 [==============================] - 17s 9ms/step - loss: 0.4703 - mse: 0.4493 - val_loss: 0.5071 - val_mse: 0.4862\n",
      "test MSE 0.4828\n"
     ]
    }
   ],
   "source": [
    "# AFM\n",
    "dict_AFM = {'linear_feature_columns': linear_feature_columns,\n",
    "            'dnn_feature_columns': dnn_feature_columns,\n",
    "            'task': 'regression'}\n",
    "ls_result = calc_nn_based_model(df_douban_all, \n",
    "                                AFM, dict_AFM,\n",
    "                                feature_names, \n",
    "                                'douban', 'AFM')\n",
    "all_result.extend(ls_result)"
   ]
  },
  {
   "cell_type": "code",
   "execution_count": 22,
   "metadata": {},
   "outputs": [
    {
     "name": "stdout",
     "output_type": "stream",
     "text": [
      "Epoch 1/30\n",
      "1976/1976 [==============================] - 21s 9ms/step - loss: 0.6675 - mse: 0.6662 - val_loss: 0.4996 - val_mse: 0.4970\n"
     ]
    },
    {
     "name": "stderr",
     "output_type": "stream",
     "text": [
      "WARNING:absl:Found untraced functions such as dropout_layer_call_fn, dropout_layer_call_and_return_conditional_losses, dropout_1_layer_call_fn, dropout_1_layer_call_and_return_conditional_losses, dropout_2_layer_call_fn while saving (showing 5 of 16). These functions will not be directly callable after loading.\n"
     ]
    },
    {
     "name": "stdout",
     "output_type": "stream",
     "text": [
      "Epoch 2/30\n",
      "1976/1976 [==============================] - 19s 10ms/step - loss: 0.4764 - mse: 0.4725 - val_loss: 0.4888 - val_mse: 0.4837\n"
     ]
    },
    {
     "name": "stderr",
     "output_type": "stream",
     "text": [
      "WARNING:absl:Found untraced functions such as dropout_layer_call_fn, dropout_layer_call_and_return_conditional_losses, dropout_1_layer_call_fn, dropout_1_layer_call_and_return_conditional_losses, dropout_2_layer_call_fn while saving (showing 5 of 16). These functions will not be directly callable after loading.\n"
     ]
    },
    {
     "name": "stdout",
     "output_type": "stream",
     "text": [
      "Epoch 3/30\n",
      "1976/1976 [==============================] - 20s 10ms/step - loss: 0.4566 - mse: 0.4502 - val_loss: 0.4895 - val_mse: 0.4819\n"
     ]
    },
    {
     "name": "stderr",
     "output_type": "stream",
     "text": [
      "WARNING:absl:Found untraced functions such as dropout_layer_call_fn, dropout_layer_call_and_return_conditional_losses, dropout_1_layer_call_fn, dropout_1_layer_call_and_return_conditional_losses, dropout_2_layer_call_fn while saving (showing 5 of 16). These functions will not be directly callable after loading.\n"
     ]
    },
    {
     "name": "stdout",
     "output_type": "stream",
     "text": [
      "Epoch 4/30\n",
      "1976/1976 [==============================] - 20s 10ms/step - loss: 0.4385 - mse: 0.4296 - val_loss: 0.4897 - val_mse: 0.4798\n"
     ]
    },
    {
     "name": "stderr",
     "output_type": "stream",
     "text": [
      "WARNING:absl:Found untraced functions such as dropout_layer_call_fn, dropout_layer_call_and_return_conditional_losses, dropout_1_layer_call_fn, dropout_1_layer_call_and_return_conditional_losses, dropout_2_layer_call_fn while saving (showing 5 of 16). These functions will not be directly callable after loading.\n"
     ]
    },
    {
     "name": "stdout",
     "output_type": "stream",
     "text": [
      "Epoch 5/30\n",
      "1976/1976 [==============================] - 19s 10ms/step - loss: 0.4190 - mse: 0.4078 - val_loss: 0.4963 - val_mse: 0.4841\n",
      "Epoch 6/30\n",
      "1976/1976 [==============================] - 20s 10ms/step - loss: 0.4023 - mse: 0.3890 - val_loss: 0.5151 - val_mse: 0.5008\n",
      "Epoch 7/30\n",
      "1976/1976 [==============================] - 20s 10ms/step - loss: 0.3892 - mse: 0.3740 - val_loss: 0.5230 - val_mse: 0.5070\n",
      "Epoch 8/30\n",
      "1976/1976 [==============================] - 20s 10ms/step - loss: 0.3786 - mse: 0.3619 - val_loss: 0.5358 - val_mse: 0.5183\n",
      "Epoch 9/30\n",
      "1976/1976 [==============================] - 20s 10ms/step - loss: 0.3706 - mse: 0.3524 - val_loss: 0.5413 - val_mse: 0.5224\n",
      "test MSE 0.4842\n",
      "Epoch 1/30\n",
      "1976/1976 [==============================] - 21s 10ms/step - loss: 0.6488 - mse: 0.6474 - val_loss: 0.5040 - val_mse: 0.5014\n"
     ]
    },
    {
     "name": "stderr",
     "output_type": "stream",
     "text": [
      "WARNING:absl:Found untraced functions such as dropout_layer_call_fn, dropout_layer_call_and_return_conditional_losses, dropout_1_layer_call_fn, dropout_1_layer_call_and_return_conditional_losses, dropout_2_layer_call_fn while saving (showing 5 of 16). These functions will not be directly callable after loading.\n"
     ]
    },
    {
     "name": "stdout",
     "output_type": "stream",
     "text": [
      "Epoch 2/30\n",
      "1976/1976 [==============================] - 21s 10ms/step - loss: 0.4730 - mse: 0.4691 - val_loss: 0.4961 - val_mse: 0.4910\n"
     ]
    },
    {
     "name": "stderr",
     "output_type": "stream",
     "text": [
      "WARNING:absl:Found untraced functions such as dropout_layer_call_fn, dropout_layer_call_and_return_conditional_losses, dropout_1_layer_call_fn, dropout_1_layer_call_and_return_conditional_losses, dropout_2_layer_call_fn while saving (showing 5 of 16). These functions will not be directly callable after loading.\n"
     ]
    },
    {
     "name": "stdout",
     "output_type": "stream",
     "text": [
      "Epoch 3/30\n",
      "1976/1976 [==============================] - 20s 10ms/step - loss: 0.4535 - mse: 0.4470 - val_loss: 0.4888 - val_mse: 0.4812\n"
     ]
    },
    {
     "name": "stderr",
     "output_type": "stream",
     "text": [
      "WARNING:absl:Found untraced functions such as dropout_layer_call_fn, dropout_layer_call_and_return_conditional_losses, dropout_1_layer_call_fn, dropout_1_layer_call_and_return_conditional_losses, dropout_2_layer_call_fn while saving (showing 5 of 16). These functions will not be directly callable after loading.\n"
     ]
    },
    {
     "name": "stdout",
     "output_type": "stream",
     "text": [
      "Epoch 4/30\n",
      "1976/1976 [==============================] - 21s 10ms/step - loss: 0.4358 - mse: 0.4269 - val_loss: 0.5195 - val_mse: 0.5095\n",
      "Epoch 5/30\n",
      "1976/1976 [==============================] - 21s 10ms/step - loss: 0.4179 - mse: 0.4067 - val_loss: 0.5015 - val_mse: 0.4894\n",
      "Epoch 6/30\n",
      "1976/1976 [==============================] - 20s 10ms/step - loss: 0.4030 - mse: 0.3897 - val_loss: 0.5122 - val_mse: 0.4981\n",
      "Epoch 7/30\n",
      "1976/1976 [==============================] - 20s 10ms/step - loss: 0.3919 - mse: 0.3769 - val_loss: 0.5266 - val_mse: 0.5107\n",
      "Epoch 8/30\n",
      "1976/1976 [==============================] - 20s 10ms/step - loss: 0.3834 - mse: 0.3667 - val_loss: 0.5357 - val_mse: 0.5184\n",
      "test MSE 0.4811\n",
      "Epoch 1/30\n",
      "1976/1976 [==============================] - 22s 10ms/step - loss: 0.6493 - mse: 0.6480 - val_loss: 0.4990 - val_mse: 0.4965\n"
     ]
    },
    {
     "name": "stderr",
     "output_type": "stream",
     "text": [
      "WARNING:absl:Found untraced functions such as dropout_layer_call_fn, dropout_layer_call_and_return_conditional_losses, dropout_1_layer_call_fn, dropout_1_layer_call_and_return_conditional_losses, dropout_2_layer_call_fn while saving (showing 5 of 16). These functions will not be directly callable after loading.\n"
     ]
    },
    {
     "name": "stdout",
     "output_type": "stream",
     "text": [
      "Epoch 2/30\n",
      "1976/1976 [==============================] - 20s 10ms/step - loss: 0.4759 - mse: 0.4720 - val_loss: 0.4919 - val_mse: 0.4868\n"
     ]
    },
    {
     "name": "stderr",
     "output_type": "stream",
     "text": [
      "WARNING:absl:Found untraced functions such as dropout_layer_call_fn, dropout_layer_call_and_return_conditional_losses, dropout_1_layer_call_fn, dropout_1_layer_call_and_return_conditional_losses, dropout_2_layer_call_fn while saving (showing 5 of 16). These functions will not be directly callable after loading.\n"
     ]
    },
    {
     "name": "stdout",
     "output_type": "stream",
     "text": [
      "Epoch 3/30\n",
      "1976/1976 [==============================] - 20s 10ms/step - loss: 0.4575 - mse: 0.4511 - val_loss: 0.4953 - val_mse: 0.4878\n",
      "Epoch 4/30\n",
      "1976/1976 [==============================] - 20s 10ms/step - loss: 0.4422 - mse: 0.4333 - val_loss: 0.4911 - val_mse: 0.4812\n"
     ]
    },
    {
     "name": "stderr",
     "output_type": "stream",
     "text": [
      "WARNING:absl:Found untraced functions such as dropout_layer_call_fn, dropout_layer_call_and_return_conditional_losses, dropout_1_layer_call_fn, dropout_1_layer_call_and_return_conditional_losses, dropout_2_layer_call_fn while saving (showing 5 of 16). These functions will not be directly callable after loading.\n"
     ]
    },
    {
     "name": "stdout",
     "output_type": "stream",
     "text": [
      "Epoch 5/30\n",
      "1976/1976 [==============================] - 20s 10ms/step - loss: 0.4238 - mse: 0.4126 - val_loss: 0.5096 - val_mse: 0.4975\n",
      "Epoch 6/30\n",
      "1976/1976 [==============================] - 20s 10ms/step - loss: 0.4078 - mse: 0.3946 - val_loss: 0.5096 - val_mse: 0.4955\n",
      "Epoch 7/30\n",
      "1976/1976 [==============================] - 20s 10ms/step - loss: 0.3940 - mse: 0.3790 - val_loss: 0.5260 - val_mse: 0.5102\n",
      "Epoch 8/30\n",
      "1976/1976 [==============================] - 20s 10ms/step - loss: 0.3833 - mse: 0.3667 - val_loss: 0.5296 - val_mse: 0.5123\n",
      "Epoch 9/30\n",
      "1976/1976 [==============================] - 20s 10ms/step - loss: 0.3744 - mse: 0.3564 - val_loss: 0.5367 - val_mse: 0.5181\n",
      "test MSE 0.4775\n",
      "Epoch 1/30\n",
      "1976/1976 [==============================] - 21s 9ms/step - loss: 0.6579 - mse: 0.6566 - val_loss: 0.4972 - val_mse: 0.4946\n"
     ]
    },
    {
     "name": "stderr",
     "output_type": "stream",
     "text": [
      "WARNING:absl:Found untraced functions such as dropout_layer_call_fn, dropout_layer_call_and_return_conditional_losses, dropout_1_layer_call_fn, dropout_1_layer_call_and_return_conditional_losses, dropout_2_layer_call_fn while saving (showing 5 of 16). These functions will not be directly callable after loading.\n"
     ]
    },
    {
     "name": "stdout",
     "output_type": "stream",
     "text": [
      "Epoch 2/30\n",
      "1976/1976 [==============================] - 19s 10ms/step - loss: 0.4785 - mse: 0.4746 - val_loss: 0.4889 - val_mse: 0.4838\n"
     ]
    },
    {
     "name": "stderr",
     "output_type": "stream",
     "text": [
      "WARNING:absl:Found untraced functions such as dropout_layer_call_fn, dropout_layer_call_and_return_conditional_losses, dropout_1_layer_call_fn, dropout_1_layer_call_and_return_conditional_losses, dropout_2_layer_call_fn while saving (showing 5 of 16). These functions will not be directly callable after loading.\n"
     ]
    },
    {
     "name": "stdout",
     "output_type": "stream",
     "text": [
      "Epoch 3/30\n",
      "1976/1976 [==============================] - 19s 10ms/step - loss: 0.4594 - mse: 0.4529 - val_loss: 0.4870 - val_mse: 0.4794\n"
     ]
    },
    {
     "name": "stderr",
     "output_type": "stream",
     "text": [
      "WARNING:absl:Found untraced functions such as dropout_layer_call_fn, dropout_layer_call_and_return_conditional_losses, dropout_1_layer_call_fn, dropout_1_layer_call_and_return_conditional_losses, dropout_2_layer_call_fn while saving (showing 5 of 16). These functions will not be directly callable after loading.\n"
     ]
    },
    {
     "name": "stdout",
     "output_type": "stream",
     "text": [
      "Epoch 4/30\n",
      "1976/1976 [==============================] - 19s 10ms/step - loss: 0.4425 - mse: 0.4336 - val_loss: 0.4928 - val_mse: 0.4829\n",
      "Epoch 5/30\n",
      "1976/1976 [==============================] - 19s 10ms/step - loss: 0.4268 - mse: 0.4156 - val_loss: 0.4982 - val_mse: 0.4861\n",
      "Epoch 6/30\n",
      "1976/1976 [==============================] - 19s 10ms/step - loss: 0.4104 - mse: 0.3972 - val_loss: 0.5074 - val_mse: 0.4934\n",
      "Epoch 7/30\n",
      "1976/1976 [==============================] - 19s 9ms/step - loss: 0.3949 - mse: 0.3799 - val_loss: 0.5248 - val_mse: 0.5090\n",
      "Epoch 8/30\n",
      "1976/1976 [==============================] - 19s 10ms/step - loss: 0.3828 - mse: 0.3661 - val_loss: 0.5335 - val_mse: 0.5160\n",
      "test MSE 0.4787\n",
      "Epoch 1/30\n",
      "1976/1976 [==============================] - 20s 9ms/step - loss: 0.6585 - mse: 0.6572 - val_loss: 0.5126 - val_mse: 0.5101\n"
     ]
    },
    {
     "name": "stderr",
     "output_type": "stream",
     "text": [
      "WARNING:absl:Found untraced functions such as dropout_layer_call_fn, dropout_layer_call_and_return_conditional_losses, dropout_1_layer_call_fn, dropout_1_layer_call_and_return_conditional_losses, dropout_2_layer_call_fn while saving (showing 5 of 16). These functions will not be directly callable after loading.\n"
     ]
    },
    {
     "name": "stdout",
     "output_type": "stream",
     "text": [
      "Epoch 2/30\n",
      "1976/1976 [==============================] - 20s 10ms/step - loss: 0.4802 - mse: 0.4764 - val_loss: 0.4902 - val_mse: 0.4851\n"
     ]
    },
    {
     "name": "stderr",
     "output_type": "stream",
     "text": [
      "WARNING:absl:Found untraced functions such as dropout_layer_call_fn, dropout_layer_call_and_return_conditional_losses, dropout_1_layer_call_fn, dropout_1_layer_call_and_return_conditional_losses, dropout_2_layer_call_fn while saving (showing 5 of 16). These functions will not be directly callable after loading.\n"
     ]
    },
    {
     "name": "stdout",
     "output_type": "stream",
     "text": [
      "Epoch 3/30\n",
      "1976/1976 [==============================] - 20s 10ms/step - loss: 0.4593 - mse: 0.4528 - val_loss: 0.4943 - val_mse: 0.4867\n",
      "Epoch 4/30\n",
      "1976/1976 [==============================] - 21s 11ms/step - loss: 0.4382 - mse: 0.4292 - val_loss: 0.4937 - val_mse: 0.4836\n"
     ]
    },
    {
     "name": "stderr",
     "output_type": "stream",
     "text": [
      "WARNING:absl:Found untraced functions such as dropout_layer_call_fn, dropout_layer_call_and_return_conditional_losses, dropout_1_layer_call_fn, dropout_1_layer_call_and_return_conditional_losses, dropout_2_layer_call_fn while saving (showing 5 of 16). These functions will not be directly callable after loading.\n"
     ]
    },
    {
     "name": "stdout",
     "output_type": "stream",
     "text": [
      "Epoch 5/30\n",
      "1976/1976 [==============================] - 20s 10ms/step - loss: 0.4187 - mse: 0.4073 - val_loss: 0.5021 - val_mse: 0.4897\n",
      "Epoch 6/30\n",
      "1976/1976 [==============================] - 20s 10ms/step - loss: 0.4022 - mse: 0.3887 - val_loss: 0.5158 - val_mse: 0.5014\n",
      "Epoch 7/30\n",
      "1976/1976 [==============================] - 21s 10ms/step - loss: 0.3893 - mse: 0.3740 - val_loss: 0.5339 - val_mse: 0.5176\n",
      "Epoch 8/30\n",
      "1976/1976 [==============================] - 20s 10ms/step - loss: 0.3789 - mse: 0.3618 - val_loss: 0.5423 - val_mse: 0.5244\n",
      "Epoch 9/30\n",
      "1976/1976 [==============================] - 21s 10ms/step - loss: 0.3715 - mse: 0.3529 - val_loss: 0.5469 - val_mse: 0.5277\n",
      "test MSE 0.4797\n"
     ]
    }
   ],
   "source": [
    "# xDeepFM\n",
    "dict_xDeepFM = {'linear_feature_columns': linear_feature_columns,\n",
    "                'dnn_feature_columns': dnn_feature_columns,\n",
    "                'task': 'regression'}\n",
    "ls_result = calc_nn_based_model(df_douban_all, \n",
    "                                xDeepFM, dict_xDeepFM,\n",
    "                                feature_names, \n",
    "                                'douban', 'xDeepFM')\n",
    "all_result.extend(ls_result)"
   ]
  },
  {
   "cell_type": "code",
   "execution_count": 23,
   "metadata": {},
   "outputs": [],
   "source": [
    "# DIN\n",
    "# https://github.com/shenweichen/DeepCTR/blob/master/examples/run_din.py\n",
    "# dict_DIN = {'dnn_feature_columns': dnn_feature_columns,\n",
    "#             'history_feature_list': None,\n",
    "#             'task': 'regression'}\n",
    "# ls_result = calc_nn_based_model(df_douban_all, \n",
    "#                                 DIN, dict_DIN,\n",
    "#                                 feature_names, \n",
    "#                                 'douban', 'DIN')\n",
    "# all_result.extend(ls_result)"
   ]
  },
  {
   "attachments": {},
   "cell_type": "markdown",
   "metadata": {},
   "source": [
    "### movie lens"
   ]
  },
  {
   "cell_type": "code",
   "execution_count": 24,
   "metadata": {},
   "outputs": [
    {
     "name": "stdout",
     "output_type": "stream",
     "text": [
      "(100000, 23)\n"
     ]
    },
    {
     "data": {
      "text/html": [
       "<div>\n",
       "<style scoped>\n",
       "    .dataframe tbody tr th:only-of-type {\n",
       "        vertical-align: middle;\n",
       "    }\n",
       "\n",
       "    .dataframe tbody tr th {\n",
       "        vertical-align: top;\n",
       "    }\n",
       "\n",
       "    .dataframe thead th {\n",
       "        text-align: right;\n",
       "    }\n",
       "</style>\n",
       "<table border=\"1\" class=\"dataframe\">\n",
       "  <thead>\n",
       "    <tr style=\"text-align: right;\">\n",
       "      <th></th>\n",
       "      <th>user_id</th>\n",
       "      <th>item_id</th>\n",
       "      <th>age</th>\n",
       "      <th>occupation</th>\n",
       "      <th>genre1</th>\n",
       "      <th>genre10</th>\n",
       "      <th>genre11</th>\n",
       "      <th>genre12</th>\n",
       "      <th>genre13</th>\n",
       "      <th>genre14</th>\n",
       "      <th>...</th>\n",
       "      <th>genre18</th>\n",
       "      <th>genre2</th>\n",
       "      <th>genre3</th>\n",
       "      <th>genre4</th>\n",
       "      <th>genre5</th>\n",
       "      <th>genre6</th>\n",
       "      <th>genre7</th>\n",
       "      <th>genre8</th>\n",
       "      <th>genre9</th>\n",
       "      <th>rating</th>\n",
       "    </tr>\n",
       "  </thead>\n",
       "  <tbody>\n",
       "    <tr>\n",
       "      <th>0</th>\n",
       "      <td>196</td>\n",
       "      <td>242</td>\n",
       "      <td>5</td>\n",
       "      <td>3</td>\n",
       "      <td>0</td>\n",
       "      <td>0</td>\n",
       "      <td>0</td>\n",
       "      <td>0</td>\n",
       "      <td>0</td>\n",
       "      <td>0</td>\n",
       "      <td>...</td>\n",
       "      <td>0</td>\n",
       "      <td>0</td>\n",
       "      <td>0</td>\n",
       "      <td>0</td>\n",
       "      <td>1</td>\n",
       "      <td>0</td>\n",
       "      <td>0</td>\n",
       "      <td>0</td>\n",
       "      <td>0</td>\n",
       "      <td>3</td>\n",
       "    </tr>\n",
       "    <tr>\n",
       "      <th>1</th>\n",
       "      <td>186</td>\n",
       "      <td>302</td>\n",
       "      <td>4</td>\n",
       "      <td>4</td>\n",
       "      <td>0</td>\n",
       "      <td>1</td>\n",
       "      <td>0</td>\n",
       "      <td>0</td>\n",
       "      <td>1</td>\n",
       "      <td>0</td>\n",
       "      <td>...</td>\n",
       "      <td>0</td>\n",
       "      <td>0</td>\n",
       "      <td>0</td>\n",
       "      <td>0</td>\n",
       "      <td>0</td>\n",
       "      <td>1</td>\n",
       "      <td>0</td>\n",
       "      <td>0</td>\n",
       "      <td>0</td>\n",
       "      <td>3</td>\n",
       "    </tr>\n",
       "    <tr>\n",
       "      <th>2</th>\n",
       "      <td>22</td>\n",
       "      <td>377</td>\n",
       "      <td>3</td>\n",
       "      <td>3</td>\n",
       "      <td>0</td>\n",
       "      <td>0</td>\n",
       "      <td>0</td>\n",
       "      <td>0</td>\n",
       "      <td>0</td>\n",
       "      <td>0</td>\n",
       "      <td>...</td>\n",
       "      <td>0</td>\n",
       "      <td>0</td>\n",
       "      <td>0</td>\n",
       "      <td>1</td>\n",
       "      <td>1</td>\n",
       "      <td>0</td>\n",
       "      <td>0</td>\n",
       "      <td>0</td>\n",
       "      <td>0</td>\n",
       "      <td>1</td>\n",
       "    </tr>\n",
       "  </tbody>\n",
       "</table>\n",
       "<p>3 rows × 23 columns</p>\n",
       "</div>"
      ],
      "text/plain": [
       "  user_id item_id age occupation genre1 genre10 genre11 genre12 genre13  \\\n",
       "0     196     242   5          3      0       0       0       0       0   \n",
       "1     186     302   4          4      0       1       0       0       1   \n",
       "2      22     377   3          3      0       0       0       0       0   \n",
       "\n",
       "  genre14  ... genre18 genre2 genre3 genre4 genre5 genre6 genre7 genre8  \\\n",
       "0       0  ...       0      0      0      0      1      0      0      0   \n",
       "1       0  ...       0      0      0      0      0      1      0      0   \n",
       "2       0  ...       0      0      0      1      1      0      0      0   \n",
       "\n",
       "  genre9 rating  \n",
       "0      0      3  \n",
       "1      0      3  \n",
       "2      0      1  \n",
       "\n",
       "[3 rows x 23 columns]"
      ]
     },
     "execution_count": 24,
     "metadata": {},
     "output_type": "execute_result"
    }
   ],
   "source": [
    "df_movie_all = pd.merge(df_movie_inter, df_movie_user_feats, on='user_id', how='left')\n",
    "df_movie_all = pd.merge(df_movie_all, df_movie_item_feats, on='item_id', how='left')\n",
    "df_movie_all['rating'] = df_movie_all.pop('rating')\n",
    "df_movie_all.iloc[:, :-1] = df_movie_all.iloc[:, :-1].fillna('0')\n",
    "sr_movie_ts = df_movie_all.pop('timestamp')\n",
    "print(df_movie_all.shape)\n",
    "df_movie_all.head(3)"
   ]
  },
  {
   "cell_type": "code",
   "execution_count": 25,
   "metadata": {},
   "outputs": [
    {
     "data": {
      "text/html": [
       "<div>\n",
       "<style scoped>\n",
       "    .dataframe tbody tr th:only-of-type {\n",
       "        vertical-align: middle;\n",
       "    }\n",
       "\n",
       "    .dataframe tbody tr th {\n",
       "        vertical-align: top;\n",
       "    }\n",
       "\n",
       "    .dataframe thead th {\n",
       "        text-align: right;\n",
       "    }\n",
       "</style>\n",
       "<table border=\"1\" class=\"dataframe\">\n",
       "  <thead>\n",
       "    <tr style=\"text-align: right;\">\n",
       "      <th></th>\n",
       "      <th>user_id</th>\n",
       "      <th>item_id</th>\n",
       "      <th>age</th>\n",
       "      <th>occupation</th>\n",
       "      <th>genre1</th>\n",
       "      <th>genre10</th>\n",
       "      <th>genre11</th>\n",
       "      <th>genre12</th>\n",
       "      <th>genre13</th>\n",
       "      <th>genre14</th>\n",
       "      <th>...</th>\n",
       "      <th>genre18</th>\n",
       "      <th>genre2</th>\n",
       "      <th>genre3</th>\n",
       "      <th>genre4</th>\n",
       "      <th>genre5</th>\n",
       "      <th>genre6</th>\n",
       "      <th>genre7</th>\n",
       "      <th>genre8</th>\n",
       "      <th>genre9</th>\n",
       "      <th>rating</th>\n",
       "    </tr>\n",
       "  </thead>\n",
       "  <tbody>\n",
       "    <tr>\n",
       "      <th>0</th>\n",
       "      <td>107</td>\n",
       "      <td>842</td>\n",
       "      <td>4</td>\n",
       "      <td>14</td>\n",
       "      <td>0</td>\n",
       "      <td>0</td>\n",
       "      <td>0</td>\n",
       "      <td>0</td>\n",
       "      <td>0</td>\n",
       "      <td>0</td>\n",
       "      <td>...</td>\n",
       "      <td>0</td>\n",
       "      <td>0</td>\n",
       "      <td>0</td>\n",
       "      <td>0</td>\n",
       "      <td>1</td>\n",
       "      <td>0</td>\n",
       "      <td>0</td>\n",
       "      <td>0</td>\n",
       "      <td>0</td>\n",
       "      <td>3</td>\n",
       "    </tr>\n",
       "    <tr>\n",
       "      <th>1</th>\n",
       "      <td>96</td>\n",
       "      <td>909</td>\n",
       "      <td>3</td>\n",
       "      <td>15</td>\n",
       "      <td>0</td>\n",
       "      <td>1</td>\n",
       "      <td>0</td>\n",
       "      <td>0</td>\n",
       "      <td>1</td>\n",
       "      <td>0</td>\n",
       "      <td>...</td>\n",
       "      <td>0</td>\n",
       "      <td>0</td>\n",
       "      <td>0</td>\n",
       "      <td>0</td>\n",
       "      <td>0</td>\n",
       "      <td>1</td>\n",
       "      <td>0</td>\n",
       "      <td>0</td>\n",
       "      <td>0</td>\n",
       "      <td>3</td>\n",
       "    </tr>\n",
       "    <tr>\n",
       "      <th>2</th>\n",
       "      <td>134</td>\n",
       "      <td>991</td>\n",
       "      <td>2</td>\n",
       "      <td>14</td>\n",
       "      <td>0</td>\n",
       "      <td>0</td>\n",
       "      <td>0</td>\n",
       "      <td>0</td>\n",
       "      <td>0</td>\n",
       "      <td>0</td>\n",
       "      <td>...</td>\n",
       "      <td>0</td>\n",
       "      <td>0</td>\n",
       "      <td>0</td>\n",
       "      <td>1</td>\n",
       "      <td>1</td>\n",
       "      <td>0</td>\n",
       "      <td>0</td>\n",
       "      <td>0</td>\n",
       "      <td>0</td>\n",
       "      <td>1</td>\n",
       "    </tr>\n",
       "  </tbody>\n",
       "</table>\n",
       "<p>3 rows × 23 columns</p>\n",
       "</div>"
      ],
      "text/plain": [
       "   user_id  item_id  age  occupation  genre1  genre10  genre11  genre12  \\\n",
       "0      107      842    4          14       0        0        0        0   \n",
       "1       96      909    3          15       0        1        0        0   \n",
       "2      134      991    2          14       0        0        0        0   \n",
       "\n",
       "   genre13  genre14  ...  genre18  genre2  genre3  genre4  genre5  genre6  \\\n",
       "0        0        0  ...        0       0       0       0       1       0   \n",
       "1        1        0  ...        0       0       0       0       0       1   \n",
       "2        0        0  ...        0       0       0       1       1       0   \n",
       "\n",
       "   genre7  genre8  genre9  rating  \n",
       "0       0       0       0       3  \n",
       "1       0       0       0       3  \n",
       "2       0       0       0       1  \n",
       "\n",
       "[3 rows x 23 columns]"
      ]
     },
     "execution_count": 25,
     "metadata": {},
     "output_type": "execute_result"
    }
   ],
   "source": [
    "linear_feature_columns, dnn_feature_columns, feature_names = get_feature_columns(df_movie_all)\n",
    "df_movie_all.head(3)"
   ]
  },
  {
   "cell_type": "code",
   "execution_count": 26,
   "metadata": {},
   "outputs": [
    {
     "name": "stdout",
     "output_type": "stream",
     "text": [
      "Epoch 1/30\n",
      "250/250 [==============================] - 8s 15ms/step - loss: 1.8902 - mse: 1.8902 - val_loss: 0.9044 - val_mse: 0.9043\n"
     ]
    },
    {
     "name": "stderr",
     "output_type": "stream",
     "text": [
      "WARNING:absl:Found untraced functions such as dropout_layer_call_fn, dropout_layer_call_and_return_conditional_losses, dropout_1_layer_call_fn, dropout_1_layer_call_and_return_conditional_losses, dropout_2_layer_call_fn while saving (showing 5 of 12). These functions will not be directly callable after loading.\n"
     ]
    },
    {
     "name": "stdout",
     "output_type": "stream",
     "text": [
      "Epoch 2/30\n",
      "250/250 [==============================] - 3s 13ms/step - loss: 0.8803 - mse: 0.8802 - val_loss: 0.8873 - val_mse: 0.8871\n"
     ]
    },
    {
     "name": "stderr",
     "output_type": "stream",
     "text": [
      "WARNING:absl:Found untraced functions such as dropout_layer_call_fn, dropout_layer_call_and_return_conditional_losses, dropout_1_layer_call_fn, dropout_1_layer_call_and_return_conditional_losses, dropout_2_layer_call_fn while saving (showing 5 of 12). These functions will not be directly callable after loading.\n"
     ]
    },
    {
     "name": "stdout",
     "output_type": "stream",
     "text": [
      "Epoch 3/30\n",
      "250/250 [==============================] - 3s 13ms/step - loss: 0.8664 - mse: 0.8662 - val_loss: 0.8841 - val_mse: 0.8840\n"
     ]
    },
    {
     "name": "stderr",
     "output_type": "stream",
     "text": [
      "WARNING:absl:Found untraced functions such as dropout_layer_call_fn, dropout_layer_call_and_return_conditional_losses, dropout_1_layer_call_fn, dropout_1_layer_call_and_return_conditional_losses, dropout_2_layer_call_fn while saving (showing 5 of 12). These functions will not be directly callable after loading.\n"
     ]
    },
    {
     "name": "stdout",
     "output_type": "stream",
     "text": [
      "Epoch 4/30\n",
      "250/250 [==============================] - 3s 14ms/step - loss: 0.8614 - mse: 0.8613 - val_loss: 0.8954 - val_mse: 0.8952\n",
      "Epoch 5/30\n",
      "250/250 [==============================] - 4s 14ms/step - loss: 0.8561 - mse: 0.8559 - val_loss: 0.8808 - val_mse: 0.8805\n"
     ]
    },
    {
     "name": "stderr",
     "output_type": "stream",
     "text": [
      "WARNING:absl:Found untraced functions such as dropout_layer_call_fn, dropout_layer_call_and_return_conditional_losses, dropout_1_layer_call_fn, dropout_1_layer_call_and_return_conditional_losses, dropout_2_layer_call_fn while saving (showing 5 of 12). These functions will not be directly callable after loading.\n"
     ]
    },
    {
     "name": "stdout",
     "output_type": "stream",
     "text": [
      "Epoch 6/30\n",
      "250/250 [==============================] - 4s 14ms/step - loss: 0.8517 - mse: 0.8515 - val_loss: 0.8803 - val_mse: 0.8801\n"
     ]
    },
    {
     "name": "stderr",
     "output_type": "stream",
     "text": [
      "WARNING:absl:Found untraced functions such as dropout_layer_call_fn, dropout_layer_call_and_return_conditional_losses, dropout_1_layer_call_fn, dropout_1_layer_call_and_return_conditional_losses, dropout_2_layer_call_fn while saving (showing 5 of 12). These functions will not be directly callable after loading.\n"
     ]
    },
    {
     "name": "stdout",
     "output_type": "stream",
     "text": [
      "Epoch 7/30\n",
      "250/250 [==============================] - 4s 14ms/step - loss: 0.8454 - mse: 0.8452 - val_loss: 0.8804 - val_mse: 0.8801\n",
      "Epoch 8/30\n",
      "250/250 [==============================] - 3s 14ms/step - loss: 0.8353 - mse: 0.8350 - val_loss: 0.8654 - val_mse: 0.8651\n"
     ]
    },
    {
     "name": "stderr",
     "output_type": "stream",
     "text": [
      "WARNING:absl:Found untraced functions such as dropout_layer_call_fn, dropout_layer_call_and_return_conditional_losses, dropout_1_layer_call_fn, dropout_1_layer_call_and_return_conditional_losses, dropout_2_layer_call_fn while saving (showing 5 of 12). These functions will not be directly callable after loading.\n"
     ]
    },
    {
     "name": "stdout",
     "output_type": "stream",
     "text": [
      "Epoch 9/30\n",
      "250/250 [==============================] - 3s 14ms/step - loss: 0.8251 - mse: 0.8248 - val_loss: 0.8606 - val_mse: 0.8603\n"
     ]
    },
    {
     "name": "stderr",
     "output_type": "stream",
     "text": [
      "WARNING:absl:Found untraced functions such as dropout_layer_call_fn, dropout_layer_call_and_return_conditional_losses, dropout_1_layer_call_fn, dropout_1_layer_call_and_return_conditional_losses, dropout_2_layer_call_fn while saving (showing 5 of 12). These functions will not be directly callable after loading.\n"
     ]
    },
    {
     "name": "stdout",
     "output_type": "stream",
     "text": [
      "Epoch 10/30\n",
      "250/250 [==============================] - 3s 14ms/step - loss: 0.8173 - mse: 0.8170 - val_loss: 0.8622 - val_mse: 0.8618\n",
      "Epoch 11/30\n",
      "250/250 [==============================] - 3s 14ms/step - loss: 0.8116 - mse: 0.8112 - val_loss: 0.8740 - val_mse: 0.8735\n",
      "Epoch 12/30\n",
      "250/250 [==============================] - 3s 14ms/step - loss: 0.8025 - mse: 0.8021 - val_loss: 0.8596 - val_mse: 0.8591\n"
     ]
    },
    {
     "name": "stderr",
     "output_type": "stream",
     "text": [
      "WARNING:absl:Found untraced functions such as dropout_layer_call_fn, dropout_layer_call_and_return_conditional_losses, dropout_1_layer_call_fn, dropout_1_layer_call_and_return_conditional_losses, dropout_2_layer_call_fn while saving (showing 5 of 12). These functions will not be directly callable after loading.\n"
     ]
    },
    {
     "name": "stdout",
     "output_type": "stream",
     "text": [
      "Epoch 13/30\n",
      "250/250 [==============================] - 4s 14ms/step - loss: 0.7948 - mse: 0.7943 - val_loss: 0.8665 - val_mse: 0.8660\n",
      "Epoch 14/30\n",
      "250/250 [==============================] - 3s 14ms/step - loss: 0.7908 - mse: 0.7903 - val_loss: 0.8986 - val_mse: 0.8981\n",
      "Epoch 15/30\n",
      "250/250 [==============================] - 3s 14ms/step - loss: 0.7779 - mse: 0.7773 - val_loss: 0.8705 - val_mse: 0.8699\n",
      "Epoch 16/30\n",
      "250/250 [==============================] - 3s 14ms/step - loss: 0.7717 - mse: 0.7711 - val_loss: 0.8692 - val_mse: 0.8685\n",
      "Epoch 17/30\n",
      "250/250 [==============================] - 3s 14ms/step - loss: 0.7590 - mse: 0.7584 - val_loss: 0.8763 - val_mse: 0.8757\n",
      "test MSE 0.874\n",
      "Epoch 1/30\n",
      "250/250 [==============================] - 7s 15ms/step - loss: 1.7526 - mse: 1.7525 - val_loss: 0.9112 - val_mse: 0.9112\n"
     ]
    },
    {
     "name": "stderr",
     "output_type": "stream",
     "text": [
      "WARNING:absl:Found untraced functions such as dropout_layer_call_fn, dropout_layer_call_and_return_conditional_losses, dropout_1_layer_call_fn, dropout_1_layer_call_and_return_conditional_losses, dropout_2_layer_call_fn while saving (showing 5 of 12). These functions will not be directly callable after loading.\n"
     ]
    },
    {
     "name": "stdout",
     "output_type": "stream",
     "text": [
      "Epoch 2/30\n",
      "250/250 [==============================] - 3s 13ms/step - loss: 0.8829 - mse: 0.8828 - val_loss: 0.9118 - val_mse: 0.9116\n",
      "Epoch 3/30\n",
      "250/250 [==============================] - 3s 13ms/step - loss: 0.8695 - mse: 0.8694 - val_loss: 0.8950 - val_mse: 0.8948\n"
     ]
    },
    {
     "name": "stderr",
     "output_type": "stream",
     "text": [
      "WARNING:absl:Found untraced functions such as dropout_layer_call_fn, dropout_layer_call_and_return_conditional_losses, dropout_1_layer_call_fn, dropout_1_layer_call_and_return_conditional_losses, dropout_2_layer_call_fn while saving (showing 5 of 12). These functions will not be directly callable after loading.\n"
     ]
    },
    {
     "name": "stdout",
     "output_type": "stream",
     "text": [
      "Epoch 4/30\n",
      "250/250 [==============================] - 3s 13ms/step - loss: 0.8601 - mse: 0.8599 - val_loss: 0.8934 - val_mse: 0.8932\n"
     ]
    },
    {
     "name": "stderr",
     "output_type": "stream",
     "text": [
      "WARNING:absl:Found untraced functions such as dropout_layer_call_fn, dropout_layer_call_and_return_conditional_losses, dropout_1_layer_call_fn, dropout_1_layer_call_and_return_conditional_losses, dropout_2_layer_call_fn while saving (showing 5 of 12). These functions will not be directly callable after loading.\n"
     ]
    },
    {
     "name": "stdout",
     "output_type": "stream",
     "text": [
      "Epoch 5/30\n",
      "250/250 [==============================] - 3s 14ms/step - loss: 0.8543 - mse: 0.8541 - val_loss: 0.8881 - val_mse: 0.8879\n"
     ]
    },
    {
     "name": "stderr",
     "output_type": "stream",
     "text": [
      "WARNING:absl:Found untraced functions such as dropout_layer_call_fn, dropout_layer_call_and_return_conditional_losses, dropout_1_layer_call_fn, dropout_1_layer_call_and_return_conditional_losses, dropout_2_layer_call_fn while saving (showing 5 of 12). These functions will not be directly callable after loading.\n"
     ]
    },
    {
     "name": "stdout",
     "output_type": "stream",
     "text": [
      "Epoch 6/30\n",
      "250/250 [==============================] - 3s 14ms/step - loss: 0.8457 - mse: 0.8455 - val_loss: 0.8863 - val_mse: 0.8861\n"
     ]
    },
    {
     "name": "stderr",
     "output_type": "stream",
     "text": [
      "WARNING:absl:Found untraced functions such as dropout_layer_call_fn, dropout_layer_call_and_return_conditional_losses, dropout_1_layer_call_fn, dropout_1_layer_call_and_return_conditional_losses, dropout_2_layer_call_fn while saving (showing 5 of 12). These functions will not be directly callable after loading.\n"
     ]
    },
    {
     "name": "stdout",
     "output_type": "stream",
     "text": [
      "Epoch 7/30\n",
      "250/250 [==============================] - 3s 14ms/step - loss: 0.8327 - mse: 0.8324 - val_loss: 0.8724 - val_mse: 0.8721\n"
     ]
    },
    {
     "name": "stderr",
     "output_type": "stream",
     "text": [
      "WARNING:absl:Found untraced functions such as dropout_layer_call_fn, dropout_layer_call_and_return_conditional_losses, dropout_1_layer_call_fn, dropout_1_layer_call_and_return_conditional_losses, dropout_2_layer_call_fn while saving (showing 5 of 12). These functions will not be directly callable after loading.\n"
     ]
    },
    {
     "name": "stdout",
     "output_type": "stream",
     "text": [
      "Epoch 8/30\n",
      "250/250 [==============================] - 3s 13ms/step - loss: 0.8218 - mse: 0.8215 - val_loss: 0.8755 - val_mse: 0.8751\n",
      "Epoch 9/30\n",
      "250/250 [==============================] - 3s 14ms/step - loss: 0.8140 - mse: 0.8137 - val_loss: 0.8755 - val_mse: 0.8751\n",
      "Epoch 10/30\n",
      "250/250 [==============================] - 3s 13ms/step - loss: 0.8052 - mse: 0.8048 - val_loss: 0.8727 - val_mse: 0.8723\n",
      "Epoch 11/30\n",
      "250/250 [==============================] - 3s 14ms/step - loss: 0.7943 - mse: 0.7939 - val_loss: 0.8757 - val_mse: 0.8753\n",
      "Epoch 12/30\n",
      "250/250 [==============================] - 3s 13ms/step - loss: 0.7896 - mse: 0.7892 - val_loss: 0.8825 - val_mse: 0.8821\n",
      "test MSE 0.8678\n",
      "Epoch 1/30\n",
      "250/250 [==============================] - 7s 16ms/step - loss: 1.7302 - mse: 1.7302 - val_loss: 0.9117 - val_mse: 0.9117\n"
     ]
    },
    {
     "name": "stderr",
     "output_type": "stream",
     "text": [
      "WARNING:absl:Found untraced functions such as dropout_layer_call_fn, dropout_layer_call_and_return_conditional_losses, dropout_1_layer_call_fn, dropout_1_layer_call_and_return_conditional_losses, dropout_2_layer_call_fn while saving (showing 5 of 12). These functions will not be directly callable after loading.\n"
     ]
    },
    {
     "name": "stdout",
     "output_type": "stream",
     "text": [
      "Epoch 2/30\n",
      "250/250 [==============================] - 3s 13ms/step - loss: 0.8847 - mse: 0.8846 - val_loss: 0.8904 - val_mse: 0.8903\n"
     ]
    },
    {
     "name": "stderr",
     "output_type": "stream",
     "text": [
      "WARNING:absl:Found untraced functions such as dropout_layer_call_fn, dropout_layer_call_and_return_conditional_losses, dropout_1_layer_call_fn, dropout_1_layer_call_and_return_conditional_losses, dropout_2_layer_call_fn while saving (showing 5 of 12). These functions will not be directly callable after loading.\n"
     ]
    },
    {
     "name": "stdout",
     "output_type": "stream",
     "text": [
      "Epoch 3/30\n",
      "250/250 [==============================] - 3s 14ms/step - loss: 0.8714 - mse: 0.8713 - val_loss: 0.8909 - val_mse: 0.8908\n",
      "Epoch 4/30\n",
      "250/250 [==============================] - 3s 13ms/step - loss: 0.8661 - mse: 0.8659 - val_loss: 0.8967 - val_mse: 0.8966\n",
      "Epoch 5/30\n",
      "250/250 [==============================] - 3s 13ms/step - loss: 0.8588 - mse: 0.8586 - val_loss: 0.8847 - val_mse: 0.8845\n"
     ]
    },
    {
     "name": "stderr",
     "output_type": "stream",
     "text": [
      "WARNING:absl:Found untraced functions such as dropout_layer_call_fn, dropout_layer_call_and_return_conditional_losses, dropout_1_layer_call_fn, dropout_1_layer_call_and_return_conditional_losses, dropout_2_layer_call_fn while saving (showing 5 of 12). These functions will not be directly callable after loading.\n"
     ]
    },
    {
     "name": "stdout",
     "output_type": "stream",
     "text": [
      "Epoch 6/30\n",
      "250/250 [==============================] - 3s 13ms/step - loss: 0.8542 - mse: 0.8540 - val_loss: 0.8939 - val_mse: 0.8937\n",
      "Epoch 7/30\n",
      "250/250 [==============================] - 3s 13ms/step - loss: 0.8459 - mse: 0.8457 - val_loss: 0.8802 - val_mse: 0.8799\n"
     ]
    },
    {
     "name": "stderr",
     "output_type": "stream",
     "text": [
      "WARNING:absl:Found untraced functions such as dropout_layer_call_fn, dropout_layer_call_and_return_conditional_losses, dropout_1_layer_call_fn, dropout_1_layer_call_and_return_conditional_losses, dropout_2_layer_call_fn while saving (showing 5 of 12). These functions will not be directly callable after loading.\n"
     ]
    },
    {
     "name": "stdout",
     "output_type": "stream",
     "text": [
      "Epoch 8/30\n",
      "250/250 [==============================] - 3s 14ms/step - loss: 0.8318 - mse: 0.8315 - val_loss: 0.8741 - val_mse: 0.8738\n"
     ]
    },
    {
     "name": "stderr",
     "output_type": "stream",
     "text": [
      "WARNING:absl:Found untraced functions such as dropout_layer_call_fn, dropout_layer_call_and_return_conditional_losses, dropout_1_layer_call_fn, dropout_1_layer_call_and_return_conditional_losses, dropout_2_layer_call_fn while saving (showing 5 of 12). These functions will not be directly callable after loading.\n"
     ]
    },
    {
     "name": "stdout",
     "output_type": "stream",
     "text": [
      "Epoch 9/30\n",
      "250/250 [==============================] - 3s 14ms/step - loss: 0.8244 - mse: 0.8241 - val_loss: 0.8665 - val_mse: 0.8662\n"
     ]
    },
    {
     "name": "stderr",
     "output_type": "stream",
     "text": [
      "WARNING:absl:Found untraced functions such as dropout_layer_call_fn, dropout_layer_call_and_return_conditional_losses, dropout_1_layer_call_fn, dropout_1_layer_call_and_return_conditional_losses, dropout_2_layer_call_fn while saving (showing 5 of 12). These functions will not be directly callable after loading.\n"
     ]
    },
    {
     "name": "stdout",
     "output_type": "stream",
     "text": [
      "Epoch 10/30\n",
      "250/250 [==============================] - 3s 13ms/step - loss: 0.8160 - mse: 0.8157 - val_loss: 0.8746 - val_mse: 0.8742\n",
      "Epoch 11/30\n",
      "250/250 [==============================] - 3s 14ms/step - loss: 0.8078 - mse: 0.8074 - val_loss: 0.8675 - val_mse: 0.8671\n",
      "Epoch 12/30\n",
      "250/250 [==============================] - 3s 14ms/step - loss: 0.8029 - mse: 0.8025 - val_loss: 0.8604 - val_mse: 0.8600\n"
     ]
    },
    {
     "name": "stderr",
     "output_type": "stream",
     "text": [
      "WARNING:absl:Found untraced functions such as dropout_layer_call_fn, dropout_layer_call_and_return_conditional_losses, dropout_1_layer_call_fn, dropout_1_layer_call_and_return_conditional_losses, dropout_2_layer_call_fn while saving (showing 5 of 12). These functions will not be directly callable after loading.\n"
     ]
    },
    {
     "name": "stdout",
     "output_type": "stream",
     "text": [
      "Epoch 13/30\n",
      "250/250 [==============================] - 3s 13ms/step - loss: 0.7932 - mse: 0.7928 - val_loss: 0.8645 - val_mse: 0.8640\n",
      "Epoch 14/30\n",
      "250/250 [==============================] - 3s 13ms/step - loss: 0.7854 - mse: 0.7849 - val_loss: 0.8643 - val_mse: 0.8638\n",
      "Epoch 15/30\n",
      "250/250 [==============================] - 3s 13ms/step - loss: 0.7769 - mse: 0.7763 - val_loss: 0.8614 - val_mse: 0.8608\n",
      "Epoch 16/30\n",
      "250/250 [==============================] - 3s 13ms/step - loss: 0.7693 - mse: 0.7687 - val_loss: 0.8714 - val_mse: 0.8708\n",
      "Epoch 17/30\n",
      "250/250 [==============================] - 3s 13ms/step - loss: 0.7570 - mse: 0.7563 - val_loss: 0.8838 - val_mse: 0.8831\n",
      "test MSE 0.8593\n",
      "Epoch 1/30\n",
      "250/250 [==============================] - 7s 15ms/step - loss: 1.8042 - mse: 1.8042 - val_loss: 0.9038 - val_mse: 0.9037\n"
     ]
    },
    {
     "name": "stderr",
     "output_type": "stream",
     "text": [
      "WARNING:absl:Found untraced functions such as dropout_layer_call_fn, dropout_layer_call_and_return_conditional_losses, dropout_1_layer_call_fn, dropout_1_layer_call_and_return_conditional_losses, dropout_2_layer_call_fn while saving (showing 5 of 12). These functions will not be directly callable after loading.\n"
     ]
    },
    {
     "name": "stdout",
     "output_type": "stream",
     "text": [
      "Epoch 2/30\n",
      "250/250 [==============================] - 3s 12ms/step - loss: 0.8825 - mse: 0.8824 - val_loss: 0.8877 - val_mse: 0.8876\n"
     ]
    },
    {
     "name": "stderr",
     "output_type": "stream",
     "text": [
      "WARNING:absl:Found untraced functions such as dropout_layer_call_fn, dropout_layer_call_and_return_conditional_losses, dropout_1_layer_call_fn, dropout_1_layer_call_and_return_conditional_losses, dropout_2_layer_call_fn while saving (showing 5 of 12). These functions will not be directly callable after loading.\n"
     ]
    },
    {
     "name": "stdout",
     "output_type": "stream",
     "text": [
      "Epoch 3/30\n",
      "250/250 [==============================] - 3s 14ms/step - loss: 0.8664 - mse: 0.8663 - val_loss: 0.8841 - val_mse: 0.8839\n"
     ]
    },
    {
     "name": "stderr",
     "output_type": "stream",
     "text": [
      "WARNING:absl:Found untraced functions such as dropout_layer_call_fn, dropout_layer_call_and_return_conditional_losses, dropout_1_layer_call_fn, dropout_1_layer_call_and_return_conditional_losses, dropout_2_layer_call_fn while saving (showing 5 of 12). These functions will not be directly callable after loading.\n"
     ]
    },
    {
     "name": "stdout",
     "output_type": "stream",
     "text": [
      "Epoch 4/30\n",
      "250/250 [==============================] - 3s 13ms/step - loss: 0.8606 - mse: 0.8604 - val_loss: 0.8844 - val_mse: 0.8842\n",
      "Epoch 5/30\n",
      "250/250 [==============================] - 3s 13ms/step - loss: 0.8552 - mse: 0.8550 - val_loss: 0.8921 - val_mse: 0.8919\n",
      "Epoch 6/30\n",
      "250/250 [==============================] - 3s 13ms/step - loss: 0.8453 - mse: 0.8450 - val_loss: 0.8745 - val_mse: 0.8743\n"
     ]
    },
    {
     "name": "stderr",
     "output_type": "stream",
     "text": [
      "WARNING:absl:Found untraced functions such as dropout_layer_call_fn, dropout_layer_call_and_return_conditional_losses, dropout_1_layer_call_fn, dropout_1_layer_call_and_return_conditional_losses, dropout_2_layer_call_fn while saving (showing 5 of 12). These functions will not be directly callable after loading.\n"
     ]
    },
    {
     "name": "stdout",
     "output_type": "stream",
     "text": [
      "Epoch 7/30\n",
      "250/250 [==============================] - 3s 13ms/step - loss: 0.8325 - mse: 0.8322 - val_loss: 0.8705 - val_mse: 0.8703\n"
     ]
    },
    {
     "name": "stderr",
     "output_type": "stream",
     "text": [
      "WARNING:absl:Found untraced functions such as dropout_layer_call_fn, dropout_layer_call_and_return_conditional_losses, dropout_1_layer_call_fn, dropout_1_layer_call_and_return_conditional_losses, dropout_2_layer_call_fn while saving (showing 5 of 12). These functions will not be directly callable after loading.\n"
     ]
    },
    {
     "name": "stdout",
     "output_type": "stream",
     "text": [
      "Epoch 8/30\n",
      "250/250 [==============================] - 3s 13ms/step - loss: 0.8254 - mse: 0.8251 - val_loss: 0.8662 - val_mse: 0.8659\n"
     ]
    },
    {
     "name": "stderr",
     "output_type": "stream",
     "text": [
      "WARNING:absl:Found untraced functions such as dropout_layer_call_fn, dropout_layer_call_and_return_conditional_losses, dropout_1_layer_call_fn, dropout_1_layer_call_and_return_conditional_losses, dropout_2_layer_call_fn while saving (showing 5 of 12). These functions will not be directly callable after loading.\n"
     ]
    },
    {
     "name": "stdout",
     "output_type": "stream",
     "text": [
      "Epoch 9/30\n",
      "250/250 [==============================] - 3s 13ms/step - loss: 0.8176 - mse: 0.8173 - val_loss: 0.8781 - val_mse: 0.8778\n",
      "Epoch 10/30\n",
      "250/250 [==============================] - 3s 13ms/step - loss: 0.8093 - mse: 0.8089 - val_loss: 0.8716 - val_mse: 0.8712\n",
      "Epoch 11/30\n",
      "250/250 [==============================] - 3s 13ms/step - loss: 0.8051 - mse: 0.8047 - val_loss: 0.8703 - val_mse: 0.8699\n",
      "Epoch 12/30\n",
      "250/250 [==============================] - 3s 13ms/step - loss: 0.7972 - mse: 0.7967 - val_loss: 0.8676 - val_mse: 0.8671\n",
      "Epoch 13/30\n",
      "250/250 [==============================] - 3s 13ms/step - loss: 0.7921 - mse: 0.7916 - val_loss: 0.8766 - val_mse: 0.8761\n",
      "test MSE 0.8703\n",
      "Epoch 1/30\n",
      "250/250 [==============================] - 7s 15ms/step - loss: 1.7798 - mse: 1.7797 - val_loss: 0.9062 - val_mse: 0.9061\n"
     ]
    },
    {
     "name": "stderr",
     "output_type": "stream",
     "text": [
      "WARNING:absl:Found untraced functions such as dropout_layer_call_fn, dropout_layer_call_and_return_conditional_losses, dropout_1_layer_call_fn, dropout_1_layer_call_and_return_conditional_losses, dropout_2_layer_call_fn while saving (showing 5 of 12). These functions will not be directly callable after loading.\n"
     ]
    },
    {
     "name": "stdout",
     "output_type": "stream",
     "text": [
      "Epoch 2/30\n",
      "250/250 [==============================] - 3s 13ms/step - loss: 0.8811 - mse: 0.8810 - val_loss: 0.8877 - val_mse: 0.8876\n"
     ]
    },
    {
     "name": "stderr",
     "output_type": "stream",
     "text": [
      "WARNING:absl:Found untraced functions such as dropout_layer_call_fn, dropout_layer_call_and_return_conditional_losses, dropout_1_layer_call_fn, dropout_1_layer_call_and_return_conditional_losses, dropout_2_layer_call_fn while saving (showing 5 of 12). These functions will not be directly callable after loading.\n"
     ]
    },
    {
     "name": "stdout",
     "output_type": "stream",
     "text": [
      "Epoch 3/30\n",
      "250/250 [==============================] - 3s 14ms/step - loss: 0.8675 - mse: 0.8674 - val_loss: 0.8798 - val_mse: 0.8796\n"
     ]
    },
    {
     "name": "stderr",
     "output_type": "stream",
     "text": [
      "WARNING:absl:Found untraced functions such as dropout_layer_call_fn, dropout_layer_call_and_return_conditional_losses, dropout_1_layer_call_fn, dropout_1_layer_call_and_return_conditional_losses, dropout_2_layer_call_fn while saving (showing 5 of 12). These functions will not be directly callable after loading.\n"
     ]
    },
    {
     "name": "stdout",
     "output_type": "stream",
     "text": [
      "Epoch 4/30\n",
      "250/250 [==============================] - 3s 14ms/step - loss: 0.8605 - mse: 0.8603 - val_loss: 0.8843 - val_mse: 0.8842\n",
      "Epoch 5/30\n",
      "250/250 [==============================] - 3s 13ms/step - loss: 0.8559 - mse: 0.8557 - val_loss: 0.9055 - val_mse: 0.9053\n",
      "Epoch 6/30\n",
      "250/250 [==============================] - 3s 13ms/step - loss: 0.8499 - mse: 0.8497 - val_loss: 0.8709 - val_mse: 0.8707\n"
     ]
    },
    {
     "name": "stderr",
     "output_type": "stream",
     "text": [
      "WARNING:absl:Found untraced functions such as dropout_layer_call_fn, dropout_layer_call_and_return_conditional_losses, dropout_1_layer_call_fn, dropout_1_layer_call_and_return_conditional_losses, dropout_2_layer_call_fn while saving (showing 5 of 12). These functions will not be directly callable after loading.\n"
     ]
    },
    {
     "name": "stdout",
     "output_type": "stream",
     "text": [
      "Epoch 7/30\n",
      "250/250 [==============================] - 3s 13ms/step - loss: 0.8360 - mse: 0.8358 - val_loss: 0.8714 - val_mse: 0.8711\n",
      "Epoch 8/30\n",
      "250/250 [==============================] - 3s 14ms/step - loss: 0.8266 - mse: 0.8263 - val_loss: 0.8576 - val_mse: 0.8573\n"
     ]
    },
    {
     "name": "stderr",
     "output_type": "stream",
     "text": [
      "WARNING:absl:Found untraced functions such as dropout_layer_call_fn, dropout_layer_call_and_return_conditional_losses, dropout_1_layer_call_fn, dropout_1_layer_call_and_return_conditional_losses, dropout_2_layer_call_fn while saving (showing 5 of 12). These functions will not be directly callable after loading.\n"
     ]
    },
    {
     "name": "stdout",
     "output_type": "stream",
     "text": [
      "Epoch 9/30\n",
      "250/250 [==============================] - 3s 14ms/step - loss: 0.8188 - mse: 0.8185 - val_loss: 0.8590 - val_mse: 0.8586\n",
      "Epoch 10/30\n",
      "250/250 [==============================] - 3s 13ms/step - loss: 0.8087 - mse: 0.8083 - val_loss: 0.8575 - val_mse: 0.8571\n"
     ]
    },
    {
     "name": "stderr",
     "output_type": "stream",
     "text": [
      "WARNING:absl:Found untraced functions such as dropout_layer_call_fn, dropout_layer_call_and_return_conditional_losses, dropout_1_layer_call_fn, dropout_1_layer_call_and_return_conditional_losses, dropout_2_layer_call_fn while saving (showing 5 of 12). These functions will not be directly callable after loading.\n"
     ]
    },
    {
     "name": "stdout",
     "output_type": "stream",
     "text": [
      "Epoch 11/30\n",
      "250/250 [==============================] - 3s 14ms/step - loss: 0.7980 - mse: 0.7975 - val_loss: 0.8575 - val_mse: 0.8571\n",
      "Epoch 12/30\n",
      "250/250 [==============================] - 3s 14ms/step - loss: 0.7922 - mse: 0.7918 - val_loss: 0.8543 - val_mse: 0.8539\n"
     ]
    },
    {
     "name": "stderr",
     "output_type": "stream",
     "text": [
      "WARNING:absl:Found untraced functions such as dropout_layer_call_fn, dropout_layer_call_and_return_conditional_losses, dropout_1_layer_call_fn, dropout_1_layer_call_and_return_conditional_losses, dropout_2_layer_call_fn while saving (showing 5 of 12). These functions will not be directly callable after loading.\n"
     ]
    },
    {
     "name": "stdout",
     "output_type": "stream",
     "text": [
      "Epoch 13/30\n",
      "250/250 [==============================] - 3s 13ms/step - loss: 0.7828 - mse: 0.7823 - val_loss: 0.8572 - val_mse: 0.8567\n",
      "Epoch 14/30\n",
      "250/250 [==============================] - 3s 13ms/step - loss: 0.7714 - mse: 0.7709 - val_loss: 0.8527 - val_mse: 0.8522\n"
     ]
    },
    {
     "name": "stderr",
     "output_type": "stream",
     "text": [
      "WARNING:absl:Found untraced functions such as dropout_layer_call_fn, dropout_layer_call_and_return_conditional_losses, dropout_1_layer_call_fn, dropout_1_layer_call_and_return_conditional_losses, dropout_2_layer_call_fn while saving (showing 5 of 12). These functions will not be directly callable after loading.\n"
     ]
    },
    {
     "name": "stdout",
     "output_type": "stream",
     "text": [
      "Epoch 15/30\n",
      "250/250 [==============================] - 3s 13ms/step - loss: 0.7635 - mse: 0.7629 - val_loss: 0.8633 - val_mse: 0.8627\n",
      "Epoch 16/30\n",
      "250/250 [==============================] - 3s 13ms/step - loss: 0.7534 - mse: 0.7528 - val_loss: 0.8596 - val_mse: 0.8589\n",
      "Epoch 17/30\n",
      "250/250 [==============================] - 3s 13ms/step - loss: 0.7459 - mse: 0.7453 - val_loss: 0.8811 - val_mse: 0.8804\n",
      "Epoch 18/30\n",
      "250/250 [==============================] - 3s 13ms/step - loss: 0.7366 - mse: 0.7359 - val_loss: 0.8661 - val_mse: 0.8654\n",
      "Epoch 19/30\n",
      "250/250 [==============================] - 3s 13ms/step - loss: 0.7282 - mse: 0.7274 - val_loss: 0.8666 - val_mse: 0.8658\n",
      "test MSE 0.8737\n"
     ]
    }
   ],
   "source": [
    "# FNN\n",
    "dict_FNN = {'linear_feature_columns': linear_feature_columns,\n",
    "            'dnn_feature_columns': dnn_feature_columns,\n",
    "            'task': 'regression'}\n",
    "ls_result = calc_nn_based_model(df_movie_all, \n",
    "                                FNN, dict_FNN,\n",
    "                                feature_names, \n",
    "                                'movie_lens', 'FNN')\n",
    "all_result.extend(ls_result)"
   ]
  },
  {
   "cell_type": "code",
   "execution_count": 27,
   "metadata": {},
   "outputs": [
    {
     "name": "stdout",
     "output_type": "stream",
     "text": [
      "Epoch 1/30\n",
      "250/250 [==============================] - 7s 13ms/step - loss: 1.9467 - mse: 1.9467 - val_loss: 0.9181 - val_mse: 0.9180\n"
     ]
    },
    {
     "name": "stderr",
     "output_type": "stream",
     "text": [
      "WARNING:absl:Found untraced functions such as dropout_layer_call_fn, dropout_layer_call_and_return_conditional_losses, dropout_1_layer_call_fn, dropout_1_layer_call_and_return_conditional_losses, dropout_2_layer_call_fn while saving (showing 5 of 12). These functions will not be directly callable after loading.\n"
     ]
    },
    {
     "name": "stdout",
     "output_type": "stream",
     "text": [
      "Epoch 2/30\n",
      "250/250 [==============================] - 3s 12ms/step - loss: 0.8843 - mse: 0.8842 - val_loss: 0.8864 - val_mse: 0.8863\n"
     ]
    },
    {
     "name": "stderr",
     "output_type": "stream",
     "text": [
      "WARNING:absl:Found untraced functions such as dropout_layer_call_fn, dropout_layer_call_and_return_conditional_losses, dropout_1_layer_call_fn, dropout_1_layer_call_and_return_conditional_losses, dropout_2_layer_call_fn while saving (showing 5 of 12). These functions will not be directly callable after loading.\n"
     ]
    },
    {
     "name": "stdout",
     "output_type": "stream",
     "text": [
      "Epoch 3/30\n",
      "250/250 [==============================] - 3s 13ms/step - loss: 0.8682 - mse: 0.8681 - val_loss: 0.8845 - val_mse: 0.8844\n"
     ]
    },
    {
     "name": "stderr",
     "output_type": "stream",
     "text": [
      "WARNING:absl:Found untraced functions such as dropout_layer_call_fn, dropout_layer_call_and_return_conditional_losses, dropout_1_layer_call_fn, dropout_1_layer_call_and_return_conditional_losses, dropout_2_layer_call_fn while saving (showing 5 of 12). These functions will not be directly callable after loading.\n"
     ]
    },
    {
     "name": "stdout",
     "output_type": "stream",
     "text": [
      "Epoch 4/30\n",
      "250/250 [==============================] - 3s 13ms/step - loss: 0.8598 - mse: 0.8596 - val_loss: 0.8912 - val_mse: 0.8910\n",
      "Epoch 5/30\n",
      "250/250 [==============================] - 3s 13ms/step - loss: 0.8544 - mse: 0.8543 - val_loss: 0.8830 - val_mse: 0.8828\n"
     ]
    },
    {
     "name": "stderr",
     "output_type": "stream",
     "text": [
      "WARNING:absl:Found untraced functions such as dropout_layer_call_fn, dropout_layer_call_and_return_conditional_losses, dropout_1_layer_call_fn, dropout_1_layer_call_and_return_conditional_losses, dropout_2_layer_call_fn while saving (showing 5 of 12). These functions will not be directly callable after loading.\n"
     ]
    },
    {
     "name": "stdout",
     "output_type": "stream",
     "text": [
      "Epoch 6/30\n",
      "250/250 [==============================] - 3s 13ms/step - loss: 0.8501 - mse: 0.8499 - val_loss: 0.8799 - val_mse: 0.8797\n"
     ]
    },
    {
     "name": "stderr",
     "output_type": "stream",
     "text": [
      "WARNING:absl:Found untraced functions such as dropout_layer_call_fn, dropout_layer_call_and_return_conditional_losses, dropout_1_layer_call_fn, dropout_1_layer_call_and_return_conditional_losses, dropout_2_layer_call_fn while saving (showing 5 of 12). These functions will not be directly callable after loading.\n"
     ]
    },
    {
     "name": "stdout",
     "output_type": "stream",
     "text": [
      "Epoch 7/30\n",
      "250/250 [==============================] - 3s 13ms/step - loss: 0.8438 - mse: 0.8436 - val_loss: 0.8690 - val_mse: 0.8688\n"
     ]
    },
    {
     "name": "stderr",
     "output_type": "stream",
     "text": [
      "WARNING:absl:Found untraced functions such as dropout_layer_call_fn, dropout_layer_call_and_return_conditional_losses, dropout_1_layer_call_fn, dropout_1_layer_call_and_return_conditional_losses, dropout_2_layer_call_fn while saving (showing 5 of 12). These functions will not be directly callable after loading.\n"
     ]
    },
    {
     "name": "stdout",
     "output_type": "stream",
     "text": [
      "Epoch 8/30\n",
      "250/250 [==============================] - 3s 13ms/step - loss: 0.8318 - mse: 0.8316 - val_loss: 0.8638 - val_mse: 0.8635\n"
     ]
    },
    {
     "name": "stderr",
     "output_type": "stream",
     "text": [
      "WARNING:absl:Found untraced functions such as dropout_layer_call_fn, dropout_layer_call_and_return_conditional_losses, dropout_1_layer_call_fn, dropout_1_layer_call_and_return_conditional_losses, dropout_2_layer_call_fn while saving (showing 5 of 12). These functions will not be directly callable after loading.\n"
     ]
    },
    {
     "name": "stdout",
     "output_type": "stream",
     "text": [
      "Epoch 9/30\n",
      "250/250 [==============================] - 3s 13ms/step - loss: 0.8198 - mse: 0.8195 - val_loss: 0.8642 - val_mse: 0.8639\n",
      "Epoch 10/30\n",
      "250/250 [==============================] - 3s 13ms/step - loss: 0.8070 - mse: 0.8067 - val_loss: 0.8596 - val_mse: 0.8593\n"
     ]
    },
    {
     "name": "stderr",
     "output_type": "stream",
     "text": [
      "WARNING:absl:Found untraced functions such as dropout_layer_call_fn, dropout_layer_call_and_return_conditional_losses, dropout_1_layer_call_fn, dropout_1_layer_call_and_return_conditional_losses, dropout_2_layer_call_fn while saving (showing 5 of 12). These functions will not be directly callable after loading.\n"
     ]
    },
    {
     "name": "stdout",
     "output_type": "stream",
     "text": [
      "Epoch 11/30\n",
      "250/250 [==============================] - 3s 13ms/step - loss: 0.7910 - mse: 0.7907 - val_loss: 0.8686 - val_mse: 0.8683\n",
      "Epoch 12/30\n",
      "250/250 [==============================] - 3s 13ms/step - loss: 0.7763 - mse: 0.7759 - val_loss: 0.8761 - val_mse: 0.8757\n",
      "Epoch 13/30\n",
      "250/250 [==============================] - 3s 13ms/step - loss: 0.7630 - mse: 0.7626 - val_loss: 0.8788 - val_mse: 0.8784\n",
      "Epoch 14/30\n",
      "250/250 [==============================] - 3s 13ms/step - loss: 0.7484 - mse: 0.7480 - val_loss: 0.8783 - val_mse: 0.8779\n",
      "Epoch 15/30\n",
      "250/250 [==============================] - 3s 13ms/step - loss: 0.7373 - mse: 0.7368 - val_loss: 0.9077 - val_mse: 0.9072\n",
      "test MSE 0.8732\n",
      "Epoch 1/30\n",
      "250/250 [==============================] - 7s 14ms/step - loss: 1.8981 - mse: 1.8981 - val_loss: 0.9102 - val_mse: 0.9102\n"
     ]
    },
    {
     "name": "stderr",
     "output_type": "stream",
     "text": [
      "WARNING:absl:Found untraced functions such as dropout_layer_call_fn, dropout_layer_call_and_return_conditional_losses, dropout_1_layer_call_fn, dropout_1_layer_call_and_return_conditional_losses, dropout_2_layer_call_fn while saving (showing 5 of 12). These functions will not be directly callable after loading.\n"
     ]
    },
    {
     "name": "stdout",
     "output_type": "stream",
     "text": [
      "Epoch 2/30\n",
      "250/250 [==============================] - 3s 13ms/step - loss: 0.8831 - mse: 0.8830 - val_loss: 0.9005 - val_mse: 0.9004\n"
     ]
    },
    {
     "name": "stderr",
     "output_type": "stream",
     "text": [
      "WARNING:absl:Found untraced functions such as dropout_layer_call_fn, dropout_layer_call_and_return_conditional_losses, dropout_1_layer_call_fn, dropout_1_layer_call_and_return_conditional_losses, dropout_2_layer_call_fn while saving (showing 5 of 12). These functions will not be directly callable after loading.\n"
     ]
    },
    {
     "name": "stdout",
     "output_type": "stream",
     "text": [
      "Epoch 3/30\n",
      "250/250 [==============================] - 3s 12ms/step - loss: 0.8676 - mse: 0.8675 - val_loss: 0.8922 - val_mse: 0.8921\n"
     ]
    },
    {
     "name": "stderr",
     "output_type": "stream",
     "text": [
      "WARNING:absl:Found untraced functions such as dropout_layer_call_fn, dropout_layer_call_and_return_conditional_losses, dropout_1_layer_call_fn, dropout_1_layer_call_and_return_conditional_losses, dropout_2_layer_call_fn while saving (showing 5 of 12). These functions will not be directly callable after loading.\n"
     ]
    },
    {
     "name": "stdout",
     "output_type": "stream",
     "text": [
      "Epoch 4/30\n",
      "250/250 [==============================] - 3s 12ms/step - loss: 0.8630 - mse: 0.8629 - val_loss: 0.8967 - val_mse: 0.8965\n",
      "Epoch 5/30\n",
      "250/250 [==============================] - 3s 12ms/step - loss: 0.8547 - mse: 0.8545 - val_loss: 0.9031 - val_mse: 0.9029\n",
      "Epoch 6/30\n",
      "250/250 [==============================] - 3s 13ms/step - loss: 0.8436 - mse: 0.8434 - val_loss: 0.8874 - val_mse: 0.8872\n"
     ]
    },
    {
     "name": "stderr",
     "output_type": "stream",
     "text": [
      "WARNING:absl:Found untraced functions such as dropout_layer_call_fn, dropout_layer_call_and_return_conditional_losses, dropout_1_layer_call_fn, dropout_1_layer_call_and_return_conditional_losses, dropout_2_layer_call_fn while saving (showing 5 of 12). These functions will not be directly callable after loading.\n"
     ]
    },
    {
     "name": "stdout",
     "output_type": "stream",
     "text": [
      "Epoch 7/30\n",
      "250/250 [==============================] - 3s 12ms/step - loss: 0.8260 - mse: 0.8258 - val_loss: 0.8716 - val_mse: 0.8713\n"
     ]
    },
    {
     "name": "stderr",
     "output_type": "stream",
     "text": [
      "WARNING:absl:Found untraced functions such as dropout_layer_call_fn, dropout_layer_call_and_return_conditional_losses, dropout_1_layer_call_fn, dropout_1_layer_call_and_return_conditional_losses, dropout_2_layer_call_fn while saving (showing 5 of 12). These functions will not be directly callable after loading.\n"
     ]
    },
    {
     "name": "stdout",
     "output_type": "stream",
     "text": [
      "Epoch 8/30\n",
      "250/250 [==============================] - 3s 12ms/step - loss: 0.8131 - mse: 0.8129 - val_loss: 0.8732 - val_mse: 0.8729\n",
      "Epoch 9/30\n",
      "250/250 [==============================] - 3s 12ms/step - loss: 0.7993 - mse: 0.7990 - val_loss: 0.8669 - val_mse: 0.8666\n"
     ]
    },
    {
     "name": "stderr",
     "output_type": "stream",
     "text": [
      "WARNING:absl:Found untraced functions such as dropout_layer_call_fn, dropout_layer_call_and_return_conditional_losses, dropout_1_layer_call_fn, dropout_1_layer_call_and_return_conditional_losses, dropout_2_layer_call_fn while saving (showing 5 of 12). These functions will not be directly callable after loading.\n"
     ]
    },
    {
     "name": "stdout",
     "output_type": "stream",
     "text": [
      "Epoch 10/30\n",
      "250/250 [==============================] - 3s 12ms/step - loss: 0.7882 - mse: 0.7879 - val_loss: 0.8854 - val_mse: 0.8851\n",
      "Epoch 11/30\n",
      "250/250 [==============================] - 3s 12ms/step - loss: 0.7718 - mse: 0.7714 - val_loss: 0.8780 - val_mse: 0.8776\n",
      "Epoch 12/30\n",
      "250/250 [==============================] - 3s 12ms/step - loss: 0.7584 - mse: 0.7580 - val_loss: 0.8907 - val_mse: 0.8903\n",
      "Epoch 13/30\n",
      "250/250 [==============================] - 3s 12ms/step - loss: 0.7473 - mse: 0.7469 - val_loss: 0.8799 - val_mse: 0.8794\n",
      "Epoch 14/30\n",
      "250/250 [==============================] - 3s 12ms/step - loss: 0.7325 - mse: 0.7321 - val_loss: 0.8805 - val_mse: 0.8800\n",
      "test MSE 0.8648\n",
      "Epoch 1/30\n",
      "250/250 [==============================] - 6s 12ms/step - loss: 1.9893 - mse: 1.9893 - val_loss: 0.9083 - val_mse: 0.9083\n"
     ]
    },
    {
     "name": "stderr",
     "output_type": "stream",
     "text": [
      "WARNING:absl:Found untraced functions such as dropout_layer_call_fn, dropout_layer_call_and_return_conditional_losses, dropout_1_layer_call_fn, dropout_1_layer_call_and_return_conditional_losses, dropout_2_layer_call_fn while saving (showing 5 of 12). These functions will not be directly callable after loading.\n"
     ]
    },
    {
     "name": "stdout",
     "output_type": "stream",
     "text": [
      "Epoch 2/30\n",
      "250/250 [==============================] - 3s 12ms/step - loss: 0.8833 - mse: 0.8832 - val_loss: 0.8929 - val_mse: 0.8928\n"
     ]
    },
    {
     "name": "stderr",
     "output_type": "stream",
     "text": [
      "WARNING:absl:Found untraced functions such as dropout_layer_call_fn, dropout_layer_call_and_return_conditional_losses, dropout_1_layer_call_fn, dropout_1_layer_call_and_return_conditional_losses, dropout_2_layer_call_fn while saving (showing 5 of 12). These functions will not be directly callable after loading.\n"
     ]
    },
    {
     "name": "stdout",
     "output_type": "stream",
     "text": [
      "Epoch 3/30\n",
      "250/250 [==============================] - 3s 12ms/step - loss: 0.8692 - mse: 0.8690 - val_loss: 0.9023 - val_mse: 0.9022\n",
      "Epoch 4/30\n",
      "250/250 [==============================] - 3s 12ms/step - loss: 0.8659 - mse: 0.8658 - val_loss: 0.8873 - val_mse: 0.8871\n"
     ]
    },
    {
     "name": "stderr",
     "output_type": "stream",
     "text": [
      "WARNING:absl:Found untraced functions such as dropout_layer_call_fn, dropout_layer_call_and_return_conditional_losses, dropout_1_layer_call_fn, dropout_1_layer_call_and_return_conditional_losses, dropout_2_layer_call_fn while saving (showing 5 of 12). These functions will not be directly callable after loading.\n"
     ]
    },
    {
     "name": "stdout",
     "output_type": "stream",
     "text": [
      "Epoch 5/30\n",
      "250/250 [==============================] - 3s 12ms/step - loss: 0.8592 - mse: 0.8590 - val_loss: 0.8867 - val_mse: 0.8865\n"
     ]
    },
    {
     "name": "stderr",
     "output_type": "stream",
     "text": [
      "WARNING:absl:Found untraced functions such as dropout_layer_call_fn, dropout_layer_call_and_return_conditional_losses, dropout_1_layer_call_fn, dropout_1_layer_call_and_return_conditional_losses, dropout_2_layer_call_fn while saving (showing 5 of 12). These functions will not be directly callable after loading.\n"
     ]
    },
    {
     "name": "stdout",
     "output_type": "stream",
     "text": [
      "Epoch 6/30\n",
      "250/250 [==============================] - 3s 13ms/step - loss: 0.8554 - mse: 0.8552 - val_loss: 0.8839 - val_mse: 0.8837\n"
     ]
    },
    {
     "name": "stderr",
     "output_type": "stream",
     "text": [
      "WARNING:absl:Found untraced functions such as dropout_layer_call_fn, dropout_layer_call_and_return_conditional_losses, dropout_1_layer_call_fn, dropout_1_layer_call_and_return_conditional_losses, dropout_2_layer_call_fn while saving (showing 5 of 12). These functions will not be directly callable after loading.\n"
     ]
    },
    {
     "name": "stdout",
     "output_type": "stream",
     "text": [
      "Epoch 7/30\n",
      "250/250 [==============================] - 3s 12ms/step - loss: 0.8429 - mse: 0.8427 - val_loss: 0.8725 - val_mse: 0.8723\n"
     ]
    },
    {
     "name": "stderr",
     "output_type": "stream",
     "text": [
      "WARNING:absl:Found untraced functions such as dropout_layer_call_fn, dropout_layer_call_and_return_conditional_losses, dropout_1_layer_call_fn, dropout_1_layer_call_and_return_conditional_losses, dropout_2_layer_call_fn while saving (showing 5 of 12). These functions will not be directly callable after loading.\n"
     ]
    },
    {
     "name": "stdout",
     "output_type": "stream",
     "text": [
      "Epoch 8/30\n",
      "250/250 [==============================] - 3s 13ms/step - loss: 0.8262 - mse: 0.8260 - val_loss: 0.8723 - val_mse: 0.8720\n"
     ]
    },
    {
     "name": "stderr",
     "output_type": "stream",
     "text": [
      "WARNING:absl:Found untraced functions such as dropout_layer_call_fn, dropout_layer_call_and_return_conditional_losses, dropout_1_layer_call_fn, dropout_1_layer_call_and_return_conditional_losses, dropout_2_layer_call_fn while saving (showing 5 of 12). These functions will not be directly callable after loading.\n"
     ]
    },
    {
     "name": "stdout",
     "output_type": "stream",
     "text": [
      "Epoch 9/30\n",
      "250/250 [==============================] - 3s 13ms/step - loss: 0.8098 - mse: 0.8095 - val_loss: 0.8671 - val_mse: 0.8668\n"
     ]
    },
    {
     "name": "stderr",
     "output_type": "stream",
     "text": [
      "WARNING:absl:Found untraced functions such as dropout_layer_call_fn, dropout_layer_call_and_return_conditional_losses, dropout_1_layer_call_fn, dropout_1_layer_call_and_return_conditional_losses, dropout_2_layer_call_fn while saving (showing 5 of 12). These functions will not be directly callable after loading.\n"
     ]
    },
    {
     "name": "stdout",
     "output_type": "stream",
     "text": [
      "Epoch 10/30\n",
      "250/250 [==============================] - 3s 12ms/step - loss: 0.7936 - mse: 0.7932 - val_loss: 0.8987 - val_mse: 0.8984\n",
      "Epoch 11/30\n",
      "250/250 [==============================] - 3s 13ms/step - loss: 0.7819 - mse: 0.7815 - val_loss: 0.8804 - val_mse: 0.8800\n",
      "Epoch 12/30\n",
      "250/250 [==============================] - 3s 13ms/step - loss: 0.7664 - mse: 0.7660 - val_loss: 0.8710 - val_mse: 0.8706\n",
      "Epoch 13/30\n",
      "250/250 [==============================] - 3s 13ms/step - loss: 0.7554 - mse: 0.7550 - val_loss: 0.8972 - val_mse: 0.8967\n",
      "Epoch 14/30\n",
      "250/250 [==============================] - 3s 13ms/step - loss: 0.7485 - mse: 0.7481 - val_loss: 0.8864 - val_mse: 0.8859\n",
      "test MSE 0.8649\n",
      "Epoch 1/30\n",
      "250/250 [==============================] - 6s 14ms/step - loss: 1.8618 - mse: 1.8618 - val_loss: 0.9051 - val_mse: 0.9050\n"
     ]
    },
    {
     "name": "stderr",
     "output_type": "stream",
     "text": [
      "WARNING:absl:Found untraced functions such as dropout_layer_call_fn, dropout_layer_call_and_return_conditional_losses, dropout_1_layer_call_fn, dropout_1_layer_call_and_return_conditional_losses, dropout_2_layer_call_fn while saving (showing 5 of 12). These functions will not be directly callable after loading.\n"
     ]
    },
    {
     "name": "stdout",
     "output_type": "stream",
     "text": [
      "Epoch 2/30\n",
      "250/250 [==============================] - 3s 12ms/step - loss: 0.8821 - mse: 0.8820 - val_loss: 0.8947 - val_mse: 0.8946\n"
     ]
    },
    {
     "name": "stderr",
     "output_type": "stream",
     "text": [
      "WARNING:absl:Found untraced functions such as dropout_layer_call_fn, dropout_layer_call_and_return_conditional_losses, dropout_1_layer_call_fn, dropout_1_layer_call_and_return_conditional_losses, dropout_2_layer_call_fn while saving (showing 5 of 12). These functions will not be directly callable after loading.\n"
     ]
    },
    {
     "name": "stdout",
     "output_type": "stream",
     "text": [
      "Epoch 3/30\n",
      "250/250 [==============================] - 3s 13ms/step - loss: 0.8658 - mse: 0.8657 - val_loss: 0.8752 - val_mse: 0.8750\n"
     ]
    },
    {
     "name": "stderr",
     "output_type": "stream",
     "text": [
      "WARNING:absl:Found untraced functions such as dropout_layer_call_fn, dropout_layer_call_and_return_conditional_losses, dropout_1_layer_call_fn, dropout_1_layer_call_and_return_conditional_losses, dropout_2_layer_call_fn while saving (showing 5 of 12). These functions will not be directly callable after loading.\n"
     ]
    },
    {
     "name": "stdout",
     "output_type": "stream",
     "text": [
      "Epoch 4/30\n",
      "250/250 [==============================] - 3s 13ms/step - loss: 0.8444 - mse: 0.8443 - val_loss: 0.8690 - val_mse: 0.8689\n"
     ]
    },
    {
     "name": "stderr",
     "output_type": "stream",
     "text": [
      "WARNING:absl:Found untraced functions such as dropout_layer_call_fn, dropout_layer_call_and_return_conditional_losses, dropout_1_layer_call_fn, dropout_1_layer_call_and_return_conditional_losses, dropout_2_layer_call_fn while saving (showing 5 of 12). These functions will not be directly callable after loading.\n"
     ]
    },
    {
     "name": "stdout",
     "output_type": "stream",
     "text": [
      "Epoch 5/30\n",
      "250/250 [==============================] - 3s 13ms/step - loss: 0.8252 - mse: 0.8251 - val_loss: 0.8886 - val_mse: 0.8884\n",
      "Epoch 6/30\n",
      "250/250 [==============================] - 3s 13ms/step - loss: 0.8170 - mse: 0.8168 - val_loss: 0.8753 - val_mse: 0.8751\n",
      "Epoch 7/30\n",
      "250/250 [==============================] - 3s 13ms/step - loss: 0.8052 - mse: 0.8049 - val_loss: 0.8895 - val_mse: 0.8892\n",
      "Epoch 8/30\n",
      "250/250 [==============================] - 3s 13ms/step - loss: 0.7968 - mse: 0.7965 - val_loss: 0.8803 - val_mse: 0.8800\n",
      "Epoch 9/30\n",
      "250/250 [==============================] - 3s 13ms/step - loss: 0.7871 - mse: 0.7868 - val_loss: 0.8835 - val_mse: 0.8831\n",
      "test MSE 0.8767\n",
      "Epoch 1/30\n",
      "250/250 [==============================] - 6s 12ms/step - loss: 1.8256 - mse: 1.8256 - val_loss: 0.8957 - val_mse: 0.8957\n"
     ]
    },
    {
     "name": "stderr",
     "output_type": "stream",
     "text": [
      "WARNING:absl:Found untraced functions such as dropout_layer_call_fn, dropout_layer_call_and_return_conditional_losses, dropout_1_layer_call_fn, dropout_1_layer_call_and_return_conditional_losses, dropout_2_layer_call_fn while saving (showing 5 of 12). These functions will not be directly callable after loading.\n"
     ]
    },
    {
     "name": "stdout",
     "output_type": "stream",
     "text": [
      "Epoch 2/30\n",
      "250/250 [==============================] - 3s 12ms/step - loss: 0.8832 - mse: 0.8831 - val_loss: 0.8872 - val_mse: 0.8871\n"
     ]
    },
    {
     "name": "stderr",
     "output_type": "stream",
     "text": [
      "WARNING:absl:Found untraced functions such as dropout_layer_call_fn, dropout_layer_call_and_return_conditional_losses, dropout_1_layer_call_fn, dropout_1_layer_call_and_return_conditional_losses, dropout_2_layer_call_fn while saving (showing 5 of 12). These functions will not be directly callable after loading.\n"
     ]
    },
    {
     "name": "stdout",
     "output_type": "stream",
     "text": [
      "Epoch 3/30\n",
      "250/250 [==============================] - 3s 13ms/step - loss: 0.8671 - mse: 0.8670 - val_loss: 0.8914 - val_mse: 0.8912\n",
      "Epoch 4/30\n",
      "250/250 [==============================] - 3s 13ms/step - loss: 0.8565 - mse: 0.8564 - val_loss: 0.8710 - val_mse: 0.8708\n"
     ]
    },
    {
     "name": "stderr",
     "output_type": "stream",
     "text": [
      "WARNING:absl:Found untraced functions such as dropout_layer_call_fn, dropout_layer_call_and_return_conditional_losses, dropout_1_layer_call_fn, dropout_1_layer_call_and_return_conditional_losses, dropout_2_layer_call_fn while saving (showing 5 of 12). These functions will not be directly callable after loading.\n"
     ]
    },
    {
     "name": "stdout",
     "output_type": "stream",
     "text": [
      "Epoch 5/30\n",
      "250/250 [==============================] - 3s 13ms/step - loss: 0.8376 - mse: 0.8374 - val_loss: 0.8666 - val_mse: 0.8664\n"
     ]
    },
    {
     "name": "stderr",
     "output_type": "stream",
     "text": [
      "WARNING:absl:Found untraced functions such as dropout_layer_call_fn, dropout_layer_call_and_return_conditional_losses, dropout_1_layer_call_fn, dropout_1_layer_call_and_return_conditional_losses, dropout_2_layer_call_fn while saving (showing 5 of 12). These functions will not be directly callable after loading.\n"
     ]
    },
    {
     "name": "stdout",
     "output_type": "stream",
     "text": [
      "Epoch 6/30\n",
      "250/250 [==============================] - 3s 13ms/step - loss: 0.8212 - mse: 0.8210 - val_loss: 0.8567 - val_mse: 0.8565\n"
     ]
    },
    {
     "name": "stderr",
     "output_type": "stream",
     "text": [
      "WARNING:absl:Found untraced functions such as dropout_layer_call_fn, dropout_layer_call_and_return_conditional_losses, dropout_1_layer_call_fn, dropout_1_layer_call_and_return_conditional_losses, dropout_2_layer_call_fn while saving (showing 5 of 12). These functions will not be directly callable after loading.\n"
     ]
    },
    {
     "name": "stdout",
     "output_type": "stream",
     "text": [
      "Epoch 7/30\n",
      "250/250 [==============================] - 3s 13ms/step - loss: 0.8053 - mse: 0.8050 - val_loss: 0.8599 - val_mse: 0.8596\n",
      "Epoch 8/30\n",
      "250/250 [==============================] - 3s 13ms/step - loss: 0.7896 - mse: 0.7893 - val_loss: 0.8596 - val_mse: 0.8594\n",
      "Epoch 9/30\n",
      "250/250 [==============================] - 3s 13ms/step - loss: 0.7781 - mse: 0.7778 - val_loss: 0.8757 - val_mse: 0.8754\n",
      "Epoch 10/30\n",
      "250/250 [==============================] - 3s 12ms/step - loss: 0.7674 - mse: 0.7670 - val_loss: 0.8839 - val_mse: 0.8835\n",
      "Epoch 11/30\n",
      "250/250 [==============================] - 3s 13ms/step - loss: 0.7488 - mse: 0.7485 - val_loss: 0.8647 - val_mse: 0.8643\n",
      "test MSE 0.8771\n"
     ]
    }
   ],
   "source": [
    "# IPNN\n",
    "dict_IPNN = {'dnn_feature_columns': dnn_feature_columns,\n",
    "            'task': 'regression',\n",
    "            'use_inner': True}\n",
    "ls_result = calc_nn_based_model(df_movie_all, \n",
    "                                PNN, dict_IPNN,\n",
    "                                feature_names, \n",
    "                                'movie_lens', 'IPNN')\n",
    "all_result.extend(ls_result)"
   ]
  },
  {
   "cell_type": "code",
   "execution_count": 28,
   "metadata": {},
   "outputs": [
    {
     "name": "stdout",
     "output_type": "stream",
     "text": [
      "Epoch 1/30\n",
      "250/250 [==============================] - 7s 15ms/step - loss: 1.9266 - mse: 1.9265 - val_loss: 0.9025 - val_mse: 0.9024\n"
     ]
    },
    {
     "name": "stderr",
     "output_type": "stream",
     "text": [
      "WARNING:absl:Found untraced functions such as dropout_layer_call_fn, dropout_layer_call_and_return_conditional_losses, dropout_1_layer_call_fn, dropout_1_layer_call_and_return_conditional_losses, dropout_2_layer_call_fn while saving (showing 5 of 12). These functions will not be directly callable after loading.\n"
     ]
    },
    {
     "name": "stdout",
     "output_type": "stream",
     "text": [
      "Epoch 2/30\n",
      "250/250 [==============================] - 4s 15ms/step - loss: 0.8807 - mse: 0.8807 - val_loss: 0.8941 - val_mse: 0.8940\n"
     ]
    },
    {
     "name": "stderr",
     "output_type": "stream",
     "text": [
      "WARNING:absl:Found untraced functions such as dropout_layer_call_fn, dropout_layer_call_and_return_conditional_losses, dropout_1_layer_call_fn, dropout_1_layer_call_and_return_conditional_losses, dropout_2_layer_call_fn while saving (showing 5 of 12). These functions will not be directly callable after loading.\n"
     ]
    },
    {
     "name": "stdout",
     "output_type": "stream",
     "text": [
      "Epoch 3/30\n",
      "250/250 [==============================] - 4s 15ms/step - loss: 0.8672 - mse: 0.8671 - val_loss: 0.8825 - val_mse: 0.8824\n"
     ]
    },
    {
     "name": "stderr",
     "output_type": "stream",
     "text": [
      "WARNING:absl:Found untraced functions such as dropout_layer_call_fn, dropout_layer_call_and_return_conditional_losses, dropout_1_layer_call_fn, dropout_1_layer_call_and_return_conditional_losses, dropout_2_layer_call_fn while saving (showing 5 of 12). These functions will not be directly callable after loading.\n"
     ]
    },
    {
     "name": "stdout",
     "output_type": "stream",
     "text": [
      "Epoch 4/30\n",
      "250/250 [==============================] - 4s 15ms/step - loss: 0.8584 - mse: 0.8582 - val_loss: 0.8784 - val_mse: 0.8782\n"
     ]
    },
    {
     "name": "stderr",
     "output_type": "stream",
     "text": [
      "WARNING:absl:Found untraced functions such as dropout_layer_call_fn, dropout_layer_call_and_return_conditional_losses, dropout_1_layer_call_fn, dropout_1_layer_call_and_return_conditional_losses, dropout_2_layer_call_fn while saving (showing 5 of 12). These functions will not be directly callable after loading.\n"
     ]
    },
    {
     "name": "stdout",
     "output_type": "stream",
     "text": [
      "Epoch 5/30\n",
      "250/250 [==============================] - 4s 14ms/step - loss: 0.8423 - mse: 0.8421 - val_loss: 0.8648 - val_mse: 0.8646\n"
     ]
    },
    {
     "name": "stderr",
     "output_type": "stream",
     "text": [
      "WARNING:absl:Found untraced functions such as dropout_layer_call_fn, dropout_layer_call_and_return_conditional_losses, dropout_1_layer_call_fn, dropout_1_layer_call_and_return_conditional_losses, dropout_2_layer_call_fn while saving (showing 5 of 12). These functions will not be directly callable after loading.\n"
     ]
    },
    {
     "name": "stdout",
     "output_type": "stream",
     "text": [
      "Epoch 6/30\n",
      "250/250 [==============================] - 4s 15ms/step - loss: 0.8285 - mse: 0.8283 - val_loss: 0.8635 - val_mse: 0.8633\n"
     ]
    },
    {
     "name": "stderr",
     "output_type": "stream",
     "text": [
      "WARNING:absl:Found untraced functions such as dropout_layer_call_fn, dropout_layer_call_and_return_conditional_losses, dropout_1_layer_call_fn, dropout_1_layer_call_and_return_conditional_losses, dropout_2_layer_call_fn while saving (showing 5 of 12). These functions will not be directly callable after loading.\n"
     ]
    },
    {
     "name": "stdout",
     "output_type": "stream",
     "text": [
      "Epoch 7/30\n",
      "250/250 [==============================] - 4s 15ms/step - loss: 0.8153 - mse: 0.8150 - val_loss: 0.8652 - val_mse: 0.8650\n",
      "Epoch 8/30\n",
      "250/250 [==============================] - 4s 14ms/step - loss: 0.8068 - mse: 0.8065 - val_loss: 0.8659 - val_mse: 0.8656\n",
      "Epoch 9/30\n",
      "250/250 [==============================] - 4s 15ms/step - loss: 0.7987 - mse: 0.7984 - val_loss: 0.8777 - val_mse: 0.8774\n",
      "Epoch 10/30\n",
      "250/250 [==============================] - 4s 16ms/step - loss: 0.7953 - mse: 0.7950 - val_loss: 0.8731 - val_mse: 0.8728\n",
      "Epoch 11/30\n",
      "250/250 [==============================] - 4s 15ms/step - loss: 0.7845 - mse: 0.7841 - val_loss: 0.8713 - val_mse: 0.8709\n",
      "test MSE 0.8787\n",
      "Epoch 1/30\n",
      "250/250 [==============================] - 7s 15ms/step - loss: 1.9319 - mse: 1.9318 - val_loss: 0.9125 - val_mse: 0.9124\n"
     ]
    },
    {
     "name": "stderr",
     "output_type": "stream",
     "text": [
      "WARNING:absl:Found untraced functions such as dropout_layer_call_fn, dropout_layer_call_and_return_conditional_losses, dropout_1_layer_call_fn, dropout_1_layer_call_and_return_conditional_losses, dropout_2_layer_call_fn while saving (showing 5 of 12). These functions will not be directly callable after loading.\n"
     ]
    },
    {
     "name": "stdout",
     "output_type": "stream",
     "text": [
      "Epoch 2/30\n",
      "250/250 [==============================] - 4s 14ms/step - loss: 0.8829 - mse: 0.8829 - val_loss: 0.8915 - val_mse: 0.8914\n"
     ]
    },
    {
     "name": "stderr",
     "output_type": "stream",
     "text": [
      "WARNING:absl:Found untraced functions such as dropout_layer_call_fn, dropout_layer_call_and_return_conditional_losses, dropout_1_layer_call_fn, dropout_1_layer_call_and_return_conditional_losses, dropout_2_layer_call_fn while saving (showing 5 of 12). These functions will not be directly callable after loading.\n"
     ]
    },
    {
     "name": "stdout",
     "output_type": "stream",
     "text": [
      "Epoch 3/30\n",
      "250/250 [==============================] - 4s 15ms/step - loss: 0.8594 - mse: 0.8593 - val_loss: 0.8803 - val_mse: 0.8802\n"
     ]
    },
    {
     "name": "stderr",
     "output_type": "stream",
     "text": [
      "WARNING:absl:Found untraced functions such as dropout_layer_call_fn, dropout_layer_call_and_return_conditional_losses, dropout_1_layer_call_fn, dropout_1_layer_call_and_return_conditional_losses, dropout_2_layer_call_fn while saving (showing 5 of 12). These functions will not be directly callable after loading.\n"
     ]
    },
    {
     "name": "stdout",
     "output_type": "stream",
     "text": [
      "Epoch 4/30\n",
      "250/250 [==============================] - 4s 15ms/step - loss: 0.8355 - mse: 0.8354 - val_loss: 0.8752 - val_mse: 0.8750\n"
     ]
    },
    {
     "name": "stderr",
     "output_type": "stream",
     "text": [
      "WARNING:absl:Found untraced functions such as dropout_layer_call_fn, dropout_layer_call_and_return_conditional_losses, dropout_1_layer_call_fn, dropout_1_layer_call_and_return_conditional_losses, dropout_2_layer_call_fn while saving (showing 5 of 12). These functions will not be directly callable after loading.\n"
     ]
    },
    {
     "name": "stdout",
     "output_type": "stream",
     "text": [
      "Epoch 5/30\n",
      "250/250 [==============================] - 4s 15ms/step - loss: 0.8206 - mse: 0.8204 - val_loss: 0.8805 - val_mse: 0.8803\n",
      "Epoch 6/30\n",
      "250/250 [==============================] - 4s 15ms/step - loss: 0.8072 - mse: 0.8070 - val_loss: 0.8830 - val_mse: 0.8828\n",
      "Epoch 7/30\n",
      "250/250 [==============================] - 4s 15ms/step - loss: 0.7960 - mse: 0.7958 - val_loss: 0.8770 - val_mse: 0.8768\n",
      "Epoch 8/30\n",
      "250/250 [==============================] - 4s 15ms/step - loss: 0.7820 - mse: 0.7817 - val_loss: 0.8802 - val_mse: 0.8799\n",
      "Epoch 9/30\n",
      "250/250 [==============================] - 4s 15ms/step - loss: 0.7669 - mse: 0.7666 - val_loss: 0.8811 - val_mse: 0.8808\n",
      "test MSE 0.8716\n",
      "Epoch 1/30\n",
      "250/250 [==============================] - 9s 16ms/step - loss: 1.9036 - mse: 1.9035 - val_loss: 0.9040 - val_mse: 0.9039\n"
     ]
    },
    {
     "name": "stderr",
     "output_type": "stream",
     "text": [
      "WARNING:absl:Found untraced functions such as dropout_layer_call_fn, dropout_layer_call_and_return_conditional_losses, dropout_1_layer_call_fn, dropout_1_layer_call_and_return_conditional_losses, dropout_2_layer_call_fn while saving (showing 5 of 12). These functions will not be directly callable after loading.\n"
     ]
    },
    {
     "name": "stdout",
     "output_type": "stream",
     "text": [
      "Epoch 2/30\n",
      "250/250 [==============================] - 4s 15ms/step - loss: 0.8837 - mse: 0.8836 - val_loss: 0.8909 - val_mse: 0.8908\n"
     ]
    },
    {
     "name": "stderr",
     "output_type": "stream",
     "text": [
      "WARNING:absl:Found untraced functions such as dropout_layer_call_fn, dropout_layer_call_and_return_conditional_losses, dropout_1_layer_call_fn, dropout_1_layer_call_and_return_conditional_losses, dropout_2_layer_call_fn while saving (showing 5 of 12). These functions will not be directly callable after loading.\n"
     ]
    },
    {
     "name": "stdout",
     "output_type": "stream",
     "text": [
      "Epoch 3/30\n",
      "250/250 [==============================] - 4s 15ms/step - loss: 0.8689 - mse: 0.8688 - val_loss: 0.8862 - val_mse: 0.8860\n"
     ]
    },
    {
     "name": "stderr",
     "output_type": "stream",
     "text": [
      "WARNING:absl:Found untraced functions such as dropout_layer_call_fn, dropout_layer_call_and_return_conditional_losses, dropout_1_layer_call_fn, dropout_1_layer_call_and_return_conditional_losses, dropout_2_layer_call_fn while saving (showing 5 of 12). These functions will not be directly callable after loading.\n"
     ]
    },
    {
     "name": "stdout",
     "output_type": "stream",
     "text": [
      "Epoch 4/30\n",
      "250/250 [==============================] - 4s 15ms/step - loss: 0.8650 - mse: 0.8649 - val_loss: 0.8981 - val_mse: 0.8979\n",
      "Epoch 5/30\n",
      "250/250 [==============================] - 4s 15ms/step - loss: 0.8569 - mse: 0.8567 - val_loss: 0.8876 - val_mse: 0.8875\n",
      "Epoch 6/30\n",
      "250/250 [==============================] - 4s 15ms/step - loss: 0.8406 - mse: 0.8404 - val_loss: 0.8689 - val_mse: 0.8687\n"
     ]
    },
    {
     "name": "stderr",
     "output_type": "stream",
     "text": [
      "WARNING:absl:Found untraced functions such as dropout_layer_call_fn, dropout_layer_call_and_return_conditional_losses, dropout_1_layer_call_fn, dropout_1_layer_call_and_return_conditional_losses, dropout_2_layer_call_fn while saving (showing 5 of 12). These functions will not be directly callable after loading.\n"
     ]
    },
    {
     "name": "stdout",
     "output_type": "stream",
     "text": [
      "Epoch 7/30\n",
      "250/250 [==============================] - 4s 15ms/step - loss: 0.8259 - mse: 0.8257 - val_loss: 0.8715 - val_mse: 0.8712\n",
      "Epoch 8/30\n",
      "250/250 [==============================] - 4s 15ms/step - loss: 0.8136 - mse: 0.8134 - val_loss: 0.8669 - val_mse: 0.8666\n"
     ]
    },
    {
     "name": "stderr",
     "output_type": "stream",
     "text": [
      "WARNING:absl:Found untraced functions such as dropout_layer_call_fn, dropout_layer_call_and_return_conditional_losses, dropout_1_layer_call_fn, dropout_1_layer_call_and_return_conditional_losses, dropout_2_layer_call_fn while saving (showing 5 of 12). These functions will not be directly callable after loading.\n"
     ]
    },
    {
     "name": "stdout",
     "output_type": "stream",
     "text": [
      "Epoch 9/30\n",
      "250/250 [==============================] - 4s 15ms/step - loss: 0.7944 - mse: 0.7941 - val_loss: 0.8639 - val_mse: 0.8636\n"
     ]
    },
    {
     "name": "stderr",
     "output_type": "stream",
     "text": [
      "WARNING:absl:Found untraced functions such as dropout_layer_call_fn, dropout_layer_call_and_return_conditional_losses, dropout_1_layer_call_fn, dropout_1_layer_call_and_return_conditional_losses, dropout_2_layer_call_fn while saving (showing 5 of 12). These functions will not be directly callable after loading.\n"
     ]
    },
    {
     "name": "stdout",
     "output_type": "stream",
     "text": [
      "Epoch 10/30\n",
      "250/250 [==============================] - 4s 15ms/step - loss: 0.7805 - mse: 0.7802 - val_loss: 0.8640 - val_mse: 0.8636\n"
     ]
    },
    {
     "name": "stderr",
     "output_type": "stream",
     "text": [
      "WARNING:absl:Found untraced functions such as dropout_layer_call_fn, dropout_layer_call_and_return_conditional_losses, dropout_1_layer_call_fn, dropout_1_layer_call_and_return_conditional_losses, dropout_2_layer_call_fn while saving (showing 5 of 12). These functions will not be directly callable after loading.\n"
     ]
    },
    {
     "name": "stdout",
     "output_type": "stream",
     "text": [
      "Epoch 11/30\n",
      "250/250 [==============================] - 4s 15ms/step - loss: 0.7675 - mse: 0.7671 - val_loss: 0.8631 - val_mse: 0.8627\n"
     ]
    },
    {
     "name": "stderr",
     "output_type": "stream",
     "text": [
      "WARNING:absl:Found untraced functions such as dropout_layer_call_fn, dropout_layer_call_and_return_conditional_losses, dropout_1_layer_call_fn, dropout_1_layer_call_and_return_conditional_losses, dropout_2_layer_call_fn while saving (showing 5 of 12). These functions will not be directly callable after loading.\n"
     ]
    },
    {
     "name": "stdout",
     "output_type": "stream",
     "text": [
      "Epoch 12/30\n",
      "250/250 [==============================] - 4s 15ms/step - loss: 0.7532 - mse: 0.7529 - val_loss: 0.8633 - val_mse: 0.8629\n",
      "Epoch 13/30\n",
      "250/250 [==============================] - 4s 15ms/step - loss: 0.7381 - mse: 0.7377 - val_loss: 0.8661 - val_mse: 0.8657\n",
      "Epoch 14/30\n",
      "250/250 [==============================] - 4s 15ms/step - loss: 0.7191 - mse: 0.7186 - val_loss: 0.8717 - val_mse: 0.8712\n",
      "Epoch 15/30\n",
      "250/250 [==============================] - 4s 14ms/step - loss: 0.7058 - mse: 0.7054 - val_loss: 0.8901 - val_mse: 0.8896\n",
      "Epoch 16/30\n",
      "250/250 [==============================] - 4s 15ms/step - loss: 0.6951 - mse: 0.6946 - val_loss: 0.8854 - val_mse: 0.8849\n",
      "test MSE 0.864\n",
      "Epoch 1/30\n",
      "250/250 [==============================] - 8s 15ms/step - loss: 1.7936 - mse: 1.7935 - val_loss: 0.8966 - val_mse: 0.8965\n"
     ]
    },
    {
     "name": "stderr",
     "output_type": "stream",
     "text": [
      "WARNING:absl:Found untraced functions such as dropout_layer_call_fn, dropout_layer_call_and_return_conditional_losses, dropout_1_layer_call_fn, dropout_1_layer_call_and_return_conditional_losses, dropout_2_layer_call_fn while saving (showing 5 of 12). These functions will not be directly callable after loading.\n"
     ]
    },
    {
     "name": "stdout",
     "output_type": "stream",
     "text": [
      "Epoch 2/30\n",
      "250/250 [==============================] - 4s 15ms/step - loss: 0.8796 - mse: 0.8795 - val_loss: 0.8857 - val_mse: 0.8856\n"
     ]
    },
    {
     "name": "stderr",
     "output_type": "stream",
     "text": [
      "WARNING:absl:Found untraced functions such as dropout_layer_call_fn, dropout_layer_call_and_return_conditional_losses, dropout_1_layer_call_fn, dropout_1_layer_call_and_return_conditional_losses, dropout_2_layer_call_fn while saving (showing 5 of 12). These functions will not be directly callable after loading.\n"
     ]
    },
    {
     "name": "stdout",
     "output_type": "stream",
     "text": [
      "Epoch 3/30\n",
      "250/250 [==============================] - 4s 15ms/step - loss: 0.8565 - mse: 0.8564 - val_loss: 0.8711 - val_mse: 0.8710\n"
     ]
    },
    {
     "name": "stderr",
     "output_type": "stream",
     "text": [
      "WARNING:absl:Found untraced functions such as dropout_layer_call_fn, dropout_layer_call_and_return_conditional_losses, dropout_1_layer_call_fn, dropout_1_layer_call_and_return_conditional_losses, dropout_2_layer_call_fn while saving (showing 5 of 12). These functions will not be directly callable after loading.\n"
     ]
    },
    {
     "name": "stdout",
     "output_type": "stream",
     "text": [
      "Epoch 4/30\n",
      "250/250 [==============================] - 4s 15ms/step - loss: 0.8326 - mse: 0.8324 - val_loss: 0.8725 - val_mse: 0.8724\n",
      "Epoch 5/30\n",
      "250/250 [==============================] - 4s 15ms/step - loss: 0.8188 - mse: 0.8186 - val_loss: 0.8860 - val_mse: 0.8858\n",
      "Epoch 6/30\n",
      "250/250 [==============================] - 4s 15ms/step - loss: 0.8010 - mse: 0.8008 - val_loss: 0.8836 - val_mse: 0.8833\n",
      "Epoch 7/30\n",
      "250/250 [==============================] - 4s 15ms/step - loss: 0.7878 - mse: 0.7875 - val_loss: 0.8749 - val_mse: 0.8746\n",
      "Epoch 8/30\n",
      "250/250 [==============================] - 4s 15ms/step - loss: 0.7692 - mse: 0.7689 - val_loss: 0.8823 - val_mse: 0.8821\n",
      "test MSE 0.8784\n",
      "Epoch 1/30\n",
      "250/250 [==============================] - 7s 14ms/step - loss: 1.9007 - mse: 1.9006 - val_loss: 0.8983 - val_mse: 0.8983\n"
     ]
    },
    {
     "name": "stderr",
     "output_type": "stream",
     "text": [
      "WARNING:absl:Found untraced functions such as dropout_layer_call_fn, dropout_layer_call_and_return_conditional_losses, dropout_1_layer_call_fn, dropout_1_layer_call_and_return_conditional_losses, dropout_2_layer_call_fn while saving (showing 5 of 12). These functions will not be directly callable after loading.\n"
     ]
    },
    {
     "name": "stdout",
     "output_type": "stream",
     "text": [
      "Epoch 2/30\n",
      "250/250 [==============================] - 3s 13ms/step - loss: 0.8820 - mse: 0.8819 - val_loss: 0.9015 - val_mse: 0.9013\n",
      "Epoch 3/30\n",
      "250/250 [==============================] - 3s 13ms/step - loss: 0.8605 - mse: 0.8604 - val_loss: 0.8685 - val_mse: 0.8683\n"
     ]
    },
    {
     "name": "stderr",
     "output_type": "stream",
     "text": [
      "WARNING:absl:Found untraced functions such as dropout_layer_call_fn, dropout_layer_call_and_return_conditional_losses, dropout_1_layer_call_fn, dropout_1_layer_call_and_return_conditional_losses, dropout_2_layer_call_fn while saving (showing 5 of 12). These functions will not be directly callable after loading.\n"
     ]
    },
    {
     "name": "stdout",
     "output_type": "stream",
     "text": [
      "Epoch 4/30\n",
      "250/250 [==============================] - 3s 13ms/step - loss: 0.8350 - mse: 0.8348 - val_loss: 0.8610 - val_mse: 0.8608\n"
     ]
    },
    {
     "name": "stderr",
     "output_type": "stream",
     "text": [
      "WARNING:absl:Found untraced functions such as dropout_layer_call_fn, dropout_layer_call_and_return_conditional_losses, dropout_1_layer_call_fn, dropout_1_layer_call_and_return_conditional_losses, dropout_2_layer_call_fn while saving (showing 5 of 12). These functions will not be directly callable after loading.\n"
     ]
    },
    {
     "name": "stdout",
     "output_type": "stream",
     "text": [
      "Epoch 5/30\n",
      "250/250 [==============================] - 3s 13ms/step - loss: 0.8216 - mse: 0.8214 - val_loss: 0.8689 - val_mse: 0.8687\n",
      "Epoch 6/30\n",
      "250/250 [==============================] - 3s 13ms/step - loss: 0.8120 - mse: 0.8117 - val_loss: 0.8661 - val_mse: 0.8659\n",
      "Epoch 7/30\n",
      "250/250 [==============================] - 3s 14ms/step - loss: 0.8057 - mse: 0.8055 - val_loss: 0.8684 - val_mse: 0.8681\n",
      "Epoch 8/30\n",
      "250/250 [==============================] - 3s 14ms/step - loss: 0.7988 - mse: 0.7985 - val_loss: 0.8690 - val_mse: 0.8687\n",
      "Epoch 9/30\n",
      "250/250 [==============================] - 3s 14ms/step - loss: 0.7925 - mse: 0.7922 - val_loss: 0.8697 - val_mse: 0.8694\n",
      "test MSE 0.8832\n"
     ]
    }
   ],
   "source": [
    "# OPNN\n",
    "dict_OPNN = {'dnn_feature_columns': dnn_feature_columns,\n",
    "            'task': 'regression',\n",
    "            'use_outter': True}\n",
    "ls_result = calc_nn_based_model(df_movie_all, \n",
    "                                PNN, dict_OPNN,\n",
    "                                feature_names, \n",
    "                                'movie_lens', 'OPNN')\n",
    "all_result.extend(ls_result)"
   ]
  },
  {
   "cell_type": "code",
   "execution_count": 29,
   "metadata": {},
   "outputs": [],
   "source": [
    "# PIN"
   ]
  },
  {
   "cell_type": "code",
   "execution_count": 30,
   "metadata": {},
   "outputs": [
    {
     "name": "stdout",
     "output_type": "stream",
     "text": [
      "Epoch 1/30\n",
      "250/250 [==============================] - 10s 19ms/step - loss: 2.0023 - mse: 2.0023 - val_loss: 1.1055 - val_mse: 1.1054\n"
     ]
    },
    {
     "name": "stderr",
     "output_type": "stream",
     "text": [
      "WARNING:absl:Found untraced functions such as dropout_layer_call_fn, dropout_layer_call_and_return_conditional_losses, dropout_1_layer_call_fn, dropout_1_layer_call_and_return_conditional_losses, activation_layer_call_fn while saving (showing 5 of 8). These functions will not be directly callable after loading.\n"
     ]
    },
    {
     "name": "stdout",
     "output_type": "stream",
     "text": [
      "Epoch 2/30\n",
      "250/250 [==============================] - 4s 16ms/step - loss: 0.9952 - mse: 0.9950 - val_loss: 0.9210 - val_mse: 0.9207\n"
     ]
    },
    {
     "name": "stderr",
     "output_type": "stream",
     "text": [
      "WARNING:absl:Found untraced functions such as dropout_layer_call_fn, dropout_layer_call_and_return_conditional_losses, dropout_1_layer_call_fn, dropout_1_layer_call_and_return_conditional_losses, activation_layer_call_fn while saving (showing 5 of 8). These functions will not be directly callable after loading.\n"
     ]
    },
    {
     "name": "stdout",
     "output_type": "stream",
     "text": [
      "Epoch 3/30\n",
      "250/250 [==============================] - 4s 16ms/step - loss: 0.8785 - mse: 0.8781 - val_loss: 0.8972 - val_mse: 0.8967\n"
     ]
    },
    {
     "name": "stderr",
     "output_type": "stream",
     "text": [
      "WARNING:absl:Found untraced functions such as dropout_layer_call_fn, dropout_layer_call_and_return_conditional_losses, dropout_1_layer_call_fn, dropout_1_layer_call_and_return_conditional_losses, activation_layer_call_fn while saving (showing 5 of 8). These functions will not be directly callable after loading.\n"
     ]
    },
    {
     "name": "stdout",
     "output_type": "stream",
     "text": [
      "Epoch 4/30\n",
      "250/250 [==============================] - 4s 17ms/step - loss: 0.8495 - mse: 0.8490 - val_loss: 0.8827 - val_mse: 0.8822\n"
     ]
    },
    {
     "name": "stderr",
     "output_type": "stream",
     "text": [
      "WARNING:absl:Found untraced functions such as dropout_layer_call_fn, dropout_layer_call_and_return_conditional_losses, dropout_1_layer_call_fn, dropout_1_layer_call_and_return_conditional_losses, activation_layer_call_fn while saving (showing 5 of 8). These functions will not be directly callable after loading.\n"
     ]
    },
    {
     "name": "stdout",
     "output_type": "stream",
     "text": [
      "Epoch 5/30\n",
      "250/250 [==============================] - 4s 17ms/step - loss: 0.8327 - mse: 0.8321 - val_loss: 0.8808 - val_mse: 0.8801\n"
     ]
    },
    {
     "name": "stderr",
     "output_type": "stream",
     "text": [
      "WARNING:absl:Found untraced functions such as dropout_layer_call_fn, dropout_layer_call_and_return_conditional_losses, dropout_1_layer_call_fn, dropout_1_layer_call_and_return_conditional_losses, activation_layer_call_fn while saving (showing 5 of 8). These functions will not be directly callable after loading.\n"
     ]
    },
    {
     "name": "stdout",
     "output_type": "stream",
     "text": [
      "Epoch 6/30\n",
      "250/250 [==============================] - 4s 16ms/step - loss: 0.8183 - mse: 0.8176 - val_loss: 0.9020 - val_mse: 0.9013\n",
      "Epoch 7/30\n",
      "250/250 [==============================] - 4s 16ms/step - loss: 0.8054 - mse: 0.8046 - val_loss: 0.8853 - val_mse: 0.8845\n",
      "Epoch 8/30\n",
      "250/250 [==============================] - 4s 17ms/step - loss: 0.7976 - mse: 0.7968 - val_loss: 0.8847 - val_mse: 0.8839\n",
      "Epoch 9/30\n",
      "250/250 [==============================] - 4s 16ms/step - loss: 0.7878 - mse: 0.7869 - val_loss: 0.8821 - val_mse: 0.8812\n",
      "Epoch 10/30\n",
      "250/250 [==============================] - 4s 17ms/step - loss: 0.7774 - mse: 0.7765 - val_loss: 0.8923 - val_mse: 0.8913\n",
      "test MSE 0.8938\n",
      "Epoch 1/30\n",
      "250/250 [==============================] - 8s 18ms/step - loss: 2.2404 - mse: 2.2404 - val_loss: 1.1030 - val_mse: 1.1029\n"
     ]
    },
    {
     "name": "stderr",
     "output_type": "stream",
     "text": [
      "WARNING:absl:Found untraced functions such as dropout_layer_call_fn, dropout_layer_call_and_return_conditional_losses, dropout_1_layer_call_fn, dropout_1_layer_call_and_return_conditional_losses, activation_layer_call_fn while saving (showing 5 of 8). These functions will not be directly callable after loading.\n"
     ]
    },
    {
     "name": "stdout",
     "output_type": "stream",
     "text": [
      "Epoch 2/30\n",
      "250/250 [==============================] - 4s 17ms/step - loss: 0.9678 - mse: 0.9676 - val_loss: 0.9322 - val_mse: 0.9319\n"
     ]
    },
    {
     "name": "stderr",
     "output_type": "stream",
     "text": [
      "WARNING:absl:Found untraced functions such as dropout_layer_call_fn, dropout_layer_call_and_return_conditional_losses, dropout_1_layer_call_fn, dropout_1_layer_call_and_return_conditional_losses, activation_layer_call_fn while saving (showing 5 of 8). These functions will not be directly callable after loading.\n"
     ]
    },
    {
     "name": "stdout",
     "output_type": "stream",
     "text": [
      "Epoch 3/30\n",
      "250/250 [==============================] - 4s 16ms/step - loss: 0.8801 - mse: 0.8798 - val_loss: 0.9160 - val_mse: 0.9156\n"
     ]
    },
    {
     "name": "stderr",
     "output_type": "stream",
     "text": [
      "WARNING:absl:Found untraced functions such as dropout_layer_call_fn, dropout_layer_call_and_return_conditional_losses, dropout_1_layer_call_fn, dropout_1_layer_call_and_return_conditional_losses, activation_layer_call_fn while saving (showing 5 of 8). These functions will not be directly callable after loading.\n"
     ]
    },
    {
     "name": "stdout",
     "output_type": "stream",
     "text": [
      "Epoch 4/30\n",
      "250/250 [==============================] - 4s 16ms/step - loss: 0.8517 - mse: 0.8513 - val_loss: 0.8902 - val_mse: 0.8898\n"
     ]
    },
    {
     "name": "stderr",
     "output_type": "stream",
     "text": [
      "WARNING:absl:Found untraced functions such as dropout_layer_call_fn, dropout_layer_call_and_return_conditional_losses, dropout_1_layer_call_fn, dropout_1_layer_call_and_return_conditional_losses, activation_layer_call_fn while saving (showing 5 of 8). These functions will not be directly callable after loading.\n"
     ]
    },
    {
     "name": "stdout",
     "output_type": "stream",
     "text": [
      "Epoch 5/30\n",
      "250/250 [==============================] - 4s 17ms/step - loss: 0.8355 - mse: 0.8350 - val_loss: 0.8874 - val_mse: 0.8869\n"
     ]
    },
    {
     "name": "stderr",
     "output_type": "stream",
     "text": [
      "WARNING:absl:Found untraced functions such as dropout_layer_call_fn, dropout_layer_call_and_return_conditional_losses, dropout_1_layer_call_fn, dropout_1_layer_call_and_return_conditional_losses, activation_layer_call_fn while saving (showing 5 of 8). These functions will not be directly callable after loading.\n"
     ]
    },
    {
     "name": "stdout",
     "output_type": "stream",
     "text": [
      "Epoch 6/30\n",
      "250/250 [==============================] - 4s 16ms/step - loss: 0.8203 - mse: 0.8198 - val_loss: 0.8848 - val_mse: 0.8843\n"
     ]
    },
    {
     "name": "stderr",
     "output_type": "stream",
     "text": [
      "WARNING:absl:Found untraced functions such as dropout_layer_call_fn, dropout_layer_call_and_return_conditional_losses, dropout_1_layer_call_fn, dropout_1_layer_call_and_return_conditional_losses, activation_layer_call_fn while saving (showing 5 of 8). These functions will not be directly callable after loading.\n"
     ]
    },
    {
     "name": "stdout",
     "output_type": "stream",
     "text": [
      "Epoch 7/30\n",
      "250/250 [==============================] - 4s 17ms/step - loss: 0.8084 - mse: 0.8079 - val_loss: 0.8901 - val_mse: 0.8895\n",
      "Epoch 8/30\n",
      "250/250 [==============================] - 4s 17ms/step - loss: 0.7955 - mse: 0.7949 - val_loss: 0.8848 - val_mse: 0.8842\n"
     ]
    },
    {
     "name": "stderr",
     "output_type": "stream",
     "text": [
      "WARNING:absl:Found untraced functions such as dropout_layer_call_fn, dropout_layer_call_and_return_conditional_losses, dropout_1_layer_call_fn, dropout_1_layer_call_and_return_conditional_losses, activation_layer_call_fn while saving (showing 5 of 8). These functions will not be directly callable after loading.\n"
     ]
    },
    {
     "name": "stdout",
     "output_type": "stream",
     "text": [
      "Epoch 9/30\n",
      "250/250 [==============================] - 4s 16ms/step - loss: 0.7849 - mse: 0.7842 - val_loss: 0.9005 - val_mse: 0.8997\n",
      "Epoch 10/30\n",
      "250/250 [==============================] - 4s 16ms/step - loss: 0.7721 - mse: 0.7714 - val_loss: 0.8928 - val_mse: 0.8920\n",
      "Epoch 11/30\n",
      "250/250 [==============================] - 4s 16ms/step - loss: 0.7616 - mse: 0.7608 - val_loss: 0.9013 - val_mse: 0.9005\n",
      "Epoch 12/30\n",
      "250/250 [==============================] - 4s 16ms/step - loss: 0.7505 - mse: 0.7497 - val_loss: 0.9015 - val_mse: 0.9006\n",
      "Epoch 13/30\n",
      "250/250 [==============================] - 4s 16ms/step - loss: 0.7404 - mse: 0.7394 - val_loss: 0.9012 - val_mse: 0.9003\n",
      "test MSE 0.8786\n",
      "Epoch 1/30\n",
      "250/250 [==============================] - 9s 19ms/step - loss: 2.0659 - mse: 2.0659 - val_loss: 1.1152 - val_mse: 1.1151\n"
     ]
    },
    {
     "name": "stderr",
     "output_type": "stream",
     "text": [
      "WARNING:absl:Found untraced functions such as dropout_layer_call_fn, dropout_layer_call_and_return_conditional_losses, dropout_1_layer_call_fn, dropout_1_layer_call_and_return_conditional_losses, activation_layer_call_fn while saving (showing 5 of 8). These functions will not be directly callable after loading.\n"
     ]
    },
    {
     "name": "stdout",
     "output_type": "stream",
     "text": [
      "Epoch 2/30\n",
      "250/250 [==============================] - 4s 16ms/step - loss: 1.0166 - mse: 1.0163 - val_loss: 0.9526 - val_mse: 0.9523\n"
     ]
    },
    {
     "name": "stderr",
     "output_type": "stream",
     "text": [
      "WARNING:absl:Found untraced functions such as dropout_layer_call_fn, dropout_layer_call_and_return_conditional_losses, dropout_1_layer_call_fn, dropout_1_layer_call_and_return_conditional_losses, activation_layer_call_fn while saving (showing 5 of 8). These functions will not be directly callable after loading.\n"
     ]
    },
    {
     "name": "stdout",
     "output_type": "stream",
     "text": [
      "Epoch 3/30\n",
      "250/250 [==============================] - 4s 16ms/step - loss: 0.9031 - mse: 0.9027 - val_loss: 0.9139 - val_mse: 0.9134\n"
     ]
    },
    {
     "name": "stderr",
     "output_type": "stream",
     "text": [
      "WARNING:absl:Found untraced functions such as dropout_layer_call_fn, dropout_layer_call_and_return_conditional_losses, dropout_1_layer_call_fn, dropout_1_layer_call_and_return_conditional_losses, activation_layer_call_fn while saving (showing 5 of 8). These functions will not be directly callable after loading.\n"
     ]
    },
    {
     "name": "stdout",
     "output_type": "stream",
     "text": [
      "Epoch 4/30\n",
      "250/250 [==============================] - 4s 16ms/step - loss: 0.8694 - mse: 0.8688 - val_loss: 0.8998 - val_mse: 0.8993\n"
     ]
    },
    {
     "name": "stderr",
     "output_type": "stream",
     "text": [
      "WARNING:absl:Found untraced functions such as dropout_layer_call_fn, dropout_layer_call_and_return_conditional_losses, dropout_1_layer_call_fn, dropout_1_layer_call_and_return_conditional_losses, activation_layer_call_fn while saving (showing 5 of 8). These functions will not be directly callable after loading.\n"
     ]
    },
    {
     "name": "stdout",
     "output_type": "stream",
     "text": [
      "Epoch 5/30\n",
      "250/250 [==============================] - 4s 16ms/step - loss: 0.8477 - mse: 0.8471 - val_loss: 0.8943 - val_mse: 0.8936\n"
     ]
    },
    {
     "name": "stderr",
     "output_type": "stream",
     "text": [
      "WARNING:absl:Found untraced functions such as dropout_layer_call_fn, dropout_layer_call_and_return_conditional_losses, dropout_1_layer_call_fn, dropout_1_layer_call_and_return_conditional_losses, activation_layer_call_fn while saving (showing 5 of 8). These functions will not be directly callable after loading.\n"
     ]
    },
    {
     "name": "stdout",
     "output_type": "stream",
     "text": [
      "Epoch 6/30\n",
      "250/250 [==============================] - 4s 16ms/step - loss: 0.8362 - mse: 0.8355 - val_loss: 0.9006 - val_mse: 0.8999\n",
      "Epoch 7/30\n",
      "250/250 [==============================] - 4s 16ms/step - loss: 0.8244 - mse: 0.8237 - val_loss: 0.8913 - val_mse: 0.8905\n"
     ]
    },
    {
     "name": "stderr",
     "output_type": "stream",
     "text": [
      "WARNING:absl:Found untraced functions such as dropout_layer_call_fn, dropout_layer_call_and_return_conditional_losses, dropout_1_layer_call_fn, dropout_1_layer_call_and_return_conditional_losses, activation_layer_call_fn while saving (showing 5 of 8). These functions will not be directly callable after loading.\n"
     ]
    },
    {
     "name": "stdout",
     "output_type": "stream",
     "text": [
      "Epoch 8/30\n",
      "250/250 [==============================] - 4s 17ms/step - loss: 0.8124 - mse: 0.8116 - val_loss: 0.8955 - val_mse: 0.8946\n",
      "Epoch 9/30\n",
      "250/250 [==============================] - 4s 16ms/step - loss: 0.8012 - mse: 0.8003 - val_loss: 0.9089 - val_mse: 0.9080\n",
      "Epoch 10/30\n",
      "250/250 [==============================] - 4s 17ms/step - loss: 0.7905 - mse: 0.7895 - val_loss: 0.9032 - val_mse: 0.9022\n",
      "Epoch 11/30\n",
      "250/250 [==============================] - 4s 16ms/step - loss: 0.7821 - mse: 0.7810 - val_loss: 0.9120 - val_mse: 0.9109\n",
      "Epoch 12/30\n",
      "250/250 [==============================] - 4s 17ms/step - loss: 0.7730 - mse: 0.7719 - val_loss: 0.9113 - val_mse: 0.9101\n",
      "test MSE 0.8934\n",
      "Epoch 1/30\n",
      "250/250 [==============================] - 8s 18ms/step - loss: 2.2514 - mse: 2.2514 - val_loss: 1.1248 - val_mse: 1.1247\n"
     ]
    },
    {
     "name": "stderr",
     "output_type": "stream",
     "text": [
      "WARNING:absl:Found untraced functions such as dropout_layer_call_fn, dropout_layer_call_and_return_conditional_losses, dropout_1_layer_call_fn, dropout_1_layer_call_and_return_conditional_losses, activation_layer_call_fn while saving (showing 5 of 8). These functions will not be directly callable after loading.\n"
     ]
    },
    {
     "name": "stdout",
     "output_type": "stream",
     "text": [
      "Epoch 2/30\n",
      "250/250 [==============================] - 4s 17ms/step - loss: 1.0167 - mse: 1.0165 - val_loss: 0.9328 - val_mse: 0.9325\n"
     ]
    },
    {
     "name": "stderr",
     "output_type": "stream",
     "text": [
      "WARNING:absl:Found untraced functions such as dropout_layer_call_fn, dropout_layer_call_and_return_conditional_losses, dropout_1_layer_call_fn, dropout_1_layer_call_and_return_conditional_losses, activation_layer_call_fn while saving (showing 5 of 8). These functions will not be directly callable after loading.\n"
     ]
    },
    {
     "name": "stdout",
     "output_type": "stream",
     "text": [
      "Epoch 3/30\n",
      "250/250 [==============================] - 4s 17ms/step - loss: 0.8728 - mse: 0.8725 - val_loss: 0.8815 - val_mse: 0.8811\n"
     ]
    },
    {
     "name": "stderr",
     "output_type": "stream",
     "text": [
      "WARNING:absl:Found untraced functions such as dropout_layer_call_fn, dropout_layer_call_and_return_conditional_losses, dropout_1_layer_call_fn, dropout_1_layer_call_and_return_conditional_losses, activation_layer_call_fn while saving (showing 5 of 8). These functions will not be directly callable after loading.\n"
     ]
    },
    {
     "name": "stdout",
     "output_type": "stream",
     "text": [
      "Epoch 4/30\n",
      "250/250 [==============================] - 4s 17ms/step - loss: 0.8510 - mse: 0.8506 - val_loss: 0.8792 - val_mse: 0.8787\n"
     ]
    },
    {
     "name": "stderr",
     "output_type": "stream",
     "text": [
      "WARNING:absl:Found untraced functions such as dropout_layer_call_fn, dropout_layer_call_and_return_conditional_losses, dropout_1_layer_call_fn, dropout_1_layer_call_and_return_conditional_losses, activation_layer_call_fn while saving (showing 5 of 8). These functions will not be directly callable after loading.\n"
     ]
    },
    {
     "name": "stdout",
     "output_type": "stream",
     "text": [
      "Epoch 5/30\n",
      "250/250 [==============================] - 4s 16ms/step - loss: 0.8365 - mse: 0.8360 - val_loss: 0.8761 - val_mse: 0.8756\n"
     ]
    },
    {
     "name": "stderr",
     "output_type": "stream",
     "text": [
      "WARNING:absl:Found untraced functions such as dropout_layer_call_fn, dropout_layer_call_and_return_conditional_losses, dropout_1_layer_call_fn, dropout_1_layer_call_and_return_conditional_losses, activation_layer_call_fn while saving (showing 5 of 8). These functions will not be directly callable after loading.\n"
     ]
    },
    {
     "name": "stdout",
     "output_type": "stream",
     "text": [
      "Epoch 6/30\n",
      "250/250 [==============================] - 4s 17ms/step - loss: 0.8289 - mse: 0.8284 - val_loss: 0.8903 - val_mse: 0.8897\n",
      "Epoch 7/30\n",
      "250/250 [==============================] - 4s 17ms/step - loss: 0.8199 - mse: 0.8192 - val_loss: 0.8719 - val_mse: 0.8712\n"
     ]
    },
    {
     "name": "stderr",
     "output_type": "stream",
     "text": [
      "WARNING:absl:Found untraced functions such as dropout_layer_call_fn, dropout_layer_call_and_return_conditional_losses, dropout_1_layer_call_fn, dropout_1_layer_call_and_return_conditional_losses, activation_layer_call_fn while saving (showing 5 of 8). These functions will not be directly callable after loading.\n"
     ]
    },
    {
     "name": "stdout",
     "output_type": "stream",
     "text": [
      "Epoch 8/30\n",
      "250/250 [==============================] - 4s 17ms/step - loss: 0.8090 - mse: 0.8083 - val_loss: 0.8684 - val_mse: 0.8677\n"
     ]
    },
    {
     "name": "stderr",
     "output_type": "stream",
     "text": [
      "WARNING:absl:Found untraced functions such as dropout_layer_call_fn, dropout_layer_call_and_return_conditional_losses, dropout_1_layer_call_fn, dropout_1_layer_call_and_return_conditional_losses, activation_layer_call_fn while saving (showing 5 of 8). These functions will not be directly callable after loading.\n"
     ]
    },
    {
     "name": "stdout",
     "output_type": "stream",
     "text": [
      "Epoch 9/30\n",
      "250/250 [==============================] - 4s 17ms/step - loss: 0.7956 - mse: 0.7948 - val_loss: 0.8729 - val_mse: 0.8721\n",
      "Epoch 10/30\n",
      "250/250 [==============================] - 4s 17ms/step - loss: 0.7816 - mse: 0.7807 - val_loss: 0.8828 - val_mse: 0.8818\n",
      "Epoch 11/30\n",
      "250/250 [==============================] - 4s 17ms/step - loss: 0.7714 - mse: 0.7704 - val_loss: 0.8825 - val_mse: 0.8815\n",
      "Epoch 12/30\n",
      "250/250 [==============================] - 4s 17ms/step - loss: 0.7583 - mse: 0.7572 - val_loss: 0.8912 - val_mse: 0.8901\n",
      "Epoch 13/30\n",
      "250/250 [==============================] - 4s 16ms/step - loss: 0.7498 - mse: 0.7486 - val_loss: 0.9016 - val_mse: 0.9004\n",
      "test MSE 0.8787\n",
      "Epoch 1/30\n",
      "250/250 [==============================] - 8s 18ms/step - loss: 2.2134 - mse: 2.2134 - val_loss: 1.1286 - val_mse: 1.1286\n"
     ]
    },
    {
     "name": "stderr",
     "output_type": "stream",
     "text": [
      "WARNING:absl:Found untraced functions such as dropout_layer_call_fn, dropout_layer_call_and_return_conditional_losses, dropout_1_layer_call_fn, dropout_1_layer_call_and_return_conditional_losses, activation_layer_call_fn while saving (showing 5 of 8). These functions will not be directly callable after loading.\n"
     ]
    },
    {
     "name": "stdout",
     "output_type": "stream",
     "text": [
      "Epoch 2/30\n",
      "250/250 [==============================] - 4s 16ms/step - loss: 1.0416 - mse: 1.0414 - val_loss: 0.9280 - val_mse: 0.9276\n"
     ]
    },
    {
     "name": "stderr",
     "output_type": "stream",
     "text": [
      "WARNING:absl:Found untraced functions such as dropout_layer_call_fn, dropout_layer_call_and_return_conditional_losses, dropout_1_layer_call_fn, dropout_1_layer_call_and_return_conditional_losses, activation_layer_call_fn while saving (showing 5 of 8). These functions will not be directly callable after loading.\n"
     ]
    },
    {
     "name": "stdout",
     "output_type": "stream",
     "text": [
      "Epoch 3/30\n",
      "250/250 [==============================] - 4s 16ms/step - loss: 0.8917 - mse: 0.8913 - val_loss: 0.8864 - val_mse: 0.8859\n"
     ]
    },
    {
     "name": "stderr",
     "output_type": "stream",
     "text": [
      "WARNING:absl:Found untraced functions such as dropout_layer_call_fn, dropout_layer_call_and_return_conditional_losses, dropout_1_layer_call_fn, dropout_1_layer_call_and_return_conditional_losses, activation_layer_call_fn while saving (showing 5 of 8). These functions will not be directly callable after loading.\n"
     ]
    },
    {
     "name": "stdout",
     "output_type": "stream",
     "text": [
      "Epoch 4/30\n",
      "250/250 [==============================] - 4s 16ms/step - loss: 0.8518 - mse: 0.8513 - val_loss: 0.8853 - val_mse: 0.8847\n"
     ]
    },
    {
     "name": "stderr",
     "output_type": "stream",
     "text": [
      "WARNING:absl:Found untraced functions such as dropout_layer_call_fn, dropout_layer_call_and_return_conditional_losses, dropout_1_layer_call_fn, dropout_1_layer_call_and_return_conditional_losses, activation_layer_call_fn while saving (showing 5 of 8). These functions will not be directly callable after loading.\n"
     ]
    },
    {
     "name": "stdout",
     "output_type": "stream",
     "text": [
      "Epoch 5/30\n",
      "250/250 [==============================] - 4s 16ms/step - loss: 0.8344 - mse: 0.8338 - val_loss: 0.8783 - val_mse: 0.8776\n"
     ]
    },
    {
     "name": "stderr",
     "output_type": "stream",
     "text": [
      "WARNING:absl:Found untraced functions such as dropout_layer_call_fn, dropout_layer_call_and_return_conditional_losses, dropout_1_layer_call_fn, dropout_1_layer_call_and_return_conditional_losses, activation_layer_call_fn while saving (showing 5 of 8). These functions will not be directly callable after loading.\n"
     ]
    },
    {
     "name": "stdout",
     "output_type": "stream",
     "text": [
      "Epoch 6/30\n",
      "250/250 [==============================] - 4s 17ms/step - loss: 0.8180 - mse: 0.8173 - val_loss: 0.8722 - val_mse: 0.8715\n"
     ]
    },
    {
     "name": "stderr",
     "output_type": "stream",
     "text": [
      "WARNING:absl:Found untraced functions such as dropout_layer_call_fn, dropout_layer_call_and_return_conditional_losses, dropout_1_layer_call_fn, dropout_1_layer_call_and_return_conditional_losses, activation_layer_call_fn while saving (showing 5 of 8). These functions will not be directly callable after loading.\n"
     ]
    },
    {
     "name": "stdout",
     "output_type": "stream",
     "text": [
      "Epoch 7/30\n",
      "250/250 [==============================] - 4s 17ms/step - loss: 0.8095 - mse: 0.8087 - val_loss: 0.8727 - val_mse: 0.8719\n",
      "Epoch 8/30\n",
      "250/250 [==============================] - 4s 17ms/step - loss: 0.7987 - mse: 0.7979 - val_loss: 0.8754 - val_mse: 0.8745\n",
      "Epoch 9/30\n",
      "250/250 [==============================] - 4s 16ms/step - loss: 0.7903 - mse: 0.7894 - val_loss: 0.8761 - val_mse: 0.8751\n",
      "Epoch 10/30\n",
      "250/250 [==============================] - 4s 17ms/step - loss: 0.7780 - mse: 0.7771 - val_loss: 0.8758 - val_mse: 0.8748\n",
      "Epoch 11/30\n",
      "250/250 [==============================] - 4s 17ms/step - loss: 0.7702 - mse: 0.7692 - val_loss: 0.8883 - val_mse: 0.8872\n",
      "test MSE 0.8933\n"
     ]
    }
   ],
   "source": [
    "# CCPM\n",
    "dict_CCPM = {'linear_feature_columns': linear_feature_columns,\n",
    "            'dnn_feature_columns': dnn_feature_columns,\n",
    "            'task': 'regression'}\n",
    "ls_result = calc_nn_based_model(df_movie_all, \n",
    "                                CCPM, dict_CCPM,\n",
    "                                feature_names, \n",
    "                                'movie_lens', 'CCPM')\n",
    "all_result.extend(ls_result)"
   ]
  },
  {
   "cell_type": "code",
   "execution_count": 31,
   "metadata": {},
   "outputs": [
    {
     "name": "stdout",
     "output_type": "stream",
     "text": [
      "Epoch 1/30\n",
      "250/250 [==============================] - 8s 15ms/step - loss: 1.7844 - mse: 1.7844 - val_loss: 0.8996 - val_mse: 0.8996\n"
     ]
    },
    {
     "name": "stderr",
     "output_type": "stream",
     "text": [
      "WARNING:absl:Found untraced functions such as dropout_layer_call_fn, dropout_layer_call_and_return_conditional_losses, dropout_1_layer_call_fn, dropout_1_layer_call_and_return_conditional_losses, dropout_2_layer_call_fn while saving (showing 5 of 12). These functions will not be directly callable after loading.\n"
     ]
    },
    {
     "name": "stdout",
     "output_type": "stream",
     "text": [
      "Epoch 2/30\n",
      "250/250 [==============================] - 3s 12ms/step - loss: 0.8804 - mse: 0.8803 - val_loss: 0.8847 - val_mse: 0.8845\n"
     ]
    },
    {
     "name": "stderr",
     "output_type": "stream",
     "text": [
      "WARNING:absl:Found untraced functions such as dropout_layer_call_fn, dropout_layer_call_and_return_conditional_losses, dropout_1_layer_call_fn, dropout_1_layer_call_and_return_conditional_losses, dropout_2_layer_call_fn while saving (showing 5 of 12). These functions will not be directly callable after loading.\n"
     ]
    },
    {
     "name": "stdout",
     "output_type": "stream",
     "text": [
      "Epoch 3/30\n",
      "250/250 [==============================] - 3s 13ms/step - loss: 0.8652 - mse: 0.8650 - val_loss: 0.9065 - val_mse: 0.9063\n",
      "Epoch 4/30\n",
      "250/250 [==============================] - 3s 13ms/step - loss: 0.8608 - mse: 0.8606 - val_loss: 0.8833 - val_mse: 0.8831\n"
     ]
    },
    {
     "name": "stderr",
     "output_type": "stream",
     "text": [
      "WARNING:absl:Found untraced functions such as dropout_layer_call_fn, dropout_layer_call_and_return_conditional_losses, dropout_1_layer_call_fn, dropout_1_layer_call_and_return_conditional_losses, dropout_2_layer_call_fn while saving (showing 5 of 12). These functions will not be directly callable after loading.\n"
     ]
    },
    {
     "name": "stdout",
     "output_type": "stream",
     "text": [
      "Epoch 5/30\n",
      "250/250 [==============================] - 3s 13ms/step - loss: 0.8559 - mse: 0.8557 - val_loss: 0.8791 - val_mse: 0.8789\n"
     ]
    },
    {
     "name": "stderr",
     "output_type": "stream",
     "text": [
      "WARNING:absl:Found untraced functions such as dropout_layer_call_fn, dropout_layer_call_and_return_conditional_losses, dropout_1_layer_call_fn, dropout_1_layer_call_and_return_conditional_losses, dropout_2_layer_call_fn while saving (showing 5 of 12). These functions will not be directly callable after loading.\n"
     ]
    },
    {
     "name": "stdout",
     "output_type": "stream",
     "text": [
      "Epoch 6/30\n",
      "250/250 [==============================] - 3s 13ms/step - loss: 0.8524 - mse: 0.8521 - val_loss: 0.8821 - val_mse: 0.8818\n",
      "Epoch 7/30\n",
      "250/250 [==============================] - 3s 13ms/step - loss: 0.8479 - mse: 0.8477 - val_loss: 0.8752 - val_mse: 0.8749\n"
     ]
    },
    {
     "name": "stderr",
     "output_type": "stream",
     "text": [
      "WARNING:absl:Found untraced functions such as dropout_layer_call_fn, dropout_layer_call_and_return_conditional_losses, dropout_1_layer_call_fn, dropout_1_layer_call_and_return_conditional_losses, dropout_2_layer_call_fn while saving (showing 5 of 12). These functions will not be directly callable after loading.\n"
     ]
    },
    {
     "name": "stdout",
     "output_type": "stream",
     "text": [
      "Epoch 8/30\n",
      "250/250 [==============================] - 3s 13ms/step - loss: 0.8367 - mse: 0.8365 - val_loss: 0.8741 - val_mse: 0.8738\n"
     ]
    },
    {
     "name": "stderr",
     "output_type": "stream",
     "text": [
      "WARNING:absl:Found untraced functions such as dropout_layer_call_fn, dropout_layer_call_and_return_conditional_losses, dropout_1_layer_call_fn, dropout_1_layer_call_and_return_conditional_losses, dropout_2_layer_call_fn while saving (showing 5 of 12). These functions will not be directly callable after loading.\n"
     ]
    },
    {
     "name": "stdout",
     "output_type": "stream",
     "text": [
      "Epoch 9/30\n",
      "250/250 [==============================] - 3s 13ms/step - loss: 0.8258 - mse: 0.8255 - val_loss: 0.8654 - val_mse: 0.8651\n"
     ]
    },
    {
     "name": "stderr",
     "output_type": "stream",
     "text": [
      "WARNING:absl:Found untraced functions such as dropout_layer_call_fn, dropout_layer_call_and_return_conditional_losses, dropout_1_layer_call_fn, dropout_1_layer_call_and_return_conditional_losses, dropout_2_layer_call_fn while saving (showing 5 of 12). These functions will not be directly callable after loading.\n"
     ]
    },
    {
     "name": "stdout",
     "output_type": "stream",
     "text": [
      "Epoch 10/30\n",
      "250/250 [==============================] - 3s 13ms/step - loss: 0.8176 - mse: 0.8173 - val_loss: 0.8776 - val_mse: 0.8772\n",
      "Epoch 11/30\n",
      "250/250 [==============================] - 3s 13ms/step - loss: 0.8164 - mse: 0.8160 - val_loss: 0.8635 - val_mse: 0.8631\n"
     ]
    },
    {
     "name": "stderr",
     "output_type": "stream",
     "text": [
      "WARNING:absl:Found untraced functions such as dropout_layer_call_fn, dropout_layer_call_and_return_conditional_losses, dropout_1_layer_call_fn, dropout_1_layer_call_and_return_conditional_losses, dropout_2_layer_call_fn while saving (showing 5 of 12). These functions will not be directly callable after loading.\n"
     ]
    },
    {
     "name": "stdout",
     "output_type": "stream",
     "text": [
      "Epoch 12/30\n",
      "250/250 [==============================] - 3s 13ms/step - loss: 0.8049 - mse: 0.8045 - val_loss: 0.8637 - val_mse: 0.8632\n",
      "Epoch 13/30\n",
      "250/250 [==============================] - 3s 13ms/step - loss: 0.7958 - mse: 0.7953 - val_loss: 0.8664 - val_mse: 0.8659\n",
      "Epoch 14/30\n",
      "250/250 [==============================] - 3s 13ms/step - loss: 0.7916 - mse: 0.7910 - val_loss: 0.8786 - val_mse: 0.8781\n",
      "Epoch 15/30\n",
      "250/250 [==============================] - 3s 13ms/step - loss: 0.7818 - mse: 0.7812 - val_loss: 0.8833 - val_mse: 0.8828\n",
      "Epoch 16/30\n",
      "250/250 [==============================] - 3s 13ms/step - loss: 0.7730 - mse: 0.7724 - val_loss: 0.8704 - val_mse: 0.8698\n",
      "test MSE 0.8776\n",
      "Epoch 1/30\n",
      "250/250 [==============================] - 7s 14ms/step - loss: 1.7331 - mse: 1.7331 - val_loss: 0.9074 - val_mse: 0.9073\n"
     ]
    },
    {
     "name": "stderr",
     "output_type": "stream",
     "text": [
      "WARNING:absl:Found untraced functions such as dropout_layer_call_fn, dropout_layer_call_and_return_conditional_losses, dropout_1_layer_call_fn, dropout_1_layer_call_and_return_conditional_losses, dropout_2_layer_call_fn while saving (showing 5 of 12). These functions will not be directly callable after loading.\n"
     ]
    },
    {
     "name": "stdout",
     "output_type": "stream",
     "text": [
      "Epoch 2/30\n",
      "250/250 [==============================] - 3s 13ms/step - loss: 0.8843 - mse: 0.8842 - val_loss: 0.8993 - val_mse: 0.8992\n"
     ]
    },
    {
     "name": "stderr",
     "output_type": "stream",
     "text": [
      "WARNING:absl:Found untraced functions such as dropout_layer_call_fn, dropout_layer_call_and_return_conditional_losses, dropout_1_layer_call_fn, dropout_1_layer_call_and_return_conditional_losses, dropout_2_layer_call_fn while saving (showing 5 of 12). These functions will not be directly callable after loading.\n"
     ]
    },
    {
     "name": "stdout",
     "output_type": "stream",
     "text": [
      "Epoch 3/30\n",
      "250/250 [==============================] - 3s 13ms/step - loss: 0.8684 - mse: 0.8683 - val_loss: 0.9085 - val_mse: 0.9083\n",
      "Epoch 4/30\n",
      "250/250 [==============================] - 3s 13ms/step - loss: 0.8622 - mse: 0.8620 - val_loss: 0.8986 - val_mse: 0.8984\n"
     ]
    },
    {
     "name": "stderr",
     "output_type": "stream",
     "text": [
      "WARNING:absl:Found untraced functions such as dropout_layer_call_fn, dropout_layer_call_and_return_conditional_losses, dropout_1_layer_call_fn, dropout_1_layer_call_and_return_conditional_losses, dropout_2_layer_call_fn while saving (showing 5 of 12). These functions will not be directly callable after loading.\n"
     ]
    },
    {
     "name": "stdout",
     "output_type": "stream",
     "text": [
      "Epoch 5/30\n",
      "250/250 [==============================] - 3s 14ms/step - loss: 0.8600 - mse: 0.8599 - val_loss: 0.8866 - val_mse: 0.8864\n"
     ]
    },
    {
     "name": "stderr",
     "output_type": "stream",
     "text": [
      "WARNING:absl:Found untraced functions such as dropout_layer_call_fn, dropout_layer_call_and_return_conditional_losses, dropout_1_layer_call_fn, dropout_1_layer_call_and_return_conditional_losses, dropout_2_layer_call_fn while saving (showing 5 of 12). These functions will not be directly callable after loading.\n"
     ]
    },
    {
     "name": "stdout",
     "output_type": "stream",
     "text": [
      "Epoch 6/30\n",
      "250/250 [==============================] - 3s 14ms/step - loss: 0.8464 - mse: 0.8462 - val_loss: 0.9048 - val_mse: 0.9045\n",
      "Epoch 7/30\n",
      "250/250 [==============================] - 3s 13ms/step - loss: 0.8319 - mse: 0.8316 - val_loss: 0.8756 - val_mse: 0.8754\n"
     ]
    },
    {
     "name": "stderr",
     "output_type": "stream",
     "text": [
      "WARNING:absl:Found untraced functions such as dropout_layer_call_fn, dropout_layer_call_and_return_conditional_losses, dropout_1_layer_call_fn, dropout_1_layer_call_and_return_conditional_losses, dropout_2_layer_call_fn while saving (showing 5 of 12). These functions will not be directly callable after loading.\n"
     ]
    },
    {
     "name": "stdout",
     "output_type": "stream",
     "text": [
      "Epoch 8/30\n",
      "250/250 [==============================] - 3s 13ms/step - loss: 0.8239 - mse: 0.8236 - val_loss: 0.8851 - val_mse: 0.8848\n",
      "Epoch 9/30\n",
      "250/250 [==============================] - 3s 13ms/step - loss: 0.8150 - mse: 0.8146 - val_loss: 0.8718 - val_mse: 0.8715\n"
     ]
    },
    {
     "name": "stderr",
     "output_type": "stream",
     "text": [
      "WARNING:absl:Found untraced functions such as dropout_layer_call_fn, dropout_layer_call_and_return_conditional_losses, dropout_1_layer_call_fn, dropout_1_layer_call_and_return_conditional_losses, dropout_2_layer_call_fn while saving (showing 5 of 12). These functions will not be directly callable after loading.\n"
     ]
    },
    {
     "name": "stdout",
     "output_type": "stream",
     "text": [
      "Epoch 10/30\n",
      "250/250 [==============================] - 3s 13ms/step - loss: 0.8041 - mse: 0.8038 - val_loss: 0.8700 - val_mse: 0.8696\n"
     ]
    },
    {
     "name": "stderr",
     "output_type": "stream",
     "text": [
      "WARNING:absl:Found untraced functions such as dropout_layer_call_fn, dropout_layer_call_and_return_conditional_losses, dropout_1_layer_call_fn, dropout_1_layer_call_and_return_conditional_losses, dropout_2_layer_call_fn while saving (showing 5 of 12). These functions will not be directly callable after loading.\n"
     ]
    },
    {
     "name": "stdout",
     "output_type": "stream",
     "text": [
      "Epoch 11/30\n",
      "250/250 [==============================] - 3s 13ms/step - loss: 0.7995 - mse: 0.7991 - val_loss: 0.8688 - val_mse: 0.8684\n"
     ]
    },
    {
     "name": "stderr",
     "output_type": "stream",
     "text": [
      "WARNING:absl:Found untraced functions such as dropout_layer_call_fn, dropout_layer_call_and_return_conditional_losses, dropout_1_layer_call_fn, dropout_1_layer_call_and_return_conditional_losses, dropout_2_layer_call_fn while saving (showing 5 of 12). These functions will not be directly callable after loading.\n"
     ]
    },
    {
     "name": "stdout",
     "output_type": "stream",
     "text": [
      "Epoch 12/30\n",
      "250/250 [==============================] - 3s 14ms/step - loss: 0.7868 - mse: 0.7863 - val_loss: 0.8659 - val_mse: 0.8655\n"
     ]
    },
    {
     "name": "stderr",
     "output_type": "stream",
     "text": [
      "WARNING:absl:Found untraced functions such as dropout_layer_call_fn, dropout_layer_call_and_return_conditional_losses, dropout_1_layer_call_fn, dropout_1_layer_call_and_return_conditional_losses, dropout_2_layer_call_fn while saving (showing 5 of 12). These functions will not be directly callable after loading.\n"
     ]
    },
    {
     "name": "stdout",
     "output_type": "stream",
     "text": [
      "Epoch 13/30\n",
      "250/250 [==============================] - 3s 13ms/step - loss: 0.7778 - mse: 0.7773 - val_loss: 0.8704 - val_mse: 0.8699\n",
      "Epoch 14/30\n",
      "250/250 [==============================] - 3s 13ms/step - loss: 0.7710 - mse: 0.7705 - val_loss: 0.8859 - val_mse: 0.8854\n",
      "Epoch 15/30\n",
      "250/250 [==============================] - 3s 13ms/step - loss: 0.7653 - mse: 0.7648 - val_loss: 0.8775 - val_mse: 0.8769\n",
      "Epoch 16/30\n",
      "250/250 [==============================] - 3s 14ms/step - loss: 0.7532 - mse: 0.7526 - val_loss: 0.8909 - val_mse: 0.8903\n",
      "Epoch 17/30\n",
      "250/250 [==============================] - 3s 13ms/step - loss: 0.7433 - mse: 0.7427 - val_loss: 0.8729 - val_mse: 0.8722\n",
      "test MSE 0.8581\n",
      "Epoch 1/30\n",
      "250/250 [==============================] - 8s 19ms/step - loss: 1.8178 - mse: 1.8177 - val_loss: 0.9114 - val_mse: 0.9114\n"
     ]
    },
    {
     "name": "stderr",
     "output_type": "stream",
     "text": [
      "WARNING:absl:Found untraced functions such as dropout_layer_call_fn, dropout_layer_call_and_return_conditional_losses, dropout_1_layer_call_fn, dropout_1_layer_call_and_return_conditional_losses, dropout_2_layer_call_fn while saving (showing 5 of 12). These functions will not be directly callable after loading.\n"
     ]
    },
    {
     "name": "stdout",
     "output_type": "stream",
     "text": [
      "Epoch 2/30\n",
      "250/250 [==============================] - 3s 13ms/step - loss: 0.8835 - mse: 0.8834 - val_loss: 0.8944 - val_mse: 0.8943\n"
     ]
    },
    {
     "name": "stderr",
     "output_type": "stream",
     "text": [
      "WARNING:absl:Found untraced functions such as dropout_layer_call_fn, dropout_layer_call_and_return_conditional_losses, dropout_1_layer_call_fn, dropout_1_layer_call_and_return_conditional_losses, dropout_2_layer_call_fn while saving (showing 5 of 12). These functions will not be directly callable after loading.\n"
     ]
    },
    {
     "name": "stdout",
     "output_type": "stream",
     "text": [
      "Epoch 3/30\n",
      "250/250 [==============================] - 3s 13ms/step - loss: 0.8683 - mse: 0.8682 - val_loss: 0.9080 - val_mse: 0.9079\n",
      "Epoch 4/30\n",
      "250/250 [==============================] - 3s 14ms/step - loss: 0.8657 - mse: 0.8655 - val_loss: 0.8848 - val_mse: 0.8846\n"
     ]
    },
    {
     "name": "stderr",
     "output_type": "stream",
     "text": [
      "WARNING:absl:Found untraced functions such as dropout_layer_call_fn, dropout_layer_call_and_return_conditional_losses, dropout_1_layer_call_fn, dropout_1_layer_call_and_return_conditional_losses, dropout_2_layer_call_fn while saving (showing 5 of 12). These functions will not be directly callable after loading.\n"
     ]
    },
    {
     "name": "stdout",
     "output_type": "stream",
     "text": [
      "Epoch 5/30\n",
      "250/250 [==============================] - 3s 14ms/step - loss: 0.8585 - mse: 0.8583 - val_loss: 0.8844 - val_mse: 0.8842\n"
     ]
    },
    {
     "name": "stderr",
     "output_type": "stream",
     "text": [
      "WARNING:absl:Found untraced functions such as dropout_layer_call_fn, dropout_layer_call_and_return_conditional_losses, dropout_1_layer_call_fn, dropout_1_layer_call_and_return_conditional_losses, dropout_2_layer_call_fn while saving (showing 5 of 12). These functions will not be directly callable after loading.\n"
     ]
    },
    {
     "name": "stdout",
     "output_type": "stream",
     "text": [
      "Epoch 6/30\n",
      "250/250 [==============================] - 3s 13ms/step - loss: 0.8542 - mse: 0.8540 - val_loss: 0.8963 - val_mse: 0.8960\n",
      "Epoch 7/30\n",
      "250/250 [==============================] - 3s 14ms/step - loss: 0.8525 - mse: 0.8522 - val_loss: 0.8839 - val_mse: 0.8836\n"
     ]
    },
    {
     "name": "stderr",
     "output_type": "stream",
     "text": [
      "WARNING:absl:Found untraced functions such as dropout_layer_call_fn, dropout_layer_call_and_return_conditional_losses, dropout_1_layer_call_fn, dropout_1_layer_call_and_return_conditional_losses, dropout_2_layer_call_fn while saving (showing 5 of 12). These functions will not be directly callable after loading.\n"
     ]
    },
    {
     "name": "stdout",
     "output_type": "stream",
     "text": [
      "Epoch 8/30\n",
      "250/250 [==============================] - 3s 14ms/step - loss: 0.8454 - mse: 0.8451 - val_loss: 0.8781 - val_mse: 0.8778\n"
     ]
    },
    {
     "name": "stderr",
     "output_type": "stream",
     "text": [
      "WARNING:absl:Found untraced functions such as dropout_layer_call_fn, dropout_layer_call_and_return_conditional_losses, dropout_1_layer_call_fn, dropout_1_layer_call_and_return_conditional_losses, dropout_2_layer_call_fn while saving (showing 5 of 12). These functions will not be directly callable after loading.\n"
     ]
    },
    {
     "name": "stdout",
     "output_type": "stream",
     "text": [
      "Epoch 9/30\n",
      "250/250 [==============================] - 3s 13ms/step - loss: 0.8325 - mse: 0.8322 - val_loss: 0.8794 - val_mse: 0.8790\n",
      "Epoch 10/30\n",
      "250/250 [==============================] - 3s 14ms/step - loss: 0.8234 - mse: 0.8231 - val_loss: 0.8687 - val_mse: 0.8683\n"
     ]
    },
    {
     "name": "stderr",
     "output_type": "stream",
     "text": [
      "WARNING:absl:Found untraced functions such as dropout_layer_call_fn, dropout_layer_call_and_return_conditional_losses, dropout_1_layer_call_fn, dropout_1_layer_call_and_return_conditional_losses, dropout_2_layer_call_fn while saving (showing 5 of 12). These functions will not be directly callable after loading.\n"
     ]
    },
    {
     "name": "stdout",
     "output_type": "stream",
     "text": [
      "Epoch 11/30\n",
      "250/250 [==============================] - 3s 14ms/step - loss: 0.8105 - mse: 0.8101 - val_loss: 0.8749 - val_mse: 0.8744\n",
      "Epoch 12/30\n",
      "250/250 [==============================] - 3s 13ms/step - loss: 0.8025 - mse: 0.8021 - val_loss: 0.8657 - val_mse: 0.8652\n"
     ]
    },
    {
     "name": "stderr",
     "output_type": "stream",
     "text": [
      "WARNING:absl:Found untraced functions such as dropout_layer_call_fn, dropout_layer_call_and_return_conditional_losses, dropout_1_layer_call_fn, dropout_1_layer_call_and_return_conditional_losses, dropout_2_layer_call_fn while saving (showing 5 of 12). These functions will not be directly callable after loading.\n"
     ]
    },
    {
     "name": "stdout",
     "output_type": "stream",
     "text": [
      "Epoch 13/30\n",
      "250/250 [==============================] - 3s 13ms/step - loss: 0.7958 - mse: 0.7953 - val_loss: 0.8658 - val_mse: 0.8653\n",
      "Epoch 14/30\n",
      "250/250 [==============================] - 3s 13ms/step - loss: 0.7872 - mse: 0.7866 - val_loss: 0.8643 - val_mse: 0.8637\n"
     ]
    },
    {
     "name": "stderr",
     "output_type": "stream",
     "text": [
      "WARNING:absl:Found untraced functions such as dropout_layer_call_fn, dropout_layer_call_and_return_conditional_losses, dropout_1_layer_call_fn, dropout_1_layer_call_and_return_conditional_losses, dropout_2_layer_call_fn while saving (showing 5 of 12). These functions will not be directly callable after loading.\n"
     ]
    },
    {
     "name": "stdout",
     "output_type": "stream",
     "text": [
      "Epoch 15/30\n",
      "250/250 [==============================] - 3s 14ms/step - loss: 0.7740 - mse: 0.7735 - val_loss: 0.8645 - val_mse: 0.8639\n",
      "Epoch 16/30\n",
      "250/250 [==============================] - 3s 13ms/step - loss: 0.7651 - mse: 0.7645 - val_loss: 0.8642 - val_mse: 0.8636\n"
     ]
    },
    {
     "name": "stderr",
     "output_type": "stream",
     "text": [
      "WARNING:absl:Found untraced functions such as dropout_layer_call_fn, dropout_layer_call_and_return_conditional_losses, dropout_1_layer_call_fn, dropout_1_layer_call_and_return_conditional_losses, dropout_2_layer_call_fn while saving (showing 5 of 12). These functions will not be directly callable after loading.\n"
     ]
    },
    {
     "name": "stdout",
     "output_type": "stream",
     "text": [
      "Epoch 17/30\n",
      "250/250 [==============================] - 3s 14ms/step - loss: 0.7530 - mse: 0.7523 - val_loss: 0.8698 - val_mse: 0.8691\n",
      "Epoch 18/30\n",
      "250/250 [==============================] - 3s 13ms/step - loss: 0.7430 - mse: 0.7423 - val_loss: 0.8824 - val_mse: 0.8817\n",
      "Epoch 19/30\n",
      "250/250 [==============================] - 3s 13ms/step - loss: 0.7329 - mse: 0.7322 - val_loss: 0.8692 - val_mse: 0.8684\n",
      "Epoch 20/30\n",
      "250/250 [==============================] - 3s 13ms/step - loss: 0.7236 - mse: 0.7229 - val_loss: 0.8752 - val_mse: 0.8744\n",
      "Epoch 21/30\n",
      "250/250 [==============================] - 3s 13ms/step - loss: 0.7141 - mse: 0.7133 - val_loss: 0.8708 - val_mse: 0.8700\n",
      "test MSE 0.8604\n",
      "Epoch 1/30\n",
      "250/250 [==============================] - 8s 15ms/step - loss: 1.8270 - mse: 1.8270 - val_loss: 0.8971 - val_mse: 0.8970\n"
     ]
    },
    {
     "name": "stderr",
     "output_type": "stream",
     "text": [
      "WARNING:absl:Found untraced functions such as dropout_layer_call_fn, dropout_layer_call_and_return_conditional_losses, dropout_1_layer_call_fn, dropout_1_layer_call_and_return_conditional_losses, dropout_2_layer_call_fn while saving (showing 5 of 12). These functions will not be directly callable after loading.\n"
     ]
    },
    {
     "name": "stdout",
     "output_type": "stream",
     "text": [
      "Epoch 2/30\n",
      "250/250 [==============================] - 3s 13ms/step - loss: 0.8809 - mse: 0.8808 - val_loss: 0.8846 - val_mse: 0.8845\n"
     ]
    },
    {
     "name": "stderr",
     "output_type": "stream",
     "text": [
      "WARNING:absl:Found untraced functions such as dropout_layer_call_fn, dropout_layer_call_and_return_conditional_losses, dropout_1_layer_call_fn, dropout_1_layer_call_and_return_conditional_losses, dropout_2_layer_call_fn while saving (showing 5 of 12). These functions will not be directly callable after loading.\n"
     ]
    },
    {
     "name": "stdout",
     "output_type": "stream",
     "text": [
      "Epoch 3/30\n",
      "250/250 [==============================] - 3s 14ms/step - loss: 0.8666 - mse: 0.8665 - val_loss: 0.8849 - val_mse: 0.8847\n",
      "Epoch 4/30\n",
      "250/250 [==============================] - 3s 14ms/step - loss: 0.8590 - mse: 0.8589 - val_loss: 0.8836 - val_mse: 0.8834\n"
     ]
    },
    {
     "name": "stderr",
     "output_type": "stream",
     "text": [
      "WARNING:absl:Found untraced functions such as dropout_layer_call_fn, dropout_layer_call_and_return_conditional_losses, dropout_1_layer_call_fn, dropout_1_layer_call_and_return_conditional_losses, dropout_2_layer_call_fn while saving (showing 5 of 12). These functions will not be directly callable after loading.\n"
     ]
    },
    {
     "name": "stdout",
     "output_type": "stream",
     "text": [
      "Epoch 5/30\n",
      "250/250 [==============================] - 3s 14ms/step - loss: 0.8556 - mse: 0.8554 - val_loss: 0.8836 - val_mse: 0.8834\n"
     ]
    },
    {
     "name": "stderr",
     "output_type": "stream",
     "text": [
      "WARNING:absl:Found untraced functions such as dropout_layer_call_fn, dropout_layer_call_and_return_conditional_losses, dropout_1_layer_call_fn, dropout_1_layer_call_and_return_conditional_losses, dropout_2_layer_call_fn while saving (showing 5 of 12). These functions will not be directly callable after loading.\n"
     ]
    },
    {
     "name": "stdout",
     "output_type": "stream",
     "text": [
      "Epoch 6/30\n",
      "250/250 [==============================] - 3s 13ms/step - loss: 0.8530 - mse: 0.8528 - val_loss: 0.8840 - val_mse: 0.8837\n",
      "Epoch 7/30\n",
      "250/250 [==============================] - 3s 13ms/step - loss: 0.8484 - mse: 0.8481 - val_loss: 0.8786 - val_mse: 0.8783\n"
     ]
    },
    {
     "name": "stderr",
     "output_type": "stream",
     "text": [
      "WARNING:absl:Found untraced functions such as dropout_layer_call_fn, dropout_layer_call_and_return_conditional_losses, dropout_1_layer_call_fn, dropout_1_layer_call_and_return_conditional_losses, dropout_2_layer_call_fn while saving (showing 5 of 12). These functions will not be directly callable after loading.\n"
     ]
    },
    {
     "name": "stdout",
     "output_type": "stream",
     "text": [
      "Epoch 8/30\n",
      "250/250 [==============================] - 3s 14ms/step - loss: 0.8382 - mse: 0.8379 - val_loss: 0.8714 - val_mse: 0.8711\n"
     ]
    },
    {
     "name": "stderr",
     "output_type": "stream",
     "text": [
      "WARNING:absl:Found untraced functions such as dropout_layer_call_fn, dropout_layer_call_and_return_conditional_losses, dropout_1_layer_call_fn, dropout_1_layer_call_and_return_conditional_losses, dropout_2_layer_call_fn while saving (showing 5 of 12). These functions will not be directly callable after loading.\n"
     ]
    },
    {
     "name": "stdout",
     "output_type": "stream",
     "text": [
      "Epoch 9/30\n",
      "250/250 [==============================] - 3s 14ms/step - loss: 0.8253 - mse: 0.8250 - val_loss: 0.8779 - val_mse: 0.8776\n",
      "Epoch 10/30\n",
      "250/250 [==============================] - 3s 14ms/step - loss: 0.8193 - mse: 0.8189 - val_loss: 0.8694 - val_mse: 0.8691\n"
     ]
    },
    {
     "name": "stderr",
     "output_type": "stream",
     "text": [
      "WARNING:absl:Found untraced functions such as dropout_layer_call_fn, dropout_layer_call_and_return_conditional_losses, dropout_1_layer_call_fn, dropout_1_layer_call_and_return_conditional_losses, dropout_2_layer_call_fn while saving (showing 5 of 12). These functions will not be directly callable after loading.\n"
     ]
    },
    {
     "name": "stdout",
     "output_type": "stream",
     "text": [
      "Epoch 11/30\n",
      "250/250 [==============================] - 3s 14ms/step - loss: 0.8081 - mse: 0.8077 - val_loss: 0.8692 - val_mse: 0.8687\n"
     ]
    },
    {
     "name": "stderr",
     "output_type": "stream",
     "text": [
      "WARNING:absl:Found untraced functions such as dropout_layer_call_fn, dropout_layer_call_and_return_conditional_losses, dropout_1_layer_call_fn, dropout_1_layer_call_and_return_conditional_losses, dropout_2_layer_call_fn while saving (showing 5 of 12). These functions will not be directly callable after loading.\n"
     ]
    },
    {
     "name": "stdout",
     "output_type": "stream",
     "text": [
      "Epoch 12/30\n",
      "250/250 [==============================] - 3s 14ms/step - loss: 0.8001 - mse: 0.7997 - val_loss: 0.8644 - val_mse: 0.8639\n"
     ]
    },
    {
     "name": "stderr",
     "output_type": "stream",
     "text": [
      "WARNING:absl:Found untraced functions such as dropout_layer_call_fn, dropout_layer_call_and_return_conditional_losses, dropout_1_layer_call_fn, dropout_1_layer_call_and_return_conditional_losses, dropout_2_layer_call_fn while saving (showing 5 of 12). These functions will not be directly callable after loading.\n"
     ]
    },
    {
     "name": "stdout",
     "output_type": "stream",
     "text": [
      "Epoch 13/30\n",
      "250/250 [==============================] - 3s 14ms/step - loss: 0.7898 - mse: 0.7893 - val_loss: 0.8653 - val_mse: 0.8648\n",
      "Epoch 14/30\n",
      "250/250 [==============================] - 3s 14ms/step - loss: 0.7873 - mse: 0.7867 - val_loss: 0.8646 - val_mse: 0.8641\n",
      "Epoch 15/30\n",
      "250/250 [==============================] - 3s 14ms/step - loss: 0.7733 - mse: 0.7727 - val_loss: 0.8651 - val_mse: 0.8645\n",
      "Epoch 16/30\n",
      "250/250 [==============================] - 3s 13ms/step - loss: 0.7651 - mse: 0.7645 - val_loss: 0.8768 - val_mse: 0.8761\n",
      "Epoch 17/30\n",
      "250/250 [==============================] - 3s 13ms/step - loss: 0.7533 - mse: 0.7526 - val_loss: 0.8814 - val_mse: 0.8807\n",
      "test MSE 0.8687\n",
      "Epoch 1/30\n",
      "250/250 [==============================] - 7s 16ms/step - loss: 1.7608 - mse: 1.7607 - val_loss: 0.9087 - val_mse: 0.9087\n"
     ]
    },
    {
     "name": "stderr",
     "output_type": "stream",
     "text": [
      "WARNING:absl:Found untraced functions such as dropout_layer_call_fn, dropout_layer_call_and_return_conditional_losses, dropout_1_layer_call_fn, dropout_1_layer_call_and_return_conditional_losses, dropout_2_layer_call_fn while saving (showing 5 of 12). These functions will not be directly callable after loading.\n"
     ]
    },
    {
     "name": "stdout",
     "output_type": "stream",
     "text": [
      "Epoch 2/30\n",
      "250/250 [==============================] - 3s 13ms/step - loss: 0.8827 - mse: 0.8826 - val_loss: 0.8797 - val_mse: 0.8796\n"
     ]
    },
    {
     "name": "stderr",
     "output_type": "stream",
     "text": [
      "WARNING:absl:Found untraced functions such as dropout_layer_call_fn, dropout_layer_call_and_return_conditional_losses, dropout_1_layer_call_fn, dropout_1_layer_call_and_return_conditional_losses, dropout_2_layer_call_fn while saving (showing 5 of 12). These functions will not be directly callable after loading.\n"
     ]
    },
    {
     "name": "stdout",
     "output_type": "stream",
     "text": [
      "Epoch 3/30\n",
      "250/250 [==============================] - 3s 14ms/step - loss: 0.8677 - mse: 0.8675 - val_loss: 0.8801 - val_mse: 0.8799\n",
      "Epoch 4/30\n",
      "250/250 [==============================] - 3s 13ms/step - loss: 0.8594 - mse: 0.8593 - val_loss: 0.8801 - val_mse: 0.8799\n",
      "Epoch 5/30\n",
      "250/250 [==============================] - 3s 13ms/step - loss: 0.8580 - mse: 0.8578 - val_loss: 0.8815 - val_mse: 0.8813\n",
      "Epoch 6/30\n",
      "250/250 [==============================] - 3s 13ms/step - loss: 0.8570 - mse: 0.8568 - val_loss: 0.8787 - val_mse: 0.8784\n"
     ]
    },
    {
     "name": "stderr",
     "output_type": "stream",
     "text": [
      "WARNING:absl:Found untraced functions such as dropout_layer_call_fn, dropout_layer_call_and_return_conditional_losses, dropout_1_layer_call_fn, dropout_1_layer_call_and_return_conditional_losses, dropout_2_layer_call_fn while saving (showing 5 of 12). These functions will not be directly callable after loading.\n"
     ]
    },
    {
     "name": "stdout",
     "output_type": "stream",
     "text": [
      "Epoch 7/30\n",
      "250/250 [==============================] - 3s 13ms/step - loss: 0.8488 - mse: 0.8486 - val_loss: 0.8732 - val_mse: 0.8730\n"
     ]
    },
    {
     "name": "stderr",
     "output_type": "stream",
     "text": [
      "WARNING:absl:Found untraced functions such as dropout_layer_call_fn, dropout_layer_call_and_return_conditional_losses, dropout_1_layer_call_fn, dropout_1_layer_call_and_return_conditional_losses, dropout_2_layer_call_fn while saving (showing 5 of 12). These functions will not be directly callable after loading.\n"
     ]
    },
    {
     "name": "stdout",
     "output_type": "stream",
     "text": [
      "Epoch 8/30\n",
      "250/250 [==============================] - 3s 13ms/step - loss: 0.8371 - mse: 0.8368 - val_loss: 0.8673 - val_mse: 0.8670\n"
     ]
    },
    {
     "name": "stderr",
     "output_type": "stream",
     "text": [
      "WARNING:absl:Found untraced functions such as dropout_layer_call_fn, dropout_layer_call_and_return_conditional_losses, dropout_1_layer_call_fn, dropout_1_layer_call_and_return_conditional_losses, dropout_2_layer_call_fn while saving (showing 5 of 12). These functions will not be directly callable after loading.\n"
     ]
    },
    {
     "name": "stdout",
     "output_type": "stream",
     "text": [
      "Epoch 9/30\n",
      "250/250 [==============================] - 3s 14ms/step - loss: 0.8241 - mse: 0.8237 - val_loss: 0.8582 - val_mse: 0.8579\n"
     ]
    },
    {
     "name": "stderr",
     "output_type": "stream",
     "text": [
      "WARNING:absl:Found untraced functions such as dropout_layer_call_fn, dropout_layer_call_and_return_conditional_losses, dropout_1_layer_call_fn, dropout_1_layer_call_and_return_conditional_losses, dropout_2_layer_call_fn while saving (showing 5 of 12). These functions will not be directly callable after loading.\n"
     ]
    },
    {
     "name": "stdout",
     "output_type": "stream",
     "text": [
      "Epoch 10/30\n",
      "250/250 [==============================] - 3s 14ms/step - loss: 0.8161 - mse: 0.8157 - val_loss: 0.8558 - val_mse: 0.8554\n"
     ]
    },
    {
     "name": "stderr",
     "output_type": "stream",
     "text": [
      "WARNING:absl:Found untraced functions such as dropout_layer_call_fn, dropout_layer_call_and_return_conditional_losses, dropout_1_layer_call_fn, dropout_1_layer_call_and_return_conditional_losses, dropout_2_layer_call_fn while saving (showing 5 of 12). These functions will not be directly callable after loading.\n"
     ]
    },
    {
     "name": "stdout",
     "output_type": "stream",
     "text": [
      "Epoch 11/30\n",
      "250/250 [==============================] - 3s 13ms/step - loss: 0.8058 - mse: 0.8054 - val_loss: 0.8568 - val_mse: 0.8564\n",
      "Epoch 12/30\n",
      "250/250 [==============================] - 3s 13ms/step - loss: 0.7983 - mse: 0.7978 - val_loss: 0.8547 - val_mse: 0.8542\n"
     ]
    },
    {
     "name": "stderr",
     "output_type": "stream",
     "text": [
      "WARNING:absl:Found untraced functions such as dropout_layer_call_fn, dropout_layer_call_and_return_conditional_losses, dropout_1_layer_call_fn, dropout_1_layer_call_and_return_conditional_losses, dropout_2_layer_call_fn while saving (showing 5 of 12). These functions will not be directly callable after loading.\n"
     ]
    },
    {
     "name": "stdout",
     "output_type": "stream",
     "text": [
      "Epoch 13/30\n",
      "250/250 [==============================] - 3s 14ms/step - loss: 0.7880 - mse: 0.7875 - val_loss: 0.8601 - val_mse: 0.8596\n",
      "Epoch 14/30\n",
      "250/250 [==============================] - 3s 14ms/step - loss: 0.7823 - mse: 0.7817 - val_loss: 0.8579 - val_mse: 0.8573\n",
      "Epoch 15/30\n",
      "250/250 [==============================] - 3s 13ms/step - loss: 0.7767 - mse: 0.7761 - val_loss: 0.8799 - val_mse: 0.8793\n",
      "Epoch 16/30\n",
      "250/250 [==============================] - 3s 13ms/step - loss: 0.7695 - mse: 0.7689 - val_loss: 0.8585 - val_mse: 0.8579\n",
      "Epoch 17/30\n",
      "250/250 [==============================] - 3s 13ms/step - loss: 0.7622 - mse: 0.7615 - val_loss: 0.8645 - val_mse: 0.8638\n",
      "test MSE 0.8799\n"
     ]
    }
   ],
   "source": [
    "# WD\n",
    "dict_WD = {'linear_feature_columns': linear_feature_columns,\n",
    "           'dnn_feature_columns': dnn_feature_columns,\n",
    "           'task': 'regression'}\n",
    "ls_result = calc_nn_based_model(df_movie_all, \n",
    "                                WDL, dict_WD,\n",
    "                                feature_names, \n",
    "                                'movie_lens', 'WD')\n",
    "all_result.extend(ls_result)"
   ]
  },
  {
   "cell_type": "code",
   "execution_count": 32,
   "metadata": {},
   "outputs": [
    {
     "name": "stdout",
     "output_type": "stream",
     "text": [
      "CrossNet parameterization: vector\n",
      "Epoch 1/30\n",
      "250/250 [==============================] - 7s 15ms/step - loss: 1.7447 - mse: 1.7446 - val_loss: 0.9086 - val_mse: 0.9085\n"
     ]
    },
    {
     "name": "stderr",
     "output_type": "stream",
     "text": [
      "WARNING:absl:Found untraced functions such as dropout_layer_call_fn, dropout_layer_call_and_return_conditional_losses, dropout_1_layer_call_fn, dropout_1_layer_call_and_return_conditional_losses, dropout_2_layer_call_fn while saving (showing 5 of 12). These functions will not be directly callable after loading.\n"
     ]
    },
    {
     "name": "stdout",
     "output_type": "stream",
     "text": [
      "Epoch 2/30\n",
      "250/250 [==============================] - 3s 14ms/step - loss: 0.8820 - mse: 0.8818 - val_loss: 0.9011 - val_mse: 0.9010\n"
     ]
    },
    {
     "name": "stderr",
     "output_type": "stream",
     "text": [
      "WARNING:absl:Found untraced functions such as dropout_layer_call_fn, dropout_layer_call_and_return_conditional_losses, dropout_1_layer_call_fn, dropout_1_layer_call_and_return_conditional_losses, dropout_2_layer_call_fn while saving (showing 5 of 12). These functions will not be directly callable after loading.\n"
     ]
    },
    {
     "name": "stdout",
     "output_type": "stream",
     "text": [
      "Epoch 3/30\n",
      "250/250 [==============================] - 4s 14ms/step - loss: 0.8661 - mse: 0.8659 - val_loss: 0.8833 - val_mse: 0.8831\n"
     ]
    },
    {
     "name": "stderr",
     "output_type": "stream",
     "text": [
      "WARNING:absl:Found untraced functions such as dropout_layer_call_fn, dropout_layer_call_and_return_conditional_losses, dropout_1_layer_call_fn, dropout_1_layer_call_and_return_conditional_losses, dropout_2_layer_call_fn while saving (showing 5 of 12). These functions will not be directly callable after loading.\n"
     ]
    },
    {
     "name": "stdout",
     "output_type": "stream",
     "text": [
      "Epoch 4/30\n",
      "250/250 [==============================] - 3s 14ms/step - loss: 0.8582 - mse: 0.8580 - val_loss: 0.8835 - val_mse: 0.8833\n",
      "Epoch 5/30\n",
      "250/250 [==============================] - 3s 14ms/step - loss: 0.8565 - mse: 0.8562 - val_loss: 0.8914 - val_mse: 0.8911\n",
      "Epoch 6/30\n",
      "250/250 [==============================] - 3s 14ms/step - loss: 0.8518 - mse: 0.8515 - val_loss: 0.8917 - val_mse: 0.8914\n",
      "Epoch 7/30\n",
      "250/250 [==============================] - 4s 14ms/step - loss: 0.8464 - mse: 0.8461 - val_loss: 0.8787 - val_mse: 0.8784\n"
     ]
    },
    {
     "name": "stderr",
     "output_type": "stream",
     "text": [
      "WARNING:absl:Found untraced functions such as dropout_layer_call_fn, dropout_layer_call_and_return_conditional_losses, dropout_1_layer_call_fn, dropout_1_layer_call_and_return_conditional_losses, dropout_2_layer_call_fn while saving (showing 5 of 12). These functions will not be directly callable after loading.\n"
     ]
    },
    {
     "name": "stdout",
     "output_type": "stream",
     "text": [
      "Epoch 8/30\n",
      "250/250 [==============================] - 4s 14ms/step - loss: 0.8411 - mse: 0.8408 - val_loss: 0.8712 - val_mse: 0.8709\n"
     ]
    },
    {
     "name": "stderr",
     "output_type": "stream",
     "text": [
      "WARNING:absl:Found untraced functions such as dropout_layer_call_fn, dropout_layer_call_and_return_conditional_losses, dropout_1_layer_call_fn, dropout_1_layer_call_and_return_conditional_losses, dropout_2_layer_call_fn while saving (showing 5 of 12). These functions will not be directly callable after loading.\n"
     ]
    },
    {
     "name": "stdout",
     "output_type": "stream",
     "text": [
      "Epoch 9/30\n",
      "250/250 [==============================] - 4s 14ms/step - loss: 0.8289 - mse: 0.8286 - val_loss: 0.8651 - val_mse: 0.8647\n"
     ]
    },
    {
     "name": "stderr",
     "output_type": "stream",
     "text": [
      "WARNING:absl:Found untraced functions such as dropout_layer_call_fn, dropout_layer_call_and_return_conditional_losses, dropout_1_layer_call_fn, dropout_1_layer_call_and_return_conditional_losses, dropout_2_layer_call_fn while saving (showing 5 of 12). These functions will not be directly callable after loading.\n"
     ]
    },
    {
     "name": "stdout",
     "output_type": "stream",
     "text": [
      "Epoch 10/30\n",
      "250/250 [==============================] - 4s 14ms/step - loss: 0.8205 - mse: 0.8201 - val_loss: 0.8601 - val_mse: 0.8597\n"
     ]
    },
    {
     "name": "stderr",
     "output_type": "stream",
     "text": [
      "WARNING:absl:Found untraced functions such as dropout_layer_call_fn, dropout_layer_call_and_return_conditional_losses, dropout_1_layer_call_fn, dropout_1_layer_call_and_return_conditional_losses, dropout_2_layer_call_fn while saving (showing 5 of 12). These functions will not be directly callable after loading.\n"
     ]
    },
    {
     "name": "stdout",
     "output_type": "stream",
     "text": [
      "Epoch 11/30\n",
      "250/250 [==============================] - 4s 14ms/step - loss: 0.8128 - mse: 0.8123 - val_loss: 0.8603 - val_mse: 0.8598\n",
      "Epoch 12/30\n",
      "250/250 [==============================] - 3s 14ms/step - loss: 0.8062 - mse: 0.8057 - val_loss: 0.8639 - val_mse: 0.8634\n",
      "Epoch 13/30\n",
      "250/250 [==============================] - 4s 14ms/step - loss: 0.7988 - mse: 0.7983 - val_loss: 0.8673 - val_mse: 0.8668\n",
      "Epoch 14/30\n",
      "250/250 [==============================] - 4s 14ms/step - loss: 0.7901 - mse: 0.7895 - val_loss: 0.8631 - val_mse: 0.8625\n",
      "Epoch 15/30\n",
      "250/250 [==============================] - 3s 14ms/step - loss: 0.7821 - mse: 0.7814 - val_loss: 0.8614 - val_mse: 0.8608\n",
      "test MSE 0.8762\n",
      "CrossNet parameterization: vector\n",
      "Epoch 1/30\n",
      "250/250 [==============================] - 8s 15ms/step - loss: 1.7180 - mse: 1.7179 - val_loss: 0.9160 - val_mse: 0.9159\n"
     ]
    },
    {
     "name": "stderr",
     "output_type": "stream",
     "text": [
      "WARNING:absl:Found untraced functions such as dropout_layer_call_fn, dropout_layer_call_and_return_conditional_losses, dropout_1_layer_call_fn, dropout_1_layer_call_and_return_conditional_losses, dropout_2_layer_call_fn while saving (showing 5 of 12). These functions will not be directly callable after loading.\n"
     ]
    },
    {
     "name": "stdout",
     "output_type": "stream",
     "text": [
      "Epoch 2/30\n",
      "250/250 [==============================] - 3s 14ms/step - loss: 0.8808 - mse: 0.8807 - val_loss: 0.8956 - val_mse: 0.8954\n"
     ]
    },
    {
     "name": "stderr",
     "output_type": "stream",
     "text": [
      "WARNING:absl:Found untraced functions such as dropout_layer_call_fn, dropout_layer_call_and_return_conditional_losses, dropout_1_layer_call_fn, dropout_1_layer_call_and_return_conditional_losses, dropout_2_layer_call_fn while saving (showing 5 of 12). These functions will not be directly callable after loading.\n"
     ]
    },
    {
     "name": "stdout",
     "output_type": "stream",
     "text": [
      "Epoch 3/30\n",
      "250/250 [==============================] - 4s 14ms/step - loss: 0.8662 - mse: 0.8660 - val_loss: 0.8951 - val_mse: 0.8949\n"
     ]
    },
    {
     "name": "stderr",
     "output_type": "stream",
     "text": [
      "WARNING:absl:Found untraced functions such as dropout_layer_call_fn, dropout_layer_call_and_return_conditional_losses, dropout_1_layer_call_fn, dropout_1_layer_call_and_return_conditional_losses, dropout_2_layer_call_fn while saving (showing 5 of 12). These functions will not be directly callable after loading.\n"
     ]
    },
    {
     "name": "stdout",
     "output_type": "stream",
     "text": [
      "Epoch 4/30\n",
      "250/250 [==============================] - 4s 15ms/step - loss: 0.8605 - mse: 0.8603 - val_loss: 0.8984 - val_mse: 0.8982\n",
      "Epoch 5/30\n",
      "250/250 [==============================] - 4s 15ms/step - loss: 0.8564 - mse: 0.8562 - val_loss: 0.8862 - val_mse: 0.8859\n"
     ]
    },
    {
     "name": "stderr",
     "output_type": "stream",
     "text": [
      "WARNING:absl:Found untraced functions such as dropout_layer_call_fn, dropout_layer_call_and_return_conditional_losses, dropout_1_layer_call_fn, dropout_1_layer_call_and_return_conditional_losses, dropout_2_layer_call_fn while saving (showing 5 of 12). These functions will not be directly callable after loading.\n"
     ]
    },
    {
     "name": "stdout",
     "output_type": "stream",
     "text": [
      "Epoch 6/30\n",
      "250/250 [==============================] - 4s 15ms/step - loss: 0.8532 - mse: 0.8529 - val_loss: 0.8862 - val_mse: 0.8859\n"
     ]
    },
    {
     "name": "stderr",
     "output_type": "stream",
     "text": [
      "WARNING:absl:Found untraced functions such as dropout_layer_call_fn, dropout_layer_call_and_return_conditional_losses, dropout_1_layer_call_fn, dropout_1_layer_call_and_return_conditional_losses, dropout_2_layer_call_fn while saving (showing 5 of 12). These functions will not be directly callable after loading.\n"
     ]
    },
    {
     "name": "stdout",
     "output_type": "stream",
     "text": [
      "Epoch 7/30\n",
      "250/250 [==============================] - 4s 15ms/step - loss: 0.8513 - mse: 0.8510 - val_loss: 0.8831 - val_mse: 0.8828\n"
     ]
    },
    {
     "name": "stderr",
     "output_type": "stream",
     "text": [
      "WARNING:absl:Found untraced functions such as dropout_layer_call_fn, dropout_layer_call_and_return_conditional_losses, dropout_1_layer_call_fn, dropout_1_layer_call_and_return_conditional_losses, dropout_2_layer_call_fn while saving (showing 5 of 12). These functions will not be directly callable after loading.\n"
     ]
    },
    {
     "name": "stdout",
     "output_type": "stream",
     "text": [
      "Epoch 8/30\n",
      "250/250 [==============================] - 4s 15ms/step - loss: 0.8406 - mse: 0.8402 - val_loss: 0.8895 - val_mse: 0.8891\n",
      "Epoch 9/30\n",
      "250/250 [==============================] - 4s 15ms/step - loss: 0.8292 - mse: 0.8288 - val_loss: 0.8746 - val_mse: 0.8742\n"
     ]
    },
    {
     "name": "stderr",
     "output_type": "stream",
     "text": [
      "WARNING:absl:Found untraced functions such as dropout_layer_call_fn, dropout_layer_call_and_return_conditional_losses, dropout_1_layer_call_fn, dropout_1_layer_call_and_return_conditional_losses, dropout_2_layer_call_fn while saving (showing 5 of 12). These functions will not be directly callable after loading.\n"
     ]
    },
    {
     "name": "stdout",
     "output_type": "stream",
     "text": [
      "Epoch 10/30\n",
      "250/250 [==============================] - 4s 15ms/step - loss: 0.8174 - mse: 0.8170 - val_loss: 0.8676 - val_mse: 0.8671\n"
     ]
    },
    {
     "name": "stderr",
     "output_type": "stream",
     "text": [
      "WARNING:absl:Found untraced functions such as dropout_layer_call_fn, dropout_layer_call_and_return_conditional_losses, dropout_1_layer_call_fn, dropout_1_layer_call_and_return_conditional_losses, dropout_2_layer_call_fn while saving (showing 5 of 12). These functions will not be directly callable after loading.\n"
     ]
    },
    {
     "name": "stdout",
     "output_type": "stream",
     "text": [
      "Epoch 11/30\n",
      "250/250 [==============================] - 4s 15ms/step - loss: 0.8087 - mse: 0.8082 - val_loss: 0.8692 - val_mse: 0.8687\n",
      "Epoch 12/30\n",
      "250/250 [==============================] - 4s 15ms/step - loss: 0.7991 - mse: 0.7986 - val_loss: 0.8672 - val_mse: 0.8667\n"
     ]
    },
    {
     "name": "stderr",
     "output_type": "stream",
     "text": [
      "WARNING:absl:Found untraced functions such as dropout_layer_call_fn, dropout_layer_call_and_return_conditional_losses, dropout_1_layer_call_fn, dropout_1_layer_call_and_return_conditional_losses, dropout_2_layer_call_fn while saving (showing 5 of 12). These functions will not be directly callable after loading.\n"
     ]
    },
    {
     "name": "stdout",
     "output_type": "stream",
     "text": [
      "Epoch 13/30\n",
      "250/250 [==============================] - 4s 15ms/step - loss: 0.7910 - mse: 0.7905 - val_loss: 0.8734 - val_mse: 0.8729\n",
      "Epoch 14/30\n",
      "250/250 [==============================] - 4s 14ms/step - loss: 0.7817 - mse: 0.7811 - val_loss: 0.8647 - val_mse: 0.8641\n"
     ]
    },
    {
     "name": "stderr",
     "output_type": "stream",
     "text": [
      "WARNING:absl:Found untraced functions such as dropout_layer_call_fn, dropout_layer_call_and_return_conditional_losses, dropout_1_layer_call_fn, dropout_1_layer_call_and_return_conditional_losses, dropout_2_layer_call_fn while saving (showing 5 of 12). These functions will not be directly callable after loading.\n"
     ]
    },
    {
     "name": "stdout",
     "output_type": "stream",
     "text": [
      "Epoch 15/30\n",
      "250/250 [==============================] - 4s 14ms/step - loss: 0.7734 - mse: 0.7727 - val_loss: 0.8621 - val_mse: 0.8614\n"
     ]
    },
    {
     "name": "stderr",
     "output_type": "stream",
     "text": [
      "WARNING:absl:Found untraced functions such as dropout_layer_call_fn, dropout_layer_call_and_return_conditional_losses, dropout_1_layer_call_fn, dropout_1_layer_call_and_return_conditional_losses, dropout_2_layer_call_fn while saving (showing 5 of 12). These functions will not be directly callable after loading.\n"
     ]
    },
    {
     "name": "stdout",
     "output_type": "stream",
     "text": [
      "Epoch 16/30\n",
      "250/250 [==============================] - 4s 15ms/step - loss: 0.7637 - mse: 0.7630 - val_loss: 0.8745 - val_mse: 0.8738\n",
      "Epoch 17/30\n",
      "250/250 [==============================] - 4s 15ms/step - loss: 0.7544 - mse: 0.7536 - val_loss: 0.8634 - val_mse: 0.8626\n",
      "Epoch 18/30\n",
      "250/250 [==============================] - 4s 15ms/step - loss: 0.7433 - mse: 0.7425 - val_loss: 0.8656 - val_mse: 0.8648\n",
      "Epoch 19/30\n",
      "250/250 [==============================] - 4s 15ms/step - loss: 0.7342 - mse: 0.7334 - val_loss: 0.8723 - val_mse: 0.8715\n",
      "Epoch 20/30\n",
      "250/250 [==============================] - 4s 14ms/step - loss: 0.7265 - mse: 0.7257 - val_loss: 0.8801 - val_mse: 0.8792\n",
      "test MSE 0.8569\n",
      "CrossNet parameterization: vector\n",
      "Epoch 1/30\n",
      "250/250 [==============================] - 7s 14ms/step - loss: 1.7342 - mse: 1.7341 - val_loss: 0.9069 - val_mse: 0.9067\n"
     ]
    },
    {
     "name": "stderr",
     "output_type": "stream",
     "text": [
      "WARNING:absl:Found untraced functions such as dropout_layer_call_fn, dropout_layer_call_and_return_conditional_losses, dropout_1_layer_call_fn, dropout_1_layer_call_and_return_conditional_losses, dropout_2_layer_call_fn while saving (showing 5 of 12). These functions will not be directly callable after loading.\n"
     ]
    },
    {
     "name": "stdout",
     "output_type": "stream",
     "text": [
      "Epoch 2/30\n",
      "250/250 [==============================] - 4s 14ms/step - loss: 0.8841 - mse: 0.8839 - val_loss: 0.8910 - val_mse: 0.8909\n"
     ]
    },
    {
     "name": "stderr",
     "output_type": "stream",
     "text": [
      "WARNING:absl:Found untraced functions such as dropout_layer_call_fn, dropout_layer_call_and_return_conditional_losses, dropout_1_layer_call_fn, dropout_1_layer_call_and_return_conditional_losses, dropout_2_layer_call_fn while saving (showing 5 of 12). These functions will not be directly callable after loading.\n"
     ]
    },
    {
     "name": "stdout",
     "output_type": "stream",
     "text": [
      "Epoch 3/30\n",
      "250/250 [==============================] - 4s 15ms/step - loss: 0.8681 - mse: 0.8680 - val_loss: 0.8909 - val_mse: 0.8907\n"
     ]
    },
    {
     "name": "stderr",
     "output_type": "stream",
     "text": [
      "WARNING:absl:Found untraced functions such as dropout_layer_call_fn, dropout_layer_call_and_return_conditional_losses, dropout_1_layer_call_fn, dropout_1_layer_call_and_return_conditional_losses, dropout_2_layer_call_fn while saving (showing 5 of 12). These functions will not be directly callable after loading.\n"
     ]
    },
    {
     "name": "stdout",
     "output_type": "stream",
     "text": [
      "Epoch 4/30\n",
      "250/250 [==============================] - 4s 15ms/step - loss: 0.8627 - mse: 0.8625 - val_loss: 0.8908 - val_mse: 0.8906\n"
     ]
    },
    {
     "name": "stderr",
     "output_type": "stream",
     "text": [
      "WARNING:absl:Found untraced functions such as dropout_layer_call_fn, dropout_layer_call_and_return_conditional_losses, dropout_1_layer_call_fn, dropout_1_layer_call_and_return_conditional_losses, dropout_2_layer_call_fn while saving (showing 5 of 12). These functions will not be directly callable after loading.\n"
     ]
    },
    {
     "name": "stdout",
     "output_type": "stream",
     "text": [
      "Epoch 5/30\n",
      "250/250 [==============================] - 4s 14ms/step - loss: 0.8559 - mse: 0.8556 - val_loss: 0.8854 - val_mse: 0.8852\n"
     ]
    },
    {
     "name": "stderr",
     "output_type": "stream",
     "text": [
      "WARNING:absl:Found untraced functions such as dropout_layer_call_fn, dropout_layer_call_and_return_conditional_losses, dropout_1_layer_call_fn, dropout_1_layer_call_and_return_conditional_losses, dropout_2_layer_call_fn while saving (showing 5 of 12). These functions will not be directly callable after loading.\n"
     ]
    },
    {
     "name": "stdout",
     "output_type": "stream",
     "text": [
      "Epoch 6/30\n",
      "250/250 [==============================] - 4s 15ms/step - loss: 0.8475 - mse: 0.8473 - val_loss: 0.8807 - val_mse: 0.8804\n"
     ]
    },
    {
     "name": "stderr",
     "output_type": "stream",
     "text": [
      "WARNING:absl:Found untraced functions such as dropout_layer_call_fn, dropout_layer_call_and_return_conditional_losses, dropout_1_layer_call_fn, dropout_1_layer_call_and_return_conditional_losses, dropout_2_layer_call_fn while saving (showing 5 of 12). These functions will not be directly callable after loading.\n"
     ]
    },
    {
     "name": "stdout",
     "output_type": "stream",
     "text": [
      "Epoch 7/30\n",
      "250/250 [==============================] - 4s 14ms/step - loss: 0.8350 - mse: 0.8347 - val_loss: 0.8804 - val_mse: 0.8801\n"
     ]
    },
    {
     "name": "stderr",
     "output_type": "stream",
     "text": [
      "WARNING:absl:Found untraced functions such as dropout_layer_call_fn, dropout_layer_call_and_return_conditional_losses, dropout_1_layer_call_fn, dropout_1_layer_call_and_return_conditional_losses, dropout_2_layer_call_fn while saving (showing 5 of 12). These functions will not be directly callable after loading.\n"
     ]
    },
    {
     "name": "stdout",
     "output_type": "stream",
     "text": [
      "Epoch 8/30\n",
      "250/250 [==============================] - 4s 14ms/step - loss: 0.8249 - mse: 0.8245 - val_loss: 0.8678 - val_mse: 0.8674\n"
     ]
    },
    {
     "name": "stderr",
     "output_type": "stream",
     "text": [
      "WARNING:absl:Found untraced functions such as dropout_layer_call_fn, dropout_layer_call_and_return_conditional_losses, dropout_1_layer_call_fn, dropout_1_layer_call_and_return_conditional_losses, dropout_2_layer_call_fn while saving (showing 5 of 12). These functions will not be directly callable after loading.\n"
     ]
    },
    {
     "name": "stdout",
     "output_type": "stream",
     "text": [
      "Epoch 9/30\n",
      "250/250 [==============================] - 4s 14ms/step - loss: 0.8191 - mse: 0.8187 - val_loss: 0.8766 - val_mse: 0.8762\n",
      "Epoch 10/30\n",
      "250/250 [==============================] - 4s 14ms/step - loss: 0.8135 - mse: 0.8131 - val_loss: 0.8719 - val_mse: 0.8714\n",
      "Epoch 11/30\n",
      "250/250 [==============================] - 4s 15ms/step - loss: 0.8053 - mse: 0.8049 - val_loss: 0.8605 - val_mse: 0.8600\n"
     ]
    },
    {
     "name": "stderr",
     "output_type": "stream",
     "text": [
      "WARNING:absl:Found untraced functions such as dropout_layer_call_fn, dropout_layer_call_and_return_conditional_losses, dropout_1_layer_call_fn, dropout_1_layer_call_and_return_conditional_losses, dropout_2_layer_call_fn while saving (showing 5 of 12). These functions will not be directly callable after loading.\n"
     ]
    },
    {
     "name": "stdout",
     "output_type": "stream",
     "text": [
      "Epoch 12/30\n",
      "250/250 [==============================] - 4s 15ms/step - loss: 0.7994 - mse: 0.7989 - val_loss: 0.8671 - val_mse: 0.8666\n",
      "Epoch 13/30\n",
      "250/250 [==============================] - 4s 15ms/step - loss: 0.7913 - mse: 0.7908 - val_loss: 0.8669 - val_mse: 0.8663\n",
      "Epoch 14/30\n",
      "250/250 [==============================] - 4s 15ms/step - loss: 0.7862 - mse: 0.7857 - val_loss: 0.8643 - val_mse: 0.8637\n",
      "Epoch 15/30\n",
      "250/250 [==============================] - 4s 14ms/step - loss: 0.7785 - mse: 0.7779 - val_loss: 0.8718 - val_mse: 0.8712\n",
      "Epoch 16/30\n",
      "250/250 [==============================] - 4s 15ms/step - loss: 0.7699 - mse: 0.7692 - val_loss: 0.8633 - val_mse: 0.8626\n",
      "test MSE 0.8581\n",
      "CrossNet parameterization: vector\n",
      "Epoch 1/30\n",
      "250/250 [==============================] - 9s 17ms/step - loss: 1.7484 - mse: 1.7483 - val_loss: 0.9019 - val_mse: 0.9018\n"
     ]
    },
    {
     "name": "stderr",
     "output_type": "stream",
     "text": [
      "WARNING:absl:Found untraced functions such as dropout_layer_call_fn, dropout_layer_call_and_return_conditional_losses, dropout_1_layer_call_fn, dropout_1_layer_call_and_return_conditional_losses, dropout_2_layer_call_fn while saving (showing 5 of 12). These functions will not be directly callable after loading.\n"
     ]
    },
    {
     "name": "stdout",
     "output_type": "stream",
     "text": [
      "Epoch 2/30\n",
      "250/250 [==============================] - 3s 14ms/step - loss: 0.8796 - mse: 0.8795 - val_loss: 0.8861 - val_mse: 0.8859\n"
     ]
    },
    {
     "name": "stderr",
     "output_type": "stream",
     "text": [
      "WARNING:absl:Found untraced functions such as dropout_layer_call_fn, dropout_layer_call_and_return_conditional_losses, dropout_1_layer_call_fn, dropout_1_layer_call_and_return_conditional_losses, dropout_2_layer_call_fn while saving (showing 5 of 12). These functions will not be directly callable after loading.\n"
     ]
    },
    {
     "name": "stdout",
     "output_type": "stream",
     "text": [
      "Epoch 3/30\n",
      "250/250 [==============================] - 4s 14ms/step - loss: 0.8669 - mse: 0.8667 - val_loss: 0.8884 - val_mse: 0.8882\n",
      "Epoch 4/30\n",
      "250/250 [==============================] - 4s 14ms/step - loss: 0.8583 - mse: 0.8581 - val_loss: 0.8824 - val_mse: 0.8822\n"
     ]
    },
    {
     "name": "stderr",
     "output_type": "stream",
     "text": [
      "WARNING:absl:Found untraced functions such as dropout_layer_call_fn, dropout_layer_call_and_return_conditional_losses, dropout_1_layer_call_fn, dropout_1_layer_call_and_return_conditional_losses, dropout_2_layer_call_fn while saving (showing 5 of 12). These functions will not be directly callable after loading.\n"
     ]
    },
    {
     "name": "stdout",
     "output_type": "stream",
     "text": [
      "Epoch 5/30\n",
      "250/250 [==============================] - 4s 15ms/step - loss: 0.8570 - mse: 0.8568 - val_loss: 0.8901 - val_mse: 0.8898\n",
      "Epoch 6/30\n",
      "250/250 [==============================] - 4s 15ms/step - loss: 0.8527 - mse: 0.8524 - val_loss: 0.8855 - val_mse: 0.8852\n",
      "Epoch 7/30\n",
      "250/250 [==============================] - 4s 14ms/step - loss: 0.8470 - mse: 0.8467 - val_loss: 0.8823 - val_mse: 0.8820\n"
     ]
    },
    {
     "name": "stderr",
     "output_type": "stream",
     "text": [
      "WARNING:absl:Found untraced functions such as dropout_layer_call_fn, dropout_layer_call_and_return_conditional_losses, dropout_1_layer_call_fn, dropout_1_layer_call_and_return_conditional_losses, dropout_2_layer_call_fn while saving (showing 5 of 12). These functions will not be directly callable after loading.\n"
     ]
    },
    {
     "name": "stdout",
     "output_type": "stream",
     "text": [
      "Epoch 8/30\n",
      "250/250 [==============================] - 4s 15ms/step - loss: 0.8441 - mse: 0.8437 - val_loss: 0.8770 - val_mse: 0.8766\n"
     ]
    },
    {
     "name": "stderr",
     "output_type": "stream",
     "text": [
      "WARNING:absl:Found untraced functions such as dropout_layer_call_fn, dropout_layer_call_and_return_conditional_losses, dropout_1_layer_call_fn, dropout_1_layer_call_and_return_conditional_losses, dropout_2_layer_call_fn while saving (showing 5 of 12). These functions will not be directly callable after loading.\n"
     ]
    },
    {
     "name": "stdout",
     "output_type": "stream",
     "text": [
      "Epoch 9/30\n",
      "250/250 [==============================] - 4s 15ms/step - loss: 0.8354 - mse: 0.8350 - val_loss: 0.8727 - val_mse: 0.8723\n"
     ]
    },
    {
     "name": "stderr",
     "output_type": "stream",
     "text": [
      "WARNING:absl:Found untraced functions such as dropout_layer_call_fn, dropout_layer_call_and_return_conditional_losses, dropout_1_layer_call_fn, dropout_1_layer_call_and_return_conditional_losses, dropout_2_layer_call_fn while saving (showing 5 of 12). These functions will not be directly callable after loading.\n"
     ]
    },
    {
     "name": "stdout",
     "output_type": "stream",
     "text": [
      "Epoch 10/30\n",
      "250/250 [==============================] - 4s 15ms/step - loss: 0.8242 - mse: 0.8238 - val_loss: 0.8700 - val_mse: 0.8696\n"
     ]
    },
    {
     "name": "stderr",
     "output_type": "stream",
     "text": [
      "WARNING:absl:Found untraced functions such as dropout_layer_call_fn, dropout_layer_call_and_return_conditional_losses, dropout_1_layer_call_fn, dropout_1_layer_call_and_return_conditional_losses, dropout_2_layer_call_fn while saving (showing 5 of 12). These functions will not be directly callable after loading.\n"
     ]
    },
    {
     "name": "stdout",
     "output_type": "stream",
     "text": [
      "Epoch 11/30\n",
      "250/250 [==============================] - 4s 15ms/step - loss: 0.8150 - mse: 0.8145 - val_loss: 0.8743 - val_mse: 0.8738\n",
      "Epoch 12/30\n",
      "250/250 [==============================] - 4s 15ms/step - loss: 0.8095 - mse: 0.8090 - val_loss: 0.8645 - val_mse: 0.8640\n"
     ]
    },
    {
     "name": "stderr",
     "output_type": "stream",
     "text": [
      "WARNING:absl:Found untraced functions such as dropout_layer_call_fn, dropout_layer_call_and_return_conditional_losses, dropout_1_layer_call_fn, dropout_1_layer_call_and_return_conditional_losses, dropout_2_layer_call_fn while saving (showing 5 of 12). These functions will not be directly callable after loading.\n"
     ]
    },
    {
     "name": "stdout",
     "output_type": "stream",
     "text": [
      "Epoch 13/30\n",
      "250/250 [==============================] - 4s 15ms/step - loss: 0.8016 - mse: 0.8011 - val_loss: 0.8700 - val_mse: 0.8694\n",
      "Epoch 14/30\n",
      "250/250 [==============================] - 4s 14ms/step - loss: 0.7954 - mse: 0.7948 - val_loss: 0.8637 - val_mse: 0.8631\n"
     ]
    },
    {
     "name": "stderr",
     "output_type": "stream",
     "text": [
      "WARNING:absl:Found untraced functions such as dropout_layer_call_fn, dropout_layer_call_and_return_conditional_losses, dropout_1_layer_call_fn, dropout_1_layer_call_and_return_conditional_losses, dropout_2_layer_call_fn while saving (showing 5 of 12). These functions will not be directly callable after loading.\n"
     ]
    },
    {
     "name": "stdout",
     "output_type": "stream",
     "text": [
      "Epoch 15/30\n",
      "250/250 [==============================] - 4s 15ms/step - loss: 0.7858 - mse: 0.7852 - val_loss: 0.8781 - val_mse: 0.8774\n",
      "Epoch 16/30\n",
      "250/250 [==============================] - 4s 15ms/step - loss: 0.7765 - mse: 0.7758 - val_loss: 0.8617 - val_mse: 0.8610\n"
     ]
    },
    {
     "name": "stderr",
     "output_type": "stream",
     "text": [
      "WARNING:absl:Found untraced functions such as dropout_layer_call_fn, dropout_layer_call_and_return_conditional_losses, dropout_1_layer_call_fn, dropout_1_layer_call_and_return_conditional_losses, dropout_2_layer_call_fn while saving (showing 5 of 12). These functions will not be directly callable after loading.\n"
     ]
    },
    {
     "name": "stdout",
     "output_type": "stream",
     "text": [
      "Epoch 17/30\n",
      "250/250 [==============================] - 4s 15ms/step - loss: 0.7682 - mse: 0.7675 - val_loss: 0.8718 - val_mse: 0.8711\n",
      "Epoch 18/30\n",
      "250/250 [==============================] - 3s 14ms/step - loss: 0.7600 - mse: 0.7592 - val_loss: 0.8712 - val_mse: 0.8704\n",
      "Epoch 19/30\n",
      "250/250 [==============================] - 4s 14ms/step - loss: 0.7486 - mse: 0.7478 - val_loss: 0.8752 - val_mse: 0.8743\n",
      "Epoch 20/30\n",
      "250/250 [==============================] - 4s 14ms/step - loss: 0.7361 - mse: 0.7352 - val_loss: 0.8793 - val_mse: 0.8784\n",
      "Epoch 21/30\n",
      "250/250 [==============================] - 4s 14ms/step - loss: 0.7244 - mse: 0.7235 - val_loss: 0.8876 - val_mse: 0.8867\n",
      "test MSE 0.863\n",
      "CrossNet parameterization: vector\n",
      "Epoch 1/30\n",
      "250/250 [==============================] - 8s 15ms/step - loss: 1.6949 - mse: 1.6949 - val_loss: 0.8958 - val_mse: 0.8957\n"
     ]
    },
    {
     "name": "stderr",
     "output_type": "stream",
     "text": [
      "WARNING:absl:Found untraced functions such as dropout_layer_call_fn, dropout_layer_call_and_return_conditional_losses, dropout_1_layer_call_fn, dropout_1_layer_call_and_return_conditional_losses, dropout_2_layer_call_fn while saving (showing 5 of 12). These functions will not be directly callable after loading.\n"
     ]
    },
    {
     "name": "stdout",
     "output_type": "stream",
     "text": [
      "Epoch 2/30\n",
      "250/250 [==============================] - 3s 13ms/step - loss: 0.8802 - mse: 0.8801 - val_loss: 0.8802 - val_mse: 0.8801\n"
     ]
    },
    {
     "name": "stderr",
     "output_type": "stream",
     "text": [
      "WARNING:absl:Found untraced functions such as dropout_layer_call_fn, dropout_layer_call_and_return_conditional_losses, dropout_1_layer_call_fn, dropout_1_layer_call_and_return_conditional_losses, dropout_2_layer_call_fn while saving (showing 5 of 12). These functions will not be directly callable after loading.\n"
     ]
    },
    {
     "name": "stdout",
     "output_type": "stream",
     "text": [
      "Epoch 3/30\n",
      "250/250 [==============================] - 3s 14ms/step - loss: 0.8653 - mse: 0.8651 - val_loss: 0.8776 - val_mse: 0.8774\n"
     ]
    },
    {
     "name": "stderr",
     "output_type": "stream",
     "text": [
      "WARNING:absl:Found untraced functions such as dropout_layer_call_fn, dropout_layer_call_and_return_conditional_losses, dropout_1_layer_call_fn, dropout_1_layer_call_and_return_conditional_losses, dropout_2_layer_call_fn while saving (showing 5 of 12). These functions will not be directly callable after loading.\n"
     ]
    },
    {
     "name": "stdout",
     "output_type": "stream",
     "text": [
      "Epoch 4/30\n",
      "250/250 [==============================] - 4s 14ms/step - loss: 0.8591 - mse: 0.8589 - val_loss: 0.8824 - val_mse: 0.8821\n",
      "Epoch 5/30\n",
      "250/250 [==============================] - 4s 14ms/step - loss: 0.8540 - mse: 0.8538 - val_loss: 0.8782 - val_mse: 0.8780\n",
      "Epoch 6/30\n",
      "250/250 [==============================] - 4s 15ms/step - loss: 0.8509 - mse: 0.8506 - val_loss: 0.8730 - val_mse: 0.8727\n"
     ]
    },
    {
     "name": "stderr",
     "output_type": "stream",
     "text": [
      "WARNING:absl:Found untraced functions such as dropout_layer_call_fn, dropout_layer_call_and_return_conditional_losses, dropout_1_layer_call_fn, dropout_1_layer_call_and_return_conditional_losses, dropout_2_layer_call_fn while saving (showing 5 of 12). These functions will not be directly callable after loading.\n"
     ]
    },
    {
     "name": "stdout",
     "output_type": "stream",
     "text": [
      "Epoch 7/30\n",
      "250/250 [==============================] - 4s 15ms/step - loss: 0.8391 - mse: 0.8388 - val_loss: 0.8667 - val_mse: 0.8664\n"
     ]
    },
    {
     "name": "stderr",
     "output_type": "stream",
     "text": [
      "WARNING:absl:Found untraced functions such as dropout_layer_call_fn, dropout_layer_call_and_return_conditional_losses, dropout_1_layer_call_fn, dropout_1_layer_call_and_return_conditional_losses, dropout_2_layer_call_fn while saving (showing 5 of 12). These functions will not be directly callable after loading.\n"
     ]
    },
    {
     "name": "stdout",
     "output_type": "stream",
     "text": [
      "Epoch 8/30\n",
      "250/250 [==============================] - 4s 15ms/step - loss: 0.8268 - mse: 0.8265 - val_loss: 0.8602 - val_mse: 0.8599\n"
     ]
    },
    {
     "name": "stderr",
     "output_type": "stream",
     "text": [
      "WARNING:absl:Found untraced functions such as dropout_layer_call_fn, dropout_layer_call_and_return_conditional_losses, dropout_1_layer_call_fn, dropout_1_layer_call_and_return_conditional_losses, dropout_2_layer_call_fn while saving (showing 5 of 12). These functions will not be directly callable after loading.\n"
     ]
    },
    {
     "name": "stdout",
     "output_type": "stream",
     "text": [
      "Epoch 9/30\n",
      "250/250 [==============================] - 3s 14ms/step - loss: 0.8190 - mse: 0.8187 - val_loss: 0.8620 - val_mse: 0.8616\n",
      "Epoch 10/30\n",
      "250/250 [==============================] - 3s 14ms/step - loss: 0.8097 - mse: 0.8092 - val_loss: 0.8736 - val_mse: 0.8732\n",
      "Epoch 11/30\n",
      "250/250 [==============================] - 4s 14ms/step - loss: 0.8025 - mse: 0.8020 - val_loss: 0.8574 - val_mse: 0.8569\n"
     ]
    },
    {
     "name": "stderr",
     "output_type": "stream",
     "text": [
      "WARNING:absl:Found untraced functions such as dropout_layer_call_fn, dropout_layer_call_and_return_conditional_losses, dropout_1_layer_call_fn, dropout_1_layer_call_and_return_conditional_losses, dropout_2_layer_call_fn while saving (showing 5 of 12). These functions will not be directly callable after loading.\n"
     ]
    },
    {
     "name": "stdout",
     "output_type": "stream",
     "text": [
      "Epoch 12/30\n",
      "250/250 [==============================] - 4s 14ms/step - loss: 0.7944 - mse: 0.7939 - val_loss: 0.8557 - val_mse: 0.8552\n"
     ]
    },
    {
     "name": "stderr",
     "output_type": "stream",
     "text": [
      "WARNING:absl:Found untraced functions such as dropout_layer_call_fn, dropout_layer_call_and_return_conditional_losses, dropout_1_layer_call_fn, dropout_1_layer_call_and_return_conditional_losses, dropout_2_layer_call_fn while saving (showing 5 of 12). These functions will not be directly callable after loading.\n"
     ]
    },
    {
     "name": "stdout",
     "output_type": "stream",
     "text": [
      "Epoch 13/30\n",
      "250/250 [==============================] - 3s 14ms/step - loss: 0.7856 - mse: 0.7850 - val_loss: 0.8569 - val_mse: 0.8563\n",
      "Epoch 14/30\n",
      "250/250 [==============================] - 4s 14ms/step - loss: 0.7779 - mse: 0.7773 - val_loss: 0.8574 - val_mse: 0.8568\n",
      "Epoch 15/30\n",
      "250/250 [==============================] - 4s 15ms/step - loss: 0.7711 - mse: 0.7705 - val_loss: 0.8577 - val_mse: 0.8570\n",
      "Epoch 16/30\n",
      "250/250 [==============================] - 3s 14ms/step - loss: 0.7653 - mse: 0.7646 - val_loss: 0.8611 - val_mse: 0.8604\n",
      "Epoch 17/30\n",
      "250/250 [==============================] - 4s 14ms/step - loss: 0.7531 - mse: 0.7524 - val_loss: 0.8691 - val_mse: 0.8683\n",
      "test MSE 0.8775\n"
     ]
    }
   ],
   "source": [
    "# DC\n",
    "dict_DC = {'linear_feature_columns': linear_feature_columns,\n",
    "           'dnn_feature_columns': dnn_feature_columns,\n",
    "           'task': 'regression'}\n",
    "ls_result = calc_nn_based_model(df_movie_all, \n",
    "                                DCN, dict_DC,\n",
    "                                feature_names, \n",
    "                                'movie_lens', 'DC')\n",
    "all_result.extend(ls_result)"
   ]
  },
  {
   "cell_type": "code",
   "execution_count": 33,
   "metadata": {},
   "outputs": [
    {
     "name": "stdout",
     "output_type": "stream",
     "text": [
      "Epoch 1/30\n",
      "250/250 [==============================] - 8s 15ms/step - loss: 1.9396 - mse: 1.9395 - val_loss: 0.9482 - val_mse: 0.9480\n"
     ]
    },
    {
     "name": "stderr",
     "output_type": "stream",
     "text": [
      "WARNING:absl:Found untraced functions such as dropout_layer_call_fn, dropout_layer_call_and_return_conditional_losses, dropout_1_layer_call_fn, dropout_1_layer_call_and_return_conditional_losses, dropout_2_layer_call_fn while saving (showing 5 of 12). These functions will not be directly callable after loading.\n"
     ]
    },
    {
     "name": "stdout",
     "output_type": "stream",
     "text": [
      "Epoch 2/30\n",
      "250/250 [==============================] - 3s 13ms/step - loss: 0.9011 - mse: 0.9009 - val_loss: 0.8973 - val_mse: 0.8971\n"
     ]
    },
    {
     "name": "stderr",
     "output_type": "stream",
     "text": [
      "WARNING:absl:Found untraced functions such as dropout_layer_call_fn, dropout_layer_call_and_return_conditional_losses, dropout_1_layer_call_fn, dropout_1_layer_call_and_return_conditional_losses, dropout_2_layer_call_fn while saving (showing 5 of 12). These functions will not be directly callable after loading.\n"
     ]
    },
    {
     "name": "stdout",
     "output_type": "stream",
     "text": [
      "Epoch 3/30\n",
      "250/250 [==============================] - 3s 14ms/step - loss: 0.8724 - mse: 0.8721 - val_loss: 0.8998 - val_mse: 0.8995\n",
      "Epoch 4/30\n",
      "250/250 [==============================] - 3s 14ms/step - loss: 0.8659 - mse: 0.8655 - val_loss: 0.8841 - val_mse: 0.8838\n"
     ]
    },
    {
     "name": "stderr",
     "output_type": "stream",
     "text": [
      "WARNING:absl:Found untraced functions such as dropout_layer_call_fn, dropout_layer_call_and_return_conditional_losses, dropout_1_layer_call_fn, dropout_1_layer_call_and_return_conditional_losses, dropout_2_layer_call_fn while saving (showing 5 of 12). These functions will not be directly callable after loading.\n"
     ]
    },
    {
     "name": "stdout",
     "output_type": "stream",
     "text": [
      "Epoch 5/30\n",
      "250/250 [==============================] - 4s 14ms/step - loss: 0.8587 - mse: 0.8584 - val_loss: 0.8893 - val_mse: 0.8889\n",
      "Epoch 6/30\n",
      "250/250 [==============================] - 3s 14ms/step - loss: 0.8551 - mse: 0.8547 - val_loss: 0.8914 - val_mse: 0.8910\n",
      "Epoch 7/30\n",
      "250/250 [==============================] - 4s 14ms/step - loss: 0.8473 - mse: 0.8469 - val_loss: 0.8753 - val_mse: 0.8748\n"
     ]
    },
    {
     "name": "stderr",
     "output_type": "stream",
     "text": [
      "WARNING:absl:Found untraced functions such as dropout_layer_call_fn, dropout_layer_call_and_return_conditional_losses, dropout_1_layer_call_fn, dropout_1_layer_call_and_return_conditional_losses, dropout_2_layer_call_fn while saving (showing 5 of 12). These functions will not be directly callable after loading.\n"
     ]
    },
    {
     "name": "stdout",
     "output_type": "stream",
     "text": [
      "Epoch 8/30\n",
      "250/250 [==============================] - 3s 14ms/step - loss: 0.8368 - mse: 0.8362 - val_loss: 0.8787 - val_mse: 0.8782\n",
      "Epoch 9/30\n",
      "250/250 [==============================] - 3s 14ms/step - loss: 0.8293 - mse: 0.8287 - val_loss: 0.8823 - val_mse: 0.8817\n",
      "Epoch 10/30\n",
      "250/250 [==============================] - 3s 13ms/step - loss: 0.8213 - mse: 0.8207 - val_loss: 0.8698 - val_mse: 0.8692\n"
     ]
    },
    {
     "name": "stderr",
     "output_type": "stream",
     "text": [
      "WARNING:absl:Found untraced functions such as dropout_layer_call_fn, dropout_layer_call_and_return_conditional_losses, dropout_1_layer_call_fn, dropout_1_layer_call_and_return_conditional_losses, dropout_2_layer_call_fn while saving (showing 5 of 12). These functions will not be directly callable after loading.\n"
     ]
    },
    {
     "name": "stdout",
     "output_type": "stream",
     "text": [
      "Epoch 11/30\n",
      "250/250 [==============================] - 3s 14ms/step - loss: 0.8121 - mse: 0.8114 - val_loss: 0.8715 - val_mse: 0.8708\n",
      "Epoch 12/30\n",
      "250/250 [==============================] - 3s 14ms/step - loss: 0.8062 - mse: 0.8054 - val_loss: 0.8755 - val_mse: 0.8748\n",
      "Epoch 13/30\n",
      "250/250 [==============================] - 3s 14ms/step - loss: 0.7980 - mse: 0.7972 - val_loss: 0.8682 - val_mse: 0.8674\n"
     ]
    },
    {
     "name": "stderr",
     "output_type": "stream",
     "text": [
      "WARNING:absl:Found untraced functions such as dropout_layer_call_fn, dropout_layer_call_and_return_conditional_losses, dropout_1_layer_call_fn, dropout_1_layer_call_and_return_conditional_losses, dropout_2_layer_call_fn while saving (showing 5 of 12). These functions will not be directly callable after loading.\n"
     ]
    },
    {
     "name": "stdout",
     "output_type": "stream",
     "text": [
      "Epoch 14/30\n",
      "250/250 [==============================] - 3s 14ms/step - loss: 0.7964 - mse: 0.7956 - val_loss: 0.8678 - val_mse: 0.8670\n"
     ]
    },
    {
     "name": "stderr",
     "output_type": "stream",
     "text": [
      "WARNING:absl:Found untraced functions such as dropout_layer_call_fn, dropout_layer_call_and_return_conditional_losses, dropout_1_layer_call_fn, dropout_1_layer_call_and_return_conditional_losses, dropout_2_layer_call_fn while saving (showing 5 of 12). These functions will not be directly callable after loading.\n"
     ]
    },
    {
     "name": "stdout",
     "output_type": "stream",
     "text": [
      "Epoch 15/30\n",
      "250/250 [==============================] - 3s 14ms/step - loss: 0.7886 - mse: 0.7877 - val_loss: 0.8766 - val_mse: 0.8757\n",
      "Epoch 16/30\n",
      "250/250 [==============================] - 3s 14ms/step - loss: 0.7824 - mse: 0.7815 - val_loss: 0.8679 - val_mse: 0.8670\n"
     ]
    },
    {
     "name": "stderr",
     "output_type": "stream",
     "text": [
      "WARNING:absl:Found untraced functions such as dropout_layer_call_fn, dropout_layer_call_and_return_conditional_losses, dropout_1_layer_call_fn, dropout_1_layer_call_and_return_conditional_losses, dropout_2_layer_call_fn while saving (showing 5 of 12). These functions will not be directly callable after loading.\n"
     ]
    },
    {
     "name": "stdout",
     "output_type": "stream",
     "text": [
      "Epoch 17/30\n",
      "250/250 [==============================] - 3s 14ms/step - loss: 0.7800 - mse: 0.7790 - val_loss: 0.8825 - val_mse: 0.8815\n",
      "Epoch 18/30\n",
      "250/250 [==============================] - 3s 13ms/step - loss: 0.7745 - mse: 0.7735 - val_loss: 0.8793 - val_mse: 0.8782\n",
      "Epoch 19/30\n",
      "250/250 [==============================] - 3s 14ms/step - loss: 0.7703 - mse: 0.7692 - val_loss: 0.8727 - val_mse: 0.8716\n",
      "Epoch 20/30\n",
      "250/250 [==============================] - 4s 14ms/step - loss: 0.7678 - mse: 0.7666 - val_loss: 0.8853 - val_mse: 0.8841\n",
      "Epoch 21/30\n",
      "250/250 [==============================] - 3s 14ms/step - loss: 0.7601 - mse: 0.7589 - val_loss: 0.8850 - val_mse: 0.8838\n",
      "test MSE 0.8769\n",
      "Epoch 1/30\n",
      "250/250 [==============================] - 8s 14ms/step - loss: 1.9690 - mse: 1.9689 - val_loss: 0.9204 - val_mse: 0.9203\n"
     ]
    },
    {
     "name": "stderr",
     "output_type": "stream",
     "text": [
      "WARNING:absl:Found untraced functions such as dropout_layer_call_fn, dropout_layer_call_and_return_conditional_losses, dropout_1_layer_call_fn, dropout_1_layer_call_and_return_conditional_losses, dropout_2_layer_call_fn while saving (showing 5 of 12). These functions will not be directly callable after loading.\n"
     ]
    },
    {
     "name": "stdout",
     "output_type": "stream",
     "text": [
      "Epoch 2/30\n",
      "250/250 [==============================] - 3s 13ms/step - loss: 0.8868 - mse: 0.8866 - val_loss: 0.8925 - val_mse: 0.8923\n"
     ]
    },
    {
     "name": "stderr",
     "output_type": "stream",
     "text": [
      "WARNING:absl:Found untraced functions such as dropout_layer_call_fn, dropout_layer_call_and_return_conditional_losses, dropout_1_layer_call_fn, dropout_1_layer_call_and_return_conditional_losses, dropout_2_layer_call_fn while saving (showing 5 of 12). These functions will not be directly callable after loading.\n"
     ]
    },
    {
     "name": "stdout",
     "output_type": "stream",
     "text": [
      "Epoch 3/30\n",
      "250/250 [==============================] - 3s 13ms/step - loss: 0.8590 - mse: 0.8588 - val_loss: 0.8799 - val_mse: 0.8796\n"
     ]
    },
    {
     "name": "stderr",
     "output_type": "stream",
     "text": [
      "WARNING:absl:Found untraced functions such as dropout_layer_call_fn, dropout_layer_call_and_return_conditional_losses, dropout_1_layer_call_fn, dropout_1_layer_call_and_return_conditional_losses, dropout_2_layer_call_fn while saving (showing 5 of 12). These functions will not be directly callable after loading.\n"
     ]
    },
    {
     "name": "stdout",
     "output_type": "stream",
     "text": [
      "Epoch 4/30\n",
      "250/250 [==============================] - 3s 13ms/step - loss: 0.8237 - mse: 0.8234 - val_loss: 0.8606 - val_mse: 0.8603\n"
     ]
    },
    {
     "name": "stderr",
     "output_type": "stream",
     "text": [
      "WARNING:absl:Found untraced functions such as dropout_layer_call_fn, dropout_layer_call_and_return_conditional_losses, dropout_1_layer_call_fn, dropout_1_layer_call_and_return_conditional_losses, dropout_2_layer_call_fn while saving (showing 5 of 12). These functions will not be directly callable after loading.\n"
     ]
    },
    {
     "name": "stdout",
     "output_type": "stream",
     "text": [
      "Epoch 5/30\n",
      "250/250 [==============================] - 3s 13ms/step - loss: 0.7962 - mse: 0.7958 - val_loss: 0.8605 - val_mse: 0.8601\n"
     ]
    },
    {
     "name": "stderr",
     "output_type": "stream",
     "text": [
      "WARNING:absl:Found untraced functions such as dropout_layer_call_fn, dropout_layer_call_and_return_conditional_losses, dropout_1_layer_call_fn, dropout_1_layer_call_and_return_conditional_losses, dropout_2_layer_call_fn while saving (showing 5 of 12). These functions will not be directly callable after loading.\n"
     ]
    },
    {
     "name": "stdout",
     "output_type": "stream",
     "text": [
      "Epoch 6/30\n",
      "250/250 [==============================] - 3s 13ms/step - loss: 0.7803 - mse: 0.7798 - val_loss: 0.8736 - val_mse: 0.8732\n",
      "Epoch 7/30\n",
      "250/250 [==============================] - 3s 14ms/step - loss: 0.7696 - mse: 0.7691 - val_loss: 0.8629 - val_mse: 0.8623\n",
      "Epoch 8/30\n",
      "250/250 [==============================] - 3s 14ms/step - loss: 0.7562 - mse: 0.7556 - val_loss: 0.8653 - val_mse: 0.8647\n",
      "Epoch 9/30\n",
      "250/250 [==============================] - 3s 14ms/step - loss: 0.7478 - mse: 0.7471 - val_loss: 0.8581 - val_mse: 0.8575\n"
     ]
    },
    {
     "name": "stderr",
     "output_type": "stream",
     "text": [
      "WARNING:absl:Found untraced functions such as dropout_layer_call_fn, dropout_layer_call_and_return_conditional_losses, dropout_1_layer_call_fn, dropout_1_layer_call_and_return_conditional_losses, dropout_2_layer_call_fn while saving (showing 5 of 12). These functions will not be directly callable after loading.\n"
     ]
    },
    {
     "name": "stdout",
     "output_type": "stream",
     "text": [
      "Epoch 10/30\n",
      "250/250 [==============================] - 3s 14ms/step - loss: 0.7351 - mse: 0.7344 - val_loss: 0.8736 - val_mse: 0.8728\n",
      "Epoch 11/30\n",
      "250/250 [==============================] - 3s 14ms/step - loss: 0.7244 - mse: 0.7236 - val_loss: 0.8660 - val_mse: 0.8652\n",
      "Epoch 12/30\n",
      "250/250 [==============================] - 3s 14ms/step - loss: 0.7123 - mse: 0.7115 - val_loss: 0.8606 - val_mse: 0.8597\n",
      "Epoch 13/30\n",
      "250/250 [==============================] - 3s 14ms/step - loss: 0.7039 - mse: 0.7030 - val_loss: 0.8760 - val_mse: 0.8750\n",
      "Epoch 14/30\n",
      "250/250 [==============================] - 3s 13ms/step - loss: 0.6948 - mse: 0.6939 - val_loss: 0.8805 - val_mse: 0.8794\n",
      "test MSE 0.8526\n",
      "Epoch 1/30\n",
      "250/250 [==============================] - 7s 16ms/step - loss: 2.0471 - mse: 2.0470 - val_loss: 0.9177 - val_mse: 0.9175\n"
     ]
    },
    {
     "name": "stderr",
     "output_type": "stream",
     "text": [
      "WARNING:absl:Found untraced functions such as dropout_layer_call_fn, dropout_layer_call_and_return_conditional_losses, dropout_1_layer_call_fn, dropout_1_layer_call_and_return_conditional_losses, dropout_2_layer_call_fn while saving (showing 5 of 12). These functions will not be directly callable after loading.\n"
     ]
    },
    {
     "name": "stdout",
     "output_type": "stream",
     "text": [
      "Epoch 2/30\n",
      "250/250 [==============================] - 3s 13ms/step - loss: 0.8873 - mse: 0.8871 - val_loss: 0.8899 - val_mse: 0.8898\n"
     ]
    },
    {
     "name": "stderr",
     "output_type": "stream",
     "text": [
      "WARNING:absl:Found untraced functions such as dropout_layer_call_fn, dropout_layer_call_and_return_conditional_losses, dropout_1_layer_call_fn, dropout_1_layer_call_and_return_conditional_losses, dropout_2_layer_call_fn while saving (showing 5 of 12). These functions will not be directly callable after loading.\n"
     ]
    },
    {
     "name": "stdout",
     "output_type": "stream",
     "text": [
      "Epoch 3/30\n",
      "250/250 [==============================] - 3s 13ms/step - loss: 0.8670 - mse: 0.8668 - val_loss: 0.8900 - val_mse: 0.8898\n",
      "Epoch 4/30\n",
      "250/250 [==============================] - 3s 13ms/step - loss: 0.8569 - mse: 0.8566 - val_loss: 0.8937 - val_mse: 0.8934\n",
      "Epoch 5/30\n",
      "250/250 [==============================] - 3s 13ms/step - loss: 0.8492 - mse: 0.8489 - val_loss: 0.8930 - val_mse: 0.8927\n",
      "Epoch 6/30\n",
      "250/250 [==============================] - 3s 14ms/step - loss: 0.8421 - mse: 0.8418 - val_loss: 0.8964 - val_mse: 0.8960\n",
      "Epoch 7/30\n",
      "250/250 [==============================] - 3s 13ms/step - loss: 0.8317 - mse: 0.8313 - val_loss: 0.8727 - val_mse: 0.8723\n"
     ]
    },
    {
     "name": "stderr",
     "output_type": "stream",
     "text": [
      "WARNING:absl:Found untraced functions such as dropout_layer_call_fn, dropout_layer_call_and_return_conditional_losses, dropout_1_layer_call_fn, dropout_1_layer_call_and_return_conditional_losses, dropout_2_layer_call_fn while saving (showing 5 of 12). These functions will not be directly callable after loading.\n"
     ]
    },
    {
     "name": "stdout",
     "output_type": "stream",
     "text": [
      "Epoch 8/30\n",
      "250/250 [==============================] - 3s 14ms/step - loss: 0.8218 - mse: 0.8214 - val_loss: 0.8731 - val_mse: 0.8726\n",
      "Epoch 9/30\n",
      "250/250 [==============================] - 3s 14ms/step - loss: 0.8139 - mse: 0.8134 - val_loss: 0.8750 - val_mse: 0.8745\n",
      "Epoch 10/30\n",
      "250/250 [==============================] - 3s 14ms/step - loss: 0.8075 - mse: 0.8070 - val_loss: 0.8730 - val_mse: 0.8725\n",
      "Epoch 11/30\n",
      "250/250 [==============================] - 3s 13ms/step - loss: 0.8036 - mse: 0.8030 - val_loss: 0.8778 - val_mse: 0.8772\n",
      "Epoch 12/30\n",
      "250/250 [==============================] - 3s 14ms/step - loss: 0.7975 - mse: 0.7968 - val_loss: 0.8811 - val_mse: 0.8804\n",
      "test MSE 0.8713\n",
      "Epoch 1/30\n",
      "250/250 [==============================] - 8s 16ms/step - loss: 1.9547 - mse: 1.9546 - val_loss: 0.9585 - val_mse: 0.9584\n"
     ]
    },
    {
     "name": "stderr",
     "output_type": "stream",
     "text": [
      "WARNING:absl:Found untraced functions such as dropout_layer_call_fn, dropout_layer_call_and_return_conditional_losses, dropout_1_layer_call_fn, dropout_1_layer_call_and_return_conditional_losses, dropout_2_layer_call_fn while saving (showing 5 of 12). These functions will not be directly callable after loading.\n"
     ]
    },
    {
     "name": "stdout",
     "output_type": "stream",
     "text": [
      "Epoch 2/30\n",
      "250/250 [==============================] - 3s 13ms/step - loss: 0.8883 - mse: 0.8881 - val_loss: 0.8943 - val_mse: 0.8941\n"
     ]
    },
    {
     "name": "stderr",
     "output_type": "stream",
     "text": [
      "WARNING:absl:Found untraced functions such as dropout_layer_call_fn, dropout_layer_call_and_return_conditional_losses, dropout_1_layer_call_fn, dropout_1_layer_call_and_return_conditional_losses, dropout_2_layer_call_fn while saving (showing 5 of 12). These functions will not be directly callable after loading.\n"
     ]
    },
    {
     "name": "stdout",
     "output_type": "stream",
     "text": [
      "Epoch 3/30\n",
      "250/250 [==============================] - 3s 13ms/step - loss: 0.8632 - mse: 0.8630 - val_loss: 0.8821 - val_mse: 0.8819\n"
     ]
    },
    {
     "name": "stderr",
     "output_type": "stream",
     "text": [
      "WARNING:absl:Found untraced functions such as dropout_layer_call_fn, dropout_layer_call_and_return_conditional_losses, dropout_1_layer_call_fn, dropout_1_layer_call_and_return_conditional_losses, dropout_2_layer_call_fn while saving (showing 5 of 12). These functions will not be directly callable after loading.\n"
     ]
    },
    {
     "name": "stdout",
     "output_type": "stream",
     "text": [
      "Epoch 4/30\n",
      "250/250 [==============================] - 3s 14ms/step - loss: 0.8563 - mse: 0.8561 - val_loss: 0.8849 - val_mse: 0.8846\n",
      "Epoch 5/30\n",
      "250/250 [==============================] - 3s 13ms/step - loss: 0.8447 - mse: 0.8444 - val_loss: 0.8806 - val_mse: 0.8803\n"
     ]
    },
    {
     "name": "stderr",
     "output_type": "stream",
     "text": [
      "WARNING:absl:Found untraced functions such as dropout_layer_call_fn, dropout_layer_call_and_return_conditional_losses, dropout_1_layer_call_fn, dropout_1_layer_call_and_return_conditional_losses, dropout_2_layer_call_fn while saving (showing 5 of 12). These functions will not be directly callable after loading.\n"
     ]
    },
    {
     "name": "stdout",
     "output_type": "stream",
     "text": [
      "Epoch 6/30\n",
      "250/250 [==============================] - 3s 13ms/step - loss: 0.8356 - mse: 0.8352 - val_loss: 0.8860 - val_mse: 0.8856\n",
      "Epoch 7/30\n",
      "250/250 [==============================] - 3s 13ms/step - loss: 0.8261 - mse: 0.8257 - val_loss: 0.8787 - val_mse: 0.8783\n"
     ]
    },
    {
     "name": "stderr",
     "output_type": "stream",
     "text": [
      "WARNING:absl:Found untraced functions such as dropout_layer_call_fn, dropout_layer_call_and_return_conditional_losses, dropout_1_layer_call_fn, dropout_1_layer_call_and_return_conditional_losses, dropout_2_layer_call_fn while saving (showing 5 of 12). These functions will not be directly callable after loading.\n"
     ]
    },
    {
     "name": "stdout",
     "output_type": "stream",
     "text": [
      "Epoch 8/30\n",
      "250/250 [==============================] - 3s 13ms/step - loss: 0.8177 - mse: 0.8172 - val_loss: 0.8970 - val_mse: 0.8966\n",
      "Epoch 9/30\n",
      "250/250 [==============================] - 3s 13ms/step - loss: 0.8133 - mse: 0.8128 - val_loss: 0.8706 - val_mse: 0.8701\n"
     ]
    },
    {
     "name": "stderr",
     "output_type": "stream",
     "text": [
      "WARNING:absl:Found untraced functions such as dropout_layer_call_fn, dropout_layer_call_and_return_conditional_losses, dropout_1_layer_call_fn, dropout_1_layer_call_and_return_conditional_losses, dropout_2_layer_call_fn while saving (showing 5 of 12). These functions will not be directly callable after loading.\n"
     ]
    },
    {
     "name": "stdout",
     "output_type": "stream",
     "text": [
      "Epoch 10/30\n",
      "250/250 [==============================] - 3s 13ms/step - loss: 0.8051 - mse: 0.8046 - val_loss: 0.8708 - val_mse: 0.8703\n",
      "Epoch 11/30\n",
      "250/250 [==============================] - 3s 14ms/step - loss: 0.7995 - mse: 0.7989 - val_loss: 0.8748 - val_mse: 0.8742\n",
      "Epoch 12/30\n",
      "250/250 [==============================] - 3s 14ms/step - loss: 0.7933 - mse: 0.7926 - val_loss: 0.8714 - val_mse: 0.8707\n",
      "Epoch 13/30\n",
      "250/250 [==============================] - 3s 13ms/step - loss: 0.7870 - mse: 0.7863 - val_loss: 0.8883 - val_mse: 0.8875\n",
      "Epoch 14/30\n",
      "250/250 [==============================] - 3s 13ms/step - loss: 0.7845 - mse: 0.7838 - val_loss: 0.8770 - val_mse: 0.8762\n",
      "test MSE 0.8716\n",
      "Epoch 1/30\n",
      "250/250 [==============================] - 7s 14ms/step - loss: 2.0206 - mse: 2.0206 - val_loss: 0.9473 - val_mse: 0.9472\n"
     ]
    },
    {
     "name": "stderr",
     "output_type": "stream",
     "text": [
      "WARNING:absl:Found untraced functions such as dropout_layer_call_fn, dropout_layer_call_and_return_conditional_losses, dropout_1_layer_call_fn, dropout_1_layer_call_and_return_conditional_losses, dropout_2_layer_call_fn while saving (showing 5 of 12). These functions will not be directly callable after loading.\n"
     ]
    },
    {
     "name": "stdout",
     "output_type": "stream",
     "text": [
      "Epoch 2/30\n",
      "250/250 [==============================] - 3s 13ms/step - loss: 0.9002 - mse: 0.9000 - val_loss: 0.8883 - val_mse: 0.8881\n"
     ]
    },
    {
     "name": "stderr",
     "output_type": "stream",
     "text": [
      "WARNING:absl:Found untraced functions such as dropout_layer_call_fn, dropout_layer_call_and_return_conditional_losses, dropout_1_layer_call_fn, dropout_1_layer_call_and_return_conditional_losses, dropout_2_layer_call_fn while saving (showing 5 of 12). These functions will not be directly callable after loading.\n"
     ]
    },
    {
     "name": "stdout",
     "output_type": "stream",
     "text": [
      "Epoch 3/30\n",
      "250/250 [==============================] - 3s 13ms/step - loss: 0.8697 - mse: 0.8694 - val_loss: 0.8898 - val_mse: 0.8895\n",
      "Epoch 4/30\n",
      "250/250 [==============================] - 3s 13ms/step - loss: 0.8615 - mse: 0.8611 - val_loss: 0.8810 - val_mse: 0.8807\n"
     ]
    },
    {
     "name": "stderr",
     "output_type": "stream",
     "text": [
      "WARNING:absl:Found untraced functions such as dropout_layer_call_fn, dropout_layer_call_and_return_conditional_losses, dropout_1_layer_call_fn, dropout_1_layer_call_and_return_conditional_losses, dropout_2_layer_call_fn while saving (showing 5 of 12). These functions will not be directly callable after loading.\n"
     ]
    },
    {
     "name": "stdout",
     "output_type": "stream",
     "text": [
      "Epoch 5/30\n",
      "250/250 [==============================] - 3s 13ms/step - loss: 0.8590 - mse: 0.8586 - val_loss: 0.8816 - val_mse: 0.8812\n",
      "Epoch 6/30\n",
      "250/250 [==============================] - 3s 13ms/step - loss: 0.8532 - mse: 0.8528 - val_loss: 0.8875 - val_mse: 0.8870\n",
      "Epoch 7/30\n",
      "250/250 [==============================] - 3s 13ms/step - loss: 0.8474 - mse: 0.8469 - val_loss: 0.9053 - val_mse: 0.9048\n",
      "Epoch 8/30\n",
      "250/250 [==============================] - 3s 13ms/step - loss: 0.8379 - mse: 0.8373 - val_loss: 0.8882 - val_mse: 0.8876\n",
      "Epoch 9/30\n",
      "250/250 [==============================] - 3s 13ms/step - loss: 0.8298 - mse: 0.8292 - val_loss: 0.8653 - val_mse: 0.8647\n"
     ]
    },
    {
     "name": "stderr",
     "output_type": "stream",
     "text": [
      "WARNING:absl:Found untraced functions such as dropout_layer_call_fn, dropout_layer_call_and_return_conditional_losses, dropout_1_layer_call_fn, dropout_1_layer_call_and_return_conditional_losses, dropout_2_layer_call_fn while saving (showing 5 of 12). These functions will not be directly callable after loading.\n"
     ]
    },
    {
     "name": "stdout",
     "output_type": "stream",
     "text": [
      "Epoch 10/30\n",
      "250/250 [==============================] - 3s 13ms/step - loss: 0.8187 - mse: 0.8181 - val_loss: 0.8729 - val_mse: 0.8722\n",
      "Epoch 11/30\n",
      "250/250 [==============================] - 3s 13ms/step - loss: 0.8112 - mse: 0.8105 - val_loss: 0.8654 - val_mse: 0.8647\n"
     ]
    },
    {
     "name": "stderr",
     "output_type": "stream",
     "text": [
      "WARNING:absl:Found untraced functions such as dropout_layer_call_fn, dropout_layer_call_and_return_conditional_losses, dropout_1_layer_call_fn, dropout_1_layer_call_and_return_conditional_losses, dropout_2_layer_call_fn while saving (showing 5 of 12). These functions will not be directly callable after loading.\n"
     ]
    },
    {
     "name": "stdout",
     "output_type": "stream",
     "text": [
      "Epoch 12/30\n",
      "250/250 [==============================] - 3s 13ms/step - loss: 0.8044 - mse: 0.8036 - val_loss: 0.8664 - val_mse: 0.8656\n",
      "Epoch 13/30\n",
      "250/250 [==============================] - 3s 13ms/step - loss: 0.7979 - mse: 0.7971 - val_loss: 0.8722 - val_mse: 0.8713\n",
      "Epoch 14/30\n",
      "250/250 [==============================] - 3s 13ms/step - loss: 0.7948 - mse: 0.7939 - val_loss: 0.8665 - val_mse: 0.8656\n",
      "Epoch 15/30\n",
      "250/250 [==============================] - 3s 13ms/step - loss: 0.7905 - mse: 0.7896 - val_loss: 0.8791 - val_mse: 0.8782\n",
      "Epoch 16/30\n",
      "250/250 [==============================] - 3s 13ms/step - loss: 0.7848 - mse: 0.7838 - val_loss: 0.8685 - val_mse: 0.8675\n",
      "test MSE 0.8854\n"
     ]
    }
   ],
   "source": [
    "# NFM\n",
    "dict_NFM = {'linear_feature_columns': linear_feature_columns,\n",
    "            'dnn_feature_columns': dnn_feature_columns,\n",
    "            'task': 'regression'}\n",
    "ls_result = calc_nn_based_model(df_movie_all, \n",
    "                                NFM, dict_NFM,\n",
    "                                feature_names, \n",
    "                                'movie_lens', 'NFM')\n",
    "all_result.extend(ls_result)"
   ]
  },
  {
   "cell_type": "code",
   "execution_count": 34,
   "metadata": {},
   "outputs": [
    {
     "name": "stdout",
     "output_type": "stream",
     "text": [
      "Epoch 1/30\n",
      "250/250 [==============================] - 7s 14ms/step - loss: 1.7596 - mse: 1.7595 - val_loss: 0.9063 - val_mse: 0.9063\n"
     ]
    },
    {
     "name": "stderr",
     "output_type": "stream",
     "text": [
      "WARNING:absl:Found untraced functions such as dropout_layer_call_fn, dropout_layer_call_and_return_conditional_losses, dropout_1_layer_call_fn, dropout_1_layer_call_and_return_conditional_losses, dropout_2_layer_call_fn while saving (showing 5 of 12). These functions will not be directly callable after loading.\n"
     ]
    },
    {
     "name": "stdout",
     "output_type": "stream",
     "text": [
      "Epoch 2/30\n",
      "250/250 [==============================] - 3s 13ms/step - loss: 0.8816 - mse: 0.8815 - val_loss: 0.8838 - val_mse: 0.8837\n"
     ]
    },
    {
     "name": "stderr",
     "output_type": "stream",
     "text": [
      "WARNING:absl:Found untraced functions such as dropout_layer_call_fn, dropout_layer_call_and_return_conditional_losses, dropout_1_layer_call_fn, dropout_1_layer_call_and_return_conditional_losses, dropout_2_layer_call_fn while saving (showing 5 of 12). These functions will not be directly callable after loading.\n"
     ]
    },
    {
     "name": "stdout",
     "output_type": "stream",
     "text": [
      "Epoch 3/30\n",
      "250/250 [==============================] - 3s 14ms/step - loss: 0.8660 - mse: 0.8658 - val_loss: 0.8817 - val_mse: 0.8816\n"
     ]
    },
    {
     "name": "stderr",
     "output_type": "stream",
     "text": [
      "WARNING:absl:Found untraced functions such as dropout_layer_call_fn, dropout_layer_call_and_return_conditional_losses, dropout_1_layer_call_fn, dropout_1_layer_call_and_return_conditional_losses, dropout_2_layer_call_fn while saving (showing 5 of 12). These functions will not be directly callable after loading.\n"
     ]
    },
    {
     "name": "stdout",
     "output_type": "stream",
     "text": [
      "Epoch 4/30\n",
      "250/250 [==============================] - 3s 14ms/step - loss: 0.8598 - mse: 0.8596 - val_loss: 0.8872 - val_mse: 0.8870\n",
      "Epoch 5/30\n",
      "250/250 [==============================] - 3s 14ms/step - loss: 0.8562 - mse: 0.8560 - val_loss: 0.8780 - val_mse: 0.8778\n"
     ]
    },
    {
     "name": "stderr",
     "output_type": "stream",
     "text": [
      "WARNING:absl:Found untraced functions such as dropout_layer_call_fn, dropout_layer_call_and_return_conditional_losses, dropout_1_layer_call_fn, dropout_1_layer_call_and_return_conditional_losses, dropout_2_layer_call_fn while saving (showing 5 of 12). These functions will not be directly callable after loading.\n"
     ]
    },
    {
     "name": "stdout",
     "output_type": "stream",
     "text": [
      "Epoch 6/30\n",
      "250/250 [==============================] - 3s 14ms/step - loss: 0.8487 - mse: 0.8485 - val_loss: 0.8757 - val_mse: 0.8755\n"
     ]
    },
    {
     "name": "stderr",
     "output_type": "stream",
     "text": [
      "WARNING:absl:Found untraced functions such as dropout_layer_call_fn, dropout_layer_call_and_return_conditional_losses, dropout_1_layer_call_fn, dropout_1_layer_call_and_return_conditional_losses, dropout_2_layer_call_fn while saving (showing 5 of 12). These functions will not be directly callable after loading.\n"
     ]
    },
    {
     "name": "stdout",
     "output_type": "stream",
     "text": [
      "Epoch 7/30\n",
      "250/250 [==============================] - 3s 14ms/step - loss: 0.8383 - mse: 0.8380 - val_loss: 0.8933 - val_mse: 0.8930\n",
      "Epoch 8/30\n",
      "250/250 [==============================] - 3s 14ms/step - loss: 0.8276 - mse: 0.8273 - val_loss: 0.8618 - val_mse: 0.8615\n"
     ]
    },
    {
     "name": "stderr",
     "output_type": "stream",
     "text": [
      "WARNING:absl:Found untraced functions such as dropout_layer_call_fn, dropout_layer_call_and_return_conditional_losses, dropout_1_layer_call_fn, dropout_1_layer_call_and_return_conditional_losses, dropout_2_layer_call_fn while saving (showing 5 of 12). These functions will not be directly callable after loading.\n"
     ]
    },
    {
     "name": "stdout",
     "output_type": "stream",
     "text": [
      "Epoch 9/30\n",
      "250/250 [==============================] - 3s 14ms/step - loss: 0.8191 - mse: 0.8187 - val_loss: 0.8633 - val_mse: 0.8630\n",
      "Epoch 10/30\n",
      "250/250 [==============================] - 3s 14ms/step - loss: 0.8130 - mse: 0.8127 - val_loss: 0.8632 - val_mse: 0.8628\n",
      "Epoch 11/30\n",
      "250/250 [==============================] - 3s 13ms/step - loss: 0.8058 - mse: 0.8054 - val_loss: 0.8708 - val_mse: 0.8704\n",
      "Epoch 12/30\n",
      "250/250 [==============================] - 3s 14ms/step - loss: 0.7965 - mse: 0.7961 - val_loss: 0.8637 - val_mse: 0.8632\n",
      "Epoch 13/30\n",
      "250/250 [==============================] - 3s 14ms/step - loss: 0.7868 - mse: 0.7863 - val_loss: 0.8639 - val_mse: 0.8634\n",
      "test MSE 0.8782\n",
      "Epoch 1/30\n",
      "250/250 [==============================] - 7s 15ms/step - loss: 1.8239 - mse: 1.8239 - val_loss: 0.9086 - val_mse: 0.9085\n"
     ]
    },
    {
     "name": "stderr",
     "output_type": "stream",
     "text": [
      "WARNING:absl:Found untraced functions such as dropout_layer_call_fn, dropout_layer_call_and_return_conditional_losses, dropout_1_layer_call_fn, dropout_1_layer_call_and_return_conditional_losses, dropout_2_layer_call_fn while saving (showing 5 of 12). These functions will not be directly callable after loading.\n"
     ]
    },
    {
     "name": "stdout",
     "output_type": "stream",
     "text": [
      "Epoch 2/30\n",
      "250/250 [==============================] - 3s 13ms/step - loss: 0.8821 - mse: 0.8820 - val_loss: 0.8922 - val_mse: 0.8921\n"
     ]
    },
    {
     "name": "stderr",
     "output_type": "stream",
     "text": [
      "WARNING:absl:Found untraced functions such as dropout_layer_call_fn, dropout_layer_call_and_return_conditional_losses, dropout_1_layer_call_fn, dropout_1_layer_call_and_return_conditional_losses, dropout_2_layer_call_fn while saving (showing 5 of 12). These functions will not be directly callable after loading.\n"
     ]
    },
    {
     "name": "stdout",
     "output_type": "stream",
     "text": [
      "Epoch 3/30\n",
      "250/250 [==============================] - 3s 14ms/step - loss: 0.8669 - mse: 0.8668 - val_loss: 0.8930 - val_mse: 0.8928\n",
      "Epoch 4/30\n",
      "250/250 [==============================] - 3s 14ms/step - loss: 0.8619 - mse: 0.8618 - val_loss: 0.8914 - val_mse: 0.8912\n"
     ]
    },
    {
     "name": "stderr",
     "output_type": "stream",
     "text": [
      "WARNING:absl:Found untraced functions such as dropout_layer_call_fn, dropout_layer_call_and_return_conditional_losses, dropout_1_layer_call_fn, dropout_1_layer_call_and_return_conditional_losses, dropout_2_layer_call_fn while saving (showing 5 of 12). These functions will not be directly callable after loading.\n"
     ]
    },
    {
     "name": "stdout",
     "output_type": "stream",
     "text": [
      "Epoch 5/30\n",
      "250/250 [==============================] - 3s 14ms/step - loss: 0.8575 - mse: 0.8573 - val_loss: 0.8902 - val_mse: 0.8900\n"
     ]
    },
    {
     "name": "stderr",
     "output_type": "stream",
     "text": [
      "WARNING:absl:Found untraced functions such as dropout_layer_call_fn, dropout_layer_call_and_return_conditional_losses, dropout_1_layer_call_fn, dropout_1_layer_call_and_return_conditional_losses, dropout_2_layer_call_fn while saving (showing 5 of 12). These functions will not be directly callable after loading.\n"
     ]
    },
    {
     "name": "stdout",
     "output_type": "stream",
     "text": [
      "Epoch 6/30\n",
      "250/250 [==============================] - 3s 14ms/step - loss: 0.8517 - mse: 0.8515 - val_loss: 0.8907 - val_mse: 0.8905\n",
      "Epoch 7/30\n",
      "250/250 [==============================] - 3s 14ms/step - loss: 0.8452 - mse: 0.8450 - val_loss: 0.8849 - val_mse: 0.8847\n"
     ]
    },
    {
     "name": "stderr",
     "output_type": "stream",
     "text": [
      "WARNING:absl:Found untraced functions such as dropout_layer_call_fn, dropout_layer_call_and_return_conditional_losses, dropout_1_layer_call_fn, dropout_1_layer_call_and_return_conditional_losses, dropout_2_layer_call_fn while saving (showing 5 of 12). These functions will not be directly callable after loading.\n"
     ]
    },
    {
     "name": "stdout",
     "output_type": "stream",
     "text": [
      "Epoch 8/30\n",
      "250/250 [==============================] - 3s 14ms/step - loss: 0.8318 - mse: 0.8315 - val_loss: 0.8767 - val_mse: 0.8763\n"
     ]
    },
    {
     "name": "stderr",
     "output_type": "stream",
     "text": [
      "WARNING:absl:Found untraced functions such as dropout_layer_call_fn, dropout_layer_call_and_return_conditional_losses, dropout_1_layer_call_fn, dropout_1_layer_call_and_return_conditional_losses, dropout_2_layer_call_fn while saving (showing 5 of 12). These functions will not be directly callable after loading.\n"
     ]
    },
    {
     "name": "stdout",
     "output_type": "stream",
     "text": [
      "Epoch 9/30\n",
      "250/250 [==============================] - 3s 14ms/step - loss: 0.8209 - mse: 0.8206 - val_loss: 0.8741 - val_mse: 0.8737\n"
     ]
    },
    {
     "name": "stderr",
     "output_type": "stream",
     "text": [
      "WARNING:absl:Found untraced functions such as dropout_layer_call_fn, dropout_layer_call_and_return_conditional_losses, dropout_1_layer_call_fn, dropout_1_layer_call_and_return_conditional_losses, dropout_2_layer_call_fn while saving (showing 5 of 12). These functions will not be directly callable after loading.\n"
     ]
    },
    {
     "name": "stdout",
     "output_type": "stream",
     "text": [
      "Epoch 10/30\n",
      "250/250 [==============================] - 3s 13ms/step - loss: 0.8149 - mse: 0.8145 - val_loss: 0.8721 - val_mse: 0.8717\n"
     ]
    },
    {
     "name": "stderr",
     "output_type": "stream",
     "text": [
      "WARNING:absl:Found untraced functions such as dropout_layer_call_fn, dropout_layer_call_and_return_conditional_losses, dropout_1_layer_call_fn, dropout_1_layer_call_and_return_conditional_losses, dropout_2_layer_call_fn while saving (showing 5 of 12). These functions will not be directly callable after loading.\n"
     ]
    },
    {
     "name": "stdout",
     "output_type": "stream",
     "text": [
      "Epoch 11/30\n",
      "250/250 [==============================] - 4s 14ms/step - loss: 0.8065 - mse: 0.8061 - val_loss: 0.8771 - val_mse: 0.8767\n",
      "Epoch 12/30\n",
      "250/250 [==============================] - 4s 14ms/step - loss: 0.8018 - mse: 0.8013 - val_loss: 0.8827 - val_mse: 0.8822\n",
      "Epoch 13/30\n",
      "250/250 [==============================] - 3s 14ms/step - loss: 0.7937 - mse: 0.7932 - val_loss: 0.8778 - val_mse: 0.8773\n",
      "Epoch 14/30\n",
      "250/250 [==============================] - 3s 14ms/step - loss: 0.7817 - mse: 0.7812 - val_loss: 0.8761 - val_mse: 0.8756\n",
      "Epoch 15/30\n",
      "250/250 [==============================] - 3s 14ms/step - loss: 0.7718 - mse: 0.7713 - val_loss: 0.8709 - val_mse: 0.8703\n"
     ]
    },
    {
     "name": "stderr",
     "output_type": "stream",
     "text": [
      "WARNING:absl:Found untraced functions such as dropout_layer_call_fn, dropout_layer_call_and_return_conditional_losses, dropout_1_layer_call_fn, dropout_1_layer_call_and_return_conditional_losses, dropout_2_layer_call_fn while saving (showing 5 of 12). These functions will not be directly callable after loading.\n"
     ]
    },
    {
     "name": "stdout",
     "output_type": "stream",
     "text": [
      "Epoch 16/30\n",
      "250/250 [==============================] - 4s 14ms/step - loss: 0.7588 - mse: 0.7582 - val_loss: 0.8717 - val_mse: 0.8711\n",
      "Epoch 17/30\n",
      "250/250 [==============================] - 3s 14ms/step - loss: 0.7437 - mse: 0.7430 - val_loss: 0.8727 - val_mse: 0.8720\n",
      "Epoch 18/30\n",
      "250/250 [==============================] - 3s 14ms/step - loss: 0.7293 - mse: 0.7286 - val_loss: 0.8772 - val_mse: 0.8765\n",
      "Epoch 19/30\n",
      "250/250 [==============================] - 3s 14ms/step - loss: 0.7154 - mse: 0.7147 - val_loss: 0.8745 - val_mse: 0.8737\n",
      "Epoch 20/30\n",
      "250/250 [==============================] - 3s 14ms/step - loss: 0.7047 - mse: 0.7039 - val_loss: 0.8806 - val_mse: 0.8798\n",
      "test MSE 0.8686\n",
      "Epoch 1/30\n",
      "250/250 [==============================] - 8s 16ms/step - loss: 1.7824 - mse: 1.7823 - val_loss: 0.9095 - val_mse: 0.9094\n"
     ]
    },
    {
     "name": "stderr",
     "output_type": "stream",
     "text": [
      "WARNING:absl:Found untraced functions such as dropout_layer_call_fn, dropout_layer_call_and_return_conditional_losses, dropout_1_layer_call_fn, dropout_1_layer_call_and_return_conditional_losses, dropout_2_layer_call_fn while saving (showing 5 of 12). These functions will not be directly callable after loading.\n"
     ]
    },
    {
     "name": "stdout",
     "output_type": "stream",
     "text": [
      "Epoch 2/30\n",
      "250/250 [==============================] - 3s 13ms/step - loss: 0.8832 - mse: 0.8831 - val_loss: 0.8922 - val_mse: 0.8921\n"
     ]
    },
    {
     "name": "stderr",
     "output_type": "stream",
     "text": [
      "WARNING:absl:Found untraced functions such as dropout_layer_call_fn, dropout_layer_call_and_return_conditional_losses, dropout_1_layer_call_fn, dropout_1_layer_call_and_return_conditional_losses, dropout_2_layer_call_fn while saving (showing 5 of 12). These functions will not be directly callable after loading.\n"
     ]
    },
    {
     "name": "stdout",
     "output_type": "stream",
     "text": [
      "Epoch 3/30\n",
      "250/250 [==============================] - 4s 14ms/step - loss: 0.8684 - mse: 0.8683 - val_loss: 0.8898 - val_mse: 0.8897\n"
     ]
    },
    {
     "name": "stderr",
     "output_type": "stream",
     "text": [
      "WARNING:absl:Found untraced functions such as dropout_layer_call_fn, dropout_layer_call_and_return_conditional_losses, dropout_1_layer_call_fn, dropout_1_layer_call_and_return_conditional_losses, dropout_2_layer_call_fn while saving (showing 5 of 12). These functions will not be directly callable after loading.\n"
     ]
    },
    {
     "name": "stdout",
     "output_type": "stream",
     "text": [
      "Epoch 4/30\n",
      "250/250 [==============================] - 4s 14ms/step - loss: 0.8641 - mse: 0.8640 - val_loss: 0.8925 - val_mse: 0.8924\n",
      "Epoch 5/30\n",
      "250/250 [==============================] - 4s 14ms/step - loss: 0.8598 - mse: 0.8596 - val_loss: 0.8885 - val_mse: 0.8883\n"
     ]
    },
    {
     "name": "stderr",
     "output_type": "stream",
     "text": [
      "WARNING:absl:Found untraced functions such as dropout_layer_call_fn, dropout_layer_call_and_return_conditional_losses, dropout_1_layer_call_fn, dropout_1_layer_call_and_return_conditional_losses, dropout_2_layer_call_fn while saving (showing 5 of 12). These functions will not be directly callable after loading.\n"
     ]
    },
    {
     "name": "stdout",
     "output_type": "stream",
     "text": [
      "Epoch 6/30\n",
      "250/250 [==============================] - 4s 15ms/step - loss: 0.8563 - mse: 0.8560 - val_loss: 0.8857 - val_mse: 0.8855\n"
     ]
    },
    {
     "name": "stderr",
     "output_type": "stream",
     "text": [
      "WARNING:absl:Found untraced functions such as dropout_layer_call_fn, dropout_layer_call_and_return_conditional_losses, dropout_1_layer_call_fn, dropout_1_layer_call_and_return_conditional_losses, dropout_2_layer_call_fn while saving (showing 5 of 12). These functions will not be directly callable after loading.\n"
     ]
    },
    {
     "name": "stdout",
     "output_type": "stream",
     "text": [
      "Epoch 7/30\n",
      "250/250 [==============================] - 4s 15ms/step - loss: 0.8534 - mse: 0.8532 - val_loss: 0.8900 - val_mse: 0.8897\n",
      "Epoch 8/30\n",
      "250/250 [==============================] - 4s 15ms/step - loss: 0.8428 - mse: 0.8425 - val_loss: 0.8804 - val_mse: 0.8801\n"
     ]
    },
    {
     "name": "stderr",
     "output_type": "stream",
     "text": [
      "WARNING:absl:Found untraced functions such as dropout_layer_call_fn, dropout_layer_call_and_return_conditional_losses, dropout_1_layer_call_fn, dropout_1_layer_call_and_return_conditional_losses, dropout_2_layer_call_fn while saving (showing 5 of 12). These functions will not be directly callable after loading.\n"
     ]
    },
    {
     "name": "stdout",
     "output_type": "stream",
     "text": [
      "Epoch 9/30\n",
      "250/250 [==============================] - 4s 14ms/step - loss: 0.8307 - mse: 0.8304 - val_loss: 0.8678 - val_mse: 0.8675\n"
     ]
    },
    {
     "name": "stderr",
     "output_type": "stream",
     "text": [
      "WARNING:absl:Found untraced functions such as dropout_layer_call_fn, dropout_layer_call_and_return_conditional_losses, dropout_1_layer_call_fn, dropout_1_layer_call_and_return_conditional_losses, dropout_2_layer_call_fn while saving (showing 5 of 12). These functions will not be directly callable after loading.\n"
     ]
    },
    {
     "name": "stdout",
     "output_type": "stream",
     "text": [
      "Epoch 10/30\n",
      "250/250 [==============================] - 4s 15ms/step - loss: 0.8197 - mse: 0.8193 - val_loss: 0.8928 - val_mse: 0.8925\n",
      "Epoch 11/30\n",
      "250/250 [==============================] - 4s 14ms/step - loss: 0.8135 - mse: 0.8131 - val_loss: 0.8670 - val_mse: 0.8666\n"
     ]
    },
    {
     "name": "stderr",
     "output_type": "stream",
     "text": [
      "WARNING:absl:Found untraced functions such as dropout_layer_call_fn, dropout_layer_call_and_return_conditional_losses, dropout_1_layer_call_fn, dropout_1_layer_call_and_return_conditional_losses, dropout_2_layer_call_fn while saving (showing 5 of 12). These functions will not be directly callable after loading.\n"
     ]
    },
    {
     "name": "stdout",
     "output_type": "stream",
     "text": [
      "Epoch 12/30\n",
      "250/250 [==============================] - 4s 15ms/step - loss: 0.8023 - mse: 0.8018 - val_loss: 0.8623 - val_mse: 0.8618\n"
     ]
    },
    {
     "name": "stderr",
     "output_type": "stream",
     "text": [
      "WARNING:absl:Found untraced functions such as dropout_layer_call_fn, dropout_layer_call_and_return_conditional_losses, dropout_1_layer_call_fn, dropout_1_layer_call_and_return_conditional_losses, dropout_2_layer_call_fn while saving (showing 5 of 12). These functions will not be directly callable after loading.\n"
     ]
    },
    {
     "name": "stdout",
     "output_type": "stream",
     "text": [
      "Epoch 13/30\n",
      "250/250 [==============================] - 4s 14ms/step - loss: 0.7932 - mse: 0.7927 - val_loss: 0.8674 - val_mse: 0.8669\n",
      "Epoch 14/30\n",
      "250/250 [==============================] - 4s 14ms/step - loss: 0.7843 - mse: 0.7837 - val_loss: 0.8672 - val_mse: 0.8667\n",
      "Epoch 15/30\n",
      "250/250 [==============================] - 4s 14ms/step - loss: 0.7752 - mse: 0.7747 - val_loss: 0.8658 - val_mse: 0.8653\n",
      "Epoch 16/30\n",
      "250/250 [==============================] - 3s 14ms/step - loss: 0.7637 - mse: 0.7631 - val_loss: 0.8744 - val_mse: 0.8738\n",
      "Epoch 17/30\n",
      "250/250 [==============================] - 4s 15ms/step - loss: 0.7512 - mse: 0.7506 - val_loss: 0.8647 - val_mse: 0.8641\n",
      "test MSE 0.8586\n",
      "Epoch 1/30\n",
      "250/250 [==============================] - 7s 16ms/step - loss: 1.6974 - mse: 1.6973 - val_loss: 0.8963 - val_mse: 0.8962\n"
     ]
    },
    {
     "name": "stderr",
     "output_type": "stream",
     "text": [
      "WARNING:absl:Found untraced functions such as dropout_layer_call_fn, dropout_layer_call_and_return_conditional_losses, dropout_1_layer_call_fn, dropout_1_layer_call_and_return_conditional_losses, dropout_2_layer_call_fn while saving (showing 5 of 12). These functions will not be directly callable after loading.\n"
     ]
    },
    {
     "name": "stdout",
     "output_type": "stream",
     "text": [
      "Epoch 2/30\n",
      "250/250 [==============================] - 3s 13ms/step - loss: 0.8795 - mse: 0.8794 - val_loss: 0.8879 - val_mse: 0.8878\n"
     ]
    },
    {
     "name": "stderr",
     "output_type": "stream",
     "text": [
      "WARNING:absl:Found untraced functions such as dropout_layer_call_fn, dropout_layer_call_and_return_conditional_losses, dropout_1_layer_call_fn, dropout_1_layer_call_and_return_conditional_losses, dropout_2_layer_call_fn while saving (showing 5 of 12). These functions will not be directly callable after loading.\n"
     ]
    },
    {
     "name": "stdout",
     "output_type": "stream",
     "text": [
      "Epoch 3/30\n",
      "250/250 [==============================] - 3s 14ms/step - loss: 0.8668 - mse: 0.8667 - val_loss: 0.8844 - val_mse: 0.8842\n"
     ]
    },
    {
     "name": "stderr",
     "output_type": "stream",
     "text": [
      "WARNING:absl:Found untraced functions such as dropout_layer_call_fn, dropout_layer_call_and_return_conditional_losses, dropout_1_layer_call_fn, dropout_1_layer_call_and_return_conditional_losses, dropout_2_layer_call_fn while saving (showing 5 of 12). These functions will not be directly callable after loading.\n"
     ]
    },
    {
     "name": "stdout",
     "output_type": "stream",
     "text": [
      "Epoch 4/30\n",
      "250/250 [==============================] - 4s 14ms/step - loss: 0.8614 - mse: 0.8612 - val_loss: 0.8817 - val_mse: 0.8816\n"
     ]
    },
    {
     "name": "stderr",
     "output_type": "stream",
     "text": [
      "WARNING:absl:Found untraced functions such as dropout_layer_call_fn, dropout_layer_call_and_return_conditional_losses, dropout_1_layer_call_fn, dropout_1_layer_call_and_return_conditional_losses, dropout_2_layer_call_fn while saving (showing 5 of 12). These functions will not be directly callable after loading.\n"
     ]
    },
    {
     "name": "stdout",
     "output_type": "stream",
     "text": [
      "Epoch 5/30\n",
      "250/250 [==============================] - 3s 13ms/step - loss: 0.8553 - mse: 0.8551 - val_loss: 0.8784 - val_mse: 0.8781\n"
     ]
    },
    {
     "name": "stderr",
     "output_type": "stream",
     "text": [
      "WARNING:absl:Found untraced functions such as dropout_layer_call_fn, dropout_layer_call_and_return_conditional_losses, dropout_1_layer_call_fn, dropout_1_layer_call_and_return_conditional_losses, dropout_2_layer_call_fn while saving (showing 5 of 12). These functions will not be directly callable after loading.\n"
     ]
    },
    {
     "name": "stdout",
     "output_type": "stream",
     "text": [
      "Epoch 6/30\n",
      "250/250 [==============================] - 4s 14ms/step - loss: 0.8425 - mse: 0.8423 - val_loss: 0.8697 - val_mse: 0.8694\n"
     ]
    },
    {
     "name": "stderr",
     "output_type": "stream",
     "text": [
      "WARNING:absl:Found untraced functions such as dropout_layer_call_fn, dropout_layer_call_and_return_conditional_losses, dropout_1_layer_call_fn, dropout_1_layer_call_and_return_conditional_losses, dropout_2_layer_call_fn while saving (showing 5 of 12). These functions will not be directly callable after loading.\n"
     ]
    },
    {
     "name": "stdout",
     "output_type": "stream",
     "text": [
      "Epoch 7/30\n",
      "250/250 [==============================] - 3s 14ms/step - loss: 0.8285 - mse: 0.8282 - val_loss: 0.8939 - val_mse: 0.8936\n",
      "Epoch 8/30\n",
      "250/250 [==============================] - 3s 14ms/step - loss: 0.8188 - mse: 0.8185 - val_loss: 0.8706 - val_mse: 0.8703\n",
      "Epoch 9/30\n",
      "250/250 [==============================] - 4s 14ms/step - loss: 0.8139 - mse: 0.8136 - val_loss: 0.8769 - val_mse: 0.8765\n",
      "Epoch 10/30\n",
      "250/250 [==============================] - 4s 14ms/step - loss: 0.7999 - mse: 0.7995 - val_loss: 0.8641 - val_mse: 0.8637\n"
     ]
    },
    {
     "name": "stderr",
     "output_type": "stream",
     "text": [
      "WARNING:absl:Found untraced functions such as dropout_layer_call_fn, dropout_layer_call_and_return_conditional_losses, dropout_1_layer_call_fn, dropout_1_layer_call_and_return_conditional_losses, dropout_2_layer_call_fn while saving (showing 5 of 12). These functions will not be directly callable after loading.\n"
     ]
    },
    {
     "name": "stdout",
     "output_type": "stream",
     "text": [
      "Epoch 11/30\n",
      "250/250 [==============================] - 4s 14ms/step - loss: 0.7893 - mse: 0.7889 - val_loss: 0.8678 - val_mse: 0.8673\n",
      "Epoch 12/30\n",
      "250/250 [==============================] - 3s 14ms/step - loss: 0.7811 - mse: 0.7806 - val_loss: 0.8651 - val_mse: 0.8646\n",
      "Epoch 13/30\n",
      "250/250 [==============================] - 3s 13ms/step - loss: 0.7728 - mse: 0.7723 - val_loss: 0.8697 - val_mse: 0.8692\n",
      "Epoch 14/30\n",
      "250/250 [==============================] - 3s 14ms/step - loss: 0.7640 - mse: 0.7635 - val_loss: 0.8704 - val_mse: 0.8698\n",
      "Epoch 15/30\n",
      "250/250 [==============================] - 4s 14ms/step - loss: 0.7542 - mse: 0.7536 - val_loss: 0.8824 - val_mse: 0.8818\n",
      "test MSE 0.8666\n",
      "Epoch 1/30\n",
      "250/250 [==============================] - 7s 15ms/step - loss: 1.8157 - mse: 1.8157 - val_loss: 0.8957 - val_mse: 0.8957\n"
     ]
    },
    {
     "name": "stderr",
     "output_type": "stream",
     "text": [
      "WARNING:absl:Found untraced functions such as dropout_layer_call_fn, dropout_layer_call_and_return_conditional_losses, dropout_1_layer_call_fn, dropout_1_layer_call_and_return_conditional_losses, dropout_2_layer_call_fn while saving (showing 5 of 12). These functions will not be directly callable after loading.\n"
     ]
    },
    {
     "name": "stdout",
     "output_type": "stream",
     "text": [
      "Epoch 2/30\n",
      "250/250 [==============================] - 3s 14ms/step - loss: 0.8815 - mse: 0.8814 - val_loss: 0.8832 - val_mse: 0.8831\n"
     ]
    },
    {
     "name": "stderr",
     "output_type": "stream",
     "text": [
      "WARNING:absl:Found untraced functions such as dropout_layer_call_fn, dropout_layer_call_and_return_conditional_losses, dropout_1_layer_call_fn, dropout_1_layer_call_and_return_conditional_losses, dropout_2_layer_call_fn while saving (showing 5 of 12). These functions will not be directly callable after loading.\n"
     ]
    },
    {
     "name": "stdout",
     "output_type": "stream",
     "text": [
      "Epoch 3/30\n",
      "250/250 [==============================] - 4s 15ms/step - loss: 0.8671 - mse: 0.8670 - val_loss: 0.8820 - val_mse: 0.8819\n"
     ]
    },
    {
     "name": "stderr",
     "output_type": "stream",
     "text": [
      "WARNING:absl:Found untraced functions such as dropout_layer_call_fn, dropout_layer_call_and_return_conditional_losses, dropout_1_layer_call_fn, dropout_1_layer_call_and_return_conditional_losses, dropout_2_layer_call_fn while saving (showing 5 of 12). These functions will not be directly callable after loading.\n"
     ]
    },
    {
     "name": "stdout",
     "output_type": "stream",
     "text": [
      "Epoch 4/30\n",
      "250/250 [==============================] - 4s 14ms/step - loss: 0.8627 - mse: 0.8625 - val_loss: 0.8879 - val_mse: 0.8877\n",
      "Epoch 5/30\n",
      "250/250 [==============================] - 4s 14ms/step - loss: 0.8571 - mse: 0.8569 - val_loss: 0.8807 - val_mse: 0.8805\n"
     ]
    },
    {
     "name": "stderr",
     "output_type": "stream",
     "text": [
      "WARNING:absl:Found untraced functions such as dropout_layer_call_fn, dropout_layer_call_and_return_conditional_losses, dropout_1_layer_call_fn, dropout_1_layer_call_and_return_conditional_losses, dropout_2_layer_call_fn while saving (showing 5 of 12). These functions will not be directly callable after loading.\n"
     ]
    },
    {
     "name": "stdout",
     "output_type": "stream",
     "text": [
      "Epoch 6/30\n",
      "250/250 [==============================] - 4s 15ms/step - loss: 0.8538 - mse: 0.8536 - val_loss: 0.8747 - val_mse: 0.8744\n"
     ]
    },
    {
     "name": "stderr",
     "output_type": "stream",
     "text": [
      "WARNING:absl:Found untraced functions such as dropout_layer_call_fn, dropout_layer_call_and_return_conditional_losses, dropout_1_layer_call_fn, dropout_1_layer_call_and_return_conditional_losses, dropout_2_layer_call_fn while saving (showing 5 of 12). These functions will not be directly callable after loading.\n"
     ]
    },
    {
     "name": "stdout",
     "output_type": "stream",
     "text": [
      "Epoch 7/30\n",
      "250/250 [==============================] - 4s 15ms/step - loss: 0.8466 - mse: 0.8464 - val_loss: 0.8714 - val_mse: 0.8712\n"
     ]
    },
    {
     "name": "stderr",
     "output_type": "stream",
     "text": [
      "WARNING:absl:Found untraced functions such as dropout_layer_call_fn, dropout_layer_call_and_return_conditional_losses, dropout_1_layer_call_fn, dropout_1_layer_call_and_return_conditional_losses, dropout_2_layer_call_fn while saving (showing 5 of 12). These functions will not be directly callable after loading.\n"
     ]
    },
    {
     "name": "stdout",
     "output_type": "stream",
     "text": [
      "Epoch 8/30\n",
      "250/250 [==============================] - 4s 15ms/step - loss: 0.8324 - mse: 0.8321 - val_loss: 0.8749 - val_mse: 0.8746\n",
      "Epoch 9/30\n",
      "250/250 [==============================] - 4s 15ms/step - loss: 0.8243 - mse: 0.8239 - val_loss: 0.8583 - val_mse: 0.8580\n"
     ]
    },
    {
     "name": "stderr",
     "output_type": "stream",
     "text": [
      "WARNING:absl:Found untraced functions such as dropout_layer_call_fn, dropout_layer_call_and_return_conditional_losses, dropout_1_layer_call_fn, dropout_1_layer_call_and_return_conditional_losses, dropout_2_layer_call_fn while saving (showing 5 of 12). These functions will not be directly callable after loading.\n"
     ]
    },
    {
     "name": "stdout",
     "output_type": "stream",
     "text": [
      "Epoch 10/30\n",
      "250/250 [==============================] - 3s 13ms/step - loss: 0.8129 - mse: 0.8125 - val_loss: 0.8617 - val_mse: 0.8613\n",
      "Epoch 11/30\n",
      "250/250 [==============================] - 4s 14ms/step - loss: 0.8059 - mse: 0.8055 - val_loss: 0.8700 - val_mse: 0.8696\n",
      "Epoch 12/30\n",
      "250/250 [==============================] - 4s 15ms/step - loss: 0.7973 - mse: 0.7969 - val_loss: 0.8706 - val_mse: 0.8701\n",
      "Epoch 13/30\n",
      "250/250 [==============================] - 4s 16ms/step - loss: 0.7872 - mse: 0.7868 - val_loss: 0.8612 - val_mse: 0.8607\n",
      "Epoch 14/30\n",
      "250/250 [==============================] - 4s 15ms/step - loss: 0.7780 - mse: 0.7775 - val_loss: 0.8579 - val_mse: 0.8574\n"
     ]
    },
    {
     "name": "stderr",
     "output_type": "stream",
     "text": [
      "WARNING:absl:Found untraced functions such as dropout_layer_call_fn, dropout_layer_call_and_return_conditional_losses, dropout_1_layer_call_fn, dropout_1_layer_call_and_return_conditional_losses, dropout_2_layer_call_fn while saving (showing 5 of 12). These functions will not be directly callable after loading.\n"
     ]
    },
    {
     "name": "stdout",
     "output_type": "stream",
     "text": [
      "Epoch 15/30\n",
      "250/250 [==============================] - 4s 14ms/step - loss: 0.7700 - mse: 0.7694 - val_loss: 0.8621 - val_mse: 0.8615\n",
      "Epoch 16/30\n",
      "250/250 [==============================] - 4s 14ms/step - loss: 0.7611 - mse: 0.7605 - val_loss: 0.8643 - val_mse: 0.8637\n",
      "Epoch 17/30\n",
      "250/250 [==============================] - 4s 15ms/step - loss: 0.7517 - mse: 0.7510 - val_loss: 0.8704 - val_mse: 0.8697\n",
      "Epoch 18/30\n",
      "250/250 [==============================] - 4s 14ms/step - loss: 0.7422 - mse: 0.7416 - val_loss: 0.8698 - val_mse: 0.8692\n",
      "Epoch 19/30\n",
      "250/250 [==============================] - 4s 15ms/step - loss: 0.7281 - mse: 0.7274 - val_loss: 0.8684 - val_mse: 0.8677\n",
      "test MSE 0.8795\n"
     ]
    }
   ],
   "source": [
    "# deepFM\n",
    "dict_deepFM = {'linear_feature_columns': linear_feature_columns, \n",
    "               'dnn_feature_columns': dnn_feature_columns,\n",
    "               'task': 'regression'}\n",
    "ls_result = calc_nn_based_model(df_movie_all, \n",
    "                                DeepFM, dict_deepFM,\n",
    "                                feature_names, \n",
    "                                'movie_lens', 'deepFM')\n",
    "all_result.extend(ls_result)"
   ]
  },
  {
   "cell_type": "code",
   "execution_count": 35,
   "metadata": {},
   "outputs": [
    {
     "name": "stdout",
     "output_type": "stream",
     "text": [
      "Epoch 1/30\n",
      "250/250 [==============================] - 9s 15ms/step - loss: 4.3529 - mse: 4.3526 - val_loss: 1.2306 - val_mse: 1.2299\n"
     ]
    },
    {
     "name": "stderr",
     "output_type": "stream",
     "text": [
      "WARNING:absl:Found untraced functions such as dropout_layer_call_fn, dropout_layer_call_and_return_conditional_losses, lambda_layer_call_fn, lambda_layer_call_and_return_conditional_losses while saving (showing 4 of 4). These functions will not be directly callable after loading.\n"
     ]
    },
    {
     "name": "stdout",
     "output_type": "stream",
     "text": [
      "Epoch 2/30\n",
      "250/250 [==============================] - 4s 14ms/step - loss: 1.1753 - mse: 1.1743 - val_loss: 1.1321 - val_mse: 1.1309\n"
     ]
    },
    {
     "name": "stderr",
     "output_type": "stream",
     "text": [
      "WARNING:absl:Found untraced functions such as dropout_layer_call_fn, dropout_layer_call_and_return_conditional_losses, lambda_layer_call_fn, lambda_layer_call_and_return_conditional_losses while saving (showing 4 of 4). These functions will not be directly callable after loading.\n"
     ]
    },
    {
     "name": "stdout",
     "output_type": "stream",
     "text": [
      "Epoch 3/30\n",
      "250/250 [==============================] - 4s 15ms/step - loss: 1.0936 - mse: 1.0919 - val_loss: 1.0651 - val_mse: 1.0630\n"
     ]
    },
    {
     "name": "stderr",
     "output_type": "stream",
     "text": [
      "WARNING:absl:Found untraced functions such as dropout_layer_call_fn, dropout_layer_call_and_return_conditional_losses, lambda_layer_call_fn, lambda_layer_call_and_return_conditional_losses while saving (showing 4 of 4). These functions will not be directly callable after loading.\n"
     ]
    },
    {
     "name": "stdout",
     "output_type": "stream",
     "text": [
      "Epoch 4/30\n",
      "250/250 [==============================] - 4s 15ms/step - loss: 0.9942 - mse: 0.9915 - val_loss: 0.9584 - val_mse: 0.9551\n"
     ]
    },
    {
     "name": "stderr",
     "output_type": "stream",
     "text": [
      "WARNING:absl:Found untraced functions such as dropout_layer_call_fn, dropout_layer_call_and_return_conditional_losses, lambda_layer_call_fn, lambda_layer_call_and_return_conditional_losses while saving (showing 4 of 4). These functions will not be directly callable after loading.\n"
     ]
    },
    {
     "name": "stdout",
     "output_type": "stream",
     "text": [
      "Epoch 5/30\n",
      "250/250 [==============================] - 4s 15ms/step - loss: 0.8973 - mse: 0.8937 - val_loss: 0.9143 - val_mse: 0.9105\n"
     ]
    },
    {
     "name": "stderr",
     "output_type": "stream",
     "text": [
      "WARNING:absl:Found untraced functions such as dropout_layer_call_fn, dropout_layer_call_and_return_conditional_losses, lambda_layer_call_fn, lambda_layer_call_and_return_conditional_losses while saving (showing 4 of 4). These functions will not be directly callable after loading.\n"
     ]
    },
    {
     "name": "stdout",
     "output_type": "stream",
     "text": [
      "Epoch 6/30\n",
      "250/250 [==============================] - 4s 15ms/step - loss: 0.8673 - mse: 0.8632 - val_loss: 0.9012 - val_mse: 0.8969\n"
     ]
    },
    {
     "name": "stderr",
     "output_type": "stream",
     "text": [
      "WARNING:absl:Found untraced functions such as dropout_layer_call_fn, dropout_layer_call_and_return_conditional_losses, lambda_layer_call_fn, lambda_layer_call_and_return_conditional_losses while saving (showing 4 of 4). These functions will not be directly callable after loading.\n"
     ]
    },
    {
     "name": "stdout",
     "output_type": "stream",
     "text": [
      "Epoch 7/30\n",
      "250/250 [==============================] - 4s 15ms/step - loss: 0.8513 - mse: 0.8469 - val_loss: 0.8932 - val_mse: 0.8887\n"
     ]
    },
    {
     "name": "stderr",
     "output_type": "stream",
     "text": [
      "WARNING:absl:Found untraced functions such as dropout_layer_call_fn, dropout_layer_call_and_return_conditional_losses, lambda_layer_call_fn, lambda_layer_call_and_return_conditional_losses while saving (showing 4 of 4). These functions will not be directly callable after loading.\n"
     ]
    },
    {
     "name": "stdout",
     "output_type": "stream",
     "text": [
      "Epoch 8/30\n",
      "250/250 [==============================] - 4s 15ms/step - loss: 0.8395 - mse: 0.8348 - val_loss: 0.8868 - val_mse: 0.8820\n"
     ]
    },
    {
     "name": "stderr",
     "output_type": "stream",
     "text": [
      "WARNING:absl:Found untraced functions such as dropout_layer_call_fn, dropout_layer_call_and_return_conditional_losses, lambda_layer_call_fn, lambda_layer_call_and_return_conditional_losses while saving (showing 4 of 4). These functions will not be directly callable after loading.\n"
     ]
    },
    {
     "name": "stdout",
     "output_type": "stream",
     "text": [
      "Epoch 9/30\n",
      "250/250 [==============================] - 4s 15ms/step - loss: 0.8300 - mse: 0.8251 - val_loss: 0.8830 - val_mse: 0.8779\n"
     ]
    },
    {
     "name": "stderr",
     "output_type": "stream",
     "text": [
      "WARNING:absl:Found untraced functions such as dropout_layer_call_fn, dropout_layer_call_and_return_conditional_losses, lambda_layer_call_fn, lambda_layer_call_and_return_conditional_losses while saving (showing 4 of 4). These functions will not be directly callable after loading.\n"
     ]
    },
    {
     "name": "stdout",
     "output_type": "stream",
     "text": [
      "Epoch 10/30\n",
      "250/250 [==============================] - 4s 16ms/step - loss: 0.8225 - mse: 0.8173 - val_loss: 0.8800 - val_mse: 0.8747\n"
     ]
    },
    {
     "name": "stderr",
     "output_type": "stream",
     "text": [
      "WARNING:absl:Found untraced functions such as dropout_layer_call_fn, dropout_layer_call_and_return_conditional_losses, lambda_layer_call_fn, lambda_layer_call_and_return_conditional_losses while saving (showing 4 of 4). These functions will not be directly callable after loading.\n"
     ]
    },
    {
     "name": "stdout",
     "output_type": "stream",
     "text": [
      "Epoch 11/30\n",
      "250/250 [==============================] - 4s 15ms/step - loss: 0.8164 - mse: 0.8110 - val_loss: 0.8793 - val_mse: 0.8738\n"
     ]
    },
    {
     "name": "stderr",
     "output_type": "stream",
     "text": [
      "WARNING:absl:Found untraced functions such as dropout_layer_call_fn, dropout_layer_call_and_return_conditional_losses, lambda_layer_call_fn, lambda_layer_call_and_return_conditional_losses while saving (showing 4 of 4). These functions will not be directly callable after loading.\n"
     ]
    },
    {
     "name": "stdout",
     "output_type": "stream",
     "text": [
      "Epoch 12/30\n",
      "250/250 [==============================] - 4s 15ms/step - loss: 0.8110 - mse: 0.8054 - val_loss: 0.8782 - val_mse: 0.8726\n"
     ]
    },
    {
     "name": "stderr",
     "output_type": "stream",
     "text": [
      "WARNING:absl:Found untraced functions such as dropout_layer_call_fn, dropout_layer_call_and_return_conditional_losses, lambda_layer_call_fn, lambda_layer_call_and_return_conditional_losses while saving (showing 4 of 4). These functions will not be directly callable after loading.\n"
     ]
    },
    {
     "name": "stdout",
     "output_type": "stream",
     "text": [
      "Epoch 13/30\n",
      "250/250 [==============================] - 4s 15ms/step - loss: 0.8068 - mse: 0.8011 - val_loss: 0.8776 - val_mse: 0.8718\n"
     ]
    },
    {
     "name": "stderr",
     "output_type": "stream",
     "text": [
      "WARNING:absl:Found untraced functions such as dropout_layer_call_fn, dropout_layer_call_and_return_conditional_losses, lambda_layer_call_fn, lambda_layer_call_and_return_conditional_losses while saving (showing 4 of 4). These functions will not be directly callable after loading.\n"
     ]
    },
    {
     "name": "stdout",
     "output_type": "stream",
     "text": [
      "Epoch 14/30\n",
      "250/250 [==============================] - 4s 15ms/step - loss: 0.8027 - mse: 0.7968 - val_loss: 0.8794 - val_mse: 0.8735\n",
      "Epoch 15/30\n",
      "250/250 [==============================] - 4s 15ms/step - loss: 0.7992 - mse: 0.7932 - val_loss: 0.8785 - val_mse: 0.8725\n",
      "Epoch 16/30\n",
      "250/250 [==============================] - 4s 15ms/step - loss: 0.7960 - mse: 0.7899 - val_loss: 0.8784 - val_mse: 0.8723\n",
      "Epoch 17/30\n",
      "250/250 [==============================] - 4s 15ms/step - loss: 0.7933 - mse: 0.7870 - val_loss: 0.8781 - val_mse: 0.8719\n",
      "Epoch 18/30\n",
      "250/250 [==============================] - 4s 15ms/step - loss: 0.7906 - mse: 0.7843 - val_loss: 0.8795 - val_mse: 0.8731\n",
      "test MSE 0.8898\n",
      "Epoch 1/30\n",
      "250/250 [==============================] - 7s 13ms/step - loss: 4.3633 - mse: 4.3630 - val_loss: 1.2382 - val_mse: 1.2374\n"
     ]
    },
    {
     "name": "stderr",
     "output_type": "stream",
     "text": [
      "WARNING:absl:Found untraced functions such as dropout_layer_call_fn, dropout_layer_call_and_return_conditional_losses, lambda_layer_call_fn, lambda_layer_call_and_return_conditional_losses while saving (showing 4 of 4). These functions will not be directly callable after loading.\n"
     ]
    },
    {
     "name": "stdout",
     "output_type": "stream",
     "text": [
      "Epoch 2/30\n",
      "250/250 [==============================] - 3s 14ms/step - loss: 1.1818 - mse: 1.1807 - val_loss: 1.1369 - val_mse: 1.1354\n"
     ]
    },
    {
     "name": "stderr",
     "output_type": "stream",
     "text": [
      "WARNING:absl:Found untraced functions such as dropout_layer_call_fn, dropout_layer_call_and_return_conditional_losses, lambda_layer_call_fn, lambda_layer_call_and_return_conditional_losses while saving (showing 4 of 4). These functions will not be directly callable after loading.\n"
     ]
    },
    {
     "name": "stdout",
     "output_type": "stream",
     "text": [
      "Epoch 3/30\n",
      "250/250 [==============================] - 4s 15ms/step - loss: 1.0241 - mse: 1.0219 - val_loss: 0.9678 - val_mse: 0.9650\n"
     ]
    },
    {
     "name": "stderr",
     "output_type": "stream",
     "text": [
      "WARNING:absl:Found untraced functions such as dropout_layer_call_fn, dropout_layer_call_and_return_conditional_losses, lambda_layer_call_fn, lambda_layer_call_and_return_conditional_losses while saving (showing 4 of 4). These functions will not be directly callable after loading.\n"
     ]
    },
    {
     "name": "stdout",
     "output_type": "stream",
     "text": [
      "Epoch 4/30\n",
      "250/250 [==============================] - 4s 14ms/step - loss: 0.9109 - mse: 0.9079 - val_loss: 0.9426 - val_mse: 0.9395\n"
     ]
    },
    {
     "name": "stderr",
     "output_type": "stream",
     "text": [
      "WARNING:absl:Found untraced functions such as dropout_layer_call_fn, dropout_layer_call_and_return_conditional_losses, lambda_layer_call_fn, lambda_layer_call_and_return_conditional_losses while saving (showing 4 of 4). These functions will not be directly callable after loading.\n"
     ]
    },
    {
     "name": "stdout",
     "output_type": "stream",
     "text": [
      "Epoch 5/30\n",
      "250/250 [==============================] - 4s 15ms/step - loss: 0.8836 - mse: 0.8804 - val_loss: 0.9288 - val_mse: 0.9255\n"
     ]
    },
    {
     "name": "stderr",
     "output_type": "stream",
     "text": [
      "WARNING:absl:Found untraced functions such as dropout_layer_call_fn, dropout_layer_call_and_return_conditional_losses, lambda_layer_call_fn, lambda_layer_call_and_return_conditional_losses while saving (showing 4 of 4). These functions will not be directly callable after loading.\n"
     ]
    },
    {
     "name": "stdout",
     "output_type": "stream",
     "text": [
      "Epoch 6/30\n",
      "250/250 [==============================] - 4s 14ms/step - loss: 0.8675 - mse: 0.8641 - val_loss: 0.9199 - val_mse: 0.9163\n"
     ]
    },
    {
     "name": "stderr",
     "output_type": "stream",
     "text": [
      "WARNING:absl:Found untraced functions such as dropout_layer_call_fn, dropout_layer_call_and_return_conditional_losses, lambda_layer_call_fn, lambda_layer_call_and_return_conditional_losses while saving (showing 4 of 4). These functions will not be directly callable after loading.\n"
     ]
    },
    {
     "name": "stdout",
     "output_type": "stream",
     "text": [
      "Epoch 7/30\n",
      "250/250 [==============================] - 4s 15ms/step - loss: 0.8557 - mse: 0.8521 - val_loss: 0.9122 - val_mse: 0.9085\n"
     ]
    },
    {
     "name": "stderr",
     "output_type": "stream",
     "text": [
      "WARNING:absl:Found untraced functions such as dropout_layer_call_fn, dropout_layer_call_and_return_conditional_losses, lambda_layer_call_fn, lambda_layer_call_and_return_conditional_losses while saving (showing 4 of 4). These functions will not be directly callable after loading.\n"
     ]
    },
    {
     "name": "stdout",
     "output_type": "stream",
     "text": [
      "Epoch 8/30\n",
      "250/250 [==============================] - 4s 14ms/step - loss: 0.8468 - mse: 0.8430 - val_loss: 0.9057 - val_mse: 0.9018\n"
     ]
    },
    {
     "name": "stderr",
     "output_type": "stream",
     "text": [
      "WARNING:absl:Found untraced functions such as dropout_layer_call_fn, dropout_layer_call_and_return_conditional_losses, lambda_layer_call_fn, lambda_layer_call_and_return_conditional_losses while saving (showing 4 of 4). These functions will not be directly callable after loading.\n"
     ]
    },
    {
     "name": "stdout",
     "output_type": "stream",
     "text": [
      "Epoch 9/30\n",
      "250/250 [==============================] - 4s 14ms/step - loss: 0.8393 - mse: 0.8353 - val_loss: 0.9032 - val_mse: 0.8992\n"
     ]
    },
    {
     "name": "stderr",
     "output_type": "stream",
     "text": [
      "WARNING:absl:Found untraced functions such as dropout_layer_call_fn, dropout_layer_call_and_return_conditional_losses, lambda_layer_call_fn, lambda_layer_call_and_return_conditional_losses while saving (showing 4 of 4). These functions will not be directly callable after loading.\n"
     ]
    },
    {
     "name": "stdout",
     "output_type": "stream",
     "text": [
      "Epoch 10/30\n",
      "250/250 [==============================] - 4s 15ms/step - loss: 0.8326 - mse: 0.8285 - val_loss: 0.8993 - val_mse: 0.8951\n"
     ]
    },
    {
     "name": "stderr",
     "output_type": "stream",
     "text": [
      "WARNING:absl:Found untraced functions such as dropout_layer_call_fn, dropout_layer_call_and_return_conditional_losses, lambda_layer_call_fn, lambda_layer_call_and_return_conditional_losses while saving (showing 4 of 4). These functions will not be directly callable after loading.\n"
     ]
    },
    {
     "name": "stdout",
     "output_type": "stream",
     "text": [
      "Epoch 11/30\n",
      "250/250 [==============================] - 4s 14ms/step - loss: 0.8269 - mse: 0.8226 - val_loss: 0.8969 - val_mse: 0.8926\n"
     ]
    },
    {
     "name": "stderr",
     "output_type": "stream",
     "text": [
      "WARNING:absl:Found untraced functions such as dropout_layer_call_fn, dropout_layer_call_and_return_conditional_losses, lambda_layer_call_fn, lambda_layer_call_and_return_conditional_losses while saving (showing 4 of 4). These functions will not be directly callable after loading.\n"
     ]
    },
    {
     "name": "stdout",
     "output_type": "stream",
     "text": [
      "Epoch 12/30\n",
      "250/250 [==============================] - 4s 14ms/step - loss: 0.8220 - mse: 0.8175 - val_loss: 0.8941 - val_mse: 0.8896\n"
     ]
    },
    {
     "name": "stderr",
     "output_type": "stream",
     "text": [
      "WARNING:absl:Found untraced functions such as dropout_layer_call_fn, dropout_layer_call_and_return_conditional_losses, lambda_layer_call_fn, lambda_layer_call_and_return_conditional_losses while saving (showing 4 of 4). These functions will not be directly callable after loading.\n"
     ]
    },
    {
     "name": "stdout",
     "output_type": "stream",
     "text": [
      "Epoch 13/30\n",
      "250/250 [==============================] - 3s 14ms/step - loss: 0.8176 - mse: 0.8130 - val_loss: 0.8951 - val_mse: 0.8905\n",
      "Epoch 14/30\n",
      "250/250 [==============================] - 3s 14ms/step - loss: 0.8135 - mse: 0.8088 - val_loss: 0.8923 - val_mse: 0.8875\n"
     ]
    },
    {
     "name": "stderr",
     "output_type": "stream",
     "text": [
      "WARNING:absl:Found untraced functions such as dropout_layer_call_fn, dropout_layer_call_and_return_conditional_losses, lambda_layer_call_fn, lambda_layer_call_and_return_conditional_losses while saving (showing 4 of 4). These functions will not be directly callable after loading.\n"
     ]
    },
    {
     "name": "stdout",
     "output_type": "stream",
     "text": [
      "Epoch 15/30\n",
      "250/250 [==============================] - 3s 14ms/step - loss: 0.8103 - mse: 0.8055 - val_loss: 0.8909 - val_mse: 0.8860\n"
     ]
    },
    {
     "name": "stderr",
     "output_type": "stream",
     "text": [
      "WARNING:absl:Found untraced functions such as dropout_layer_call_fn, dropout_layer_call_and_return_conditional_losses, lambda_layer_call_fn, lambda_layer_call_and_return_conditional_losses while saving (showing 4 of 4). These functions will not be directly callable after loading.\n"
     ]
    },
    {
     "name": "stdout",
     "output_type": "stream",
     "text": [
      "Epoch 16/30\n",
      "250/250 [==============================] - 4s 14ms/step - loss: 0.8066 - mse: 0.8017 - val_loss: 0.8905 - val_mse: 0.8855\n"
     ]
    },
    {
     "name": "stderr",
     "output_type": "stream",
     "text": [
      "WARNING:absl:Found untraced functions such as dropout_layer_call_fn, dropout_layer_call_and_return_conditional_losses, lambda_layer_call_fn, lambda_layer_call_and_return_conditional_losses while saving (showing 4 of 4). These functions will not be directly callable after loading.\n"
     ]
    },
    {
     "name": "stdout",
     "output_type": "stream",
     "text": [
      "Epoch 17/30\n",
      "250/250 [==============================] - 4s 14ms/step - loss: 0.8036 - mse: 0.7986 - val_loss: 0.8899 - val_mse: 0.8848\n"
     ]
    },
    {
     "name": "stderr",
     "output_type": "stream",
     "text": [
      "WARNING:absl:Found untraced functions such as dropout_layer_call_fn, dropout_layer_call_and_return_conditional_losses, lambda_layer_call_fn, lambda_layer_call_and_return_conditional_losses while saving (showing 4 of 4). These functions will not be directly callable after loading.\n"
     ]
    },
    {
     "name": "stdout",
     "output_type": "stream",
     "text": [
      "Epoch 18/30\n",
      "250/250 [==============================] - 4s 15ms/step - loss: 0.8005 - mse: 0.7954 - val_loss: 0.8947 - val_mse: 0.8896\n",
      "Epoch 19/30\n",
      "250/250 [==============================] - 4s 14ms/step - loss: 0.7979 - mse: 0.7927 - val_loss: 0.8920 - val_mse: 0.8867\n",
      "Epoch 20/30\n",
      "250/250 [==============================] - 4s 15ms/step - loss: 0.7951 - mse: 0.7898 - val_loss: 0.8907 - val_mse: 0.8854\n",
      "Epoch 21/30\n",
      "250/250 [==============================] - 4s 15ms/step - loss: 0.7931 - mse: 0.7877 - val_loss: 0.8901 - val_mse: 0.8847\n"
     ]
    },
    {
     "name": "stderr",
     "output_type": "stream",
     "text": [
      "WARNING:absl:Found untraced functions such as dropout_layer_call_fn, dropout_layer_call_and_return_conditional_losses, lambda_layer_call_fn, lambda_layer_call_and_return_conditional_losses while saving (showing 4 of 4). These functions will not be directly callable after loading.\n"
     ]
    },
    {
     "name": "stdout",
     "output_type": "stream",
     "text": [
      "Epoch 22/30\n",
      "250/250 [==============================] - 4s 14ms/step - loss: 0.7904 - mse: 0.7849 - val_loss: 0.8898 - val_mse: 0.8843\n"
     ]
    },
    {
     "name": "stderr",
     "output_type": "stream",
     "text": [
      "WARNING:absl:Found untraced functions such as dropout_layer_call_fn, dropout_layer_call_and_return_conditional_losses, lambda_layer_call_fn, lambda_layer_call_and_return_conditional_losses while saving (showing 4 of 4). These functions will not be directly callable after loading.\n"
     ]
    },
    {
     "name": "stdout",
     "output_type": "stream",
     "text": [
      "Epoch 23/30\n",
      "250/250 [==============================] - 4s 14ms/step - loss: 0.7885 - mse: 0.7829 - val_loss: 0.8898 - val_mse: 0.8842\n"
     ]
    },
    {
     "name": "stderr",
     "output_type": "stream",
     "text": [
      "WARNING:absl:Found untraced functions such as dropout_layer_call_fn, dropout_layer_call_and_return_conditional_losses, lambda_layer_call_fn, lambda_layer_call_and_return_conditional_losses while saving (showing 4 of 4). These functions will not be directly callable after loading.\n"
     ]
    },
    {
     "name": "stdout",
     "output_type": "stream",
     "text": [
      "Epoch 24/30\n",
      "250/250 [==============================] - 4s 14ms/step - loss: 0.7862 - mse: 0.7806 - val_loss: 0.8925 - val_mse: 0.8868\n",
      "Epoch 25/30\n",
      "250/250 [==============================] - 3s 14ms/step - loss: 0.7846 - mse: 0.7788 - val_loss: 0.8929 - val_mse: 0.8872\n",
      "Epoch 26/30\n",
      "250/250 [==============================] - 4s 14ms/step - loss: 0.7826 - mse: 0.7768 - val_loss: 0.8911 - val_mse: 0.8853\n",
      "Epoch 27/30\n",
      "250/250 [==============================] - 4s 14ms/step - loss: 0.7809 - mse: 0.7750 - val_loss: 0.8913 - val_mse: 0.8854\n",
      "Epoch 28/30\n",
      "250/250 [==============================] - 4s 15ms/step - loss: 0.7791 - mse: 0.7731 - val_loss: 0.8927 - val_mse: 0.8867\n",
      "test MSE 0.8825\n",
      "Epoch 1/30\n",
      "250/250 [==============================] - 7s 15ms/step - loss: 4.4015 - mse: 4.4013 - val_loss: 1.2165 - val_mse: 1.2158\n"
     ]
    },
    {
     "name": "stderr",
     "output_type": "stream",
     "text": [
      "WARNING:absl:Found untraced functions such as dropout_layer_call_fn, dropout_layer_call_and_return_conditional_losses, lambda_layer_call_fn, lambda_layer_call_and_return_conditional_losses while saving (showing 4 of 4). These functions will not be directly callable after loading.\n"
     ]
    },
    {
     "name": "stdout",
     "output_type": "stream",
     "text": [
      "Epoch 2/30\n",
      "250/250 [==============================] - 4s 14ms/step - loss: 1.1811 - mse: 1.1802 - val_loss: 1.1425 - val_mse: 1.1413\n"
     ]
    },
    {
     "name": "stderr",
     "output_type": "stream",
     "text": [
      "WARNING:absl:Found untraced functions such as dropout_layer_call_fn, dropout_layer_call_and_return_conditional_losses, lambda_layer_call_fn, lambda_layer_call_and_return_conditional_losses while saving (showing 4 of 4). These functions will not be directly callable after loading.\n"
     ]
    },
    {
     "name": "stdout",
     "output_type": "stream",
     "text": [
      "Epoch 3/30\n",
      "250/250 [==============================] - 3s 13ms/step - loss: 1.1057 - mse: 1.1041 - val_loss: 1.0808 - val_mse: 1.0788\n"
     ]
    },
    {
     "name": "stderr",
     "output_type": "stream",
     "text": [
      "WARNING:absl:Found untraced functions such as dropout_layer_call_fn, dropout_layer_call_and_return_conditional_losses, lambda_layer_call_fn, lambda_layer_call_and_return_conditional_losses while saving (showing 4 of 4). These functions will not be directly callable after loading.\n"
     ]
    },
    {
     "name": "stdout",
     "output_type": "stream",
     "text": [
      "Epoch 4/30\n",
      "250/250 [==============================] - 3s 14ms/step - loss: 1.0322 - mse: 1.0297 - val_loss: 1.0162 - val_mse: 1.0132\n"
     ]
    },
    {
     "name": "stderr",
     "output_type": "stream",
     "text": [
      "WARNING:absl:Found untraced functions such as dropout_layer_call_fn, dropout_layer_call_and_return_conditional_losses, lambda_layer_call_fn, lambda_layer_call_and_return_conditional_losses while saving (showing 4 of 4). These functions will not be directly callable after loading.\n"
     ]
    },
    {
     "name": "stdout",
     "output_type": "stream",
     "text": [
      "Epoch 5/30\n",
      "250/250 [==============================] - 3s 13ms/step - loss: 0.9709 - mse: 0.9674 - val_loss: 0.9740 - val_mse: 0.9701\n"
     ]
    },
    {
     "name": "stderr",
     "output_type": "stream",
     "text": [
      "WARNING:absl:Found untraced functions such as dropout_layer_call_fn, dropout_layer_call_and_return_conditional_losses, lambda_layer_call_fn, lambda_layer_call_and_return_conditional_losses while saving (showing 4 of 4). These functions will not be directly callable after loading.\n"
     ]
    },
    {
     "name": "stdout",
     "output_type": "stream",
     "text": [
      "Epoch 6/30\n",
      "250/250 [==============================] - 3s 14ms/step - loss: 0.9338 - mse: 0.9296 - val_loss: 0.9504 - val_mse: 0.9459\n"
     ]
    },
    {
     "name": "stderr",
     "output_type": "stream",
     "text": [
      "WARNING:absl:Found untraced functions such as dropout_layer_call_fn, dropout_layer_call_and_return_conditional_losses, lambda_layer_call_fn, lambda_layer_call_and_return_conditional_losses while saving (showing 4 of 4). These functions will not be directly callable after loading.\n"
     ]
    },
    {
     "name": "stdout",
     "output_type": "stream",
     "text": [
      "Epoch 7/30\n",
      "250/250 [==============================] - 3s 14ms/step - loss: 0.9100 - mse: 0.9053 - val_loss: 0.9345 - val_mse: 0.9295\n"
     ]
    },
    {
     "name": "stderr",
     "output_type": "stream",
     "text": [
      "WARNING:absl:Found untraced functions such as dropout_layer_call_fn, dropout_layer_call_and_return_conditional_losses, lambda_layer_call_fn, lambda_layer_call_and_return_conditional_losses while saving (showing 4 of 4). These functions will not be directly callable after loading.\n"
     ]
    },
    {
     "name": "stdout",
     "output_type": "stream",
     "text": [
      "Epoch 8/30\n",
      "250/250 [==============================] - 3s 13ms/step - loss: 0.8931 - mse: 0.8879 - val_loss: 0.9235 - val_mse: 0.9181\n"
     ]
    },
    {
     "name": "stderr",
     "output_type": "stream",
     "text": [
      "WARNING:absl:Found untraced functions such as dropout_layer_call_fn, dropout_layer_call_and_return_conditional_losses, lambda_layer_call_fn, lambda_layer_call_and_return_conditional_losses while saving (showing 4 of 4). These functions will not be directly callable after loading.\n"
     ]
    },
    {
     "name": "stdout",
     "output_type": "stream",
     "text": [
      "Epoch 9/30\n",
      "250/250 [==============================] - 3s 14ms/step - loss: 0.8799 - mse: 0.8743 - val_loss: 0.9146 - val_mse: 0.9088\n"
     ]
    },
    {
     "name": "stderr",
     "output_type": "stream",
     "text": [
      "WARNING:absl:Found untraced functions such as dropout_layer_call_fn, dropout_layer_call_and_return_conditional_losses, lambda_layer_call_fn, lambda_layer_call_and_return_conditional_losses while saving (showing 4 of 4). These functions will not be directly callable after loading.\n"
     ]
    },
    {
     "name": "stdout",
     "output_type": "stream",
     "text": [
      "Epoch 10/30\n",
      "250/250 [==============================] - 4s 15ms/step - loss: 0.8696 - mse: 0.8637 - val_loss: 0.9095 - val_mse: 0.9034\n"
     ]
    },
    {
     "name": "stderr",
     "output_type": "stream",
     "text": [
      "WARNING:absl:Found untraced functions such as dropout_layer_call_fn, dropout_layer_call_and_return_conditional_losses, lambda_layer_call_fn, lambda_layer_call_and_return_conditional_losses while saving (showing 4 of 4). These functions will not be directly callable after loading.\n"
     ]
    },
    {
     "name": "stdout",
     "output_type": "stream",
     "text": [
      "Epoch 11/30\n",
      "250/250 [==============================] - 3s 14ms/step - loss: 0.8609 - mse: 0.8546 - val_loss: 0.9030 - val_mse: 0.8966\n"
     ]
    },
    {
     "name": "stderr",
     "output_type": "stream",
     "text": [
      "WARNING:absl:Found untraced functions such as dropout_layer_call_fn, dropout_layer_call_and_return_conditional_losses, lambda_layer_call_fn, lambda_layer_call_and_return_conditional_losses while saving (showing 4 of 4). These functions will not be directly callable after loading.\n"
     ]
    },
    {
     "name": "stdout",
     "output_type": "stream",
     "text": [
      "Epoch 12/30\n",
      "250/250 [==============================] - 4s 14ms/step - loss: 0.8531 - mse: 0.8465 - val_loss: 0.8978 - val_mse: 0.8910\n"
     ]
    },
    {
     "name": "stderr",
     "output_type": "stream",
     "text": [
      "WARNING:absl:Found untraced functions such as dropout_layer_call_fn, dropout_layer_call_and_return_conditional_losses, lambda_layer_call_fn, lambda_layer_call_and_return_conditional_losses while saving (showing 4 of 4). These functions will not be directly callable after loading.\n"
     ]
    },
    {
     "name": "stdout",
     "output_type": "stream",
     "text": [
      "Epoch 13/30\n",
      "250/250 [==============================] - 3s 14ms/step - loss: 0.8466 - mse: 0.8398 - val_loss: 0.8949 - val_mse: 0.8879\n"
     ]
    },
    {
     "name": "stderr",
     "output_type": "stream",
     "text": [
      "WARNING:absl:Found untraced functions such as dropout_layer_call_fn, dropout_layer_call_and_return_conditional_losses, lambda_layer_call_fn, lambda_layer_call_and_return_conditional_losses while saving (showing 4 of 4). These functions will not be directly callable after loading.\n"
     ]
    },
    {
     "name": "stdout",
     "output_type": "stream",
     "text": [
      "Epoch 14/30\n",
      "250/250 [==============================] - 3s 14ms/step - loss: 0.8409 - mse: 0.8338 - val_loss: 0.8920 - val_mse: 0.8848\n"
     ]
    },
    {
     "name": "stderr",
     "output_type": "stream",
     "text": [
      "WARNING:absl:Found untraced functions such as dropout_layer_call_fn, dropout_layer_call_and_return_conditional_losses, lambda_layer_call_fn, lambda_layer_call_and_return_conditional_losses while saving (showing 4 of 4). These functions will not be directly callable after loading.\n"
     ]
    },
    {
     "name": "stdout",
     "output_type": "stream",
     "text": [
      "Epoch 15/30\n",
      "250/250 [==============================] - 3s 12ms/step - loss: 0.8360 - mse: 0.8287 - val_loss: 0.8907 - val_mse: 0.8833\n"
     ]
    },
    {
     "name": "stderr",
     "output_type": "stream",
     "text": [
      "WARNING:absl:Found untraced functions such as dropout_layer_call_fn, dropout_layer_call_and_return_conditional_losses, lambda_layer_call_fn, lambda_layer_call_and_return_conditional_losses while saving (showing 4 of 4). These functions will not be directly callable after loading.\n"
     ]
    },
    {
     "name": "stdout",
     "output_type": "stream",
     "text": [
      "Epoch 16/30\n",
      "250/250 [==============================] - 4s 14ms/step - loss: 0.8320 - mse: 0.8245 - val_loss: 0.8883 - val_mse: 0.8807\n"
     ]
    },
    {
     "name": "stderr",
     "output_type": "stream",
     "text": [
      "WARNING:absl:Found untraced functions such as dropout_layer_call_fn, dropout_layer_call_and_return_conditional_losses, lambda_layer_call_fn, lambda_layer_call_and_return_conditional_losses while saving (showing 4 of 4). These functions will not be directly callable after loading.\n"
     ]
    },
    {
     "name": "stdout",
     "output_type": "stream",
     "text": [
      "Epoch 17/30\n",
      "250/250 [==============================] - 3s 14ms/step - loss: 0.8285 - mse: 0.8208 - val_loss: 0.8886 - val_mse: 0.8808\n",
      "Epoch 18/30\n",
      "250/250 [==============================] - 3s 14ms/step - loss: 0.8251 - mse: 0.8173 - val_loss: 0.8860 - val_mse: 0.8781\n"
     ]
    },
    {
     "name": "stderr",
     "output_type": "stream",
     "text": [
      "WARNING:absl:Found untraced functions such as dropout_layer_call_fn, dropout_layer_call_and_return_conditional_losses, lambda_layer_call_fn, lambda_layer_call_and_return_conditional_losses while saving (showing 4 of 4). These functions will not be directly callable after loading.\n"
     ]
    },
    {
     "name": "stdout",
     "output_type": "stream",
     "text": [
      "Epoch 19/30\n",
      "250/250 [==============================] - 3s 14ms/step - loss: 0.8222 - mse: 0.8142 - val_loss: 0.8858 - val_mse: 0.8777\n"
     ]
    },
    {
     "name": "stderr",
     "output_type": "stream",
     "text": [
      "WARNING:absl:Found untraced functions such as dropout_layer_call_fn, dropout_layer_call_and_return_conditional_losses, lambda_layer_call_fn, lambda_layer_call_and_return_conditional_losses while saving (showing 4 of 4). These functions will not be directly callable after loading.\n"
     ]
    },
    {
     "name": "stdout",
     "output_type": "stream",
     "text": [
      "Epoch 20/30\n",
      "250/250 [==============================] - 4s 14ms/step - loss: 0.8196 - mse: 0.8115 - val_loss: 0.8852 - val_mse: 0.8770\n"
     ]
    },
    {
     "name": "stderr",
     "output_type": "stream",
     "text": [
      "WARNING:absl:Found untraced functions such as dropout_layer_call_fn, dropout_layer_call_and_return_conditional_losses, lambda_layer_call_fn, lambda_layer_call_and_return_conditional_losses while saving (showing 4 of 4). These functions will not be directly callable after loading.\n"
     ]
    },
    {
     "name": "stdout",
     "output_type": "stream",
     "text": [
      "Epoch 21/30\n",
      "250/250 [==============================] - 4s 14ms/step - loss: 0.8175 - mse: 0.8093 - val_loss: 0.8864 - val_mse: 0.8781\n",
      "Epoch 22/30\n",
      "250/250 [==============================] - 3s 14ms/step - loss: 0.8153 - mse: 0.8069 - val_loss: 0.8859 - val_mse: 0.8775\n",
      "Epoch 23/30\n",
      "250/250 [==============================] - 4s 14ms/step - loss: 0.8129 - mse: 0.8044 - val_loss: 0.8844 - val_mse: 0.8759\n"
     ]
    },
    {
     "name": "stderr",
     "output_type": "stream",
     "text": [
      "WARNING:absl:Found untraced functions such as dropout_layer_call_fn, dropout_layer_call_and_return_conditional_losses, lambda_layer_call_fn, lambda_layer_call_and_return_conditional_losses while saving (showing 4 of 4). These functions will not be directly callable after loading.\n"
     ]
    },
    {
     "name": "stdout",
     "output_type": "stream",
     "text": [
      "Epoch 24/30\n",
      "250/250 [==============================] - 4s 14ms/step - loss: 0.8114 - mse: 0.8028 - val_loss: 0.8843 - val_mse: 0.8756\n"
     ]
    },
    {
     "name": "stderr",
     "output_type": "stream",
     "text": [
      "WARNING:absl:Found untraced functions such as dropout_layer_call_fn, dropout_layer_call_and_return_conditional_losses, lambda_layer_call_fn, lambda_layer_call_and_return_conditional_losses while saving (showing 4 of 4). These functions will not be directly callable after loading.\n"
     ]
    },
    {
     "name": "stdout",
     "output_type": "stream",
     "text": [
      "Epoch 25/30\n",
      "250/250 [==============================] - 3s 14ms/step - loss: 0.8091 - mse: 0.8004 - val_loss: 0.8842 - val_mse: 0.8755\n"
     ]
    },
    {
     "name": "stderr",
     "output_type": "stream",
     "text": [
      "WARNING:absl:Found untraced functions such as dropout_layer_call_fn, dropout_layer_call_and_return_conditional_losses, lambda_layer_call_fn, lambda_layer_call_and_return_conditional_losses while saving (showing 4 of 4). These functions will not be directly callable after loading.\n"
     ]
    },
    {
     "name": "stdout",
     "output_type": "stream",
     "text": [
      "Epoch 26/30\n",
      "250/250 [==============================] - 3s 14ms/step - loss: 0.8073 - mse: 0.7985 - val_loss: 0.8843 - val_mse: 0.8754\n"
     ]
    },
    {
     "name": "stderr",
     "output_type": "stream",
     "text": [
      "WARNING:absl:Found untraced functions such as dropout_layer_call_fn, dropout_layer_call_and_return_conditional_losses, lambda_layer_call_fn, lambda_layer_call_and_return_conditional_losses while saving (showing 4 of 4). These functions will not be directly callable after loading.\n"
     ]
    },
    {
     "name": "stdout",
     "output_type": "stream",
     "text": [
      "Epoch 27/30\n",
      "250/250 [==============================] - 4s 14ms/step - loss: 0.8054 - mse: 0.7965 - val_loss: 0.8834 - val_mse: 0.8745\n"
     ]
    },
    {
     "name": "stderr",
     "output_type": "stream",
     "text": [
      "WARNING:absl:Found untraced functions such as dropout_layer_call_fn, dropout_layer_call_and_return_conditional_losses, lambda_layer_call_fn, lambda_layer_call_and_return_conditional_losses while saving (showing 4 of 4). These functions will not be directly callable after loading.\n"
     ]
    },
    {
     "name": "stdout",
     "output_type": "stream",
     "text": [
      "Epoch 28/30\n",
      "250/250 [==============================] - 4s 14ms/step - loss: 0.8038 - mse: 0.7949 - val_loss: 0.8840 - val_mse: 0.8749\n",
      "Epoch 29/30\n",
      "250/250 [==============================] - 4s 14ms/step - loss: 0.8016 - mse: 0.7925 - val_loss: 0.8839 - val_mse: 0.8748\n",
      "Epoch 30/30\n",
      "250/250 [==============================] - 3s 14ms/step - loss: 0.7998 - mse: 0.7906 - val_loss: 0.8853 - val_mse: 0.8761\n",
      "test MSE 0.8718\n",
      "Epoch 1/30\n",
      "250/250 [==============================] - 7s 15ms/step - loss: 4.3658 - mse: 4.3654 - val_loss: 1.2355 - val_mse: 1.2345\n"
     ]
    },
    {
     "name": "stderr",
     "output_type": "stream",
     "text": [
      "WARNING:absl:Found untraced functions such as dropout_layer_call_fn, dropout_layer_call_and_return_conditional_losses, lambda_layer_call_fn, lambda_layer_call_and_return_conditional_losses while saving (showing 4 of 4). These functions will not be directly callable after loading.\n"
     ]
    },
    {
     "name": "stdout",
     "output_type": "stream",
     "text": [
      "Epoch 2/30\n",
      "250/250 [==============================] - 3s 14ms/step - loss: 1.1864 - mse: 1.1852 - val_loss: 1.1295 - val_mse: 1.1280\n"
     ]
    },
    {
     "name": "stderr",
     "output_type": "stream",
     "text": [
      "WARNING:absl:Found untraced functions such as dropout_layer_call_fn, dropout_layer_call_and_return_conditional_losses, lambda_layer_call_fn, lambda_layer_call_and_return_conditional_losses while saving (showing 4 of 4). These functions will not be directly callable after loading.\n"
     ]
    },
    {
     "name": "stdout",
     "output_type": "stream",
     "text": [
      "Epoch 3/30\n",
      "250/250 [==============================] - 4s 14ms/step - loss: 1.0817 - mse: 1.0797 - val_loss: 0.9964 - val_mse: 0.9936\n"
     ]
    },
    {
     "name": "stderr",
     "output_type": "stream",
     "text": [
      "WARNING:absl:Found untraced functions such as dropout_layer_call_fn, dropout_layer_call_and_return_conditional_losses, lambda_layer_call_fn, lambda_layer_call_and_return_conditional_losses while saving (showing 4 of 4). These functions will not be directly callable after loading.\n"
     ]
    },
    {
     "name": "stdout",
     "output_type": "stream",
     "text": [
      "Epoch 4/30\n",
      "250/250 [==============================] - 4s 14ms/step - loss: 0.9322 - mse: 0.9288 - val_loss: 0.9400 - val_mse: 0.9363\n"
     ]
    },
    {
     "name": "stderr",
     "output_type": "stream",
     "text": [
      "WARNING:absl:Found untraced functions such as dropout_layer_call_fn, dropout_layer_call_and_return_conditional_losses, lambda_layer_call_fn, lambda_layer_call_and_return_conditional_losses while saving (showing 4 of 4). These functions will not be directly callable after loading.\n"
     ]
    },
    {
     "name": "stdout",
     "output_type": "stream",
     "text": [
      "Epoch 5/30\n",
      "250/250 [==============================] - 4s 14ms/step - loss: 0.8951 - mse: 0.8913 - val_loss: 0.9268 - val_mse: 0.9229\n"
     ]
    },
    {
     "name": "stderr",
     "output_type": "stream",
     "text": [
      "WARNING:absl:Found untraced functions such as dropout_layer_call_fn, dropout_layer_call_and_return_conditional_losses, lambda_layer_call_fn, lambda_layer_call_and_return_conditional_losses while saving (showing 4 of 4). These functions will not be directly callable after loading.\n"
     ]
    },
    {
     "name": "stdout",
     "output_type": "stream",
     "text": [
      "Epoch 6/30\n",
      "250/250 [==============================] - 4s 14ms/step - loss: 0.8775 - mse: 0.8735 - val_loss: 0.9192 - val_mse: 0.9151\n"
     ]
    },
    {
     "name": "stderr",
     "output_type": "stream",
     "text": [
      "WARNING:absl:Found untraced functions such as dropout_layer_call_fn, dropout_layer_call_and_return_conditional_losses, lambda_layer_call_fn, lambda_layer_call_and_return_conditional_losses while saving (showing 4 of 4). These functions will not be directly callable after loading.\n"
     ]
    },
    {
     "name": "stdout",
     "output_type": "stream",
     "text": [
      "Epoch 7/30\n",
      "250/250 [==============================] - 4s 14ms/step - loss: 0.8652 - mse: 0.8610 - val_loss: 0.9129 - val_mse: 0.9087\n"
     ]
    },
    {
     "name": "stderr",
     "output_type": "stream",
     "text": [
      "WARNING:absl:Found untraced functions such as dropout_layer_call_fn, dropout_layer_call_and_return_conditional_losses, lambda_layer_call_fn, lambda_layer_call_and_return_conditional_losses while saving (showing 4 of 4). These functions will not be directly callable after loading.\n"
     ]
    },
    {
     "name": "stdout",
     "output_type": "stream",
     "text": [
      "Epoch 8/30\n",
      "250/250 [==============================] - 4s 14ms/step - loss: 0.8560 - mse: 0.8516 - val_loss: 0.9083 - val_mse: 0.9038\n"
     ]
    },
    {
     "name": "stderr",
     "output_type": "stream",
     "text": [
      "WARNING:absl:Found untraced functions such as dropout_layer_call_fn, dropout_layer_call_and_return_conditional_losses, lambda_layer_call_fn, lambda_layer_call_and_return_conditional_losses while saving (showing 4 of 4). These functions will not be directly callable after loading.\n"
     ]
    },
    {
     "name": "stdout",
     "output_type": "stream",
     "text": [
      "Epoch 9/30\n",
      "250/250 [==============================] - 4s 14ms/step - loss: 0.8483 - mse: 0.8437 - val_loss: 0.9037 - val_mse: 0.8991\n"
     ]
    },
    {
     "name": "stderr",
     "output_type": "stream",
     "text": [
      "WARNING:absl:Found untraced functions such as dropout_layer_call_fn, dropout_layer_call_and_return_conditional_losses, lambda_layer_call_fn, lambda_layer_call_and_return_conditional_losses while saving (showing 4 of 4). These functions will not be directly callable after loading.\n"
     ]
    },
    {
     "name": "stdout",
     "output_type": "stream",
     "text": [
      "Epoch 10/30\n",
      "250/250 [==============================] - 4s 14ms/step - loss: 0.8414 - mse: 0.8367 - val_loss: 0.9005 - val_mse: 0.8957\n"
     ]
    },
    {
     "name": "stderr",
     "output_type": "stream",
     "text": [
      "WARNING:absl:Found untraced functions such as dropout_layer_call_fn, dropout_layer_call_and_return_conditional_losses, lambda_layer_call_fn, lambda_layer_call_and_return_conditional_losses while saving (showing 4 of 4). These functions will not be directly callable after loading.\n"
     ]
    },
    {
     "name": "stdout",
     "output_type": "stream",
     "text": [
      "Epoch 11/30\n",
      "250/250 [==============================] - 4s 14ms/step - loss: 0.8357 - mse: 0.8309 - val_loss: 0.8983 - val_mse: 0.8934\n"
     ]
    },
    {
     "name": "stderr",
     "output_type": "stream",
     "text": [
      "WARNING:absl:Found untraced functions such as dropout_layer_call_fn, dropout_layer_call_and_return_conditional_losses, lambda_layer_call_fn, lambda_layer_call_and_return_conditional_losses while saving (showing 4 of 4). These functions will not be directly callable after loading.\n"
     ]
    },
    {
     "name": "stdout",
     "output_type": "stream",
     "text": [
      "Epoch 12/30\n",
      "250/250 [==============================] - 3s 14ms/step - loss: 0.8309 - mse: 0.8259 - val_loss: 0.8966 - val_mse: 0.8916\n"
     ]
    },
    {
     "name": "stderr",
     "output_type": "stream",
     "text": [
      "WARNING:absl:Found untraced functions such as dropout_layer_call_fn, dropout_layer_call_and_return_conditional_losses, lambda_layer_call_fn, lambda_layer_call_and_return_conditional_losses while saving (showing 4 of 4). These functions will not be directly callable after loading.\n"
     ]
    },
    {
     "name": "stdout",
     "output_type": "stream",
     "text": [
      "Epoch 13/30\n",
      "250/250 [==============================] - 4s 14ms/step - loss: 0.8261 - mse: 0.8210 - val_loss: 0.8957 - val_mse: 0.8905\n"
     ]
    },
    {
     "name": "stderr",
     "output_type": "stream",
     "text": [
      "WARNING:absl:Found untraced functions such as dropout_layer_call_fn, dropout_layer_call_and_return_conditional_losses, lambda_layer_call_fn, lambda_layer_call_and_return_conditional_losses while saving (showing 4 of 4). These functions will not be directly callable after loading.\n"
     ]
    },
    {
     "name": "stdout",
     "output_type": "stream",
     "text": [
      "Epoch 14/30\n",
      "250/250 [==============================] - 3s 14ms/step - loss: 0.8219 - mse: 0.8167 - val_loss: 0.8937 - val_mse: 0.8884\n"
     ]
    },
    {
     "name": "stderr",
     "output_type": "stream",
     "text": [
      "WARNING:absl:Found untraced functions such as dropout_layer_call_fn, dropout_layer_call_and_return_conditional_losses, lambda_layer_call_fn, lambda_layer_call_and_return_conditional_losses while saving (showing 4 of 4). These functions will not be directly callable after loading.\n"
     ]
    },
    {
     "name": "stdout",
     "output_type": "stream",
     "text": [
      "Epoch 15/30\n",
      "250/250 [==============================] - 4s 14ms/step - loss: 0.8181 - mse: 0.8128 - val_loss: 0.8924 - val_mse: 0.8870\n"
     ]
    },
    {
     "name": "stderr",
     "output_type": "stream",
     "text": [
      "WARNING:absl:Found untraced functions such as dropout_layer_call_fn, dropout_layer_call_and_return_conditional_losses, lambda_layer_call_fn, lambda_layer_call_and_return_conditional_losses while saving (showing 4 of 4). These functions will not be directly callable after loading.\n"
     ]
    },
    {
     "name": "stdout",
     "output_type": "stream",
     "text": [
      "Epoch 16/30\n",
      "250/250 [==============================] - 4s 14ms/step - loss: 0.8141 - mse: 0.8087 - val_loss: 0.8914 - val_mse: 0.8860\n"
     ]
    },
    {
     "name": "stderr",
     "output_type": "stream",
     "text": [
      "WARNING:absl:Found untraced functions such as dropout_layer_call_fn, dropout_layer_call_and_return_conditional_losses, lambda_layer_call_fn, lambda_layer_call_and_return_conditional_losses while saving (showing 4 of 4). These functions will not be directly callable after loading.\n"
     ]
    },
    {
     "name": "stdout",
     "output_type": "stream",
     "text": [
      "Epoch 17/30\n",
      "250/250 [==============================] - 4s 14ms/step - loss: 0.8108 - mse: 0.8053 - val_loss: 0.8907 - val_mse: 0.8851\n"
     ]
    },
    {
     "name": "stderr",
     "output_type": "stream",
     "text": [
      "WARNING:absl:Found untraced functions such as dropout_layer_call_fn, dropout_layer_call_and_return_conditional_losses, lambda_layer_call_fn, lambda_layer_call_and_return_conditional_losses while saving (showing 4 of 4). These functions will not be directly callable after loading.\n"
     ]
    },
    {
     "name": "stdout",
     "output_type": "stream",
     "text": [
      "Epoch 18/30\n",
      "250/250 [==============================] - 4s 14ms/step - loss: 0.8077 - mse: 0.8021 - val_loss: 0.8890 - val_mse: 0.8834\n"
     ]
    },
    {
     "name": "stderr",
     "output_type": "stream",
     "text": [
      "WARNING:absl:Found untraced functions such as dropout_layer_call_fn, dropout_layer_call_and_return_conditional_losses, lambda_layer_call_fn, lambda_layer_call_and_return_conditional_losses while saving (showing 4 of 4). These functions will not be directly callable after loading.\n"
     ]
    },
    {
     "name": "stdout",
     "output_type": "stream",
     "text": [
      "Epoch 19/30\n",
      "250/250 [==============================] - 4s 14ms/step - loss: 0.8050 - mse: 0.7993 - val_loss: 0.8891 - val_mse: 0.8833\n"
     ]
    },
    {
     "name": "stderr",
     "output_type": "stream",
     "text": [
      "WARNING:absl:Found untraced functions such as dropout_layer_call_fn, dropout_layer_call_and_return_conditional_losses, lambda_layer_call_fn, lambda_layer_call_and_return_conditional_losses while saving (showing 4 of 4). These functions will not be directly callable after loading.\n"
     ]
    },
    {
     "name": "stdout",
     "output_type": "stream",
     "text": [
      "Epoch 20/30\n",
      "250/250 [==============================] - 3s 12ms/step - loss: 0.8018 - mse: 0.7960 - val_loss: 0.8877 - val_mse: 0.8819\n"
     ]
    },
    {
     "name": "stderr",
     "output_type": "stream",
     "text": [
      "WARNING:absl:Found untraced functions such as dropout_layer_call_fn, dropout_layer_call_and_return_conditional_losses, lambda_layer_call_fn, lambda_layer_call_and_return_conditional_losses while saving (showing 4 of 4). These functions will not be directly callable after loading.\n"
     ]
    },
    {
     "name": "stdout",
     "output_type": "stream",
     "text": [
      "Epoch 21/30\n",
      "250/250 [==============================] - 4s 14ms/step - loss: 0.7994 - mse: 0.7936 - val_loss: 0.8876 - val_mse: 0.8817\n"
     ]
    },
    {
     "name": "stderr",
     "output_type": "stream",
     "text": [
      "WARNING:absl:Found untraced functions such as dropout_layer_call_fn, dropout_layer_call_and_return_conditional_losses, lambda_layer_call_fn, lambda_layer_call_and_return_conditional_losses while saving (showing 4 of 4). These functions will not be directly callable after loading.\n"
     ]
    },
    {
     "name": "stdout",
     "output_type": "stream",
     "text": [
      "Epoch 22/30\n",
      "250/250 [==============================] - 3s 14ms/step - loss: 0.7965 - mse: 0.7905 - val_loss: 0.8874 - val_mse: 0.8814\n"
     ]
    },
    {
     "name": "stderr",
     "output_type": "stream",
     "text": [
      "WARNING:absl:Found untraced functions such as dropout_layer_call_fn, dropout_layer_call_and_return_conditional_losses, lambda_layer_call_fn, lambda_layer_call_and_return_conditional_losses while saving (showing 4 of 4). These functions will not be directly callable after loading.\n"
     ]
    },
    {
     "name": "stdout",
     "output_type": "stream",
     "text": [
      "Epoch 23/30\n",
      "250/250 [==============================] - 4s 15ms/step - loss: 0.7941 - mse: 0.7881 - val_loss: 0.8875 - val_mse: 0.8815\n",
      "Epoch 24/30\n",
      "250/250 [==============================] - 4s 14ms/step - loss: 0.7920 - mse: 0.7859 - val_loss: 0.8869 - val_mse: 0.8808\n"
     ]
    },
    {
     "name": "stderr",
     "output_type": "stream",
     "text": [
      "WARNING:absl:Found untraced functions such as dropout_layer_call_fn, dropout_layer_call_and_return_conditional_losses, lambda_layer_call_fn, lambda_layer_call_and_return_conditional_losses while saving (showing 4 of 4). These functions will not be directly callable after loading.\n"
     ]
    },
    {
     "name": "stdout",
     "output_type": "stream",
     "text": [
      "Epoch 25/30\n",
      "250/250 [==============================] - 4s 14ms/step - loss: 0.7898 - mse: 0.7836 - val_loss: 0.8861 - val_mse: 0.8799\n"
     ]
    },
    {
     "name": "stderr",
     "output_type": "stream",
     "text": [
      "WARNING:absl:Found untraced functions such as dropout_layer_call_fn, dropout_layer_call_and_return_conditional_losses, lambda_layer_call_fn, lambda_layer_call_and_return_conditional_losses while saving (showing 4 of 4). These functions will not be directly callable after loading.\n"
     ]
    },
    {
     "name": "stdout",
     "output_type": "stream",
     "text": [
      "Epoch 26/30\n",
      "250/250 [==============================] - 3s 14ms/step - loss: 0.7874 - mse: 0.7812 - val_loss: 0.8859 - val_mse: 0.8796\n"
     ]
    },
    {
     "name": "stderr",
     "output_type": "stream",
     "text": [
      "WARNING:absl:Found untraced functions such as dropout_layer_call_fn, dropout_layer_call_and_return_conditional_losses, lambda_layer_call_fn, lambda_layer_call_and_return_conditional_losses while saving (showing 4 of 4). These functions will not be directly callable after loading.\n"
     ]
    },
    {
     "name": "stdout",
     "output_type": "stream",
     "text": [
      "Epoch 27/30\n",
      "250/250 [==============================] - 4s 14ms/step - loss: 0.7856 - mse: 0.7793 - val_loss: 0.8868 - val_mse: 0.8805\n",
      "Epoch 28/30\n",
      "250/250 [==============================] - 4s 14ms/step - loss: 0.7833 - mse: 0.7770 - val_loss: 0.8870 - val_mse: 0.8806\n",
      "Epoch 29/30\n",
      "250/250 [==============================] - 4s 14ms/step - loss: 0.7815 - mse: 0.7751 - val_loss: 0.8871 - val_mse: 0.8807\n",
      "Epoch 30/30\n",
      "250/250 [==============================] - 4s 14ms/step - loss: 0.7799 - mse: 0.7734 - val_loss: 0.8883 - val_mse: 0.8818\n",
      "test MSE 0.8843\n",
      "Epoch 1/30\n",
      "250/250 [==============================] - 9s 21ms/step - loss: 4.3463 - mse: 4.3460 - val_loss: 1.2283 - val_mse: 1.2276\n"
     ]
    },
    {
     "name": "stderr",
     "output_type": "stream",
     "text": [
      "WARNING:absl:Found untraced functions such as dropout_layer_call_fn, dropout_layer_call_and_return_conditional_losses, lambda_layer_call_fn, lambda_layer_call_and_return_conditional_losses while saving (showing 4 of 4). These functions will not be directly callable after loading.\n"
     ]
    },
    {
     "name": "stdout",
     "output_type": "stream",
     "text": [
      "Epoch 2/30\n",
      "250/250 [==============================] - 3s 14ms/step - loss: 1.1855 - mse: 1.1846 - val_loss: 1.1341 - val_mse: 1.1330\n"
     ]
    },
    {
     "name": "stderr",
     "output_type": "stream",
     "text": [
      "WARNING:absl:Found untraced functions such as dropout_layer_call_fn, dropout_layer_call_and_return_conditional_losses, lambda_layer_call_fn, lambda_layer_call_and_return_conditional_losses while saving (showing 4 of 4). These functions will not be directly callable after loading.\n"
     ]
    },
    {
     "name": "stdout",
     "output_type": "stream",
     "text": [
      "Epoch 3/30\n",
      "250/250 [==============================] - 4s 14ms/step - loss: 1.1034 - mse: 1.1019 - val_loss: 1.0572 - val_mse: 1.0553\n"
     ]
    },
    {
     "name": "stderr",
     "output_type": "stream",
     "text": [
      "WARNING:absl:Found untraced functions such as dropout_layer_call_fn, dropout_layer_call_and_return_conditional_losses, lambda_layer_call_fn, lambda_layer_call_and_return_conditional_losses while saving (showing 4 of 4). These functions will not be directly callable after loading.\n"
     ]
    },
    {
     "name": "stdout",
     "output_type": "stream",
     "text": [
      "Epoch 4/30\n",
      "250/250 [==============================] - 4s 14ms/step - loss: 0.9680 - mse: 0.9654 - val_loss: 0.9345 - val_mse: 0.9315\n"
     ]
    },
    {
     "name": "stderr",
     "output_type": "stream",
     "text": [
      "WARNING:absl:Found untraced functions such as dropout_layer_call_fn, dropout_layer_call_and_return_conditional_losses, lambda_layer_call_fn, lambda_layer_call_and_return_conditional_losses while saving (showing 4 of 4). These functions will not be directly callable after loading.\n"
     ]
    },
    {
     "name": "stdout",
     "output_type": "stream",
     "text": [
      "Epoch 5/30\n",
      "250/250 [==============================] - 4s 14ms/step - loss: 0.8964 - mse: 0.8931 - val_loss: 0.9175 - val_mse: 0.9141\n"
     ]
    },
    {
     "name": "stderr",
     "output_type": "stream",
     "text": [
      "WARNING:absl:Found untraced functions such as dropout_layer_call_fn, dropout_layer_call_and_return_conditional_losses, lambda_layer_call_fn, lambda_layer_call_and_return_conditional_losses while saving (showing 4 of 4). These functions will not be directly callable after loading.\n"
     ]
    },
    {
     "name": "stdout",
     "output_type": "stream",
     "text": [
      "Epoch 6/30\n",
      "250/250 [==============================] - 4s 14ms/step - loss: 0.8754 - mse: 0.8719 - val_loss: 0.9080 - val_mse: 0.9043\n"
     ]
    },
    {
     "name": "stderr",
     "output_type": "stream",
     "text": [
      "WARNING:absl:Found untraced functions such as dropout_layer_call_fn, dropout_layer_call_and_return_conditional_losses, lambda_layer_call_fn, lambda_layer_call_and_return_conditional_losses while saving (showing 4 of 4). These functions will not be directly callable after loading.\n"
     ]
    },
    {
     "name": "stdout",
     "output_type": "stream",
     "text": [
      "Epoch 7/30\n",
      "250/250 [==============================] - 4s 14ms/step - loss: 0.8618 - mse: 0.8580 - val_loss: 0.9011 - val_mse: 0.8971\n"
     ]
    },
    {
     "name": "stderr",
     "output_type": "stream",
     "text": [
      "WARNING:absl:Found untraced functions such as dropout_layer_call_fn, dropout_layer_call_and_return_conditional_losses, lambda_layer_call_fn, lambda_layer_call_and_return_conditional_losses while saving (showing 4 of 4). These functions will not be directly callable after loading.\n"
     ]
    },
    {
     "name": "stdout",
     "output_type": "stream",
     "text": [
      "Epoch 8/30\n",
      "250/250 [==============================] - 4s 14ms/step - loss: 0.8513 - mse: 0.8473 - val_loss: 0.8948 - val_mse: 0.8906\n"
     ]
    },
    {
     "name": "stderr",
     "output_type": "stream",
     "text": [
      "WARNING:absl:Found untraced functions such as dropout_layer_call_fn, dropout_layer_call_and_return_conditional_losses, lambda_layer_call_fn, lambda_layer_call_and_return_conditional_losses while saving (showing 4 of 4). These functions will not be directly callable after loading.\n"
     ]
    },
    {
     "name": "stdout",
     "output_type": "stream",
     "text": [
      "Epoch 9/30\n",
      "250/250 [==============================] - 4s 15ms/step - loss: 0.8427 - mse: 0.8385 - val_loss: 0.8905 - val_mse: 0.8861\n"
     ]
    },
    {
     "name": "stderr",
     "output_type": "stream",
     "text": [
      "WARNING:absl:Found untraced functions such as dropout_layer_call_fn, dropout_layer_call_and_return_conditional_losses, lambda_layer_call_fn, lambda_layer_call_and_return_conditional_losses while saving (showing 4 of 4). These functions will not be directly callable after loading.\n"
     ]
    },
    {
     "name": "stdout",
     "output_type": "stream",
     "text": [
      "Epoch 10/30\n",
      "250/250 [==============================] - 3s 14ms/step - loss: 0.8355 - mse: 0.8310 - val_loss: 0.8873 - val_mse: 0.8828\n"
     ]
    },
    {
     "name": "stderr",
     "output_type": "stream",
     "text": [
      "WARNING:absl:Found untraced functions such as dropout_layer_call_fn, dropout_layer_call_and_return_conditional_losses, lambda_layer_call_fn, lambda_layer_call_and_return_conditional_losses while saving (showing 4 of 4). These functions will not be directly callable after loading.\n"
     ]
    },
    {
     "name": "stdout",
     "output_type": "stream",
     "text": [
      "Epoch 11/30\n",
      "250/250 [==============================] - 3s 14ms/step - loss: 0.8296 - mse: 0.8249 - val_loss: 0.8847 - val_mse: 0.8800\n"
     ]
    },
    {
     "name": "stderr",
     "output_type": "stream",
     "text": [
      "WARNING:absl:Found untraced functions such as dropout_layer_call_fn, dropout_layer_call_and_return_conditional_losses, lambda_layer_call_fn, lambda_layer_call_and_return_conditional_losses while saving (showing 4 of 4). These functions will not be directly callable after loading.\n"
     ]
    },
    {
     "name": "stdout",
     "output_type": "stream",
     "text": [
      "Epoch 12/30\n",
      "250/250 [==============================] - 3s 14ms/step - loss: 0.8241 - mse: 0.8193 - val_loss: 0.8822 - val_mse: 0.8774\n"
     ]
    },
    {
     "name": "stderr",
     "output_type": "stream",
     "text": [
      "WARNING:absl:Found untraced functions such as dropout_layer_call_fn, dropout_layer_call_and_return_conditional_losses, lambda_layer_call_fn, lambda_layer_call_and_return_conditional_losses while saving (showing 4 of 4). These functions will not be directly callable after loading.\n"
     ]
    },
    {
     "name": "stdout",
     "output_type": "stream",
     "text": [
      "Epoch 13/30\n",
      "250/250 [==============================] - 4s 14ms/step - loss: 0.8195 - mse: 0.8146 - val_loss: 0.8822 - val_mse: 0.8772\n"
     ]
    },
    {
     "name": "stderr",
     "output_type": "stream",
     "text": [
      "WARNING:absl:Found untraced functions such as dropout_layer_call_fn, dropout_layer_call_and_return_conditional_losses, lambda_layer_call_fn, lambda_layer_call_and_return_conditional_losses while saving (showing 4 of 4). These functions will not be directly callable after loading.\n"
     ]
    },
    {
     "name": "stdout",
     "output_type": "stream",
     "text": [
      "Epoch 14/30\n",
      "250/250 [==============================] - 3s 14ms/step - loss: 0.8155 - mse: 0.8104 - val_loss: 0.8806 - val_mse: 0.8754\n"
     ]
    },
    {
     "name": "stderr",
     "output_type": "stream",
     "text": [
      "WARNING:absl:Found untraced functions such as dropout_layer_call_fn, dropout_layer_call_and_return_conditional_losses, lambda_layer_call_fn, lambda_layer_call_and_return_conditional_losses while saving (showing 4 of 4). These functions will not be directly callable after loading.\n"
     ]
    },
    {
     "name": "stdout",
     "output_type": "stream",
     "text": [
      "Epoch 15/30\n",
      "250/250 [==============================] - 4s 14ms/step - loss: 0.8119 - mse: 0.8067 - val_loss: 0.8805 - val_mse: 0.8753\n"
     ]
    },
    {
     "name": "stderr",
     "output_type": "stream",
     "text": [
      "WARNING:absl:Found untraced functions such as dropout_layer_call_fn, dropout_layer_call_and_return_conditional_losses, lambda_layer_call_fn, lambda_layer_call_and_return_conditional_losses while saving (showing 4 of 4). These functions will not be directly callable after loading.\n"
     ]
    },
    {
     "name": "stdout",
     "output_type": "stream",
     "text": [
      "Epoch 16/30\n",
      "250/250 [==============================] - 4s 14ms/step - loss: 0.8084 - mse: 0.8030 - val_loss: 0.8797 - val_mse: 0.8743\n"
     ]
    },
    {
     "name": "stderr",
     "output_type": "stream",
     "text": [
      "WARNING:absl:Found untraced functions such as dropout_layer_call_fn, dropout_layer_call_and_return_conditional_losses, lambda_layer_call_fn, lambda_layer_call_and_return_conditional_losses while saving (showing 4 of 4). These functions will not be directly callable after loading.\n"
     ]
    },
    {
     "name": "stdout",
     "output_type": "stream",
     "text": [
      "Epoch 17/30\n",
      "250/250 [==============================] - 4s 14ms/step - loss: 0.8057 - mse: 0.8003 - val_loss: 0.8799 - val_mse: 0.8744\n",
      "Epoch 18/30\n",
      "250/250 [==============================] - 4s 14ms/step - loss: 0.8027 - mse: 0.7972 - val_loss: 0.8798 - val_mse: 0.8743\n"
     ]
    },
    {
     "name": "stderr",
     "output_type": "stream",
     "text": [
      "WARNING:absl:Found untraced functions such as dropout_layer_call_fn, dropout_layer_call_and_return_conditional_losses, lambda_layer_call_fn, lambda_layer_call_and_return_conditional_losses while saving (showing 4 of 4). These functions will not be directly callable after loading.\n"
     ]
    },
    {
     "name": "stdout",
     "output_type": "stream",
     "text": [
      "Epoch 19/30\n",
      "250/250 [==============================] - 4s 15ms/step - loss: 0.8006 - mse: 0.7950 - val_loss: 0.8799 - val_mse: 0.8742\n"
     ]
    },
    {
     "name": "stderr",
     "output_type": "stream",
     "text": [
      "WARNING:absl:Found untraced functions such as dropout_layer_call_fn, dropout_layer_call_and_return_conditional_losses, lambda_layer_call_fn, lambda_layer_call_and_return_conditional_losses while saving (showing 4 of 4). These functions will not be directly callable after loading.\n"
     ]
    },
    {
     "name": "stdout",
     "output_type": "stream",
     "text": [
      "Epoch 20/30\n",
      "250/250 [==============================] - 4s 14ms/step - loss: 0.7982 - mse: 0.7925 - val_loss: 0.8795 - val_mse: 0.8737\n"
     ]
    },
    {
     "name": "stderr",
     "output_type": "stream",
     "text": [
      "WARNING:absl:Found untraced functions such as dropout_layer_call_fn, dropout_layer_call_and_return_conditional_losses, lambda_layer_call_fn, lambda_layer_call_and_return_conditional_losses while saving (showing 4 of 4). These functions will not be directly callable after loading.\n"
     ]
    },
    {
     "name": "stdout",
     "output_type": "stream",
     "text": [
      "Epoch 21/30\n",
      "250/250 [==============================] - 4s 14ms/step - loss: 0.7965 - mse: 0.7907 - val_loss: 0.8789 - val_mse: 0.8731\n"
     ]
    },
    {
     "name": "stderr",
     "output_type": "stream",
     "text": [
      "WARNING:absl:Found untraced functions such as dropout_layer_call_fn, dropout_layer_call_and_return_conditional_losses, lambda_layer_call_fn, lambda_layer_call_and_return_conditional_losses while saving (showing 4 of 4). These functions will not be directly callable after loading.\n"
     ]
    },
    {
     "name": "stdout",
     "output_type": "stream",
     "text": [
      "Epoch 22/30\n",
      "250/250 [==============================] - 3s 14ms/step - loss: 0.7938 - mse: 0.7879 - val_loss: 0.8804 - val_mse: 0.8745\n",
      "Epoch 23/30\n",
      "250/250 [==============================] - 4s 14ms/step - loss: 0.7919 - mse: 0.7859 - val_loss: 0.8790 - val_mse: 0.8730\n"
     ]
    },
    {
     "name": "stderr",
     "output_type": "stream",
     "text": [
      "WARNING:absl:Found untraced functions such as dropout_layer_call_fn, dropout_layer_call_and_return_conditional_losses, lambda_layer_call_fn, lambda_layer_call_and_return_conditional_losses while saving (showing 4 of 4). These functions will not be directly callable after loading.\n"
     ]
    },
    {
     "name": "stdout",
     "output_type": "stream",
     "text": [
      "Epoch 24/30\n",
      "250/250 [==============================] - 4s 14ms/step - loss: 0.7898 - mse: 0.7838 - val_loss: 0.8812 - val_mse: 0.8751\n",
      "Epoch 25/30\n",
      "250/250 [==============================] - 4s 14ms/step - loss: 0.7884 - mse: 0.7823 - val_loss: 0.8797 - val_mse: 0.8735\n",
      "Epoch 26/30\n",
      "250/250 [==============================] - 4s 14ms/step - loss: 0.7864 - mse: 0.7802 - val_loss: 0.8796 - val_mse: 0.8733\n",
      "Epoch 27/30\n",
      "250/250 [==============================] - 4s 14ms/step - loss: 0.7845 - mse: 0.7782 - val_loss: 0.8802 - val_mse: 0.8739\n",
      "Epoch 28/30\n",
      "250/250 [==============================] - 4s 14ms/step - loss: 0.7828 - mse: 0.7764 - val_loss: 0.8812 - val_mse: 0.8749\n",
      "test MSE 0.8915\n"
     ]
    }
   ],
   "source": [
    "# AFM\n",
    "dict_AFM = {'linear_feature_columns': linear_feature_columns,\n",
    "            'dnn_feature_columns': dnn_feature_columns,\n",
    "            'task': 'regression'}\n",
    "ls_result = calc_nn_based_model(df_movie_all, \n",
    "                                AFM, dict_AFM,\n",
    "                                feature_names, \n",
    "                                'movie_lens', 'AFM')\n",
    "all_result.extend(ls_result)"
   ]
  },
  {
   "cell_type": "code",
   "execution_count": 36,
   "metadata": {},
   "outputs": [
    {
     "name": "stdout",
     "output_type": "stream",
     "text": [
      "Epoch 1/30\n",
      "250/250 [==============================] - 8s 18ms/step - loss: 1.6724 - mse: 1.6723 - val_loss: 0.9034 - val_mse: 0.9033\n"
     ]
    },
    {
     "name": "stderr",
     "output_type": "stream",
     "text": [
      "WARNING:absl:Found untraced functions such as dropout_layer_call_fn, dropout_layer_call_and_return_conditional_losses, dropout_1_layer_call_fn, dropout_1_layer_call_and_return_conditional_losses, dropout_2_layer_call_fn while saving (showing 5 of 16). These functions will not be directly callable after loading.\n"
     ]
    },
    {
     "name": "stdout",
     "output_type": "stream",
     "text": [
      "Epoch 2/30\n",
      "250/250 [==============================] - 4s 16ms/step - loss: 0.8787 - mse: 0.8786 - val_loss: 0.8841 - val_mse: 0.8840\n"
     ]
    },
    {
     "name": "stderr",
     "output_type": "stream",
     "text": [
      "WARNING:absl:Found untraced functions such as dropout_layer_call_fn, dropout_layer_call_and_return_conditional_losses, dropout_1_layer_call_fn, dropout_1_layer_call_and_return_conditional_losses, dropout_2_layer_call_fn while saving (showing 5 of 16). These functions will not be directly callable after loading.\n"
     ]
    },
    {
     "name": "stdout",
     "output_type": "stream",
     "text": [
      "Epoch 3/30\n",
      "250/250 [==============================] - 4s 16ms/step - loss: 0.8640 - mse: 0.8639 - val_loss: 0.8809 - val_mse: 0.8808\n"
     ]
    },
    {
     "name": "stderr",
     "output_type": "stream",
     "text": [
      "WARNING:absl:Found untraced functions such as dropout_layer_call_fn, dropout_layer_call_and_return_conditional_losses, dropout_1_layer_call_fn, dropout_1_layer_call_and_return_conditional_losses, dropout_2_layer_call_fn while saving (showing 5 of 16). These functions will not be directly callable after loading.\n"
     ]
    },
    {
     "name": "stdout",
     "output_type": "stream",
     "text": [
      "Epoch 4/30\n",
      "250/250 [==============================] - 4s 16ms/step - loss: 0.8587 - mse: 0.8585 - val_loss: 0.8876 - val_mse: 0.8874\n",
      "Epoch 5/30\n",
      "250/250 [==============================] - 4s 16ms/step - loss: 0.8487 - mse: 0.8485 - val_loss: 0.8724 - val_mse: 0.8722\n"
     ]
    },
    {
     "name": "stderr",
     "output_type": "stream",
     "text": [
      "WARNING:absl:Found untraced functions such as dropout_layer_call_fn, dropout_layer_call_and_return_conditional_losses, dropout_1_layer_call_fn, dropout_1_layer_call_and_return_conditional_losses, dropout_2_layer_call_fn while saving (showing 5 of 16). These functions will not be directly callable after loading.\n"
     ]
    },
    {
     "name": "stdout",
     "output_type": "stream",
     "text": [
      "Epoch 6/30\n",
      "250/250 [==============================] - 4s 16ms/step - loss: 0.8350 - mse: 0.8348 - val_loss: 0.8686 - val_mse: 0.8683\n"
     ]
    },
    {
     "name": "stderr",
     "output_type": "stream",
     "text": [
      "WARNING:absl:Found untraced functions such as dropout_layer_call_fn, dropout_layer_call_and_return_conditional_losses, dropout_1_layer_call_fn, dropout_1_layer_call_and_return_conditional_losses, dropout_2_layer_call_fn while saving (showing 5 of 16). These functions will not be directly callable after loading.\n"
     ]
    },
    {
     "name": "stdout",
     "output_type": "stream",
     "text": [
      "Epoch 7/30\n",
      "250/250 [==============================] - 4s 16ms/step - loss: 0.8249 - mse: 0.8247 - val_loss: 0.8666 - val_mse: 0.8663\n"
     ]
    },
    {
     "name": "stderr",
     "output_type": "stream",
     "text": [
      "WARNING:absl:Found untraced functions such as dropout_layer_call_fn, dropout_layer_call_and_return_conditional_losses, dropout_1_layer_call_fn, dropout_1_layer_call_and_return_conditional_losses, dropout_2_layer_call_fn while saving (showing 5 of 16). These functions will not be directly callable after loading.\n"
     ]
    },
    {
     "name": "stdout",
     "output_type": "stream",
     "text": [
      "Epoch 8/30\n",
      "250/250 [==============================] - 4s 16ms/step - loss: 0.8127 - mse: 0.8124 - val_loss: 0.8726 - val_mse: 0.8723\n",
      "Epoch 9/30\n",
      "250/250 [==============================] - 4s 16ms/step - loss: 0.8025 - mse: 0.8021 - val_loss: 0.8699 - val_mse: 0.8695\n",
      "Epoch 10/30\n",
      "250/250 [==============================] - 4s 17ms/step - loss: 0.7934 - mse: 0.7930 - val_loss: 0.8618 - val_mse: 0.8614\n"
     ]
    },
    {
     "name": "stderr",
     "output_type": "stream",
     "text": [
      "WARNING:absl:Found untraced functions such as dropout_layer_call_fn, dropout_layer_call_and_return_conditional_losses, dropout_1_layer_call_fn, dropout_1_layer_call_and_return_conditional_losses, dropout_2_layer_call_fn while saving (showing 5 of 16). These functions will not be directly callable after loading.\n"
     ]
    },
    {
     "name": "stdout",
     "output_type": "stream",
     "text": [
      "Epoch 11/30\n",
      "250/250 [==============================] - 4s 16ms/step - loss: 0.7847 - mse: 0.7843 - val_loss: 0.8611 - val_mse: 0.8607\n"
     ]
    },
    {
     "name": "stderr",
     "output_type": "stream",
     "text": [
      "WARNING:absl:Found untraced functions such as dropout_layer_call_fn, dropout_layer_call_and_return_conditional_losses, dropout_1_layer_call_fn, dropout_1_layer_call_and_return_conditional_losses, dropout_2_layer_call_fn while saving (showing 5 of 16). These functions will not be directly callable after loading.\n"
     ]
    },
    {
     "name": "stdout",
     "output_type": "stream",
     "text": [
      "Epoch 12/30\n",
      "250/250 [==============================] - 4s 17ms/step - loss: 0.7762 - mse: 0.7757 - val_loss: 0.8651 - val_mse: 0.8646\n",
      "Epoch 13/30\n",
      "250/250 [==============================] - 4s 16ms/step - loss: 0.7647 - mse: 0.7642 - val_loss: 0.8668 - val_mse: 0.8663\n",
      "Epoch 14/30\n",
      "250/250 [==============================] - 4s 16ms/step - loss: 0.7557 - mse: 0.7551 - val_loss: 0.8641 - val_mse: 0.8635\n",
      "Epoch 15/30\n",
      "250/250 [==============================] - 4s 16ms/step - loss: 0.7409 - mse: 0.7403 - val_loss: 0.8631 - val_mse: 0.8625\n",
      "Epoch 16/30\n",
      "250/250 [==============================] - 4s 16ms/step - loss: 0.7307 - mse: 0.7301 - val_loss: 0.8761 - val_mse: 0.8754\n",
      "test MSE 0.8683\n",
      "Epoch 1/30\n",
      "250/250 [==============================] - 9s 18ms/step - loss: 1.5929 - mse: 1.5928 - val_loss: 0.9106 - val_mse: 0.9105\n"
     ]
    },
    {
     "name": "stderr",
     "output_type": "stream",
     "text": [
      "WARNING:absl:Found untraced functions such as dropout_layer_call_fn, dropout_layer_call_and_return_conditional_losses, dropout_1_layer_call_fn, dropout_1_layer_call_and_return_conditional_losses, dropout_2_layer_call_fn while saving (showing 5 of 16). These functions will not be directly callable after loading.\n"
     ]
    },
    {
     "name": "stdout",
     "output_type": "stream",
     "text": [
      "Epoch 2/30\n",
      "250/250 [==============================] - 4s 17ms/step - loss: 0.8809 - mse: 0.8808 - val_loss: 0.8972 - val_mse: 0.8971\n"
     ]
    },
    {
     "name": "stderr",
     "output_type": "stream",
     "text": [
      "WARNING:absl:Found untraced functions such as dropout_layer_call_fn, dropout_layer_call_and_return_conditional_losses, dropout_1_layer_call_fn, dropout_1_layer_call_and_return_conditional_losses, dropout_2_layer_call_fn while saving (showing 5 of 16). These functions will not be directly callable after loading.\n"
     ]
    },
    {
     "name": "stdout",
     "output_type": "stream",
     "text": [
      "Epoch 3/30\n",
      "250/250 [==============================] - 4s 17ms/step - loss: 0.8680 - mse: 0.8679 - val_loss: 0.8923 - val_mse: 0.8922\n"
     ]
    },
    {
     "name": "stderr",
     "output_type": "stream",
     "text": [
      "WARNING:absl:Found untraced functions such as dropout_layer_call_fn, dropout_layer_call_and_return_conditional_losses, dropout_1_layer_call_fn, dropout_1_layer_call_and_return_conditional_losses, dropout_2_layer_call_fn while saving (showing 5 of 16). These functions will not be directly callable after loading.\n"
     ]
    },
    {
     "name": "stdout",
     "output_type": "stream",
     "text": [
      "Epoch 4/30\n",
      "250/250 [==============================] - 4s 18ms/step - loss: 0.8603 - mse: 0.8602 - val_loss: 0.8906 - val_mse: 0.8904\n"
     ]
    },
    {
     "name": "stderr",
     "output_type": "stream",
     "text": [
      "WARNING:absl:Found untraced functions such as dropout_layer_call_fn, dropout_layer_call_and_return_conditional_losses, dropout_1_layer_call_fn, dropout_1_layer_call_and_return_conditional_losses, dropout_2_layer_call_fn while saving (showing 5 of 16). These functions will not be directly callable after loading.\n"
     ]
    },
    {
     "name": "stdout",
     "output_type": "stream",
     "text": [
      "Epoch 5/30\n",
      "250/250 [==============================] - 4s 17ms/step - loss: 0.8473 - mse: 0.8472 - val_loss: 0.8817 - val_mse: 0.8815\n"
     ]
    },
    {
     "name": "stderr",
     "output_type": "stream",
     "text": [
      "WARNING:absl:Found untraced functions such as dropout_layer_call_fn, dropout_layer_call_and_return_conditional_losses, dropout_1_layer_call_fn, dropout_1_layer_call_and_return_conditional_losses, dropout_2_layer_call_fn while saving (showing 5 of 16). These functions will not be directly callable after loading.\n"
     ]
    },
    {
     "name": "stdout",
     "output_type": "stream",
     "text": [
      "Epoch 6/30\n",
      "250/250 [==============================] - 4s 18ms/step - loss: 0.8333 - mse: 0.8331 - val_loss: 0.8720 - val_mse: 0.8717\n"
     ]
    },
    {
     "name": "stderr",
     "output_type": "stream",
     "text": [
      "WARNING:absl:Found untraced functions such as dropout_layer_call_fn, dropout_layer_call_and_return_conditional_losses, dropout_1_layer_call_fn, dropout_1_layer_call_and_return_conditional_losses, dropout_2_layer_call_fn while saving (showing 5 of 16). These functions will not be directly callable after loading.\n"
     ]
    },
    {
     "name": "stdout",
     "output_type": "stream",
     "text": [
      "Epoch 7/30\n",
      "250/250 [==============================] - 4s 17ms/step - loss: 0.8215 - mse: 0.8212 - val_loss: 0.8752 - val_mse: 0.8749\n",
      "Epoch 8/30\n",
      "250/250 [==============================] - 4s 17ms/step - loss: 0.8121 - mse: 0.8119 - val_loss: 0.8784 - val_mse: 0.8781\n",
      "Epoch 9/30\n",
      "250/250 [==============================] - 4s 17ms/step - loss: 0.8025 - mse: 0.8021 - val_loss: 0.8822 - val_mse: 0.8818\n",
      "Epoch 10/30\n",
      "250/250 [==============================] - 4s 17ms/step - loss: 0.7943 - mse: 0.7940 - val_loss: 0.8719 - val_mse: 0.8715\n"
     ]
    },
    {
     "name": "stderr",
     "output_type": "stream",
     "text": [
      "WARNING:absl:Found untraced functions such as dropout_layer_call_fn, dropout_layer_call_and_return_conditional_losses, dropout_1_layer_call_fn, dropout_1_layer_call_and_return_conditional_losses, dropout_2_layer_call_fn while saving (showing 5 of 16). These functions will not be directly callable after loading.\n"
     ]
    },
    {
     "name": "stdout",
     "output_type": "stream",
     "text": [
      "Epoch 11/30\n",
      "250/250 [==============================] - 4s 17ms/step - loss: 0.7832 - mse: 0.7827 - val_loss: 0.8735 - val_mse: 0.8730\n",
      "Epoch 12/30\n",
      "250/250 [==============================] - 4s 17ms/step - loss: 0.7743 - mse: 0.7738 - val_loss: 0.8696 - val_mse: 0.8691\n"
     ]
    },
    {
     "name": "stderr",
     "output_type": "stream",
     "text": [
      "WARNING:absl:Found untraced functions such as dropout_layer_call_fn, dropout_layer_call_and_return_conditional_losses, dropout_1_layer_call_fn, dropout_1_layer_call_and_return_conditional_losses, dropout_2_layer_call_fn while saving (showing 5 of 16). These functions will not be directly callable after loading.\n"
     ]
    },
    {
     "name": "stdout",
     "output_type": "stream",
     "text": [
      "Epoch 13/30\n",
      "250/250 [==============================] - 4s 17ms/step - loss: 0.7676 - mse: 0.7671 - val_loss: 0.8697 - val_mse: 0.8692\n",
      "Epoch 14/30\n",
      "250/250 [==============================] - 4s 17ms/step - loss: 0.7559 - mse: 0.7554 - val_loss: 0.8726 - val_mse: 0.8721\n",
      "Epoch 15/30\n",
      "250/250 [==============================] - 4s 17ms/step - loss: 0.7454 - mse: 0.7449 - val_loss: 0.8695 - val_mse: 0.8689\n"
     ]
    },
    {
     "name": "stderr",
     "output_type": "stream",
     "text": [
      "WARNING:absl:Found untraced functions such as dropout_layer_call_fn, dropout_layer_call_and_return_conditional_losses, dropout_1_layer_call_fn, dropout_1_layer_call_and_return_conditional_losses, dropout_2_layer_call_fn while saving (showing 5 of 16). These functions will not be directly callable after loading.\n"
     ]
    },
    {
     "name": "stdout",
     "output_type": "stream",
     "text": [
      "Epoch 16/30\n",
      "250/250 [==============================] - 4s 17ms/step - loss: 0.7338 - mse: 0.7331 - val_loss: 0.8716 - val_mse: 0.8710\n",
      "Epoch 17/30\n",
      "250/250 [==============================] - 4s 17ms/step - loss: 0.7200 - mse: 0.7194 - val_loss: 0.8828 - val_mse: 0.8822\n",
      "Epoch 18/30\n",
      "250/250 [==============================] - 4s 17ms/step - loss: 0.7058 - mse: 0.7051 - val_loss: 0.8823 - val_mse: 0.8816\n",
      "Epoch 19/30\n",
      "250/250 [==============================] - 4s 17ms/step - loss: 0.6920 - mse: 0.6912 - val_loss: 0.8839 - val_mse: 0.8831\n",
      "Epoch 20/30\n",
      "250/250 [==============================] - 4s 17ms/step - loss: 0.6798 - mse: 0.6790 - val_loss: 0.8934 - val_mse: 0.8926\n",
      "test MSE 0.8666\n",
      "Epoch 1/30\n",
      "250/250 [==============================] - 8s 16ms/step - loss: 1.6325 - mse: 1.6324 - val_loss: 0.9090 - val_mse: 0.9089\n"
     ]
    },
    {
     "name": "stderr",
     "output_type": "stream",
     "text": [
      "WARNING:absl:Found untraced functions such as dropout_layer_call_fn, dropout_layer_call_and_return_conditional_losses, dropout_1_layer_call_fn, dropout_1_layer_call_and_return_conditional_losses, dropout_2_layer_call_fn while saving (showing 5 of 16). These functions will not be directly callable after loading.\n"
     ]
    },
    {
     "name": "stdout",
     "output_type": "stream",
     "text": [
      "Epoch 2/30\n",
      "250/250 [==============================] - 4s 15ms/step - loss: 0.8826 - mse: 0.8825 - val_loss: 0.8927 - val_mse: 0.8926\n"
     ]
    },
    {
     "name": "stderr",
     "output_type": "stream",
     "text": [
      "WARNING:absl:Found untraced functions such as dropout_layer_call_fn, dropout_layer_call_and_return_conditional_losses, dropout_1_layer_call_fn, dropout_1_layer_call_and_return_conditional_losses, dropout_2_layer_call_fn while saving (showing 5 of 16). These functions will not be directly callable after loading.\n"
     ]
    },
    {
     "name": "stdout",
     "output_type": "stream",
     "text": [
      "Epoch 3/30\n",
      "250/250 [==============================] - 4s 16ms/step - loss: 0.8679 - mse: 0.8678 - val_loss: 0.8916 - val_mse: 0.8915\n"
     ]
    },
    {
     "name": "stderr",
     "output_type": "stream",
     "text": [
      "WARNING:absl:Found untraced functions such as dropout_layer_call_fn, dropout_layer_call_and_return_conditional_losses, dropout_1_layer_call_fn, dropout_1_layer_call_and_return_conditional_losses, dropout_2_layer_call_fn while saving (showing 5 of 16). These functions will not be directly callable after loading.\n"
     ]
    },
    {
     "name": "stdout",
     "output_type": "stream",
     "text": [
      "Epoch 4/30\n",
      "250/250 [==============================] - 4s 16ms/step - loss: 0.8615 - mse: 0.8613 - val_loss: 0.9079 - val_mse: 0.9077\n",
      "Epoch 5/30\n",
      "250/250 [==============================] - 4s 15ms/step - loss: 0.8587 - mse: 0.8585 - val_loss: 0.8955 - val_mse: 0.8953\n",
      "Epoch 6/30\n",
      "250/250 [==============================] - 4s 15ms/step - loss: 0.8484 - mse: 0.8482 - val_loss: 0.8781 - val_mse: 0.8778\n"
     ]
    },
    {
     "name": "stderr",
     "output_type": "stream",
     "text": [
      "WARNING:absl:Found untraced functions such as dropout_layer_call_fn, dropout_layer_call_and_return_conditional_losses, dropout_1_layer_call_fn, dropout_1_layer_call_and_return_conditional_losses, dropout_2_layer_call_fn while saving (showing 5 of 16). These functions will not be directly callable after loading.\n"
     ]
    },
    {
     "name": "stdout",
     "output_type": "stream",
     "text": [
      "Epoch 7/30\n",
      "250/250 [==============================] - 4s 15ms/step - loss: 0.8317 - mse: 0.8314 - val_loss: 0.8699 - val_mse: 0.8696\n"
     ]
    },
    {
     "name": "stderr",
     "output_type": "stream",
     "text": [
      "WARNING:absl:Found untraced functions such as dropout_layer_call_fn, dropout_layer_call_and_return_conditional_losses, dropout_1_layer_call_fn, dropout_1_layer_call_and_return_conditional_losses, dropout_2_layer_call_fn while saving (showing 5 of 16). These functions will not be directly callable after loading.\n"
     ]
    },
    {
     "name": "stdout",
     "output_type": "stream",
     "text": [
      "Epoch 8/30\n",
      "250/250 [==============================] - 4s 16ms/step - loss: 0.8213 - mse: 0.8210 - val_loss: 0.8626 - val_mse: 0.8623\n"
     ]
    },
    {
     "name": "stderr",
     "output_type": "stream",
     "text": [
      "WARNING:absl:Found untraced functions such as dropout_layer_call_fn, dropout_layer_call_and_return_conditional_losses, dropout_1_layer_call_fn, dropout_1_layer_call_and_return_conditional_losses, dropout_2_layer_call_fn while saving (showing 5 of 16). These functions will not be directly callable after loading.\n"
     ]
    },
    {
     "name": "stdout",
     "output_type": "stream",
     "text": [
      "Epoch 9/30\n",
      "250/250 [==============================] - 4s 16ms/step - loss: 0.8118 - mse: 0.8115 - val_loss: 0.8651 - val_mse: 0.8648\n",
      "Epoch 10/30\n",
      "250/250 [==============================] - 4s 16ms/step - loss: 0.8018 - mse: 0.8014 - val_loss: 0.8921 - val_mse: 0.8917\n",
      "Epoch 11/30\n",
      "250/250 [==============================] - 4s 15ms/step - loss: 0.7893 - mse: 0.7889 - val_loss: 0.8608 - val_mse: 0.8603\n"
     ]
    },
    {
     "name": "stderr",
     "output_type": "stream",
     "text": [
      "WARNING:absl:Found untraced functions such as dropout_layer_call_fn, dropout_layer_call_and_return_conditional_losses, dropout_1_layer_call_fn, dropout_1_layer_call_and_return_conditional_losses, dropout_2_layer_call_fn while saving (showing 5 of 16). These functions will not be directly callable after loading.\n"
     ]
    },
    {
     "name": "stdout",
     "output_type": "stream",
     "text": [
      "Epoch 12/30\n",
      "250/250 [==============================] - 4s 15ms/step - loss: 0.7775 - mse: 0.7770 - val_loss: 0.8648 - val_mse: 0.8643\n",
      "Epoch 13/30\n",
      "250/250 [==============================] - 4s 16ms/step - loss: 0.7661 - mse: 0.7656 - val_loss: 0.8769 - val_mse: 0.8764\n",
      "Epoch 14/30\n",
      "250/250 [==============================] - 4s 16ms/step - loss: 0.7489 - mse: 0.7483 - val_loss: 0.8648 - val_mse: 0.8642\n",
      "Epoch 15/30\n",
      "250/250 [==============================] - 4s 16ms/step - loss: 0.7364 - mse: 0.7358 - val_loss: 0.8627 - val_mse: 0.8620\n",
      "Epoch 16/30\n",
      "250/250 [==============================] - 4s 16ms/step - loss: 0.7233 - mse: 0.7227 - val_loss: 0.8609 - val_mse: 0.8602\n"
     ]
    },
    {
     "name": "stderr",
     "output_type": "stream",
     "text": [
      "WARNING:absl:Found untraced functions such as dropout_layer_call_fn, dropout_layer_call_and_return_conditional_losses, dropout_1_layer_call_fn, dropout_1_layer_call_and_return_conditional_losses, dropout_2_layer_call_fn while saving (showing 5 of 16). These functions will not be directly callable after loading.\n"
     ]
    },
    {
     "name": "stdout",
     "output_type": "stream",
     "text": [
      "Epoch 17/30\n",
      "250/250 [==============================] - 4s 16ms/step - loss: 0.7111 - mse: 0.7104 - val_loss: 0.8714 - val_mse: 0.8707\n",
      "Epoch 18/30\n",
      "250/250 [==============================] - 4s 16ms/step - loss: 0.7021 - mse: 0.7013 - val_loss: 0.8788 - val_mse: 0.8781\n",
      "Epoch 19/30\n",
      "250/250 [==============================] - 4s 16ms/step - loss: 0.6896 - mse: 0.6889 - val_loss: 0.8788 - val_mse: 0.8780\n",
      "Epoch 20/30\n",
      "250/250 [==============================] - 4s 16ms/step - loss: 0.6804 - mse: 0.6796 - val_loss: 0.8806 - val_mse: 0.8798\n",
      "Epoch 21/30\n",
      "250/250 [==============================] - 4s 16ms/step - loss: 0.6700 - mse: 0.6691 - val_loss: 0.8921 - val_mse: 0.8912\n",
      "test MSE 0.8588\n",
      "Epoch 1/30\n",
      "250/250 [==============================] - 8s 16ms/step - loss: 1.5674 - mse: 1.5674 - val_loss: 0.8995 - val_mse: 0.8995\n"
     ]
    },
    {
     "name": "stderr",
     "output_type": "stream",
     "text": [
      "WARNING:absl:Found untraced functions such as dropout_layer_call_fn, dropout_layer_call_and_return_conditional_losses, dropout_1_layer_call_fn, dropout_1_layer_call_and_return_conditional_losses, dropout_2_layer_call_fn while saving (showing 5 of 16). These functions will not be directly callable after loading.\n"
     ]
    },
    {
     "name": "stdout",
     "output_type": "stream",
     "text": [
      "Epoch 2/30\n",
      "250/250 [==============================] - 4s 17ms/step - loss: 0.8809 - mse: 0.8808 - val_loss: 0.8904 - val_mse: 0.8903\n"
     ]
    },
    {
     "name": "stderr",
     "output_type": "stream",
     "text": [
      "WARNING:absl:Found untraced functions such as dropout_layer_call_fn, dropout_layer_call_and_return_conditional_losses, dropout_1_layer_call_fn, dropout_1_layer_call_and_return_conditional_losses, dropout_2_layer_call_fn while saving (showing 5 of 16). These functions will not be directly callable after loading.\n"
     ]
    },
    {
     "name": "stdout",
     "output_type": "stream",
     "text": [
      "Epoch 3/30\n",
      "250/250 [==============================] - 4s 16ms/step - loss: 0.8652 - mse: 0.8651 - val_loss: 0.8825 - val_mse: 0.8824\n"
     ]
    },
    {
     "name": "stderr",
     "output_type": "stream",
     "text": [
      "WARNING:absl:Found untraced functions such as dropout_layer_call_fn, dropout_layer_call_and_return_conditional_losses, dropout_1_layer_call_fn, dropout_1_layer_call_and_return_conditional_losses, dropout_2_layer_call_fn while saving (showing 5 of 16). These functions will not be directly callable after loading.\n"
     ]
    },
    {
     "name": "stdout",
     "output_type": "stream",
     "text": [
      "Epoch 4/30\n",
      "250/250 [==============================] - 4s 16ms/step - loss: 0.8559 - mse: 0.8557 - val_loss: 0.8945 - val_mse: 0.8944\n",
      "Epoch 5/30\n",
      "250/250 [==============================] - 4s 17ms/step - loss: 0.8440 - mse: 0.8438 - val_loss: 0.8723 - val_mse: 0.8721\n"
     ]
    },
    {
     "name": "stderr",
     "output_type": "stream",
     "text": [
      "WARNING:absl:Found untraced functions such as dropout_layer_call_fn, dropout_layer_call_and_return_conditional_losses, dropout_1_layer_call_fn, dropout_1_layer_call_and_return_conditional_losses, dropout_2_layer_call_fn while saving (showing 5 of 16). These functions will not be directly callable after loading.\n"
     ]
    },
    {
     "name": "stdout",
     "output_type": "stream",
     "text": [
      "Epoch 6/30\n",
      "250/250 [==============================] - 4s 17ms/step - loss: 0.8295 - mse: 0.8293 - val_loss: 0.8684 - val_mse: 0.8681\n"
     ]
    },
    {
     "name": "stderr",
     "output_type": "stream",
     "text": [
      "WARNING:absl:Found untraced functions such as dropout_layer_call_fn, dropout_layer_call_and_return_conditional_losses, dropout_1_layer_call_fn, dropout_1_layer_call_and_return_conditional_losses, dropout_2_layer_call_fn while saving (showing 5 of 16). These functions will not be directly callable after loading.\n"
     ]
    },
    {
     "name": "stdout",
     "output_type": "stream",
     "text": [
      "Epoch 7/30\n",
      "250/250 [==============================] - 4s 17ms/step - loss: 0.8184 - mse: 0.8182 - val_loss: 0.8723 - val_mse: 0.8721\n",
      "Epoch 8/30\n",
      "250/250 [==============================] - 4s 17ms/step - loss: 0.8106 - mse: 0.8103 - val_loss: 0.8689 - val_mse: 0.8685\n",
      "Epoch 9/30\n",
      "250/250 [==============================] - 4s 18ms/step - loss: 0.8015 - mse: 0.8011 - val_loss: 0.8658 - val_mse: 0.8654\n"
     ]
    },
    {
     "name": "stderr",
     "output_type": "stream",
     "text": [
      "WARNING:absl:Found untraced functions such as dropout_layer_call_fn, dropout_layer_call_and_return_conditional_losses, dropout_1_layer_call_fn, dropout_1_layer_call_and_return_conditional_losses, dropout_2_layer_call_fn while saving (showing 5 of 16). These functions will not be directly callable after loading.\n"
     ]
    },
    {
     "name": "stdout",
     "output_type": "stream",
     "text": [
      "Epoch 10/30\n",
      "250/250 [==============================] - 4s 18ms/step - loss: 0.7935 - mse: 0.7931 - val_loss: 0.8611 - val_mse: 0.8607\n"
     ]
    },
    {
     "name": "stderr",
     "output_type": "stream",
     "text": [
      "WARNING:absl:Found untraced functions such as dropout_layer_call_fn, dropout_layer_call_and_return_conditional_losses, dropout_1_layer_call_fn, dropout_1_layer_call_and_return_conditional_losses, dropout_2_layer_call_fn while saving (showing 5 of 16). These functions will not be directly callable after loading.\n"
     ]
    },
    {
     "name": "stdout",
     "output_type": "stream",
     "text": [
      "Epoch 11/30\n",
      "250/250 [==============================] - 4s 17ms/step - loss: 0.7814 - mse: 0.7810 - val_loss: 0.8659 - val_mse: 0.8655\n",
      "Epoch 12/30\n",
      "250/250 [==============================] - 4s 17ms/step - loss: 0.7725 - mse: 0.7720 - val_loss: 0.8590 - val_mse: 0.8586\n"
     ]
    },
    {
     "name": "stderr",
     "output_type": "stream",
     "text": [
      "WARNING:absl:Found untraced functions such as dropout_layer_call_fn, dropout_layer_call_and_return_conditional_losses, dropout_1_layer_call_fn, dropout_1_layer_call_and_return_conditional_losses, dropout_2_layer_call_fn while saving (showing 5 of 16). These functions will not be directly callable after loading.\n"
     ]
    },
    {
     "name": "stdout",
     "output_type": "stream",
     "text": [
      "Epoch 13/30\n",
      "250/250 [==============================] - 4s 17ms/step - loss: 0.7583 - mse: 0.7578 - val_loss: 0.8622 - val_mse: 0.8617\n",
      "Epoch 14/30\n",
      "250/250 [==============================] - 4s 17ms/step - loss: 0.7457 - mse: 0.7451 - val_loss: 0.8717 - val_mse: 0.8711\n",
      "Epoch 15/30\n",
      "250/250 [==============================] - 4s 18ms/step - loss: 0.7343 - mse: 0.7337 - val_loss: 0.8811 - val_mse: 0.8805\n",
      "Epoch 16/30\n",
      "250/250 [==============================] - 4s 18ms/step - loss: 0.7192 - mse: 0.7186 - val_loss: 0.8643 - val_mse: 0.8636\n",
      "Epoch 17/30\n",
      "250/250 [==============================] - 4s 17ms/step - loss: 0.7043 - mse: 0.7036 - val_loss: 0.8741 - val_mse: 0.8734\n",
      "test MSE 0.8639\n",
      "Epoch 1/30\n",
      "250/250 [==============================] - 8s 17ms/step - loss: 1.6013 - mse: 1.6013 - val_loss: 0.8947 - val_mse: 0.8946\n"
     ]
    },
    {
     "name": "stderr",
     "output_type": "stream",
     "text": [
      "WARNING:absl:Found untraced functions such as dropout_layer_call_fn, dropout_layer_call_and_return_conditional_losses, dropout_1_layer_call_fn, dropout_1_layer_call_and_return_conditional_losses, dropout_2_layer_call_fn while saving (showing 5 of 16). These functions will not be directly callable after loading.\n"
     ]
    },
    {
     "name": "stdout",
     "output_type": "stream",
     "text": [
      "Epoch 2/30\n",
      "250/250 [==============================] - 4s 16ms/step - loss: 0.8815 - mse: 0.8814 - val_loss: 0.8910 - val_mse: 0.8908\n"
     ]
    },
    {
     "name": "stderr",
     "output_type": "stream",
     "text": [
      "WARNING:absl:Found untraced functions such as dropout_layer_call_fn, dropout_layer_call_and_return_conditional_losses, dropout_1_layer_call_fn, dropout_1_layer_call_and_return_conditional_losses, dropout_2_layer_call_fn while saving (showing 5 of 16). These functions will not be directly callable after loading.\n"
     ]
    },
    {
     "name": "stdout",
     "output_type": "stream",
     "text": [
      "Epoch 3/30\n",
      "250/250 [==============================] - 4s 17ms/step - loss: 0.8663 - mse: 0.8662 - val_loss: 0.8809 - val_mse: 0.8808\n"
     ]
    },
    {
     "name": "stderr",
     "output_type": "stream",
     "text": [
      "WARNING:absl:Found untraced functions such as dropout_layer_call_fn, dropout_layer_call_and_return_conditional_losses, dropout_1_layer_call_fn, dropout_1_layer_call_and_return_conditional_losses, dropout_2_layer_call_fn while saving (showing 5 of 16). These functions will not be directly callable after loading.\n"
     ]
    },
    {
     "name": "stdout",
     "output_type": "stream",
     "text": [
      "Epoch 4/30\n",
      "250/250 [==============================] - 4s 17ms/step - loss: 0.8573 - mse: 0.8571 - val_loss: 0.8769 - val_mse: 0.8767\n"
     ]
    },
    {
     "name": "stderr",
     "output_type": "stream",
     "text": [
      "WARNING:absl:Found untraced functions such as dropout_layer_call_fn, dropout_layer_call_and_return_conditional_losses, dropout_1_layer_call_fn, dropout_1_layer_call_and_return_conditional_losses, dropout_2_layer_call_fn while saving (showing 5 of 16). These functions will not be directly callable after loading.\n"
     ]
    },
    {
     "name": "stdout",
     "output_type": "stream",
     "text": [
      "Epoch 5/30\n",
      "250/250 [==============================] - 4s 17ms/step - loss: 0.8437 - mse: 0.8435 - val_loss: 0.8649 - val_mse: 0.8647\n"
     ]
    },
    {
     "name": "stderr",
     "output_type": "stream",
     "text": [
      "WARNING:absl:Found untraced functions such as dropout_layer_call_fn, dropout_layer_call_and_return_conditional_losses, dropout_1_layer_call_fn, dropout_1_layer_call_and_return_conditional_losses, dropout_2_layer_call_fn while saving (showing 5 of 16). These functions will not be directly callable after loading.\n"
     ]
    },
    {
     "name": "stdout",
     "output_type": "stream",
     "text": [
      "Epoch 6/30\n",
      "250/250 [==============================] - 4s 17ms/step - loss: 0.8293 - mse: 0.8291 - val_loss: 0.8630 - val_mse: 0.8628\n"
     ]
    },
    {
     "name": "stderr",
     "output_type": "stream",
     "text": [
      "WARNING:absl:Found untraced functions such as dropout_layer_call_fn, dropout_layer_call_and_return_conditional_losses, dropout_1_layer_call_fn, dropout_1_layer_call_and_return_conditional_losses, dropout_2_layer_call_fn while saving (showing 5 of 16). These functions will not be directly callable after loading.\n"
     ]
    },
    {
     "name": "stdout",
     "output_type": "stream",
     "text": [
      "Epoch 7/30\n",
      "250/250 [==============================] - 4s 17ms/step - loss: 0.8216 - mse: 0.8213 - val_loss: 0.8579 - val_mse: 0.8576\n"
     ]
    },
    {
     "name": "stderr",
     "output_type": "stream",
     "text": [
      "WARNING:absl:Found untraced functions such as dropout_layer_call_fn, dropout_layer_call_and_return_conditional_losses, dropout_1_layer_call_fn, dropout_1_layer_call_and_return_conditional_losses, dropout_2_layer_call_fn while saving (showing 5 of 16). These functions will not be directly callable after loading.\n"
     ]
    },
    {
     "name": "stdout",
     "output_type": "stream",
     "text": [
      "Epoch 8/30\n",
      "250/250 [==============================] - 4s 17ms/step - loss: 0.8113 - mse: 0.8110 - val_loss: 0.8667 - val_mse: 0.8664\n",
      "Epoch 9/30\n",
      "250/250 [==============================] - 4s 17ms/step - loss: 0.8068 - mse: 0.8065 - val_loss: 0.8564 - val_mse: 0.8561\n"
     ]
    },
    {
     "name": "stderr",
     "output_type": "stream",
     "text": [
      "WARNING:absl:Found untraced functions such as dropout_layer_call_fn, dropout_layer_call_and_return_conditional_losses, dropout_1_layer_call_fn, dropout_1_layer_call_and_return_conditional_losses, dropout_2_layer_call_fn while saving (showing 5 of 16). These functions will not be directly callable after loading.\n"
     ]
    },
    {
     "name": "stdout",
     "output_type": "stream",
     "text": [
      "Epoch 10/30\n",
      "250/250 [==============================] - 4s 18ms/step - loss: 0.8014 - mse: 0.8010 - val_loss: 0.8555 - val_mse: 0.8551\n"
     ]
    },
    {
     "name": "stderr",
     "output_type": "stream",
     "text": [
      "WARNING:absl:Found untraced functions such as dropout_layer_call_fn, dropout_layer_call_and_return_conditional_losses, dropout_1_layer_call_fn, dropout_1_layer_call_and_return_conditional_losses, dropout_2_layer_call_fn while saving (showing 5 of 16). These functions will not be directly callable after loading.\n"
     ]
    },
    {
     "name": "stdout",
     "output_type": "stream",
     "text": [
      "Epoch 11/30\n",
      "250/250 [==============================] - 4s 17ms/step - loss: 0.7888 - mse: 0.7884 - val_loss: 0.8529 - val_mse: 0.8524\n"
     ]
    },
    {
     "name": "stderr",
     "output_type": "stream",
     "text": [
      "WARNING:absl:Found untraced functions such as dropout_layer_call_fn, dropout_layer_call_and_return_conditional_losses, dropout_1_layer_call_fn, dropout_1_layer_call_and_return_conditional_losses, dropout_2_layer_call_fn while saving (showing 5 of 16). These functions will not be directly callable after loading.\n"
     ]
    },
    {
     "name": "stdout",
     "output_type": "stream",
     "text": [
      "Epoch 12/30\n",
      "250/250 [==============================] - 4s 17ms/step - loss: 0.7791 - mse: 0.7786 - val_loss: 0.8560 - val_mse: 0.8556\n",
      "Epoch 13/30\n",
      "250/250 [==============================] - 4s 17ms/step - loss: 0.7687 - mse: 0.7682 - val_loss: 0.8543 - val_mse: 0.8538\n",
      "Epoch 14/30\n",
      "250/250 [==============================] - 4s 17ms/step - loss: 0.7540 - mse: 0.7535 - val_loss: 0.8568 - val_mse: 0.8563\n",
      "Epoch 15/30\n",
      "250/250 [==============================] - 4s 16ms/step - loss: 0.7421 - mse: 0.7415 - val_loss: 0.8623 - val_mse: 0.8617\n",
      "Epoch 16/30\n",
      "250/250 [==============================] - 4s 17ms/step - loss: 0.7303 - mse: 0.7296 - val_loss: 0.8608 - val_mse: 0.8601\n",
      "test MSE 0.8722\n"
     ]
    }
   ],
   "source": [
    "# xDeepFM\n",
    "dict_xDeepFM = {'linear_feature_columns': linear_feature_columns,\n",
    "                'dnn_feature_columns': dnn_feature_columns,\n",
    "                'task': 'regression'}\n",
    "ls_result = calc_nn_based_model(df_movie_all, \n",
    "                                xDeepFM, dict_xDeepFM,\n",
    "                                feature_names, \n",
    "                                'movie_lens', 'xDeepFM')\n",
    "all_result.extend(ls_result)"
   ]
  },
  {
   "attachments": {},
   "cell_type": "markdown",
   "metadata": {},
   "source": [
    "### yelp"
   ]
  },
  {
   "cell_type": "code",
   "execution_count": 37,
   "metadata": {},
   "outputs": [
    {
     "name": "stdout",
     "output_type": "stream",
     "text": [
      "(188456, 32)\n"
     ]
    },
    {
     "data": {
      "text/html": [
       "<div>\n",
       "<style scoped>\n",
       "    .dataframe tbody tr th:only-of-type {\n",
       "        vertical-align: middle;\n",
       "    }\n",
       "\n",
       "    .dataframe tbody tr th {\n",
       "        vertical-align: top;\n",
       "    }\n",
       "\n",
       "    .dataframe thead th {\n",
       "        text-align: right;\n",
       "    }\n",
       "</style>\n",
       "<table border=\"1\" class=\"dataframe\">\n",
       "  <thead>\n",
       "    <tr style=\"text-align: right;\">\n",
       "      <th></th>\n",
       "      <th>user_id</th>\n",
       "      <th>item_id</th>\n",
       "      <th>compliment1</th>\n",
       "      <th>compliment10</th>\n",
       "      <th>compliment11</th>\n",
       "      <th>compliment2</th>\n",
       "      <th>compliment3</th>\n",
       "      <th>compliment4</th>\n",
       "      <th>compliment5</th>\n",
       "      <th>compliment6</th>\n",
       "      <th>...</th>\n",
       "      <th>genre18</th>\n",
       "      <th>genre2</th>\n",
       "      <th>genre3</th>\n",
       "      <th>genre4</th>\n",
       "      <th>genre5</th>\n",
       "      <th>genre6</th>\n",
       "      <th>genre7</th>\n",
       "      <th>genre8</th>\n",
       "      <th>genre9</th>\n",
       "      <th>rating</th>\n",
       "    </tr>\n",
       "  </thead>\n",
       "  <tbody>\n",
       "    <tr>\n",
       "      <th>0</th>\n",
       "      <td>2</td>\n",
       "      <td>186</td>\n",
       "      <td>1</td>\n",
       "      <td>0</td>\n",
       "      <td>1</td>\n",
       "      <td>1</td>\n",
       "      <td>1</td>\n",
       "      <td>1</td>\n",
       "      <td>1</td>\n",
       "      <td>1</td>\n",
       "      <td>...</td>\n",
       "      <td>0</td>\n",
       "      <td>0</td>\n",
       "      <td>0</td>\n",
       "      <td>0</td>\n",
       "      <td>1</td>\n",
       "      <td>0</td>\n",
       "      <td>0</td>\n",
       "      <td>0</td>\n",
       "      <td>0</td>\n",
       "      <td>5</td>\n",
       "    </tr>\n",
       "    <tr>\n",
       "      <th>1</th>\n",
       "      <td>2</td>\n",
       "      <td>205</td>\n",
       "      <td>1</td>\n",
       "      <td>0</td>\n",
       "      <td>1</td>\n",
       "      <td>1</td>\n",
       "      <td>1</td>\n",
       "      <td>1</td>\n",
       "      <td>1</td>\n",
       "      <td>1</td>\n",
       "      <td>...</td>\n",
       "      <td>0</td>\n",
       "      <td>0</td>\n",
       "      <td>0</td>\n",
       "      <td>0</td>\n",
       "      <td>0</td>\n",
       "      <td>0</td>\n",
       "      <td>0</td>\n",
       "      <td>1</td>\n",
       "      <td>0</td>\n",
       "      <td>5</td>\n",
       "    </tr>\n",
       "    <tr>\n",
       "      <th>2</th>\n",
       "      <td>2</td>\n",
       "      <td>209</td>\n",
       "      <td>1</td>\n",
       "      <td>0</td>\n",
       "      <td>1</td>\n",
       "      <td>1</td>\n",
       "      <td>1</td>\n",
       "      <td>1</td>\n",
       "      <td>1</td>\n",
       "      <td>1</td>\n",
       "      <td>...</td>\n",
       "      <td>0</td>\n",
       "      <td>0</td>\n",
       "      <td>0</td>\n",
       "      <td>0</td>\n",
       "      <td>1</td>\n",
       "      <td>0</td>\n",
       "      <td>0</td>\n",
       "      <td>1</td>\n",
       "      <td>0</td>\n",
       "      <td>4</td>\n",
       "    </tr>\n",
       "  </tbody>\n",
       "</table>\n",
       "<p>3 rows × 32 columns</p>\n",
       "</div>"
      ],
      "text/plain": [
       "  user_id item_id compliment1 compliment10 compliment11 compliment2  \\\n",
       "0       2     186           1            0            1           1   \n",
       "1       2     205           1            0            1           1   \n",
       "2       2     209           1            0            1           1   \n",
       "\n",
       "  compliment3 compliment4 compliment5 compliment6  ... genre18 genre2 genre3  \\\n",
       "0           1           1           1           1  ...       0      0      0   \n",
       "1           1           1           1           1  ...       0      0      0   \n",
       "2           1           1           1           1  ...       0      0      0   \n",
       "\n",
       "  genre4 genre5 genre6 genre7 genre8 genre9 rating  \n",
       "0      0      1      0      0      0      0      5  \n",
       "1      0      0      0      0      1      0      5  \n",
       "2      0      1      0      0      1      0      4  \n",
       "\n",
       "[3 rows x 32 columns]"
      ]
     },
     "execution_count": 37,
     "metadata": {},
     "output_type": "execute_result"
    }
   ],
   "source": [
    "df_yelp_all = pd.merge(df_yelp_inter, df_yelp_user_feats, on='user_id', how='left')\n",
    "df_yelp_all = pd.merge(df_yelp_all, df_movie_item_feats, on='item_id', how='left')\n",
    "df_yelp_all['rating'] = df_yelp_all.pop('rating')\n",
    "df_yelp_all.iloc[:, :-1] = df_yelp_all.iloc[:, :-1].fillna('0')\n",
    "print(df_yelp_all.shape)\n",
    "df_yelp_all.head(3)"
   ]
  },
  {
   "cell_type": "code",
   "execution_count": 38,
   "metadata": {},
   "outputs": [
    {
     "data": {
      "text/html": [
       "<div>\n",
       "<style scoped>\n",
       "    .dataframe tbody tr th:only-of-type {\n",
       "        vertical-align: middle;\n",
       "    }\n",
       "\n",
       "    .dataframe tbody tr th {\n",
       "        vertical-align: top;\n",
       "    }\n",
       "\n",
       "    .dataframe thead th {\n",
       "        text-align: right;\n",
       "    }\n",
       "</style>\n",
       "<table border=\"1\" class=\"dataframe\">\n",
       "  <thead>\n",
       "    <tr style=\"text-align: right;\">\n",
       "      <th></th>\n",
       "      <th>user_id</th>\n",
       "      <th>item_id</th>\n",
       "      <th>compliment1</th>\n",
       "      <th>compliment10</th>\n",
       "      <th>compliment11</th>\n",
       "      <th>compliment2</th>\n",
       "      <th>compliment3</th>\n",
       "      <th>compliment4</th>\n",
       "      <th>compliment5</th>\n",
       "      <th>compliment6</th>\n",
       "      <th>...</th>\n",
       "      <th>genre18</th>\n",
       "      <th>genre2</th>\n",
       "      <th>genre3</th>\n",
       "      <th>genre4</th>\n",
       "      <th>genre5</th>\n",
       "      <th>genre6</th>\n",
       "      <th>genre7</th>\n",
       "      <th>genre8</th>\n",
       "      <th>genre9</th>\n",
       "      <th>rating</th>\n",
       "    </tr>\n",
       "  </thead>\n",
       "  <tbody>\n",
       "    <tr>\n",
       "      <th>0</th>\n",
       "      <td>3867</td>\n",
       "      <td>5209</td>\n",
       "      <td>1</td>\n",
       "      <td>0</td>\n",
       "      <td>1</td>\n",
       "      <td>1</td>\n",
       "      <td>1</td>\n",
       "      <td>1</td>\n",
       "      <td>1</td>\n",
       "      <td>1</td>\n",
       "      <td>...</td>\n",
       "      <td>0</td>\n",
       "      <td>0</td>\n",
       "      <td>0</td>\n",
       "      <td>0</td>\n",
       "      <td>1</td>\n",
       "      <td>0</td>\n",
       "      <td>0</td>\n",
       "      <td>0</td>\n",
       "      <td>0</td>\n",
       "      <td>5</td>\n",
       "    </tr>\n",
       "    <tr>\n",
       "      <th>1</th>\n",
       "      <td>3867</td>\n",
       "      <td>5418</td>\n",
       "      <td>1</td>\n",
       "      <td>0</td>\n",
       "      <td>1</td>\n",
       "      <td>1</td>\n",
       "      <td>1</td>\n",
       "      <td>1</td>\n",
       "      <td>1</td>\n",
       "      <td>1</td>\n",
       "      <td>...</td>\n",
       "      <td>0</td>\n",
       "      <td>0</td>\n",
       "      <td>0</td>\n",
       "      <td>0</td>\n",
       "      <td>0</td>\n",
       "      <td>0</td>\n",
       "      <td>0</td>\n",
       "      <td>1</td>\n",
       "      <td>0</td>\n",
       "      <td>5</td>\n",
       "    </tr>\n",
       "    <tr>\n",
       "      <th>2</th>\n",
       "      <td>3867</td>\n",
       "      <td>5461</td>\n",
       "      <td>1</td>\n",
       "      <td>0</td>\n",
       "      <td>1</td>\n",
       "      <td>1</td>\n",
       "      <td>1</td>\n",
       "      <td>1</td>\n",
       "      <td>1</td>\n",
       "      <td>1</td>\n",
       "      <td>...</td>\n",
       "      <td>0</td>\n",
       "      <td>0</td>\n",
       "      <td>0</td>\n",
       "      <td>0</td>\n",
       "      <td>1</td>\n",
       "      <td>0</td>\n",
       "      <td>0</td>\n",
       "      <td>1</td>\n",
       "      <td>0</td>\n",
       "      <td>4</td>\n",
       "    </tr>\n",
       "  </tbody>\n",
       "</table>\n",
       "<p>3 rows × 32 columns</p>\n",
       "</div>"
      ],
      "text/plain": [
       "   user_id  item_id  compliment1  compliment10  compliment11  compliment2  \\\n",
       "0     3867     5209            1             0             1            1   \n",
       "1     3867     5418            1             0             1            1   \n",
       "2     3867     5461            1             0             1            1   \n",
       "\n",
       "   compliment3  compliment4  compliment5  compliment6  ...  genre18  genre2  \\\n",
       "0            1            1            1            1  ...        0       0   \n",
       "1            1            1            1            1  ...        0       0   \n",
       "2            1            1            1            1  ...        0       0   \n",
       "\n",
       "   genre3  genre4  genre5  genre6  genre7  genre8  genre9  rating  \n",
       "0       0       0       1       0       0       0       0       5  \n",
       "1       0       0       0       0       0       1       0       5  \n",
       "2       0       0       1       0       0       1       0       4  \n",
       "\n",
       "[3 rows x 32 columns]"
      ]
     },
     "execution_count": 38,
     "metadata": {},
     "output_type": "execute_result"
    }
   ],
   "source": [
    "linear_feature_columns, dnn_feature_columns, feature_names = get_feature_columns(df_yelp_all)\n",
    "df_yelp_all.head(3)"
   ]
  },
  {
   "cell_type": "code",
   "execution_count": 39,
   "metadata": {},
   "outputs": [
    {
     "name": "stdout",
     "output_type": "stream",
     "text": [
      "Epoch 1/30\n",
      "472/472 [==============================] - 12s 17ms/step - loss: 1.5333 - mse: 1.5331 - val_loss: 1.1024 - val_mse: 1.1019\n"
     ]
    },
    {
     "name": "stderr",
     "output_type": "stream",
     "text": [
      "WARNING:absl:Found untraced functions such as dropout_layer_call_fn, dropout_layer_call_and_return_conditional_losses, dropout_1_layer_call_fn, dropout_1_layer_call_and_return_conditional_losses, dropout_2_layer_call_fn while saving (showing 5 of 12). These functions will not be directly callable after loading.\n"
     ]
    },
    {
     "name": "stdout",
     "output_type": "stream",
     "text": [
      "Epoch 2/30\n",
      "472/472 [==============================] - 8s 17ms/step - loss: 0.9658 - mse: 0.9651 - val_loss: 1.0960 - val_mse: 1.0950\n"
     ]
    },
    {
     "name": "stderr",
     "output_type": "stream",
     "text": [
      "WARNING:absl:Found untraced functions such as dropout_layer_call_fn, dropout_layer_call_and_return_conditional_losses, dropout_1_layer_call_fn, dropout_1_layer_call_and_return_conditional_losses, dropout_2_layer_call_fn while saving (showing 5 of 12). These functions will not be directly callable after loading.\n"
     ]
    },
    {
     "name": "stdout",
     "output_type": "stream",
     "text": [
      "Epoch 3/30\n",
      "472/472 [==============================] - 8s 17ms/step - loss: 0.9099 - mse: 0.9086 - val_loss: 1.1407 - val_mse: 1.1392\n",
      "Epoch 4/30\n",
      "472/472 [==============================] - 8s 17ms/step - loss: 0.8826 - mse: 0.8808 - val_loss: 1.1014 - val_mse: 1.0994\n",
      "Epoch 5/30\n",
      "472/472 [==============================] - 8s 17ms/step - loss: 0.8627 - mse: 0.8604 - val_loss: 1.1524 - val_mse: 1.1498\n",
      "Epoch 6/30\n",
      "472/472 [==============================] - 8s 17ms/step - loss: 0.8444 - mse: 0.8416 - val_loss: 1.1358 - val_mse: 1.1327\n",
      "Epoch 7/30\n",
      "472/472 [==============================] - 8s 17ms/step - loss: 0.8210 - mse: 0.8177 - val_loss: 1.1510 - val_mse: 1.1474\n",
      "test MSE 1.0727\n",
      "Epoch 1/30\n",
      "472/472 [==============================] - 14s 19ms/step - loss: 1.6225 - mse: 1.6222 - val_loss: 1.1096 - val_mse: 1.1091\n"
     ]
    },
    {
     "name": "stderr",
     "output_type": "stream",
     "text": [
      "WARNING:absl:Found untraced functions such as dropout_layer_call_fn, dropout_layer_call_and_return_conditional_losses, dropout_1_layer_call_fn, dropout_1_layer_call_and_return_conditional_losses, dropout_2_layer_call_fn while saving (showing 5 of 12). These functions will not be directly callable after loading.\n"
     ]
    },
    {
     "name": "stdout",
     "output_type": "stream",
     "text": [
      "Epoch 2/30\n",
      "472/472 [==============================] - 8s 18ms/step - loss: 0.9679 - mse: 0.9671 - val_loss: 1.1014 - val_mse: 1.1003\n"
     ]
    },
    {
     "name": "stderr",
     "output_type": "stream",
     "text": [
      "WARNING:absl:Found untraced functions such as dropout_layer_call_fn, dropout_layer_call_and_return_conditional_losses, dropout_1_layer_call_fn, dropout_1_layer_call_and_return_conditional_losses, dropout_2_layer_call_fn while saving (showing 5 of 12). These functions will not be directly callable after loading.\n"
     ]
    },
    {
     "name": "stdout",
     "output_type": "stream",
     "text": [
      "Epoch 3/30\n",
      "472/472 [==============================] - 8s 17ms/step - loss: 0.9088 - mse: 0.9074 - val_loss: 1.1069 - val_mse: 1.1053\n",
      "Epoch 4/30\n",
      "472/472 [==============================] - 8s 17ms/step - loss: 0.8803 - mse: 0.8784 - val_loss: 1.1151 - val_mse: 1.1129\n",
      "Epoch 5/30\n",
      "472/472 [==============================] - 8s 17ms/step - loss: 0.8626 - mse: 0.8602 - val_loss: 1.1191 - val_mse: 1.1164\n",
      "Epoch 6/30\n",
      "472/472 [==============================] - 9s 18ms/step - loss: 0.8498 - mse: 0.8468 - val_loss: 1.1421 - val_mse: 1.1390\n",
      "Epoch 7/30\n",
      "472/472 [==============================] - 8s 18ms/step - loss: 0.8330 - mse: 0.8295 - val_loss: 1.1431 - val_mse: 1.1393\n",
      "test MSE 1.07\n",
      "Epoch 1/30\n",
      "472/472 [==============================] - 12s 17ms/step - loss: 1.6193 - mse: 1.6190 - val_loss: 1.1107 - val_mse: 1.1102\n"
     ]
    },
    {
     "name": "stderr",
     "output_type": "stream",
     "text": [
      "WARNING:absl:Found untraced functions such as dropout_layer_call_fn, dropout_layer_call_and_return_conditional_losses, dropout_1_layer_call_fn, dropout_1_layer_call_and_return_conditional_losses, dropout_2_layer_call_fn while saving (showing 5 of 12). These functions will not be directly callable after loading.\n"
     ]
    },
    {
     "name": "stdout",
     "output_type": "stream",
     "text": [
      "Epoch 2/30\n",
      "472/472 [==============================] - 8s 17ms/step - loss: 0.9634 - mse: 0.9626 - val_loss: 1.1151 - val_mse: 1.1140\n",
      "Epoch 3/30\n",
      "472/472 [==============================] - 8s 17ms/step - loss: 0.9039 - mse: 0.9026 - val_loss: 1.1291 - val_mse: 1.1275\n",
      "Epoch 4/30\n",
      "472/472 [==============================] - 8s 17ms/step - loss: 0.8758 - mse: 0.8740 - val_loss: 1.1178 - val_mse: 1.1157\n",
      "Epoch 5/30\n",
      "472/472 [==============================] - 8s 17ms/step - loss: 0.8601 - mse: 0.8577 - val_loss: 1.1529 - val_mse: 1.1502\n",
      "Epoch 6/30\n",
      "472/472 [==============================] - 8s 17ms/step - loss: 0.8430 - mse: 0.8401 - val_loss: 1.1487 - val_mse: 1.1456\n",
      "test MSE 1.0817\n",
      "Epoch 1/30\n",
      "472/472 [==============================] - 15s 19ms/step - loss: 1.5472 - mse: 1.5470 - val_loss: 1.1220 - val_mse: 1.1215\n"
     ]
    },
    {
     "name": "stderr",
     "output_type": "stream",
     "text": [
      "WARNING:absl:Found untraced functions such as dropout_layer_call_fn, dropout_layer_call_and_return_conditional_losses, dropout_1_layer_call_fn, dropout_1_layer_call_and_return_conditional_losses, dropout_2_layer_call_fn while saving (showing 5 of 12). These functions will not be directly callable after loading.\n"
     ]
    },
    {
     "name": "stdout",
     "output_type": "stream",
     "text": [
      "Epoch 2/30\n",
      "472/472 [==============================] - 8s 17ms/step - loss: 0.9679 - mse: 0.9671 - val_loss: 1.0931 - val_mse: 1.0920\n"
     ]
    },
    {
     "name": "stderr",
     "output_type": "stream",
     "text": [
      "WARNING:absl:Found untraced functions such as dropout_layer_call_fn, dropout_layer_call_and_return_conditional_losses, dropout_1_layer_call_fn, dropout_1_layer_call_and_return_conditional_losses, dropout_2_layer_call_fn while saving (showing 5 of 12). These functions will not be directly callable after loading.\n"
     ]
    },
    {
     "name": "stdout",
     "output_type": "stream",
     "text": [
      "Epoch 3/30\n",
      "472/472 [==============================] - 8s 17ms/step - loss: 0.9104 - mse: 0.9092 - val_loss: 1.0937 - val_mse: 1.0922\n",
      "Epoch 4/30\n",
      "472/472 [==============================] - 8s 17ms/step - loss: 0.8841 - mse: 0.8823 - val_loss: 1.1072 - val_mse: 1.1052\n",
      "Epoch 5/30\n",
      "472/472 [==============================] - 8s 17ms/step - loss: 0.8646 - mse: 0.8623 - val_loss: 1.1068 - val_mse: 1.1042\n",
      "Epoch 6/30\n",
      "472/472 [==============================] - 8s 17ms/step - loss: 0.8539 - mse: 0.8511 - val_loss: 1.1240 - val_mse: 1.1209\n",
      "Epoch 7/30\n",
      "472/472 [==============================] - 8s 17ms/step - loss: 0.8337 - mse: 0.8304 - val_loss: 1.1441 - val_mse: 1.1405\n",
      "test MSE 1.0672\n",
      "Epoch 1/30\n",
      "472/472 [==============================] - 14s 17ms/step - loss: 1.5577 - mse: 1.5575 - val_loss: 1.1006 - val_mse: 1.1001\n"
     ]
    },
    {
     "name": "stderr",
     "output_type": "stream",
     "text": [
      "WARNING:absl:Found untraced functions such as dropout_layer_call_fn, dropout_layer_call_and_return_conditional_losses, dropout_1_layer_call_fn, dropout_1_layer_call_and_return_conditional_losses, dropout_2_layer_call_fn while saving (showing 5 of 12). These functions will not be directly callable after loading.\n"
     ]
    },
    {
     "name": "stdout",
     "output_type": "stream",
     "text": [
      "Epoch 2/30\n",
      "472/472 [==============================] - 8s 18ms/step - loss: 0.9677 - mse: 0.9669 - val_loss: 1.0970 - val_mse: 1.0960\n"
     ]
    },
    {
     "name": "stderr",
     "output_type": "stream",
     "text": [
      "WARNING:absl:Found untraced functions such as dropout_layer_call_fn, dropout_layer_call_and_return_conditional_losses, dropout_1_layer_call_fn, dropout_1_layer_call_and_return_conditional_losses, dropout_2_layer_call_fn while saving (showing 5 of 12). These functions will not be directly callable after loading.\n"
     ]
    },
    {
     "name": "stdout",
     "output_type": "stream",
     "text": [
      "Epoch 3/30\n",
      "472/472 [==============================] - 9s 18ms/step - loss: 0.9077 - mse: 0.9064 - val_loss: 1.1251 - val_mse: 1.1235\n",
      "Epoch 4/30\n",
      "472/472 [==============================] - 9s 18ms/step - loss: 0.8804 - mse: 0.8786 - val_loss: 1.1550 - val_mse: 1.1529\n",
      "Epoch 5/30\n",
      "472/472 [==============================] - 8s 18ms/step - loss: 0.8637 - mse: 0.8613 - val_loss: 1.1347 - val_mse: 1.1321\n",
      "Epoch 6/30\n",
      "472/472 [==============================] - 8s 18ms/step - loss: 0.8427 - mse: 0.8399 - val_loss: 1.1505 - val_mse: 1.1474\n",
      "Epoch 7/30\n",
      "472/472 [==============================] - 8s 18ms/step - loss: 0.8201 - mse: 0.8168 - val_loss: 1.1533 - val_mse: 1.1497\n",
      "test MSE 1.0844\n"
     ]
    }
   ],
   "source": [
    "# FNN\n",
    "dict_FNN = {'linear_feature_columns': linear_feature_columns,\n",
    "            'dnn_feature_columns': dnn_feature_columns,\n",
    "            'task': 'regression'}\n",
    "ls_result = calc_nn_based_model(df_yelp_all, \n",
    "                                FNN, dict_FNN,\n",
    "                                feature_names, \n",
    "                                'yelp', 'FNN')\n",
    "all_result.extend(ls_result)"
   ]
  },
  {
   "cell_type": "code",
   "execution_count": 40,
   "metadata": {},
   "outputs": [
    {
     "name": "stdout",
     "output_type": "stream",
     "text": [
      "Epoch 1/30\n",
      "472/472 [==============================] - 12s 17ms/step - loss: 1.7646 - mse: 1.7644 - val_loss: 1.1127 - val_mse: 1.1123\n"
     ]
    },
    {
     "name": "stderr",
     "output_type": "stream",
     "text": [
      "WARNING:absl:Found untraced functions such as dropout_layer_call_fn, dropout_layer_call_and_return_conditional_losses, dropout_1_layer_call_fn, dropout_1_layer_call_and_return_conditional_losses, dropout_2_layer_call_fn while saving (showing 5 of 12). These functions will not be directly callable after loading.\n"
     ]
    },
    {
     "name": "stdout",
     "output_type": "stream",
     "text": [
      "Epoch 2/30\n",
      "472/472 [==============================] - 8s 17ms/step - loss: 0.9681 - mse: 0.9674 - val_loss: 1.1078 - val_mse: 1.1069\n"
     ]
    },
    {
     "name": "stderr",
     "output_type": "stream",
     "text": [
      "WARNING:absl:Found untraced functions such as dropout_layer_call_fn, dropout_layer_call_and_return_conditional_losses, dropout_1_layer_call_fn, dropout_1_layer_call_and_return_conditional_losses, dropout_2_layer_call_fn while saving (showing 5 of 12). These functions will not be directly callable after loading.\n"
     ]
    },
    {
     "name": "stdout",
     "output_type": "stream",
     "text": [
      "Epoch 3/30\n",
      "472/472 [==============================] - 8s 17ms/step - loss: 0.9111 - mse: 0.9100 - val_loss: 1.1282 - val_mse: 1.1269\n",
      "Epoch 4/30\n",
      "472/472 [==============================] - 8s 17ms/step - loss: 0.8779 - mse: 0.8763 - val_loss: 1.1329 - val_mse: 1.1311\n",
      "Epoch 5/30\n",
      "472/472 [==============================] - 8s 17ms/step - loss: 0.8463 - mse: 0.8443 - val_loss: 1.1322 - val_mse: 1.1300\n",
      "Epoch 6/30\n",
      "472/472 [==============================] - 8s 18ms/step - loss: 0.8139 - mse: 0.8115 - val_loss: 1.1429 - val_mse: 1.1403\n",
      "Epoch 7/30\n",
      "472/472 [==============================] - 8s 18ms/step - loss: 0.7851 - mse: 0.7822 - val_loss: 1.1452 - val_mse: 1.1421\n",
      "test MSE 1.0715\n",
      "Epoch 1/30\n",
      "472/472 [==============================] - 12s 17ms/step - loss: 1.6850 - mse: 1.6848 - val_loss: 1.1077 - val_mse: 1.1073\n"
     ]
    },
    {
     "name": "stderr",
     "output_type": "stream",
     "text": [
      "WARNING:absl:Found untraced functions such as dropout_layer_call_fn, dropout_layer_call_and_return_conditional_losses, dropout_1_layer_call_fn, dropout_1_layer_call_and_return_conditional_losses, dropout_2_layer_call_fn while saving (showing 5 of 12). These functions will not be directly callable after loading.\n"
     ]
    },
    {
     "name": "stdout",
     "output_type": "stream",
     "text": [
      "Epoch 2/30\n",
      "472/472 [==============================] - 8s 18ms/step - loss: 0.9682 - mse: 0.9676 - val_loss: 1.1037 - val_mse: 1.1028\n"
     ]
    },
    {
     "name": "stderr",
     "output_type": "stream",
     "text": [
      "WARNING:absl:Found untraced functions such as dropout_layer_call_fn, dropout_layer_call_and_return_conditional_losses, dropout_1_layer_call_fn, dropout_1_layer_call_and_return_conditional_losses, dropout_2_layer_call_fn while saving (showing 5 of 12). These functions will not be directly callable after loading.\n"
     ]
    },
    {
     "name": "stdout",
     "output_type": "stream",
     "text": [
      "Epoch 3/30\n",
      "472/472 [==============================] - 8s 16ms/step - loss: 0.9104 - mse: 0.9093 - val_loss: 1.1033 - val_mse: 1.1020\n"
     ]
    },
    {
     "name": "stderr",
     "output_type": "stream",
     "text": [
      "WARNING:absl:Found untraced functions such as dropout_layer_call_fn, dropout_layer_call_and_return_conditional_losses, dropout_1_layer_call_fn, dropout_1_layer_call_and_return_conditional_losses, dropout_2_layer_call_fn while saving (showing 5 of 12). These functions will not be directly callable after loading.\n"
     ]
    },
    {
     "name": "stdout",
     "output_type": "stream",
     "text": [
      "Epoch 4/30\n",
      "472/472 [==============================] - 9s 18ms/step - loss: 0.8855 - mse: 0.8840 - val_loss: 1.1371 - val_mse: 1.1353\n",
      "Epoch 5/30\n",
      "472/472 [==============================] - 8s 18ms/step - loss: 0.8649 - mse: 0.8629 - val_loss: 1.1179 - val_mse: 1.1157\n",
      "Epoch 6/30\n",
      "472/472 [==============================] - 9s 18ms/step - loss: 0.8401 - mse: 0.8377 - val_loss: 1.2341 - val_mse: 1.2315\n",
      "Epoch 7/30\n",
      "472/472 [==============================] - 8s 18ms/step - loss: 0.8067 - mse: 0.8038 - val_loss: 1.1393 - val_mse: 1.1363\n",
      "Epoch 8/30\n",
      "472/472 [==============================] - 8s 18ms/step - loss: 0.7688 - mse: 0.7656 - val_loss: 1.1337 - val_mse: 1.1302\n",
      "test MSE 1.0744\n",
      "Epoch 1/30\n",
      "472/472 [==============================] - 12s 18ms/step - loss: 1.6611 - mse: 1.6609 - val_loss: 1.1035 - val_mse: 1.1031\n"
     ]
    },
    {
     "name": "stderr",
     "output_type": "stream",
     "text": [
      "WARNING:absl:Found untraced functions such as dropout_layer_call_fn, dropout_layer_call_and_return_conditional_losses, dropout_1_layer_call_fn, dropout_1_layer_call_and_return_conditional_losses, dropout_2_layer_call_fn while saving (showing 5 of 12). These functions will not be directly callable after loading.\n"
     ]
    },
    {
     "name": "stdout",
     "output_type": "stream",
     "text": [
      "Epoch 2/30\n",
      "472/472 [==============================] - 8s 18ms/step - loss: 0.9648 - mse: 0.9641 - val_loss: 1.1102 - val_mse: 1.1094\n",
      "Epoch 3/30\n",
      "472/472 [==============================] - 8s 17ms/step - loss: 0.9005 - mse: 0.8994 - val_loss: 1.1499 - val_mse: 1.1487\n",
      "Epoch 4/30\n",
      "472/472 [==============================] - 8s 18ms/step - loss: 0.8537 - mse: 0.8522 - val_loss: 1.1180 - val_mse: 1.1163\n",
      "Epoch 5/30\n",
      "472/472 [==============================] - 9s 19ms/step - loss: 0.8066 - mse: 0.8046 - val_loss: 1.1792 - val_mse: 1.1771\n",
      "Epoch 6/30\n",
      "472/472 [==============================] - 9s 18ms/step - loss: 0.7704 - mse: 0.7681 - val_loss: 1.1399 - val_mse: 1.1374\n",
      "test MSE 1.0829\n",
      "Epoch 1/30\n",
      "472/472 [==============================] - 13s 17ms/step - loss: 1.6985 - mse: 1.6983 - val_loss: 1.1279 - val_mse: 1.1275\n"
     ]
    },
    {
     "name": "stderr",
     "output_type": "stream",
     "text": [
      "WARNING:absl:Found untraced functions such as dropout_layer_call_fn, dropout_layer_call_and_return_conditional_losses, dropout_1_layer_call_fn, dropout_1_layer_call_and_return_conditional_losses, dropout_2_layer_call_fn while saving (showing 5 of 12). These functions will not be directly callable after loading.\n"
     ]
    },
    {
     "name": "stdout",
     "output_type": "stream",
     "text": [
      "Epoch 2/30\n",
      "472/472 [==============================] - 8s 17ms/step - loss: 0.9706 - mse: 0.9699 - val_loss: 1.1108 - val_mse: 1.1099\n"
     ]
    },
    {
     "name": "stderr",
     "output_type": "stream",
     "text": [
      "WARNING:absl:Found untraced functions such as dropout_layer_call_fn, dropout_layer_call_and_return_conditional_losses, dropout_1_layer_call_fn, dropout_1_layer_call_and_return_conditional_losses, dropout_2_layer_call_fn while saving (showing 5 of 12). These functions will not be directly callable after loading.\n"
     ]
    },
    {
     "name": "stdout",
     "output_type": "stream",
     "text": [
      "Epoch 3/30\n",
      "472/472 [==============================] - 8s 17ms/step - loss: 0.9117 - mse: 0.9106 - val_loss: 1.1069 - val_mse: 1.1056\n"
     ]
    },
    {
     "name": "stderr",
     "output_type": "stream",
     "text": [
      "WARNING:absl:Found untraced functions such as dropout_layer_call_fn, dropout_layer_call_and_return_conditional_losses, dropout_1_layer_call_fn, dropout_1_layer_call_and_return_conditional_losses, dropout_2_layer_call_fn while saving (showing 5 of 12). These functions will not be directly callable after loading.\n"
     ]
    },
    {
     "name": "stdout",
     "output_type": "stream",
     "text": [
      "Epoch 4/30\n",
      "472/472 [==============================] - 8s 17ms/step - loss: 0.8822 - mse: 0.8807 - val_loss: 1.1387 - val_mse: 1.1370\n",
      "Epoch 5/30\n",
      "472/472 [==============================] - 8s 18ms/step - loss: 0.8565 - mse: 0.8545 - val_loss: 1.1055 - val_mse: 1.1033\n"
     ]
    },
    {
     "name": "stderr",
     "output_type": "stream",
     "text": [
      "WARNING:absl:Found untraced functions such as dropout_layer_call_fn, dropout_layer_call_and_return_conditional_losses, dropout_1_layer_call_fn, dropout_1_layer_call_and_return_conditional_losses, dropout_2_layer_call_fn while saving (showing 5 of 12). These functions will not be directly callable after loading.\n"
     ]
    },
    {
     "name": "stdout",
     "output_type": "stream",
     "text": [
      "Epoch 6/30\n",
      "472/472 [==============================] - 8s 17ms/step - loss: 0.8217 - mse: 0.8193 - val_loss: 1.1357 - val_mse: 1.1330\n",
      "Epoch 7/30\n",
      "472/472 [==============================] - 8s 18ms/step - loss: 0.7880 - mse: 0.7852 - val_loss: 1.1656 - val_mse: 1.1626\n",
      "Epoch 8/30\n",
      "472/472 [==============================] - 8s 17ms/step - loss: 0.7562 - mse: 0.7530 - val_loss: 1.1248 - val_mse: 1.1214\n",
      "Epoch 9/30\n",
      "472/472 [==============================] - 8s 17ms/step - loss: 0.7220 - mse: 0.7185 - val_loss: 1.1853 - val_mse: 1.1815\n",
      "Epoch 10/30\n",
      "472/472 [==============================] - 8s 17ms/step - loss: 0.6883 - mse: 0.6844 - val_loss: 1.1586 - val_mse: 1.1545\n",
      "test MSE 1.0957\n",
      "Epoch 1/30\n",
      "472/472 [==============================] - 12s 16ms/step - loss: 1.6844 - mse: 1.6842 - val_loss: 1.1025 - val_mse: 1.1020\n"
     ]
    },
    {
     "name": "stderr",
     "output_type": "stream",
     "text": [
      "WARNING:absl:Found untraced functions such as dropout_layer_call_fn, dropout_layer_call_and_return_conditional_losses, dropout_1_layer_call_fn, dropout_1_layer_call_and_return_conditional_losses, dropout_2_layer_call_fn while saving (showing 5 of 12). These functions will not be directly callable after loading.\n"
     ]
    },
    {
     "name": "stdout",
     "output_type": "stream",
     "text": [
      "Epoch 2/30\n",
      "472/472 [==============================] - 8s 17ms/step - loss: 0.9675 - mse: 0.9669 - val_loss: 1.1065 - val_mse: 1.1056\n",
      "Epoch 3/30\n",
      "472/472 [==============================] - 8s 17ms/step - loss: 0.9039 - mse: 0.9028 - val_loss: 1.1122 - val_mse: 1.1109\n",
      "Epoch 4/30\n",
      "472/472 [==============================] - 8s 18ms/step - loss: 0.8555 - mse: 0.8539 - val_loss: 1.1101 - val_mse: 1.1083\n",
      "Epoch 5/30\n",
      "472/472 [==============================] - 8s 17ms/step - loss: 0.8114 - mse: 0.8094 - val_loss: 1.2002 - val_mse: 1.1980\n",
      "Epoch 6/30\n",
      "472/472 [==============================] - 8s 17ms/step - loss: 0.7809 - mse: 0.7784 - val_loss: 1.1237 - val_mse: 1.1211\n",
      "test MSE 1.0803\n"
     ]
    }
   ],
   "source": [
    "# IPNN\n",
    "dict_IPNN = {'dnn_feature_columns': dnn_feature_columns,\n",
    "            'task': 'regression',\n",
    "            'use_inner': True}\n",
    "ls_result = calc_nn_based_model(df_yelp_all, \n",
    "                                PNN, dict_IPNN,\n",
    "                                feature_names, \n",
    "                                'yelp', 'IPNN')\n",
    "all_result.extend(ls_result)"
   ]
  },
  {
   "cell_type": "code",
   "execution_count": 41,
   "metadata": {},
   "outputs": [
    {
     "name": "stdout",
     "output_type": "stream",
     "text": [
      "Epoch 1/30\n",
      "472/472 [==============================] - 13s 20ms/step - loss: 1.6904 - mse: 1.6902 - val_loss: 1.1142 - val_mse: 1.1137\n"
     ]
    },
    {
     "name": "stderr",
     "output_type": "stream",
     "text": [
      "WARNING:absl:Found untraced functions such as dropout_layer_call_fn, dropout_layer_call_and_return_conditional_losses, dropout_1_layer_call_fn, dropout_1_layer_call_and_return_conditional_losses, dropout_2_layer_call_fn while saving (showing 5 of 12). These functions will not be directly callable after loading.\n"
     ]
    },
    {
     "name": "stdout",
     "output_type": "stream",
     "text": [
      "Epoch 2/30\n",
      "472/472 [==============================] - 10s 21ms/step - loss: 0.9700 - mse: 0.9693 - val_loss: 1.1046 - val_mse: 1.1037\n"
     ]
    },
    {
     "name": "stderr",
     "output_type": "stream",
     "text": [
      "WARNING:absl:Found untraced functions such as dropout_layer_call_fn, dropout_layer_call_and_return_conditional_losses, dropout_1_layer_call_fn, dropout_1_layer_call_and_return_conditional_losses, dropout_2_layer_call_fn while saving (showing 5 of 12). These functions will not be directly callable after loading.\n"
     ]
    },
    {
     "name": "stdout",
     "output_type": "stream",
     "text": [
      "Epoch 3/30\n",
      "472/472 [==============================] - 10s 21ms/step - loss: 0.9103 - mse: 0.9092 - val_loss: 1.1197 - val_mse: 1.1185\n",
      "Epoch 4/30\n",
      "472/472 [==============================] - 10s 21ms/step - loss: 0.8792 - mse: 0.8777 - val_loss: 1.1777 - val_mse: 1.1759\n",
      "Epoch 5/30\n",
      "472/472 [==============================] - 10s 21ms/step - loss: 0.8491 - mse: 0.8472 - val_loss: 1.1182 - val_mse: 1.1160\n",
      "Epoch 6/30\n",
      "472/472 [==============================] - 10s 21ms/step - loss: 0.8135 - mse: 0.8111 - val_loss: 1.1634 - val_mse: 1.1609\n",
      "Epoch 7/30\n",
      "472/472 [==============================] - 10s 21ms/step - loss: 0.7803 - mse: 0.7776 - val_loss: 1.1455 - val_mse: 1.1425\n",
      "test MSE 1.0691\n",
      "Epoch 1/30\n",
      "472/472 [==============================] - 15s 20ms/step - loss: 1.6508 - mse: 1.6506 - val_loss: 1.1113 - val_mse: 1.1109\n"
     ]
    },
    {
     "name": "stderr",
     "output_type": "stream",
     "text": [
      "WARNING:absl:Found untraced functions such as dropout_layer_call_fn, dropout_layer_call_and_return_conditional_losses, dropout_1_layer_call_fn, dropout_1_layer_call_and_return_conditional_losses, dropout_2_layer_call_fn while saving (showing 5 of 12). These functions will not be directly callable after loading.\n"
     ]
    },
    {
     "name": "stdout",
     "output_type": "stream",
     "text": [
      "Epoch 2/30\n",
      "472/472 [==============================] - 10s 20ms/step - loss: 0.9694 - mse: 0.9688 - val_loss: 1.1035 - val_mse: 1.1027\n"
     ]
    },
    {
     "name": "stderr",
     "output_type": "stream",
     "text": [
      "WARNING:absl:Found untraced functions such as dropout_layer_call_fn, dropout_layer_call_and_return_conditional_losses, dropout_1_layer_call_fn, dropout_1_layer_call_and_return_conditional_losses, dropout_2_layer_call_fn while saving (showing 5 of 12). These functions will not be directly callable after loading.\n"
     ]
    },
    {
     "name": "stdout",
     "output_type": "stream",
     "text": [
      "Epoch 3/30\n",
      "472/472 [==============================] - 10s 20ms/step - loss: 0.9072 - mse: 0.9062 - val_loss: 1.1097 - val_mse: 1.1084\n",
      "Epoch 4/30\n",
      "472/472 [==============================] - 10s 21ms/step - loss: 0.8737 - mse: 0.8722 - val_loss: 1.1618 - val_mse: 1.1600\n",
      "Epoch 5/30\n",
      "472/472 [==============================] - 10s 20ms/step - loss: 0.8370 - mse: 0.8351 - val_loss: 1.1283 - val_mse: 1.1262\n",
      "Epoch 6/30\n",
      "472/472 [==============================] - 10s 21ms/step - loss: 0.7989 - mse: 0.7966 - val_loss: 1.1285 - val_mse: 1.1260\n",
      "Epoch 7/30\n",
      "472/472 [==============================] - 10s 20ms/step - loss: 0.7665 - mse: 0.7638 - val_loss: 1.1504 - val_mse: 1.1475\n",
      "test MSE 1.0594\n",
      "Epoch 1/30\n",
      "472/472 [==============================] - 16s 21ms/step - loss: 1.6565 - mse: 1.6563 - val_loss: 1.1262 - val_mse: 1.1258\n"
     ]
    },
    {
     "name": "stderr",
     "output_type": "stream",
     "text": [
      "WARNING:absl:Found untraced functions such as dropout_layer_call_fn, dropout_layer_call_and_return_conditional_losses, dropout_1_layer_call_fn, dropout_1_layer_call_and_return_conditional_losses, dropout_2_layer_call_fn while saving (showing 5 of 12). These functions will not be directly callable after loading.\n"
     ]
    },
    {
     "name": "stdout",
     "output_type": "stream",
     "text": [
      "Epoch 2/30\n",
      "472/472 [==============================] - 9s 20ms/step - loss: 0.9635 - mse: 0.9629 - val_loss: 1.1222 - val_mse: 1.1213\n"
     ]
    },
    {
     "name": "stderr",
     "output_type": "stream",
     "text": [
      "WARNING:absl:Found untraced functions such as dropout_layer_call_fn, dropout_layer_call_and_return_conditional_losses, dropout_1_layer_call_fn, dropout_1_layer_call_and_return_conditional_losses, dropout_2_layer_call_fn while saving (showing 5 of 12). These functions will not be directly callable after loading.\n"
     ]
    },
    {
     "name": "stdout",
     "output_type": "stream",
     "text": [
      "Epoch 3/30\n",
      "472/472 [==============================] - 10s 20ms/step - loss: 0.8975 - mse: 0.8964 - val_loss: 1.1152 - val_mse: 1.1139\n"
     ]
    },
    {
     "name": "stderr",
     "output_type": "stream",
     "text": [
      "WARNING:absl:Found untraced functions such as dropout_layer_call_fn, dropout_layer_call_and_return_conditional_losses, dropout_1_layer_call_fn, dropout_1_layer_call_and_return_conditional_losses, dropout_2_layer_call_fn while saving (showing 5 of 12). These functions will not be directly callable after loading.\n"
     ]
    },
    {
     "name": "stdout",
     "output_type": "stream",
     "text": [
      "Epoch 4/30\n",
      "472/472 [==============================] - 9s 20ms/step - loss: 0.8451 - mse: 0.8436 - val_loss: 1.1649 - val_mse: 1.1632\n",
      "Epoch 5/30\n",
      "472/472 [==============================] - 10s 20ms/step - loss: 0.8019 - mse: 0.8000 - val_loss: 1.1751 - val_mse: 1.1729\n",
      "Epoch 6/30\n",
      "472/472 [==============================] - 10s 20ms/step - loss: 0.7699 - mse: 0.7676 - val_loss: 1.1585 - val_mse: 1.1559\n",
      "Epoch 7/30\n",
      "472/472 [==============================] - 10s 21ms/step - loss: 0.7434 - mse: 0.7407 - val_loss: 1.1590 - val_mse: 1.1561\n",
      "Epoch 8/30\n",
      "472/472 [==============================] - 10s 20ms/step - loss: 0.7073 - mse: 0.7042 - val_loss: 1.1406 - val_mse: 1.1373\n",
      "test MSE 1.1116\n",
      "Epoch 1/30\n",
      "472/472 [==============================] - 17s 22ms/step - loss: 1.6373 - mse: 1.6371 - val_loss: 1.1008 - val_mse: 1.1004\n"
     ]
    },
    {
     "name": "stderr",
     "output_type": "stream",
     "text": [
      "WARNING:absl:Found untraced functions such as dropout_layer_call_fn, dropout_layer_call_and_return_conditional_losses, dropout_1_layer_call_fn, dropout_1_layer_call_and_return_conditional_losses, dropout_2_layer_call_fn while saving (showing 5 of 12). These functions will not be directly callable after loading.\n"
     ]
    },
    {
     "name": "stdout",
     "output_type": "stream",
     "text": [
      "Epoch 2/30\n",
      "472/472 [==============================] - 10s 21ms/step - loss: 0.9696 - mse: 0.9689 - val_loss: 1.1100 - val_mse: 1.1092\n",
      "Epoch 3/30\n",
      "472/472 [==============================] - 10s 21ms/step - loss: 0.9112 - mse: 0.9101 - val_loss: 1.1717 - val_mse: 1.1705\n",
      "Epoch 4/30\n",
      "472/472 [==============================] - 10s 21ms/step - loss: 0.8738 - mse: 0.8723 - val_loss: 1.1060 - val_mse: 1.1043\n",
      "Epoch 5/30\n",
      "472/472 [==============================] - 10s 21ms/step - loss: 0.8334 - mse: 0.8316 - val_loss: 1.1041 - val_mse: 1.1020\n",
      "Epoch 6/30\n",
      "472/472 [==============================] - 10s 21ms/step - loss: 0.7967 - mse: 0.7944 - val_loss: 1.1492 - val_mse: 1.1468\n",
      "test MSE 1.0742\n",
      "Epoch 1/30\n",
      "472/472 [==============================] - 13s 20ms/step - loss: 1.6390 - mse: 1.6388 - val_loss: 1.1009 - val_mse: 1.1004\n"
     ]
    },
    {
     "name": "stderr",
     "output_type": "stream",
     "text": [
      "WARNING:absl:Found untraced functions such as dropout_layer_call_fn, dropout_layer_call_and_return_conditional_losses, dropout_1_layer_call_fn, dropout_1_layer_call_and_return_conditional_losses, dropout_2_layer_call_fn while saving (showing 5 of 12). These functions will not be directly callable after loading.\n"
     ]
    },
    {
     "name": "stdout",
     "output_type": "stream",
     "text": [
      "Epoch 2/30\n",
      "472/472 [==============================] - 10s 22ms/step - loss: 0.9672 - mse: 0.9666 - val_loss: 1.1505 - val_mse: 1.1496\n",
      "Epoch 3/30\n",
      "472/472 [==============================] - 10s 21ms/step - loss: 0.9098 - mse: 0.9087 - val_loss: 1.1289 - val_mse: 1.1276\n",
      "Epoch 4/30\n",
      "472/472 [==============================] - 10s 20ms/step - loss: 0.8780 - mse: 0.8765 - val_loss: 1.1342 - val_mse: 1.1325\n",
      "Epoch 5/30\n",
      "472/472 [==============================] - 10s 21ms/step - loss: 0.8427 - mse: 0.8408 - val_loss: 1.1690 - val_mse: 1.1668\n",
      "Epoch 6/30\n",
      "472/472 [==============================] - 10s 21ms/step - loss: 0.8045 - mse: 0.8022 - val_loss: 1.1454 - val_mse: 1.1429\n",
      "test MSE 1.0828\n"
     ]
    }
   ],
   "source": [
    "# OPNN\n",
    "dict_OPNN = {'dnn_feature_columns': dnn_feature_columns,\n",
    "            'task': 'regression',\n",
    "            'use_outter': True}\n",
    "ls_result = calc_nn_based_model(df_yelp_all, \n",
    "                                PNN, dict_OPNN,\n",
    "                                feature_names, \n",
    "                                'yelp', 'OPNN')\n",
    "all_result.extend(ls_result)"
   ]
  },
  {
   "cell_type": "code",
   "execution_count": 42,
   "metadata": {},
   "outputs": [],
   "source": [
    "# PIN"
   ]
  },
  {
   "cell_type": "code",
   "execution_count": 43,
   "metadata": {},
   "outputs": [
    {
     "name": "stdout",
     "output_type": "stream",
     "text": [
      "Epoch 1/30\n",
      "472/472 [==============================] - 16s 23ms/step - loss: 1.7012 - mse: 1.7010 - val_loss: 1.1194 - val_mse: 1.1187\n"
     ]
    },
    {
     "name": "stderr",
     "output_type": "stream",
     "text": [
      "WARNING:absl:Found untraced functions such as dropout_layer_call_fn, dropout_layer_call_and_return_conditional_losses, dropout_1_layer_call_fn, dropout_1_layer_call_and_return_conditional_losses, activation_layer_call_fn while saving (showing 5 of 8). These functions will not be directly callable after loading.\n"
     ]
    },
    {
     "name": "stdout",
     "output_type": "stream",
     "text": [
      "Epoch 2/30\n",
      "472/472 [==============================] - 11s 22ms/step - loss: 0.9995 - mse: 0.9981 - val_loss: 1.0954 - val_mse: 1.0936\n"
     ]
    },
    {
     "name": "stderr",
     "output_type": "stream",
     "text": [
      "WARNING:absl:Found untraced functions such as dropout_layer_call_fn, dropout_layer_call_and_return_conditional_losses, dropout_1_layer_call_fn, dropout_1_layer_call_and_return_conditional_losses, activation_layer_call_fn while saving (showing 5 of 8). These functions will not be directly callable after loading.\n"
     ]
    },
    {
     "name": "stdout",
     "output_type": "stream",
     "text": [
      "Epoch 3/30\n",
      "472/472 [==============================] - 11s 22ms/step - loss: 0.9114 - mse: 0.9092 - val_loss: 1.1030 - val_mse: 1.1004\n",
      "Epoch 4/30\n",
      "472/472 [==============================] - 11s 23ms/step - loss: 0.8735 - mse: 0.8706 - val_loss: 1.1792 - val_mse: 1.1759\n",
      "Epoch 5/30\n",
      "472/472 [==============================] - 11s 23ms/step - loss: 0.8500 - mse: 0.8463 - val_loss: 1.1254 - val_mse: 1.1214\n",
      "Epoch 6/30\n",
      "472/472 [==============================] - 11s 22ms/step - loss: 0.8234 - mse: 0.8191 - val_loss: 1.1383 - val_mse: 1.1336\n",
      "Epoch 7/30\n",
      "472/472 [==============================] - 10s 22ms/step - loss: 0.7899 - mse: 0.7850 - val_loss: 1.1762 - val_mse: 1.1710\n",
      "test MSE 1.0688\n",
      "Epoch 1/30\n",
      "472/472 [==============================] - 17s 23ms/step - loss: 1.8094 - mse: 1.8092 - val_loss: 1.1707 - val_mse: 1.1701\n"
     ]
    },
    {
     "name": "stderr",
     "output_type": "stream",
     "text": [
      "WARNING:absl:Found untraced functions such as dropout_layer_call_fn, dropout_layer_call_and_return_conditional_losses, dropout_1_layer_call_fn, dropout_1_layer_call_and_return_conditional_losses, activation_layer_call_fn while saving (showing 5 of 8). These functions will not be directly callable after loading.\n"
     ]
    },
    {
     "name": "stdout",
     "output_type": "stream",
     "text": [
      "Epoch 2/30\n",
      "472/472 [==============================] - 10s 22ms/step - loss: 1.0371 - mse: 1.0358 - val_loss: 1.1151 - val_mse: 1.1134\n"
     ]
    },
    {
     "name": "stderr",
     "output_type": "stream",
     "text": [
      "WARNING:absl:Found untraced functions such as dropout_layer_call_fn, dropout_layer_call_and_return_conditional_losses, dropout_1_layer_call_fn, dropout_1_layer_call_and_return_conditional_losses, activation_layer_call_fn while saving (showing 5 of 8). These functions will not be directly callable after loading.\n"
     ]
    },
    {
     "name": "stdout",
     "output_type": "stream",
     "text": [
      "Epoch 3/30\n",
      "472/472 [==============================] - 10s 22ms/step - loss: 0.9248 - mse: 0.9227 - val_loss: 1.1084 - val_mse: 1.1059\n"
     ]
    },
    {
     "name": "stderr",
     "output_type": "stream",
     "text": [
      "WARNING:absl:Found untraced functions such as dropout_layer_call_fn, dropout_layer_call_and_return_conditional_losses, dropout_1_layer_call_fn, dropout_1_layer_call_and_return_conditional_losses, activation_layer_call_fn while saving (showing 5 of 8). These functions will not be directly callable after loading.\n"
     ]
    },
    {
     "name": "stdout",
     "output_type": "stream",
     "text": [
      "Epoch 4/30\n",
      "472/472 [==============================] - 11s 23ms/step - loss: 0.8776 - mse: 0.8749 - val_loss: 1.1438 - val_mse: 1.1407\n",
      "Epoch 5/30\n",
      "472/472 [==============================] - 11s 23ms/step - loss: 0.8427 - mse: 0.8392 - val_loss: 1.1252 - val_mse: 1.1213\n",
      "Epoch 6/30\n",
      "472/472 [==============================] - 11s 23ms/step - loss: 0.8030 - mse: 0.7987 - val_loss: 1.1705 - val_mse: 1.1659\n",
      "Epoch 7/30\n",
      "472/472 [==============================] - 11s 23ms/step - loss: 0.7646 - mse: 0.7596 - val_loss: 1.2116 - val_mse: 1.2064\n",
      "Epoch 8/30\n",
      "472/472 [==============================] - 11s 23ms/step - loss: 0.7219 - mse: 0.7163 - val_loss: 1.3034 - val_mse: 1.2976\n",
      "test MSE 1.0617\n",
      "Epoch 1/30\n",
      "472/472 [==============================] - 15s 22ms/step - loss: 1.7272 - mse: 1.7270 - val_loss: 1.1940 - val_mse: 1.1936\n"
     ]
    },
    {
     "name": "stderr",
     "output_type": "stream",
     "text": [
      "WARNING:absl:Found untraced functions such as dropout_layer_call_fn, dropout_layer_call_and_return_conditional_losses, dropout_1_layer_call_fn, dropout_1_layer_call_and_return_conditional_losses, activation_layer_call_fn while saving (showing 5 of 8). These functions will not be directly callable after loading.\n"
     ]
    },
    {
     "name": "stdout",
     "output_type": "stream",
     "text": [
      "Epoch 2/30\n",
      "472/472 [==============================] - 11s 23ms/step - loss: 1.0993 - mse: 1.0983 - val_loss: 1.1391 - val_mse: 1.1375\n"
     ]
    },
    {
     "name": "stderr",
     "output_type": "stream",
     "text": [
      "WARNING:absl:Found untraced functions such as dropout_layer_call_fn, dropout_layer_call_and_return_conditional_losses, dropout_1_layer_call_fn, dropout_1_layer_call_and_return_conditional_losses, activation_layer_call_fn while saving (showing 5 of 8). These functions will not be directly callable after loading.\n"
     ]
    },
    {
     "name": "stdout",
     "output_type": "stream",
     "text": [
      "Epoch 3/30\n",
      "472/472 [==============================] - 11s 23ms/step - loss: 0.9423 - mse: 0.9402 - val_loss: 1.1111 - val_mse: 1.1086\n"
     ]
    },
    {
     "name": "stderr",
     "output_type": "stream",
     "text": [
      "WARNING:absl:Found untraced functions such as dropout_layer_call_fn, dropout_layer_call_and_return_conditional_losses, dropout_1_layer_call_fn, dropout_1_layer_call_and_return_conditional_losses, activation_layer_call_fn while saving (showing 5 of 8). These functions will not be directly callable after loading.\n"
     ]
    },
    {
     "name": "stdout",
     "output_type": "stream",
     "text": [
      "Epoch 4/30\n",
      "472/472 [==============================] - 11s 23ms/step - loss: 0.8652 - mse: 0.8623 - val_loss: 1.1287 - val_mse: 1.1254\n",
      "Epoch 5/30\n",
      "472/472 [==============================] - 11s 23ms/step - loss: 0.8031 - mse: 0.7994 - val_loss: 1.1849 - val_mse: 1.1809\n",
      "Epoch 6/30\n",
      "472/472 [==============================] - 11s 22ms/step - loss: 0.7421 - mse: 0.7378 - val_loss: 1.2327 - val_mse: 1.2279\n",
      "Epoch 7/30\n",
      "472/472 [==============================] - 11s 23ms/step - loss: 0.6884 - mse: 0.6834 - val_loss: 1.2470 - val_mse: 1.2417\n",
      "Epoch 8/30\n",
      "472/472 [==============================] - 10s 22ms/step - loss: 0.6374 - mse: 0.6317 - val_loss: 1.2854 - val_mse: 1.2795\n",
      "test MSE 1.075\n",
      "Epoch 1/30\n",
      "472/472 [==============================] - 15s 22ms/step - loss: 1.7978 - mse: 1.7977 - val_loss: 1.1854 - val_mse: 1.1849\n"
     ]
    },
    {
     "name": "stderr",
     "output_type": "stream",
     "text": [
      "WARNING:absl:Found untraced functions such as dropout_layer_call_fn, dropout_layer_call_and_return_conditional_losses, dropout_1_layer_call_fn, dropout_1_layer_call_and_return_conditional_losses, activation_layer_call_fn while saving (showing 5 of 8). These functions will not be directly callable after loading.\n"
     ]
    },
    {
     "name": "stdout",
     "output_type": "stream",
     "text": [
      "Epoch 2/30\n",
      "472/472 [==============================] - 11s 23ms/step - loss: 1.1184 - mse: 1.1172 - val_loss: 1.0994 - val_mse: 1.0973\n"
     ]
    },
    {
     "name": "stderr",
     "output_type": "stream",
     "text": [
      "WARNING:absl:Found untraced functions such as dropout_layer_call_fn, dropout_layer_call_and_return_conditional_losses, dropout_1_layer_call_fn, dropout_1_layer_call_and_return_conditional_losses, activation_layer_call_fn while saving (showing 5 of 8). These functions will not be directly callable after loading.\n"
     ]
    },
    {
     "name": "stdout",
     "output_type": "stream",
     "text": [
      "Epoch 3/30\n",
      "472/472 [==============================] - 11s 22ms/step - loss: 0.9613 - mse: 0.9585 - val_loss: 1.1859 - val_mse: 1.1826\n",
      "Epoch 4/30\n",
      "472/472 [==============================] - 10s 22ms/step - loss: 0.8809 - mse: 0.8771 - val_loss: 1.1363 - val_mse: 1.1320\n",
      "Epoch 5/30\n",
      "472/472 [==============================] - 11s 22ms/step - loss: 0.8324 - mse: 0.8278 - val_loss: 1.1720 - val_mse: 1.1670\n",
      "Epoch 6/30\n",
      "472/472 [==============================] - 11s 22ms/step - loss: 0.7860 - mse: 0.7806 - val_loss: 1.3326 - val_mse: 1.3269\n",
      "Epoch 7/30\n",
      "472/472 [==============================] - 11s 22ms/step - loss: 0.7456 - mse: 0.7395 - val_loss: 1.2437 - val_mse: 1.2373\n",
      "test MSE 1.0837\n",
      "Epoch 1/30\n",
      "472/472 [==============================] - 15s 21ms/step - loss: 1.7894 - mse: 1.7892 - val_loss: 1.1752 - val_mse: 1.1747\n"
     ]
    },
    {
     "name": "stderr",
     "output_type": "stream",
     "text": [
      "WARNING:absl:Found untraced functions such as dropout_layer_call_fn, dropout_layer_call_and_return_conditional_losses, dropout_1_layer_call_fn, dropout_1_layer_call_and_return_conditional_losses, activation_layer_call_fn while saving (showing 5 of 8). These functions will not be directly callable after loading.\n"
     ]
    },
    {
     "name": "stdout",
     "output_type": "stream",
     "text": [
      "Epoch 2/30\n",
      "472/472 [==============================] - 11s 23ms/step - loss: 1.0562 - mse: 1.0550 - val_loss: 1.1184 - val_mse: 1.1168\n"
     ]
    },
    {
     "name": "stderr",
     "output_type": "stream",
     "text": [
      "WARNING:absl:Found untraced functions such as dropout_layer_call_fn, dropout_layer_call_and_return_conditional_losses, dropout_1_layer_call_fn, dropout_1_layer_call_and_return_conditional_losses, activation_layer_call_fn while saving (showing 5 of 8). These functions will not be directly callable after loading.\n"
     ]
    },
    {
     "name": "stdout",
     "output_type": "stream",
     "text": [
      "Epoch 3/30\n",
      "472/472 [==============================] - 11s 23ms/step - loss: 0.9216 - mse: 0.9195 - val_loss: 1.1370 - val_mse: 1.1344\n",
      "Epoch 4/30\n",
      "472/472 [==============================] - 11s 23ms/step - loss: 0.8656 - mse: 0.8627 - val_loss: 1.1400 - val_mse: 1.1367\n",
      "Epoch 5/30\n",
      "472/472 [==============================] - 11s 23ms/step - loss: 0.8210 - mse: 0.8173 - val_loss: 1.1493 - val_mse: 1.1452\n",
      "Epoch 6/30\n",
      "472/472 [==============================] - 11s 22ms/step - loss: 0.7767 - mse: 0.7722 - val_loss: 1.1873 - val_mse: 1.1824\n",
      "Epoch 7/30\n",
      "472/472 [==============================] - 11s 23ms/step - loss: 0.7307 - mse: 0.7255 - val_loss: 1.2168 - val_mse: 1.2113\n",
      "test MSE 1.0794\n"
     ]
    }
   ],
   "source": [
    "# CCPM\n",
    "dict_CCPM = {'linear_feature_columns': linear_feature_columns,\n",
    "            'dnn_feature_columns': dnn_feature_columns,\n",
    "            'task': 'regression'}\n",
    "ls_result = calc_nn_based_model(df_yelp_all, \n",
    "                                CCPM, dict_CCPM,\n",
    "                                feature_names, \n",
    "                                'yelp', 'CCPM')\n",
    "all_result.extend(ls_result)"
   ]
  },
  {
   "cell_type": "code",
   "execution_count": 44,
   "metadata": {},
   "outputs": [
    {
     "name": "stdout",
     "output_type": "stream",
     "text": [
      "Epoch 1/30\n",
      "472/472 [==============================] - 13s 17ms/step - loss: 1.5819 - mse: 1.5817 - val_loss: 1.1000 - val_mse: 1.0995\n"
     ]
    },
    {
     "name": "stderr",
     "output_type": "stream",
     "text": [
      "WARNING:absl:Found untraced functions such as dropout_layer_call_fn, dropout_layer_call_and_return_conditional_losses, dropout_1_layer_call_fn, dropout_1_layer_call_and_return_conditional_losses, dropout_2_layer_call_fn while saving (showing 5 of 12). These functions will not be directly callable after loading.\n"
     ]
    },
    {
     "name": "stdout",
     "output_type": "stream",
     "text": [
      "Epoch 2/30\n",
      "472/472 [==============================] - 8s 17ms/step - loss: 0.9653 - mse: 0.9645 - val_loss: 1.0938 - val_mse: 1.0928\n"
     ]
    },
    {
     "name": "stderr",
     "output_type": "stream",
     "text": [
      "WARNING:absl:Found untraced functions such as dropout_layer_call_fn, dropout_layer_call_and_return_conditional_losses, dropout_1_layer_call_fn, dropout_1_layer_call_and_return_conditional_losses, dropout_2_layer_call_fn while saving (showing 5 of 12). These functions will not be directly callable after loading.\n"
     ]
    },
    {
     "name": "stdout",
     "output_type": "stream",
     "text": [
      "Epoch 3/30\n",
      "472/472 [==============================] - 8s 18ms/step - loss: 0.9092 - mse: 0.9078 - val_loss: 1.1008 - val_mse: 1.0992\n",
      "Epoch 4/30\n",
      "472/472 [==============================] - 8s 18ms/step - loss: 0.8816 - mse: 0.8797 - val_loss: 1.1106 - val_mse: 1.1085\n",
      "Epoch 5/30\n",
      "472/472 [==============================] - 8s 18ms/step - loss: 0.8640 - mse: 0.8616 - val_loss: 1.1265 - val_mse: 1.1238\n",
      "Epoch 6/30\n",
      "472/472 [==============================] - 8s 18ms/step - loss: 0.8478 - mse: 0.8449 - val_loss: 1.1223 - val_mse: 1.1192\n",
      "Epoch 7/30\n",
      "472/472 [==============================] - 8s 17ms/step - loss: 0.8258 - mse: 0.8224 - val_loss: 1.1268 - val_mse: 1.1231\n",
      "test MSE 1.0789\n",
      "Epoch 1/30\n",
      "472/472 [==============================] - 12s 17ms/step - loss: 1.5815 - mse: 1.5813 - val_loss: 1.1121 - val_mse: 1.1116\n"
     ]
    },
    {
     "name": "stderr",
     "output_type": "stream",
     "text": [
      "WARNING:absl:Found untraced functions such as dropout_layer_call_fn, dropout_layer_call_and_return_conditional_losses, dropout_1_layer_call_fn, dropout_1_layer_call_and_return_conditional_losses, dropout_2_layer_call_fn while saving (showing 5 of 12). These functions will not be directly callable after loading.\n"
     ]
    },
    {
     "name": "stdout",
     "output_type": "stream",
     "text": [
      "Epoch 2/30\n",
      "472/472 [==============================] - 8s 17ms/step - loss: 0.9685 - mse: 0.9677 - val_loss: 1.1456 - val_mse: 1.1446\n",
      "Epoch 3/30\n",
      "472/472 [==============================] - 8s 17ms/step - loss: 0.9097 - mse: 0.9084 - val_loss: 1.1128 - val_mse: 1.1113\n"
     ]
    },
    {
     "name": "stderr",
     "output_type": "stream",
     "text": [
      "WARNING:absl:Found untraced functions such as dropout_layer_call_fn, dropout_layer_call_and_return_conditional_losses, dropout_1_layer_call_fn, dropout_1_layer_call_and_return_conditional_losses, dropout_2_layer_call_fn while saving (showing 5 of 12). These functions will not be directly callable after loading.\n"
     ]
    },
    {
     "name": "stdout",
     "output_type": "stream",
     "text": [
      "Epoch 4/30\n",
      "472/472 [==============================] - 8s 17ms/step - loss: 0.8808 - mse: 0.8789 - val_loss: 1.1128 - val_mse: 1.1107\n"
     ]
    },
    {
     "name": "stderr",
     "output_type": "stream",
     "text": [
      "WARNING:absl:Found untraced functions such as dropout_layer_call_fn, dropout_layer_call_and_return_conditional_losses, dropout_1_layer_call_fn, dropout_1_layer_call_and_return_conditional_losses, dropout_2_layer_call_fn while saving (showing 5 of 12). These functions will not be directly callable after loading.\n"
     ]
    },
    {
     "name": "stdout",
     "output_type": "stream",
     "text": [
      "Epoch 5/30\n",
      "472/472 [==============================] - 8s 18ms/step - loss: 0.8621 - mse: 0.8597 - val_loss: 1.1259 - val_mse: 1.1233\n",
      "Epoch 6/30\n",
      "472/472 [==============================] - 8s 18ms/step - loss: 0.8471 - mse: 0.8442 - val_loss: 1.1225 - val_mse: 1.1194\n",
      "Epoch 7/30\n",
      "472/472 [==============================] - 8s 17ms/step - loss: 0.8284 - mse: 0.8250 - val_loss: 1.1491 - val_mse: 1.1455\n",
      "Epoch 8/30\n",
      "472/472 [==============================] - 8s 17ms/step - loss: 0.7967 - mse: 0.7928 - val_loss: 1.1602 - val_mse: 1.1561\n",
      "Epoch 9/30\n",
      "472/472 [==============================] - 8s 18ms/step - loss: 0.7673 - mse: 0.7629 - val_loss: 1.1880 - val_mse: 1.1834\n",
      "test MSE 1.0793\n",
      "Epoch 1/30\n",
      "472/472 [==============================] - 13s 17ms/step - loss: 1.5776 - mse: 1.5774 - val_loss: 1.1061 - val_mse: 1.1056\n"
     ]
    },
    {
     "name": "stderr",
     "output_type": "stream",
     "text": [
      "WARNING:absl:Found untraced functions such as dropout_layer_call_fn, dropout_layer_call_and_return_conditional_losses, dropout_1_layer_call_fn, dropout_1_layer_call_and_return_conditional_losses, dropout_2_layer_call_fn while saving (showing 5 of 12). These functions will not be directly callable after loading.\n"
     ]
    },
    {
     "name": "stdout",
     "output_type": "stream",
     "text": [
      "Epoch 2/30\n",
      "472/472 [==============================] - 8s 17ms/step - loss: 0.9630 - mse: 0.9622 - val_loss: 1.1215 - val_mse: 1.1205\n",
      "Epoch 3/30\n",
      "472/472 [==============================] - 8s 17ms/step - loss: 0.9045 - mse: 0.9032 - val_loss: 1.1255 - val_mse: 1.1239\n",
      "Epoch 4/30\n",
      "472/472 [==============================] - 8s 16ms/step - loss: 0.8772 - mse: 0.8754 - val_loss: 1.1441 - val_mse: 1.1420\n",
      "Epoch 5/30\n",
      "472/472 [==============================] - 8s 17ms/step - loss: 0.8593 - mse: 0.8570 - val_loss: 1.1365 - val_mse: 1.1339\n",
      "Epoch 6/30\n",
      "472/472 [==============================] - 8s 17ms/step - loss: 0.8445 - mse: 0.8416 - val_loss: 1.1782 - val_mse: 1.1751\n",
      "test MSE 1.0803\n",
      "Epoch 1/30\n",
      "472/472 [==============================] - 13s 18ms/step - loss: 1.5830 - mse: 1.5828 - val_loss: 1.0944 - val_mse: 1.0939\n"
     ]
    },
    {
     "name": "stderr",
     "output_type": "stream",
     "text": [
      "WARNING:absl:Found untraced functions such as dropout_layer_call_fn, dropout_layer_call_and_return_conditional_losses, dropout_1_layer_call_fn, dropout_1_layer_call_and_return_conditional_losses, dropout_2_layer_call_fn while saving (showing 5 of 12). These functions will not be directly callable after loading.\n"
     ]
    },
    {
     "name": "stdout",
     "output_type": "stream",
     "text": [
      "Epoch 2/30\n",
      "472/472 [==============================] - 8s 17ms/step - loss: 0.9680 - mse: 0.9672 - val_loss: 1.0933 - val_mse: 1.0922\n"
     ]
    },
    {
     "name": "stderr",
     "output_type": "stream",
     "text": [
      "WARNING:absl:Found untraced functions such as dropout_layer_call_fn, dropout_layer_call_and_return_conditional_losses, dropout_1_layer_call_fn, dropout_1_layer_call_and_return_conditional_losses, dropout_2_layer_call_fn while saving (showing 5 of 12). These functions will not be directly callable after loading.\n"
     ]
    },
    {
     "name": "stdout",
     "output_type": "stream",
     "text": [
      "Epoch 3/30\n",
      "472/472 [==============================] - 8s 18ms/step - loss: 0.9102 - mse: 0.9089 - val_loss: 1.0935 - val_mse: 1.0919\n"
     ]
    },
    {
     "name": "stderr",
     "output_type": "stream",
     "text": [
      "WARNING:absl:Found untraced functions such as dropout_layer_call_fn, dropout_layer_call_and_return_conditional_losses, dropout_1_layer_call_fn, dropout_1_layer_call_and_return_conditional_losses, dropout_2_layer_call_fn while saving (showing 5 of 12). These functions will not be directly callable after loading.\n"
     ]
    },
    {
     "name": "stdout",
     "output_type": "stream",
     "text": [
      "Epoch 4/30\n",
      "472/472 [==============================] - 8s 18ms/step - loss: 0.8817 - mse: 0.8798 - val_loss: 1.1061 - val_mse: 1.1040\n",
      "Epoch 5/30\n",
      "472/472 [==============================] - 9s 19ms/step - loss: 0.8661 - mse: 0.8638 - val_loss: 1.1194 - val_mse: 1.1168\n",
      "Epoch 6/30\n",
      "472/472 [==============================] - 9s 18ms/step - loss: 0.8465 - mse: 0.8437 - val_loss: 1.1210 - val_mse: 1.1179\n",
      "Epoch 7/30\n",
      "472/472 [==============================] - 8s 17ms/step - loss: 0.8237 - mse: 0.8204 - val_loss: 1.1247 - val_mse: 1.1211\n",
      "Epoch 8/30\n",
      "472/472 [==============================] - 9s 19ms/step - loss: 0.7980 - mse: 0.7941 - val_loss: 1.1553 - val_mse: 1.1512\n",
      "test MSE 1.0726\n",
      "Epoch 1/30\n",
      "472/472 [==============================] - 15s 18ms/step - loss: 1.6167 - mse: 1.6165 - val_loss: 1.1035 - val_mse: 1.1030\n"
     ]
    },
    {
     "name": "stderr",
     "output_type": "stream",
     "text": [
      "WARNING:absl:Found untraced functions such as dropout_layer_call_fn, dropout_layer_call_and_return_conditional_losses, dropout_1_layer_call_fn, dropout_1_layer_call_and_return_conditional_losses, dropout_2_layer_call_fn while saving (showing 5 of 12). These functions will not be directly callable after loading.\n"
     ]
    },
    {
     "name": "stdout",
     "output_type": "stream",
     "text": [
      "Epoch 2/30\n",
      "472/472 [==============================] - 8s 18ms/step - loss: 0.9663 - mse: 0.9655 - val_loss: 1.1215 - val_mse: 1.1204\n",
      "Epoch 3/30\n",
      "472/472 [==============================] - 8s 18ms/step - loss: 0.9077 - mse: 0.9063 - val_loss: 1.1390 - val_mse: 1.1374\n",
      "Epoch 4/30\n",
      "472/472 [==============================] - 8s 18ms/step - loss: 0.8804 - mse: 0.8785 - val_loss: 1.1562 - val_mse: 1.1541\n",
      "Epoch 5/30\n",
      "472/472 [==============================] - 8s 18ms/step - loss: 0.8638 - mse: 0.8614 - val_loss: 1.1378 - val_mse: 1.1351\n",
      "Epoch 6/30\n",
      "472/472 [==============================] - 8s 17ms/step - loss: 0.8503 - mse: 0.8474 - val_loss: 1.1441 - val_mse: 1.1409\n",
      "test MSE 1.0789\n"
     ]
    }
   ],
   "source": [
    "# WD\n",
    "dict_WD = {'linear_feature_columns': linear_feature_columns,\n",
    "           'dnn_feature_columns': dnn_feature_columns,\n",
    "           'task': 'regression'}\n",
    "ls_result = calc_nn_based_model(df_yelp_all, \n",
    "                                WDL, dict_WD,\n",
    "                                feature_names, \n",
    "                                'yelp', 'WD')\n",
    "all_result.extend(ls_result)"
   ]
  },
  {
   "cell_type": "code",
   "execution_count": 45,
   "metadata": {},
   "outputs": [
    {
     "name": "stdout",
     "output_type": "stream",
     "text": [
      "CrossNet parameterization: vector\n",
      "Epoch 1/30\n",
      "472/472 [==============================] - 13s 19ms/step - loss: 1.5172 - mse: 1.5169 - val_loss: 1.1005 - val_mse: 1.0999\n"
     ]
    },
    {
     "name": "stderr",
     "output_type": "stream",
     "text": [
      "WARNING:absl:Found untraced functions such as dropout_layer_call_fn, dropout_layer_call_and_return_conditional_losses, dropout_1_layer_call_fn, dropout_1_layer_call_and_return_conditional_losses, dropout_2_layer_call_fn while saving (showing 5 of 12). These functions will not be directly callable after loading.\n"
     ]
    },
    {
     "name": "stdout",
     "output_type": "stream",
     "text": [
      "Epoch 2/30\n",
      "472/472 [==============================] - 9s 18ms/step - loss: 0.9669 - mse: 0.9661 - val_loss: 1.1031 - val_mse: 1.1019\n",
      "Epoch 3/30\n",
      "472/472 [==============================] - 8s 18ms/step - loss: 0.9065 - mse: 0.9051 - val_loss: 1.1186 - val_mse: 1.1169\n",
      "Epoch 4/30\n",
      "472/472 [==============================] - 9s 18ms/step - loss: 0.8801 - mse: 0.8782 - val_loss: 1.1265 - val_mse: 1.1242\n",
      "Epoch 5/30\n",
      "472/472 [==============================] - 8s 18ms/step - loss: 0.8625 - mse: 0.8600 - val_loss: 1.1587 - val_mse: 1.1559\n",
      "Epoch 6/30\n",
      "472/472 [==============================] - 9s 19ms/step - loss: 0.8451 - mse: 0.8421 - val_loss: 1.1325 - val_mse: 1.1292\n",
      "test MSE 1.0816\n",
      "CrossNet parameterization: vector\n",
      "Epoch 1/30\n",
      "472/472 [==============================] - 14s 20ms/step - loss: 1.5136 - mse: 1.5134 - val_loss: 1.1219 - val_mse: 1.1213\n"
     ]
    },
    {
     "name": "stderr",
     "output_type": "stream",
     "text": [
      "WARNING:absl:Found untraced functions such as dropout_layer_call_fn, dropout_layer_call_and_return_conditional_losses, dropout_1_layer_call_fn, dropout_1_layer_call_and_return_conditional_losses, dropout_2_layer_call_fn while saving (showing 5 of 12). These functions will not be directly callable after loading.\n"
     ]
    },
    {
     "name": "stdout",
     "output_type": "stream",
     "text": [
      "Epoch 2/30\n",
      "472/472 [==============================] - 8s 17ms/step - loss: 0.9668 - mse: 0.9659 - val_loss: 1.1050 - val_mse: 1.1039\n"
     ]
    },
    {
     "name": "stderr",
     "output_type": "stream",
     "text": [
      "WARNING:absl:Found untraced functions such as dropout_layer_call_fn, dropout_layer_call_and_return_conditional_losses, dropout_1_layer_call_fn, dropout_1_layer_call_and_return_conditional_losses, dropout_2_layer_call_fn while saving (showing 5 of 12). These functions will not be directly callable after loading.\n"
     ]
    },
    {
     "name": "stdout",
     "output_type": "stream",
     "text": [
      "Epoch 3/30\n",
      "472/472 [==============================] - 8s 18ms/step - loss: 0.9104 - mse: 0.9089 - val_loss: 1.1082 - val_mse: 1.1065\n",
      "Epoch 4/30\n",
      "472/472 [==============================] - 8s 18ms/step - loss: 0.8772 - mse: 0.8752 - val_loss: 1.1151 - val_mse: 1.1129\n",
      "Epoch 5/30\n",
      "472/472 [==============================] - 9s 18ms/step - loss: 0.8591 - mse: 0.8566 - val_loss: 1.1306 - val_mse: 1.1278\n",
      "Epoch 6/30\n",
      "472/472 [==============================] - 8s 18ms/step - loss: 0.8423 - mse: 0.8393 - val_loss: 1.1472 - val_mse: 1.1439\n",
      "Epoch 7/30\n",
      "472/472 [==============================] - 9s 18ms/step - loss: 0.8204 - mse: 0.8168 - val_loss: 1.1534 - val_mse: 1.1496\n",
      "test MSE 1.0609\n",
      "CrossNet parameterization: vector\n",
      "Epoch 1/30\n",
      "472/472 [==============================] - 13s 18ms/step - loss: 1.5579 - mse: 1.5576 - val_loss: 1.1179 - val_mse: 1.1173\n"
     ]
    },
    {
     "name": "stderr",
     "output_type": "stream",
     "text": [
      "WARNING:absl:Found untraced functions such as dropout_layer_call_fn, dropout_layer_call_and_return_conditional_losses, dropout_1_layer_call_fn, dropout_1_layer_call_and_return_conditional_losses, dropout_2_layer_call_fn while saving (showing 5 of 12). These functions will not be directly callable after loading.\n"
     ]
    },
    {
     "name": "stdout",
     "output_type": "stream",
     "text": [
      "Epoch 2/30\n",
      "472/472 [==============================] - 9s 18ms/step - loss: 0.9633 - mse: 0.9624 - val_loss: 1.1043 - val_mse: 1.1031\n"
     ]
    },
    {
     "name": "stderr",
     "output_type": "stream",
     "text": [
      "WARNING:absl:Found untraced functions such as dropout_layer_call_fn, dropout_layer_call_and_return_conditional_losses, dropout_1_layer_call_fn, dropout_1_layer_call_and_return_conditional_losses, dropout_2_layer_call_fn while saving (showing 5 of 12). These functions will not be directly callable after loading.\n"
     ]
    },
    {
     "name": "stdout",
     "output_type": "stream",
     "text": [
      "Epoch 3/30\n",
      "472/472 [==============================] - 9s 19ms/step - loss: 0.9042 - mse: 0.9027 - val_loss: 1.1413 - val_mse: 1.1396\n",
      "Epoch 4/30\n",
      "472/472 [==============================] - 9s 19ms/step - loss: 0.8739 - mse: 0.8719 - val_loss: 1.1344 - val_mse: 1.1322\n",
      "Epoch 5/30\n",
      "472/472 [==============================] - 9s 18ms/step - loss: 0.8577 - mse: 0.8552 - val_loss: 1.1529 - val_mse: 1.1501\n",
      "Epoch 6/30\n",
      "472/472 [==============================] - 9s 19ms/step - loss: 0.8394 - mse: 0.8364 - val_loss: 1.1467 - val_mse: 1.1433\n",
      "Epoch 7/30\n",
      "472/472 [==============================] - 9s 19ms/step - loss: 0.8159 - mse: 0.8123 - val_loss: 1.1511 - val_mse: 1.1472\n",
      "test MSE 1.0797\n",
      "CrossNet parameterization: vector\n",
      "Epoch 1/30\n",
      "472/472 [==============================] - 13s 18ms/step - loss: 1.5434 - mse: 1.5431 - val_loss: 1.1097 - val_mse: 1.1091\n"
     ]
    },
    {
     "name": "stderr",
     "output_type": "stream",
     "text": [
      "WARNING:absl:Found untraced functions such as dropout_layer_call_fn, dropout_layer_call_and_return_conditional_losses, dropout_1_layer_call_fn, dropout_1_layer_call_and_return_conditional_losses, dropout_2_layer_call_fn while saving (showing 5 of 12). These functions will not be directly callable after loading.\n"
     ]
    },
    {
     "name": "stdout",
     "output_type": "stream",
     "text": [
      "Epoch 2/30\n",
      "472/472 [==============================] - 8s 18ms/step - loss: 0.9687 - mse: 0.9678 - val_loss: 1.1014 - val_mse: 1.1002\n"
     ]
    },
    {
     "name": "stderr",
     "output_type": "stream",
     "text": [
      "WARNING:absl:Found untraced functions such as dropout_layer_call_fn, dropout_layer_call_and_return_conditional_losses, dropout_1_layer_call_fn, dropout_1_layer_call_and_return_conditional_losses, dropout_2_layer_call_fn while saving (showing 5 of 12). These functions will not be directly callable after loading.\n"
     ]
    },
    {
     "name": "stdout",
     "output_type": "stream",
     "text": [
      "Epoch 3/30\n",
      "472/472 [==============================] - 9s 18ms/step - loss: 0.9083 - mse: 0.9068 - val_loss: 1.1113 - val_mse: 1.1096\n",
      "Epoch 4/30\n",
      "472/472 [==============================] - 9s 19ms/step - loss: 0.8831 - mse: 0.8811 - val_loss: 1.1418 - val_mse: 1.1395\n",
      "Epoch 5/30\n",
      "472/472 [==============================] - 9s 18ms/step - loss: 0.8653 - mse: 0.8628 - val_loss: 1.1144 - val_mse: 1.1116\n",
      "Epoch 6/30\n",
      "472/472 [==============================] - 9s 18ms/step - loss: 0.8510 - mse: 0.8480 - val_loss: 1.1181 - val_mse: 1.1147\n",
      "Epoch 7/30\n",
      "472/472 [==============================] - 9s 19ms/step - loss: 0.8380 - mse: 0.8344 - val_loss: 1.1438 - val_mse: 1.1399\n",
      "test MSE 1.0702\n",
      "CrossNet parameterization: vector\n",
      "Epoch 1/30\n",
      "472/472 [==============================] - 14s 19ms/step - loss: 1.5200 - mse: 1.5197 - val_loss: 1.1331 - val_mse: 1.1325\n"
     ]
    },
    {
     "name": "stderr",
     "output_type": "stream",
     "text": [
      "WARNING:absl:Found untraced functions such as dropout_layer_call_fn, dropout_layer_call_and_return_conditional_losses, dropout_1_layer_call_fn, dropout_1_layer_call_and_return_conditional_losses, dropout_2_layer_call_fn while saving (showing 5 of 12). These functions will not be directly callable after loading.\n"
     ]
    },
    {
     "name": "stdout",
     "output_type": "stream",
     "text": [
      "Epoch 2/30\n",
      "472/472 [==============================] - 8s 17ms/step - loss: 0.9660 - mse: 0.9651 - val_loss: 1.1087 - val_mse: 1.1076\n"
     ]
    },
    {
     "name": "stderr",
     "output_type": "stream",
     "text": [
      "WARNING:absl:Found untraced functions such as dropout_layer_call_fn, dropout_layer_call_and_return_conditional_losses, dropout_1_layer_call_fn, dropout_1_layer_call_and_return_conditional_losses, dropout_2_layer_call_fn while saving (showing 5 of 12). These functions will not be directly callable after loading.\n"
     ]
    },
    {
     "name": "stdout",
     "output_type": "stream",
     "text": [
      "Epoch 3/30\n",
      "472/472 [==============================] - 8s 17ms/step - loss: 0.9058 - mse: 0.9044 - val_loss: 1.1514 - val_mse: 1.1497\n",
      "Epoch 4/30\n",
      "472/472 [==============================] - 8s 17ms/step - loss: 0.8797 - mse: 0.8777 - val_loss: 1.1154 - val_mse: 1.1132\n",
      "Epoch 5/30\n",
      "472/472 [==============================] - 8s 18ms/step - loss: 0.8597 - mse: 0.8572 - val_loss: 1.1427 - val_mse: 1.1400\n",
      "Epoch 6/30\n",
      "472/472 [==============================] - 9s 18ms/step - loss: 0.8448 - mse: 0.8418 - val_loss: 1.1415 - val_mse: 1.1383\n",
      "Epoch 7/30\n",
      "472/472 [==============================] - 9s 19ms/step - loss: 0.8259 - mse: 0.8224 - val_loss: 1.1325 - val_mse: 1.1287\n",
      "test MSE 1.07\n"
     ]
    }
   ],
   "source": [
    "# DC\n",
    "dict_DC = {'linear_feature_columns': linear_feature_columns,\n",
    "           'dnn_feature_columns': dnn_feature_columns,\n",
    "           'task': 'regression'}\n",
    "ls_result = calc_nn_based_model(df_yelp_all, \n",
    "                                DCN, dict_DC,\n",
    "                                feature_names, \n",
    "                                'yelp', 'DC')\n",
    "all_result.extend(ls_result)"
   ]
  },
  {
   "cell_type": "code",
   "execution_count": 46,
   "metadata": {},
   "outputs": [
    {
     "name": "stdout",
     "output_type": "stream",
     "text": [
      "Epoch 1/30\n",
      "472/472 [==============================] - 14s 19ms/step - loss: 1.7384 - mse: 1.7381 - val_loss: 1.1200 - val_mse: 1.1193\n"
     ]
    },
    {
     "name": "stderr",
     "output_type": "stream",
     "text": [
      "WARNING:absl:Found untraced functions such as dropout_layer_call_fn, dropout_layer_call_and_return_conditional_losses, dropout_1_layer_call_fn, dropout_1_layer_call_and_return_conditional_losses, dropout_2_layer_call_fn while saving (showing 5 of 12). These functions will not be directly callable after loading.\n"
     ]
    },
    {
     "name": "stdout",
     "output_type": "stream",
     "text": [
      "Epoch 2/30\n",
      "472/472 [==============================] - 9s 19ms/step - loss: 0.9919 - mse: 0.9908 - val_loss: 1.0980 - val_mse: 1.0965\n"
     ]
    },
    {
     "name": "stderr",
     "output_type": "stream",
     "text": [
      "WARNING:absl:Found untraced functions such as dropout_layer_call_fn, dropout_layer_call_and_return_conditional_losses, dropout_1_layer_call_fn, dropout_1_layer_call_and_return_conditional_losses, dropout_2_layer_call_fn while saving (showing 5 of 12). These functions will not be directly callable after loading.\n"
     ]
    },
    {
     "name": "stdout",
     "output_type": "stream",
     "text": [
      "Epoch 3/30\n",
      "472/472 [==============================] - 8s 18ms/step - loss: 0.9282 - mse: 0.9263 - val_loss: 1.0924 - val_mse: 1.0901\n"
     ]
    },
    {
     "name": "stderr",
     "output_type": "stream",
     "text": [
      "WARNING:absl:Found untraced functions such as dropout_layer_call_fn, dropout_layer_call_and_return_conditional_losses, dropout_1_layer_call_fn, dropout_1_layer_call_and_return_conditional_losses, dropout_2_layer_call_fn while saving (showing 5 of 12). These functions will not be directly callable after loading.\n"
     ]
    },
    {
     "name": "stdout",
     "output_type": "stream",
     "text": [
      "Epoch 4/30\n",
      "472/472 [==============================] - 9s 19ms/step - loss: 0.8927 - mse: 0.8900 - val_loss: 1.1038 - val_mse: 1.1008\n",
      "Epoch 5/30\n",
      "472/472 [==============================] - 9s 19ms/step - loss: 0.8671 - mse: 0.8638 - val_loss: 1.1340 - val_mse: 1.1303\n",
      "Epoch 6/30\n",
      "472/472 [==============================] - 8s 18ms/step - loss: 0.8424 - mse: 0.8384 - val_loss: 1.1379 - val_mse: 1.1336\n",
      "Epoch 7/30\n",
      "472/472 [==============================] - 9s 19ms/step - loss: 0.8214 - mse: 0.8167 - val_loss: 1.1626 - val_mse: 1.1577\n",
      "Epoch 8/30\n",
      "472/472 [==============================] - 9s 18ms/step - loss: 0.8025 - mse: 0.7973 - val_loss: 1.1310 - val_mse: 1.1255\n",
      "test MSE 1.0815\n",
      "Epoch 1/30\n",
      "472/472 [==============================] - 13s 18ms/step - loss: 1.7009 - mse: 1.7006 - val_loss: 1.1330 - val_mse: 1.1324\n"
     ]
    },
    {
     "name": "stderr",
     "output_type": "stream",
     "text": [
      "WARNING:absl:Found untraced functions such as dropout_layer_call_fn, dropout_layer_call_and_return_conditional_losses, dropout_1_layer_call_fn, dropout_1_layer_call_and_return_conditional_losses, dropout_2_layer_call_fn while saving (showing 5 of 12). These functions will not be directly callable after loading.\n"
     ]
    },
    {
     "name": "stdout",
     "output_type": "stream",
     "text": [
      "Epoch 2/30\n",
      "472/472 [==============================] - 8s 17ms/step - loss: 0.9964 - mse: 0.9953 - val_loss: 1.0992 - val_mse: 1.0977\n"
     ]
    },
    {
     "name": "stderr",
     "output_type": "stream",
     "text": [
      "WARNING:absl:Found untraced functions such as dropout_layer_call_fn, dropout_layer_call_and_return_conditional_losses, dropout_1_layer_call_fn, dropout_1_layer_call_and_return_conditional_losses, dropout_2_layer_call_fn while saving (showing 5 of 12). These functions will not be directly callable after loading.\n"
     ]
    },
    {
     "name": "stdout",
     "output_type": "stream",
     "text": [
      "Epoch 3/30\n",
      "472/472 [==============================] - 8s 17ms/step - loss: 0.9286 - mse: 0.9267 - val_loss: 1.1314 - val_mse: 1.1292\n",
      "Epoch 4/30\n",
      "472/472 [==============================] - 8s 17ms/step - loss: 0.8975 - mse: 0.8949 - val_loss: 1.1113 - val_mse: 1.1084\n",
      "Epoch 5/30\n",
      "472/472 [==============================] - 8s 17ms/step - loss: 0.8761 - mse: 0.8729 - val_loss: 1.1185 - val_mse: 1.1150\n",
      "Epoch 6/30\n",
      "472/472 [==============================] - 8s 17ms/step - loss: 0.8525 - mse: 0.8486 - val_loss: 1.1145 - val_mse: 1.1102\n",
      "Epoch 7/30\n",
      "472/472 [==============================] - 8s 17ms/step - loss: 0.8287 - mse: 0.8240 - val_loss: 1.1266 - val_mse: 1.1217\n",
      "test MSE 1.0698\n",
      "Epoch 1/30\n",
      "472/472 [==============================] - 15s 18ms/step - loss: 1.6471 - mse: 1.6468 - val_loss: 1.1334 - val_mse: 1.1328\n"
     ]
    },
    {
     "name": "stderr",
     "output_type": "stream",
     "text": [
      "WARNING:absl:Found untraced functions such as dropout_layer_call_fn, dropout_layer_call_and_return_conditional_losses, dropout_1_layer_call_fn, dropout_1_layer_call_and_return_conditional_losses, dropout_2_layer_call_fn while saving (showing 5 of 12). These functions will not be directly callable after loading.\n"
     ]
    },
    {
     "name": "stdout",
     "output_type": "stream",
     "text": [
      "Epoch 2/30\n",
      "472/472 [==============================] - 8s 17ms/step - loss: 0.9925 - mse: 0.9914 - val_loss: 1.1220 - val_mse: 1.1205\n"
     ]
    },
    {
     "name": "stderr",
     "output_type": "stream",
     "text": [
      "WARNING:absl:Found untraced functions such as dropout_layer_call_fn, dropout_layer_call_and_return_conditional_losses, dropout_1_layer_call_fn, dropout_1_layer_call_and_return_conditional_losses, dropout_2_layer_call_fn while saving (showing 5 of 12). These functions will not be directly callable after loading.\n"
     ]
    },
    {
     "name": "stdout",
     "output_type": "stream",
     "text": [
      "Epoch 3/30\n",
      "472/472 [==============================] - 8s 18ms/step - loss: 0.9254 - mse: 0.9235 - val_loss: 1.1018 - val_mse: 1.0995\n"
     ]
    },
    {
     "name": "stderr",
     "output_type": "stream",
     "text": [
      "WARNING:absl:Found untraced functions such as dropout_layer_call_fn, dropout_layer_call_and_return_conditional_losses, dropout_1_layer_call_fn, dropout_1_layer_call_and_return_conditional_losses, dropout_2_layer_call_fn while saving (showing 5 of 12). These functions will not be directly callable after loading.\n"
     ]
    },
    {
     "name": "stdout",
     "output_type": "stream",
     "text": [
      "Epoch 4/30\n",
      "472/472 [==============================] - 8s 17ms/step - loss: 0.8939 - mse: 0.8913 - val_loss: 1.1044 - val_mse: 1.1014\n",
      "Epoch 5/30\n",
      "472/472 [==============================] - 8s 17ms/step - loss: 0.8722 - mse: 0.8689 - val_loss: 1.1244 - val_mse: 1.1209\n",
      "Epoch 6/30\n",
      "472/472 [==============================] - 8s 17ms/step - loss: 0.8566 - mse: 0.8528 - val_loss: 1.1412 - val_mse: 1.1370\n",
      "Epoch 7/30\n",
      "472/472 [==============================] - 8s 16ms/step - loss: 0.8396 - mse: 0.8352 - val_loss: 1.1546 - val_mse: 1.1499\n",
      "Epoch 8/30\n",
      "472/472 [==============================] - 8s 17ms/step - loss: 0.8153 - mse: 0.8102 - val_loss: 1.1349 - val_mse: 1.1295\n",
      "test MSE 1.0857\n",
      "Epoch 1/30\n",
      "472/472 [==============================] - 12s 17ms/step - loss: 1.6414 - mse: 1.6411 - val_loss: 1.1253 - val_mse: 1.1246\n"
     ]
    },
    {
     "name": "stderr",
     "output_type": "stream",
     "text": [
      "WARNING:absl:Found untraced functions such as dropout_layer_call_fn, dropout_layer_call_and_return_conditional_losses, dropout_1_layer_call_fn, dropout_1_layer_call_and_return_conditional_losses, dropout_2_layer_call_fn while saving (showing 5 of 12). These functions will not be directly callable after loading.\n"
     ]
    },
    {
     "name": "stdout",
     "output_type": "stream",
     "text": [
      "Epoch 2/30\n",
      "472/472 [==============================] - 8s 16ms/step - loss: 1.0002 - mse: 0.9991 - val_loss: 1.1296 - val_mse: 1.1281\n",
      "Epoch 3/30\n",
      "472/472 [==============================] - 8s 17ms/step - loss: 0.9277 - mse: 0.9257 - val_loss: 1.1163 - val_mse: 1.1140\n"
     ]
    },
    {
     "name": "stderr",
     "output_type": "stream",
     "text": [
      "WARNING:absl:Found untraced functions such as dropout_layer_call_fn, dropout_layer_call_and_return_conditional_losses, dropout_1_layer_call_fn, dropout_1_layer_call_and_return_conditional_losses, dropout_2_layer_call_fn while saving (showing 5 of 12). These functions will not be directly callable after loading.\n"
     ]
    },
    {
     "name": "stdout",
     "output_type": "stream",
     "text": [
      "Epoch 4/30\n",
      "472/472 [==============================] - 8s 17ms/step - loss: 0.8971 - mse: 0.8945 - val_loss: 1.1099 - val_mse: 1.1069\n"
     ]
    },
    {
     "name": "stderr",
     "output_type": "stream",
     "text": [
      "WARNING:absl:Found untraced functions such as dropout_layer_call_fn, dropout_layer_call_and_return_conditional_losses, dropout_1_layer_call_fn, dropout_1_layer_call_and_return_conditional_losses, dropout_2_layer_call_fn while saving (showing 5 of 12). These functions will not be directly callable after loading.\n"
     ]
    },
    {
     "name": "stdout",
     "output_type": "stream",
     "text": [
      "Epoch 5/30\n",
      "472/472 [==============================] - 8s 16ms/step - loss: 0.8781 - mse: 0.8747 - val_loss: 1.1041 - val_mse: 1.1004\n"
     ]
    },
    {
     "name": "stderr",
     "output_type": "stream",
     "text": [
      "WARNING:absl:Found untraced functions such as dropout_layer_call_fn, dropout_layer_call_and_return_conditional_losses, dropout_1_layer_call_fn, dropout_1_layer_call_and_return_conditional_losses, dropout_2_layer_call_fn while saving (showing 5 of 12). These functions will not be directly callable after loading.\n"
     ]
    },
    {
     "name": "stdout",
     "output_type": "stream",
     "text": [
      "Epoch 6/30\n",
      "472/472 [==============================] - 8s 17ms/step - loss: 0.8615 - mse: 0.8576 - val_loss: 1.1189 - val_mse: 1.1146\n",
      "Epoch 7/30\n",
      "472/472 [==============================] - 8s 17ms/step - loss: 0.8484 - mse: 0.8438 - val_loss: 1.1047 - val_mse: 1.0999\n"
     ]
    },
    {
     "name": "stderr",
     "output_type": "stream",
     "text": [
      "WARNING:absl:Found untraced functions such as dropout_layer_call_fn, dropout_layer_call_and_return_conditional_losses, dropout_1_layer_call_fn, dropout_1_layer_call_and_return_conditional_losses, dropout_2_layer_call_fn while saving (showing 5 of 12). These functions will not be directly callable after loading.\n"
     ]
    },
    {
     "name": "stdout",
     "output_type": "stream",
     "text": [
      "Epoch 8/30\n",
      "472/472 [==============================] - 8s 17ms/step - loss: 0.8304 - mse: 0.8253 - val_loss: 1.1427 - val_mse: 1.1373\n",
      "Epoch 9/30\n",
      "472/472 [==============================] - 8s 17ms/step - loss: 0.8147 - mse: 0.8090 - val_loss: 1.1343 - val_mse: 1.1283\n",
      "Epoch 10/30\n",
      "472/472 [==============================] - 8s 17ms/step - loss: 0.7976 - mse: 0.7913 - val_loss: 1.1262 - val_mse: 1.1197\n",
      "Epoch 11/30\n",
      "472/472 [==============================] - 8s 17ms/step - loss: 0.7827 - mse: 0.7760 - val_loss: 1.1409 - val_mse: 1.1339\n",
      "Epoch 12/30\n",
      "472/472 [==============================] - 8s 17ms/step - loss: 0.7655 - mse: 0.7584 - val_loss: 1.1682 - val_mse: 1.1608\n",
      "test MSE 1.0922\n",
      "Epoch 1/30\n",
      "472/472 [==============================] - 13s 18ms/step - loss: 1.6669 - mse: 1.6666 - val_loss: 1.1062 - val_mse: 1.1056\n"
     ]
    },
    {
     "name": "stderr",
     "output_type": "stream",
     "text": [
      "WARNING:absl:Found untraced functions such as dropout_layer_call_fn, dropout_layer_call_and_return_conditional_losses, dropout_1_layer_call_fn, dropout_1_layer_call_and_return_conditional_losses, dropout_2_layer_call_fn while saving (showing 5 of 12). These functions will not be directly callable after loading.\n"
     ]
    },
    {
     "name": "stdout",
     "output_type": "stream",
     "text": [
      "Epoch 2/30\n",
      "472/472 [==============================] - 8s 17ms/step - loss: 0.9820 - mse: 0.9810 - val_loss: 1.1362 - val_mse: 1.1349\n",
      "Epoch 3/30\n",
      "472/472 [==============================] - 9s 19ms/step - loss: 0.9163 - mse: 0.9146 - val_loss: 1.1137 - val_mse: 1.1118\n",
      "Epoch 4/30\n",
      "472/472 [==============================] - 9s 18ms/step - loss: 0.8836 - mse: 0.8813 - val_loss: 1.1112 - val_mse: 1.1086\n",
      "Epoch 5/30\n",
      "472/472 [==============================] - 8s 18ms/step - loss: 0.8615 - mse: 0.8586 - val_loss: 1.1241 - val_mse: 1.1209\n",
      "Epoch 6/30\n",
      "472/472 [==============================] - 8s 17ms/step - loss: 0.8401 - mse: 0.8366 - val_loss: 1.1973 - val_mse: 1.1935\n",
      "test MSE 1.0894\n"
     ]
    }
   ],
   "source": [
    "# NFM\n",
    "dict_NFM = {'linear_feature_columns': linear_feature_columns,\n",
    "            'dnn_feature_columns': dnn_feature_columns,\n",
    "            'task': 'regression'}\n",
    "ls_result = calc_nn_based_model(df_yelp_all, \n",
    "                                NFM, dict_NFM,\n",
    "                                feature_names, \n",
    "                                'yelp', 'NFM')\n",
    "all_result.extend(ls_result)"
   ]
  },
  {
   "cell_type": "code",
   "execution_count": 47,
   "metadata": {},
   "outputs": [
    {
     "name": "stdout",
     "output_type": "stream",
     "text": [
      "Epoch 1/30\n",
      "472/472 [==============================] - 12s 16ms/step - loss: 1.5630 - mse: 1.5628 - val_loss: 1.1367 - val_mse: 1.1362\n"
     ]
    },
    {
     "name": "stderr",
     "output_type": "stream",
     "text": [
      "WARNING:absl:Found untraced functions such as dropout_layer_call_fn, dropout_layer_call_and_return_conditional_losses, dropout_1_layer_call_fn, dropout_1_layer_call_and_return_conditional_losses, dropout_2_layer_call_fn while saving (showing 5 of 12). These functions will not be directly callable after loading.\n"
     ]
    },
    {
     "name": "stdout",
     "output_type": "stream",
     "text": [
      "Epoch 2/30\n",
      "472/472 [==============================] - 8s 17ms/step - loss: 0.9683 - mse: 0.9676 - val_loss: 1.1050 - val_mse: 1.1040\n"
     ]
    },
    {
     "name": "stderr",
     "output_type": "stream",
     "text": [
      "WARNING:absl:Found untraced functions such as dropout_layer_call_fn, dropout_layer_call_and_return_conditional_losses, dropout_1_layer_call_fn, dropout_1_layer_call_and_return_conditional_losses, dropout_2_layer_call_fn while saving (showing 5 of 12). These functions will not be directly callable after loading.\n"
     ]
    },
    {
     "name": "stdout",
     "output_type": "stream",
     "text": [
      "Epoch 3/30\n",
      "472/472 [==============================] - 8s 17ms/step - loss: 0.9105 - mse: 0.9092 - val_loss: 1.1073 - val_mse: 1.1058\n",
      "Epoch 4/30\n",
      "472/472 [==============================] - 8s 17ms/step - loss: 0.8807 - mse: 0.8789 - val_loss: 1.1536 - val_mse: 1.1516\n",
      "Epoch 5/30\n",
      "472/472 [==============================] - 8s 18ms/step - loss: 0.8619 - mse: 0.8596 - val_loss: 1.1300 - val_mse: 1.1274\n",
      "Epoch 6/30\n",
      "472/472 [==============================] - 8s 18ms/step - loss: 0.8396 - mse: 0.8368 - val_loss: 1.1312 - val_mse: 1.1281\n",
      "Epoch 7/30\n",
      "472/472 [==============================] - 9s 18ms/step - loss: 0.8115 - mse: 0.8082 - val_loss: 1.1515 - val_mse: 1.1479\n",
      "test MSE 1.0714\n",
      "Epoch 1/30\n",
      "472/472 [==============================] - 13s 18ms/step - loss: 1.5679 - mse: 1.5677 - val_loss: 1.1119 - val_mse: 1.1114\n"
     ]
    },
    {
     "name": "stderr",
     "output_type": "stream",
     "text": [
      "WARNING:absl:Found untraced functions such as dropout_layer_call_fn, dropout_layer_call_and_return_conditional_losses, dropout_1_layer_call_fn, dropout_1_layer_call_and_return_conditional_losses, dropout_2_layer_call_fn while saving (showing 5 of 12). These functions will not be directly callable after loading.\n"
     ]
    },
    {
     "name": "stdout",
     "output_type": "stream",
     "text": [
      "Epoch 2/30\n",
      "472/472 [==============================] - 8s 18ms/step - loss: 0.9680 - mse: 0.9672 - val_loss: 1.0981 - val_mse: 1.0971\n"
     ]
    },
    {
     "name": "stderr",
     "output_type": "stream",
     "text": [
      "WARNING:absl:Found untraced functions such as dropout_layer_call_fn, dropout_layer_call_and_return_conditional_losses, dropout_1_layer_call_fn, dropout_1_layer_call_and_return_conditional_losses, dropout_2_layer_call_fn while saving (showing 5 of 12). These functions will not be directly callable after loading.\n"
     ]
    },
    {
     "name": "stdout",
     "output_type": "stream",
     "text": [
      "Epoch 3/30\n",
      "472/472 [==============================] - 9s 18ms/step - loss: 0.9088 - mse: 0.9075 - val_loss: 1.1157 - val_mse: 1.1141\n",
      "Epoch 4/30\n",
      "472/472 [==============================] - 8s 18ms/step - loss: 0.8811 - mse: 0.8793 - val_loss: 1.1231 - val_mse: 1.1210\n",
      "Epoch 5/30\n",
      "472/472 [==============================] - 9s 18ms/step - loss: 0.8635 - mse: 0.8612 - val_loss: 1.1365 - val_mse: 1.1339\n",
      "Epoch 6/30\n",
      "472/472 [==============================] - 8s 17ms/step - loss: 0.8468 - mse: 0.8439 - val_loss: 1.1257 - val_mse: 1.1225\n",
      "Epoch 7/30\n",
      "472/472 [==============================] - 9s 18ms/step - loss: 0.8271 - mse: 0.8237 - val_loss: 1.1685 - val_mse: 1.1648\n",
      "test MSE 1.0568\n",
      "Epoch 1/30\n",
      "472/472 [==============================] - 15s 21ms/step - loss: 1.5313 - mse: 1.5311 - val_loss: 1.1235 - val_mse: 1.1230\n"
     ]
    },
    {
     "name": "stderr",
     "output_type": "stream",
     "text": [
      "WARNING:absl:Found untraced functions such as dropout_layer_call_fn, dropout_layer_call_and_return_conditional_losses, dropout_1_layer_call_fn, dropout_1_layer_call_and_return_conditional_losses, dropout_2_layer_call_fn while saving (showing 5 of 12). These functions will not be directly callable after loading.\n"
     ]
    },
    {
     "name": "stdout",
     "output_type": "stream",
     "text": [
      "Epoch 2/30\n",
      "472/472 [==============================] - 9s 19ms/step - loss: 0.9620 - mse: 0.9613 - val_loss: 1.1392 - val_mse: 1.1382\n",
      "Epoch 3/30\n",
      "472/472 [==============================] - 9s 19ms/step - loss: 0.9042 - mse: 0.9030 - val_loss: 1.1218 - val_mse: 1.1202\n"
     ]
    },
    {
     "name": "stderr",
     "output_type": "stream",
     "text": [
      "WARNING:absl:Found untraced functions such as dropout_layer_call_fn, dropout_layer_call_and_return_conditional_losses, dropout_1_layer_call_fn, dropout_1_layer_call_and_return_conditional_losses, dropout_2_layer_call_fn while saving (showing 5 of 12). These functions will not be directly callable after loading.\n"
     ]
    },
    {
     "name": "stdout",
     "output_type": "stream",
     "text": [
      "Epoch 4/30\n",
      "472/472 [==============================] - 9s 20ms/step - loss: 0.8758 - mse: 0.8740 - val_loss: 1.1401 - val_mse: 1.1381\n",
      "Epoch 5/30\n",
      "472/472 [==============================] - 9s 19ms/step - loss: 0.8619 - mse: 0.8596 - val_loss: 1.1358 - val_mse: 1.1332\n",
      "Epoch 6/30\n",
      "472/472 [==============================] - 9s 19ms/step - loss: 0.8444 - mse: 0.8416 - val_loss: 1.1547 - val_mse: 1.1516\n",
      "Epoch 7/30\n",
      "472/472 [==============================] - 9s 19ms/step - loss: 0.8238 - mse: 0.8205 - val_loss: 1.1357 - val_mse: 1.1321\n",
      "Epoch 8/30\n",
      "472/472 [==============================] - 9s 19ms/step - loss: 0.7989 - mse: 0.7950 - val_loss: 1.1591 - val_mse: 1.1550\n",
      "test MSE 1.0861\n",
      "Epoch 1/30\n",
      "472/472 [==============================] - 13s 17ms/step - loss: 1.5456 - mse: 1.5453 - val_loss: 1.1020 - val_mse: 1.1015\n"
     ]
    },
    {
     "name": "stderr",
     "output_type": "stream",
     "text": [
      "WARNING:absl:Found untraced functions such as dropout_layer_call_fn, dropout_layer_call_and_return_conditional_losses, dropout_1_layer_call_fn, dropout_1_layer_call_and_return_conditional_losses, dropout_2_layer_call_fn while saving (showing 5 of 12). These functions will not be directly callable after loading.\n"
     ]
    },
    {
     "name": "stdout",
     "output_type": "stream",
     "text": [
      "Epoch 2/30\n",
      "472/472 [==============================] - 8s 17ms/step - loss: 0.9694 - mse: 0.9687 - val_loss: 1.0859 - val_mse: 1.0849\n"
     ]
    },
    {
     "name": "stderr",
     "output_type": "stream",
     "text": [
      "WARNING:absl:Found untraced functions such as dropout_layer_call_fn, dropout_layer_call_and_return_conditional_losses, dropout_1_layer_call_fn, dropout_1_layer_call_and_return_conditional_losses, dropout_2_layer_call_fn while saving (showing 5 of 12). These functions will not be directly callable after loading.\n"
     ]
    },
    {
     "name": "stdout",
     "output_type": "stream",
     "text": [
      "Epoch 3/30\n",
      "472/472 [==============================] - 8s 17ms/step - loss: 0.9099 - mse: 0.9086 - val_loss: 1.1276 - val_mse: 1.1261\n",
      "Epoch 4/30\n",
      "472/472 [==============================] - 8s 17ms/step - loss: 0.8821 - mse: 0.8803 - val_loss: 1.1056 - val_mse: 1.1036\n",
      "Epoch 5/30\n",
      "472/472 [==============================] - 8s 17ms/step - loss: 0.8616 - mse: 0.8593 - val_loss: 1.1239 - val_mse: 1.1213\n",
      "Epoch 6/30\n",
      "472/472 [==============================] - 8s 18ms/step - loss: 0.8384 - mse: 0.8356 - val_loss: 1.1494 - val_mse: 1.1463\n",
      "Epoch 7/30\n",
      "472/472 [==============================] - 8s 17ms/step - loss: 0.8140 - mse: 0.8107 - val_loss: 1.1347 - val_mse: 1.1311\n",
      "test MSE 1.063\n",
      "Epoch 1/30\n",
      "472/472 [==============================] - 14s 18ms/step - loss: 1.5179 - mse: 1.5177 - val_loss: 1.0970 - val_mse: 1.0965\n"
     ]
    },
    {
     "name": "stderr",
     "output_type": "stream",
     "text": [
      "WARNING:absl:Found untraced functions such as dropout_layer_call_fn, dropout_layer_call_and_return_conditional_losses, dropout_1_layer_call_fn, dropout_1_layer_call_and_return_conditional_losses, dropout_2_layer_call_fn while saving (showing 5 of 12). These functions will not be directly callable after loading.\n"
     ]
    },
    {
     "name": "stdout",
     "output_type": "stream",
     "text": [
      "Epoch 2/30\n",
      "472/472 [==============================] - 8s 17ms/step - loss: 0.9652 - mse: 0.9644 - val_loss: 1.0959 - val_mse: 1.0949\n"
     ]
    },
    {
     "name": "stderr",
     "output_type": "stream",
     "text": [
      "WARNING:absl:Found untraced functions such as dropout_layer_call_fn, dropout_layer_call_and_return_conditional_losses, dropout_1_layer_call_fn, dropout_1_layer_call_and_return_conditional_losses, dropout_2_layer_call_fn while saving (showing 5 of 12). These functions will not be directly callable after loading.\n"
     ]
    },
    {
     "name": "stdout",
     "output_type": "stream",
     "text": [
      "Epoch 3/30\n",
      "472/472 [==============================] - 8s 17ms/step - loss: 0.9080 - mse: 0.9068 - val_loss: 1.1169 - val_mse: 1.1154\n",
      "Epoch 4/30\n",
      "472/472 [==============================] - 8s 18ms/step - loss: 0.8816 - mse: 0.8799 - val_loss: 1.1655 - val_mse: 1.1635\n",
      "Epoch 5/30\n",
      "472/472 [==============================] - 8s 18ms/step - loss: 0.8618 - mse: 0.8595 - val_loss: 1.1192 - val_mse: 1.1167\n",
      "Epoch 6/30\n",
      "472/472 [==============================] - 8s 17ms/step - loss: 0.8414 - mse: 0.8386 - val_loss: 1.1610 - val_mse: 1.1580\n",
      "Epoch 7/30\n",
      "472/472 [==============================] - 8s 17ms/step - loss: 0.8192 - mse: 0.8159 - val_loss: 1.1646 - val_mse: 1.1610\n",
      "test MSE 1.0689\n"
     ]
    }
   ],
   "source": [
    "# deepFM\n",
    "dict_deepFM = {'linear_feature_columns': linear_feature_columns, \n",
    "               'dnn_feature_columns': dnn_feature_columns,\n",
    "               'task': 'regression'}\n",
    "ls_result = calc_nn_based_model(df_yelp_all, \n",
    "                                DeepFM, dict_deepFM,\n",
    "                                feature_names, \n",
    "                                'yelp', 'deepFM')\n",
    "all_result.extend(ls_result)"
   ]
  },
  {
   "cell_type": "code",
   "execution_count": 48,
   "metadata": {},
   "outputs": [
    {
     "name": "stdout",
     "output_type": "stream",
     "text": [
      "Epoch 1/30\n",
      "472/472 [==============================] - 15s 19ms/step - loss: 2.6972 - mse: 2.6968 - val_loss: 1.2081 - val_mse: 1.2075\n"
     ]
    },
    {
     "name": "stderr",
     "output_type": "stream",
     "text": [
      "WARNING:absl:Found untraced functions such as dropout_layer_call_fn, dropout_layer_call_and_return_conditional_losses, lambda_layer_call_fn, lambda_layer_call_and_return_conditional_losses while saving (showing 4 of 4). These functions will not be directly callable after loading.\n"
     ]
    },
    {
     "name": "stdout",
     "output_type": "stream",
     "text": [
      "Epoch 2/30\n",
      "472/472 [==============================] - 10s 22ms/step - loss: 1.2022 - mse: 1.2012 - val_loss: 1.1850 - val_mse: 1.1835\n"
     ]
    },
    {
     "name": "stderr",
     "output_type": "stream",
     "text": [
      "WARNING:absl:Found untraced functions such as dropout_layer_call_fn, dropout_layer_call_and_return_conditional_losses, lambda_layer_call_fn, lambda_layer_call_and_return_conditional_losses while saving (showing 4 of 4). These functions will not be directly callable after loading.\n"
     ]
    },
    {
     "name": "stdout",
     "output_type": "stream",
     "text": [
      "Epoch 3/30\n",
      "472/472 [==============================] - 10s 22ms/step - loss: 1.1123 - mse: 1.1095 - val_loss: 1.1269 - val_mse: 1.1225\n"
     ]
    },
    {
     "name": "stderr",
     "output_type": "stream",
     "text": [
      "WARNING:absl:Found untraced functions such as dropout_layer_call_fn, dropout_layer_call_and_return_conditional_losses, lambda_layer_call_fn, lambda_layer_call_and_return_conditional_losses while saving (showing 4 of 4). These functions will not be directly callable after loading.\n"
     ]
    },
    {
     "name": "stdout",
     "output_type": "stream",
     "text": [
      "Epoch 4/30\n",
      "472/472 [==============================] - 11s 22ms/step - loss: 0.9853 - mse: 0.9802 - val_loss: 1.1107 - val_mse: 1.1049\n"
     ]
    },
    {
     "name": "stderr",
     "output_type": "stream",
     "text": [
      "WARNING:absl:Found untraced functions such as dropout_layer_call_fn, dropout_layer_call_and_return_conditional_losses, lambda_layer_call_fn, lambda_layer_call_and_return_conditional_losses while saving (showing 4 of 4). These functions will not be directly callable after loading.\n"
     ]
    },
    {
     "name": "stdout",
     "output_type": "stream",
     "text": [
      "Epoch 5/30\n",
      "472/472 [==============================] - 10s 22ms/step - loss: 0.9314 - mse: 0.9251 - val_loss: 1.1000 - val_mse: 1.0932\n"
     ]
    },
    {
     "name": "stderr",
     "output_type": "stream",
     "text": [
      "WARNING:absl:Found untraced functions such as dropout_layer_call_fn, dropout_layer_call_and_return_conditional_losses, lambda_layer_call_fn, lambda_layer_call_and_return_conditional_losses while saving (showing 4 of 4). These functions will not be directly callable after loading.\n"
     ]
    },
    {
     "name": "stdout",
     "output_type": "stream",
     "text": [
      "Epoch 6/30\n",
      "472/472 [==============================] - 11s 22ms/step - loss: 0.9007 - mse: 0.8934 - val_loss: 1.1076 - val_mse: 1.0999\n",
      "Epoch 7/30\n",
      "472/472 [==============================] - 11s 22ms/step - loss: 0.8807 - mse: 0.8725 - val_loss: 1.1043 - val_mse: 1.0957\n",
      "Epoch 8/30\n",
      "472/472 [==============================] - 11s 22ms/step - loss: 0.8658 - mse: 0.8568 - val_loss: 1.1297 - val_mse: 1.1203\n",
      "Epoch 9/30\n",
      "472/472 [==============================] - 11s 22ms/step - loss: 0.8542 - mse: 0.8444 - val_loss: 1.1188 - val_mse: 1.1086\n",
      "Epoch 10/30\n",
      "472/472 [==============================] - 10s 22ms/step - loss: 0.8442 - mse: 0.8336 - val_loss: 1.1193 - val_mse: 1.1083\n",
      "test MSE 1.0849\n",
      "Epoch 1/30\n",
      "472/472 [==============================] - 14s 19ms/step - loss: 2.6697 - mse: 2.6693 - val_loss: 1.2152 - val_mse: 1.2144\n"
     ]
    },
    {
     "name": "stderr",
     "output_type": "stream",
     "text": [
      "WARNING:absl:Found untraced functions such as dropout_layer_call_fn, dropout_layer_call_and_return_conditional_losses, lambda_layer_call_fn, lambda_layer_call_and_return_conditional_losses while saving (showing 4 of 4). These functions will not be directly callable after loading.\n"
     ]
    },
    {
     "name": "stdout",
     "output_type": "stream",
     "text": [
      "Epoch 2/30\n",
      "472/472 [==============================] - 9s 20ms/step - loss: 1.1987 - mse: 1.1974 - val_loss: 1.1905 - val_mse: 1.1883\n"
     ]
    },
    {
     "name": "stderr",
     "output_type": "stream",
     "text": [
      "WARNING:absl:Found untraced functions such as dropout_layer_call_fn, dropout_layer_call_and_return_conditional_losses, lambda_layer_call_fn, lambda_layer_call_and_return_conditional_losses while saving (showing 4 of 4). These functions will not be directly callable after loading.\n"
     ]
    },
    {
     "name": "stdout",
     "output_type": "stream",
     "text": [
      "Epoch 3/30\n",
      "472/472 [==============================] - 9s 19ms/step - loss: 1.0685 - mse: 1.0644 - val_loss: 1.1318 - val_mse: 1.1265\n"
     ]
    },
    {
     "name": "stderr",
     "output_type": "stream",
     "text": [
      "WARNING:absl:Found untraced functions such as dropout_layer_call_fn, dropout_layer_call_and_return_conditional_losses, lambda_layer_call_fn, lambda_layer_call_and_return_conditional_losses while saving (showing 4 of 4). These functions will not be directly callable after loading.\n"
     ]
    },
    {
     "name": "stdout",
     "output_type": "stream",
     "text": [
      "Epoch 4/30\n",
      "472/472 [==============================] - 10s 20ms/step - loss: 0.9659 - mse: 0.9598 - val_loss: 1.1213 - val_mse: 1.1145\n"
     ]
    },
    {
     "name": "stderr",
     "output_type": "stream",
     "text": [
      "WARNING:absl:Found untraced functions such as dropout_layer_call_fn, dropout_layer_call_and_return_conditional_losses, lambda_layer_call_fn, lambda_layer_call_and_return_conditional_losses while saving (showing 4 of 4). These functions will not be directly callable after loading.\n"
     ]
    },
    {
     "name": "stdout",
     "output_type": "stream",
     "text": [
      "Epoch 5/30\n",
      "472/472 [==============================] - 10s 20ms/step - loss: 0.9222 - mse: 0.9147 - val_loss: 1.1201 - val_mse: 1.1121\n"
     ]
    },
    {
     "name": "stderr",
     "output_type": "stream",
     "text": [
      "WARNING:absl:Found untraced functions such as dropout_layer_call_fn, dropout_layer_call_and_return_conditional_losses, lambda_layer_call_fn, lambda_layer_call_and_return_conditional_losses while saving (showing 4 of 4). These functions will not be directly callable after loading.\n"
     ]
    },
    {
     "name": "stdout",
     "output_type": "stream",
     "text": [
      "Epoch 6/30\n",
      "472/472 [==============================] - 9s 19ms/step - loss: 0.8953 - mse: 0.8868 - val_loss: 1.1142 - val_mse: 1.1053\n"
     ]
    },
    {
     "name": "stderr",
     "output_type": "stream",
     "text": [
      "WARNING:absl:Found untraced functions such as dropout_layer_call_fn, dropout_layer_call_and_return_conditional_losses, lambda_layer_call_fn, lambda_layer_call_and_return_conditional_losses while saving (showing 4 of 4). These functions will not be directly callable after loading.\n"
     ]
    },
    {
     "name": "stdout",
     "output_type": "stream",
     "text": [
      "Epoch 7/30\n",
      "472/472 [==============================] - 10s 21ms/step - loss: 0.8770 - mse: 0.8676 - val_loss: 1.1227 - val_mse: 1.1129\n",
      "Epoch 8/30\n",
      "472/472 [==============================] - 10s 21ms/step - loss: 0.8636 - mse: 0.8534 - val_loss: 1.1337 - val_mse: 1.1231\n",
      "Epoch 9/30\n",
      "472/472 [==============================] - 10s 21ms/step - loss: 0.8530 - mse: 0.8421 - val_loss: 1.1336 - val_mse: 1.1223\n",
      "Epoch 10/30\n",
      "472/472 [==============================] - 10s 21ms/step - loss: 0.8441 - mse: 0.8325 - val_loss: 1.1365 - val_mse: 1.1246\n",
      "Epoch 11/30\n",
      "472/472 [==============================] - 10s 21ms/step - loss: 0.8374 - mse: 0.8252 - val_loss: 1.1386 - val_mse: 1.1260\n",
      "test MSE 1.0749\n",
      "Epoch 1/30\n",
      "472/472 [==============================] - 15s 21ms/step - loss: 2.6666 - mse: 2.6662 - val_loss: 1.2144 - val_mse: 1.2137\n"
     ]
    },
    {
     "name": "stderr",
     "output_type": "stream",
     "text": [
      "WARNING:absl:Found untraced functions such as dropout_layer_call_fn, dropout_layer_call_and_return_conditional_losses, lambda_layer_call_fn, lambda_layer_call_and_return_conditional_losses while saving (showing 4 of 4). These functions will not be directly callable after loading.\n"
     ]
    },
    {
     "name": "stdout",
     "output_type": "stream",
     "text": [
      "Epoch 2/30\n",
      "472/472 [==============================] - 11s 22ms/step - loss: 1.1989 - mse: 1.1978 - val_loss: 1.1909 - val_mse: 1.1892\n"
     ]
    },
    {
     "name": "stderr",
     "output_type": "stream",
     "text": [
      "WARNING:absl:Found untraced functions such as dropout_layer_call_fn, dropout_layer_call_and_return_conditional_losses, lambda_layer_call_fn, lambda_layer_call_and_return_conditional_losses while saving (showing 4 of 4). These functions will not be directly callable after loading.\n"
     ]
    },
    {
     "name": "stdout",
     "output_type": "stream",
     "text": [
      "Epoch 3/30\n",
      "472/472 [==============================] - 11s 23ms/step - loss: 1.0779 - mse: 1.0746 - val_loss: 1.1252 - val_mse: 1.1207\n"
     ]
    },
    {
     "name": "stderr",
     "output_type": "stream",
     "text": [
      "WARNING:absl:Found untraced functions such as dropout_layer_call_fn, dropout_layer_call_and_return_conditional_losses, lambda_layer_call_fn, lambda_layer_call_and_return_conditional_losses while saving (showing 4 of 4). These functions will not be directly callable after loading.\n"
     ]
    },
    {
     "name": "stdout",
     "output_type": "stream",
     "text": [
      "Epoch 4/30\n",
      "472/472 [==============================] - 11s 23ms/step - loss: 0.9641 - mse: 0.9590 - val_loss: 1.1233 - val_mse: 1.1177\n"
     ]
    },
    {
     "name": "stderr",
     "output_type": "stream",
     "text": [
      "WARNING:absl:Found untraced functions such as dropout_layer_call_fn, dropout_layer_call_and_return_conditional_losses, lambda_layer_call_fn, lambda_layer_call_and_return_conditional_losses while saving (showing 4 of 4). These functions will not be directly callable after loading.\n"
     ]
    },
    {
     "name": "stdout",
     "output_type": "stream",
     "text": [
      "Epoch 5/30\n",
      "472/472 [==============================] - 11s 23ms/step - loss: 0.9188 - mse: 0.9126 - val_loss: 1.1239 - val_mse: 1.1172\n"
     ]
    },
    {
     "name": "stderr",
     "output_type": "stream",
     "text": [
      "WARNING:absl:Found untraced functions such as dropout_layer_call_fn, dropout_layer_call_and_return_conditional_losses, lambda_layer_call_fn, lambda_layer_call_and_return_conditional_losses while saving (showing 4 of 4). These functions will not be directly callable after loading.\n"
     ]
    },
    {
     "name": "stdout",
     "output_type": "stream",
     "text": [
      "Epoch 6/30\n",
      "472/472 [==============================] - 11s 22ms/step - loss: 0.8923 - mse: 0.8852 - val_loss: 1.1201 - val_mse: 1.1127\n"
     ]
    },
    {
     "name": "stderr",
     "output_type": "stream",
     "text": [
      "WARNING:absl:Found untraced functions such as dropout_layer_call_fn, dropout_layer_call_and_return_conditional_losses, lambda_layer_call_fn, lambda_layer_call_and_return_conditional_losses while saving (showing 4 of 4). These functions will not be directly callable after loading.\n"
     ]
    },
    {
     "name": "stdout",
     "output_type": "stream",
     "text": [
      "Epoch 7/30\n",
      "472/472 [==============================] - 11s 23ms/step - loss: 0.8741 - mse: 0.8663 - val_loss: 1.1228 - val_mse: 1.1146\n",
      "Epoch 8/30\n",
      "472/472 [==============================] - 10s 22ms/step - loss: 0.8612 - mse: 0.8527 - val_loss: 1.1258 - val_mse: 1.1170\n",
      "Epoch 9/30\n",
      "472/472 [==============================] - 10s 22ms/step - loss: 0.8513 - mse: 0.8421 - val_loss: 1.1315 - val_mse: 1.1221\n",
      "Epoch 10/30\n",
      "472/472 [==============================] - 11s 23ms/step - loss: 0.8438 - mse: 0.8340 - val_loss: 1.1321 - val_mse: 1.1220\n",
      "Epoch 11/30\n",
      "472/472 [==============================] - 11s 23ms/step - loss: 0.8368 - mse: 0.8264 - val_loss: 1.1303 - val_mse: 1.1196\n",
      "test MSE 1.0951\n",
      "Epoch 1/30\n",
      "472/472 [==============================] - 16s 22ms/step - loss: 2.6860 - mse: 2.6857 - val_loss: 1.2069 - val_mse: 1.2064\n"
     ]
    },
    {
     "name": "stderr",
     "output_type": "stream",
     "text": [
      "WARNING:absl:Found untraced functions such as dropout_layer_call_fn, dropout_layer_call_and_return_conditional_losses, lambda_layer_call_fn, lambda_layer_call_and_return_conditional_losses while saving (showing 4 of 4). These functions will not be directly callable after loading.\n"
     ]
    },
    {
     "name": "stdout",
     "output_type": "stream",
     "text": [
      "Epoch 2/30\n",
      "472/472 [==============================] - 11s 23ms/step - loss: 1.2054 - mse: 1.2046 - val_loss: 1.1846 - val_mse: 1.1835\n"
     ]
    },
    {
     "name": "stderr",
     "output_type": "stream",
     "text": [
      "WARNING:absl:Found untraced functions such as dropout_layer_call_fn, dropout_layer_call_and_return_conditional_losses, lambda_layer_call_fn, lambda_layer_call_and_return_conditional_losses while saving (showing 4 of 4). These functions will not be directly callable after loading.\n"
     ]
    },
    {
     "name": "stdout",
     "output_type": "stream",
     "text": [
      "Epoch 3/30\n",
      "472/472 [==============================] - 11s 23ms/step - loss: 1.1562 - mse: 1.1544 - val_loss: 1.1656 - val_mse: 1.1631\n"
     ]
    },
    {
     "name": "stderr",
     "output_type": "stream",
     "text": [
      "WARNING:absl:Found untraced functions such as dropout_layer_call_fn, dropout_layer_call_and_return_conditional_losses, lambda_layer_call_fn, lambda_layer_call_and_return_conditional_losses while saving (showing 4 of 4). These functions will not be directly callable after loading.\n"
     ]
    },
    {
     "name": "stdout",
     "output_type": "stream",
     "text": [
      "Epoch 4/30\n",
      "472/472 [==============================] - 11s 23ms/step - loss: 1.0838 - mse: 1.0799 - val_loss: 1.1127 - val_mse: 1.1073\n"
     ]
    },
    {
     "name": "stderr",
     "output_type": "stream",
     "text": [
      "WARNING:absl:Found untraced functions such as dropout_layer_call_fn, dropout_layer_call_and_return_conditional_losses, lambda_layer_call_fn, lambda_layer_call_and_return_conditional_losses while saving (showing 4 of 4). These functions will not be directly callable after loading.\n"
     ]
    },
    {
     "name": "stdout",
     "output_type": "stream",
     "text": [
      "Epoch 5/30\n",
      "472/472 [==============================] - 11s 24ms/step - loss: 0.9725 - mse: 0.9660 - val_loss: 1.1035 - val_mse: 1.0963\n"
     ]
    },
    {
     "name": "stderr",
     "output_type": "stream",
     "text": [
      "WARNING:absl:Found untraced functions such as dropout_layer_call_fn, dropout_layer_call_and_return_conditional_losses, lambda_layer_call_fn, lambda_layer_call_and_return_conditional_losses while saving (showing 4 of 4). These functions will not be directly callable after loading.\n"
     ]
    },
    {
     "name": "stdout",
     "output_type": "stream",
     "text": [
      "Epoch 6/30\n",
      "472/472 [==============================] - 11s 24ms/step - loss: 0.9225 - mse: 0.9146 - val_loss: 1.1047 - val_mse: 1.0963\n"
     ]
    },
    {
     "name": "stderr",
     "output_type": "stream",
     "text": [
      "WARNING:absl:Found untraced functions such as dropout_layer_call_fn, dropout_layer_call_and_return_conditional_losses, lambda_layer_call_fn, lambda_layer_call_and_return_conditional_losses while saving (showing 4 of 4). These functions will not be directly callable after loading.\n"
     ]
    },
    {
     "name": "stdout",
     "output_type": "stream",
     "text": [
      "Epoch 7/30\n",
      "472/472 [==============================] - 11s 23ms/step - loss: 0.8926 - mse: 0.8835 - val_loss: 1.1041 - val_mse: 1.0945\n"
     ]
    },
    {
     "name": "stderr",
     "output_type": "stream",
     "text": [
      "WARNING:absl:Found untraced functions such as dropout_layer_call_fn, dropout_layer_call_and_return_conditional_losses, lambda_layer_call_fn, lambda_layer_call_and_return_conditional_losses while saving (showing 4 of 4). These functions will not be directly callable after loading.\n"
     ]
    },
    {
     "name": "stdout",
     "output_type": "stream",
     "text": [
      "Epoch 8/30\n",
      "472/472 [==============================] - 11s 23ms/step - loss: 0.8702 - mse: 0.8600 - val_loss: 1.1172 - val_mse: 1.1066\n",
      "Epoch 9/30\n",
      "472/472 [==============================] - 11s 23ms/step - loss: 0.8524 - mse: 0.8412 - val_loss: 1.1239 - val_mse: 1.1122\n",
      "Epoch 10/30\n",
      "472/472 [==============================] - 11s 23ms/step - loss: 0.8363 - mse: 0.8241 - val_loss: 1.1263 - val_mse: 1.1136\n",
      "Epoch 11/30\n",
      "472/472 [==============================] - 11s 23ms/step - loss: 0.8223 - mse: 0.8092 - val_loss: 1.1314 - val_mse: 1.1179\n",
      "Epoch 12/30\n",
      "472/472 [==============================] - 11s 23ms/step - loss: 0.8088 - mse: 0.7949 - val_loss: 1.1524 - val_mse: 1.1380\n",
      "test MSE 1.0754\n",
      "Epoch 1/30\n",
      "472/472 [==============================] - 16s 20ms/step - loss: 2.6696 - mse: 2.6691 - val_loss: 1.2046 - val_mse: 1.2038\n"
     ]
    },
    {
     "name": "stderr",
     "output_type": "stream",
     "text": [
      "WARNING:absl:Found untraced functions such as dropout_layer_call_fn, dropout_layer_call_and_return_conditional_losses, lambda_layer_call_fn, lambda_layer_call_and_return_conditional_losses while saving (showing 4 of 4). These functions will not be directly callable after loading.\n"
     ]
    },
    {
     "name": "stdout",
     "output_type": "stream",
     "text": [
      "Epoch 2/30\n",
      "472/472 [==============================] - 9s 20ms/step - loss: 1.1986 - mse: 1.1973 - val_loss: 1.1813 - val_mse: 1.1791\n"
     ]
    },
    {
     "name": "stderr",
     "output_type": "stream",
     "text": [
      "WARNING:absl:Found untraced functions such as dropout_layer_call_fn, dropout_layer_call_and_return_conditional_losses, lambda_layer_call_fn, lambda_layer_call_and_return_conditional_losses while saving (showing 4 of 4). These functions will not be directly callable after loading.\n"
     ]
    },
    {
     "name": "stdout",
     "output_type": "stream",
     "text": [
      "Epoch 3/30\n",
      "472/472 [==============================] - 9s 20ms/step - loss: 1.0754 - mse: 1.0714 - val_loss: 1.1234 - val_mse: 1.1181\n"
     ]
    },
    {
     "name": "stderr",
     "output_type": "stream",
     "text": [
      "WARNING:absl:Found untraced functions such as dropout_layer_call_fn, dropout_layer_call_and_return_conditional_losses, lambda_layer_call_fn, lambda_layer_call_and_return_conditional_losses while saving (showing 4 of 4). These functions will not be directly callable after loading.\n"
     ]
    },
    {
     "name": "stdout",
     "output_type": "stream",
     "text": [
      "Epoch 4/30\n",
      "472/472 [==============================] - 10s 20ms/step - loss: 0.9669 - mse: 0.9608 - val_loss: 1.1076 - val_mse: 1.1009\n"
     ]
    },
    {
     "name": "stderr",
     "output_type": "stream",
     "text": [
      "WARNING:absl:Found untraced functions such as dropout_layer_call_fn, dropout_layer_call_and_return_conditional_losses, lambda_layer_call_fn, lambda_layer_call_and_return_conditional_losses while saving (showing 4 of 4). These functions will not be directly callable after loading.\n"
     ]
    },
    {
     "name": "stdout",
     "output_type": "stream",
     "text": [
      "Epoch 5/30\n",
      "472/472 [==============================] - 9s 19ms/step - loss: 0.9215 - mse: 0.9141 - val_loss: 1.1205 - val_mse: 1.1126\n",
      "Epoch 6/30\n",
      "472/472 [==============================] - 9s 20ms/step - loss: 0.8956 - mse: 0.8872 - val_loss: 1.1247 - val_mse: 1.1159\n",
      "Epoch 7/30\n",
      "472/472 [==============================] - 9s 20ms/step - loss: 0.8780 - mse: 0.8688 - val_loss: 1.1209 - val_mse: 1.1114\n",
      "Epoch 8/30\n",
      "472/472 [==============================] - 9s 20ms/step - loss: 0.8648 - mse: 0.8548 - val_loss: 1.1299 - val_mse: 1.1196\n",
      "Epoch 9/30\n",
      "472/472 [==============================] - 10s 21ms/step - loss: 0.8555 - mse: 0.8449 - val_loss: 1.1346 - val_mse: 1.1237\n",
      "test MSE 1.087\n"
     ]
    }
   ],
   "source": [
    "# AFM\n",
    "dict_AFM = {'linear_feature_columns': linear_feature_columns,\n",
    "            'dnn_feature_columns': dnn_feature_columns,\n",
    "            'task': 'regression'}\n",
    "ls_result = calc_nn_based_model(df_yelp_all, \n",
    "                                AFM, dict_AFM,\n",
    "                                feature_names, \n",
    "                                'yelp', 'AFM')\n",
    "all_result.extend(ls_result)"
   ]
  },
  {
   "cell_type": "code",
   "execution_count": 49,
   "metadata": {},
   "outputs": [
    {
     "name": "stdout",
     "output_type": "stream",
     "text": [
      "Epoch 1/30\n",
      "472/472 [==============================] - 14s 19ms/step - loss: 1.4801 - mse: 1.4799 - val_loss: 1.1049 - val_mse: 1.1044\n"
     ]
    },
    {
     "name": "stderr",
     "output_type": "stream",
     "text": [
      "WARNING:absl:Found untraced functions such as dropout_layer_call_fn, dropout_layer_call_and_return_conditional_losses, dropout_1_layer_call_fn, dropout_1_layer_call_and_return_conditional_losses, dropout_2_layer_call_fn while saving (showing 5 of 16). These functions will not be directly callable after loading.\n"
     ]
    },
    {
     "name": "stdout",
     "output_type": "stream",
     "text": [
      "Epoch 2/30\n",
      "472/472 [==============================] - 10s 20ms/step - loss: 0.9649 - mse: 0.9641 - val_loss: 1.0953 - val_mse: 1.0943\n"
     ]
    },
    {
     "name": "stderr",
     "output_type": "stream",
     "text": [
      "WARNING:absl:Found untraced functions such as dropout_layer_call_fn, dropout_layer_call_and_return_conditional_losses, dropout_1_layer_call_fn, dropout_1_layer_call_and_return_conditional_losses, dropout_2_layer_call_fn while saving (showing 5 of 16). These functions will not be directly callable after loading.\n"
     ]
    },
    {
     "name": "stdout",
     "output_type": "stream",
     "text": [
      "Epoch 3/30\n",
      "472/472 [==============================] - 9s 20ms/step - loss: 0.9071 - mse: 0.9058 - val_loss: 1.1011 - val_mse: 1.0996\n",
      "Epoch 4/30\n",
      "472/472 [==============================] - 9s 20ms/step - loss: 0.8782 - mse: 0.8764 - val_loss: 1.1280 - val_mse: 1.1259\n",
      "Epoch 5/30\n",
      "472/472 [==============================] - 9s 20ms/step - loss: 0.8545 - mse: 0.8521 - val_loss: 1.1320 - val_mse: 1.1294\n",
      "Epoch 6/30\n",
      "472/472 [==============================] - 10s 20ms/step - loss: 0.8213 - mse: 0.8185 - val_loss: 1.1632 - val_mse: 1.1601\n",
      "Epoch 7/30\n",
      "472/472 [==============================] - 9s 20ms/step - loss: 0.7835 - mse: 0.7802 - val_loss: 1.1517 - val_mse: 1.1481\n",
      "test MSE 1.0675\n",
      "Epoch 1/30\n",
      "472/472 [==============================] - 17s 25ms/step - loss: 1.4701 - mse: 1.4698 - val_loss: 1.1285 - val_mse: 1.1280\n"
     ]
    },
    {
     "name": "stderr",
     "output_type": "stream",
     "text": [
      "WARNING:absl:Found untraced functions such as dropout_layer_call_fn, dropout_layer_call_and_return_conditional_losses, dropout_1_layer_call_fn, dropout_1_layer_call_and_return_conditional_losses, dropout_2_layer_call_fn while saving (showing 5 of 16). These functions will not be directly callable after loading.\n"
     ]
    },
    {
     "name": "stdout",
     "output_type": "stream",
     "text": [
      "Epoch 2/30\n",
      "472/472 [==============================] - 10s 21ms/step - loss: 0.9668 - mse: 0.9660 - val_loss: 1.1045 - val_mse: 1.1035\n"
     ]
    },
    {
     "name": "stderr",
     "output_type": "stream",
     "text": [
      "WARNING:absl:Found untraced functions such as dropout_layer_call_fn, dropout_layer_call_and_return_conditional_losses, dropout_1_layer_call_fn, dropout_1_layer_call_and_return_conditional_losses, dropout_2_layer_call_fn while saving (showing 5 of 16). These functions will not be directly callable after loading.\n"
     ]
    },
    {
     "name": "stdout",
     "output_type": "stream",
     "text": [
      "Epoch 3/30\n",
      "472/472 [==============================] - 10s 22ms/step - loss: 0.9074 - mse: 0.9061 - val_loss: 1.1101 - val_mse: 1.1085\n",
      "Epoch 4/30\n",
      "472/472 [==============================] - 10s 20ms/step - loss: 0.8775 - mse: 0.8757 - val_loss: 1.1140 - val_mse: 1.1119\n",
      "Epoch 5/30\n",
      "472/472 [==============================] - 10s 20ms/step - loss: 0.8540 - mse: 0.8517 - val_loss: 1.1339 - val_mse: 1.1313\n",
      "Epoch 6/30\n",
      "472/472 [==============================] - 10s 21ms/step - loss: 0.8269 - mse: 0.8240 - val_loss: 1.1440 - val_mse: 1.1409\n",
      "Epoch 7/30\n",
      "472/472 [==============================] - 10s 21ms/step - loss: 0.7916 - mse: 0.7883 - val_loss: 1.1498 - val_mse: 1.1462\n",
      "test MSE 1.0581\n",
      "Epoch 1/30\n",
      "472/472 [==============================] - 16s 20ms/step - loss: 1.5002 - mse: 1.5000 - val_loss: 1.1070 - val_mse: 1.1065\n"
     ]
    },
    {
     "name": "stderr",
     "output_type": "stream",
     "text": [
      "WARNING:absl:Found untraced functions such as dropout_layer_call_fn, dropout_layer_call_and_return_conditional_losses, dropout_1_layer_call_fn, dropout_1_layer_call_and_return_conditional_losses, dropout_2_layer_call_fn while saving (showing 5 of 16). These functions will not be directly callable after loading.\n"
     ]
    },
    {
     "name": "stdout",
     "output_type": "stream",
     "text": [
      "Epoch 2/30\n",
      "472/472 [==============================] - 9s 20ms/step - loss: 0.9609 - mse: 0.9601 - val_loss: 1.1034 - val_mse: 1.1024\n"
     ]
    },
    {
     "name": "stderr",
     "output_type": "stream",
     "text": [
      "WARNING:absl:Found untraced functions such as dropout_layer_call_fn, dropout_layer_call_and_return_conditional_losses, dropout_1_layer_call_fn, dropout_1_layer_call_and_return_conditional_losses, dropout_2_layer_call_fn while saving (showing 5 of 16). These functions will not be directly callable after loading.\n"
     ]
    },
    {
     "name": "stdout",
     "output_type": "stream",
     "text": [
      "Epoch 3/30\n",
      "472/472 [==============================] - 9s 20ms/step - loss: 0.9003 - mse: 0.8990 - val_loss: 1.1186 - val_mse: 1.1170\n",
      "Epoch 4/30\n",
      "472/472 [==============================] - 9s 19ms/step - loss: 0.8686 - mse: 0.8668 - val_loss: 1.1225 - val_mse: 1.1204\n",
      "Epoch 5/30\n",
      "472/472 [==============================] - 9s 19ms/step - loss: 0.8369 - mse: 0.8345 - val_loss: 1.1542 - val_mse: 1.1516\n",
      "Epoch 6/30\n",
      "472/472 [==============================] - 9s 20ms/step - loss: 0.8005 - mse: 0.7976 - val_loss: 1.1569 - val_mse: 1.1538\n",
      "Epoch 7/30\n",
      "472/472 [==============================] - 9s 20ms/step - loss: 0.7641 - mse: 0.7608 - val_loss: 1.1611 - val_mse: 1.1575\n",
      "test MSE 1.0756\n",
      "Epoch 1/30\n",
      "472/472 [==============================] - 16s 21ms/step - loss: 1.5187 - mse: 1.5185 - val_loss: 1.1062 - val_mse: 1.1057\n"
     ]
    },
    {
     "name": "stderr",
     "output_type": "stream",
     "text": [
      "WARNING:absl:Found untraced functions such as dropout_layer_call_fn, dropout_layer_call_and_return_conditional_losses, dropout_1_layer_call_fn, dropout_1_layer_call_and_return_conditional_losses, dropout_2_layer_call_fn while saving (showing 5 of 16). These functions will not be directly callable after loading.\n"
     ]
    },
    {
     "name": "stdout",
     "output_type": "stream",
     "text": [
      "Epoch 2/30\n",
      "472/472 [==============================] - 10s 20ms/step - loss: 0.9662 - mse: 0.9654 - val_loss: 1.1061 - val_mse: 1.1050\n"
     ]
    },
    {
     "name": "stderr",
     "output_type": "stream",
     "text": [
      "WARNING:absl:Found untraced functions such as dropout_layer_call_fn, dropout_layer_call_and_return_conditional_losses, dropout_1_layer_call_fn, dropout_1_layer_call_and_return_conditional_losses, dropout_2_layer_call_fn while saving (showing 5 of 16). These functions will not be directly callable after loading.\n"
     ]
    },
    {
     "name": "stdout",
     "output_type": "stream",
     "text": [
      "Epoch 3/30\n",
      "472/472 [==============================] - 9s 20ms/step - loss: 0.9089 - mse: 0.9076 - val_loss: 1.1050 - val_mse: 1.1035\n"
     ]
    },
    {
     "name": "stderr",
     "output_type": "stream",
     "text": [
      "WARNING:absl:Found untraced functions such as dropout_layer_call_fn, dropout_layer_call_and_return_conditional_losses, dropout_1_layer_call_fn, dropout_1_layer_call_and_return_conditional_losses, dropout_2_layer_call_fn while saving (showing 5 of 16). These functions will not be directly callable after loading.\n"
     ]
    },
    {
     "name": "stdout",
     "output_type": "stream",
     "text": [
      "Epoch 4/30\n",
      "472/472 [==============================] - 9s 20ms/step - loss: 0.8807 - mse: 0.8788 - val_loss: 1.1059 - val_mse: 1.1038\n",
      "Epoch 5/30\n",
      "472/472 [==============================] - 10s 20ms/step - loss: 0.8610 - mse: 0.8587 - val_loss: 1.1111 - val_mse: 1.1085\n",
      "Epoch 6/30\n",
      "472/472 [==============================] - 9s 20ms/step - loss: 0.8412 - mse: 0.8383 - val_loss: 1.1089 - val_mse: 1.1057\n",
      "Epoch 7/30\n",
      "472/472 [==============================] - 9s 20ms/step - loss: 0.8122 - mse: 0.8088 - val_loss: 1.1368 - val_mse: 1.1331\n",
      "Epoch 8/30\n",
      "472/472 [==============================] - 9s 20ms/step - loss: 0.7753 - mse: 0.7713 - val_loss: 1.1526 - val_mse: 1.1484\n",
      "test MSE 1.0799\n",
      "Epoch 1/30\n",
      "472/472 [==============================] - 16s 22ms/step - loss: 1.4909 - mse: 1.4906 - val_loss: 1.1175 - val_mse: 1.1170\n"
     ]
    },
    {
     "name": "stderr",
     "output_type": "stream",
     "text": [
      "WARNING:absl:Found untraced functions such as dropout_layer_call_fn, dropout_layer_call_and_return_conditional_losses, dropout_1_layer_call_fn, dropout_1_layer_call_and_return_conditional_losses, dropout_2_layer_call_fn while saving (showing 5 of 16). These functions will not be directly callable after loading.\n"
     ]
    },
    {
     "name": "stdout",
     "output_type": "stream",
     "text": [
      "Epoch 2/30\n",
      "472/472 [==============================] - 11s 23ms/step - loss: 0.9656 - mse: 0.9648 - val_loss: 1.0950 - val_mse: 1.0940\n"
     ]
    },
    {
     "name": "stderr",
     "output_type": "stream",
     "text": [
      "WARNING:absl:Found untraced functions such as dropout_layer_call_fn, dropout_layer_call_and_return_conditional_losses, dropout_1_layer_call_fn, dropout_1_layer_call_and_return_conditional_losses, dropout_2_layer_call_fn while saving (showing 5 of 16). These functions will not be directly callable after loading.\n"
     ]
    },
    {
     "name": "stdout",
     "output_type": "stream",
     "text": [
      "Epoch 3/30\n",
      "472/472 [==============================] - 10s 22ms/step - loss: 0.9056 - mse: 0.9043 - val_loss: 1.1197 - val_mse: 1.1181\n",
      "Epoch 4/30\n",
      "472/472 [==============================] - 10s 22ms/step - loss: 0.8772 - mse: 0.8754 - val_loss: 1.1171 - val_mse: 1.1150\n",
      "Epoch 5/30\n",
      "472/472 [==============================] - 11s 23ms/step - loss: 0.8516 - mse: 0.8493 - val_loss: 1.1397 - val_mse: 1.1371\n",
      "Epoch 6/30\n",
      "472/472 [==============================] - 10s 22ms/step - loss: 0.8232 - mse: 0.8204 - val_loss: 1.1669 - val_mse: 1.1638\n",
      "Epoch 7/30\n",
      "472/472 [==============================] - 11s 23ms/step - loss: 0.7895 - mse: 0.7861 - val_loss: 1.1385 - val_mse: 1.1348\n",
      "test MSE 1.0737\n"
     ]
    }
   ],
   "source": [
    "# xDeepFM\n",
    "dict_xDeepFM = {'linear_feature_columns': linear_feature_columns,\n",
    "                'dnn_feature_columns': dnn_feature_columns,\n",
    "                'task': 'regression'}\n",
    "ls_result = calc_nn_based_model(df_yelp_all, \n",
    "                                xDeepFM, dict_xDeepFM,\n",
    "                                feature_names, \n",
    "                                'yelp', 'xDeepFM')\n",
    "all_result.extend(ls_result)"
   ]
  },
  {
   "cell_type": "code",
   "execution_count": 50,
   "metadata": {},
   "outputs": [],
   "source": [
    "pd.DataFrame(all_result, columns=['model', 'kfold', 'data', 'RMSE', 'Recall', 'NDCG']).to_csv('output/NN_result.csv', index=False)"
   ]
  },
  {
   "cell_type": "code",
   "execution_count": null,
   "metadata": {},
   "outputs": [],
   "source": []
  }
 ],
 "metadata": {
  "kernelspec": {
   "display_name": "jupyterhub",
   "language": "python",
   "name": "python3"
  },
  "language_info": {
   "codemirror_mode": {
    "name": "ipython",
    "version": 3
   },
   "file_extension": ".py",
   "mimetype": "text/x-python",
   "name": "python",
   "nbconvert_exporter": "python",
   "pygments_lexer": "ipython3",
   "version": "3.9.13"
  },
  "orig_nbformat": 4
 },
 "nbformat": 4,
 "nbformat_minor": 2
}
