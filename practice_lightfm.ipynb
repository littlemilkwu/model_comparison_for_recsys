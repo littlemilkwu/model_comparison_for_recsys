{
 "cells": [
  {
   "attachments": {},
   "cell_type": "markdown",
   "metadata": {},
   "source": [
    "## Quick Start\n",
    "* [Quick Start](https://making.lyst.com/lightfm/docs/quickstart.html)\n",
    "* [Examples](https://making.lyst.com/lightfm/docs/examples.html)"
   ]
  },
  {
   "cell_type": "code",
   "execution_count": 1,
   "metadata": {},
   "outputs": [],
   "source": [
    "import numpy as np\n",
    "from lightfm.datasets import fetch_movielens\n",
    "from lightfm import LightFM\n",
    "from lightfm.evaluation import precision_at_k, recall_at_k"
   ]
  },
  {
   "cell_type": "code",
   "execution_count": 2,
   "metadata": {},
   "outputs": [],
   "source": [
    "data = fetch_movielens(min_rating=5.0)"
   ]
  },
  {
   "cell_type": "code",
   "execution_count": 3,
   "metadata": {},
   "outputs": [
    {
     "name": "stdout",
     "output_type": "stream",
     "text": [
      "<943x1682 sparse matrix of type '<class 'numpy.int32'>'\n",
      "\twith 19048 stored elements in COOrdinate format>\n",
      "<943x1682 sparse matrix of type '<class 'numpy.int32'>'\n",
      "\twith 2153 stored elements in COOrdinate format>\n"
     ]
    }
   ],
   "source": [
    "print(repr(data['train']))\n",
    "print(repr(data['test']))"
   ]
  },
  {
   "cell_type": "code",
   "execution_count": 4,
   "metadata": {},
   "outputs": [
    {
     "name": "stdout",
     "output_type": "stream",
     "text": [
      "CPU times: user 2.72 s, sys: 0 ns, total: 2.72 s\n",
      "Wall time: 278 ms\n"
     ]
    },
    {
     "data": {
      "text/plain": [
       "<lightfm.lightfm.LightFM at 0x7fcb9f0e6d90>"
      ]
     },
     "execution_count": 4,
     "metadata": {},
     "output_type": "execute_result"
    }
   ],
   "source": [
    "model = LightFM(loss='bpr')\n",
    "%time model.fit(data['train'], epochs=30, num_threads=10)"
   ]
  },
  {
   "cell_type": "code",
   "execution_count": 5,
   "metadata": {},
   "outputs": [
    {
     "name": "stdout",
     "output_type": "stream",
     "text": [
      "0.4630887\n",
      "0.044121534\n"
     ]
    }
   ],
   "source": [
    "train_precision = precision_at_k(model, data['train'], k=5).mean()\n",
    "test_precision = precision_at_k(model, data['test'], k=5).mean()\n",
    "print(train_precision)\n",
    "print(test_precision)"
   ]
  },
  {
   "attachments": {},
   "cell_type": "markdown",
   "metadata": {},
   "source": [
    "## Building Dataset\n",
    "* [Building Dataset](https://making.lyst.com/lightfm/docs/examples/dataset.html)\n",
    "* [Dataset](https://making.lyst.com/lightfm/docs/lightfm.data.html)"
   ]
  },
  {
   "cell_type": "code",
   "execution_count": 18,
   "metadata": {},
   "outputs": [],
   "source": [
    "import os\n",
    "import zipfile\n",
    "import csv\n",
    "import requests\n",
    "\n",
    "def _download(url: str, dest_path: str):\n",
    "    req = requests.get(url, stream=True)\n",
    "    req.raise_for_status()\n",
    "    with open(dest_path, \"wb\") as fd:\n",
    "        for chunk in req.iter_content(chunk_size=2 ** 20):\n",
    "            fd.write(chunk)\n",
    "\n",
    "def get_data():\n",
    "    ratings_url = (\"http://www2.informatik.uni-freiburg.de/\" \"~cziegler/BX/BX-CSV-Dump.zip\")\n",
    "    if not os.path.exists(\"data\"):\n",
    "        os.makedirs(\"data\")\n",
    "        _download(ratings_url, \"data/data.zip\")\n",
    "    with zipfile.ZipFile(\"data/data.zip\") as archive:\n",
    "        return (\n",
    "            csv.DictReader(\n",
    "                (x.decode(\"utf-8\", \"ignore\") for x in archive.open(\"BX-Book-Ratings.csv\")),\n",
    "                delimiter=\";\",\n",
    "            ),\n",
    "            csv.DictReader(\n",
    "                (x.decode(\"utf-8\", \"ignore\") for x in archive.open(\"BX-Books.csv\")), delimiter=\";\"\n",
    "            ),\n",
    "        )\n",
    "\n",
    "def get_ratings():\n",
    "    return get_data()[0]\n",
    "\n",
    "def get_book_features():\n",
    "    return get_data()[1]"
   ]
  },
  {
   "cell_type": "code",
   "execution_count": 7,
   "metadata": {},
   "outputs": [],
   "source": [
    "import json\n",
    "from itertools import islice\n",
    "ratings, book_features = get_data()"
   ]
  },
  {
   "cell_type": "code",
   "execution_count": 8,
   "metadata": {},
   "outputs": [
    {
     "name": "stdout",
     "output_type": "stream",
     "text": [
      "{\n",
      "    \"User-ID\": \"276725\",\n",
      "    \"ISBN\": \"034545104X\",\n",
      "    \"Book-Rating\": \"0\"\n",
      "}\n",
      "{\n",
      "    \"User-ID\": \"276726\",\n",
      "    \"ISBN\": \"0155061224\",\n",
      "    \"Book-Rating\": \"5\"\n",
      "}\n",
      "----------\n",
      "{\n",
      "    \"ISBN\": \"0195153448\",\n",
      "    \"Book-Title\": \"Classical Mythology\",\n",
      "    \"Book-Author\": \"Mark P. O. Morford\",\n",
      "    \"Year-Of-Publication\": \"2002\",\n",
      "    \"Publisher\": \"Oxford University Press\",\n",
      "    \"Image-URL-S\": \"http://images.amazon.com/images/P/0195153448.01.THUMBZZZ.jpg\",\n",
      "    \"Image-URL-M\": \"http://images.amazon.com/images/P/0195153448.01.MZZZZZZZ.jpg\",\n",
      "    \"Image-URL-L\": \"http://images.amazon.com/images/P/0195153448.01.LZZZZZZZ.jpg\"\n",
      "}\n"
     ]
    }
   ],
   "source": [
    "for row in islice(ratings, 2):\n",
    "    print(json.dumps(row, indent=4))\n",
    "\n",
    "print('-'* 10)\n",
    "\n",
    "for row in islice(book_features, 1):\n",
    "    print(json.dumps(row, indent=4))"
   ]
  },
  {
   "cell_type": "code",
   "execution_count": 9,
   "metadata": {},
   "outputs": [],
   "source": [
    "from lightfm.data import Dataset\n",
    "data = Dataset()\n",
    "data.fit((row['User-ID'] for row in get_ratings()), (row['ISBN'] for row in get_ratings()))"
   ]
  },
  {
   "cell_type": "code",
   "execution_count": 10,
   "metadata": {},
   "outputs": [
    {
     "name": "stdout",
     "output_type": "stream",
     "text": [
      "num of user 105283, items 340553\n"
     ]
    }
   ],
   "source": [
    "print(\"num of user {}, items {}\".format(*data.interactions_shape()))"
   ]
  },
  {
   "attachments": {},
   "cell_type": "markdown",
   "metadata": {},
   "source": [
    "### Build interactions"
   ]
  },
  {
   "cell_type": "code",
   "execution_count": 16,
   "metadata": {},
   "outputs": [
    {
     "name": "stdout",
     "output_type": "stream",
     "text": [
      "<105283x341762 sparse matrix of type '<class 'numpy.int32'>'\n",
      "\twith 1149780 stored elements in COOrdinate format>\n"
     ]
    }
   ],
   "source": [
    "interactions, weight = data.build_interactions(((x['User-ID'], x['ISBN'], int(x['Book-Rating'])) for x in get_ratings()))\n",
    "print(repr(interactions))"
   ]
  },
  {
   "cell_type": "code",
   "execution_count": 17,
   "metadata": {},
   "outputs": [
    {
     "name": "stdout",
     "output_type": "stream",
     "text": [
      "<341762x443805 sparse matrix of type '<class 'numpy.float32'>'\n",
      "\twith 613141 stored elements in Compressed Sparse Row format>\n"
     ]
    }
   ],
   "source": [
    "item_features = data.build_item_features(((x['ISBN'], [x['Book-Author']])\n",
    "                                              for x in get_book_features()))\n",
    "print(repr(item_features))"
   ]
  },
  {
   "cell_type": "code",
   "execution_count": 19,
   "metadata": {},
   "outputs": [
    {
     "data": {
      "text/plain": [
       "<lightfm.lightfm.LightFM at 0x7fca2534f460>"
      ]
     },
     "execution_count": 19,
     "metadata": {},
     "output_type": "execute_result"
    }
   ],
   "source": [
    "model = LightFM()\n",
    "model.fit(interactions, item_features=item_features)"
   ]
  },
  {
   "cell_type": "code",
   "execution_count": null,
   "metadata": {},
   "outputs": [],
   "source": []
  }
 ],
 "metadata": {
  "kernelspec": {
   "display_name": "jupyterhub",
   "language": "python",
   "name": "python3"
  },
  "language_info": {
   "codemirror_mode": {
    "name": "ipython",
    "version": 3
   },
   "file_extension": ".py",
   "mimetype": "text/x-python",
   "name": "python",
   "nbconvert_exporter": "python",
   "pygments_lexer": "ipython3",
   "version": "3.9.13"
  },
  "orig_nbformat": 4
 },
 "nbformat": 4,
 "nbformat_minor": 2
}
