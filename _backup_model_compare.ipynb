{
 "cells": [
  {
   "cell_type": "code",
   "execution_count": 1,
   "metadata": {},
   "outputs": [],
   "source": [
    "import numpy as np\n",
    "from numpy.linalg import norm\n",
    "import pandas as pd\n",
    "from tqdm import tqdm\n",
    "from config import *"
   ]
  },
  {
   "attachments": {},
   "cell_type": "markdown",
   "metadata": {},
   "source": [
    "## UCF"
   ]
  },
  {
   "cell_type": "code",
   "execution_count": 5,
   "metadata": {},
   "outputs": [],
   "source": [
    "class UCF:\n",
    "    def __init__(self, np_user, np_item, df_inter):\n",
    "        self.np_user = np_user\n",
    "        self.np_item = np_item\n",
    "        self.df_inter = df_inter\n",
    "\n",
    "    def substract_mean(self):\n",
    "        ls_mean = []\n",
    "        for user_id in tqdm(self.np_user, desc='Substract Mean'):\n",
    "            mask = self.df_inter['user_id'] == user_id\n",
    "            tmp_mean = self.df_inter.loc[mask, 'rating'].mean()\n",
    "            self.df_inter.loc[mask, 'rating'] = self.df_inter.loc[mask, 'rating'] - tmp_mean\n",
    "            ls_mean.append(tmp_mean)\n",
    "        self.np_mean = np.array(ls_mean)\n",
    "\n",
    "    def calc_similarity(self, user1, user2, type='consine'):\n",
    "        df_u1 = self.df_inter.loc[self.df_inter['user_id'] == user1].drop(columns=['user_id'])\n",
    "        df_u2 = self.df_inter.loc[self.df_inter['user_id'] == user2].drop(columns=['user_id'])\n",
    "        df_merge = df_u1.merge(df_u2, on='item_id', how='outer')\n",
    "        if type == 'consine':\n",
    "            df_merge = df_merge.fillna(0)\n",
    "        elif type == 'pearson':\n",
    "            df_merge = df_merge.dropna()\n",
    "\n",
    "        fraction = (norm(df_merge['rating_x']) * norm(df_merge['rating_y']))\n",
    "        if len(df_merge) == 0 or fraction == 0:\n",
    "            return 0\n",
    "        else:\n",
    "            return np.dot(df_merge['rating_x'], df_merge['rating_y']) / fraction\n",
    "\n",
    "    def calc_all_similarity(self, type='consine'):\n",
    "        ls_sim = []\n",
    "        for user1 in (self.np_user):\n",
    "            for user2 in tqdm(self.np_user):\n",
    "                if user1 == user2:\n",
    "                    continue\n",
    "                sim = self.calc_similarity(user1, user2, type=type)\n",
    "                ls_sim.append([user1, user2, sim])\n",
    "        self.df_similarity = pd.DataFrame(ls_sim, columns=['user1_id', 'user2_id', 'similarity'])\n",
    "\n"
   ]
  },
  {
   "attachments": {},
   "cell_type": "markdown",
   "metadata": {},
   "source": [
    "### douban"
   ]
  },
  {
   "cell_type": "code",
   "execution_count": 6,
   "metadata": {},
   "outputs": [],
   "source": [
    "df_douban_inter = pd.read_csv(data_preprocessing + 'douban_train_interaction.csv')\n",
    "np_douban_user = np.load(data_preprocessing + 'douban_user_unique.npy')\n",
    "np_douban_item = np.load(data_preprocessing + 'douban_item_unique.npy')"
   ]
  },
  {
   "cell_type": "code",
   "execution_count": 7,
   "metadata": {},
   "outputs": [
    {
     "name": "stderr",
     "output_type": "stream",
     "text": [
      "Substract Mean: 100%|██████████| 13024/13024 [00:29<00:00, 435.77it/s]\n",
      "100%|██████████| 13024/13024 [00:59<00:00, 218.59it/s]\n",
      "100%|██████████| 13024/13024 [00:59<00:00, 217.58it/s]\n",
      "100%|██████████| 13024/13024 [00:58<00:00, 221.64it/s]\n",
      "100%|██████████| 13024/13024 [00:59<00:00, 218.22it/s]\n",
      "100%|██████████| 13024/13024 [00:59<00:00, 217.53it/s]\n",
      "  2%|▏         | 271/13024 [00:01<00:57, 221.87it/s]\n"
     ]
    },
    {
     "ename": "KeyboardInterrupt",
     "evalue": "",
     "output_type": "error",
     "traceback": [
      "\u001b[0;31m---------------------------------------------------------------------------\u001b[0m",
      "\u001b[0;31mKeyboardInterrupt\u001b[0m                         Traceback (most recent call last)",
      "\u001b[1;32m/home/littlemilk/MLG/HW3/model_compare.ipynb Cell 6\u001b[0m in \u001b[0;36m3\n\u001b[1;32m      <a href='vscode-notebook-cell://ssh-remote%2Bnetai_940_2_littlemilk/home/littlemilk/MLG/HW3/model_compare.ipynb#W5sdnNjb2RlLXJlbW90ZQ%3D%3D?line=0'>1</a>\u001b[0m ucf_douban \u001b[39m=\u001b[39m UCF(np_douban_user, np_douban_item, df_douban_inter)\n\u001b[1;32m      <a href='vscode-notebook-cell://ssh-remote%2Bnetai_940_2_littlemilk/home/littlemilk/MLG/HW3/model_compare.ipynb#W5sdnNjb2RlLXJlbW90ZQ%3D%3D?line=1'>2</a>\u001b[0m ucf_douban\u001b[39m.\u001b[39msubstract_mean()\n\u001b[0;32m----> <a href='vscode-notebook-cell://ssh-remote%2Bnetai_940_2_littlemilk/home/littlemilk/MLG/HW3/model_compare.ipynb#W5sdnNjb2RlLXJlbW90ZQ%3D%3D?line=2'>3</a>\u001b[0m ucf_douban\u001b[39m.\u001b[39;49mcalc_all_similarity(\u001b[39mtype\u001b[39;49m\u001b[39m=\u001b[39;49m\u001b[39m'\u001b[39;49m\u001b[39mconsine\u001b[39;49m\u001b[39m'\u001b[39;49m)\n",
      "\u001b[1;32m/home/littlemilk/MLG/HW3/model_compare.ipynb Cell 6\u001b[0m in \u001b[0;36m3\n\u001b[1;32m     <a href='vscode-notebook-cell://ssh-remote%2Bnetai_940_2_littlemilk/home/littlemilk/MLG/HW3/model_compare.ipynb#W5sdnNjb2RlLXJlbW90ZQ%3D%3D?line=34'>35</a>\u001b[0m         \u001b[39mif\u001b[39;00m user1 \u001b[39m==\u001b[39m user2:\n\u001b[1;32m     <a href='vscode-notebook-cell://ssh-remote%2Bnetai_940_2_littlemilk/home/littlemilk/MLG/HW3/model_compare.ipynb#W5sdnNjb2RlLXJlbW90ZQ%3D%3D?line=35'>36</a>\u001b[0m             \u001b[39mcontinue\u001b[39;00m\n\u001b[0;32m---> <a href='vscode-notebook-cell://ssh-remote%2Bnetai_940_2_littlemilk/home/littlemilk/MLG/HW3/model_compare.ipynb#W5sdnNjb2RlLXJlbW90ZQ%3D%3D?line=36'>37</a>\u001b[0m         sim \u001b[39m=\u001b[39m \u001b[39mself\u001b[39;49m\u001b[39m.\u001b[39;49mcalc_similarity(user1, user2, \u001b[39mtype\u001b[39;49m\u001b[39m=\u001b[39;49m\u001b[39mtype\u001b[39;49m)\n\u001b[1;32m     <a href='vscode-notebook-cell://ssh-remote%2Bnetai_940_2_littlemilk/home/littlemilk/MLG/HW3/model_compare.ipynb#W5sdnNjb2RlLXJlbW90ZQ%3D%3D?line=37'>38</a>\u001b[0m         ls_sim\u001b[39m.\u001b[39mappend([user1, user2, sim])\n\u001b[1;32m     <a href='vscode-notebook-cell://ssh-remote%2Bnetai_940_2_littlemilk/home/littlemilk/MLG/HW3/model_compare.ipynb#W5sdnNjb2RlLXJlbW90ZQ%3D%3D?line=38'>39</a>\u001b[0m \u001b[39mself\u001b[39m\u001b[39m.\u001b[39mdf_similarity \u001b[39m=\u001b[39m pd\u001b[39m.\u001b[39mDataFrame(ls_sim, columns\u001b[39m=\u001b[39m[\u001b[39m'\u001b[39m\u001b[39muser1_id\u001b[39m\u001b[39m'\u001b[39m, \u001b[39m'\u001b[39m\u001b[39muser2_id\u001b[39m\u001b[39m'\u001b[39m, \u001b[39m'\u001b[39m\u001b[39msimilarity\u001b[39m\u001b[39m'\u001b[39m])\n",
      "\u001b[1;32m/home/littlemilk/MLG/HW3/model_compare.ipynb Cell 6\u001b[0m in \u001b[0;36m1\n\u001b[1;32m     <a href='vscode-notebook-cell://ssh-remote%2Bnetai_940_2_littlemilk/home/littlemilk/MLG/HW3/model_compare.ipynb#W5sdnNjb2RlLXJlbW90ZQ%3D%3D?line=16'>17</a>\u001b[0m df_u1 \u001b[39m=\u001b[39m \u001b[39mself\u001b[39m\u001b[39m.\u001b[39mdf_inter\u001b[39m.\u001b[39mloc[\u001b[39mself\u001b[39m\u001b[39m.\u001b[39mdf_inter[\u001b[39m'\u001b[39m\u001b[39muser_id\u001b[39m\u001b[39m'\u001b[39m] \u001b[39m==\u001b[39m user1]\u001b[39m.\u001b[39mdrop(columns\u001b[39m=\u001b[39m[\u001b[39m'\u001b[39m\u001b[39muser_id\u001b[39m\u001b[39m'\u001b[39m])\n\u001b[1;32m     <a href='vscode-notebook-cell://ssh-remote%2Bnetai_940_2_littlemilk/home/littlemilk/MLG/HW3/model_compare.ipynb#W5sdnNjb2RlLXJlbW90ZQ%3D%3D?line=17'>18</a>\u001b[0m df_u2 \u001b[39m=\u001b[39m \u001b[39mself\u001b[39m\u001b[39m.\u001b[39mdf_inter\u001b[39m.\u001b[39mloc[\u001b[39mself\u001b[39m\u001b[39m.\u001b[39mdf_inter[\u001b[39m'\u001b[39m\u001b[39muser_id\u001b[39m\u001b[39m'\u001b[39m] \u001b[39m==\u001b[39m user2]\u001b[39m.\u001b[39mdrop(columns\u001b[39m=\u001b[39m[\u001b[39m'\u001b[39m\u001b[39muser_id\u001b[39m\u001b[39m'\u001b[39m])\n\u001b[0;32m---> <a href='vscode-notebook-cell://ssh-remote%2Bnetai_940_2_littlemilk/home/littlemilk/MLG/HW3/model_compare.ipynb#W5sdnNjb2RlLXJlbW90ZQ%3D%3D?line=18'>19</a>\u001b[0m df_merge \u001b[39m=\u001b[39m df_u1\u001b[39m.\u001b[39;49mmerge(df_u2, on\u001b[39m=\u001b[39;49m\u001b[39m'\u001b[39;49m\u001b[39mitem_id\u001b[39;49m\u001b[39m'\u001b[39;49m, how\u001b[39m=\u001b[39;49m\u001b[39m'\u001b[39;49m\u001b[39mouter\u001b[39;49m\u001b[39m'\u001b[39;49m)\n\u001b[1;32m     <a href='vscode-notebook-cell://ssh-remote%2Bnetai_940_2_littlemilk/home/littlemilk/MLG/HW3/model_compare.ipynb#W5sdnNjb2RlLXJlbW90ZQ%3D%3D?line=19'>20</a>\u001b[0m \u001b[39mif\u001b[39;00m \u001b[39mtype\u001b[39m \u001b[39m==\u001b[39m \u001b[39m'\u001b[39m\u001b[39mconsine\u001b[39m\u001b[39m'\u001b[39m:\n\u001b[1;32m     <a href='vscode-notebook-cell://ssh-remote%2Bnetai_940_2_littlemilk/home/littlemilk/MLG/HW3/model_compare.ipynb#W5sdnNjb2RlLXJlbW90ZQ%3D%3D?line=20'>21</a>\u001b[0m     df_merge \u001b[39m=\u001b[39m df_merge\u001b[39m.\u001b[39mfillna(\u001b[39m0\u001b[39m)\n",
      "File \u001b[0;32m~/miniconda3/envs/jupyterhub/lib/python3.9/site-packages/pandas/core/frame.py:10080\u001b[0m, in \u001b[0;36mDataFrame.merge\u001b[0;34m(self, right, how, on, left_on, right_on, left_index, right_index, sort, suffixes, copy, indicator, validate)\u001b[0m\n\u001b[1;32m  10061\u001b[0m \u001b[39m@Substitution\u001b[39m(\u001b[39m\"\u001b[39m\u001b[39m\"\u001b[39m)\n\u001b[1;32m  10062\u001b[0m \u001b[39m@Appender\u001b[39m(_merge_doc, indents\u001b[39m=\u001b[39m\u001b[39m2\u001b[39m)\n\u001b[1;32m  10063\u001b[0m \u001b[39mdef\u001b[39;00m \u001b[39mmerge\u001b[39m(\n\u001b[0;32m   (...)\u001b[0m\n\u001b[1;32m  10076\u001b[0m     validate: \u001b[39mstr\u001b[39m \u001b[39m|\u001b[39m \u001b[39mNone\u001b[39;00m \u001b[39m=\u001b[39m \u001b[39mNone\u001b[39;00m,\n\u001b[1;32m  10077\u001b[0m ) \u001b[39m-\u001b[39m\u001b[39m>\u001b[39m DataFrame:\n\u001b[1;32m  10078\u001b[0m     \u001b[39mfrom\u001b[39;00m \u001b[39mpandas\u001b[39;00m\u001b[39m.\u001b[39;00m\u001b[39mcore\u001b[39;00m\u001b[39m.\u001b[39;00m\u001b[39mreshape\u001b[39;00m\u001b[39m.\u001b[39;00m\u001b[39mmerge\u001b[39;00m \u001b[39mimport\u001b[39;00m merge\n\u001b[0;32m> 10080\u001b[0m     \u001b[39mreturn\u001b[39;00m merge(\n\u001b[1;32m  10081\u001b[0m         \u001b[39mself\u001b[39;49m,\n\u001b[1;32m  10082\u001b[0m         right,\n\u001b[1;32m  10083\u001b[0m         how\u001b[39m=\u001b[39;49mhow,\n\u001b[1;32m  10084\u001b[0m         on\u001b[39m=\u001b[39;49mon,\n\u001b[1;32m  10085\u001b[0m         left_on\u001b[39m=\u001b[39;49mleft_on,\n\u001b[1;32m  10086\u001b[0m         right_on\u001b[39m=\u001b[39;49mright_on,\n\u001b[1;32m  10087\u001b[0m         left_index\u001b[39m=\u001b[39;49mleft_index,\n\u001b[1;32m  10088\u001b[0m         right_index\u001b[39m=\u001b[39;49mright_index,\n\u001b[1;32m  10089\u001b[0m         sort\u001b[39m=\u001b[39;49msort,\n\u001b[1;32m  10090\u001b[0m         suffixes\u001b[39m=\u001b[39;49msuffixes,\n\u001b[1;32m  10091\u001b[0m         copy\u001b[39m=\u001b[39;49mcopy,\n\u001b[1;32m  10092\u001b[0m         indicator\u001b[39m=\u001b[39;49mindicator,\n\u001b[1;32m  10093\u001b[0m         validate\u001b[39m=\u001b[39;49mvalidate,\n\u001b[1;32m  10094\u001b[0m     )\n",
      "File \u001b[0;32m~/miniconda3/envs/jupyterhub/lib/python3.9/site-packages/pandas/core/reshape/merge.py:124\u001b[0m, in \u001b[0;36mmerge\u001b[0;34m(left, right, how, on, left_on, right_on, left_index, right_index, sort, suffixes, copy, indicator, validate)\u001b[0m\n\u001b[1;32m     93\u001b[0m \u001b[39m@Substitution\u001b[39m(\u001b[39m\"\u001b[39m\u001b[39m\\n\u001b[39;00m\u001b[39mleft : DataFrame or named Series\u001b[39m\u001b[39m\"\u001b[39m)\n\u001b[1;32m     94\u001b[0m \u001b[39m@Appender\u001b[39m(_merge_doc, indents\u001b[39m=\u001b[39m\u001b[39m0\u001b[39m)\n\u001b[1;32m     95\u001b[0m \u001b[39mdef\u001b[39;00m \u001b[39mmerge\u001b[39m(\n\u001b[0;32m   (...)\u001b[0m\n\u001b[1;32m    108\u001b[0m     validate: \u001b[39mstr\u001b[39m \u001b[39m|\u001b[39m \u001b[39mNone\u001b[39;00m \u001b[39m=\u001b[39m \u001b[39mNone\u001b[39;00m,\n\u001b[1;32m    109\u001b[0m ) \u001b[39m-\u001b[39m\u001b[39m>\u001b[39m DataFrame:\n\u001b[1;32m    110\u001b[0m     op \u001b[39m=\u001b[39m _MergeOperation(\n\u001b[1;32m    111\u001b[0m         left,\n\u001b[1;32m    112\u001b[0m         right,\n\u001b[0;32m   (...)\u001b[0m\n\u001b[1;32m    122\u001b[0m         validate\u001b[39m=\u001b[39mvalidate,\n\u001b[1;32m    123\u001b[0m     )\n\u001b[0;32m--> 124\u001b[0m     \u001b[39mreturn\u001b[39;00m op\u001b[39m.\u001b[39;49mget_result(copy\u001b[39m=\u001b[39;49mcopy)\n",
      "File \u001b[0;32m~/miniconda3/envs/jupyterhub/lib/python3.9/site-packages/pandas/core/reshape/merge.py:785\u001b[0m, in \u001b[0;36m_MergeOperation.get_result\u001b[0;34m(self, copy)\u001b[0m\n\u001b[1;32m    781\u001b[0m     result \u001b[39m=\u001b[39m \u001b[39mself\u001b[39m\u001b[39m.\u001b[39m_indicator_post_merge(result)\n\u001b[1;32m    783\u001b[0m \u001b[39mself\u001b[39m\u001b[39m.\u001b[39m_maybe_add_join_keys(result, left_indexer, right_indexer)\n\u001b[0;32m--> 785\u001b[0m \u001b[39mself\u001b[39;49m\u001b[39m.\u001b[39;49m_maybe_restore_index_levels(result)\n\u001b[1;32m    787\u001b[0m \u001b[39mself\u001b[39m\u001b[39m.\u001b[39m_maybe_drop_cross_column(result, \u001b[39mself\u001b[39m\u001b[39m.\u001b[39m_cross)\n\u001b[1;32m    789\u001b[0m \u001b[39mreturn\u001b[39;00m result\u001b[39m.\u001b[39m__finalize__(\u001b[39mself\u001b[39m, method\u001b[39m=\u001b[39m\u001b[39m\"\u001b[39m\u001b[39mmerge\u001b[39m\u001b[39m\"\u001b[39m)\n",
      "File \u001b[0;32m~/miniconda3/envs/jupyterhub/lib/python3.9/site-packages/pandas/core/reshape/merge.py:880\u001b[0m, in \u001b[0;36m_MergeOperation._maybe_restore_index_levels\u001b[0;34m(self, result)\u001b[0m\n\u001b[1;32m    872\u001b[0m names_to_restore \u001b[39m=\u001b[39m []\n\u001b[1;32m    873\u001b[0m \u001b[39mfor\u001b[39;00m name, left_key, right_key \u001b[39min\u001b[39;00m \u001b[39mzip\u001b[39m(\n\u001b[1;32m    874\u001b[0m     \u001b[39mself\u001b[39m\u001b[39m.\u001b[39mjoin_names, \u001b[39mself\u001b[39m\u001b[39m.\u001b[39mleft_on, \u001b[39mself\u001b[39m\u001b[39m.\u001b[39mright_on\n\u001b[1;32m    875\u001b[0m ):\n\u001b[1;32m    876\u001b[0m     \u001b[39mif\u001b[39;00m (\n\u001b[1;32m    877\u001b[0m         \u001b[39m# Argument 1 to \"_is_level_reference\" of \"NDFrame\" has incompatible\u001b[39;00m\n\u001b[1;32m    878\u001b[0m         \u001b[39m# type \"Union[Hashable, ExtensionArray, Index, Series]\"; expected\u001b[39;00m\n\u001b[1;32m    879\u001b[0m         \u001b[39m# \"Hashable\"\u001b[39;00m\n\u001b[0;32m--> 880\u001b[0m         \u001b[39mself\u001b[39;49m\u001b[39m.\u001b[39;49morig_left\u001b[39m.\u001b[39;49m_is_level_reference(left_key)  \u001b[39m# type: ignore[arg-type]\u001b[39;00m\n\u001b[1;32m    881\u001b[0m         \u001b[39m# Argument 1 to \"_is_level_reference\" of \"NDFrame\" has incompatible\u001b[39;00m\n\u001b[1;32m    882\u001b[0m         \u001b[39m# type \"Union[Hashable, ExtensionArray, Index, Series]\"; expected\u001b[39;00m\n\u001b[1;32m    883\u001b[0m         \u001b[39m# \"Hashable\"\u001b[39;00m\n\u001b[1;32m    884\u001b[0m         \u001b[39mand\u001b[39;00m \u001b[39mself\u001b[39m\u001b[39m.\u001b[39morig_right\u001b[39m.\u001b[39m_is_level_reference(\n\u001b[1;32m    885\u001b[0m             right_key  \u001b[39m# type: ignore[arg-type]\u001b[39;00m\n\u001b[1;32m    886\u001b[0m         )\n\u001b[1;32m    887\u001b[0m         \u001b[39mand\u001b[39;00m left_key \u001b[39m==\u001b[39m right_key\n\u001b[1;32m    888\u001b[0m         \u001b[39mand\u001b[39;00m name \u001b[39mnot\u001b[39;00m \u001b[39min\u001b[39;00m result\u001b[39m.\u001b[39mindex\u001b[39m.\u001b[39mnames\n\u001b[1;32m    889\u001b[0m     ):\n\u001b[1;32m    891\u001b[0m         names_to_restore\u001b[39m.\u001b[39mappend(name)\n\u001b[1;32m    893\u001b[0m \u001b[39mif\u001b[39;00m names_to_restore:\n",
      "File \u001b[0;32m~/miniconda3/envs/jupyterhub/lib/python3.9/site-packages/pandas/core/generic.py:1695\u001b[0m, in \u001b[0;36mNDFrame._is_level_reference\u001b[0;34m(self, key, axis)\u001b[0m\n\u001b[1;32m   1670\u001b[0m \u001b[39m\"\"\"\u001b[39;00m\n\u001b[1;32m   1671\u001b[0m \u001b[39mTest whether a key is a level reference for a given axis.\u001b[39;00m\n\u001b[1;32m   1672\u001b[0m \n\u001b[0;32m   (...)\u001b[0m\n\u001b[1;32m   1688\u001b[0m \u001b[39mis_level : bool\u001b[39;00m\n\u001b[1;32m   1689\u001b[0m \u001b[39m\"\"\"\u001b[39;00m\n\u001b[1;32m   1690\u001b[0m axis \u001b[39m=\u001b[39m \u001b[39mself\u001b[39m\u001b[39m.\u001b[39m_get_axis_number(axis)\n\u001b[1;32m   1692\u001b[0m \u001b[39mreturn\u001b[39;00m (\n\u001b[1;32m   1693\u001b[0m     key \u001b[39mis\u001b[39;00m \u001b[39mnot\u001b[39;00m \u001b[39mNone\u001b[39;00m\n\u001b[1;32m   1694\u001b[0m     \u001b[39mand\u001b[39;00m is_hashable(key)\n\u001b[0;32m-> 1695\u001b[0m     \u001b[39mand\u001b[39;00m key \u001b[39min\u001b[39;00m \u001b[39mself\u001b[39;49m\u001b[39m.\u001b[39;49maxes[axis]\u001b[39m.\u001b[39mnames\n\u001b[1;32m   1696\u001b[0m     \u001b[39mand\u001b[39;00m \u001b[39mnot\u001b[39;00m \u001b[39mself\u001b[39m\u001b[39m.\u001b[39m_is_label_reference(key, axis\u001b[39m=\u001b[39maxis)\n\u001b[1;32m   1697\u001b[0m )\n",
      "File \u001b[0;32m~/miniconda3/envs/jupyterhub/lib/python3.9/site-packages/pandas/core/frame.py:870\u001b[0m, in \u001b[0;36mDataFrame.axes\u001b[0;34m(self)\u001b[0m\n\u001b[1;32m    855\u001b[0m \u001b[39m@property\u001b[39m\n\u001b[1;32m    856\u001b[0m \u001b[39mdef\u001b[39;00m \u001b[39maxes\u001b[39m(\u001b[39mself\u001b[39m) \u001b[39m-\u001b[39m\u001b[39m>\u001b[39m \u001b[39mlist\u001b[39m[Index]:\n\u001b[1;32m    857\u001b[0m     \u001b[39m\"\"\"\u001b[39;00m\n\u001b[1;32m    858\u001b[0m \u001b[39m    Return a list representing the axes of the DataFrame.\u001b[39;00m\n\u001b[1;32m    859\u001b[0m \n\u001b[0;32m   (...)\u001b[0m\n\u001b[1;32m    868\u001b[0m \u001b[39m    dtype='object')]\u001b[39;00m\n\u001b[1;32m    869\u001b[0m \u001b[39m    \"\"\"\u001b[39;00m\n\u001b[0;32m--> 870\u001b[0m     \u001b[39mreturn\u001b[39;00m [\u001b[39mself\u001b[39;49m\u001b[39m.\u001b[39;49mindex, \u001b[39mself\u001b[39m\u001b[39m.\u001b[39mcolumns]\n",
      "\u001b[0;31mKeyboardInterrupt\u001b[0m: "
     ]
    }
   ],
   "source": [
    "ucf_douban = UCF(np_douban_user, np_douban_item, df_douban_inter)\n",
    "ucf_douban.substract_mean()\n",
    "ucf_douban.calc_all_similarity(type='consine')"
   ]
  },
  {
   "cell_type": "code",
   "execution_count": null,
   "metadata": {},
   "outputs": [],
   "source": []
  }
 ],
 "metadata": {
  "kernelspec": {
   "display_name": "jupyterhub",
   "language": "python",
   "name": "python3"
  },
  "language_info": {
   "codemirror_mode": {
    "name": "ipython",
    "version": 3
   },
   "file_extension": ".py",
   "mimetype": "text/x-python",
   "name": "python",
   "nbconvert_exporter": "python",
   "pygments_lexer": "ipython3",
   "version": "3.9.13"
  },
  "orig_nbformat": 4
 },
 "nbformat": 4,
 "nbformat_minor": 2
}
